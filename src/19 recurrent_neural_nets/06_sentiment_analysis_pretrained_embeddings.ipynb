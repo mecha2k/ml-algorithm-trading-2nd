{
 "cells": [
  {
   "cell_type": "markdown",
   "metadata": {},
   "source": [
    "# Sentiment analysis with pretrained word vectors"
   ]
  },
  {
   "cell_type": "markdown",
   "metadata": {},
   "source": [
    "In Chapter 15, Word Embeddings, we discussed how to learn domain-specific word embeddings. Word2vec, and related learning algorithms, produce high-quality word vectors, but require large datasets. Hence, it is common that research groups share word vectors trained on large datasets, similar to the weights for pretrained deep learning models that we encountered in the section on transfer learning in the previous chapter.\n",
    "\n",
    "We are now going to illustrate how to use pretrained Global Vectors for Word Representation (GloVe) provided by the Stanford NLP group with the IMDB review dataset."
   ]
  },
  {
   "cell_type": "code",
   "execution_count": 1,
   "metadata": {
    "ExecuteTime": {
     "end_time": "2020-06-22T02:04:49.456860Z",
     "start_time": "2020-06-22T02:04:47.892482Z"
    }
   },
   "outputs": [],
   "source": [
    "%matplotlib inline\n",
    "\n",
    "from pathlib import Path\n",
    "\n",
    "import numpy as np\n",
    "import pandas as pd\n",
    "\n",
    "from sklearn.metrics import roc_auc_score\n",
    "\n",
    "import tensorflow as tf\n",
    "from tensorflow.keras.callbacks import ModelCheckpoint, EarlyStopping\n",
    "from tensorflow.keras.models import Sequential\n",
    "from tensorflow.keras.layers import Dense, GRU, Embedding\n",
    "from tensorflow.keras.preprocessing.sequence import pad_sequences\n",
    "from tensorflow.keras.preprocessing.text import Tokenizer\n",
    "import tensorflow.keras.backend as K\n",
    "\n",
    "import matplotlib.pyplot as plt\n",
    "import seaborn as sns"
   ]
  },
  {
   "cell_type": "code",
   "execution_count": 2,
   "metadata": {
    "ExecuteTime": {
     "end_time": "2020-06-22T02:04:49.481763Z",
     "start_time": "2020-06-22T02:04:49.458050Z"
    }
   },
   "outputs": [
    {
     "name": "stdout",
     "output_type": "stream",
     "text": [
      "Using GPU\n"
     ]
    }
   ],
   "source": [
    "gpu_devices = tf.config.experimental.list_physical_devices('GPU')\n",
    "if gpu_devices:\n",
    "    print('Using GPU')\n",
    "    tf.config.experimental.set_memory_growth(gpu_devices[0], True)\n",
    "else:\n",
    "    print('Using CPU')"
   ]
  },
  {
   "cell_type": "code",
   "execution_count": 3,
   "metadata": {
    "ExecuteTime": {
     "end_time": "2020-06-22T02:04:49.500467Z",
     "start_time": "2020-06-22T02:04:49.483382Z"
    }
   },
   "outputs": [],
   "source": [
    "sns.set_style('whitegrid')\n",
    "np.random.seed(42)"
   ]
  },
  {
   "cell_type": "code",
   "execution_count": 4,
   "metadata": {
    "ExecuteTime": {
     "end_time": "2020-06-22T02:04:49.508454Z",
     "start_time": "2020-06-22T02:04:49.501980Z"
    }
   },
   "outputs": [],
   "source": [
    "results_path = Path('results', 'sentiment_imdb')\n",
    "if not results_path.exists():\n",
    "    results_path.mkdir(parents=True)"
   ]
  },
  {
   "cell_type": "markdown",
   "metadata": {},
   "source": [
    "## Load Reviews"
   ]
  },
  {
   "cell_type": "markdown",
   "metadata": {},
   "source": [
    "We are going to load the IMDB dataset from the source for manual preprocessing."
   ]
  },
  {
   "cell_type": "markdown",
   "metadata": {},
   "source": [
    "Data source: [Stanford IMDB Reviews Dataset](http://ai.stanford.edu/~amaas/data/sentiment/)"
   ]
  },
  {
   "cell_type": "markdown",
   "metadata": {},
   "source": [
    "Dowload extract, and place the content in a newly created `data` folder so that your directory structure looks as follows:\n",
    "```\n",
    "19_recurrent_neural_nets\n",
    " |-data\n",
    "     |-aclimdb\n",
    "          |-train\n",
    "              |-neg\n",
    "              |-pos\n",
    "              ...\n",
    "          |-test\n",
    "          |-imdb.vocab\n",
    "```"
   ]
  },
  {
   "cell_type": "code",
   "execution_count": 5,
   "metadata": {
    "ExecuteTime": {
     "end_time": "2020-06-22T02:04:49.516778Z",
     "start_time": "2020-06-22T02:04:49.509744Z"
    }
   },
   "outputs": [],
   "source": [
    "path = Path('data', 'aclImdb')"
   ]
  },
  {
   "cell_type": "code",
   "execution_count": 6,
   "metadata": {
    "ExecuteTime": {
     "end_time": "2020-06-22T02:04:50.112409Z",
     "start_time": "2020-06-22T02:04:49.518216Z"
    }
   },
   "outputs": [
    {
     "data": {
      "text/plain": [
       "100006"
      ]
     },
     "execution_count": 6,
     "metadata": {},
     "output_type": "execute_result"
    }
   ],
   "source": [
    "files = path.glob('**/*.txt')\n",
    "len(list(files))"
   ]
  },
  {
   "cell_type": "code",
   "execution_count": 7,
   "metadata": {
    "ExecuteTime": {
     "end_time": "2020-06-22T02:04:52.358704Z",
     "start_time": "2020-06-22T02:04:50.114652Z"
    }
   },
   "outputs": [],
   "source": [
    "files = path.glob('*/**/*.txt')\n",
    "outcomes = set()\n",
    "data = []\n",
    "for f in files:\n",
    "    if f.stem.startswith(('urls_', 'imdbEr')):\n",
    "        continue\n",
    "    _, _, data_set, outcome = f.parent.as_posix().split('/')\n",
    "    if outcome == 'unsup':\n",
    "        continue\n",
    "    data.append([data_set, int(outcome == 'pos'),\n",
    "                 f.read_text(encoding='latin1')])"
   ]
  },
  {
   "cell_type": "code",
   "execution_count": 8,
   "metadata": {
    "ExecuteTime": {
     "end_time": "2020-06-22T02:04:52.392214Z",
     "start_time": "2020-06-22T02:04:52.360014Z"
    }
   },
   "outputs": [],
   "source": [
    "data = pd.DataFrame(data, columns=['dataset', 'label', 'review'])"
   ]
  },
  {
   "cell_type": "code",
   "execution_count": 9,
   "metadata": {
    "ExecuteTime": {
     "end_time": "2020-06-22T02:04:52.405822Z",
     "start_time": "2020-06-22T02:04:52.393730Z"
    }
   },
   "outputs": [
    {
     "name": "stdout",
     "output_type": "stream",
     "text": [
      "<class 'pandas.core.frame.DataFrame'>\n",
      "RangeIndex: 50000 entries, 0 to 49999\n",
      "Data columns (total 3 columns):\n",
      " #   Column   Non-Null Count  Dtype \n",
      "---  ------   --------------  ----- \n",
      " 0   dataset  50000 non-null  object\n",
      " 1   label    50000 non-null  int64 \n",
      " 2   review   50000 non-null  object\n",
      "dtypes: int64(1), object(2)\n",
      "memory usage: 1.1+ MB\n"
     ]
    }
   ],
   "source": [
    "data.info()"
   ]
  },
  {
   "cell_type": "code",
   "execution_count": 10,
   "metadata": {
    "ExecuteTime": {
     "end_time": "2020-06-22T02:04:52.429156Z",
     "start_time": "2020-06-22T02:04:52.407326Z"
    }
   },
   "outputs": [],
   "source": [
    "train_data = data.loc[data.dataset=='train', ['label', 'review']]\n",
    "test_data = data.loc[data.dataset=='test', ['label', 'review']]"
   ]
  },
  {
   "cell_type": "code",
   "execution_count": 11,
   "metadata": {
    "ExecuteTime": {
     "end_time": "2020-06-22T02:04:52.437594Z",
     "start_time": "2020-06-22T02:04:52.430762Z"
    }
   },
   "outputs": [
    {
     "data": {
      "text/plain": [
       "1    12500\n",
       "0    12500\n",
       "Name: label, dtype: int64"
      ]
     },
     "execution_count": 11,
     "metadata": {},
     "output_type": "execute_result"
    }
   ],
   "source": [
    "train_data.label.value_counts()"
   ]
  },
  {
   "cell_type": "code",
   "execution_count": 12,
   "metadata": {
    "ExecuteTime": {
     "end_time": "2020-06-22T02:04:52.447423Z",
     "start_time": "2020-06-22T02:04:52.438638Z"
    }
   },
   "outputs": [
    {
     "data": {
      "text/plain": [
       "1    12500\n",
       "0    12500\n",
       "Name: label, dtype: int64"
      ]
     },
     "execution_count": 12,
     "metadata": {},
     "output_type": "execute_result"
    }
   ],
   "source": [
    "test_data.label.value_counts()"
   ]
  },
  {
   "cell_type": "markdown",
   "metadata": {},
   "source": [
    "## Prepare Data"
   ]
  },
  {
   "cell_type": "markdown",
   "metadata": {},
   "source": [
    "### Tokenizer"
   ]
  },
  {
   "cell_type": "markdown",
   "metadata": {},
   "source": [
    "Keras provides a tokenizer that we use to convert the text documents to integer-encoded sequences, as shown here:"
   ]
  },
  {
   "cell_type": "code",
   "execution_count": 13,
   "metadata": {
    "ExecuteTime": {
     "end_time": "2020-06-22T02:04:56.014314Z",
     "start_time": "2020-06-22T02:04:52.448537Z"
    }
   },
   "outputs": [],
   "source": [
    "num_words = 10000\n",
    "t = Tokenizer(num_words=num_words, \n",
    "              lower=True, \n",
    "              oov_token=2)\n",
    "t.fit_on_texts(train_data.review)"
   ]
  },
  {
   "cell_type": "code",
   "execution_count": 14,
   "metadata": {
    "ExecuteTime": {
     "end_time": "2020-06-22T02:04:56.018430Z",
     "start_time": "2020-06-22T02:04:56.015354Z"
    }
   },
   "outputs": [
    {
     "data": {
      "text/plain": [
       "88586"
      ]
     },
     "execution_count": 14,
     "metadata": {},
     "output_type": "execute_result"
    }
   ],
   "source": [
    "vocab_size = len(t.word_index) + 1\n",
    "vocab_size"
   ]
  },
  {
   "cell_type": "code",
   "execution_count": 15,
   "metadata": {
    "ExecuteTime": {
     "end_time": "2020-06-22T02:05:01.294073Z",
     "start_time": "2020-06-22T02:04:56.019790Z"
    }
   },
   "outputs": [],
   "source": [
    "train_data_encoded = t.texts_to_sequences(train_data.review)\n",
    "test_data_encoded = t.texts_to_sequences(test_data.review)"
   ]
  },
  {
   "cell_type": "code",
   "execution_count": 16,
   "metadata": {
    "ExecuteTime": {
     "end_time": "2020-06-22T02:05:01.297021Z",
     "start_time": "2020-06-22T02:05:01.295116Z"
    }
   },
   "outputs": [],
   "source": [
    "max_length = 100"
   ]
  },
  {
   "cell_type": "markdown",
   "metadata": {},
   "source": [
    "### Pad Sequences"
   ]
  },
  {
   "cell_type": "markdown",
   "metadata": {},
   "source": [
    "We also use the pad_sequences function to convert the list of lists (of unequal length) to stacked sets of padded and truncated arrays for both the train and test datasets:"
   ]
  },
  {
   "cell_type": "code",
   "execution_count": 17,
   "metadata": {
    "ExecuteTime": {
     "end_time": "2020-06-22T02:05:01.528251Z",
     "start_time": "2020-06-22T02:05:01.298431Z"
    }
   },
   "outputs": [
    {
     "data": {
      "text/plain": [
       "(25000, 100)"
      ]
     },
     "execution_count": 17,
     "metadata": {},
     "output_type": "execute_result"
    }
   ],
   "source": [
    "X_train_padded = pad_sequences(train_data_encoded, \n",
    "                            maxlen=max_length, \n",
    "                            padding='post',\n",
    "                           truncating='post')\n",
    "y_train = train_data['label']\n",
    "X_train_padded.shape"
   ]
  },
  {
   "cell_type": "code",
   "execution_count": 18,
   "metadata": {
    "ExecuteTime": {
     "end_time": "2020-06-22T02:05:01.736405Z",
     "start_time": "2020-06-22T02:05:01.529746Z"
    },
    "scrolled": true
   },
   "outputs": [
    {
     "data": {
      "text/plain": [
       "(25000, 100)"
      ]
     },
     "execution_count": 18,
     "metadata": {},
     "output_type": "execute_result"
    }
   ],
   "source": [
    "X_test_padded = pad_sequences(test_data_encoded, \n",
    "                            maxlen=max_length, \n",
    "                            padding='post',\n",
    "                           truncating='post')\n",
    "y_test = test_data['label']\n",
    "X_test_padded.shape"
   ]
  },
  {
   "cell_type": "markdown",
   "metadata": {},
   "source": [
    "## Load Embeddings"
   ]
  },
  {
   "cell_type": "markdown",
   "metadata": {},
   "source": [
    "Assuming we have downloaded and unzipped the GloVe data to the location indicated in the code, we now create a dictionary that maps GloVe tokens to 100-dimensional real-valued vectors, as follows:"
   ]
  },
  {
   "cell_type": "code",
   "execution_count": 19,
   "metadata": {
    "ExecuteTime": {
     "end_time": "2020-06-22T02:05:10.525330Z",
     "start_time": "2020-06-22T02:05:01.737500Z"
    }
   },
   "outputs": [],
   "source": [
    "# load the whole embedding into memory\n",
    "glove_path = Path('..', 'data', 'glove', 'glove.6B.100d.txt')\n",
    "embeddings_index = dict()\n",
    "\n",
    "for line in glove_path.open(encoding='latin1'):\n",
    "    values = line.split()\n",
    "    word = values[0]\n",
    "    try:\n",
    "        coefs = np.asarray(values[1:], dtype='float32')\n",
    "    except:\n",
    "        continue\n",
    "    embeddings_index[word] = coefs"
   ]
  },
  {
   "cell_type": "code",
   "execution_count": 20,
   "metadata": {
    "ExecuteTime": {
     "end_time": "2020-06-22T02:05:10.532582Z",
     "start_time": "2020-06-22T02:05:10.526588Z"
    }
   },
   "outputs": [
    {
     "name": "stdout",
     "output_type": "stream",
     "text": [
      "Loaded 399,883 word vectors.\n"
     ]
    }
   ],
   "source": [
    "print('Loaded {:,d} word vectors.'.format(len(embeddings_index)))"
   ]
  },
  {
   "cell_type": "markdown",
   "metadata": {},
   "source": [
    "There are around 340,000 word vectors that we use to create an embedding matrix that matches the vocabulary so that the RNN model can access embeddings by the token index:"
   ]
  },
  {
   "cell_type": "code",
   "execution_count": 21,
   "metadata": {
    "ExecuteTime": {
     "end_time": "2020-06-22T02:05:10.640429Z",
     "start_time": "2020-06-22T02:05:10.536782Z"
    }
   },
   "outputs": [],
   "source": [
    "embedding_matrix = np.zeros((vocab_size, 100))\n",
    "for word, i in t.word_index.items():\n",
    "    embedding_vector = embeddings_index.get(word)\n",
    "    if embedding_vector is not None:\n",
    "        embedding_matrix[i] = embedding_vector"
   ]
  },
  {
   "cell_type": "code",
   "execution_count": 22,
   "metadata": {
    "ExecuteTime": {
     "end_time": "2020-06-22T02:05:10.645980Z",
     "start_time": "2020-06-22T02:05:10.642780Z"
    }
   },
   "outputs": [
    {
     "data": {
      "text/plain": [
       "(88586, 100)"
      ]
     },
     "execution_count": 22,
     "metadata": {},
     "output_type": "execute_result"
    }
   ],
   "source": [
    "embedding_matrix.shape"
   ]
  },
  {
   "cell_type": "markdown",
   "metadata": {},
   "source": [
    "## Define Model Architecture"
   ]
  },
  {
   "cell_type": "markdown",
   "metadata": {},
   "source": [
    "The difference between this and the RNN setup in the previous example is that we are going to pass the embedding matrix to the embedding layer and set it to non-trainable, so that the weights remain fixed during training:"
   ]
  },
  {
   "cell_type": "code",
   "execution_count": 23,
   "metadata": {
    "ExecuteTime": {
     "end_time": "2020-06-22T02:05:10.655959Z",
     "start_time": "2020-06-22T02:05:10.647346Z"
    }
   },
   "outputs": [],
   "source": [
    "embedding_size = 100"
   ]
  },
  {
   "cell_type": "code",
   "execution_count": 24,
   "metadata": {
    "ExecuteTime": {
     "end_time": "2020-06-22T02:05:11.430030Z",
     "start_time": "2020-06-22T02:05:10.657045Z"
    }
   },
   "outputs": [
    {
     "name": "stdout",
     "output_type": "stream",
     "text": [
      "WARNING:tensorflow:Layer gru will not use cuDNN kernel since it doesn't meet the cuDNN kernel criteria. It will use generic GPU kernel as fallback when running on GPU\n",
      "Model: \"sequential\"\n",
      "_________________________________________________________________\n",
      "Layer (type)                 Output Shape              Param #   \n",
      "=================================================================\n",
      "embedding (Embedding)        (None, 100, 100)          8858600   \n",
      "_________________________________________________________________\n",
      "gru (GRU)                    (None, 32)                12864     \n",
      "_________________________________________________________________\n",
      "dense (Dense)                (None, 1)                 33        \n",
      "=================================================================\n",
      "Total params: 8,871,497\n",
      "Trainable params: 12,897\n",
      "Non-trainable params: 8,858,600\n",
      "_________________________________________________________________\n"
     ]
    }
   ],
   "source": [
    "rnn = Sequential([\n",
    "    Embedding(input_dim=vocab_size, \n",
    "              output_dim= embedding_size, \n",
    "              input_length=max_length,\n",
    "              weights=[embedding_matrix], \n",
    "              trainable=False),\n",
    "    GRU(units=32,  dropout=0.2, recurrent_dropout=0.2),\n",
    "    Dense(1, activation='sigmoid')\n",
    "])\n",
    "rnn.summary()"
   ]
  },
  {
   "cell_type": "code",
   "execution_count": 25,
   "metadata": {
    "ExecuteTime": {
     "end_time": "2020-06-22T02:05:11.447652Z",
     "start_time": "2020-06-22T02:05:11.431729Z"
    }
   },
   "outputs": [],
   "source": [
    "rnn.compile(loss='binary_crossentropy',\n",
    "            optimizer='RMSProp',\n",
    "            metrics=['accuracy', \n",
    "                     tf.keras.metrics.AUC(name='AUC')])"
   ]
  },
  {
   "cell_type": "code",
   "execution_count": 26,
   "metadata": {
    "ExecuteTime": {
     "end_time": "2020-06-22T02:05:11.451611Z",
     "start_time": "2020-06-22T02:05:11.448767Z"
    }
   },
   "outputs": [],
   "source": [
    "rnn_path = (results_path / 'lstm.pretrained.h5').as_posix()\n",
    "\n",
    "checkpointer = ModelCheckpoint(filepath=rnn_path,\n",
    "                               verbose=1,\n",
    "                               monitor='val_AUC',\n",
    "                               mode='max',\n",
    "                               save_best_only=True)"
   ]
  },
  {
   "cell_type": "code",
   "execution_count": 27,
   "metadata": {
    "ExecuteTime": {
     "end_time": "2020-06-22T02:05:11.460622Z",
     "start_time": "2020-06-22T02:05:11.452801Z"
    }
   },
   "outputs": [],
   "source": [
    "early_stopping = EarlyStopping(monitor='val_AUC',\n",
    "                               patience=5,\n",
    "                               mode='max',\n",
    "                               restore_best_weights=True)"
   ]
  },
  {
   "cell_type": "code",
   "execution_count": 28,
   "metadata": {
    "ExecuteTime": {
     "end_time": "2020-06-22T03:10:16.203484Z",
     "start_time": "2020-06-22T02:05:11.462525Z"
    }
   },
   "outputs": [
    {
     "name": "stdout",
     "output_type": "stream",
     "text": [
      "Epoch 1/100\n",
      "782/782 [==============================] - ETA: 0s - loss: 0.6269 - accuracy: 0.6328 - AUC: 0.6954\n",
      "Epoch 00001: val_AUC improved from -inf to 0.83162, saving model to results/sentiment_imdb/lstm.pretrained.h5\n",
      "782/782 [==============================] - 131s 168ms/step - loss: 0.6269 - accuracy: 0.6328 - AUC: 0.6954 - val_loss: 0.5199 - val_accuracy: 0.7478 - val_AUC: 0.8316\n",
      "Epoch 2/100\n",
      "782/782 [==============================] - ETA: 0s - loss: 0.4905 - accuracy: 0.7682 - AUC: 0.8432\n",
      "Epoch 00002: val_AUC improved from 0.83162 to 0.86697, saving model to results/sentiment_imdb/lstm.pretrained.h5\n",
      "782/782 [==============================] - 133s 170ms/step - loss: 0.4905 - accuracy: 0.7682 - AUC: 0.8432 - val_loss: 0.5451 - val_accuracy: 0.7290 - val_AUC: 0.8670\n",
      "Epoch 3/100\n",
      "782/782 [==============================] - ETA: 0s - loss: 0.4498 - accuracy: 0.7875 - AUC: 0.8707\n",
      "Epoch 00003: val_AUC improved from 0.86697 to 0.88566, saving model to results/sentiment_imdb/lstm.pretrained.h5\n",
      "782/782 [==============================] - 133s 170ms/step - loss: 0.4498 - accuracy: 0.7875 - AUC: 0.8707 - val_loss: 0.4291 - val_accuracy: 0.7997 - val_AUC: 0.8857\n",
      "Epoch 4/100\n",
      "782/782 [==============================] - ETA: 0s - loss: 0.4305 - accuracy: 0.8001 - AUC: 0.8822\n",
      "Epoch 00004: val_AUC improved from 0.88566 to 0.89492, saving model to results/sentiment_imdb/lstm.pretrained.h5\n",
      "782/782 [==============================] - 133s 170ms/step - loss: 0.4305 - accuracy: 0.8001 - AUC: 0.8822 - val_loss: 0.4165 - val_accuracy: 0.8040 - val_AUC: 0.8949\n",
      "Epoch 5/100\n",
      "782/782 [==============================] - ETA: 0s - loss: 0.4191 - accuracy: 0.8036 - AUC: 0.8887\n",
      "Epoch 00005: val_AUC improved from 0.89492 to 0.89769, saving model to results/sentiment_imdb/lstm.pretrained.h5\n",
      "782/782 [==============================] - 133s 170ms/step - loss: 0.4191 - accuracy: 0.8036 - AUC: 0.8887 - val_loss: 0.4061 - val_accuracy: 0.8110 - val_AUC: 0.8977\n",
      "Epoch 6/100\n",
      "782/782 [==============================] - ETA: 0s - loss: 0.4078 - accuracy: 0.8110 - AUC: 0.8952\n",
      "Epoch 00006: val_AUC improved from 0.89769 to 0.90042, saving model to results/sentiment_imdb/lstm.pretrained.h5\n",
      "782/782 [==============================] - 136s 174ms/step - loss: 0.4078 - accuracy: 0.8110 - AUC: 0.8952 - val_loss: 0.4598 - val_accuracy: 0.7818 - val_AUC: 0.9004\n",
      "Epoch 7/100\n",
      "782/782 [==============================] - ETA: 0s - loss: 0.3983 - accuracy: 0.8162 - AUC: 0.9004\n",
      "Epoch 00007: val_AUC improved from 0.90042 to 0.90235, saving model to results/sentiment_imdb/lstm.pretrained.h5\n",
      "782/782 [==============================] - 133s 170ms/step - loss: 0.3983 - accuracy: 0.8162 - AUC: 0.9004 - val_loss: 0.4249 - val_accuracy: 0.7991 - val_AUC: 0.9024\n",
      "Epoch 8/100\n",
      "782/782 [==============================] - ETA: 0s - loss: 0.3923 - accuracy: 0.8218 - AUC: 0.9035\n",
      "Epoch 00008: val_AUC improved from 0.90235 to 0.90531, saving model to results/sentiment_imdb/lstm.pretrained.h5\n",
      "782/782 [==============================] - 134s 171ms/step - loss: 0.3923 - accuracy: 0.8218 - AUC: 0.9035 - val_loss: 0.3922 - val_accuracy: 0.8213 - val_AUC: 0.9053\n",
      "Epoch 9/100\n",
      "782/782 [==============================] - ETA: 0s - loss: 0.3860 - accuracy: 0.8234 - AUC: 0.9067\n",
      "Epoch 00009: val_AUC improved from 0.90531 to 0.90533, saving model to results/sentiment_imdb/lstm.pretrained.h5\n",
      "782/782 [==============================] - 146s 187ms/step - loss: 0.3860 - accuracy: 0.8234 - AUC: 0.9067 - val_loss: 0.4048 - val_accuracy: 0.8102 - val_AUC: 0.9053\n",
      "Epoch 10/100\n",
      "782/782 [==============================] - ETA: 0s - loss: 0.3773 - accuracy: 0.8279 - AUC: 0.9111\n",
      "Epoch 00010: val_AUC improved from 0.90533 to 0.90659, saving model to results/sentiment_imdb/lstm.pretrained.h5\n",
      "782/782 [==============================] - 171s 219ms/step - loss: 0.3773 - accuracy: 0.8279 - AUC: 0.9111 - val_loss: 0.3887 - val_accuracy: 0.8209 - val_AUC: 0.9066\n",
      "Epoch 11/100\n",
      "782/782 [==============================] - ETA: 0s - loss: 0.3718 - accuracy: 0.8319 - AUC: 0.9138\n",
      "Epoch 00011: val_AUC improved from 0.90659 to 0.90967, saving model to results/sentiment_imdb/lstm.pretrained.h5\n",
      "782/782 [==============================] - 136s 173ms/step - loss: 0.3718 - accuracy: 0.8319 - AUC: 0.9138 - val_loss: 0.3806 - val_accuracy: 0.8260 - val_AUC: 0.9097\n",
      "Epoch 12/100\n",
      "782/782 [==============================] - ETA: 0s - loss: 0.3677 - accuracy: 0.8346 - AUC: 0.9159\n",
      "Epoch 00012: val_AUC did not improve from 0.90967\n",
      "782/782 [==============================] - 132s 169ms/step - loss: 0.3677 - accuracy: 0.8346 - AUC: 0.9159 - val_loss: 0.3918 - val_accuracy: 0.8228 - val_AUC: 0.9095\n",
      "Epoch 13/100\n",
      "782/782 [==============================] - ETA: 0s - loss: 0.3606 - accuracy: 0.8369 - AUC: 0.9191\n",
      "Epoch 00013: val_AUC did not improve from 0.90967\n",
      "782/782 [==============================] - 133s 170ms/step - loss: 0.3606 - accuracy: 0.8369 - AUC: 0.9191 - val_loss: 0.3951 - val_accuracy: 0.8206 - val_AUC: 0.9089\n",
      "Epoch 14/100\n",
      "782/782 [==============================] - ETA: 0s - loss: 0.3543 - accuracy: 0.8430 - AUC: 0.9221\n",
      "Epoch 00014: val_AUC improved from 0.90967 to 0.91014, saving model to results/sentiment_imdb/lstm.pretrained.h5\n",
      "782/782 [==============================] - 134s 171ms/step - loss: 0.3543 - accuracy: 0.8430 - AUC: 0.9221 - val_loss: 0.3804 - val_accuracy: 0.8255 - val_AUC: 0.9101\n",
      "Epoch 15/100\n",
      "782/782 [==============================] - ETA: 0s - loss: 0.3510 - accuracy: 0.8423 - AUC: 0.9236\n",
      "Epoch 00015: val_AUC did not improve from 0.91014\n",
      "782/782 [==============================] - 152s 195ms/step - loss: 0.3510 - accuracy: 0.8423 - AUC: 0.9236 - val_loss: 0.3835 - val_accuracy: 0.8236 - val_AUC: 0.9099\n",
      "Epoch 16/100\n",
      "782/782 [==============================] - ETA: 0s - loss: 0.3478 - accuracy: 0.8433 - AUC: 0.9250\n",
      "Epoch 00016: val_AUC did not improve from 0.91014\n",
      "782/782 [==============================] - 126s 161ms/step - loss: 0.3478 - accuracy: 0.8433 - AUC: 0.9250 - val_loss: 0.4326 - val_accuracy: 0.7987 - val_AUC: 0.9097\n",
      "Epoch 17/100\n",
      "782/782 [==============================] - ETA: 0s - loss: 0.3461 - accuracy: 0.8445 - AUC: 0.9257\n",
      "Epoch 00017: val_AUC improved from 0.91014 to 0.91162, saving model to results/sentiment_imdb/lstm.pretrained.h5\n",
      "782/782 [==============================] - 127s 162ms/step - loss: 0.3461 - accuracy: 0.8445 - AUC: 0.9257 - val_loss: 0.3912 - val_accuracy: 0.8201 - val_AUC: 0.9116\n",
      "Epoch 18/100\n",
      "782/782 [==============================] - ETA: 0s - loss: 0.3406 - accuracy: 0.8473 - AUC: 0.9282\n",
      "Epoch 00018: val_AUC did not improve from 0.91162\n",
      "782/782 [==============================] - 134s 171ms/step - loss: 0.3406 - accuracy: 0.8473 - AUC: 0.9282 - val_loss: 0.3840 - val_accuracy: 0.8259 - val_AUC: 0.9108\n",
      "Epoch 19/100\n",
      "782/782 [==============================] - ETA: 0s - loss: 0.3382 - accuracy: 0.8510 - AUC: 0.9292\n",
      "Epoch 00019: val_AUC did not improve from 0.91162\n",
      "782/782 [==============================] - 164s 210ms/step - loss: 0.3382 - accuracy: 0.8510 - AUC: 0.9292 - val_loss: 0.3818 - val_accuracy: 0.8258 - val_AUC: 0.9114\n",
      "Epoch 20/100\n",
      "782/782 [==============================] - ETA: 0s - loss: 0.3382 - accuracy: 0.8493 - AUC: 0.9293\n",
      "Epoch 00020: val_AUC did not improve from 0.91162\n",
      "782/782 [==============================] - 193s 247ms/step - loss: 0.3382 - accuracy: 0.8493 - AUC: 0.9293 - val_loss: 0.3991 - val_accuracy: 0.8181 - val_AUC: 0.9112\n",
      "Epoch 21/100\n",
      "782/782 [==============================] - ETA: 0s - loss: 0.3334 - accuracy: 0.8523 - AUC: 0.9313\n",
      "Epoch 00021: val_AUC did not improve from 0.91162\n",
      "782/782 [==============================] - 199s 254ms/step - loss: 0.3334 - accuracy: 0.8523 - AUC: 0.9313 - val_loss: 0.3942 - val_accuracy: 0.8181 - val_AUC: 0.9112\n",
      "Epoch 22/100\n",
      "782/782 [==============================] - ETA: 0s - loss: 0.3304 - accuracy: 0.8519 - AUC: 0.9326\n",
      "Epoch 00022: val_AUC improved from 0.91162 to 0.91185, saving model to results/sentiment_imdb/lstm.pretrained.h5\n",
      "782/782 [==============================] - 190s 243ms/step - loss: 0.3304 - accuracy: 0.8519 - AUC: 0.9326 - val_loss: 0.3875 - val_accuracy: 0.8265 - val_AUC: 0.9119\n",
      "Epoch 23/100\n",
      "782/782 [==============================] - ETA: 0s - loss: 0.3272 - accuracy: 0.8556 - AUC: 0.9341\n",
      "Epoch 00023: val_AUC did not improve from 0.91185\n",
      "782/782 [==============================] - 179s 229ms/step - loss: 0.3272 - accuracy: 0.8556 - AUC: 0.9341 - val_loss: 0.4153 - val_accuracy: 0.8175 - val_AUC: 0.9105\n",
      "Epoch 24/100\n",
      "782/782 [==============================] - ETA: 0s - loss: 0.3243 - accuracy: 0.8582 - AUC: 0.9351\n",
      "Epoch 00024: val_AUC did not improve from 0.91185\n",
      "782/782 [==============================] - 130s 166ms/step - loss: 0.3243 - accuracy: 0.8582 - AUC: 0.9351 - val_loss: 0.3967 - val_accuracy: 0.8163 - val_AUC: 0.9102\n",
      "Epoch 25/100\n",
      "782/782 [==============================] - ETA: 0s - loss: 0.3218 - accuracy: 0.8589 - AUC: 0.9362\n",
      "Epoch 00025: val_AUC did not improve from 0.91185\n",
      "782/782 [==============================] - 129s 164ms/step - loss: 0.3218 - accuracy: 0.8589 - AUC: 0.9362 - val_loss: 0.3866 - val_accuracy: 0.8253 - val_AUC: 0.9113\n",
      "Epoch 26/100\n",
      "782/782 [==============================] - ETA: 0s - loss: 0.3228 - accuracy: 0.8567 - AUC: 0.9357\n",
      "Epoch 00026: val_AUC did not improve from 0.91185\n",
      "782/782 [==============================] - 130s 167ms/step - loss: 0.3228 - accuracy: 0.8567 - AUC: 0.9357 - val_loss: 0.4089 - val_accuracy: 0.8113 - val_AUC: 0.9110\n",
      "Epoch 27/100\n",
      "782/782 [==============================] - ETA: 0s - loss: 0.3192 - accuracy: 0.8578 - AUC: 0.9372\n",
      "Epoch 00027: val_AUC did not improve from 0.91185\n",
      "782/782 [==============================] - 128s 164ms/step - loss: 0.3192 - accuracy: 0.8578 - AUC: 0.9372 - val_loss: 0.3929 - val_accuracy: 0.8203 - val_AUC: 0.9117\n"
     ]
    }
   ],
   "source": [
    "training = rnn.fit(X_train_padded,\n",
    "                   y_train,\n",
    "                   batch_size=32,\n",
    "                   epochs=100,\n",
    "                   validation_data=(X_test_padded,\n",
    "                                    y_test),\n",
    "                   callbacks=[early_stopping,\n",
    "                              checkpointer],\n",
    "                   verbose=1)"
   ]
  },
  {
   "cell_type": "code",
   "execution_count": 29,
   "metadata": {
    "ExecuteTime": {
     "end_time": "2020-06-22T03:10:28.000261Z",
     "start_time": "2020-06-22T03:10:16.205253Z"
    }
   },
   "outputs": [
    {
     "data": {
      "text/plain": [
       "0.9119141408"
      ]
     },
     "execution_count": 29,
     "metadata": {},
     "output_type": "execute_result"
    }
   ],
   "source": [
    "y_score = rnn.predict(X_test_padded)\n",
    "roc_auc_score(y_score=y_score.squeeze(), y_true=y_test)"
   ]
  },
  {
   "cell_type": "code",
   "execution_count": 30,
   "metadata": {
    "ExecuteTime": {
     "end_time": "2020-06-22T03:10:28.817800Z",
     "start_time": "2020-06-22T03:10:28.001310Z"
    }
   },
   "outputs": [
    {
     "data": {
      "image/png": "[encoded data removed]",
      "text/plain": [
       "<Figure size 1008x288 with 2 Axes>"
      ]
     },
     "metadata": {},
     "output_type": "display_data"
    }
   ],
   "source": [
    "df = pd.DataFrame(training.history)\n",
    "best_auc = df.val_AUC.max()\n",
    "best_acc = df.val_accuracy.max()\n",
    "\n",
    "fig, axes = plt.subplots(ncols=2, figsize=(14,4))\n",
    "df.index = df.index.to_series().add(1)\n",
    "df[['AUC', 'val_AUC']].plot(ax=axes[0], \n",
    "                            title=f'AUC | Best: {best_auc:.4f}', \n",
    "                            legend=False, \n",
    "                            xlim=(1, 33),\n",
    "                            ylim=(.7, .95))\n",
    "\n",
    "axes[0].axvline(df.val_AUC.idxmax(), ls='--', lw=1, c='k')\n",
    "df[['accuracy', 'val_accuracy']].plot(ax=axes[1], \n",
    "                                              title=f'Accuracy | Best: {best_acc:.2%}', \n",
    "                                              legend=False, \n",
    "                                              xlim=(1, 33),\n",
    "                                      ylim=(.7, .9))\n",
    "axes[1].axvline(df.val_accuracy.idxmax(), ls='--', lw=1, c='k')\n",
    "axes[0].set_xlabel('Epoch')\n",
    "axes[0].set_ylabel('AUC')\n",
    "axes[1].set_xlabel('Epoch')\n",
    "axes[1].set_ylabel('Accuracy')\n",
    "fig.suptitle('Sentiment Analysis - Pretrained Vectors', fontsize=14)\n",
    "fig.legend(['Train', 'Validation'], loc='center right')\n",
    "\n",
    "sns.despine()\n",
    "fig.tight_layout()\n",
    "fig.subplots_adjust(top=.9)\n",
    "fig.savefig(results_path / 'imdb_pretrained', dpi=300);"
   ]
  }
 ],
 "metadata": {
  "kernelspec": {
   "display_name": "Python [conda env:ml4t-dl]",
   "language": "python",
   "name": "conda-env-ml4t-dl-py"
  },
  "language_info": {
   "codemirror_mode": {
    "name": "ipython",
    "version": 3
   },
   "file_extension": ".py",
   "mimetype": "text/x-python",
   "name": "python",
   "nbconvert_exporter": "python",
   "pygments_lexer": "ipython3",
   "version": "3.7.7"
  },
  "toc": {
   "base_numbering": 1,
   "nav_menu": {},
   "number_sections": true,
   "sideBar": true,
   "skip_h1_title": true,
   "title_cell": "Table of Contents",
   "title_sidebar": "Contents",
   "toc_cell": false,
   "toc_position": {},
   "toc_section_display": true,
   "toc_window_display": true
  }
 },
 "nbformat": 4,
 "nbformat_minor": 4
}
