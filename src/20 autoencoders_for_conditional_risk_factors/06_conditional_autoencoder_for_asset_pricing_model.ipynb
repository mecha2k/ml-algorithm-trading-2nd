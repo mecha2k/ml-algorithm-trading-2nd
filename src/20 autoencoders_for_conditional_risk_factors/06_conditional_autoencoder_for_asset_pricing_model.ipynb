{
 "cells": [
  {
   "cell_type": "markdown",
   "metadata": {},
   "source": [
    "# Conditional Autoencoder for Asset Pricing"
   ]
  },
  {
   "cell_type": "markdown",
   "metadata": {},
   "source": [
    "This notebook uses a dataset created using `yfinance` in the notebook [conditional_autoencoder_for_trading_data](05_conditional_autoencoder_for_trading_data.ipynb). The results will vary depending on which ticker downloads succeeded."
   ]
  },
  {
   "cell_type": "code",
   "execution_count": 1,
   "metadata": {
    "ExecuteTime": {
     "end_time": "2020-06-23T01:37:47.715567Z",
     "start_time": "2020-06-23T01:37:47.710170Z"
    }
   },
   "outputs": [],
   "source": [
    "import warnings\n",
    "warnings.filterwarnings('ignore')"
   ]
  },
  {
   "cell_type": "code",
   "execution_count": 2,
   "metadata": {
    "ExecuteTime": {
     "end_time": "2020-06-23T01:37:49.874412Z",
     "start_time": "2020-06-23T01:37:47.875043Z"
    }
   },
   "outputs": [],
   "source": [
    "import sys, os\n",
    "from time import time\n",
    "from pathlib import Path\n",
    "from itertools import product\n",
    "\n",
    "import numpy as np\n",
    "import pandas as pd\n",
    "\n",
    "import matplotlib.pyplot as plt\n",
    "import seaborn as sns\n",
    "\n",
    "import tensorflow as tf\n",
    "from tensorflow.keras.layers import Input, Dense, Dot, Reshape, BatchNormalization\n",
    "from tensorflow.keras.models import Model\n",
    "from tensorflow.keras.callbacks import TensorBoard\n",
    "\n",
    "from sklearn.preprocessing import quantile_transform\n",
    "\n",
    "from scipy.stats import spearmanr"
   ]
  },
  {
   "cell_type": "code",
   "execution_count": 3,
   "metadata": {
    "ExecuteTime": {
     "end_time": "2020-06-23T01:37:49.981050Z",
     "start_time": "2020-06-23T01:37:49.875466Z"
    }
   },
   "outputs": [
    {
     "name": "stdout",
     "output_type": "stream",
     "text": [
      "Using GPU\n"
     ]
    }
   ],
   "source": [
    "gpu_devices = tf.config.experimental.list_physical_devices('GPU')\n",
    "if gpu_devices:\n",
    "    print('Using GPU')\n",
    "    tf.config.experimental.set_memory_growth(gpu_devices[0], True)\n",
    "else:\n",
    "    print('Using CPU')"
   ]
  },
  {
   "cell_type": "code",
   "execution_count": 4,
   "metadata": {
    "ExecuteTime": {
     "end_time": "2020-06-23T01:37:49.990421Z",
     "start_time": "2020-06-23T01:37:49.982337Z"
    }
   },
   "outputs": [],
   "source": [
    "sys.path.insert(1, os.path.join(sys.path[0], '..'))\n",
    "from utils import MultipleTimeSeriesCV, format_time"
   ]
  },
  {
   "cell_type": "code",
   "execution_count": 5,
   "metadata": {
    "ExecuteTime": {
     "end_time": "2020-06-23T01:37:49.997967Z",
     "start_time": "2020-06-23T01:37:49.991475Z"
    }
   },
   "outputs": [],
   "source": [
    "idx = pd.IndexSlice\n",
    "sns.set_style('whitegrid')\n",
    "np.random.seed(42)"
   ]
  },
  {
   "cell_type": "code",
   "execution_count": 6,
   "metadata": {
    "ExecuteTime": {
     "end_time": "2020-06-23T01:37:50.006494Z",
     "start_time": "2020-06-23T01:37:49.999295Z"
    }
   },
   "outputs": [],
   "source": [
    "results_path = Path('results', 'asset_pricing')\n",
    "if not results_path.exists():\n",
    "    results_path.mkdir(parents=True)"
   ]
  },
  {
   "cell_type": "code",
   "execution_count": 7,
   "metadata": {
    "ExecuteTime": {
     "end_time": "2020-06-23T01:37:50.015416Z",
     "start_time": "2020-06-23T01:37:50.007620Z"
    }
   },
   "outputs": [],
   "source": [
    "characteristics = ['beta', 'betasq', 'chmom', 'dolvol', 'idiovol', 'ill', 'indmom',\n",
    "                   'maxret', 'mom12m', 'mom1m', 'mom36m', 'mvel', 'retvol', 'turn', 'turn_std']"
   ]
  },
  {
   "cell_type": "markdown",
   "metadata": {},
   "source": [
    "## Load Data"
   ]
  },
  {
   "cell_type": "code",
   "execution_count": 8,
   "metadata": {
    "ExecuteTime": {
     "end_time": "2020-06-22T23:44:31.406869Z",
     "start_time": "2020-06-22T23:44:31.286819Z"
    }
   },
   "outputs": [
    {
     "name": "stdout",
     "output_type": "stream",
     "text": [
      "<class 'pandas.io.pytables.HDFStore'>\n",
      "File path: results/asset_pricing/autoencoder.h5\n",
      "/close                      frame        (shape->[7559,3657]) \n",
      "/factor/beta                frame        (shape->[2363186,1]) \n",
      "/factor/betasq              frame        (shape->[2363186,1]) \n",
      "/factor/chmom               frame        (shape->[2700206,1]) \n",
      "/factor/dolvol              frame        (shape->[2806487,1]) \n",
      "/factor/idiovol             frame        (shape->[2363186,1]) \n",
      "/factor/ill                 frame        (shape->[2572109,1]) \n",
      "/factor/indmom              frame        (shape->[2849516,1]) \n",
      "/factor/maxret              frame        (shape->[2856033,1]) \n",
      "/factor/mom12m              frame        (shape->[2700206,1]) \n",
      "/factor/mom1m               series       (shape->[2871156])   \n",
      "/factor/mom36m              frame        (shape->[2361477,1]) \n",
      "/factor/mvel                frame        (shape->[2874317,1]) \n",
      "/factor/retvol              frame        (shape->[2871156,1]) \n",
      "/factor/turn                frame        (shape->[2774987,1]) \n",
      "/factor/turn_std            frame        (shape->[2813541,1]) \n",
      "/metadata                   frame        (shape->[1,3])       \n",
      "/model_data                 frame        (shape->[5152713,17])\n",
      "/returns                    frame        (shape->[1565,3657]) \n",
      "/volume                     frame        (shape->[7559,3657]) \n"
     ]
    }
   ],
   "source": [
    "with pd.HDFStore(results_path / 'autoencoder.h5') as store:\n",
    "    print(store.info())"
   ]
  },
  {
   "cell_type": "markdown",
   "metadata": {},
   "source": [
    "### Weekly returns"
   ]
  },
  {
   "cell_type": "code",
   "execution_count": 9,
   "metadata": {
    "ExecuteTime": {
     "end_time": "2020-06-22T23:44:35.871021Z",
     "start_time": "2020-06-22T23:44:35.420812Z"
    }
   },
   "outputs": [],
   "source": [
    "data = (pd.read_hdf(results_path / 'autoencoder.h5', 'returns')\n",
    "        .stack(dropna=False)\n",
    "        .to_frame('returns')\n",
    "        .loc[idx['1993':, :], :])"
   ]
  },
  {
   "cell_type": "code",
   "execution_count": 10,
   "metadata": {
    "ExecuteTime": {
     "end_time": "2020-06-22T23:46:07.284420Z",
     "start_time": "2020-06-22T23:44:35.872277Z"
    }
   },
   "outputs": [],
   "source": [
    "with pd.HDFStore(results_path / 'autoencoder.h5') as store:\n",
    "    keys = [k[1:] for k in store.keys() if k[1:].startswith('factor')]\n",
    "    for key in keys:\n",
    "        data[key.split('/')[-1]] = store[key].squeeze()"
   ]
  },
  {
   "cell_type": "code",
   "execution_count": 11,
   "metadata": {
    "ExecuteTime": {
     "end_time": "2020-06-22T23:46:07.608147Z",
     "start_time": "2020-06-22T23:46:07.285887Z"
    }
   },
   "outputs": [],
   "source": [
    "characteristics = data.drop('returns', axis=1).columns.tolist()"
   ]
  },
  {
   "cell_type": "code",
   "execution_count": 12,
   "metadata": {
    "ExecuteTime": {
     "end_time": "2020-06-22T23:46:12.738347Z",
     "start_time": "2020-06-22T23:46:07.609479Z"
    }
   },
   "outputs": [],
   "source": [
    "data['returns_fwd'] = data.returns.unstack('ticker').shift(-1).stack()"
   ]
  },
  {
   "cell_type": "code",
   "execution_count": 13,
   "metadata": {
    "ExecuteTime": {
     "end_time": "2020-06-22T23:46:13.179869Z",
     "start_time": "2020-06-22T23:46:12.739479Z"
    }
   },
   "outputs": [
    {
     "name": "stdout",
     "output_type": "stream",
     "text": [
      "<class 'pandas.core.frame.DataFrame'>\n",
      "MultiIndex: 5152713 entries, (Timestamp('1993-01-01 00:00:00', freq='W-FRI'), 'A') to (Timestamp('2019-12-27 00:00:00', freq='W-FRI'), 'ZYME')\n",
      "Data columns (total 17 columns):\n",
      " #   Column       Non-Null Count    Dtype  \n",
      "---  ------       --------------    -----  \n",
      " 0   returns      2770456 non-null  float64\n",
      " 1   beta         2360139 non-null  float64\n",
      " 2   betasq       2360139 non-null  float64\n",
      " 3   chmom        2626339 non-null  float64\n",
      " 4   dolvol       2704165 non-null  float64\n",
      " 5   idiovol      2360139 non-null  float64\n",
      " 6   ill          2489829 non-null  float64\n",
      " 7   indmom       2770303 non-null  float64\n",
      " 8   maxret       2748720 non-null  float64\n",
      " 9   mom12m       2626339 non-null  float64\n",
      " 10  mom1m        2760621 non-null  float64\n",
      " 11  mom36m       2358433 non-null  float64\n",
      " 12  mvel         2761081 non-null  float64\n",
      " 13  retvol       2760621 non-null  float64\n",
      " 14  turn         2677256 non-null  float64\n",
      " 15  turn_std     2705590 non-null  float64\n",
      " 16  returns_fwd  2769651 non-null  float64\n",
      "dtypes: float64(17)\n",
      "memory usage: 688.0+ MB\n"
     ]
    }
   ],
   "source": [
    "data.info(null_counts=True)"
   ]
  },
  {
   "cell_type": "code",
   "execution_count": 14,
   "metadata": {
    "ExecuteTime": {
     "end_time": "2020-06-22T23:46:13.882709Z",
     "start_time": "2020-06-22T23:46:13.181167Z"
    }
   },
   "outputs": [],
   "source": [
    "nobs_by_date = data.groupby(level='date').count().max(1)\n",
    "nobs_by_characteristic = pd.melt(data[characteristics].groupby(level='date').count(),\n",
    "                                 value_name='# Observations',\n",
    "                                 var_name=['Characteristic'])"
   ]
  },
  {
   "cell_type": "code",
   "execution_count": 15,
   "metadata": {
    "ExecuteTime": {
     "end_time": "2020-06-22T23:46:14.475964Z",
     "start_time": "2020-06-22T23:46:13.883665Z"
    }
   },
   "outputs": [
    {
     "data": {
      "image/png": "[encoded data removed]",
      "text/plain": [
       "<Figure size 1008x288 with 2 Axes>"
      ]
     },
     "metadata": {},
     "output_type": "display_data"
    }
   ],
   "source": [
    "with sns.axes_style(\"white\"):\n",
    "    fig, axes = plt.subplots(ncols=2, figsize=(14, 4))\n",
    "    sns.distplot(nobs_by_date, kde=False, ax=axes[0])\n",
    "    axes[0].set_title('# of Stocks per Week')\n",
    "    axes[0].set_xlabel('# of Observations')\n",
    "    sns.boxplot(x='Characteristic',\n",
    "                y='# Observations',\n",
    "                data=nobs_by_characteristic,\n",
    "                ax=axes[1],\n",
    "                palette='Blues')\n",
    "    axes[1].set_xticklabels(axes[1].get_xticklabels(),\n",
    "                            rotation=25,\n",
    "                            ha='right')\n",
    "    axes[1].set_title('# of Observation per Stock Characteristic')\n",
    "    sns.despine()\n",
    "    fig.tight_layout()"
   ]
  },
  {
   "cell_type": "markdown",
   "metadata": {},
   "source": [
    "### Rank-normalize characteristics"
   ]
  },
  {
   "cell_type": "code",
   "execution_count": 16,
   "metadata": {
    "ExecuteTime": {
     "end_time": "2020-06-22T23:47:32.684714Z",
     "start_time": "2020-06-22T23:46:14.477753Z"
    }
   },
   "outputs": [],
   "source": [
    "data.loc[:, characteristics] = (data.loc[:, characteristics]\n",
    "                                .groupby(level='date')\n",
    "                                .apply(lambda x: pd.DataFrame(quantile_transform(x, \n",
    "                                                                                 copy=True, \n",
    "                                                                                 n_quantiles=x.shape[0]),\n",
    "                                                              columns=characteristics,\n",
    "                                                              index=x.index.get_level_values('ticker')))\n",
    "                               .mul(2).sub(1))"
   ]
  },
  {
   "cell_type": "code",
   "execution_count": 17,
   "metadata": {
    "ExecuteTime": {
     "end_time": "2020-06-22T23:47:32.820178Z",
     "start_time": "2020-06-22T23:47:32.686156Z"
    }
   },
   "outputs": [
    {
     "name": "stdout",
     "output_type": "stream",
     "text": [
      "<class 'pandas.core.frame.DataFrame'>\n",
      "MultiIndex: 5152713 entries, (Timestamp('1993-01-01 00:00:00', freq='W-FRI'), 'A') to (Timestamp('2019-12-27 00:00:00', freq='W-FRI'), 'ZYME')\n",
      "Data columns (total 17 columns):\n",
      " #   Column       Non-Null Count    Dtype  \n",
      "---  ------       --------------    -----  \n",
      " 0   returns      2770456 non-null  float64\n",
      " 1   beta         2360139 non-null  float64\n",
      " 2   betasq       2360139 non-null  float64\n",
      " 3   chmom        2626339 non-null  float64\n",
      " 4   dolvol       2704165 non-null  float64\n",
      " 5   idiovol      2360139 non-null  float64\n",
      " 6   ill          2489829 non-null  float64\n",
      " 7   indmom       2770303 non-null  float64\n",
      " 8   maxret       2748720 non-null  float64\n",
      " 9   mom12m       2626339 non-null  float64\n",
      " 10  mom1m        2760621 non-null  float64\n",
      " 11  mom36m       2358433 non-null  float64\n",
      " 12  mvel         2761081 non-null  float64\n",
      " 13  retvol       2760621 non-null  float64\n",
      " 14  turn         2677256 non-null  float64\n",
      " 15  turn_std     2705590 non-null  float64\n",
      " 16  returns_fwd  2769651 non-null  float64\n",
      "dtypes: float64(17)\n",
      "memory usage: 848.0+ MB\n"
     ]
    }
   ],
   "source": [
    "data.info(null_counts=True)"
   ]
  },
  {
   "cell_type": "code",
   "execution_count": 18,
   "metadata": {
    "ExecuteTime": {
     "end_time": "2020-06-22T23:47:32.824723Z",
     "start_time": "2020-06-22T23:47:32.821374Z"
    }
   },
   "outputs": [
    {
     "data": {
      "text/plain": [
       "FrozenList(['date', 'ticker'])"
      ]
     },
     "execution_count": 18,
     "metadata": {},
     "output_type": "execute_result"
    }
   ],
   "source": [
    "data.index.names"
   ]
  },
  {
   "cell_type": "code",
   "execution_count": 19,
   "metadata": {
    "ExecuteTime": {
     "end_time": "2020-06-22T23:47:36.277990Z",
     "start_time": "2020-06-22T23:47:32.826001Z"
    }
   },
   "outputs": [
    {
     "data": {
      "text/html": [
       "<div>\n",
       "<style scoped>\n",
       "    .dataframe tbody tr th:only-of-type {\n",
       "        vertical-align: middle;\n",
       "    }\n",
       "\n",
       "    .dataframe tbody tr th {\n",
       "        vertical-align: top;\n",
       "    }\n",
       "\n",
       "    .dataframe thead th {\n",
       "        text-align: right;\n",
       "    }\n",
       "</style>\n",
       "<table border=\"1\" class=\"dataframe\">\n",
       "  <thead>\n",
       "    <tr style=\"text-align: right;\">\n",
       "      <th></th>\n",
       "      <th>returns</th>\n",
       "      <th>beta</th>\n",
       "      <th>betasq</th>\n",
       "      <th>chmom</th>\n",
       "      <th>dolvol</th>\n",
       "      <th>idiovol</th>\n",
       "      <th>ill</th>\n",
       "      <th>indmom</th>\n",
       "      <th>maxret</th>\n",
       "      <th>mom12m</th>\n",
       "      <th>mom1m</th>\n",
       "      <th>mom36m</th>\n",
       "      <th>mvel</th>\n",
       "      <th>retvol</th>\n",
       "      <th>turn</th>\n",
       "      <th>turn_std</th>\n",
       "      <th>returns_fwd</th>\n",
       "    </tr>\n",
       "  </thead>\n",
       "  <tbody>\n",
       "    <tr>\n",
       "      <th>count</th>\n",
       "      <td>2.770456e+06</td>\n",
       "      <td>2.360139e+06</td>\n",
       "      <td>2.360139e+06</td>\n",
       "      <td>2.626339e+06</td>\n",
       "      <td>2.704165e+06</td>\n",
       "      <td>2.360139e+06</td>\n",
       "      <td>2.489829e+06</td>\n",
       "      <td>2.770303e+06</td>\n",
       "      <td>2.748720e+06</td>\n",
       "      <td>2.626339e+06</td>\n",
       "      <td>2.760621e+06</td>\n",
       "      <td>2.358433e+06</td>\n",
       "      <td>2.761081e+06</td>\n",
       "      <td>2.760621e+06</td>\n",
       "      <td>2.677256e+06</td>\n",
       "      <td>2.705590e+06</td>\n",
       "      <td>2.769651e+06</td>\n",
       "    </tr>\n",
       "    <tr>\n",
       "      <th>mean</th>\n",
       "      <td>3.056325e-03</td>\n",
       "      <td>-6.346325e-09</td>\n",
       "      <td>-5.837470e-07</td>\n",
       "      <td>-3.568177e-09</td>\n",
       "      <td>-1.705488e-06</td>\n",
       "      <td>-2.294799e-07</td>\n",
       "      <td>-5.689239e-07</td>\n",
       "      <td>-6.601156e-02</td>\n",
       "      <td>3.892305e-09</td>\n",
       "      <td>-2.118056e-07</td>\n",
       "      <td>-3.516596e-08</td>\n",
       "      <td>-2.538978e-07</td>\n",
       "      <td>7.696316e-08</td>\n",
       "      <td>-2.838747e-05</td>\n",
       "      <td>-7.312079e-07</td>\n",
       "      <td>-1.196178e-06</td>\n",
       "      <td>3.053796e-03</td>\n",
       "    </tr>\n",
       "    <tr>\n",
       "      <th>std</th>\n",
       "      <td>5.971123e-02</td>\n",
       "      <td>5.776945e-01</td>\n",
       "      <td>5.776952e-01</td>\n",
       "      <td>5.776593e-01</td>\n",
       "      <td>5.776536e-01</td>\n",
       "      <td>5.776947e-01</td>\n",
       "      <td>5.776766e-01</td>\n",
       "      <td>5.943010e-01</td>\n",
       "      <td>5.776439e-01</td>\n",
       "      <td>5.776594e-01</td>\n",
       "      <td>5.776404e-01</td>\n",
       "      <td>5.776946e-01</td>\n",
       "      <td>5.776445e-01</td>\n",
       "      <td>5.776925e-01</td>\n",
       "      <td>5.776546e-01</td>\n",
       "      <td>5.776515e-01</td>\n",
       "      <td>5.971491e-02</td>\n",
       "    </tr>\n",
       "    <tr>\n",
       "      <th>min</th>\n",
       "      <td>-9.990779e-01</td>\n",
       "      <td>-1.000000e+00</td>\n",
       "      <td>-1.000000e+00</td>\n",
       "      <td>-1.000000e+00</td>\n",
       "      <td>-1.000000e+00</td>\n",
       "      <td>-1.000000e+00</td>\n",
       "      <td>-1.000000e+00</td>\n",
       "      <td>-1.000000e+00</td>\n",
       "      <td>-1.000000e+00</td>\n",
       "      <td>-1.000000e+00</td>\n",
       "      <td>-1.000000e+00</td>\n",
       "      <td>-1.000000e+00</td>\n",
       "      <td>-1.000000e+00</td>\n",
       "      <td>-1.000000e+00</td>\n",
       "      <td>-1.000000e+00</td>\n",
       "      <td>-1.000000e+00</td>\n",
       "      <td>-9.990779e-01</td>\n",
       "    </tr>\n",
       "    <tr>\n",
       "      <th>25%</th>\n",
       "      <td>-2.083260e-02</td>\n",
       "      <td>-5.003208e-01</td>\n",
       "      <td>-5.003129e-01</td>\n",
       "      <td>-5.002485e-01</td>\n",
       "      <td>-5.002425e-01</td>\n",
       "      <td>-5.003047e-01</td>\n",
       "      <td>-5.002694e-01</td>\n",
       "      <td>-6.050328e-01</td>\n",
       "      <td>-5.002516e-01</td>\n",
       "      <td>-5.002384e-01</td>\n",
       "      <td>-5.001822e-01</td>\n",
       "      <td>-5.002966e-01</td>\n",
       "      <td>-5.002188e-01</td>\n",
       "      <td>-5.002597e-01</td>\n",
       "      <td>-5.001962e-01</td>\n",
       "      <td>-5.002272e-01</td>\n",
       "      <td>-2.083303e-02</td>\n",
       "    </tr>\n",
       "    <tr>\n",
       "      <th>50%</th>\n",
       "      <td>1.052650e-03</td>\n",
       "      <td>0.000000e+00</td>\n",
       "      <td>0.000000e+00</td>\n",
       "      <td>0.000000e+00</td>\n",
       "      <td>0.000000e+00</td>\n",
       "      <td>0.000000e+00</td>\n",
       "      <td>0.000000e+00</td>\n",
       "      <td>-7.303063e-02</td>\n",
       "      <td>0.000000e+00</td>\n",
       "      <td>0.000000e+00</td>\n",
       "      <td>0.000000e+00</td>\n",
       "      <td>0.000000e+00</td>\n",
       "      <td>0.000000e+00</td>\n",
       "      <td>0.000000e+00</td>\n",
       "      <td>0.000000e+00</td>\n",
       "      <td>0.000000e+00</td>\n",
       "      <td>1.052504e-03</td>\n",
       "    </tr>\n",
       "    <tr>\n",
       "      <th>75%</th>\n",
       "      <td>2.457069e-02</td>\n",
       "      <td>5.003180e-01</td>\n",
       "      <td>5.003072e-01</td>\n",
       "      <td>5.002701e-01</td>\n",
       "      <td>5.002333e-01</td>\n",
       "      <td>5.003176e-01</td>\n",
       "      <td>5.002665e-01</td>\n",
       "      <td>4.275164e-01</td>\n",
       "      <td>5.002268e-01</td>\n",
       "      <td>5.002394e-01</td>\n",
       "      <td>5.002492e-01</td>\n",
       "      <td>5.002883e-01</td>\n",
       "      <td>5.002044e-01</td>\n",
       "      <td>5.002251e-01</td>\n",
       "      <td>5.002270e-01</td>\n",
       "      <td>5.002306e-01</td>\n",
       "      <td>2.456899e-02</td>\n",
       "    </tr>\n",
       "    <tr>\n",
       "      <th>max</th>\n",
       "      <td>4.000000e+00</td>\n",
       "      <td>1.000000e+00</td>\n",
       "      <td>1.000000e+00</td>\n",
       "      <td>1.000000e+00</td>\n",
       "      <td>1.000000e+00</td>\n",
       "      <td>1.000000e+00</td>\n",
       "      <td>1.000000e+00</td>\n",
       "      <td>1.000000e+00</td>\n",
       "      <td>1.000000e+00</td>\n",
       "      <td>1.000000e+00</td>\n",
       "      <td>1.000000e+00</td>\n",
       "      <td>1.000000e+00</td>\n",
       "      <td>1.000000e+00</td>\n",
       "      <td>1.000000e+00</td>\n",
       "      <td>1.000000e+00</td>\n",
       "      <td>1.000000e+00</td>\n",
       "      <td>4.000000e+00</td>\n",
       "    </tr>\n",
       "  </tbody>\n",
       "</table>\n",
       "</div>"
      ],
      "text/plain": [
       "            returns          beta        betasq         chmom        dolvol  \\\n",
       "count  2.770456e+06  2.360139e+06  2.360139e+06  2.626339e+06  2.704165e+06   \n",
       "mean   3.056325e-03 -6.346325e-09 -5.837470e-07 -3.568177e-09 -1.705488e-06   \n",
       "std    5.971123e-02  5.776945e-01  5.776952e-01  5.776593e-01  5.776536e-01   \n",
       "min   -9.990779e-01 -1.000000e+00 -1.000000e+00 -1.000000e+00 -1.000000e+00   \n",
       "25%   -2.083260e-02 -5.003208e-01 -5.003129e-01 -5.002485e-01 -5.002425e-01   \n",
       "50%    1.052650e-03  0.000000e+00  0.000000e+00  0.000000e+00  0.000000e+00   \n",
       "75%    2.457069e-02  5.003180e-01  5.003072e-01  5.002701e-01  5.002333e-01   \n",
       "max    4.000000e+00  1.000000e+00  1.000000e+00  1.000000e+00  1.000000e+00   \n",
       "\n",
       "            idiovol           ill        indmom        maxret        mom12m  \\\n",
       "count  2.360139e+06  2.489829e+06  2.770303e+06  2.748720e+06  2.626339e+06   \n",
       "mean  -2.294799e-07 -5.689239e-07 -6.601156e-02  3.892305e-09 -2.118056e-07   \n",
       "std    5.776947e-01  5.776766e-01  5.943010e-01  5.776439e-01  5.776594e-01   \n",
       "min   -1.000000e+00 -1.000000e+00 -1.000000e+00 -1.000000e+00 -1.000000e+00   \n",
       "25%   -5.003047e-01 -5.002694e-01 -6.050328e-01 -5.002516e-01 -5.002384e-01   \n",
       "50%    0.000000e+00  0.000000e+00 -7.303063e-02  0.000000e+00  0.000000e+00   \n",
       "75%    5.003176e-01  5.002665e-01  4.275164e-01  5.002268e-01  5.002394e-01   \n",
       "max    1.000000e+00  1.000000e+00  1.000000e+00  1.000000e+00  1.000000e+00   \n",
       "\n",
       "              mom1m        mom36m          mvel        retvol          turn  \\\n",
       "count  2.760621e+06  2.358433e+06  2.761081e+06  2.760621e+06  2.677256e+06   \n",
       "mean  -3.516596e-08 -2.538978e-07  7.696316e-08 -2.838747e-05 -7.312079e-07   \n",
       "std    5.776404e-01  5.776946e-01  5.776445e-01  5.776925e-01  5.776546e-01   \n",
       "min   -1.000000e+00 -1.000000e+00 -1.000000e+00 -1.000000e+00 -1.000000e+00   \n",
       "25%   -5.001822e-01 -5.002966e-01 -5.002188e-01 -5.002597e-01 -5.001962e-01   \n",
       "50%    0.000000e+00  0.000000e+00  0.000000e+00  0.000000e+00  0.000000e+00   \n",
       "75%    5.002492e-01  5.002883e-01  5.002044e-01  5.002251e-01  5.002270e-01   \n",
       "max    1.000000e+00  1.000000e+00  1.000000e+00  1.000000e+00  1.000000e+00   \n",
       "\n",
       "           turn_std   returns_fwd  \n",
       "count  2.705590e+06  2.769651e+06  \n",
       "mean  -1.196178e-06  3.053796e-03  \n",
       "std    5.776515e-01  5.971491e-02  \n",
       "min   -1.000000e+00 -9.990779e-01  \n",
       "25%   -5.002272e-01 -2.083303e-02  \n",
       "50%    0.000000e+00  1.052504e-03  \n",
       "75%    5.002306e-01  2.456899e-02  \n",
       "max    1.000000e+00  4.000000e+00  "
      ]
     },
     "execution_count": 19,
     "metadata": {},
     "output_type": "execute_result"
    }
   ],
   "source": [
    "data.describe()"
   ]
  },
  {
   "cell_type": "code",
   "execution_count": 20,
   "metadata": {
    "ExecuteTime": {
     "end_time": "2020-06-22T23:47:37.337515Z",
     "start_time": "2020-06-22T23:47:36.280131Z"
    }
   },
   "outputs": [],
   "source": [
    "data = data.loc[idx[:'2019', :], :]"
   ]
  },
  {
   "cell_type": "code",
   "execution_count": 21,
   "metadata": {
    "ExecuteTime": {
     "end_time": "2020-06-22T23:47:38.071874Z",
     "start_time": "2020-06-22T23:47:37.338472Z"
    }
   },
   "outputs": [],
   "source": [
    "data.loc[:, ['returns', 'returns_fwd']] = data.loc[:, ['returns', 'returns_fwd']].clip(lower=-1, upper=1.0)"
   ]
  },
  {
   "cell_type": "code",
   "execution_count": 22,
   "metadata": {
    "ExecuteTime": {
     "end_time": "2020-06-22T23:47:38.400183Z",
     "start_time": "2020-06-22T23:47:38.072947Z"
    }
   },
   "outputs": [],
   "source": [
    "data = data.fillna(-2)"
   ]
  },
  {
   "cell_type": "code",
   "execution_count": 23,
   "metadata": {
    "ExecuteTime": {
     "end_time": "2020-06-22T23:47:38.860411Z",
     "start_time": "2020-06-22T23:47:38.401173Z"
    }
   },
   "outputs": [],
   "source": [
    "data.to_hdf(results_path / 'autoencoder.h5', 'model_data')"
   ]
  },
  {
   "cell_type": "markdown",
   "metadata": {},
   "source": [
    "## Architecture"
   ]
  },
  {
   "cell_type": "code",
   "execution_count": 8,
   "metadata": {
    "ExecuteTime": {
     "end_time": "2020-06-23T01:38:04.918850Z",
     "start_time": "2020-06-23T01:38:03.742683Z"
    }
   },
   "outputs": [],
   "source": [
    "data = pd.read_hdf(results_path / 'autoencoder.h5', 'model_data')"
   ]
  },
  {
   "cell_type": "markdown",
   "metadata": {},
   "source": [
    "### Key parameters"
   ]
  },
  {
   "cell_type": "code",
   "execution_count": 9,
   "metadata": {
    "ExecuteTime": {
     "end_time": "2020-06-23T01:38:04.983043Z",
     "start_time": "2020-06-23T01:38:04.947056Z"
    }
   },
   "outputs": [],
   "source": [
    "n_factors = 3\n",
    "n_characteristics = len(characteristics)\n",
    "n_tickers = len(data.index.unique('ticker'))"
   ]
  },
  {
   "cell_type": "code",
   "execution_count": 10,
   "metadata": {
    "ExecuteTime": {
     "end_time": "2020-06-23T01:38:05.132090Z",
     "start_time": "2020-06-23T01:38:05.126184Z"
    }
   },
   "outputs": [
    {
     "data": {
      "text/plain": [
       "3657"
      ]
     },
     "execution_count": 10,
     "metadata": {},
     "output_type": "execute_result"
    }
   ],
   "source": [
    "n_tickers"
   ]
  },
  {
   "cell_type": "code",
   "execution_count": 11,
   "metadata": {
    "ExecuteTime": {
     "end_time": "2020-06-23T01:38:05.263982Z",
     "start_time": "2020-06-23T01:38:05.261601Z"
    }
   },
   "outputs": [
    {
     "data": {
      "text/plain": [
       "15"
      ]
     },
     "execution_count": 11,
     "metadata": {},
     "output_type": "execute_result"
    }
   ],
   "source": [
    "n_characteristics"
   ]
  },
  {
   "cell_type": "markdown",
   "metadata": {},
   "source": [
    "### Input Layer"
   ]
  },
  {
   "cell_type": "code",
   "execution_count": 12,
   "metadata": {
    "ExecuteTime": {
     "end_time": "2020-06-23T01:38:08.653713Z",
     "start_time": "2020-06-23T01:38:08.575468Z"
    }
   },
   "outputs": [],
   "source": [
    "input_beta = Input((n_tickers, n_characteristics), name='input_beta')\n",
    "input_factor = Input((n_tickers,), name='input_factor')"
   ]
  },
  {
   "cell_type": "markdown",
   "metadata": {},
   "source": [
    "### Stock Characteristics Network"
   ]
  },
  {
   "cell_type": "code",
   "execution_count": 13,
   "metadata": {
    "ExecuteTime": {
     "end_time": "2020-06-23T01:38:09.914679Z",
     "start_time": "2020-06-23T01:38:08.996551Z"
    }
   },
   "outputs": [],
   "source": [
    "hidden_layer = Dense(units=8, activation='relu', name='hidden_layer')(input_beta)\n",
    "batch_norm = BatchNormalization(name='batch_norm')(hidden_layer)\n",
    "output_beta = Dense(units=n_factors, name='output_beta')(batch_norm)"
   ]
  },
  {
   "cell_type": "markdown",
   "metadata": {},
   "source": [
    "### Factor Network"
   ]
  },
  {
   "cell_type": "code",
   "execution_count": 14,
   "metadata": {
    "ExecuteTime": {
     "end_time": "2020-06-23T01:38:09.922233Z",
     "start_time": "2020-06-23T01:38:09.915692Z"
    }
   },
   "outputs": [],
   "source": [
    "output_factor = Dense(units=n_factors, name='output_factor')(input_factor)"
   ]
  },
  {
   "cell_type": "markdown",
   "metadata": {},
   "source": [
    "### Output Layer"
   ]
  },
  {
   "cell_type": "code",
   "execution_count": 15,
   "metadata": {
    "ExecuteTime": {
     "end_time": "2020-06-23T01:39:07.556869Z",
     "start_time": "2020-06-23T01:39:07.538448Z"
    }
   },
   "outputs": [],
   "source": [
    "output = Dot(axes=(2,1), name='output_layer')([output_beta, output_factor])"
   ]
  },
  {
   "cell_type": "markdown",
   "metadata": {},
   "source": [
    "### Compile Layer"
   ]
  },
  {
   "cell_type": "code",
   "execution_count": 16,
   "metadata": {
    "ExecuteTime": {
     "end_time": "2020-06-23T01:39:08.072223Z",
     "start_time": "2020-06-23T01:39:08.052387Z"
    }
   },
   "outputs": [],
   "source": [
    "model = Model(inputs=[input_beta, input_factor], outputs=output)\n",
    "model.compile(loss='mse', optimizer='adam')"
   ]
  },
  {
   "cell_type": "markdown",
   "metadata": {},
   "source": [
    "### Automate model generation"
   ]
  },
  {
   "cell_type": "code",
   "execution_count": 17,
   "metadata": {
    "ExecuteTime": {
     "end_time": "2020-06-23T01:39:08.428569Z",
     "start_time": "2020-06-23T01:39:08.419206Z"
    }
   },
   "outputs": [],
   "source": [
    "def make_model(hidden_units=8, n_factors=3):\n",
    "    input_beta = Input((n_tickers, n_characteristics), name='input_beta')\n",
    "    input_factor = Input((n_tickers,), name='input_factor')\n",
    "\n",
    "    hidden_layer = Dense(units=hidden_units, activation='relu', name='hidden_layer')(input_beta)\n",
    "    batch_norm = BatchNormalization(name='batch_norm')(hidden_layer)\n",
    "    \n",
    "    output_beta = Dense(units=n_factors, name='output_beta')(batch_norm)\n",
    "\n",
    "    output_factor = Dense(units=n_factors, name='output_factor')(input_factor)\n",
    "\n",
    "    output = Dot(axes=(2,1), name='output_layer')([output_beta, output_factor])\n",
    "\n",
    "    model = Model(inputs=[input_beta, input_factor], outputs=output)\n",
    "    model.compile(loss='mse', optimizer='adam')\n",
    "    return model"
   ]
  },
  {
   "cell_type": "markdown",
   "metadata": {},
   "source": [
    "### Model Summary"
   ]
  },
  {
   "cell_type": "code",
   "execution_count": 18,
   "metadata": {
    "ExecuteTime": {
     "end_time": "2020-06-23T01:39:09.106821Z",
     "start_time": "2020-06-23T01:39:09.089925Z"
    }
   },
   "outputs": [
    {
     "name": "stdout",
     "output_type": "stream",
     "text": [
      "Model: \"model\"\n",
      "__________________________________________________________________________________________________\n",
      "Layer (type)                    Output Shape         Param #     Connected to                     \n",
      "==================================================================================================\n",
      "input_beta (InputLayer)         [(None, 3657, 15)]   0                                            \n",
      "__________________________________________________________________________________________________\n",
      "hidden_layer (Dense)            (None, 3657, 8)      128         input_beta[0][0]                 \n",
      "__________________________________________________________________________________________________\n",
      "batch_norm (BatchNormalization) (None, 3657, 8)      32          hidden_layer[0][0]               \n",
      "__________________________________________________________________________________________________\n",
      "input_factor (InputLayer)       [(None, 3657)]       0                                            \n",
      "__________________________________________________________________________________________________\n",
      "output_beta (Dense)             (None, 3657, 3)      27          batch_norm[0][0]                 \n",
      "__________________________________________________________________________________________________\n",
      "output_factor (Dense)           (None, 3)            10974       input_factor[0][0]               \n",
      "__________________________________________________________________________________________________\n",
      "output_layer (Dot)              (None, 3657)         0           output_beta[0][0]                \n",
      "                                                                 output_factor[0][0]              \n",
      "==================================================================================================\n",
      "Total params: 11,161\n",
      "Trainable params: 11,145\n",
      "Non-trainable params: 16\n",
      "__________________________________________________________________________________________________\n"
     ]
    }
   ],
   "source": [
    "model.summary()"
   ]
  },
  {
   "cell_type": "markdown",
   "metadata": {},
   "source": [
    "## Train Model"
   ]
  },
  {
   "cell_type": "markdown",
   "metadata": {},
   "source": [
    "### Cross-validation parameters"
   ]
  },
  {
   "cell_type": "code",
   "execution_count": 19,
   "metadata": {
    "ExecuteTime": {
     "end_time": "2020-06-23T01:39:11.106369Z",
     "start_time": "2020-06-23T01:39:11.104631Z"
    }
   },
   "outputs": [],
   "source": [
    "YEAR = 52"
   ]
  },
  {
   "cell_type": "code",
   "execution_count": 20,
   "metadata": {
    "ExecuteTime": {
     "end_time": "2020-06-23T01:39:11.320502Z",
     "start_time": "2020-06-23T01:39:11.316765Z"
    }
   },
   "outputs": [],
   "source": [
    "cv = MultipleTimeSeriesCV(n_splits=5, \n",
    "                          train_period_length=20*YEAR,\n",
    "                          test_period_length=1*YEAR,\n",
    "                          lookahead=1)"
   ]
  },
  {
   "cell_type": "code",
   "execution_count": 21,
   "metadata": {
    "ExecuteTime": {
     "end_time": "2020-06-23T01:39:11.580448Z",
     "start_time": "2020-06-23T01:39:11.571160Z"
    }
   },
   "outputs": [],
   "source": [
    "def get_train_valid_data(data, train_idx, val_idx):\n",
    "    train, val = data.iloc[train_idx], data.iloc[val_idx]\n",
    "    X1_train = train.loc[:, characteristics].values.reshape(-1, n_tickers, n_characteristics)\n",
    "    X1_val = val.loc[:, characteristics].values.reshape(-1, n_tickers, n_characteristics)\n",
    "    X2_train = train.loc[:, 'returns'].unstack('ticker')\n",
    "    X2_val = val.loc[:, 'returns'].unstack('ticker')\n",
    "    y_train = train.returns_fwd.unstack('ticker')\n",
    "    y_val = val.returns_fwd.unstack('ticker')\n",
    "    return X1_train, X2_train, y_train, X1_val, X2_val, y_val"
   ]
  },
  {
   "cell_type": "markdown",
   "metadata": {},
   "source": [
    "### Hyperparameter Options"
   ]
  },
  {
   "cell_type": "code",
   "execution_count": 23,
   "metadata": {
    "ExecuteTime": {
     "end_time": "2020-06-22T18:07:27.591615Z",
     "start_time": "2020-06-22T18:07:27.589669Z"
    }
   },
   "outputs": [],
   "source": [
    "factor_opts = [2, 3, 4, 5, 6]\n",
    "unit_opts = [8, 16, 32]"
   ]
  },
  {
   "cell_type": "code",
   "execution_count": 24,
   "metadata": {
    "ExecuteTime": {
     "end_time": "2020-06-22T18:07:27.789602Z",
     "start_time": "2020-06-22T18:07:27.787718Z"
    }
   },
   "outputs": [],
   "source": [
    "param_grid = list(product(unit_opts, factor_opts))"
   ]
  },
  {
   "cell_type": "markdown",
   "metadata": {},
   "source": [
    "### Run Cross-Validation"
   ]
  },
  {
   "cell_type": "code",
   "execution_count": 25,
   "metadata": {
    "ExecuteTime": {
     "end_time": "2020-06-22T18:07:28.159468Z",
     "start_time": "2020-06-22T18:07:28.157799Z"
    }
   },
   "outputs": [],
   "source": [
    "batch_size = 32"
   ]
  },
  {
   "cell_type": "code",
   "execution_count": 26,
   "metadata": {
    "ExecuteTime": {
     "end_time": "2020-06-22T18:07:28.525597Z",
     "start_time": "2020-06-22T18:07:28.523718Z"
    }
   },
   "outputs": [],
   "source": [
    "cols = ['units', 'n_factors', 'fold', 'epoch', 'ic_mean', \n",
    "        'ic_daily_mean', 'ic_daily_std', 'ic_daily_median']"
   ]
  },
  {
   "cell_type": "code",
   "execution_count": 27,
   "metadata": {
    "ExecuteTime": {
     "end_time": "2020-06-22T21:31:17.057835Z",
     "start_time": "2020-06-22T18:07:39.107230Z"
    },
    "scrolled": false
   },
   "outputs": [
    {
     "name": "stdout",
     "output_type": "stream",
     "text": [
      "00:00:03 | 2 08 | 00-000 | -0.24% |  0.06% | -1.32%\n",
      "00:00:30 | 2 08 | 00-050 |  1.52% | -0.45% | -0.83%\n",
      "00:00:57 | 2 08 | 00-100 |  3.01% |  0.26% | -1.73%\n",
      "00:01:24 | 2 08 | 00-150 |  2.59% |  1.10% |  0.36%\n",
      "00:01:51 | 2 08 | 00-200 |  2.29% |  0.97% |  0.72%\n",
      "00:02:17 | 2 08 | 01-000 |  2.56% |  1.92% |  2.28%\n",
      "00:02:43 | 2 08 | 01-050 |  2.03% |  0.28% |  1.44%\n",
      "00:03:09 | 2 08 | 01-100 |  0.83% |  2.05% |  4.18%\n",
      "00:03:35 | 2 08 | 01-150 |  1.69% |  1.38% |  3.73%\n",
      "00:04:01 | 2 08 | 01-200 | -1.45% | -0.48% | -0.74%\n",
      "00:04:25 | 2 08 | 02-000 | -1.37% | -1.83% | -2.87%\n",
      "00:04:52 | 2 08 | 02-050 |  0.16% | -0.13% | -0.52%\n",
      "00:05:19 | 2 08 | 02-100 |  1.33% |  1.39% |  1.78%\n",
      "00:05:45 | 2 08 | 02-150 |  0.99% |  0.97% |  1.26%\n",
      "00:06:11 | 2 08 | 02-200 |  1.80% |  1.55% |  2.80%\n",
      "00:06:36 | 2 08 | 03-000 | -1.47% | -0.80% | -1.90%\n",
      "00:07:03 | 2 08 | 03-050 | -0.41% | -0.35% | -2.67%\n",
      "00:07:28 | 2 08 | 03-100 |  0.61% |  1.38% | -0.42%\n",
      "00:07:51 | 2 08 | 03-150 | -1.48% | -1.25% | -0.11%\n",
      "00:08:14 | 2 08 | 03-200 |  2.36% | -0.61% | -1.78%\n",
      "00:08:39 | 2 08 | 04-000 |  2.18% |  3.10% |  3.13%\n",
      "00:09:03 | 2 08 | 04-050 |  2.18% |  3.43% |  2.74%\n",
      "00:09:27 | 2 08 | 04-100 |  0.43% |  3.47% |  4.55%\n",
      "00:09:52 | 2 08 | 04-150 |  7.24% |  1.40% |  0.40%\n",
      "00:10:15 | 2 08 | 04-200 | -0.25% | -2.53% | -1.81%\n",
      "00:10:45 | 3 08 | 00-000 |  1.16% |  2.13% |  2.02%\n",
      "00:11:10 | 3 08 | 00-050 | -1.64% | -1.12% | -2.54%\n",
      "00:11:35 | 3 08 | 00-100 | -3.31% | -1.58% | -2.39%\n",
      "00:11:59 | 3 08 | 00-150 | -1.83% |  0.35% |  0.24%\n",
      "00:12:24 | 3 08 | 00-200 | -0.95% |  0.04% |  0.98%\n",
      "00:12:52 | 3 08 | 01-000 |  0.30% | -0.54% | -2.66%\n",
      "00:13:19 | 3 08 | 01-050 |  0.27% |  0.02% |  0.02%\n",
      "00:13:44 | 3 08 | 01-100 | -1.21% | -0.86% | -2.40%\n",
      "00:14:09 | 3 08 | 01-150 | -1.48% | -1.94% | -3.66%\n",
      "00:14:35 | 3 08 | 01-200 |  1.26% |  0.57% |  1.19%\n",
      "00:15:05 | 3 08 | 02-000 |  1.20% |  1.41% |  1.76%\n",
      "00:15:32 | 3 08 | 02-050 |  0.27% |  0.13% | -0.75%\n",
      "00:15:55 | 3 08 | 02-100 |  0.23% | -0.48% | -0.25%\n",
      "00:16:19 | 3 08 | 02-150 | -0.67% | -0.63% | -1.31%\n",
      "00:16:44 | 3 08 | 02-200 |  0.56% |  0.28% |  1.93%\n",
      "00:17:10 | 3 08 | 03-000 |  2.74% |  0.70% |  1.22%\n",
      "00:17:33 | 3 08 | 03-050 | -0.82% | -0.67% |  0.04%\n",
      "00:17:57 | 3 08 | 03-100 | -1.07% | -0.49% | -0.26%\n",
      "00:18:22 | 3 08 | 03-150 |  1.09% |  0.61% |  1.82%\n",
      "00:18:45 | 3 08 | 03-200 |  1.09% |  1.79% |  3.02%\n",
      "00:19:13 | 3 08 | 04-000 | -0.84% |  1.61% |  1.07%\n",
      "00:19:36 | 3 08 | 04-050 |  6.95% |  3.16% |  3.45%\n",
      "00:20:01 | 3 08 | 04-100 |  3.79% |  1.38% | -2.26%\n",
      "00:20:25 | 3 08 | 04-150 |  4.74% |  3.10% |  0.99%\n",
      "00:20:48 | 3 08 | 04-200 | -1.91% |  1.45% |  0.53%\n",
      "00:21:14 | 4 08 | 00-000 | -0.06% |  0.67% |  0.56%\n",
      "00:21:41 | 4 08 | 00-050 |  0.52% | -1.30% | -0.62%\n",
      "00:22:08 | 4 08 | 00-100 |  0.24% | -0.20% |  0.10%\n",
      "00:22:35 | 4 08 | 00-150 |  1.26% |  0.35% |  0.04%\n",
      "00:23:02 | 4 08 | 00-200 | -0.73% | -0.74% | -1.75%\n",
      "00:23:29 | 4 08 | 01-000 |  4.26% |  2.73% |  3.18%\n",
      "00:23:58 | 4 08 | 01-050 | -0.02% | -1.51% | -4.52%\n",
      "00:24:29 | 4 08 | 01-100 |  0.23% | -1.32% | -3.70%\n",
      "00:24:56 | 4 08 | 01-150 | -3.61% | -0.85% | -1.70%\n",
      "00:25:25 | 4 08 | 01-200 | -0.08% | -0.11% | -0.08%\n",
      "00:25:53 | 4 08 | 02-000 |  2.77% |  1.86% |  1.71%\n",
      "00:26:22 | 4 08 | 02-050 |  0.74% |  0.64% | -0.91%\n",
      "00:26:48 | 4 08 | 02-100 |  0.41% | -0.28% | -1.71%\n",
      "00:27:14 | 4 08 | 02-150 |  0.42% | -0.40% |  0.35%\n",
      "00:27:42 | 4 08 | 02-200 |  0.43% | -0.41% | -0.03%\n",
      "00:28:13 | 4 08 | 03-000 |  3.59% |  0.13% |  0.30%\n",
      "00:28:43 | 4 08 | 03-050 |  2.14% |  0.80% |  1.99%\n",
      "00:29:11 | 4 08 | 03-100 |  1.64% |  0.07% |  0.79%\n",
      "00:29:39 | 4 08 | 03-150 | -0.13% |  1.12% |  0.45%\n",
      "00:30:08 | 4 08 | 03-200 | -1.04% |  1.22% |  1.98%\n",
      "00:30:37 | 4 08 | 04-000 | -1.79% |  1.33% |  1.27%\n",
      "00:31:06 | 4 08 | 04-050 |  1.40% |  0.43% | -1.76%\n",
      "00:31:33 | 4 08 | 04-100 |  2.44% | -0.96% |  0.73%\n",
      "00:32:01 | 4 08 | 04-150 |  5.17% |  0.63% |  2.21%\n",
      "00:32:29 | 4 08 | 04-200 | -0.89% |  0.23% |  2.45%\n",
      "00:33:02 | 5 08 | 00-000 |  3.80% |  2.82% |  1.80%\n",
      "00:33:29 | 5 08 | 00-050 |  3.87% |  3.01% |  3.17%\n",
      "00:33:57 | 5 08 | 00-100 |  4.40% |  2.93% |  3.52%\n",
      "00:34:25 | 5 08 | 00-150 |  2.22% |  1.87% |  1.67%\n",
      "00:34:53 | 5 08 | 00-200 |  1.13% |  1.80% |  1.76%\n",
      "00:35:22 | 5 08 | 01-000 |  1.89% |  2.56% |  3.32%\n",
      "00:35:51 | 5 08 | 01-050 |  1.45% |  0.76% |  0.50%\n",
      "00:36:20 | 5 08 | 01-100 |  0.59% | -0.52% | -1.20%\n",
      "00:36:52 | 5 08 | 01-150 | -0.56% |  0.07% |  0.95%\n",
      "00:37:24 | 5 08 | 01-200 |  1.75% | -0.78% | -2.55%\n",
      "00:37:54 | 5 08 | 02-000 |  0.31% | -0.31% | -0.90%\n",
      "00:38:22 | 5 08 | 02-050 |  1.49% |  1.15% |  0.97%\n",
      "00:38:53 | 5 08 | 02-100 | -0.03% | -0.05% |  0.26%\n",
      "00:39:24 | 5 08 | 02-150 |  0.02% |  0.23% | -2.07%\n",
      "00:39:51 | 5 08 | 02-200 | -0.95% | -1.08% | -1.80%\n",
      "00:40:22 | 5 08 | 03-000 |  3.07% |  2.37% |  2.96%\n",
      "00:40:49 | 5 08 | 03-050 |  1.79% |  2.60% | -0.20%\n",
      "00:41:16 | 5 08 | 03-100 |  3.87% |  4.38% |  3.63%\n",
      "00:41:43 | 5 08 | 03-150 | -0.82% |  0.36% |  0.70%\n",
      "00:42:10 | 5 08 | 03-200 |  3.26% |  1.35% |  2.51%\n",
      "00:42:38 | 5 08 | 04-000 | -1.24% | -0.62% |  0.51%\n",
      "00:43:04 | 5 08 | 04-050 | -3.83% |  2.43% |  3.15%\n",
      "00:43:33 | 5 08 | 04-100 |  4.35% |  4.22% |  2.93%\n",
      "00:43:60 | 5 08 | 04-150 | -5.75% |  1.27% | -0.66%\n",
      "00:44:30 | 5 08 | 04-200 |  1.66% | -0.15% | -0.99%\n",
      "00:44:59 | 6 08 | 00-000 | -1.29% | -1.90% | -1.25%\n",
      "00:45:29 | 6 08 | 00-050 | -0.10% | -1.76% | -0.72%\n",
      "00:45:57 | 6 08 | 00-100 | -0.40% | -1.67% | -2.94%\n",
      "00:46:25 | 6 08 | 00-150 | -0.79% | -1.65% | -2.89%\n",
      "00:46:54 | 6 08 | 00-200 | -0.16% | -1.05% | -1.95%\n",
      "00:47:24 | 6 08 | 01-000 | -0.64% |  0.62% | -1.21%\n",
      "00:47:54 | 6 08 | 01-050 |  0.49% |  1.86% |  2.43%\n",
      "00:48:22 | 6 08 | 01-100 | -1.18% |  0.85% |  1.49%\n",
      "00:48:47 | 6 08 | 01-150 | -0.15% |  0.16% | -1.20%\n",
      "00:49:15 | 6 08 | 01-200 | -1.34% |  0.84% | -0.56%\n",
      "00:49:40 | 6 08 | 02-000 |  3.04% |  0.51% |  0.61%\n",
      "00:50:05 | 6 08 | 02-050 |  0.20% | -1.44% | -1.28%\n",
      "00:50:30 | 6 08 | 02-100 |  0.49% |  0.54% |  0.06%\n",
      "00:50:55 | 6 08 | 02-150 |  2.59% |  0.80% | -0.28%\n",
      "00:51:21 | 6 08 | 02-200 |  0.98% |  0.61% |  0.02%\n",
      "00:51:50 | 6 08 | 03-000 |  6.52% |  5.19% |  4.39%\n",
      "00:52:19 | 6 08 | 03-050 | -1.20% | -0.34% |  1.90%\n",
      "00:52:45 | 6 08 | 03-100 |  4.20% |  1.28% |  1.59%\n",
      "00:53:14 | 6 08 | 03-150 |  8.17% |  1.33% |  0.95%\n",
      "00:53:42 | 6 08 | 03-200 |  4.80% |  2.89% |  2.45%\n",
      "00:54:10 | 6 08 | 04-000 | -7.35% |  3.49% |  3.58%\n",
      "00:54:39 | 6 08 | 04-050 |  7.34% | -2.14% | -3.76%\n",
      "00:55:06 | 6 08 | 04-100 | 10.25% | -4.00% | -4.20%\n",
      "00:55:34 | 6 08 | 04-150 | -14.92% | -1.93% | -4.37%\n",
      "00:56:01 | 6 08 | 04-200 | -16.43% |  0.93% | -2.90%\n",
      "00:56:33 | 2 16 | 00-000 |  4.74% |  2.12% |  1.66%\n",
      "00:57:03 | 2 16 | 00-050 | -0.39% |  0.70% | -0.41%\n",
      "00:57:32 | 2 16 | 00-100 | -0.10% |  0.31% | -0.11%\n",
      "00:58:01 | 2 16 | 00-150 | -0.59% |  0.18% | -0.08%\n",
      "00:58:31 | 2 16 | 00-200 | -0.57% | -0.73% |  0.28%\n",
      "00:59:02 | 2 16 | 01-000 |  0.29% |  0.19% | -0.40%\n",
      "00:59:33 | 2 16 | 01-050 |  1.14% | -0.04% | -0.59%\n",
      "01:00:05 | 2 16 | 01-100 |  0.38% |  1.43% |  1.10%\n",
      "01:00:38 | 2 16 | 01-150 |  0.90% | -0.25% | -0.99%\n",
      "01:01:09 | 2 16 | 01-200 | -0.69% | -0.46% | -1.58%\n",
      "01:01:43 | 2 16 | 02-000 |  0.01% |  0.04% | -0.44%\n",
      "01:02:10 | 2 16 | 02-050 | -0.28% | -0.10% | -1.15%\n",
      "01:02:42 | 2 16 | 02-100 | -2.37% | -2.36% | -2.98%\n",
      "01:03:13 | 2 16 | 02-150 |  2.15% |  2.37% |  3.07%\n",
      "01:03:43 | 2 16 | 02-200 |  2.71% |  2.89% |  3.51%\n",
      "01:04:13 | 2 16 | 03-000 | -0.12% | -0.32% |  1.16%\n",
      "01:04:39 | 2 16 | 03-050 |  2.53% |  2.70% |  1.03%\n",
      "01:05:04 | 2 16 | 03-100 | -1.14% | -1.14% | -1.45%\n",
      "01:05:30 | 2 16 | 03-150 |  0.06% |  0.77% |  0.74%\n",
      "01:05:55 | 2 16 | 03-200 |  0.21% | -0.53% |  1.62%\n",
      "01:06:24 | 2 16 | 04-000 |  1.33% |  0.83% |  1.43%\n",
      "01:06:51 | 2 16 | 04-050 |  2.32% |  1.51% |  0.60%\n",
      "01:07:21 | 2 16 | 04-100 |  2.26% |  2.36% |  2.72%\n",
      "01:07:49 | 2 16 | 04-150 |  0.46% | -0.05% | -2.51%\n",
      "01:08:17 | 2 16 | 04-200 | -1.09% | -1.18% |  1.26%\n",
      "01:08:47 | 3 16 | 00-000 |  3.41% |  2.46% |  2.47%\n",
      "01:09:17 | 3 16 | 00-050 | -3.07% | -0.67% | -1.29%\n",
      "01:09:45 | 3 16 | 00-100 | -1.00% |  0.95% |  0.24%\n",
      "01:10:15 | 3 16 | 00-150 | -0.48% |  0.08% | -0.20%\n",
      "01:10:47 | 3 16 | 00-200 | -0.45% | -0.17% | -0.15%\n",
      "01:11:17 | 3 16 | 01-000 |  0.22% |  1.14% |  0.11%\n",
      "01:11:45 | 3 16 | 01-050 |  0.62% |  0.75% |  0.69%\n",
      "01:12:13 | 3 16 | 01-100 |  0.36% |  1.31% |  2.50%\n"
     ]
    },
    {
     "name": "stdout",
     "output_type": "stream",
     "text": [
      "01:12:41 | 3 16 | 01-150 | -1.52% |  0.66% |  1.53%\n",
      "01:13:10 | 3 16 | 01-200 | -1.13% | -0.74% | -1.39%\n",
      "01:13:43 | 3 16 | 02-000 | -1.25% | -0.97% | -1.18%\n",
      "01:14:10 | 3 16 | 02-050 | -0.86% | -1.06% | -1.49%\n",
      "01:14:40 | 3 16 | 02-100 | -1.12% | -0.82% | -0.01%\n",
      "01:15:06 | 3 16 | 02-150 |  2.52% |  2.16% |  2.97%\n",
      "01:15:37 | 3 16 | 02-200 |  0.46% |  0.68% |  0.28%\n",
      "01:16:13 | 3 16 | 03-000 |  1.72% |  1.41% |  0.80%\n",
      "01:16:43 | 3 16 | 03-050 |  0.18% |  0.12% | -1.24%\n",
      "01:17:12 | 3 16 | 03-100 |  0.03% |  0.04% |  0.32%\n",
      "01:17:49 | 3 16 | 03-150 | -0.75% | -1.11% | -1.28%\n",
      "01:18:18 | 3 16 | 03-200 |  0.82% |  0.27% |  0.64%\n",
      "01:18:53 | 3 16 | 04-000 |  0.77% |  1.31% |  0.01%\n",
      "01:19:22 | 3 16 | 04-050 |  0.77% |  0.40% | -3.04%\n",
      "01:19:52 | 3 16 | 04-100 |  0.83% |  1.13% |  0.58%\n",
      "01:20:23 | 3 16 | 04-150 | -0.16% | -0.32% |  1.76%\n",
      "01:20:52 | 3 16 | 04-200 |  0.13% | -0.21% |  2.14%\n",
      "01:21:29 | 4 16 | 00-000 |  3.51% |  2.89% |  3.23%\n",
      "01:22:00 | 4 16 | 00-050 |  0.62% |  1.24% |  0.96%\n",
      "01:22:31 | 4 16 | 00-100 | -0.70% |  1.01% |  1.09%\n",
      "01:23:03 | 4 16 | 00-150 | -0.06% |  0.72% |  0.13%\n",
      "01:23:37 | 4 16 | 00-200 |  0.35% |  0.71% |  0.09%\n",
      "01:24:09 | 4 16 | 01-000 | -0.45% | -0.58% | -1.07%\n",
      "01:24:37 | 4 16 | 01-050 | -1.38% | -1.75% | -4.15%\n",
      "01:25:05 | 4 16 | 01-100 |  0.26% | -0.97% | -2.97%\n",
      "01:25:33 | 4 16 | 01-150 | -1.33% | -1.72% | -3.27%\n",
      "01:26:02 | 4 16 | 01-200 |  0.12% |  0.85% |  1.52%\n",
      "01:26:34 | 4 16 | 02-000 |  0.81% |  0.85% |  1.66%\n",
      "01:27:05 | 4 16 | 02-050 |  1.37% |  1.81% |  2.94%\n",
      "01:27:34 | 4 16 | 02-100 |  1.71% |  1.79% |  1.73%\n",
      "01:28:01 | 4 16 | 02-150 |  1.10% |  1.12% |  2.35%\n",
      "01:28:34 | 4 16 | 02-200 | -0.13% | -0.29% | -1.03%\n",
      "01:29:28 | 4 16 | 03-000 |  1.84% |  1.94% |  1.62%\n",
      "01:30:22 | 4 16 | 03-050 | -0.10% | -0.84% | -2.40%\n",
      "01:31:11 | 4 16 | 03-100 |  0.17% | -0.18% |  1.15%\n",
      "01:32:01 | 4 16 | 03-150 | -0.25% | -0.61% |  1.99%\n",
      "01:32:49 | 4 16 | 03-200 |  3.09% |  1.51% |  1.24%\n",
      "01:33:38 | 4 16 | 04-000 |  7.46% |  3.56% |  3.72%\n",
      "01:34:26 | 4 16 | 04-050 | -2.39% | -2.49% | -5.12%\n",
      "01:35:13 | 4 16 | 04-100 | -0.66% | -2.62% | -1.75%\n",
      "01:36:04 | 4 16 | 04-150 |  4.08% |  3.04% |  2.14%\n",
      "01:36:52 | 4 16 | 04-200 |  5.12% |  3.99% |  5.60%\n",
      "01:37:42 | 5 16 | 00-000 |  0.24% | -1.03% | -2.45%\n",
      "01:38:30 | 5 16 | 00-050 |  1.23% |  1.50% | -0.24%\n",
      "01:39:19 | 5 16 | 00-100 |  0.69% |  1.35% |  1.38%\n",
      "01:40:04 | 5 16 | 00-150 |  0.77% |  0.35% |  0.38%\n",
      "01:40:52 | 5 16 | 00-200 |  1.66% | -0.05% | -2.30%\n",
      "01:41:40 | 5 16 | 01-000 |  0.64% |  1.55% |  2.58%\n",
      "01:42:26 | 5 16 | 01-050 |  0.33% | -0.63% | -1.24%\n",
      "01:43:15 | 5 16 | 01-100 |  0.95% | -0.45% | -0.18%\n",
      "01:44:04 | 5 16 | 01-150 |  0.32% |  0.89% |  0.99%\n",
      "01:44:52 | 5 16 | 01-200 | -0.47% |  1.01% |  2.13%\n",
      "01:45:46 | 5 16 | 02-000 | -0.13% |  0.07% | -0.15%\n",
      "01:46:33 | 5 16 | 02-050 |  1.01% |  0.80% |  1.04%\n",
      "01:47:18 | 5 16 | 02-100 | -2.23% | -0.88% | -1.81%\n",
      "01:48:04 | 5 16 | 02-150 | -0.53% | -0.40% |  0.36%\n",
      "01:48:48 | 5 16 | 02-200 | -1.01% | -0.69% | -1.00%\n",
      "01:49:34 | 5 16 | 03-000 |  2.08% |  0.63% | -2.26%\n",
      "01:50:21 | 5 16 | 03-050 |  3.04% |  2.32% |  0.98%\n",
      "01:51:10 | 5 16 | 03-100 |  1.88% |  2.43% |  3.18%\n",
      "01:51:57 | 5 16 | 03-150 | -0.14% | -0.10% | -2.78%\n",
      "01:52:43 | 5 16 | 03-200 | -1.89% | -1.42% | -2.03%\n",
      "01:53:29 | 5 16 | 04-000 | -1.78% |  0.81% | -0.67%\n",
      "01:54:14 | 5 16 | 04-050 |  2.50% |  2.55% |  2.48%\n",
      "01:54:58 | 5 16 | 04-100 |  5.53% |  3.41% |  1.30%\n",
      "01:55:44 | 5 16 | 04-150 |  1.75% |  1.71% |  0.65%\n",
      "01:56:29 | 5 16 | 04-200 | -0.88% | -1.81% | -0.58%\n",
      "01:57:16 | 6 16 | 00-000 | -0.91% |  0.47% |  1.53%\n",
      "01:58:03 | 6 16 | 00-050 | -1.59% | -1.87% | -2.44%\n",
      "01:58:51 | 6 16 | 00-100 | -0.84% | -1.49% | -2.67%\n",
      "01:59:37 | 6 16 | 00-150 | -0.81% | -1.28% | -1.62%\n",
      "02:00:25 | 6 16 | 00-200 | -1.77% | -1.16% | -0.99%\n",
      "02:01:16 | 6 16 | 01-000 |  4.07% | -0.77% | -0.41%\n",
      "02:02:01 | 6 16 | 01-050 |  1.88% |  0.21% | -0.29%\n",
      "02:02:46 | 6 16 | 01-100 |  4.03% |  0.88% | -0.09%\n",
      "02:03:32 | 6 16 | 01-150 | -0.98% |  0.66% | -0.28%\n",
      "02:04:16 | 6 16 | 01-200 | -1.12% |  1.88% |  2.08%\n",
      "02:05:08 | 6 16 | 02-000 |  2.81% |  2.84% |  3.80%\n",
      "02:05:55 | 6 16 | 02-050 | -0.01% | -0.09% | -1.76%\n",
      "02:06:40 | 6 16 | 02-100 |  1.78% |  2.04% |  0.55%\n",
      "02:07:28 | 6 16 | 02-150 | -0.90% | -0.86% | -0.76%\n",
      "02:08:16 | 6 16 | 02-200 | -1.65% | -0.77% | -1.83%\n",
      "02:09:02 | 6 16 | 03-000 |  2.50% |  2.39% |  2.61%\n",
      "02:09:46 | 6 16 | 03-050 |  4.88% | -0.28% | -0.86%\n",
      "02:10:31 | 6 16 | 03-100 | -0.59% |  0.01% |  0.53%\n",
      "02:11:15 | 6 16 | 03-150 | -0.76% |  0.26% | -0.32%\n",
      "02:12:03 | 6 16 | 03-200 |  1.38% |  0.96% |  3.28%\n",
      "02:12:49 | 6 16 | 04-000 |  5.03% |  1.07% |  0.58%\n",
      "02:13:34 | 6 16 | 04-050 |  1.76% |  2.57% |  2.26%\n",
      "02:14:19 | 6 16 | 04-100 | -4.61% | -1.05% | -1.75%\n",
      "02:15:04 | 6 16 | 04-150 |  1.91% |  1.22% |  0.39%\n",
      "02:15:49 | 6 16 | 04-200 |  2.86% |  0.08% | -0.56%\n",
      "02:16:35 | 2 32 | 00-000 | -2.64% | -1.53% | -1.18%\n",
      "02:17:22 | 2 32 | 00-050 |  0.97% |  0.42% | -0.07%\n",
      "02:18:07 | 2 32 | 00-100 |  0.75% |  0.69% |  0.92%\n",
      "02:18:54 | 2 32 | 00-150 |  0.78% |  0.35% |  1.01%\n",
      "02:19:41 | 2 32 | 00-200 | -0.35% | -0.54% | -0.02%\n",
      "02:20:31 | 2 32 | 01-000 | -0.84% | -0.25% | -1.19%\n",
      "02:21:21 | 2 32 | 01-050 | -0.10% |  0.42% |  0.70%\n",
      "02:22:06 | 2 32 | 01-100 | -0.93% | -0.43% | -1.09%\n",
      "02:22:54 | 2 32 | 01-150 | -1.00% | -0.23% | -0.91%\n",
      "02:23:39 | 2 32 | 01-200 | -0.40% | -1.28% | -3.41%\n",
      "02:24:27 | 2 32 | 02-000 | -1.29% | -1.24% | -1.16%\n",
      "02:25:17 | 2 32 | 02-050 |  1.91% |  1.92% |  3.36%\n",
      "02:26:05 | 2 32 | 02-100 |  1.27% |  1.14% |  1.07%\n",
      "02:26:54 | 2 32 | 02-150 | -1.82% | -1.97% | -2.28%\n",
      "02:27:40 | 2 32 | 02-200 |  3.32% |  3.34% |  4.54%\n",
      "02:28:26 | 2 32 | 03-000 |  2.63% |  2.00% |  1.17%\n",
      "02:29:13 | 2 32 | 03-050 |  0.90% |  0.52% | -0.24%\n",
      "02:29:58 | 2 32 | 03-100 |  0.40% | -0.58% | -0.35%\n",
      "02:30:44 | 2 32 | 03-150 | -1.13% | -1.98% | -0.92%\n",
      "02:31:31 | 2 32 | 03-200 | -1.14% | -1.46% | -0.85%\n",
      "02:32:19 | 2 32 | 04-000 | -4.14% | -1.87% | -1.54%\n",
      "02:33:08 | 2 32 | 04-050 |  2.00% |  1.11% | -1.19%\n",
      "02:33:57 | 2 32 | 04-100 | -0.51% | -0.79% |  1.59%\n",
      "02:34:48 | 2 32 | 04-150 |  3.38% |  1.24% | -0.22%\n",
      "02:35:33 | 2 32 | 04-200 | -1.36% | -1.21% | -2.21%\n",
      "02:36:22 | 3 32 | 00-000 |  2.71% | -0.83% | -1.35%\n",
      "02:37:08 | 3 32 | 00-050 |  0.67% |  0.95% |  2.32%\n",
      "02:37:54 | 3 32 | 00-100 |  0.77% |  0.18% |  0.60%\n",
      "02:38:40 | 3 32 | 00-150 |  0.70% |  0.50% | -0.08%\n",
      "02:39:26 | 3 32 | 00-200 |  0.87% |  0.59% |  0.06%\n",
      "02:40:16 | 3 32 | 01-000 |  1.76% |  0.56% |  0.29%\n",
      "02:41:06 | 3 32 | 01-050 | -1.14% | -0.97% | -1.85%\n",
      "02:41:57 | 3 32 | 01-100 | -0.72% | -0.46% | -1.36%\n",
      "02:42:48 | 3 32 | 01-150 | -0.12% | -0.58% | -1.71%\n",
      "02:43:34 | 3 32 | 01-200 |  0.76% |  1.20% |  3.16%\n",
      "02:44:23 | 3 32 | 02-000 |  2.24% |  2.08% |  2.60%\n",
      "02:45:10 | 3 32 | 02-050 | -2.04% | -2.23% | -3.97%\n",
      "02:45:55 | 3 32 | 02-100 |  0.35% |  0.97% |  1.80%\n",
      "02:46:47 | 3 32 | 02-150 | -1.74% | -1.62% | -3.12%\n",
      "02:47:38 | 3 32 | 02-200 |  0.72% |  1.24% |  1.15%\n",
      "02:48:19 | 3 32 | 03-000 |  1.58% |  0.56% |  1.02%\n",
      "02:48:44 | 3 32 | 03-050 | -0.80% |  0.12% | -0.96%\n",
      "02:49:09 | 3 32 | 03-100 | -0.51% | -0.55% | -1.11%\n",
      "02:49:35 | 3 32 | 03-150 |  1.12% | -0.32% | -0.12%\n",
      "02:49:60 | 3 32 | 03-200 |  1.51% |  1.15% |  0.09%\n",
      "02:50:25 | 3 32 | 04-000 |  0.43% |  1.00% |  0.43%\n",
      "02:50:52 | 3 32 | 04-050 |  0.54% |  0.16% |  0.18%\n",
      "02:51:15 | 3 32 | 04-100 |  0.91% |  0.89% | -1.35%\n",
      "02:51:42 | 3 32 | 04-150 |  0.84% |  0.18% |  2.39%\n",
      "02:52:05 | 3 32 | 04-200 | -2.51% | -1.11% | -2.91%\n",
      "02:52:32 | 4 32 | 00-000 | -0.21% |  1.51% |  2.16%\n",
      "02:52:57 | 4 32 | 00-050 | -0.55% |  0.35% | -0.07%\n",
      "02:53:21 | 4 32 | 00-100 | -0.44% | -0.14% | -0.73%\n",
      "02:53:47 | 4 32 | 00-150 |  0.48% |  0.17% |  0.09%\n",
      "02:54:11 | 4 32 | 00-200 | -0.78% | -0.39% | -0.08%\n",
      "02:54:40 | 4 32 | 01-000 | -1.57% | -0.97% | -0.67%\n",
      "02:55:07 | 4 32 | 01-050 |  2.06% |  1.26% |  1.08%\n",
      "02:55:31 | 4 32 | 01-100 | -1.24% | -1.14% |  0.60%\n",
      "02:55:55 | 4 32 | 01-150 |  1.37% |  0.95% |  1.53%\n",
      "02:56:19 | 4 32 | 01-200 | -0.75% | -0.85% | -1.76%\n",
      "02:56:44 | 4 32 | 02-000 |  0.31% |  0.30% | -0.56%\n",
      "02:57:09 | 4 32 | 02-050 |  2.33% |  2.25% |  1.80%\n",
      "02:57:33 | 4 32 | 02-100 | -0.96% | -0.99% | -1.45%\n",
      "02:57:58 | 4 32 | 02-150 |  0.12% |  0.18% | -1.14%\n",
      "02:58:25 | 4 32 | 02-200 |  0.24% |  0.30% |  1.31%\n",
      "02:58:52 | 4 32 | 03-000 | -0.47% | -0.04% |  2.34%\n"
     ]
    },
    {
     "name": "stdout",
     "output_type": "stream",
     "text": [
      "02:59:16 | 4 32 | 03-050 |  2.26% |  1.44% |  1.23%\n",
      "02:59:41 | 4 32 | 03-100 |  0.56% |  0.28% | -1.49%\n",
      "03:00:05 | 4 32 | 03-150 |  1.58% |  1.06% |  1.86%\n",
      "03:00:30 | 4 32 | 03-200 |  4.93% |  1.76% | -0.40%\n",
      "03:00:55 | 4 32 | 04-000 | -2.71% | -1.63% | -1.81%\n",
      "03:01:19 | 4 32 | 04-050 | -0.12% | -0.69% |  0.64%\n",
      "03:01:43 | 4 32 | 04-100 | -1.33% | -2.24% | -3.16%\n",
      "03:02:07 | 4 32 | 04-150 |  3.42% |  2.37% |  2.86%\n",
      "03:02:32 | 4 32 | 04-200 |  1.83% |  1.21% | -1.68%\n",
      "03:02:58 | 5 32 | 00-000 |  2.18% |  1.41% |  1.91%\n",
      "03:03:23 | 5 32 | 00-050 | -0.11% |  1.47% |  1.79%\n",
      "03:03:48 | 5 32 | 00-100 |  0.35% |  1.34% |  1.53%\n",
      "03:04:12 | 5 32 | 00-150 |  0.33% |  0.65% |  0.39%\n",
      "03:04:36 | 5 32 | 00-200 |  0.55% | -0.31% | -0.22%\n",
      "03:05:01 | 5 32 | 01-000 |  2.43% |  1.36% |  1.22%\n",
      "03:05:26 | 5 32 | 01-050 | -0.20% | -0.08% |  0.09%\n",
      "03:05:54 | 5 32 | 01-100 |  2.05% |  2.33% |  2.85%\n",
      "03:06:18 | 5 32 | 01-150 |  0.26% |  0.21% | -0.57%\n",
      "03:06:43 | 5 32 | 01-200 |  1.97% |  0.95% |  0.98%\n",
      "03:07:08 | 5 32 | 02-000 |  2.06% |  1.90% |  1.81%\n",
      "03:07:32 | 5 32 | 02-050 | -0.23% | -0.67% | -1.29%\n",
      "03:07:57 | 5 32 | 02-100 |  2.18% |  2.17% |  3.56%\n",
      "03:08:22 | 5 32 | 02-150 | -2.70% | -2.80% | -3.16%\n",
      "03:08:46 | 5 32 | 02-200 |  0.92% |  0.11% | -0.03%\n",
      "03:09:11 | 5 32 | 03-000 | -0.33% | -1.54% |  0.21%\n",
      "03:09:35 | 5 32 | 03-050 | -1.45% | -0.91% | -1.54%\n",
      "03:10:01 | 5 32 | 03-100 |  0.15% | -0.82% | -1.33%\n",
      "03:10:25 | 5 32 | 03-150 |  1.14% | -0.11% |  0.57%\n",
      "03:10:49 | 5 32 | 03-200 | -1.10% | -1.20% | -2.25%\n",
      "03:11:16 | 5 32 | 04-000 | -2.35% |  0.78% |  0.82%\n",
      "03:11:40 | 5 32 | 04-050 |  1.28% | -1.96% | -2.38%\n",
      "03:12:05 | 5 32 | 04-100 |  3.62% | -1.04% | -1.34%\n",
      "03:12:29 | 5 32 | 04-150 |  0.28% | -1.08% |  0.13%\n",
      "03:12:53 | 5 32 | 04-200 |  4.91% |  1.66% |  2.77%\n",
      "03:13:18 | 6 32 | 00-000 | -1.36% | -3.17% | -2.66%\n",
      "03:13:44 | 6 32 | 00-050 | -1.78% | -1.05% | -1.28%\n",
      "03:14:10 | 6 32 | 00-100 | -0.76% | -1.08% | -1.79%\n",
      "03:14:34 | 6 32 | 00-150 | -1.32% | -1.27% | -1.29%\n",
      "03:14:58 | 6 32 | 00-200 | -1.08% | -0.61% | -0.72%\n",
      "03:15:23 | 6 32 | 01-000 |  3.12% |  0.95% |  1.79%\n",
      "03:15:47 | 6 32 | 01-050 |  0.06% | -1.50% | -1.52%\n",
      "03:16:15 | 6 32 | 01-100 | -1.11% | -1.48% | -2.39%\n",
      "03:16:42 | 6 32 | 01-150 |  1.85% | -0.63% | -0.87%\n",
      "03:17:06 | 6 32 | 01-200 | -0.10% | -1.60% | -0.99%\n",
      "03:17:33 | 6 32 | 02-000 |  1.16% |  0.97% |  2.08%\n",
      "03:17:57 | 6 32 | 02-050 |  0.64% |  0.25% | -1.16%\n",
      "03:18:21 | 6 32 | 02-100 |  0.48% |  0.63% |  1.35%\n",
      "03:18:45 | 6 32 | 02-150 | -0.18% | -0.55% | -0.45%\n",
      "03:19:10 | 6 32 | 02-200 |  0.05% |  0.27% | -0.42%\n",
      "03:19:35 | 6 32 | 03-000 |  0.41% |  0.18% |  1.20%\n",
      "03:19:59 | 6 32 | 03-050 |  2.24% |  1.90% |  1.98%\n",
      "03:20:23 | 6 32 | 03-100 |  0.65% |  1.06% |  1.61%\n",
      "03:20:48 | 6 32 | 03-150 | -2.33% |  1.44% |  1.27%\n",
      "03:21:12 | 6 32 | 03-200 | -0.20% |  0.42% | -0.42%\n",
      "03:21:38 | 6 32 | 04-000 | -4.18% | -0.86% | -1.21%\n",
      "03:22:04 | 6 32 | 04-050 |  3.33% |  3.42% |  2.74%\n",
      "03:22:27 | 6 32 | 04-100 | -1.67% | -2.63% | -1.03%\n",
      "03:22:51 | 6 32 | 04-150 | -0.61% | -0.45% | -1.25%\n",
      "03:23:15 | 6 32 | 04-200 | -3.89% | -2.30% | -2.11%\n"
     ]
    }
   ],
   "source": [
    "start = time()\n",
    "for units, n_factors in param_grid:\n",
    "    scores = []\n",
    "    model = make_model(hidden_units=units, n_factors=n_factors)\n",
    "    for fold, (train_idx, val_idx) in enumerate(cv.split(data)):\n",
    "        X1_train, X2_train, y_train, X1_val, X2_val, y_val = get_train_valid_data(data,\n",
    "                                                                                  train_idx,\n",
    "                                                                                  val_idx)\n",
    "        for epoch in range(250):\n",
    "            model.fit([X1_train, X2_train], y_train,\n",
    "                      batch_size=batch_size,\n",
    "                      validation_data=([X1_val, X2_val], y_val),\n",
    "                      epochs=epoch + 1,\n",
    "                      initial_epoch=epoch,\n",
    "                      verbose=0, shuffle=True)\n",
    "            result = (pd.DataFrame({'y_pred': model.predict([X1_val,\n",
    "                                                             X2_val]).reshape(-1),\n",
    "                                    'y_true': y_val.stack().values},\n",
    "                                   index=y_val.stack().index)\n",
    "                      .replace(-2, np.nan).dropna())\n",
    "            r0 = spearmanr(result.y_true, result.y_pred)[0]\n",
    "            r1 = result.groupby(level='date').apply(lambda x: spearmanr(x.y_pred,\n",
    "                                                                        x.y_true)[0])\n",
    "\n",
    "            scores.append([units, n_factors, fold, epoch, r0,\n",
    "                           r1.mean(), r1.std(), r1.median()])\n",
    "            if epoch % 50 == 0:\n",
    "                print(f'{format_time(time()-start)} | {n_factors} {units:02} | {fold:02}-{epoch:03} | {r0:6.2%} | '\n",
    "                  f'{r1.mean():6.2%} | {r1.median():6.2%}')            \n",
    "    scores = pd.DataFrame(scores, columns=cols)\n",
    "    scores.to_hdf(results_path / 'scores.h5', f'{units}/{n_factors}')"
   ]
  },
  {
   "cell_type": "markdown",
   "metadata": {},
   "source": [
    "### Evaluate Results"
   ]
  },
  {
   "cell_type": "code",
   "execution_count": 23,
   "metadata": {
    "ExecuteTime": {
     "end_time": "2020-06-22T22:38:05.473536Z",
     "start_time": "2020-06-22T22:38:05.347146Z"
    }
   },
   "outputs": [],
   "source": [
    "scores = []\n",
    "with pd.HDFStore(results_path / 'scores.h5') as store:\n",
    "    for key in store.keys():\n",
    "        scores.append(store[key])\n",
    "scores = pd.concat(scores)"
   ]
  },
  {
   "cell_type": "code",
   "execution_count": 24,
   "metadata": {
    "ExecuteTime": {
     "end_time": "2020-06-22T22:38:05.528268Z",
     "start_time": "2020-06-22T22:38:05.522598Z"
    }
   },
   "outputs": [
    {
     "name": "stdout",
     "output_type": "stream",
     "text": [
      "<class 'pandas.core.frame.DataFrame'>\n",
      "Int64Index: 18750 entries, 0 to 1249\n",
      "Data columns (total 8 columns):\n",
      " #   Column           Non-Null Count  Dtype  \n",
      "---  ------           --------------  -----  \n",
      " 0   units            18750 non-null  int64  \n",
      " 1   n_factors        18750 non-null  int64  \n",
      " 2   fold             18750 non-null  int64  \n",
      " 3   epoch            18750 non-null  int64  \n",
      " 4   ic_mean          18750 non-null  float64\n",
      " 5   ic_daily_mean    18750 non-null  float64\n",
      " 6   ic_daily_std     18750 non-null  float64\n",
      " 7   ic_daily_median  18750 non-null  float64\n",
      "dtypes: float64(4), int64(4)\n",
      "memory usage: 1.3 MB\n"
     ]
    }
   ],
   "source": [
    "scores.info()"
   ]
  },
  {
   "cell_type": "code",
   "execution_count": 25,
   "metadata": {
    "ExecuteTime": {
     "end_time": "2020-06-22T22:38:08.227517Z",
     "start_time": "2020-06-22T22:38:08.216496Z"
    }
   },
   "outputs": [],
   "source": [
    "avg = (scores.groupby(['n_factors', 'units', 'epoch'])\n",
    "       ['ic_mean', 'ic_daily_mean', 'ic_daily_median']\n",
    "       .mean()\n",
    "      .reset_index())"
   ]
  },
  {
   "cell_type": "code",
   "execution_count": 28,
   "metadata": {
    "ExecuteTime": {
     "end_time": "2020-06-22T22:38:31.991665Z",
     "start_time": "2020-06-22T22:38:31.952196Z"
    }
   },
   "outputs": [
    {
     "data": {
      "text/html": [
       "<div>\n",
       "<style scoped>\n",
       "    .dataframe tbody tr th:only-of-type {\n",
       "        vertical-align: middle;\n",
       "    }\n",
       "\n",
       "    .dataframe tbody tr th {\n",
       "        vertical-align: top;\n",
       "    }\n",
       "\n",
       "    .dataframe thead th {\n",
       "        text-align: right;\n",
       "    }\n",
       "</style>\n",
       "<table border=\"1\" class=\"dataframe\">\n",
       "  <thead>\n",
       "    <tr style=\"text-align: right;\">\n",
       "      <th></th>\n",
       "      <th></th>\n",
       "      <th>n_factors</th>\n",
       "      <th>units</th>\n",
       "      <th>epoch</th>\n",
       "      <th>ic_mean</th>\n",
       "      <th>ic_daily_mean</th>\n",
       "      <th>ic_daily_median</th>\n",
       "    </tr>\n",
       "    <tr>\n",
       "      <th>n_factors</th>\n",
       "      <th>units</th>\n",
       "      <th></th>\n",
       "      <th></th>\n",
       "      <th></th>\n",
       "      <th></th>\n",
       "      <th></th>\n",
       "      <th></th>\n",
       "    </tr>\n",
       "  </thead>\n",
       "  <tbody>\n",
       "    <tr>\n",
       "      <th rowspan=\"5\" valign=\"top\">5</th>\n",
       "      <th>8</th>\n",
       "      <td>5</td>\n",
       "      <td>8</td>\n",
       "      <td>162</td>\n",
       "      <td>0.046922</td>\n",
       "      <td>0.029146</td>\n",
       "      <td>0.034003</td>\n",
       "    </tr>\n",
       "    <tr>\n",
       "      <th>8</th>\n",
       "      <td>5</td>\n",
       "      <td>8</td>\n",
       "      <td>141</td>\n",
       "      <td>0.058828</td>\n",
       "      <td>0.029581</td>\n",
       "      <td>0.031755</td>\n",
       "    </tr>\n",
       "    <tr>\n",
       "      <th>8</th>\n",
       "      <td>5</td>\n",
       "      <td>8</td>\n",
       "      <td>74</td>\n",
       "      <td>0.042003</td>\n",
       "      <td>0.026353</td>\n",
       "      <td>0.030491</td>\n",
       "    </tr>\n",
       "    <tr>\n",
       "      <th>8</th>\n",
       "      <td>5</td>\n",
       "      <td>8</td>\n",
       "      <td>2</td>\n",
       "      <td>0.078509</td>\n",
       "      <td>0.034448</td>\n",
       "      <td>0.030237</td>\n",
       "    </tr>\n",
       "    <tr>\n",
       "      <th>8</th>\n",
       "      <td>5</td>\n",
       "      <td>8</td>\n",
       "      <td>131</td>\n",
       "      <td>0.038715</td>\n",
       "      <td>0.024700</td>\n",
       "      <td>0.029099</td>\n",
       "    </tr>\n",
       "    <tr>\n",
       "      <th>2</th>\n",
       "      <th>16</th>\n",
       "      <td>2</td>\n",
       "      <td>16</td>\n",
       "      <td>151</td>\n",
       "      <td>0.017604</td>\n",
       "      <td>0.023406</td>\n",
       "      <td>0.029056</td>\n",
       "    </tr>\n",
       "    <tr>\n",
       "      <th rowspan=\"3\" valign=\"top\">4</th>\n",
       "      <th>8</th>\n",
       "      <td>4</td>\n",
       "      <td>8</td>\n",
       "      <td>3</td>\n",
       "      <td>0.030489</td>\n",
       "      <td>0.025923</td>\n",
       "      <td>0.028632</td>\n",
       "    </tr>\n",
       "    <tr>\n",
       "      <th>8</th>\n",
       "      <td>4</td>\n",
       "      <td>8</td>\n",
       "      <td>14</td>\n",
       "      <td>0.018523</td>\n",
       "      <td>0.018433</td>\n",
       "      <td>0.026335</td>\n",
       "    </tr>\n",
       "    <tr>\n",
       "      <th>8</th>\n",
       "      <td>4</td>\n",
       "      <td>8</td>\n",
       "      <td>6</td>\n",
       "      <td>0.027900</td>\n",
       "      <td>0.023967</td>\n",
       "      <td>0.024697</td>\n",
       "    </tr>\n",
       "    <tr>\n",
       "      <th>6</th>\n",
       "      <th>16</th>\n",
       "      <td>6</td>\n",
       "      <td>16</td>\n",
       "      <td>71</td>\n",
       "      <td>0.014876</td>\n",
       "      <td>0.013128</td>\n",
       "      <td>0.023805</td>\n",
       "    </tr>\n",
       "  </tbody>\n",
       "</table>\n",
       "</div>"
      ],
      "text/plain": [
       "                 n_factors  units  epoch   ic_mean  ic_daily_mean  \\\n",
       "n_factors units                                                     \n",
       "5         8              5      8    162  0.046922       0.029146   \n",
       "          8              5      8    141  0.058828       0.029581   \n",
       "          8              5      8     74  0.042003       0.026353   \n",
       "          8              5      8      2  0.078509       0.034448   \n",
       "          8              5      8    131  0.038715       0.024700   \n",
       "2         16             2     16    151  0.017604       0.023406   \n",
       "4         8              4      8      3  0.030489       0.025923   \n",
       "          8              4      8     14  0.018523       0.018433   \n",
       "          8              4      8      6  0.027900       0.023967   \n",
       "6         16             6     16     71  0.014876       0.013128   \n",
       "\n",
       "                 ic_daily_median  \n",
       "n_factors units                   \n",
       "5         8             0.034003  \n",
       "          8             0.031755  \n",
       "          8             0.030491  \n",
       "          8             0.030237  \n",
       "          8             0.029099  \n",
       "2         16            0.029056  \n",
       "4         8             0.028632  \n",
       "          8             0.026335  \n",
       "          8             0.024697  \n",
       "6         16            0.023805  "
      ]
     },
     "execution_count": 28,
     "metadata": {},
     "output_type": "execute_result"
    }
   ],
   "source": [
    "top = (avg.groupby(['n_factors', 'units'])\n",
    "       .apply(lambda x: x.nlargest(n=5, columns=['ic_daily_median']))\n",
    "       .reset_index(-1, drop=True))\n",
    "\n",
    "top.nlargest(n=5, columns=['ic_daily_median'])"
   ]
  },
  {
   "cell_type": "code",
   "execution_count": 39,
   "metadata": {
    "ExecuteTime": {
     "end_time": "2020-06-22T22:52:08.209797Z",
     "start_time": "2020-06-22T22:52:08.200596Z"
    }
   },
   "outputs": [
    {
     "data": {
      "text/html": [
       "<div>\n",
       "<style scoped>\n",
       "    .dataframe tbody tr th:only-of-type {\n",
       "        vertical-align: middle;\n",
       "    }\n",
       "\n",
       "    .dataframe tbody tr th {\n",
       "        vertical-align: top;\n",
       "    }\n",
       "\n",
       "    .dataframe thead th {\n",
       "        text-align: right;\n",
       "    }\n",
       "</style>\n",
       "<table border=\"1\" class=\"dataframe\">\n",
       "  <thead>\n",
       "    <tr style=\"text-align: right;\">\n",
       "      <th></th>\n",
       "      <th>n_factors</th>\n",
       "      <th>units</th>\n",
       "      <th>epoch</th>\n",
       "      <th>ic_mean</th>\n",
       "      <th>ic_daily_mean</th>\n",
       "      <th>ic_daily_median</th>\n",
       "    </tr>\n",
       "  </thead>\n",
       "  <tbody>\n",
       "    <tr>\n",
       "      <th>2412</th>\n",
       "      <td>5</td>\n",
       "      <td>8</td>\n",
       "      <td>162</td>\n",
       "      <td>0.046922</td>\n",
       "      <td>0.029146</td>\n",
       "      <td>0.034003</td>\n",
       "    </tr>\n",
       "    <tr>\n",
       "      <th>2391</th>\n",
       "      <td>5</td>\n",
       "      <td>8</td>\n",
       "      <td>141</td>\n",
       "      <td>0.058828</td>\n",
       "      <td>0.029581</td>\n",
       "      <td>0.031755</td>\n",
       "    </tr>\n",
       "    <tr>\n",
       "      <th>2324</th>\n",
       "      <td>5</td>\n",
       "      <td>8</td>\n",
       "      <td>74</td>\n",
       "      <td>0.042003</td>\n",
       "      <td>0.026353</td>\n",
       "      <td>0.030491</td>\n",
       "    </tr>\n",
       "    <tr>\n",
       "      <th>2252</th>\n",
       "      <td>5</td>\n",
       "      <td>8</td>\n",
       "      <td>2</td>\n",
       "      <td>0.078509</td>\n",
       "      <td>0.034448</td>\n",
       "      <td>0.030237</td>\n",
       "    </tr>\n",
       "    <tr>\n",
       "      <th>2381</th>\n",
       "      <td>5</td>\n",
       "      <td>8</td>\n",
       "      <td>131</td>\n",
       "      <td>0.038715</td>\n",
       "      <td>0.024700</td>\n",
       "      <td>0.029099</td>\n",
       "    </tr>\n",
       "    <tr>\n",
       "      <th>401</th>\n",
       "      <td>2</td>\n",
       "      <td>16</td>\n",
       "      <td>151</td>\n",
       "      <td>0.017604</td>\n",
       "      <td>0.023406</td>\n",
       "      <td>0.029056</td>\n",
       "    </tr>\n",
       "    <tr>\n",
       "      <th>2383</th>\n",
       "      <td>5</td>\n",
       "      <td>8</td>\n",
       "      <td>133</td>\n",
       "      <td>0.029274</td>\n",
       "      <td>0.024345</td>\n",
       "      <td>0.028807</td>\n",
       "    </tr>\n",
       "    <tr>\n",
       "      <th>1503</th>\n",
       "      <td>4</td>\n",
       "      <td>8</td>\n",
       "      <td>3</td>\n",
       "      <td>0.030489</td>\n",
       "      <td>0.025923</td>\n",
       "      <td>0.028632</td>\n",
       "    </tr>\n",
       "    <tr>\n",
       "      <th>2306</th>\n",
       "      <td>5</td>\n",
       "      <td>8</td>\n",
       "      <td>56</td>\n",
       "      <td>0.056498</td>\n",
       "      <td>0.031930</td>\n",
       "      <td>0.027303</td>\n",
       "    </tr>\n",
       "    <tr>\n",
       "      <th>2386</th>\n",
       "      <td>5</td>\n",
       "      <td>8</td>\n",
       "      <td>136</td>\n",
       "      <td>0.036864</td>\n",
       "      <td>0.025605</td>\n",
       "      <td>0.026759</td>\n",
       "    </tr>\n",
       "    <tr>\n",
       "      <th>1514</th>\n",
       "      <td>4</td>\n",
       "      <td>8</td>\n",
       "      <td>14</td>\n",
       "      <td>0.018523</td>\n",
       "      <td>0.018433</td>\n",
       "      <td>0.026335</td>\n",
       "    </tr>\n",
       "    <tr>\n",
       "      <th>2353</th>\n",
       "      <td>5</td>\n",
       "      <td>8</td>\n",
       "      <td>103</td>\n",
       "      <td>0.041208</td>\n",
       "      <td>0.024088</td>\n",
       "      <td>0.025368</td>\n",
       "    </tr>\n",
       "    <tr>\n",
       "      <th>2271</th>\n",
       "      <td>5</td>\n",
       "      <td>8</td>\n",
       "      <td>21</td>\n",
       "      <td>0.058964</td>\n",
       "      <td>0.032550</td>\n",
       "      <td>0.025107</td>\n",
       "    </tr>\n",
       "    <tr>\n",
       "      <th>2418</th>\n",
       "      <td>5</td>\n",
       "      <td>8</td>\n",
       "      <td>168</td>\n",
       "      <td>0.034421</td>\n",
       "      <td>0.022460</td>\n",
       "      <td>0.025065</td>\n",
       "    </tr>\n",
       "    <tr>\n",
       "      <th>2392</th>\n",
       "      <td>5</td>\n",
       "      <td>8</td>\n",
       "      <td>142</td>\n",
       "      <td>0.035092</td>\n",
       "      <td>0.023596</td>\n",
       "      <td>0.024735</td>\n",
       "    </tr>\n",
       "    <tr>\n",
       "      <th>1506</th>\n",
       "      <td>4</td>\n",
       "      <td>8</td>\n",
       "      <td>6</td>\n",
       "      <td>0.027900</td>\n",
       "      <td>0.023967</td>\n",
       "      <td>0.024697</td>\n",
       "    </tr>\n",
       "    <tr>\n",
       "      <th>2256</th>\n",
       "      <td>5</td>\n",
       "      <td>8</td>\n",
       "      <td>6</td>\n",
       "      <td>0.039973</td>\n",
       "      <td>0.017784</td>\n",
       "      <td>0.024316</td>\n",
       "    </tr>\n",
       "    <tr>\n",
       "      <th>2372</th>\n",
       "      <td>5</td>\n",
       "      <td>8</td>\n",
       "      <td>122</td>\n",
       "      <td>0.029645</td>\n",
       "      <td>0.019522</td>\n",
       "      <td>0.023960</td>\n",
       "    </tr>\n",
       "    <tr>\n",
       "      <th>3321</th>\n",
       "      <td>6</td>\n",
       "      <td>16</td>\n",
       "      <td>71</td>\n",
       "      <td>0.014876</td>\n",
       "      <td>0.013128</td>\n",
       "      <td>0.023805</td>\n",
       "    </tr>\n",
       "    <tr>\n",
       "      <th>2250</th>\n",
       "      <td>5</td>\n",
       "      <td>8</td>\n",
       "      <td>0</td>\n",
       "      <td>0.054724</td>\n",
       "      <td>0.026102</td>\n",
       "      <td>0.023567</td>\n",
       "    </tr>\n",
       "  </tbody>\n",
       "</table>\n",
       "</div>"
      ],
      "text/plain": [
       "      n_factors  units  epoch   ic_mean  ic_daily_mean  ic_daily_median\n",
       "2412          5      8    162  0.046922       0.029146         0.034003\n",
       "2391          5      8    141  0.058828       0.029581         0.031755\n",
       "2324          5      8     74  0.042003       0.026353         0.030491\n",
       "2252          5      8      2  0.078509       0.034448         0.030237\n",
       "2381          5      8    131  0.038715       0.024700         0.029099\n",
       "401           2     16    151  0.017604       0.023406         0.029056\n",
       "2383          5      8    133  0.029274       0.024345         0.028807\n",
       "1503          4      8      3  0.030489       0.025923         0.028632\n",
       "2306          5      8     56  0.056498       0.031930         0.027303\n",
       "2386          5      8    136  0.036864       0.025605         0.026759\n",
       "1514          4      8     14  0.018523       0.018433         0.026335\n",
       "2353          5      8    103  0.041208       0.024088         0.025368\n",
       "2271          5      8     21  0.058964       0.032550         0.025107\n",
       "2418          5      8    168  0.034421       0.022460         0.025065\n",
       "2392          5      8    142  0.035092       0.023596         0.024735\n",
       "1506          4      8      6  0.027900       0.023967         0.024697\n",
       "2256          5      8      6  0.039973       0.017784         0.024316\n",
       "2372          5      8    122  0.029645       0.019522         0.023960\n",
       "3321          6     16     71  0.014876       0.013128         0.023805\n",
       "2250          5      8      0  0.054724       0.026102         0.023567"
      ]
     },
     "execution_count": 39,
     "metadata": {},
     "output_type": "execute_result"
    }
   ],
   "source": [
    "avg.nlargest(n=20, columns=['ic_daily_median'])"
   ]
  },
  {
   "cell_type": "code",
   "execution_count": 26,
   "metadata": {
    "ExecuteTime": {
     "end_time": "2020-06-22T22:36:36.837952Z",
     "start_time": "2020-06-22T22:36:32.603284Z"
    }
   },
   "outputs": [
    {
     "data": {
      "image/png": "[encoded data removed]",
      "text/plain": [
       "<Figure size 1440x576 with 10 Axes>"
      ]
     },
     "metadata": {},
     "output_type": "display_data"
    }
   ],
   "source": [
    "fig, axes = plt.subplots(ncols=5, nrows=2, figsize=(20, 8), sharey='row', sharex=True)\n",
    "\n",
    "for n in range(2, 7):\n",
    "    df = avg[avg.n_factors==n].pivot(index='epoch', columns='units', values='ic_mean')\n",
    "    df.rolling(10).mean().loc[:200].plot(ax=axes[0][n-2], lw=1, title=f'{n} Factors')\n",
    "    axes[0][n-2].axhline(0, ls='--', c='k', lw=1)\n",
    "    axes[0][n-2].get_legend().remove()\n",
    "    axes[0][n-2].set_ylabel('IC (10-epoch rolling mean)')\n",
    "\n",
    "    df = avg[avg.n_factors==n].pivot(index='epoch', columns='units', values='ic_daily_median')\n",
    "    df.rolling(10).mean().loc[:200].plot(ax=axes[1][n-2], lw=1)\n",
    "    axes[1][n-2].axhline(0, ls='--', c='k', lw=1)\n",
    "    axes[1][n-2].get_legend().remove()\n",
    "    axes[1][n-2].set_ylabel('IC, Daily Median (10-epoch rolling mean)')\n",
    "\n",
    "handles, labels = axes[0][0].get_legend_handles_labels()\n",
    "fig.legend(handles, labels, loc='center right', title='# Units')\n",
    "fig.suptitle('Cross-Validation Performance (2015-2019)', fontsize=16)\n",
    "fig.tight_layout()\n",
    "fig.subplots_adjust(top=.9)\n",
    "fig.savefig(results_path / 'cv_performance', dpi=300);"
   ]
  },
  {
   "cell_type": "markdown",
   "metadata": {},
   "source": [
    "## Generate Predictions"
   ]
  },
  {
   "cell_type": "markdown",
   "metadata": {},
   "source": [
    "We'll average over a range of epochs that appears to deliver good predictions."
   ]
  },
  {
   "cell_type": "code",
   "execution_count": 26,
   "metadata": {
    "ExecuteTime": {
     "end_time": "2020-06-23T01:42:55.807996Z",
     "start_time": "2020-06-23T01:42:55.798227Z"
    }
   },
   "outputs": [],
   "source": [
    "n_factors = 5\n",
    "units = 8\n",
    "batch_size = 32"
   ]
  },
  {
   "cell_type": "code",
   "execution_count": null,
   "metadata": {
    "ExecuteTime": {
     "end_time": "2020-06-23T13:31:21.275251Z",
     "start_time": "2020-06-23T13:29:04.968477Z"
    },
    "scrolled": false
   },
   "outputs": [],
   "source": [
    "predictions = []\n",
    "for i, epoch in enumerate(range(130, 170)):\n",
    "    epoch_preds = []\n",
    "    print(f'\\nEpoch: {epoch}')\n",
    "    for fold, (train_idx, val_idx) in enumerate(cv.split(data)):\n",
    "        X1_train, X2_train, y_train, X1_val, X2_val, y_val = get_train_valid_data(data,\n",
    "                                                                                  train_idx,\n",
    "                                                                                  val_idx)\n",
    "\n",
    "        model = make_model(n_factors=n_factors, hidden_units=units)\n",
    "        model.fit([X1_train, X2_train], y_train,\n",
    "                  batch_size=batch_size,\n",
    "                  epochs=epoch,\n",
    "                  verbose=0,\n",
    "                  shuffle=True)\n",
    "        epoch_preds.append(pd.Series(model.predict([X1_val, X2_val]).reshape(-1),\n",
    "                                     index=y_val.stack().index).to_frame(epoch))\n",
    "\n",
    "    predictions.append(pd.concat(epoch_preds))"
   ]
  },
  {
   "cell_type": "code",
   "execution_count": null,
   "metadata": {
    "ExecuteTime": {
     "start_time": "2020-06-22T23:45:09.013Z"
    }
   },
   "outputs": [],
   "source": [
    "predictions_combined = pd.concat(predictions, axis=1).sort_index()   "
   ]
  },
  {
   "cell_type": "code",
   "execution_count": null,
   "metadata": {
    "ExecuteTime": {
     "start_time": "2020-06-22T23:45:09.326Z"
    }
   },
   "outputs": [],
   "source": [
    "predictions_combined.info()"
   ]
  },
  {
   "cell_type": "code",
   "execution_count": null,
   "metadata": {
    "ExecuteTime": {
     "start_time": "2020-06-22T23:45:10.093Z"
    }
   },
   "outputs": [],
   "source": [
    "predictions_combined.to_hdf(results_path / 'predictions.h5', 'predictions')"
   ]
  }
 ],
 "metadata": {
  "kernelspec": {
   "display_name": "Python [conda env:ml4t-dl]",
   "language": "python",
   "name": "conda-env-ml4t-dl-py"
  },
  "language_info": {
   "codemirror_mode": {
    "name": "ipython",
    "version": 3
   },
   "file_extension": ".py",
   "mimetype": "text/x-python",
   "name": "python",
   "nbconvert_exporter": "python",
   "pygments_lexer": "ipython3",
   "version": "3.7.7"
  },
  "toc": {
   "base_numbering": 1,
   "nav_menu": {},
   "number_sections": true,
   "sideBar": true,
   "skip_h1_title": true,
   "title_cell": "Table of Contents",
   "title_sidebar": "Contents",
   "toc_cell": false,
   "toc_position": {},
   "toc_section_display": true,
   "toc_window_display": true
  }
 },
 "nbformat": 4,
 "nbformat_minor": 4
}
