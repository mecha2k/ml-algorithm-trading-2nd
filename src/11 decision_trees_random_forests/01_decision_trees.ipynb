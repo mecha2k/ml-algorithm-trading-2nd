{
 "cells": [
  {
   "cell_type": "markdown",
   "metadata": {},
   "source": [
    "# How to use decision trees to predict equity returns and price moves"
   ]
  },
  {
   "cell_type": "markdown",
   "metadata": {},
   "source": [
    "In this notebook, we illustrate how to use tree-based models to gain insight and make predictions. \n",
    "\n",
    "To demonstrate regression trees we predict returns, and for the classification case, we return to the example of positive and negative asset price moves."
   ]
  },
  {
   "cell_type": "markdown",
   "metadata": {},
   "source": [
    "## Imports & Settings"
   ]
  },
  {
   "cell_type": "code",
   "execution_count": 1,
   "metadata": {
    "ExecuteTime": {
     "end_time": "2020-06-22T15:34:25.073686Z",
     "start_time": "2020-06-22T15:34:25.071746Z"
    }
   },
   "outputs": [],
   "source": [
    "import warnings\n",
    "warnings.filterwarnings('ignore')"
   ]
  },
  {
   "cell_type": "code",
   "execution_count": 2,
   "metadata": {
    "ExecuteTime": {
     "end_time": "2020-06-22T15:34:29.765810Z",
     "start_time": "2020-06-22T15:34:28.944912Z"
    }
   },
   "outputs": [],
   "source": [
    "%matplotlib inline\n",
    "\n",
    "import os, sys\n",
    "from pathlib import Path\n",
    "\n",
    "import numpy as np\n",
    "from scipy.stats import spearmanr\n",
    "import pandas as pd\n",
    "\n",
    "import matplotlib.pyplot as plt\n",
    "from matplotlib.ticker import FuncFormatter\n",
    "from matplotlib import cm\n",
    "import seaborn as sns\n",
    "\n",
    "from sklearn.tree import DecisionTreeClassifier, DecisionTreeRegressor, export_graphviz, _tree\n",
    "from sklearn.linear_model import LinearRegression, LogisticRegression\n",
    "from sklearn.model_selection import train_test_split, GridSearchCV, learning_curve\n",
    "from sklearn.metrics import roc_auc_score, roc_curve, mean_squared_error, make_scorer\n",
    "import graphviz\n",
    "\n",
    "import statsmodels.api as sm"
   ]
  },
  {
   "cell_type": "code",
   "execution_count": 3,
   "metadata": {
    "ExecuteTime": {
     "end_time": "2020-06-22T15:34:29.769840Z",
     "start_time": "2020-06-22T15:34:29.766901Z"
    }
   },
   "outputs": [],
   "source": [
    "sys.path.insert(1, os.path.join(sys.path[0], '..'))\n",
    "from utils import MultipleTimeSeriesCV"
   ]
  },
  {
   "cell_type": "code",
   "execution_count": 4,
   "metadata": {
    "ExecuteTime": {
     "end_time": "2020-06-22T15:34:30.949588Z",
     "start_time": "2020-06-22T15:34:30.947452Z"
    }
   },
   "outputs": [],
   "source": [
    "sns.set_style('white')"
   ]
  },
  {
   "cell_type": "code",
   "execution_count": 6,
   "metadata": {
    "ExecuteTime": {
     "end_time": "2020-06-22T15:34:36.597184Z",
     "start_time": "2020-06-22T15:34:36.594314Z"
    }
   },
   "outputs": [],
   "source": [
    "results_path = Path('results', 'decision_trees')\n",
    "if not results_path.exists():\n",
    "    results_path.mkdir(parents=True)"
   ]
  },
  {
   "cell_type": "markdown",
   "metadata": {},
   "source": [
    "## Load Model Data"
   ]
  },
  {
   "cell_type": "markdown",
   "metadata": {},
   "source": [
    "We use a simplified version of the data set constructed in Chapter 4, Alpha factor research. It consists of daily stock prices provided by Quandl for the 2010-2017 period and various engineered features. The details can be found in the notebook [data_prep](00_data_prep.ipynb) in the GitHub repo for this chapter."
   ]
  },
  {
   "cell_type": "markdown",
   "metadata": {},
   "source": [
    "The decision tree models in this chapter are not equipped to handle missing or categorical variables, so we will apply dummy encoding to the latter after dropping any of the former."
   ]
  },
  {
   "cell_type": "code",
   "execution_count": 7,
   "metadata": {
    "ExecuteTime": {
     "end_time": "2020-06-22T15:34:43.815743Z",
     "start_time": "2020-06-22T15:34:43.718590Z"
    },
    "scrolled": true
   },
   "outputs": [
    {
     "name": "stdout",
     "output_type": "stream",
     "text": [
      "<class 'pandas.core.frame.DataFrame'>\n",
      "MultiIndex: 56756 entries, ('A', Timestamp('2010-12-31 00:00:00')) to ('ZION', Timestamp('2017-11-30 00:00:00'))\n",
      "Data columns (total 27 columns):\n",
      " #   Column         Non-Null Count  Dtype  \n",
      "---  ------         --------------  -----  \n",
      " 0   atr            56756 non-null  float64\n",
      " 1   bb_down        56756 non-null  float64\n",
      " 2   bb_high        56756 non-null  float64\n",
      " 3   bb_low         56756 non-null  float64\n",
      " 4   bb_mid         56756 non-null  float64\n",
      " 5   bb_up          56756 non-null  float64\n",
      " 6   macd           56756 non-null  float64\n",
      " 7   natr           56756 non-null  float64\n",
      " 8   rsi            56756 non-null  float64\n",
      " 9   sector         56756 non-null  object \n",
      " 10  return_1m      56756 non-null  float64\n",
      " 11  return_3m      56756 non-null  float64\n",
      " 12  return_6m      56756 non-null  float64\n",
      " 13  return_12m     56756 non-null  float64\n",
      " 14  beta           56756 non-null  float64\n",
      " 15  SMB            56756 non-null  float64\n",
      " 16  HML            56756 non-null  float64\n",
      " 17  RMW            56756 non-null  float64\n",
      " 18  CMA            56756 non-null  float64\n",
      " 19  momentum_3     56756 non-null  float64\n",
      " 20  momentum_6     56756 non-null  float64\n",
      " 21  momentum_3_6   56756 non-null  float64\n",
      " 22  momentum_12    56756 non-null  float64\n",
      " 23  momentum_3_12  56756 non-null  float64\n",
      " 24  year           56756 non-null  int64  \n",
      " 25  month          56756 non-null  int64  \n",
      " 26  target         56756 non-null  float64\n",
      "dtypes: float64(24), int64(2), object(1)\n",
      "memory usage: 12.0+ MB\n"
     ]
    }
   ],
   "source": [
    "with pd.HDFStore('data.h5') as store:\n",
    "    data = store['us/equities/monthly']\n",
    "data.info()"
   ]
  },
  {
   "cell_type": "markdown",
   "metadata": {},
   "source": [
    "## Simple Regression Tree with Time Series Data"
   ]
  },
  {
   "cell_type": "markdown",
   "metadata": {},
   "source": [
    "Regression trees make predictions based on the mean outcome value for the training samples assigned to a given node and typically rely on the mean-squared error to select optimal rules during recursive binary splitting.\n",
    "\n",
    "Given a training set, the algorithm iterates over the predictors, $X_1, X_2, ..., X_p$, and possible cutpoints, $s_1, s_2, ..., s_N$, to find an optimal combination. The optimal rule splits the feature space into two regions, $\\{X\\mid X_i < s_j\\}$ and $\\{X\\mid X_i > s_j\\}$, with values for the $X_i$ feature either below or above the $s_j$ threshold so that predictions based on the training subsets maximize the reduction of the squared residuals relative to the current node."
   ]
  },
  {
   "cell_type": "markdown",
   "metadata": {},
   "source": [
    "### Generate two lags of monthly returns"
   ]
  },
  {
   "cell_type": "code",
   "execution_count": 8,
   "metadata": {
    "ExecuteTime": {
     "end_time": "2020-06-22T15:34:45.988150Z",
     "start_time": "2020-06-22T15:34:45.966503Z"
    },
    "scrolled": true
   },
   "outputs": [
    {
     "name": "stdout",
     "output_type": "stream",
     "text": [
      "<class 'pandas.core.frame.DataFrame'>\n",
      "MultiIndex: 56186 entries, ('A', Timestamp('2011-01-31 00:00:00')) to ('ZION', Timestamp('2017-11-30 00:00:00'))\n",
      "Data columns (total 3 columns):\n",
      " #   Column  Non-Null Count  Dtype  \n",
      "---  ------  --------------  -----  \n",
      " 0   y       56186 non-null  float64\n",
      " 1   t-1     56186 non-null  float64\n",
      " 2   t-2     56186 non-null  float64\n",
      "dtypes: float64(3)\n",
      "memory usage: 1.5+ MB\n"
     ]
    }
   ],
   "source": [
    "X2 = data.loc[:, ['target', 'return_1m']]\n",
    "X2.columns = ['y', 't-1']\n",
    "X2['t-2'] = data.groupby(level='ticker').return_1m.shift()\n",
    "X2 = X2.dropna()\n",
    "X2.info()"
   ]
  },
  {
   "cell_type": "code",
   "execution_count": 9,
   "metadata": {
    "ExecuteTime": {
     "end_time": "2020-06-22T15:34:46.161136Z",
     "start_time": "2020-06-22T15:34:46.157413Z"
    }
   },
   "outputs": [],
   "source": [
    "y2 = X2.y\n",
    "X2 = X2.drop('y', axis=1)"
   ]
  },
  {
   "cell_type": "markdown",
   "metadata": {},
   "source": [
    "### Explore Data"
   ]
  },
  {
   "cell_type": "markdown",
   "metadata": {},
   "source": [
    "Note the small spike where we clipped the data."
   ]
  },
  {
   "cell_type": "code",
   "execution_count": 10,
   "metadata": {
    "ExecuteTime": {
     "end_time": "2020-06-22T15:34:47.661138Z",
     "start_time": "2020-06-22T15:34:47.378831Z"
    }
   },
   "outputs": [
    {
     "data": {
      "image/png": "[encoded data removed]",
      "text/plain": [
       "<Figure size 432x288 with 1 Axes>"
      ]
     },
     "metadata": {},
     "output_type": "display_data"
    }
   ],
   "source": [
    "sns.distplot(y2)\n",
    "sns.despine();"
   ]
  },
  {
   "cell_type": "markdown",
   "metadata": {},
   "source": [
    "### Configure Tree"
   ]
  },
  {
   "cell_type": "markdown",
   "metadata": {},
   "source": [
    "Let's start with a simplified example to facilitate visualization and only use two months of lagged returns to predict the following month, in the vein of an AR(2) model from the last chapter:"
   ]
  },
  {
   "cell_type": "code",
   "execution_count": 11,
   "metadata": {
    "ExecuteTime": {
     "end_time": "2020-06-22T15:34:50.576874Z",
     "start_time": "2020-06-22T15:34:50.573561Z"
    }
   },
   "outputs": [],
   "source": [
    "reg_tree_t2 = DecisionTreeRegressor(criterion='mse',\n",
    "                                    splitter='best',\n",
    "                                    max_depth=6,\n",
    "                                    min_samples_split=2,\n",
    "                                    min_samples_leaf=50,\n",
    "                                    min_weight_fraction_leaf=0.0,\n",
    "                                    max_features=None,\n",
    "                                    random_state=42,\n",
    "                                    max_leaf_nodes=None,\n",
    "                                    min_impurity_decrease=0.0,\n",
    "                                    min_impurity_split=None,\n",
    "                                    presort=False)"
   ]
  },
  {
   "cell_type": "markdown",
   "metadata": {},
   "source": [
    "### Train Decision Tree"
   ]
  },
  {
   "cell_type": "code",
   "execution_count": 12,
   "metadata": {
    "ExecuteTime": {
     "end_time": "2020-06-22T15:34:57.609925Z",
     "start_time": "2020-06-22T15:34:51.409222Z"
    }
   },
   "outputs": [
    {
     "name": "stdout",
     "output_type": "stream",
     "text": [
      "77 ms ± 4.31 ms per loop (mean ± std. dev. of 7 runs, 10 loops each)\n"
     ]
    }
   ],
   "source": [
    "%%timeit\n",
    "reg_tree_t2.fit(X=X2, y=y2)"
   ]
  },
  {
   "cell_type": "code",
   "execution_count": 13,
   "metadata": {
    "ExecuteTime": {
     "end_time": "2020-06-22T15:34:57.701375Z",
     "start_time": "2020-06-22T15:34:57.611614Z"
    }
   },
   "outputs": [
    {
     "data": {
      "text/plain": [
       "DecisionTreeRegressor(max_depth=6, min_samples_leaf=50, presort=False,\n",
       "                      random_state=42)"
      ]
     },
     "execution_count": 13,
     "metadata": {},
     "output_type": "execute_result"
    }
   ],
   "source": [
    "reg_tree_t2.fit(X=X2, y=y2)"
   ]
  },
  {
   "cell_type": "markdown",
   "metadata": {},
   "source": [
    "### Visualize Tree"
   ]
  },
  {
   "cell_type": "markdown",
   "metadata": {},
   "source": [
    "You can visualize the tree using the graphviz library (see GitHub for installation instructions) because sklearn can output a description of the tree using the .dot language used by that library. \n",
    "\n",
    "You can configure the output to include feature and class labels and limit the number of levels to keep the chart readable, as follows:"
   ]
  },
  {
   "cell_type": "code",
   "execution_count": 16,
   "metadata": {
    "ExecuteTime": {
     "end_time": "2020-06-22T15:35:27.132012Z",
     "start_time": "2020-06-22T15:35:27.047144Z"
    }
   },
   "outputs": [
    {
     "data": {
      "image/svg+xml": [
       "<?xml version=\"1.0\" encoding=\"UTF-8\" standalone=\"no\"?>\n",
       "<!DOCTYPE svg PUBLIC \"-//W3C//DTD SVG 1.1//EN\"\n",
       " \"http://www.w3.org/Graphics/SVG/1.1/DTD/svg11.dtd\">\n",
       "<!-- Generated by graphviz version 2.42.3 (20191010.1750)\n",
       " -->\n",
       "<!-- Title: Tree Pages: 1 -->\n",
       "<svg width=\"590pt\" height=\"356pt\"\n",
       " viewBox=\"0.00 0.00 590.00 356.00\" xmlns=\"http://www.w3.org/2000/svg\" xmlns:xlink=\"http://www.w3.org/1999/xlink\">\n",
       "<g id=\"graph0\" class=\"graph\" transform=\"scale(1 1) rotate(0) translate(4 352)\">\n",
       "<title>Tree</title>\n",
       "<polygon fill=\"white\" stroke=\"transparent\" points=\"-4,4 -4,-352 586,-352 586,4 -4,4\"/>\n",
       "<!-- 0 -->\n",
       "<g id=\"node1\" class=\"node\">\n",
       "<title>0</title>\n",
       "<path fill=\"#f0b78e\" stroke=\"black\" d=\"M335.5,-348C335.5,-348 238.5,-348 238.5,-348 232.5,-348 226.5,-342 226.5,-336 226.5,-336 226.5,-292 226.5,-292 226.5,-286 232.5,-280 238.5,-280 238.5,-280 335.5,-280 335.5,-280 341.5,-280 347.5,-286 347.5,-292 347.5,-292 347.5,-336 347.5,-336 347.5,-342 341.5,-348 335.5,-348\"/>\n",
       "<text text-anchor=\"start\" x=\"252\" y=\"-332.8\" font-family=\"Helvetica,sans-Serif\" font-size=\"14.00\">t&#45;1 ≤ &#45;0.264</text>\n",
       "<text text-anchor=\"start\" x=\"249\" y=\"-317.8\" font-family=\"Helvetica,sans-Serif\" font-size=\"14.00\">mse = 0.008</text>\n",
       "<text text-anchor=\"start\" x=\"234.5\" y=\"-302.8\" font-family=\"Helvetica,sans-Serif\" font-size=\"14.00\">samples = 56186</text>\n",
       "<text text-anchor=\"start\" x=\"246\" y=\"-287.8\" font-family=\"Helvetica,sans-Serif\" font-size=\"14.00\">value = 0.009</text>\n",
       "</g>\n",
       "<!-- 1 -->\n",
       "<g id=\"node2\" class=\"node\">\n",
       "<title>1</title>\n",
       "<path fill=\"#f5cdb1\" stroke=\"black\" d=\"M262,-244C262,-244 180,-244 180,-244 174,-244 168,-238 168,-232 168,-232 168,-188 168,-188 168,-182 174,-176 180,-176 180,-176 262,-176 262,-176 268,-176 274,-182 274,-188 274,-188 274,-232 274,-232 274,-238 268,-244 262,-244\"/>\n",
       "<text text-anchor=\"start\" x=\"186\" y=\"-228.8\" font-family=\"Helvetica,sans-Serif\" font-size=\"14.00\">t&#45;2 ≤ &#45;0.172</text>\n",
       "<text text-anchor=\"start\" x=\"183\" y=\"-213.8\" font-family=\"Helvetica,sans-Serif\" font-size=\"14.00\">mse = 0.034</text>\n",
       "<text text-anchor=\"start\" x=\"176\" y=\"-198.8\" font-family=\"Helvetica,sans-Serif\" font-size=\"14.00\">samples = 545</text>\n",
       "<text text-anchor=\"start\" x=\"177.5\" y=\"-183.8\" font-family=\"Helvetica,sans-Serif\" font-size=\"14.00\">value = &#45;0.028</text>\n",
       "</g>\n",
       "<!-- 0&#45;&gt;1 -->\n",
       "<g id=\"edge1\" class=\"edge\">\n",
       "<title>0&#45;&gt;1</title>\n",
       "<path fill=\"none\" stroke=\"black\" d=\"M265.57,-279.88C259.98,-271.24 253.88,-261.82 248.04,-252.79\"/>\n",
       "<polygon fill=\"black\" stroke=\"black\" points=\"250.92,-250.79 242.55,-244.3 245.04,-254.6 250.92,-250.79\"/>\n",
       "<text text-anchor=\"middle\" x=\"237.31\" y=\"-265.04\" font-family=\"Helvetica,sans-Serif\" font-size=\"14.00\">True</text>\n",
       "</g>\n",
       "<!-- 16 -->\n",
       "<g id=\"node9\" class=\"node\">\n",
       "<title>16</title>\n",
       "<path fill=\"#f0b78d\" stroke=\"black\" d=\"M401.5,-244C401.5,-244 304.5,-244 304.5,-244 298.5,-244 292.5,-238 292.5,-232 292.5,-232 292.5,-188 292.5,-188 292.5,-182 298.5,-176 304.5,-176 304.5,-176 401.5,-176 401.5,-176 407.5,-176 413.5,-182 413.5,-188 413.5,-188 413.5,-232 413.5,-232 413.5,-238 407.5,-244 401.5,-244\"/>\n",
       "<text text-anchor=\"start\" x=\"320\" y=\"-228.8\" font-family=\"Helvetica,sans-Serif\" font-size=\"14.00\">t&#45;1 ≤ 0.299</text>\n",
       "<text text-anchor=\"start\" x=\"315\" y=\"-213.8\" font-family=\"Helvetica,sans-Serif\" font-size=\"14.00\">mse = 0.007</text>\n",
       "<text text-anchor=\"start\" x=\"300.5\" y=\"-198.8\" font-family=\"Helvetica,sans-Serif\" font-size=\"14.00\">samples = 55641</text>\n",
       "<text text-anchor=\"start\" x=\"312\" y=\"-183.8\" font-family=\"Helvetica,sans-Serif\" font-size=\"14.00\">value = 0.009</text>\n",
       "</g>\n",
       "<!-- 0&#45;&gt;16 -->\n",
       "<g id=\"edge8\" class=\"edge\">\n",
       "<title>0&#45;&gt;16</title>\n",
       "<path fill=\"none\" stroke=\"black\" d=\"M308.43,-279.88C314.02,-271.24 320.12,-261.82 325.96,-252.79\"/>\n",
       "<polygon fill=\"black\" stroke=\"black\" points=\"328.96,-254.6 331.45,-244.3 323.08,-250.79 328.96,-254.6\"/>\n",
       "<text text-anchor=\"middle\" x=\"336.69\" y=\"-265.04\" font-family=\"Helvetica,sans-Serif\" font-size=\"14.00\">False</text>\n",
       "</g>\n",
       "<!-- 2 -->\n",
       "<g id=\"node3\" class=\"node\">\n",
       "<title>2</title>\n",
       "<path fill=\"#eda977\" stroke=\"black\" d=\"M138,-140C138,-140 56,-140 56,-140 50,-140 44,-134 44,-128 44,-128 44,-84 44,-84 44,-78 50,-72 56,-72 56,-72 138,-72 138,-72 144,-72 150,-78 150,-84 150,-84 150,-128 150,-128 150,-134 144,-140 138,-140\"/>\n",
       "<text text-anchor=\"start\" x=\"62\" y=\"-124.8\" font-family=\"Helvetica,sans-Serif\" font-size=\"14.00\">t&#45;2 ≤ &#45;0.248</text>\n",
       "<text text-anchor=\"start\" x=\"62.5\" y=\"-109.8\" font-family=\"Helvetica,sans-Serif\" font-size=\"14.00\">mse = 0.04</text>\n",
       "<text text-anchor=\"start\" x=\"52\" y=\"-94.8\" font-family=\"Helvetica,sans-Serif\" font-size=\"14.00\">samples = 166</text>\n",
       "<text text-anchor=\"start\" x=\"56\" y=\"-79.8\" font-family=\"Helvetica,sans-Serif\" font-size=\"14.00\">value = 0.032</text>\n",
       "</g>\n",
       "<!-- 1&#45;&gt;2 -->\n",
       "<g id=\"edge2\" class=\"edge\">\n",
       "<title>1&#45;&gt;2</title>\n",
       "<path fill=\"none\" stroke=\"black\" d=\"M180.74,-175.88C169.48,-166.62 157.12,-156.45 145.44,-146.85\"/>\n",
       "<polygon fill=\"black\" stroke=\"black\" points=\"147.43,-143.95 137.48,-140.3 142.98,-149.36 147.43,-143.95\"/>\n",
       "</g>\n",
       "<!-- 5 -->\n",
       "<g id=\"node6\" class=\"node\">\n",
       "<title>5</title>\n",
       "<path fill=\"#f8deca\" stroke=\"black\" d=\"M262,-140C262,-140 180,-140 180,-140 174,-140 168,-134 168,-128 168,-128 168,-84 168,-84 168,-78 174,-72 180,-72 180,-72 262,-72 262,-72 268,-72 274,-78 274,-84 274,-84 274,-128 274,-128 274,-134 268,-140 262,-140\"/>\n",
       "<text text-anchor=\"start\" x=\"186\" y=\"-124.8\" font-family=\"Helvetica,sans-Serif\" font-size=\"14.00\">t&#45;2 ≤ &#45;0.022</text>\n",
       "<text text-anchor=\"start\" x=\"186.5\" y=\"-109.8\" font-family=\"Helvetica,sans-Serif\" font-size=\"14.00\">mse = 0.03</text>\n",
       "<text text-anchor=\"start\" x=\"176\" y=\"-94.8\" font-family=\"Helvetica,sans-Serif\" font-size=\"14.00\">samples = 379</text>\n",
       "<text text-anchor=\"start\" x=\"177.5\" y=\"-79.8\" font-family=\"Helvetica,sans-Serif\" font-size=\"14.00\">value = &#45;0.054</text>\n",
       "</g>\n",
       "<!-- 1&#45;&gt;5 -->\n",
       "<g id=\"edge5\" class=\"edge\">\n",
       "<title>1&#45;&gt;5</title>\n",
       "<path fill=\"none\" stroke=\"black\" d=\"M221,-175.88C221,-167.78 221,-158.98 221,-150.47\"/>\n",
       "<polygon fill=\"black\" stroke=\"black\" points=\"224.5,-150.3 221,-140.3 217.5,-150.3 224.5,-150.3\"/>\n",
       "</g>\n",
       "<!-- 3 -->\n",
       "<g id=\"node4\" class=\"node\">\n",
       "<title>3</title>\n",
       "<path fill=\"#c0c0c0\" stroke=\"black\" d=\"M42,-36C42,-36 12,-36 12,-36 6,-36 0,-30 0,-24 0,-24 0,-12 0,-12 0,-6 6,0 12,0 12,0 42,0 42,0 48,0 54,-6 54,-12 54,-12 54,-24 54,-24 54,-30 48,-36 42,-36\"/>\n",
       "<text text-anchor=\"middle\" x=\"27\" y=\"-14.3\" font-family=\"Helvetica,sans-Serif\" font-size=\"14.00\">(...)</text>\n",
       "</g>\n",
       "<!-- 2&#45;&gt;3 -->\n",
       "<g id=\"edge3\" class=\"edge\">\n",
       "<title>2&#45;&gt;3</title>\n",
       "<path fill=\"none\" stroke=\"black\" d=\"M70.14,-72C62.66,-62.81 54.65,-52.97 47.59,-44.3\"/>\n",
       "<polygon fill=\"black\" stroke=\"black\" points=\"50.19,-41.95 41.17,-36.4 44.76,-46.37 50.19,-41.95\"/>\n",
       "</g>\n",
       "<!-- 4 -->\n",
       "<g id=\"node5\" class=\"node\">\n",
       "<title>4</title>\n",
       "<path fill=\"#c0c0c0\" stroke=\"black\" d=\"M114,-36C114,-36 84,-36 84,-36 78,-36 72,-30 72,-24 72,-24 72,-12 72,-12 72,-6 78,0 84,0 84,0 114,0 114,0 120,0 126,-6 126,-12 126,-12 126,-24 126,-24 126,-30 120,-36 114,-36\"/>\n",
       "<text text-anchor=\"middle\" x=\"99\" y=\"-14.3\" font-family=\"Helvetica,sans-Serif\" font-size=\"14.00\">(...)</text>\n",
       "</g>\n",
       "<!-- 2&#45;&gt;4 -->\n",
       "<g id=\"edge4\" class=\"edge\">\n",
       "<title>2&#45;&gt;4</title>\n",
       "<path fill=\"none\" stroke=\"black\" d=\"M97.77,-72C97.96,-63.56 98.17,-54.59 98.36,-46.47\"/>\n",
       "<polygon fill=\"black\" stroke=\"black\" points=\"101.86,-46.48 98.6,-36.4 94.86,-46.32 101.86,-46.48\"/>\n",
       "</g>\n",
       "<!-- 6 -->\n",
       "<g id=\"node7\" class=\"node\">\n",
       "<title>6</title>\n",
       "<path fill=\"#c0c0c0\" stroke=\"black\" d=\"M200,-36C200,-36 170,-36 170,-36 164,-36 158,-30 158,-24 158,-24 158,-12 158,-12 158,-6 164,0 170,0 170,0 200,0 200,0 206,0 212,-6 212,-12 212,-12 212,-24 212,-24 212,-30 206,-36 200,-36\"/>\n",
       "<text text-anchor=\"middle\" x=\"185\" y=\"-14.3\" font-family=\"Helvetica,sans-Serif\" font-size=\"14.00\">(...)</text>\n",
       "</g>\n",
       "<!-- 5&#45;&gt;6 -->\n",
       "<g id=\"edge6\" class=\"edge\">\n",
       "<title>5&#45;&gt;6</title>\n",
       "<path fill=\"none\" stroke=\"black\" d=\"M207.18,-72C203.54,-63.28 199.64,-53.98 196.16,-45.65\"/>\n",
       "<polygon fill=\"black\" stroke=\"black\" points=\"199.38,-44.28 192.29,-36.4 192.92,-46.98 199.38,-44.28\"/>\n",
       "</g>\n",
       "<!-- 11 -->\n",
       "<g id=\"node8\" class=\"node\">\n",
       "<title>11</title>\n",
       "<path fill=\"#c0c0c0\" stroke=\"black\" d=\"M272,-36C272,-36 242,-36 242,-36 236,-36 230,-30 230,-24 230,-24 230,-12 230,-12 230,-6 236,0 242,0 242,0 272,0 272,0 278,0 284,-6 284,-12 284,-12 284,-24 284,-24 284,-30 278,-36 272,-36\"/>\n",
       "<text text-anchor=\"middle\" x=\"257\" y=\"-14.3\" font-family=\"Helvetica,sans-Serif\" font-size=\"14.00\">(...)</text>\n",
       "</g>\n",
       "<!-- 5&#45;&gt;11 -->\n",
       "<g id=\"edge7\" class=\"edge\">\n",
       "<title>5&#45;&gt;11</title>\n",
       "<path fill=\"none\" stroke=\"black\" d=\"M234.82,-72C238.46,-63.28 242.36,-53.98 245.84,-45.65\"/>\n",
       "<polygon fill=\"black\" stroke=\"black\" points=\"249.08,-46.98 249.71,-36.4 242.62,-44.28 249.08,-46.98\"/>\n",
       "</g>\n",
       "<!-- 17 -->\n",
       "<g id=\"node10\" class=\"node\">\n",
       "<title>17</title>\n",
       "<path fill=\"#f0b78e\" stroke=\"black\" d=\"M401.5,-140C401.5,-140 304.5,-140 304.5,-140 298.5,-140 292.5,-134 292.5,-128 292.5,-128 292.5,-84 292.5,-84 292.5,-78 298.5,-72 304.5,-72 304.5,-72 401.5,-72 401.5,-72 407.5,-72 413.5,-78 413.5,-84 413.5,-84 413.5,-128 413.5,-128 413.5,-134 407.5,-140 401.5,-140\"/>\n",
       "<text text-anchor=\"start\" x=\"318\" y=\"-124.8\" font-family=\"Helvetica,sans-Serif\" font-size=\"14.00\">t&#45;1 ≤ &#45;0.098</text>\n",
       "<text text-anchor=\"start\" x=\"315\" y=\"-109.8\" font-family=\"Helvetica,sans-Serif\" font-size=\"14.00\">mse = 0.007</text>\n",
       "<text text-anchor=\"start\" x=\"300.5\" y=\"-94.8\" font-family=\"Helvetica,sans-Serif\" font-size=\"14.00\">samples = 55155</text>\n",
       "<text text-anchor=\"start\" x=\"312\" y=\"-79.8\" font-family=\"Helvetica,sans-Serif\" font-size=\"14.00\">value = 0.009</text>\n",
       "</g>\n",
       "<!-- 16&#45;&gt;17 -->\n",
       "<g id=\"edge9\" class=\"edge\">\n",
       "<title>16&#45;&gt;17</title>\n",
       "<path fill=\"none\" stroke=\"black\" d=\"M353,-175.88C353,-167.78 353,-158.98 353,-150.47\"/>\n",
       "<polygon fill=\"black\" stroke=\"black\" points=\"356.5,-150.3 353,-140.3 349.5,-150.3 356.5,-150.3\"/>\n",
       "</g>\n",
       "<!-- 46 -->\n",
       "<g id=\"node13\" class=\"node\">\n",
       "<title>46</title>\n",
       "<path fill=\"#eca36f\" stroke=\"black\" d=\"M526,-140C526,-140 444,-140 444,-140 438,-140 432,-134 432,-128 432,-128 432,-84 432,-84 432,-78 438,-72 444,-72 444,-72 526,-72 526,-72 532,-72 538,-78 538,-84 538,-84 538,-128 538,-128 538,-134 532,-140 526,-140\"/>\n",
       "<text text-anchor=\"start\" x=\"452\" y=\"-124.8\" font-family=\"Helvetica,sans-Serif\" font-size=\"14.00\">t&#45;2 ≤ 0.023</text>\n",
       "<text text-anchor=\"start\" x=\"447\" y=\"-109.8\" font-family=\"Helvetica,sans-Serif\" font-size=\"14.00\">mse = 0.026</text>\n",
       "<text text-anchor=\"start\" x=\"440\" y=\"-94.8\" font-family=\"Helvetica,sans-Serif\" font-size=\"14.00\">samples = 486</text>\n",
       "<text text-anchor=\"start\" x=\"444\" y=\"-79.8\" font-family=\"Helvetica,sans-Serif\" font-size=\"14.00\">value = 0.041</text>\n",
       "</g>\n",
       "<!-- 16&#45;&gt;46 -->\n",
       "<g id=\"edge12\" class=\"edge\">\n",
       "<title>16&#45;&gt;46</title>\n",
       "<path fill=\"none\" stroke=\"black\" d=\"M395.86,-175.88C407.96,-166.53 421.25,-156.26 433.79,-146.57\"/>\n",
       "<polygon fill=\"black\" stroke=\"black\" points=\"436.13,-149.18 441.91,-140.3 431.85,-143.64 436.13,-149.18\"/>\n",
       "</g>\n",
       "<!-- 18 -->\n",
       "<g id=\"node11\" class=\"node\">\n",
       "<title>18</title>\n",
       "<path fill=\"#c0c0c0\" stroke=\"black\" d=\"M351,-36C351,-36 321,-36 321,-36 315,-36 309,-30 309,-24 309,-24 309,-12 309,-12 309,-6 315,0 321,0 321,0 351,0 351,0 357,0 363,-6 363,-12 363,-12 363,-24 363,-24 363,-30 357,-36 351,-36\"/>\n",
       "<text text-anchor=\"middle\" x=\"336\" y=\"-14.3\" font-family=\"Helvetica,sans-Serif\" font-size=\"14.00\">(...)</text>\n",
       "</g>\n",
       "<!-- 17&#45;&gt;18 -->\n",
       "<g id=\"edge10\" class=\"edge\">\n",
       "<title>17&#45;&gt;18</title>\n",
       "<path fill=\"none\" stroke=\"black\" d=\"M346.48,-72C344.81,-63.56 343.04,-54.59 341.43,-46.47\"/>\n",
       "<polygon fill=\"black\" stroke=\"black\" points=\"344.81,-45.53 339.44,-36.4 337.95,-46.89 344.81,-45.53\"/>\n",
       "</g>\n",
       "<!-- 33 -->\n",
       "<g id=\"node12\" class=\"node\">\n",
       "<title>33</title>\n",
       "<path fill=\"#c0c0c0\" stroke=\"black\" d=\"M423,-36C423,-36 393,-36 393,-36 387,-36 381,-30 381,-24 381,-24 381,-12 381,-12 381,-6 387,0 393,0 393,0 423,0 423,0 429,0 435,-6 435,-12 435,-12 435,-24 435,-24 435,-30 429,-36 423,-36\"/>\n",
       "<text text-anchor=\"middle\" x=\"408\" y=\"-14.3\" font-family=\"Helvetica,sans-Serif\" font-size=\"14.00\">(...)</text>\n",
       "</g>\n",
       "<!-- 17&#45;&gt;33 -->\n",
       "<g id=\"edge11\" class=\"edge\">\n",
       "<title>17&#45;&gt;33</title>\n",
       "<path fill=\"none\" stroke=\"black\" d=\"M374.11,-72C379.86,-63 386.01,-53.38 391.47,-44.84\"/>\n",
       "<polygon fill=\"black\" stroke=\"black\" points=\"394.43,-46.71 396.87,-36.4 388.53,-42.94 394.43,-46.71\"/>\n",
       "</g>\n",
       "<!-- 47 -->\n",
       "<g id=\"node14\" class=\"node\">\n",
       "<title>47</title>\n",
       "<path fill=\"#c0c0c0\" stroke=\"black\" d=\"M498,-36C498,-36 468,-36 468,-36 462,-36 456,-30 456,-24 456,-24 456,-12 456,-12 456,-6 462,0 468,0 468,0 498,0 498,0 504,0 510,-6 510,-12 510,-12 510,-24 510,-24 510,-30 504,-36 498,-36\"/>\n",
       "<text text-anchor=\"middle\" x=\"483\" y=\"-14.3\" font-family=\"Helvetica,sans-Serif\" font-size=\"14.00\">(...)</text>\n",
       "</g>\n",
       "<!-- 46&#45;&gt;47 -->\n",
       "<g id=\"edge13\" class=\"edge\">\n",
       "<title>46&#45;&gt;47</title>\n",
       "<path fill=\"none\" stroke=\"black\" d=\"M484.23,-72C484.04,-63.56 483.83,-54.59 483.64,-46.47\"/>\n",
       "<polygon fill=\"black\" stroke=\"black\" points=\"487.14,-46.32 483.4,-36.4 480.14,-46.48 487.14,-46.32\"/>\n",
       "</g>\n",
       "<!-- 54 -->\n",
       "<g id=\"node15\" class=\"node\">\n",
       "<title>54</title>\n",
       "<path fill=\"#c0c0c0\" stroke=\"black\" d=\"M570,-36C570,-36 540,-36 540,-36 534,-36 528,-30 528,-24 528,-24 528,-12 528,-12 528,-6 534,0 540,0 540,0 570,0 570,0 576,0 582,-6 582,-12 582,-12 582,-24 582,-24 582,-30 576,-36 570,-36\"/>\n",
       "<text text-anchor=\"middle\" x=\"555\" y=\"-14.3\" font-family=\"Helvetica,sans-Serif\" font-size=\"14.00\">(...)</text>\n",
       "</g>\n",
       "<!-- 46&#45;&gt;54 -->\n",
       "<g id=\"edge14\" class=\"edge\">\n",
       "<title>46&#45;&gt;54</title>\n",
       "<path fill=\"none\" stroke=\"black\" d=\"M511.86,-72C519.34,-62.81 527.35,-52.97 534.41,-44.3\"/>\n",
       "<polygon fill=\"black\" stroke=\"black\" points=\"537.24,-46.37 540.83,-36.4 531.81,-41.95 537.24,-46.37\"/>\n",
       "</g>\n",
       "</g>\n",
       "</svg>\n"
      ],
      "text/plain": [
       "<graphviz.files.Source at 0x7fe7a90a6990>"
      ]
     },
     "execution_count": 16,
     "metadata": {},
     "output_type": "execute_result"
    }
   ],
   "source": [
    "out_file = results_path / 'reg_tree_t2.dot'\n",
    "dot_data = export_graphviz(reg_tree_t2,\n",
    "                          out_file=out_file.as_posix(),\n",
    "                          feature_names=X2.columns,\n",
    "                          max_depth=2,\n",
    "                          filled=True,\n",
    "                          rounded=True,\n",
    "                          special_characters=True)\n",
    "if out_file is not None:\n",
    "    dot_data = Path(out_file).read_text()\n",
    "\n",
    "graphviz.Source(dot_data)"
   ]
  },
  {
   "cell_type": "markdown",
   "metadata": {},
   "source": [
    "### Compare with Linear Regression"
   ]
  },
  {
   "cell_type": "markdown",
   "metadata": {},
   "source": [
    "The OLS summary below and a visualization of the first two levels of the decision tree above reveal the striking differences between the models. The OLS model provides three parameters for the intercepts and the two features in line with the linear assumption.\n",
    "\n",
    "In contrast, the regression tree chart above displays for each node of the first two levels the feature and threshold used to split the data (note that features can be used repeatedly), as well as the current value of the mean-squared error (MSE), the number of samples, and predicted value based on these training samples."
   ]
  },
  {
   "cell_type": "markdown",
   "metadata": {},
   "source": [
    "The tree chart also highlights the uneven distribution of samples across the nodes as the numbers vary between 31,000 and 65,000 samples after only two splits."
   ]
  },
  {
   "cell_type": "markdown",
   "metadata": {},
   "source": [
    "#### statsmodels OLS"
   ]
  },
  {
   "cell_type": "code",
   "execution_count": 12,
   "metadata": {
    "ExecuteTime": {
     "end_time": "2020-06-19T13:47:11.195947Z",
     "start_time": "2020-06-19T13:47:11.187300Z"
    },
    "scrolled": true
   },
   "outputs": [],
   "source": [
    "ols_model = sm.OLS(endog=y2, exog=sm.add_constant(X2))"
   ]
  },
  {
   "cell_type": "code",
   "execution_count": 13,
   "metadata": {
    "ExecuteTime": {
     "end_time": "2020-06-19T13:47:13.199881Z",
     "start_time": "2020-06-19T13:47:11.197211Z"
    }
   },
   "outputs": [
    {
     "name": "stdout",
     "output_type": "stream",
     "text": [
      "24.5 µs ± 966 ns per loop (mean ± std. dev. of 7 runs, 10000 loops each)\n"
     ]
    }
   ],
   "source": [
    "%%timeit\n",
    "ols_model.fit()"
   ]
  },
  {
   "cell_type": "code",
   "execution_count": 14,
   "metadata": {
    "ExecuteTime": {
     "end_time": "2020-06-19T13:47:13.214533Z",
     "start_time": "2020-06-19T13:47:13.201234Z"
    }
   },
   "outputs": [
    {
     "name": "stdout",
     "output_type": "stream",
     "text": [
      "                            OLS Regression Results                            \n",
      "==============================================================================\n",
      "Dep. Variable:                      y   R-squared:                       0.001\n",
      "Model:                            OLS   Adj. R-squared:                  0.001\n",
      "Method:                 Least Squares   F-statistic:                     39.02\n",
      "Date:                Fri, 19 Jun 2020   Prob (F-statistic):           1.17e-17\n",
      "Time:                        09:47:13   Log-Likelihood:                 56967.\n",
      "No. Observations:               56186   AIC:                        -1.139e+05\n",
      "Df Residuals:                   56183   BIC:                        -1.139e+05\n",
      "Df Model:                           2                                         \n",
      "Covariance Type:            nonrobust                                         \n",
      "==============================================================================\n",
      "                 coef    std err          t      P>|t|      [0.025      0.975]\n",
      "------------------------------------------------------------------------------\n",
      "const          0.0088      0.000     23.412      0.000       0.008       0.009\n",
      "t-1            0.0327      0.004      7.761      0.000       0.024       0.041\n",
      "t-2           -0.0187      0.004     -4.437      0.000      -0.027      -0.010\n",
      "==============================================================================\n",
      "Omnibus:                     2103.126   Durbin-Watson:                   1.999\n",
      "Prob(Omnibus):                  0.000   Jarque-Bera (JB):             6483.607\n",
      "Skew:                           0.018   Prob(JB):                         0.00\n",
      "Kurtosis:                       4.664   Cond. No.                         11.5\n",
      "==============================================================================\n",
      "\n",
      "Warnings:\n",
      "[1] Standard Errors assume that the covariance matrix of the errors is correctly specified.\n"
     ]
    }
   ],
   "source": [
    "result = ols_model.fit()\n",
    "print(result.summary())"
   ]
  },
  {
   "cell_type": "markdown",
   "metadata": {},
   "source": [
    "#### sklearn Linear Regression"
   ]
  },
  {
   "cell_type": "code",
   "execution_count": 15,
   "metadata": {
    "ExecuteTime": {
     "end_time": "2020-06-19T13:47:13.219713Z",
     "start_time": "2020-06-19T13:47:13.215511Z"
    }
   },
   "outputs": [],
   "source": [
    "lin_reg = LinearRegression()"
   ]
  },
  {
   "cell_type": "code",
   "execution_count": 16,
   "metadata": {
    "ExecuteTime": {
     "end_time": "2020-06-19T13:47:15.364342Z",
     "start_time": "2020-06-19T13:47:13.220745Z"
    }
   },
   "outputs": [
    {
     "name": "stdout",
     "output_type": "stream",
     "text": [
      "2.59 ms ± 24.9 µs per loop (mean ± std. dev. of 7 runs, 100 loops each)\n"
     ]
    }
   ],
   "source": [
    "%%timeit\n",
    "lin_reg.fit(X=X2,y=y2)"
   ]
  },
  {
   "cell_type": "code",
   "execution_count": 17,
   "metadata": {
    "ExecuteTime": {
     "end_time": "2020-06-19T13:47:15.371795Z",
     "start_time": "2020-06-19T13:47:15.365367Z"
    }
   },
   "outputs": [
    {
     "data": {
      "text/plain": [
       "LinearRegression()"
      ]
     },
     "execution_count": 17,
     "metadata": {},
     "output_type": "execute_result"
    }
   ],
   "source": [
    "lin_reg.fit(X=X2,y=y2)"
   ]
  },
  {
   "cell_type": "code",
   "execution_count": 18,
   "metadata": {
    "ExecuteTime": {
     "end_time": "2020-06-19T13:47:15.384111Z",
     "start_time": "2020-06-19T13:47:15.372730Z"
    }
   },
   "outputs": [
    {
     "data": {
      "text/plain": [
       "0.00875544119630164"
      ]
     },
     "execution_count": 18,
     "metadata": {},
     "output_type": "execute_result"
    }
   ],
   "source": [
    "lin_reg.intercept_"
   ]
  },
  {
   "cell_type": "code",
   "execution_count": 19,
   "metadata": {
    "ExecuteTime": {
     "end_time": "2020-06-19T13:47:15.393073Z",
     "start_time": "2020-06-19T13:47:15.385065Z"
    }
   },
   "outputs": [
    {
     "data": {
      "text/plain": [
       "array([ 0.03269516, -0.01868576])"
      ]
     },
     "execution_count": 19,
     "metadata": {},
     "output_type": "execute_result"
    }
   ],
   "source": [
    "lin_reg.coef_"
   ]
  },
  {
   "cell_type": "markdown",
   "metadata": {},
   "source": [
    "### Linear Regression vs Regression Tree Decision Surfaces"
   ]
  },
  {
   "cell_type": "markdown",
   "metadata": {},
   "source": [
    "To further illustrate the different assumptions about the functional form of the relationships between the input variables and the output, we can visualize current return predictions as a function of the feature space, that is, as a function of the range of values for the lagged returns. The following figure shows the current period return as a function of returns one and two periods ago for linear regression and the regression tree:\n",
    "\n",
    "The linear-regression model result on the right side underlines the linearity of the relationship between lagged and current returns, whereas the regression tree chart on the left illustrates the non-linear relationship encoded in the recursive partitioning of the feature space."
   ]
  },
  {
   "cell_type": "code",
   "execution_count": 20,
   "metadata": {
    "ExecuteTime": {
     "end_time": "2020-06-19T13:47:15.412694Z",
     "start_time": "2020-06-19T13:47:15.393993Z"
    }
   },
   "outputs": [],
   "source": [
    "t1, t2 = np.meshgrid(np.linspace(X2['t-1'].quantile(.01), X2['t-1'].quantile(.99), 100),\n",
    "                     np.linspace(X2['t-2'].quantile(.01), X2['t-2'].quantile(.99), 100))\n",
    "X_data = np.c_[t1.ravel(), t2.ravel()]"
   ]
  },
  {
   "cell_type": "code",
   "execution_count": 21,
   "metadata": {
    "ExecuteTime": {
     "end_time": "2020-06-19T13:47:15.864349Z",
     "start_time": "2020-06-19T13:47:15.413913Z"
    },
    "scrolled": false
   },
   "outputs": [
    {
     "data": {
      "image/png": "[encoded data removed]",
      "text/plain": [
       "<Figure size 864x360 with 4 Axes>"
      ]
     },
     "metadata": {},
     "output_type": "display_data"
    }
   ],
   "source": [
    "fig, axes = plt.subplots(ncols=2, figsize=(12,5))\n",
    "\n",
    "# Linear Regression\n",
    "ret1 = lin_reg.predict(X_data).reshape(t1.shape)\n",
    "surface1 = axes[0].contourf(t1, t2, ret1, cmap='Blues')\n",
    "plt.colorbar(mappable=surface1, ax=axes[0])\n",
    "\n",
    "# Regression Tree\n",
    "ret2 = reg_tree_t2.predict(X_data).reshape(t1.shape)\n",
    "surface2 = axes[1].contourf(t1, t2, ret2, cmap='Blues')\n",
    "plt.colorbar(mappable=surface2, ax=axes[1])\n",
    "\n",
    "# Format plots\n",
    "titles = ['Linear Regression', 'Regression Tree']\n",
    "for i, ax in enumerate(axes):\n",
    "    ax.set_xlabel('t-1')\n",
    "    ax.set_ylabel('t-2')\n",
    "    ax.set_title(titles[i])\n",
    "\n",
    "fig.suptitle('Decision Surfaces', fontsize=14)\n",
    "sns.despine()\n",
    "fig.tight_layout()\n",
    "fig.subplots_adjust(top=.9);"
   ]
  },
  {
   "cell_type": "markdown",
   "metadata": {},
   "source": [
    "## Simple Classification Tree with Time Series Data"
   ]
  },
  {
   "cell_type": "markdown",
   "metadata": {},
   "source": [
    "A classification tree works just like the regression version, except that categorical nature of the outcome requires a different approach to making predictions and measuring the loss. While a regression tree predicts the response for an observation assigned to a leaf node using the mean outcome of the associated training samples, a classification tree instead uses the mode, that is, the most common class among the training samples in the relevant region. A classification tree can also generate probabilistic predictions based on relative class frequencies."
   ]
  },
  {
   "cell_type": "markdown",
   "metadata": {},
   "source": [
    "### Loss Functions"
   ]
  },
  {
   "cell_type": "markdown",
   "metadata": {},
   "source": [
    "When growing a classification tree, we also use recursive binary splitting but, instead of evaluating the quality of a decision rule using the reduction of the mean-squared error, we can use the classification error rate, which is simply the fraction of the training samples in a given (leave) node that do not belong to the most common class."
   ]
  },
  {
   "cell_type": "markdown",
   "metadata": {},
   "source": [
    "However, the alternative measures, Gini Index or Cross-Entropy, are preferred because they are more sensitive to node purity than the classification error rate. Node purity refers to the extent of the preponderance of a single class in a node. A node that only contains samples with outcomes belonging to a single class is pure and imply successful classification for this particular region of the feature space. "
   ]
  },
  {
   "cell_type": "code",
   "execution_count": 22,
   "metadata": {
    "ExecuteTime": {
     "end_time": "2020-06-19T13:47:15.868701Z",
     "start_time": "2020-06-19T13:47:15.866677Z"
    }
   },
   "outputs": [],
   "source": [
    "def entropy(f):\n",
    "    return (-f*np.log2(f) - (1-f)*np.log2(1-f))/2"
   ]
  },
  {
   "cell_type": "code",
   "execution_count": 23,
   "metadata": {
    "ExecuteTime": {
     "end_time": "2020-06-19T13:47:15.882913Z",
     "start_time": "2020-06-19T13:47:15.870160Z"
    }
   },
   "outputs": [],
   "source": [
    "def gini(f):\n",
    "    return 2*f*(1-f)"
   ]
  },
  {
   "cell_type": "code",
   "execution_count": 24,
   "metadata": {
    "ExecuteTime": {
     "end_time": "2020-06-19T13:47:15.890923Z",
     "start_time": "2020-06-19T13:47:15.883817Z"
    }
   },
   "outputs": [],
   "source": [
    "def misclassification_rate(f):\n",
    "    return np.where(f<=.5, f, 1-f)"
   ]
  },
  {
   "cell_type": "markdown",
   "metadata": {},
   "source": [
    "Both the Gini Impurity and the Cross-Entropy measure take on smaller values when the class proportions approach zero or one, that is, when the child nodes become pure as a result of the split and are highest when the class proportions are even or 0.5 in the binary case. \n",
    "\n",
    "The chart below visualizes the values assumed by these two measures and the misclassification error rates across the [0, 1] interval of proportions."
   ]
  },
  {
   "cell_type": "code",
   "execution_count": 25,
   "metadata": {
    "ExecuteTime": {
     "end_time": "2020-06-19T13:47:16.142988Z",
     "start_time": "2020-06-19T13:47:15.891927Z"
    }
   },
   "outputs": [
    {
     "data": {
      "image/png": "[encoded data removed]",
      "text/plain": [
       "<Figure size 432x288 with 1 Axes>"
      ]
     },
     "metadata": {},
     "output_type": "display_data"
    }
   ],
   "source": [
    "x = np.linspace(0, 1, 10000)\n",
    "(pd.DataFrame({'Gini': gini(x), \n",
    "              'Entropy': entropy(x),\n",
    "             'Misclassification Rate': misclassification_rate(x)}, index=x)\n",
    " .plot(title='Classification Loss Functions', lw=2, style=['-', '--', ':']))\n",
    "sns.despine()\n",
    "plt.tight_layout();"
   ]
  },
  {
   "cell_type": "markdown",
   "metadata": {},
   "source": [
    "#### Compare computation time"
   ]
  },
  {
   "cell_type": "markdown",
   "metadata": {},
   "source": [
    "Gini is often preferred over entropy because it computes faster:"
   ]
  },
  {
   "cell_type": "code",
   "execution_count": 26,
   "metadata": {
    "ExecuteTime": {
     "end_time": "2020-06-19T13:47:30.855053Z",
     "start_time": "2020-06-19T13:47:16.144013Z"
    }
   },
   "outputs": [
    {
     "name": "stdout",
     "output_type": "stream",
     "text": [
      "18.1 µs ± 212 ns per loop (mean ± std. dev. of 7 runs, 100000 loops each)\n"
     ]
    }
   ],
   "source": [
    "%%timeit\n",
    "misclassification_rate(x)"
   ]
  },
  {
   "cell_type": "code",
   "execution_count": 27,
   "metadata": {
    "ExecuteTime": {
     "end_time": "2020-06-19T13:47:40.020624Z",
     "start_time": "2020-06-19T13:47:30.856014Z"
    }
   },
   "outputs": [
    {
     "name": "stdout",
     "output_type": "stream",
     "text": [
      "11.3 µs ± 188 ns per loop (mean ± std. dev. of 7 runs, 100000 loops each)\n"
     ]
    }
   ],
   "source": [
    "%%timeit\n",
    "gini(x)"
   ]
  },
  {
   "cell_type": "code",
   "execution_count": 28,
   "metadata": {
    "ExecuteTime": {
     "end_time": "2020-06-19T13:47:41.621109Z",
     "start_time": "2020-06-19T13:47:40.021904Z"
    }
   },
   "outputs": [
    {
     "name": "stdout",
     "output_type": "stream",
     "text": [
      "195 µs ± 939 ns per loop (mean ± std. dev. of 7 runs, 1000 loops each)\n"
     ]
    }
   ],
   "source": [
    "%%timeit\n",
    "entropy(x)"
   ]
  },
  {
   "cell_type": "markdown",
   "metadata": {},
   "source": [
    "### Configure Tree"
   ]
  },
  {
   "cell_type": "code",
   "execution_count": 29,
   "metadata": {
    "ExecuteTime": {
     "end_time": "2020-06-19T13:47:41.625353Z",
     "start_time": "2020-06-19T13:47:41.622443Z"
    }
   },
   "outputs": [],
   "source": [
    "clf_tree_t2 = DecisionTreeClassifier(criterion='gini',\n",
    "                                     splitter='best',\n",
    "                                     max_depth=5,\n",
    "                                     min_samples_split=1000,\n",
    "                                     min_samples_leaf=1,\n",
    "                                     min_weight_fraction_leaf=0.0,\n",
    "                                     max_features=None,\n",
    "                                     random_state=42,\n",
    "                                     max_leaf_nodes=None,\n",
    "                                     min_impurity_decrease=0.0,\n",
    "                                     min_impurity_split=None,\n",
    "                                     class_weight=None,\n",
    "                                     presort=False)"
   ]
  },
  {
   "cell_type": "markdown",
   "metadata": {},
   "source": [
    "### Train Tree"
   ]
  },
  {
   "cell_type": "code",
   "execution_count": 30,
   "metadata": {
    "ExecuteTime": {
     "end_time": "2020-06-19T13:47:41.644445Z",
     "start_time": "2020-06-19T13:47:41.626244Z"
    }
   },
   "outputs": [
    {
     "data": {
      "text/plain": [
       "1    31568\n",
       "0    24618\n",
       "Name: y, dtype: int64"
      ]
     },
     "execution_count": 30,
     "metadata": {},
     "output_type": "execute_result"
    }
   ],
   "source": [
    "y_binary = (y2>0).astype(int)\n",
    "y_binary.value_counts()"
   ]
  },
  {
   "cell_type": "code",
   "execution_count": 31,
   "metadata": {
    "ExecuteTime": {
     "end_time": "2020-06-19T13:47:45.915689Z",
     "start_time": "2020-06-19T13:47:41.646664Z"
    },
    "scrolled": true
   },
   "outputs": [
    {
     "name": "stdout",
     "output_type": "stream",
     "text": [
      "51.9 ms ± 218 µs per loop (mean ± std. dev. of 7 runs, 10 loops each)\n"
     ]
    }
   ],
   "source": [
    "%%timeit\n",
    "clf_tree_t2.fit(X=X2, y=y_binary)"
   ]
  },
  {
   "cell_type": "code",
   "execution_count": 32,
   "metadata": {
    "ExecuteTime": {
     "end_time": "2020-06-19T13:47:45.988925Z",
     "start_time": "2020-06-19T13:47:45.916716Z"
    }
   },
   "outputs": [
    {
     "data": {
      "text/plain": [
       "DecisionTreeClassifier(max_depth=5, min_samples_split=1000, presort=False,\n",
       "                       random_state=42)"
      ]
     },
     "execution_count": 32,
     "metadata": {},
     "output_type": "execute_result"
    }
   ],
   "source": [
    "clf_tree_t2.fit(X=X2, y=y_binary)"
   ]
  },
  {
   "cell_type": "markdown",
   "metadata": {},
   "source": [
    "### Visualize Tree"
   ]
  },
  {
   "cell_type": "code",
   "execution_count": 33,
   "metadata": {
    "ExecuteTime": {
     "end_time": "2020-06-19T13:47:46.020145Z",
     "start_time": "2020-06-19T13:47:45.990149Z"
    }
   },
   "outputs": [
    {
     "data": {
      "image/svg+xml": [
       "<?xml version=\"1.0\" encoding=\"UTF-8\" standalone=\"no\"?>\n",
       "<!DOCTYPE svg PUBLIC \"-//W3C//DTD SVG 1.1//EN\"\n",
       " \"http://www.w3.org/Graphics/SVG/1.1/DTD/svg11.dtd\">\n",
       "<!-- Generated by graphviz version 2.42.3 (20191010.1750)\n",
       " -->\n",
       "<!-- Title: Tree Pages: 1 -->\n",
       "<svg width=\"624pt\" height=\"401pt\"\n",
       " viewBox=\"0.00 0.00 623.50 401.00\" xmlns=\"http://www.w3.org/2000/svg\" xmlns:xlink=\"http://www.w3.org/1999/xlink\">\n",
       "<g id=\"graph0\" class=\"graph\" transform=\"scale(1 1) rotate(0) translate(4 397)\">\n",
       "<title>Tree</title>\n",
       "<polygon fill=\"white\" stroke=\"transparent\" points=\"-4,4 -4,-397 619.5,-397 619.5,4 -4,4\"/>\n",
       "<!-- 0 -->\n",
       "<g id=\"node1\" class=\"node\">\n",
       "<title>0</title>\n",
       "<path fill=\"#d3e9f9\" stroke=\"black\" d=\"M362,-393C362,-393 231,-393 231,-393 225,-393 219,-387 219,-381 219,-381 219,-322 219,-322 219,-316 225,-310 231,-310 231,-310 362,-310 362,-310 368,-310 374,-316 374,-322 374,-322 374,-381 374,-381 374,-387 368,-393 362,-393\"/>\n",
       "<text text-anchor=\"start\" x=\"261.5\" y=\"-377.8\" font-family=\"Helvetica,sans-Serif\" font-size=\"14.00\">t&#45;1 ≤ &#45;0.074</text>\n",
       "<text text-anchor=\"start\" x=\"261\" y=\"-362.8\" font-family=\"Helvetica,sans-Serif\" font-size=\"14.00\">gini = 0.492</text>\n",
       "<text text-anchor=\"start\" x=\"244\" y=\"-347.8\" font-family=\"Helvetica,sans-Serif\" font-size=\"14.00\">samples = 56186</text>\n",
       "<text text-anchor=\"start\" x=\"227\" y=\"-332.8\" font-family=\"Helvetica,sans-Serif\" font-size=\"14.00\">value = [24618, 31568]</text>\n",
       "<text text-anchor=\"start\" x=\"264.5\" y=\"-317.8\" font-family=\"Helvetica,sans-Serif\" font-size=\"14.00\">class = Up</text>\n",
       "</g>\n",
       "<!-- 1 -->\n",
       "<g id=\"node2\" class=\"node\">\n",
       "<title>1</title>\n",
       "<path fill=\"#f5fafe\" stroke=\"black\" d=\"M271.5,-274C271.5,-274 155.5,-274 155.5,-274 149.5,-274 143.5,-268 143.5,-262 143.5,-262 143.5,-203 143.5,-203 143.5,-197 149.5,-191 155.5,-191 155.5,-191 271.5,-191 271.5,-191 277.5,-191 283.5,-197 283.5,-203 283.5,-203 283.5,-262 283.5,-262 283.5,-268 277.5,-274 271.5,-274\"/>\n",
       "<text text-anchor=\"start\" x=\"178.5\" y=\"-258.8\" font-family=\"Helvetica,sans-Serif\" font-size=\"14.00\">t&#45;1 ≤ &#45;0.257</text>\n",
       "<text text-anchor=\"start\" x=\"185.5\" y=\"-243.8\" font-family=\"Helvetica,sans-Serif\" font-size=\"14.00\">gini = 0.5</text>\n",
       "<text text-anchor=\"start\" x=\"165\" y=\"-228.8\" font-family=\"Helvetica,sans-Serif\" font-size=\"14.00\">samples = 7674</text>\n",
       "<text text-anchor=\"start\" x=\"151.5\" y=\"-213.8\" font-family=\"Helvetica,sans-Serif\" font-size=\"14.00\">value = [3733, 3941]</text>\n",
       "<text text-anchor=\"start\" x=\"181.5\" y=\"-198.8\" font-family=\"Helvetica,sans-Serif\" font-size=\"14.00\">class = Up</text>\n",
       "</g>\n",
       "<!-- 0&#45;&gt;1 -->\n",
       "<g id=\"edge1\" class=\"edge\">\n",
       "<title>0&#45;&gt;1</title>\n",
       "<path fill=\"none\" stroke=\"black\" d=\"M267.7,-309.91C261.39,-301.01 254.65,-291.51 248.14,-282.33\"/>\n",
       "<polygon fill=\"black\" stroke=\"black\" points=\"250.89,-280.15 242.25,-274.02 245.18,-284.2 250.89,-280.15\"/>\n",
       "<text text-anchor=\"middle\" x=\"238.06\" y=\"-294.97\" font-family=\"Helvetica,sans-Serif\" font-size=\"14.00\">True</text>\n",
       "</g>\n",
       "<!-- 16 -->\n",
       "<g id=\"node7\" class=\"node\">\n",
       "<title>16</title>\n",
       "<path fill=\"#cfe7f9\" stroke=\"black\" d=\"M445,-274C445,-274 314,-274 314,-274 308,-274 302,-268 302,-262 302,-262 302,-203 302,-203 302,-197 308,-191 314,-191 314,-191 445,-191 445,-191 451,-191 457,-197 457,-203 457,-203 457,-262 457,-262 457,-268 451,-274 445,-274\"/>\n",
       "<text text-anchor=\"start\" x=\"346.5\" y=\"-258.8\" font-family=\"Helvetica,sans-Serif\" font-size=\"14.00\">t&#45;1 ≤ 0.068</text>\n",
       "<text text-anchor=\"start\" x=\"347.5\" y=\"-243.8\" font-family=\"Helvetica,sans-Serif\" font-size=\"14.00\">gini = 0.49</text>\n",
       "<text text-anchor=\"start\" x=\"327\" y=\"-228.8\" font-family=\"Helvetica,sans-Serif\" font-size=\"14.00\">samples = 48512</text>\n",
       "<text text-anchor=\"start\" x=\"310\" y=\"-213.8\" font-family=\"Helvetica,sans-Serif\" font-size=\"14.00\">value = [20885, 27627]</text>\n",
       "<text text-anchor=\"start\" x=\"347.5\" y=\"-198.8\" font-family=\"Helvetica,sans-Serif\" font-size=\"14.00\">class = Up</text>\n",
       "</g>\n",
       "<!-- 0&#45;&gt;16 -->\n",
       "<g id=\"edge6\" class=\"edge\">\n",
       "<title>0&#45;&gt;16</title>\n",
       "<path fill=\"none\" stroke=\"black\" d=\"M325.3,-309.91C331.61,-301.01 338.35,-291.51 344.86,-282.33\"/>\n",
       "<polygon fill=\"black\" stroke=\"black\" points=\"347.82,-284.2 350.75,-274.02 342.11,-280.15 347.82,-284.2\"/>\n",
       "<text text-anchor=\"middle\" x=\"354.94\" y=\"-294.97\" font-family=\"Helvetica,sans-Serif\" font-size=\"14.00\">False</text>\n",
       "</g>\n",
       "<!-- 2 -->\n",
       "<g id=\"node3\" class=\"node\">\n",
       "<title>2</title>\n",
       "<path fill=\"#f7d8c2\" stroke=\"black\" d=\"M113,-147.5C113,-147.5 12,-147.5 12,-147.5 6,-147.5 0,-141.5 0,-135.5 0,-135.5 0,-91.5 0,-91.5 0,-85.5 6,-79.5 12,-79.5 12,-79.5 113,-79.5 113,-79.5 119,-79.5 125,-85.5 125,-91.5 125,-91.5 125,-135.5 125,-135.5 125,-141.5 119,-147.5 113,-147.5\"/>\n",
       "<text text-anchor=\"start\" x=\"27\" y=\"-132.3\" font-family=\"Helvetica,sans-Serif\" font-size=\"14.00\">gini = 0.484</text>\n",
       "<text text-anchor=\"start\" x=\"17.5\" y=\"-117.3\" font-family=\"Helvetica,sans-Serif\" font-size=\"14.00\">samples = 596</text>\n",
       "<text text-anchor=\"start\" x=\"8\" y=\"-102.3\" font-family=\"Helvetica,sans-Serif\" font-size=\"14.00\">value = [352, 244]</text>\n",
       "<text text-anchor=\"start\" x=\"21.5\" y=\"-87.3\" font-family=\"Helvetica,sans-Serif\" font-size=\"14.00\">class = Down</text>\n",
       "</g>\n",
       "<!-- 1&#45;&gt;2 -->\n",
       "<g id=\"edge2\" class=\"edge\">\n",
       "<title>1&#45;&gt;2</title>\n",
       "<path fill=\"none\" stroke=\"black\" d=\"M161.11,-190.91C145.73,-178.99 128.93,-165.98 113.63,-154.12\"/>\n",
       "<polygon fill=\"black\" stroke=\"black\" points=\"115.35,-151.03 105.31,-147.67 111.07,-156.56 115.35,-151.03\"/>\n",
       "</g>\n",
       "<!-- 3 -->\n",
       "<g id=\"node4\" class=\"node\">\n",
       "<title>3</title>\n",
       "<path fill=\"#eef7fd\" stroke=\"black\" d=\"M271.5,-155C271.5,-155 155.5,-155 155.5,-155 149.5,-155 143.5,-149 143.5,-143 143.5,-143 143.5,-84 143.5,-84 143.5,-78 149.5,-72 155.5,-72 155.5,-72 271.5,-72 271.5,-72 277.5,-72 283.5,-78 283.5,-84 283.5,-84 283.5,-143 283.5,-143 283.5,-149 277.5,-155 271.5,-155\"/>\n",
       "<text text-anchor=\"start\" x=\"178.5\" y=\"-139.8\" font-family=\"Helvetica,sans-Serif\" font-size=\"14.00\">t&#45;2 ≤ &#45;0.067</text>\n",
       "<text text-anchor=\"start\" x=\"178\" y=\"-124.8\" font-family=\"Helvetica,sans-Serif\" font-size=\"14.00\">gini = 0.499</text>\n",
       "<text text-anchor=\"start\" x=\"165\" y=\"-109.8\" font-family=\"Helvetica,sans-Serif\" font-size=\"14.00\">samples = 7078</text>\n",
       "<text text-anchor=\"start\" x=\"151.5\" y=\"-94.8\" font-family=\"Helvetica,sans-Serif\" font-size=\"14.00\">value = [3381, 3697]</text>\n",
       "<text text-anchor=\"start\" x=\"181.5\" y=\"-79.8\" font-family=\"Helvetica,sans-Serif\" font-size=\"14.00\">class = Up</text>\n",
       "</g>\n",
       "<!-- 1&#45;&gt;3 -->\n",
       "<g id=\"edge3\" class=\"edge\">\n",
       "<title>1&#45;&gt;3</title>\n",
       "<path fill=\"none\" stroke=\"black\" d=\"M213.5,-190.91C213.5,-182.65 213.5,-173.86 213.5,-165.3\"/>\n",
       "<polygon fill=\"black\" stroke=\"black\" points=\"217,-165.02 213.5,-155.02 210,-165.02 217,-165.02\"/>\n",
       "</g>\n",
       "<!-- 4 -->\n",
       "<g id=\"node5\" class=\"node\">\n",
       "<title>4</title>\n",
       "<path fill=\"#c0c0c0\" stroke=\"black\" d=\"M197.5,-36C197.5,-36 167.5,-36 167.5,-36 161.5,-36 155.5,-30 155.5,-24 155.5,-24 155.5,-12 155.5,-12 155.5,-6 161.5,0 167.5,0 167.5,0 197.5,0 197.5,0 203.5,0 209.5,-6 209.5,-12 209.5,-12 209.5,-24 209.5,-24 209.5,-30 203.5,-36 197.5,-36\"/>\n",
       "<text text-anchor=\"middle\" x=\"182.5\" y=\"-14.3\" font-family=\"Helvetica,sans-Serif\" font-size=\"14.00\">(...)</text>\n",
       "</g>\n",
       "<!-- 3&#45;&gt;4 -->\n",
       "<g id=\"edge4\" class=\"edge\">\n",
       "<title>3&#45;&gt;4</title>\n",
       "<path fill=\"none\" stroke=\"black\" d=\"M199.99,-71.76C197.1,-63.04 194.12,-54.04 191.45,-45.99\"/>\n",
       "<polygon fill=\"black\" stroke=\"black\" points=\"194.74,-44.8 188.27,-36.41 188.1,-47 194.74,-44.8\"/>\n",
       "</g>\n",
       "<!-- 9 -->\n",
       "<g id=\"node6\" class=\"node\">\n",
       "<title>9</title>\n",
       "<path fill=\"#c0c0c0\" stroke=\"black\" d=\"M269.5,-36C269.5,-36 239.5,-36 239.5,-36 233.5,-36 227.5,-30 227.5,-24 227.5,-24 227.5,-12 227.5,-12 227.5,-6 233.5,0 239.5,0 239.5,0 269.5,0 269.5,0 275.5,0 281.5,-6 281.5,-12 281.5,-12 281.5,-24 281.5,-24 281.5,-30 275.5,-36 269.5,-36\"/>\n",
       "<text text-anchor=\"middle\" x=\"254.5\" y=\"-14.3\" font-family=\"Helvetica,sans-Serif\" font-size=\"14.00\">(...)</text>\n",
       "</g>\n",
       "<!-- 3&#45;&gt;9 -->\n",
       "<g id=\"edge5\" class=\"edge\">\n",
       "<title>3&#45;&gt;9</title>\n",
       "<path fill=\"none\" stroke=\"black\" d=\"M231.36,-71.76C235.23,-62.94 239.22,-53.84 242.78,-45.72\"/>\n",
       "<polygon fill=\"black\" stroke=\"black\" points=\"246.06,-46.97 246.87,-36.41 239.65,-44.16 246.06,-46.97\"/>\n",
       "</g>\n",
       "<!-- 17 -->\n",
       "<g id=\"node8\" class=\"node\">\n",
       "<title>17</title>\n",
       "<path fill=\"#cbe5f8\" stroke=\"black\" d=\"M445,-155C445,-155 314,-155 314,-155 308,-155 302,-149 302,-143 302,-143 302,-84 302,-84 302,-78 308,-72 314,-72 314,-72 445,-72 445,-72 451,-72 457,-78 457,-84 457,-84 457,-143 457,-143 457,-149 451,-155 445,-155\"/>\n",
       "<text text-anchor=\"start\" x=\"344.5\" y=\"-139.8\" font-family=\"Helvetica,sans-Serif\" font-size=\"14.00\">t&#45;2 ≤ &#45;0.067</text>\n",
       "<text text-anchor=\"start\" x=\"344\" y=\"-124.8\" font-family=\"Helvetica,sans-Serif\" font-size=\"14.00\">gini = 0.489</text>\n",
       "<text text-anchor=\"start\" x=\"327\" y=\"-109.8\" font-family=\"Helvetica,sans-Serif\" font-size=\"14.00\">samples = 37179</text>\n",
       "<text text-anchor=\"start\" x=\"310\" y=\"-94.8\" font-family=\"Helvetica,sans-Serif\" font-size=\"14.00\">value = [15791, 21388]</text>\n",
       "<text text-anchor=\"start\" x=\"347.5\" y=\"-79.8\" font-family=\"Helvetica,sans-Serif\" font-size=\"14.00\">class = Up</text>\n",
       "</g>\n",
       "<!-- 16&#45;&gt;17 -->\n",
       "<g id=\"edge7\" class=\"edge\">\n",
       "<title>16&#45;&gt;17</title>\n",
       "<path fill=\"none\" stroke=\"black\" d=\"M379.5,-190.91C379.5,-182.65 379.5,-173.86 379.5,-165.3\"/>\n",
       "<polygon fill=\"black\" stroke=\"black\" points=\"383,-165.02 379.5,-155.02 376,-165.02 383,-165.02\"/>\n",
       "</g>\n",
       "<!-- 28 -->\n",
       "<g id=\"node11\" class=\"node\">\n",
       "<title>28</title>\n",
       "<path fill=\"#dbedfa\" stroke=\"black\" d=\"M603.5,-155C603.5,-155 487.5,-155 487.5,-155 481.5,-155 475.5,-149 475.5,-143 475.5,-143 475.5,-84 475.5,-84 475.5,-78 481.5,-72 487.5,-72 487.5,-72 603.5,-72 603.5,-72 609.5,-72 615.5,-78 615.5,-84 615.5,-84 615.5,-143 615.5,-143 615.5,-149 609.5,-155 603.5,-155\"/>\n",
       "<text text-anchor=\"start\" x=\"512.5\" y=\"-139.8\" font-family=\"Helvetica,sans-Serif\" font-size=\"14.00\">t&#45;2 ≤ 0.107</text>\n",
       "<text text-anchor=\"start\" x=\"510\" y=\"-124.8\" font-family=\"Helvetica,sans-Serif\" font-size=\"14.00\">gini = 0.495</text>\n",
       "<text text-anchor=\"start\" x=\"493\" y=\"-109.8\" font-family=\"Helvetica,sans-Serif\" font-size=\"14.00\">samples = 11333</text>\n",
       "<text text-anchor=\"start\" x=\"483.5\" y=\"-94.8\" font-family=\"Helvetica,sans-Serif\" font-size=\"14.00\">value = [5094, 6239]</text>\n",
       "<text text-anchor=\"start\" x=\"513.5\" y=\"-79.8\" font-family=\"Helvetica,sans-Serif\" font-size=\"14.00\">class = Up</text>\n",
       "</g>\n",
       "<!-- 16&#45;&gt;28 -->\n",
       "<g id=\"edge10\" class=\"edge\">\n",
       "<title>16&#45;&gt;28</title>\n",
       "<path fill=\"none\" stroke=\"black\" d=\"M437.09,-190.91C450.87,-181.2 465.68,-170.76 479.79,-160.81\"/>\n",
       "<polygon fill=\"black\" stroke=\"black\" points=\"481.85,-163.64 488.01,-155.02 477.82,-157.92 481.85,-163.64\"/>\n",
       "</g>\n",
       "<!-- 18 -->\n",
       "<g id=\"node9\" class=\"node\">\n",
       "<title>18</title>\n",
       "<path fill=\"#c0c0c0\" stroke=\"black\" d=\"M363.5,-36C363.5,-36 333.5,-36 333.5,-36 327.5,-36 321.5,-30 321.5,-24 321.5,-24 321.5,-12 321.5,-12 321.5,-6 327.5,0 333.5,0 333.5,0 363.5,0 363.5,0 369.5,0 375.5,-6 375.5,-12 375.5,-12 375.5,-24 375.5,-24 375.5,-30 369.5,-36 363.5,-36\"/>\n",
       "<text text-anchor=\"middle\" x=\"348.5\" y=\"-14.3\" font-family=\"Helvetica,sans-Serif\" font-size=\"14.00\">(...)</text>\n",
       "</g>\n",
       "<!-- 17&#45;&gt;18 -->\n",
       "<g id=\"edge8\" class=\"edge\">\n",
       "<title>17&#45;&gt;18</title>\n",
       "<path fill=\"none\" stroke=\"black\" d=\"M365.99,-71.76C363.1,-63.04 360.12,-54.04 357.45,-45.99\"/>\n",
       "<polygon fill=\"black\" stroke=\"black\" points=\"360.74,-44.8 354.27,-36.41 354.1,-47 360.74,-44.8\"/>\n",
       "</g>\n",
       "<!-- 23 -->\n",
       "<g id=\"node10\" class=\"node\">\n",
       "<title>23</title>\n",
       "<path fill=\"#c0c0c0\" stroke=\"black\" d=\"M435.5,-36C435.5,-36 405.5,-36 405.5,-36 399.5,-36 393.5,-30 393.5,-24 393.5,-24 393.5,-12 393.5,-12 393.5,-6 399.5,0 405.5,0 405.5,0 435.5,0 435.5,0 441.5,0 447.5,-6 447.5,-12 447.5,-12 447.5,-24 447.5,-24 447.5,-30 441.5,-36 435.5,-36\"/>\n",
       "<text text-anchor=\"middle\" x=\"420.5\" y=\"-14.3\" font-family=\"Helvetica,sans-Serif\" font-size=\"14.00\">(...)</text>\n",
       "</g>\n",
       "<!-- 17&#45;&gt;23 -->\n",
       "<g id=\"edge9\" class=\"edge\">\n",
       "<title>17&#45;&gt;23</title>\n",
       "<path fill=\"none\" stroke=\"black\" d=\"M397.36,-71.76C401.23,-62.94 405.22,-53.84 408.78,-45.72\"/>\n",
       "<polygon fill=\"black\" stroke=\"black\" points=\"412.06,-46.97 412.87,-36.41 405.65,-44.16 412.06,-46.97\"/>\n",
       "</g>\n",
       "<!-- 29 -->\n",
       "<g id=\"node12\" class=\"node\">\n",
       "<title>29</title>\n",
       "<path fill=\"#c0c0c0\" stroke=\"black\" d=\"M518.5,-36C518.5,-36 488.5,-36 488.5,-36 482.5,-36 476.5,-30 476.5,-24 476.5,-24 476.5,-12 476.5,-12 476.5,-6 482.5,0 488.5,0 488.5,0 518.5,0 518.5,0 524.5,0 530.5,-6 530.5,-12 530.5,-12 530.5,-24 530.5,-24 530.5,-30 524.5,-36 518.5,-36\"/>\n",
       "<text text-anchor=\"middle\" x=\"503.5\" y=\"-14.3\" font-family=\"Helvetica,sans-Serif\" font-size=\"14.00\">(...)</text>\n",
       "</g>\n",
       "<!-- 28&#45;&gt;29 -->\n",
       "<g id=\"edge11\" class=\"edge\">\n",
       "<title>28&#45;&gt;29</title>\n",
       "<path fill=\"none\" stroke=\"black\" d=\"M527.2,-71.76C523.24,-62.94 519.15,-53.84 515.5,-45.72\"/>\n",
       "<polygon fill=\"black\" stroke=\"black\" points=\"518.61,-44.09 511.32,-36.41 512.22,-46.96 518.61,-44.09\"/>\n",
       "</g>\n",
       "<!-- 36 -->\n",
       "<g id=\"node13\" class=\"node\">\n",
       "<title>36</title>\n",
       "<path fill=\"#c0c0c0\" stroke=\"black\" d=\"M590.5,-36C590.5,-36 560.5,-36 560.5,-36 554.5,-36 548.5,-30 548.5,-24 548.5,-24 548.5,-12 548.5,-12 548.5,-6 554.5,0 560.5,0 560.5,0 590.5,0 590.5,0 596.5,0 602.5,-6 602.5,-12 602.5,-12 602.5,-24 602.5,-24 602.5,-30 596.5,-36 590.5,-36\"/>\n",
       "<text text-anchor=\"middle\" x=\"575.5\" y=\"-14.3\" font-family=\"Helvetica,sans-Serif\" font-size=\"14.00\">(...)</text>\n",
       "</g>\n",
       "<!-- 28&#45;&gt;36 -->\n",
       "<g id=\"edge12\" class=\"edge\">\n",
       "<title>28&#45;&gt;36</title>\n",
       "<path fill=\"none\" stroke=\"black\" d=\"M558.57,-71.76C561.37,-63.04 564.26,-54.04 566.84,-45.99\"/>\n",
       "<polygon fill=\"black\" stroke=\"black\" points=\"570.19,-47 569.92,-36.41 563.53,-44.86 570.19,-47\"/>\n",
       "</g>\n",
       "</g>\n",
       "</svg>\n"
      ],
      "text/plain": [
       "<graphviz.files.Source at 0x7f29a833bfd0>"
      ]
     },
     "execution_count": 33,
     "metadata": {},
     "output_type": "execute_result"
    }
   ],
   "source": [
    "out_file = results_path / 'clf_tree_t2.dot'\n",
    "dot_data = export_graphviz(clf_tree_t2,\n",
    "                           out_file=out_file.as_posix(),\n",
    "                           feature_names=X2.columns,\n",
    "                           class_names=['Down', 'Up'],\n",
    "                           max_depth=2,\n",
    "                           filled=True,\n",
    "                           rounded=True,\n",
    "                           special_characters=True)\n",
    "if out_file is not None:\n",
    "    dot_data = Path(out_file).read_text()\n",
    "\n",
    "graphviz.Source(dot_data)"
   ]
  },
  {
   "cell_type": "markdown",
   "metadata": {},
   "source": [
    "### Compare with Logistic Regression"
   ]
  },
  {
   "cell_type": "markdown",
   "metadata": {},
   "source": [
    "#### Statsmodels"
   ]
  },
  {
   "cell_type": "code",
   "execution_count": 34,
   "metadata": {
    "ExecuteTime": {
     "end_time": "2020-06-19T13:47:46.030455Z",
     "start_time": "2020-06-19T13:47:46.021321Z"
    }
   },
   "outputs": [],
   "source": [
    "log_reg_sm = sm.Logit(endog=y_binary, exog=sm.add_constant(X2))"
   ]
  },
  {
   "cell_type": "code",
   "execution_count": 35,
   "metadata": {
    "ExecuteTime": {
     "end_time": "2020-06-19T13:47:47.619147Z",
     "start_time": "2020-06-19T13:47:46.031533Z"
    },
    "scrolled": false
   },
   "outputs": [
    {
     "name": "stdout",
     "output_type": "stream",
     "text": [
      "19.2 ms ± 82.5 µs per loop (mean ± std. dev. of 7 runs, 10 loops each)\n"
     ]
    }
   ],
   "source": [
    "%%timeit\n",
    "log_reg_sm.fit(disp=False)"
   ]
  },
  {
   "cell_type": "code",
   "execution_count": 36,
   "metadata": {
    "ExecuteTime": {
     "end_time": "2020-06-19T13:47:47.649511Z",
     "start_time": "2020-06-19T13:47:47.620117Z"
    }
   },
   "outputs": [
    {
     "name": "stdout",
     "output_type": "stream",
     "text": [
      "Optimization terminated successfully.\n",
      "         Current function value: 0.685280\n",
      "         Iterations 4\n"
     ]
    }
   ],
   "source": [
    "log_result = log_reg_sm.fit()"
   ]
  },
  {
   "cell_type": "code",
   "execution_count": 37,
   "metadata": {
    "ExecuteTime": {
     "end_time": "2020-06-19T13:47:47.799269Z",
     "start_time": "2020-06-19T13:47:47.651703Z"
    }
   },
   "outputs": [
    {
     "name": "stdout",
     "output_type": "stream",
     "text": [
      "                           Logit Regression Results                           \n",
      "==============================================================================\n",
      "Dep. Variable:                      y   No. Observations:                56186\n",
      "Model:                          Logit   Df Residuals:                    56183\n",
      "Method:                           MLE   Df Model:                            2\n",
      "Date:                Fri, 19 Jun 2020   Pseudo R-squ.:               0.0002871\n",
      "Time:                        09:47:47   Log-Likelihood:                -38503.\n",
      "converged:                       True   LL-Null:                       -38514.\n",
      "Covariance Type:            nonrobust   LLR p-value:                 1.578e-05\n",
      "==============================================================================\n",
      "                 coef    std err          z      P>|z|      [0.025      0.975]\n",
      "------------------------------------------------------------------------------\n",
      "const          0.2447      0.009     28.513      0.000       0.228       0.262\n",
      "t-1            0.4548      0.097      4.698      0.000       0.265       0.644\n",
      "t-2            0.0018      0.097      0.019      0.985      -0.188       0.191\n",
      "==============================================================================\n"
     ]
    }
   ],
   "source": [
    "print(log_result.summary())"
   ]
  },
  {
   "cell_type": "markdown",
   "metadata": {},
   "source": [
    "#### sklearn"
   ]
  },
  {
   "cell_type": "code",
   "execution_count": 38,
   "metadata": {
    "ExecuteTime": {
     "end_time": "2020-06-19T13:47:47.803822Z",
     "start_time": "2020-06-19T13:47:47.800308Z"
    }
   },
   "outputs": [],
   "source": [
    "log_reg_sk = LogisticRegression()"
   ]
  },
  {
   "cell_type": "code",
   "execution_count": 39,
   "metadata": {
    "ExecuteTime": {
     "end_time": "2020-06-19T13:47:52.715113Z",
     "start_time": "2020-06-19T13:47:47.804813Z"
    }
   },
   "outputs": [
    {
     "name": "stdout",
     "output_type": "stream",
     "text": [
      "60.8 ms ± 6.15 ms per loop (mean ± std. dev. of 7 runs, 10 loops each)\n"
     ]
    }
   ],
   "source": [
    "%%timeit\n",
    "log_reg_sk.fit(X=X2, y=y_binary)"
   ]
  },
  {
   "cell_type": "code",
   "execution_count": 40,
   "metadata": {
    "ExecuteTime": {
     "end_time": "2020-06-19T13:47:52.777647Z",
     "start_time": "2020-06-19T13:47:52.716211Z"
    }
   },
   "outputs": [
    {
     "data": {
      "text/plain": [
       "LogisticRegression()"
      ]
     },
     "execution_count": 40,
     "metadata": {},
     "output_type": "execute_result"
    }
   ],
   "source": [
    "log_reg_sk.fit(X=X2, y=y_binary)"
   ]
  },
  {
   "cell_type": "code",
   "execution_count": 41,
   "metadata": {
    "ExecuteTime": {
     "end_time": "2020-06-19T13:47:52.781439Z",
     "start_time": "2020-06-19T13:47:52.778708Z"
    }
   },
   "outputs": [
    {
     "data": {
      "text/plain": [
       "array([[0.45052983, 0.0019411 ]])"
      ]
     },
     "execution_count": 41,
     "metadata": {},
     "output_type": "execute_result"
    }
   ],
   "source": [
    "log_reg_sk.coef_"
   ]
  },
  {
   "cell_type": "markdown",
   "metadata": {},
   "source": [
    "### Decision Surfaces: Classifier Tree vs. Logistic Regression "
   ]
  },
  {
   "cell_type": "code",
   "execution_count": 42,
   "metadata": {
    "ExecuteTime": {
     "end_time": "2020-06-19T13:47:53.275667Z",
     "start_time": "2020-06-19T13:47:52.782472Z"
    }
   },
   "outputs": [
    {
     "data": {
      "image/png": "[encoded data removed]",
      "text/plain": [
       "<Figure size 864x360 with 4 Axes>"
      ]
     },
     "metadata": {},
     "output_type": "display_data"
    }
   ],
   "source": [
    "fig, axes = plt.subplots(ncols=2, figsize=(12,5))\n",
    "\n",
    "# Linear Regression\n",
    "ret1 = log_reg_sk.predict_proba(X_data)[:, 1].reshape(t1.shape)\n",
    "surface1 = axes[0].contourf(t1, t2, ret1, cmap='Blues')\n",
    "plt.colorbar(mappable=surface1, ax=axes[0])\n",
    "\n",
    "# Regression Tree\n",
    "ret2 = clf_tree_t2.predict_proba(X_data)[:, 1].reshape(t1.shape)\n",
    "surface2 = axes[1].contourf(t1, t2, ret2, cmap='Blues')\n",
    "plt.colorbar(mappable=surface2, ax=axes[1])\n",
    "\n",
    "# Format plots\n",
    "titles = ['Logistic Regression', 'Classification Tree']\n",
    "for i, ax in enumerate(axes):\n",
    "    ax.set_xlabel('t-1')\n",
    "    ax.set_ylabel('t-2')\n",
    "    ax.set_title(titles[i])\n",
    "\n",
    "fig.suptitle('Decision Surfaces', fontsize=20)\n",
    "sns.despine()\n",
    "fig.tight_layout()\n",
    "fig.subplots_adjust(top=.9);"
   ]
  },
  {
   "cell_type": "markdown",
   "metadata": {},
   "source": [
    "## Regression Tree with all Features"
   ]
  },
  {
   "cell_type": "markdown",
   "metadata": {},
   "source": [
    "We now train, visualize, and evaluate a regression tree with up to 5 consecutive splits using 80% of the samples for training to predict the remaining 20%.\n",
    "\n",
    "We are taking a shortcut here to simplify the illustration and use the built-in train_test_split, which does not protect against lookahead bias, as our custom iterator. The tree configuration implies up to $2^5=32$ leaf nodes that, on average in the balanced case, would contain over 4,300 of the training samples."
   ]
  },
  {
   "cell_type": "markdown",
   "metadata": {},
   "source": [
    "### Train-Test Split"
   ]
  },
  {
   "cell_type": "code",
   "execution_count": 43,
   "metadata": {
    "ExecuteTime": {
     "end_time": "2020-06-19T13:47:53.293648Z",
     "start_time": "2020-06-19T13:47:53.276718Z"
    }
   },
   "outputs": [],
   "source": [
    "X = pd.get_dummies(data.drop('target', axis=1))\n",
    "y = data.target"
   ]
  },
  {
   "cell_type": "code",
   "execution_count": 44,
   "metadata": {
    "ExecuteTime": {
     "end_time": "2020-06-19T13:47:53.318451Z",
     "start_time": "2020-06-19T13:47:53.295601Z"
    }
   },
   "outputs": [],
   "source": [
    "X_train, X_test, y_train, y_test = train_test_split(X, y, test_size=0.2, random_state=42)"
   ]
  },
  {
   "cell_type": "markdown",
   "metadata": {},
   "source": [
    "### Configure Tree"
   ]
  },
  {
   "cell_type": "markdown",
   "metadata": {},
   "source": [
    "The output after training the model displays all the DecisionTreeClassifier parameters that we will address in more detail in the next section when we discuss parameter-tuning. "
   ]
  },
  {
   "cell_type": "code",
   "execution_count": 45,
   "metadata": {
    "ExecuteTime": {
     "end_time": "2020-06-19T13:47:53.324117Z",
     "start_time": "2020-06-19T13:47:53.319752Z"
    }
   },
   "outputs": [],
   "source": [
    "regression_tree = DecisionTreeRegressor(criterion='mse',\n",
    "                                        splitter='best',\n",
    "                                        max_depth=5,\n",
    "                                        min_samples_split=2,\n",
    "                                        min_samples_leaf=1,\n",
    "                                        min_weight_fraction_leaf=0.0,\n",
    "                                        max_features=None,\n",
    "                                        random_state=42,\n",
    "                                        max_leaf_nodes=None,\n",
    "                                        min_impurity_decrease=0.0,\n",
    "                                        min_impurity_split=None,\n",
    "                                        presort=False)"
   ]
  },
  {
   "cell_type": "markdown",
   "metadata": {},
   "source": [
    "### Train Model"
   ]
  },
  {
   "cell_type": "code",
   "execution_count": 46,
   "metadata": {
    "ExecuteTime": {
     "end_time": "2020-06-19T13:47:53.774832Z",
     "start_time": "2020-06-19T13:47:53.325278Z"
    },
    "scrolled": false
   },
   "outputs": [
    {
     "data": {
      "text/plain": [
       "DecisionTreeRegressor(max_depth=5, presort=False, random_state=42)"
      ]
     },
     "execution_count": 46,
     "metadata": {},
     "output_type": "execute_result"
    }
   ],
   "source": [
    "regression_tree.fit(X=X_train, y=y_train)"
   ]
  },
  {
   "cell_type": "markdown",
   "metadata": {},
   "source": [
    "### Visualize Tree"
   ]
  },
  {
   "cell_type": "markdown",
   "metadata": {},
   "source": [
    "The result shows that the model uses a variety of different features and indicates the split rules for both continuous and categorical (dummy) variables. "
   ]
  },
  {
   "cell_type": "code",
   "execution_count": 47,
   "metadata": {
    "ExecuteTime": {
     "end_time": "2020-06-19T13:47:53.815207Z",
     "start_time": "2020-06-19T13:47:53.775753Z"
    }
   },
   "outputs": [
    {
     "data": {
      "image/svg+xml": [
       "<?xml version=\"1.0\" encoding=\"UTF-8\" standalone=\"no\"?>\n",
       "<!DOCTYPE svg PUBLIC \"-//W3C//DTD SVG 1.1//EN\"\n",
       " \"http://www.w3.org/Graphics/SVG/1.1/DTD/svg11.dtd\">\n",
       "<!-- Generated by graphviz version 2.42.3 (20191010.1750)\n",
       " -->\n",
       "<!-- Title: Tree Pages: 1 -->\n",
       "<svg width=\"1147pt\" height=\"460pt\"\n",
       " viewBox=\"0.00 0.00 1147.00 460.00\" xmlns=\"http://www.w3.org/2000/svg\" xmlns:xlink=\"http://www.w3.org/1999/xlink\">\n",
       "<g id=\"graph0\" class=\"graph\" transform=\"scale(1 1) rotate(0) translate(4 456)\">\n",
       "<title>Tree</title>\n",
       "<polygon fill=\"white\" stroke=\"transparent\" points=\"-4,4 -4,-456 1143,-456 1143,4 -4,4\"/>\n",
       "<!-- 0 -->\n",
       "<g id=\"node1\" class=\"node\">\n",
       "<title>0</title>\n",
       "<path fill=\"#f1bb94\" stroke=\"black\" d=\"M575.5,-452C575.5,-452 478.5,-452 478.5,-452 472.5,-452 466.5,-446 466.5,-440 466.5,-440 466.5,-396 466.5,-396 466.5,-390 472.5,-384 478.5,-384 478.5,-384 575.5,-384 575.5,-384 581.5,-384 587.5,-390 587.5,-396 587.5,-396 587.5,-440 587.5,-440 587.5,-446 581.5,-452 575.5,-452\"/>\n",
       "<text text-anchor=\"start\" x=\"485\" y=\"-436.8\" font-family=\"Helvetica,sans-Serif\" font-size=\"14.00\">year ≤ 2008.5</text>\n",
       "<text text-anchor=\"start\" x=\"489\" y=\"-421.8\" font-family=\"Helvetica,sans-Serif\" font-size=\"14.00\">mse = 0.008</text>\n",
       "<text text-anchor=\"start\" x=\"474.5\" y=\"-406.8\" font-family=\"Helvetica,sans-Serif\" font-size=\"14.00\">samples = 45404</text>\n",
       "<text text-anchor=\"start\" x=\"486\" y=\"-391.8\" font-family=\"Helvetica,sans-Serif\" font-size=\"14.00\">value = 0.009</text>\n",
       "</g>\n",
       "<!-- 1 -->\n",
       "<g id=\"node2\" class=\"node\">\n",
       "<title>1</title>\n",
       "<path fill=\"#f2bf9b\" stroke=\"black\" d=\"M501.5,-348C501.5,-348 404.5,-348 404.5,-348 398.5,-348 392.5,-342 392.5,-336 392.5,-336 392.5,-292 392.5,-292 392.5,-286 398.5,-280 404.5,-280 404.5,-280 501.5,-280 501.5,-280 507.5,-280 513.5,-286 513.5,-292 513.5,-292 513.5,-336 513.5,-336 513.5,-342 507.5,-348 501.5,-348\"/>\n",
       "<text text-anchor=\"start\" x=\"411\" y=\"-332.8\" font-family=\"Helvetica,sans-Serif\" font-size=\"14.00\">year ≤ 2007.5</text>\n",
       "<text text-anchor=\"start\" x=\"415\" y=\"-317.8\" font-family=\"Helvetica,sans-Serif\" font-size=\"14.00\">mse = 0.009</text>\n",
       "<text text-anchor=\"start\" x=\"400.5\" y=\"-302.8\" font-family=\"Helvetica,sans-Serif\" font-size=\"14.00\">samples = 10400</text>\n",
       "<text text-anchor=\"start\" x=\"409.5\" y=\"-287.8\" font-family=\"Helvetica,sans-Serif\" font-size=\"14.00\">value = &#45;0.009</text>\n",
       "</g>\n",
       "<!-- 0&#45;&gt;1 -->\n",
       "<g id=\"edge1\" class=\"edge\">\n",
       "<title>0&#45;&gt;1</title>\n",
       "<path fill=\"none\" stroke=\"black\" d=\"M502.97,-383.88C496.64,-375.15 489.73,-365.62 483.12,-356.51\"/>\n",
       "<polygon fill=\"black\" stroke=\"black\" points=\"485.86,-354.34 477.16,-348.3 480.2,-358.45 485.86,-354.34\"/>\n",
       "<text text-anchor=\"middle\" x=\"473.23\" y=\"-369.29\" font-family=\"Helvetica,sans-Serif\" font-size=\"14.00\">True</text>\n",
       "</g>\n",
       "<!-- 32 -->\n",
       "<g id=\"node17\" class=\"node\">\n",
       "<title>32</title>\n",
       "<path fill=\"#f1ba92\" stroke=\"black\" d=\"M705.5,-348C705.5,-348 608.5,-348 608.5,-348 602.5,-348 596.5,-342 596.5,-336 596.5,-336 596.5,-292 596.5,-292 596.5,-286 602.5,-280 608.5,-280 608.5,-280 705.5,-280 705.5,-280 711.5,-280 717.5,-286 717.5,-292 717.5,-292 717.5,-336 717.5,-336 717.5,-342 711.5,-348 705.5,-348\"/>\n",
       "<text text-anchor=\"start\" x=\"620.5\" y=\"-332.8\" font-family=\"Helvetica,sans-Serif\" font-size=\"14.00\">month ≤ 3.5</text>\n",
       "<text text-anchor=\"start\" x=\"619\" y=\"-317.8\" font-family=\"Helvetica,sans-Serif\" font-size=\"14.00\">mse = 0.007</text>\n",
       "<text text-anchor=\"start\" x=\"604.5\" y=\"-302.8\" font-family=\"Helvetica,sans-Serif\" font-size=\"14.00\">samples = 35004</text>\n",
       "<text text-anchor=\"start\" x=\"616\" y=\"-287.8\" font-family=\"Helvetica,sans-Serif\" font-size=\"14.00\">value = 0.014</text>\n",
       "</g>\n",
       "<!-- 0&#45;&gt;32 -->\n",
       "<g id=\"edge16\" class=\"edge\">\n",
       "<title>0&#45;&gt;32</title>\n",
       "<path fill=\"none\" stroke=\"black\" d=\"M569.21,-383.88C581.13,-374.53 594.22,-364.26 606.57,-354.57\"/>\n",
       "<polygon fill=\"black\" stroke=\"black\" points=\"608.85,-357.23 614.56,-348.3 604.53,-351.72 608.85,-357.23\"/>\n",
       "<text text-anchor=\"middle\" x=\"611.56\" y=\"-369.42\" font-family=\"Helvetica,sans-Serif\" font-size=\"14.00\">False</text>\n",
       "</g>\n",
       "<!-- 2 -->\n",
       "<g id=\"node3\" class=\"node\">\n",
       "<title>2</title>\n",
       "<path fill=\"#f1bc96\" stroke=\"black\" d=\"M273.5,-244C273.5,-244 184.5,-244 184.5,-244 178.5,-244 172.5,-238 172.5,-232 172.5,-232 172.5,-188 172.5,-188 172.5,-182 178.5,-176 184.5,-176 184.5,-176 273.5,-176 273.5,-176 279.5,-176 285.5,-182 285.5,-188 285.5,-188 285.5,-232 285.5,-232 285.5,-238 279.5,-244 273.5,-244\"/>\n",
       "<text text-anchor=\"start\" x=\"194\" y=\"-228.8\" font-family=\"Helvetica,sans-Serif\" font-size=\"14.00\">atr ≤ &#45;0.477</text>\n",
       "<text text-anchor=\"start\" x=\"191\" y=\"-213.8\" font-family=\"Helvetica,sans-Serif\" font-size=\"14.00\">mse = 0.005</text>\n",
       "<text text-anchor=\"start\" x=\"180.5\" y=\"-198.8\" font-family=\"Helvetica,sans-Serif\" font-size=\"14.00\">samples = 6917</text>\n",
       "<text text-anchor=\"start\" x=\"188\" y=\"-183.8\" font-family=\"Helvetica,sans-Serif\" font-size=\"14.00\">value = 0.003</text>\n",
       "</g>\n",
       "<!-- 1&#45;&gt;2 -->\n",
       "<g id=\"edge2\" class=\"edge\">\n",
       "<title>1&#45;&gt;2</title>\n",
       "<path fill=\"none\" stroke=\"black\" d=\"M392.38,-285.4C362.32,-271.71 325.96,-255.15 295.18,-241.13\"/>\n",
       "<polygon fill=\"black\" stroke=\"black\" points=\"296.37,-237.83 285.81,-236.87 293.46,-244.2 296.37,-237.83\"/>\n",
       "</g>\n",
       "<!-- 17 -->\n",
       "<g id=\"node10\" class=\"node\">\n",
       "<title>17</title>\n",
       "<path fill=\"#f3c6a5\" stroke=\"black\" d=\"M497.5,-244C497.5,-244 408.5,-244 408.5,-244 402.5,-244 396.5,-238 396.5,-232 396.5,-232 396.5,-188 396.5,-188 396.5,-182 402.5,-176 408.5,-176 408.5,-176 497.5,-176 497.5,-176 503.5,-176 509.5,-182 509.5,-188 509.5,-188 509.5,-232 509.5,-232 509.5,-238 503.5,-244 497.5,-244\"/>\n",
       "<text text-anchor=\"start\" x=\"416.5\" y=\"-228.8\" font-family=\"Helvetica,sans-Serif\" font-size=\"14.00\">month ≤ 7.5</text>\n",
       "<text text-anchor=\"start\" x=\"415\" y=\"-213.8\" font-family=\"Helvetica,sans-Serif\" font-size=\"14.00\">mse = 0.015</text>\n",
       "<text text-anchor=\"start\" x=\"404.5\" y=\"-198.8\" font-family=\"Helvetica,sans-Serif\" font-size=\"14.00\">samples = 3483</text>\n",
       "<text text-anchor=\"start\" x=\"409.5\" y=\"-183.8\" font-family=\"Helvetica,sans-Serif\" font-size=\"14.00\">value = &#45;0.035</text>\n",
       "</g>\n",
       "<!-- 1&#45;&gt;17 -->\n",
       "<g id=\"edge9\" class=\"edge\">\n",
       "<title>1&#45;&gt;17</title>\n",
       "<path fill=\"none\" stroke=\"black\" d=\"M453,-279.88C453,-271.78 453,-262.98 453,-254.47\"/>\n",
       "<polygon fill=\"black\" stroke=\"black\" points=\"456.5,-254.3 453,-244.3 449.5,-254.3 456.5,-254.3\"/>\n",
       "</g>\n",
       "<!-- 3 -->\n",
       "<g id=\"node4\" class=\"node\">\n",
       "<title>3</title>\n",
       "<path fill=\"#f1b991\" stroke=\"black\" d=\"M142.5,-140C142.5,-140 53.5,-140 53.5,-140 47.5,-140 41.5,-134 41.5,-128 41.5,-128 41.5,-84 41.5,-84 41.5,-78 47.5,-72 53.5,-72 53.5,-72 142.5,-72 142.5,-72 148.5,-72 154.5,-78 154.5,-84 154.5,-84 154.5,-128 154.5,-128 154.5,-134 148.5,-140 142.5,-140\"/>\n",
       "<text text-anchor=\"start\" x=\"61.5\" y=\"-124.8\" font-family=\"Helvetica,sans-Serif\" font-size=\"14.00\">month ≤ 6.5</text>\n",
       "<text text-anchor=\"start\" x=\"60\" y=\"-109.8\" font-family=\"Helvetica,sans-Serif\" font-size=\"14.00\">mse = 0.004</text>\n",
       "<text text-anchor=\"start\" x=\"49.5\" y=\"-94.8\" font-family=\"Helvetica,sans-Serif\" font-size=\"14.00\">samples = 2036</text>\n",
       "<text text-anchor=\"start\" x=\"57\" y=\"-79.8\" font-family=\"Helvetica,sans-Serif\" font-size=\"14.00\">value = 0.016</text>\n",
       "</g>\n",
       "<!-- 2&#45;&gt;3 -->\n",
       "<g id=\"edge3\" class=\"edge\">\n",
       "<title>2&#45;&gt;3</title>\n",
       "<path fill=\"none\" stroke=\"black\" d=\"M186.47,-175.88C174.46,-166.53 161.26,-156.26 148.82,-146.57\"/>\n",
       "<polygon fill=\"black\" stroke=\"black\" points=\"150.81,-143.68 140.77,-140.3 146.51,-149.2 150.81,-143.68\"/>\n",
       "</g>\n",
       "<!-- 10 -->\n",
       "<g id=\"node7\" class=\"node\">\n",
       "<title>10</title>\n",
       "<path fill=\"#f1be98\" stroke=\"black\" d=\"M273.5,-140C273.5,-140 184.5,-140 184.5,-140 178.5,-140 172.5,-134 172.5,-128 172.5,-128 172.5,-84 172.5,-84 172.5,-78 178.5,-72 184.5,-72 184.5,-72 273.5,-72 273.5,-72 279.5,-72 285.5,-78 285.5,-84 285.5,-84 285.5,-128 285.5,-128 285.5,-134 279.5,-140 273.5,-140\"/>\n",
       "<text text-anchor=\"start\" x=\"192.5\" y=\"-124.8\" font-family=\"Helvetica,sans-Serif\" font-size=\"14.00\">month ≤ 9.5</text>\n",
       "<text text-anchor=\"start\" x=\"191\" y=\"-109.8\" font-family=\"Helvetica,sans-Serif\" font-size=\"14.00\">mse = 0.005</text>\n",
       "<text text-anchor=\"start\" x=\"180.5\" y=\"-94.8\" font-family=\"Helvetica,sans-Serif\" font-size=\"14.00\">samples = 4881</text>\n",
       "<text text-anchor=\"start\" x=\"185.5\" y=\"-79.8\" font-family=\"Helvetica,sans-Serif\" font-size=\"14.00\">value = &#45;0.002</text>\n",
       "</g>\n",
       "<!-- 2&#45;&gt;10 -->\n",
       "<g id=\"edge6\" class=\"edge\">\n",
       "<title>2&#45;&gt;10</title>\n",
       "<path fill=\"none\" stroke=\"black\" d=\"M229,-175.88C229,-167.78 229,-158.98 229,-150.47\"/>\n",
       "<polygon fill=\"black\" stroke=\"black\" points=\"232.5,-150.3 229,-140.3 225.5,-150.3 232.5,-150.3\"/>\n",
       "</g>\n",
       "<!-- 4 -->\n",
       "<g id=\"node5\" class=\"node\">\n",
       "<title>4</title>\n",
       "<path fill=\"#c0c0c0\" stroke=\"black\" d=\"M42,-36C42,-36 12,-36 12,-36 6,-36 0,-30 0,-24 0,-24 0,-12 0,-12 0,-6 6,0 12,0 12,0 42,0 42,0 48,0 54,-6 54,-12 54,-12 54,-24 54,-24 54,-30 48,-36 42,-36\"/>\n",
       "<text text-anchor=\"middle\" x=\"27\" y=\"-14.3\" font-family=\"Helvetica,sans-Serif\" font-size=\"14.00\">(...)</text>\n",
       "</g>\n",
       "<!-- 3&#45;&gt;4 -->\n",
       "<g id=\"edge4\" class=\"edge\">\n",
       "<title>3&#45;&gt;4</title>\n",
       "<path fill=\"none\" stroke=\"black\" d=\"M70.75,-72C63.17,-62.81 55.05,-52.97 47.89,-44.3\"/>\n",
       "<polygon fill=\"black\" stroke=\"black\" points=\"50.43,-41.89 41.37,-36.4 45.04,-46.34 50.43,-41.89\"/>\n",
       "</g>\n",
       "<!-- 7 -->\n",
       "<g id=\"node6\" class=\"node\">\n",
       "<title>7</title>\n",
       "<path fill=\"#c0c0c0\" stroke=\"black\" d=\"M114,-36C114,-36 84,-36 84,-36 78,-36 72,-30 72,-24 72,-24 72,-12 72,-12 72,-6 78,0 84,0 84,0 114,0 114,0 120,0 126,-6 126,-12 126,-12 126,-24 126,-24 126,-30 120,-36 114,-36\"/>\n",
       "<text text-anchor=\"middle\" x=\"99\" y=\"-14.3\" font-family=\"Helvetica,sans-Serif\" font-size=\"14.00\">(...)</text>\n",
       "</g>\n",
       "<!-- 3&#45;&gt;7 -->\n",
       "<g id=\"edge5\" class=\"edge\">\n",
       "<title>3&#45;&gt;7</title>\n",
       "<path fill=\"none\" stroke=\"black\" d=\"M98.38,-72C98.48,-63.56 98.59,-54.59 98.68,-46.47\"/>\n",
       "<polygon fill=\"black\" stroke=\"black\" points=\"102.18,-46.44 98.8,-36.4 95.18,-46.36 102.18,-46.44\"/>\n",
       "</g>\n",
       "<!-- 11 -->\n",
       "<g id=\"node8\" class=\"node\">\n",
       "<title>11</title>\n",
       "<path fill=\"#c0c0c0\" stroke=\"black\" d=\"M189,-36C189,-36 159,-36 159,-36 153,-36 147,-30 147,-24 147,-24 147,-12 147,-12 147,-6 153,0 159,0 159,0 189,0 189,0 195,0 201,-6 201,-12 201,-12 201,-24 201,-24 201,-30 195,-36 189,-36\"/>\n",
       "<text text-anchor=\"middle\" x=\"174\" y=\"-14.3\" font-family=\"Helvetica,sans-Serif\" font-size=\"14.00\">(...)</text>\n",
       "</g>\n",
       "<!-- 10&#45;&gt;11 -->\n",
       "<g id=\"edge7\" class=\"edge\">\n",
       "<title>10&#45;&gt;11</title>\n",
       "<path fill=\"none\" stroke=\"black\" d=\"M207.89,-72C202.14,-63 195.99,-53.38 190.53,-44.84\"/>\n",
       "<polygon fill=\"black\" stroke=\"black\" points=\"193.47,-42.94 185.13,-36.4 187.57,-46.71 193.47,-42.94\"/>\n",
       "</g>\n",
       "<!-- 14 -->\n",
       "<g id=\"node9\" class=\"node\">\n",
       "<title>14</title>\n",
       "<path fill=\"#c0c0c0\" stroke=\"black\" d=\"M261,-36C261,-36 231,-36 231,-36 225,-36 219,-30 219,-24 219,-24 219,-12 219,-12 219,-6 225,0 231,0 231,0 261,0 261,0 267,0 273,-6 273,-12 273,-12 273,-24 273,-24 273,-30 267,-36 261,-36\"/>\n",
       "<text text-anchor=\"middle\" x=\"246\" y=\"-14.3\" font-family=\"Helvetica,sans-Serif\" font-size=\"14.00\">(...)</text>\n",
       "</g>\n",
       "<!-- 10&#45;&gt;14 -->\n",
       "<g id=\"edge8\" class=\"edge\">\n",
       "<title>10&#45;&gt;14</title>\n",
       "<path fill=\"none\" stroke=\"black\" d=\"M235.52,-72C237.19,-63.56 238.96,-54.59 240.57,-46.47\"/>\n",
       "<polygon fill=\"black\" stroke=\"black\" points=\"244.05,-46.89 242.56,-36.4 237.19,-45.53 244.05,-46.89\"/>\n",
       "</g>\n",
       "<!-- 18 -->\n",
       "<g id=\"node11\" class=\"node\">\n",
       "<title>18</title>\n",
       "<path fill=\"#f2be98\" stroke=\"black\" d=\"M404.5,-140C404.5,-140 315.5,-140 315.5,-140 309.5,-140 303.5,-134 303.5,-128 303.5,-128 303.5,-84 303.5,-84 303.5,-78 309.5,-72 315.5,-72 315.5,-72 404.5,-72 404.5,-72 410.5,-72 416.5,-78 416.5,-84 416.5,-84 416.5,-128 416.5,-128 416.5,-134 410.5,-140 404.5,-140\"/>\n",
       "<text text-anchor=\"start\" x=\"323.5\" y=\"-124.8\" font-family=\"Helvetica,sans-Serif\" font-size=\"14.00\">month ≤ 4.5</text>\n",
       "<text text-anchor=\"start\" x=\"325.5\" y=\"-109.8\" font-family=\"Helvetica,sans-Serif\" font-size=\"14.00\">mse = 0.01</text>\n",
       "<text text-anchor=\"start\" x=\"311.5\" y=\"-94.8\" font-family=\"Helvetica,sans-Serif\" font-size=\"14.00\">samples = 2031</text>\n",
       "<text text-anchor=\"start\" x=\"316.5\" y=\"-79.8\" font-family=\"Helvetica,sans-Serif\" font-size=\"14.00\">value = &#45;0.002</text>\n",
       "</g>\n",
       "<!-- 17&#45;&gt;18 -->\n",
       "<g id=\"edge10\" class=\"edge\">\n",
       "<title>17&#45;&gt;18</title>\n",
       "<path fill=\"none\" stroke=\"black\" d=\"M422.81,-175.88C414.68,-166.98 405.8,-157.24 397.34,-147.96\"/>\n",
       "<polygon fill=\"black\" stroke=\"black\" points=\"399.69,-145.33 390.36,-140.3 394.51,-150.05 399.69,-145.33\"/>\n",
       "</g>\n",
       "<!-- 25 -->\n",
       "<g id=\"node14\" class=\"node\">\n",
       "<title>25</title>\n",
       "<path fill=\"#f6d1b7\" stroke=\"black\" d=\"M535.5,-140C535.5,-140 446.5,-140 446.5,-140 440.5,-140 434.5,-134 434.5,-128 434.5,-128 434.5,-84 434.5,-84 434.5,-78 440.5,-72 446.5,-72 446.5,-72 535.5,-72 535.5,-72 541.5,-72 547.5,-78 547.5,-84 547.5,-84 547.5,-128 547.5,-128 547.5,-134 541.5,-140 535.5,-140\"/>\n",
       "<text text-anchor=\"start\" x=\"450.5\" y=\"-124.8\" font-family=\"Helvetica,sans-Serif\" font-size=\"14.00\">month ≤ 10.5</text>\n",
       "<text text-anchor=\"start\" x=\"453\" y=\"-109.8\" font-family=\"Helvetica,sans-Serif\" font-size=\"14.00\">mse = 0.018</text>\n",
       "<text text-anchor=\"start\" x=\"442.5\" y=\"-94.8\" font-family=\"Helvetica,sans-Serif\" font-size=\"14.00\">samples = 1452</text>\n",
       "<text text-anchor=\"start\" x=\"451.5\" y=\"-79.8\" font-family=\"Helvetica,sans-Serif\" font-size=\"14.00\">value = &#45;0.08</text>\n",
       "</g>\n",
       "<!-- 17&#45;&gt;25 -->\n",
       "<g id=\"edge13\" class=\"edge\">\n",
       "<title>17&#45;&gt;25</title>\n",
       "<path fill=\"none\" stroke=\"black\" d=\"M465.34,-175.88C468.42,-167.6 471.78,-158.6 475.01,-149.91\"/>\n",
       "<polygon fill=\"black\" stroke=\"black\" points=\"478.38,-150.89 478.59,-140.3 471.82,-148.45 478.38,-150.89\"/>\n",
       "</g>\n",
       "<!-- 19 -->\n",
       "<g id=\"node12\" class=\"node\">\n",
       "<title>19</title>\n",
       "<path fill=\"#c0c0c0\" stroke=\"black\" d=\"M334,-36C334,-36 304,-36 304,-36 298,-36 292,-30 292,-24 292,-24 292,-12 292,-12 292,-6 298,0 304,0 304,0 334,0 334,0 340,0 346,-6 346,-12 346,-12 346,-24 346,-24 346,-30 340,-36 334,-36\"/>\n",
       "<text text-anchor=\"middle\" x=\"319\" y=\"-14.3\" font-family=\"Helvetica,sans-Serif\" font-size=\"14.00\">(...)</text>\n",
       "</g>\n",
       "<!-- 18&#45;&gt;19 -->\n",
       "<g id=\"edge11\" class=\"edge\">\n",
       "<title>18&#45;&gt;19</title>\n",
       "<path fill=\"none\" stroke=\"black\" d=\"M344.27,-72C340.11,-63.28 335.68,-53.98 331.71,-45.65\"/>\n",
       "<polygon fill=\"black\" stroke=\"black\" points=\"334.76,-43.92 327.3,-36.4 328.44,-46.94 334.76,-43.92\"/>\n",
       "</g>\n",
       "<!-- 22 -->\n",
       "<g id=\"node13\" class=\"node\">\n",
       "<title>22</title>\n",
       "<path fill=\"#c0c0c0\" stroke=\"black\" d=\"M406,-36C406,-36 376,-36 376,-36 370,-36 364,-30 364,-24 364,-24 364,-12 364,-12 364,-6 370,0 376,0 376,0 406,0 406,0 412,0 418,-6 418,-12 418,-12 418,-24 418,-24 418,-30 412,-36 406,-36\"/>\n",
       "<text text-anchor=\"middle\" x=\"391\" y=\"-14.3\" font-family=\"Helvetica,sans-Serif\" font-size=\"14.00\">(...)</text>\n",
       "</g>\n",
       "<!-- 18&#45;&gt;22 -->\n",
       "<g id=\"edge12\" class=\"edge\">\n",
       "<title>18&#45;&gt;22</title>\n",
       "<path fill=\"none\" stroke=\"black\" d=\"M371.9,-72C375,-63.38 378.32,-54.19 381.3,-45.92\"/>\n",
       "<polygon fill=\"black\" stroke=\"black\" points=\"384.63,-47 384.73,-36.4 378.04,-44.62 384.63,-47\"/>\n",
       "</g>\n",
       "<!-- 26 -->\n",
       "<g id=\"node15\" class=\"node\">\n",
       "<title>26</title>\n",
       "<path fill=\"#c0c0c0\" stroke=\"black\" d=\"M479,-36C479,-36 449,-36 449,-36 443,-36 437,-30 437,-24 437,-24 437,-12 437,-12 437,-6 443,0 449,0 449,0 479,0 479,0 485,0 491,-6 491,-12 491,-12 491,-24 491,-24 491,-30 485,-36 479,-36\"/>\n",
       "<text text-anchor=\"middle\" x=\"464\" y=\"-14.3\" font-family=\"Helvetica,sans-Serif\" font-size=\"14.00\">(...)</text>\n",
       "</g>\n",
       "<!-- 25&#45;&gt;26 -->\n",
       "<g id=\"edge14\" class=\"edge\">\n",
       "<title>25&#45;&gt;26</title>\n",
       "<path fill=\"none\" stroke=\"black\" d=\"M480.64,-72C477.96,-63.47 475.11,-54.39 472.54,-46.2\"/>\n",
       "<polygon fill=\"black\" stroke=\"black\" points=\"475.8,-44.9 469.46,-36.4 469.12,-46.99 475.8,-44.9\"/>\n",
       "</g>\n",
       "<!-- 29 -->\n",
       "<g id=\"node16\" class=\"node\">\n",
       "<title>29</title>\n",
       "<path fill=\"#c0c0c0\" stroke=\"black\" d=\"M551,-36C551,-36 521,-36 521,-36 515,-36 509,-30 509,-24 509,-24 509,-12 509,-12 509,-6 515,0 521,0 521,0 551,0 551,0 557,0 563,-6 563,-12 563,-12 563,-24 563,-24 563,-30 557,-36 551,-36\"/>\n",
       "<text text-anchor=\"middle\" x=\"536\" y=\"-14.3\" font-family=\"Helvetica,sans-Serif\" font-size=\"14.00\">(...)</text>\n",
       "</g>\n",
       "<!-- 25&#45;&gt;29 -->\n",
       "<g id=\"edge15\" class=\"edge\">\n",
       "<title>25&#45;&gt;29</title>\n",
       "<path fill=\"none\" stroke=\"black\" d=\"M508.27,-72C512.88,-63.19 517.8,-53.78 522.2,-45.38\"/>\n",
       "<polygon fill=\"black\" stroke=\"black\" points=\"525.36,-46.89 526.89,-36.4 519.16,-43.64 525.36,-46.89\"/>\n",
       "</g>\n",
       "<!-- 33 -->\n",
       "<g id=\"node18\" class=\"node\">\n",
       "<title>33</title>\n",
       "<path fill=\"#f0b68c\" stroke=\"black\" d=\"M719,-244C719,-244 595,-244 595,-244 589,-244 583,-238 583,-232 583,-232 583,-188 583,-188 583,-182 589,-176 595,-176 595,-176 719,-176 719,-176 725,-176 731,-182 731,-188 731,-188 731,-232 731,-232 731,-238 725,-244 719,-244\"/>\n",
       "<text text-anchor=\"start\" x=\"591\" y=\"-228.8\" font-family=\"Helvetica,sans-Serif\" font-size=\"14.00\">momentum_6 ≤ &#45;0.26</text>\n",
       "<text text-anchor=\"start\" x=\"619\" y=\"-213.8\" font-family=\"Helvetica,sans-Serif\" font-size=\"14.00\">mse = 0.007</text>\n",
       "<text text-anchor=\"start\" x=\"608.5\" y=\"-198.8\" font-family=\"Helvetica,sans-Serif\" font-size=\"14.00\">samples = 8833</text>\n",
       "<text text-anchor=\"start\" x=\"616\" y=\"-183.8\" font-family=\"Helvetica,sans-Serif\" font-size=\"14.00\">value = 0.029</text>\n",
       "</g>\n",
       "<!-- 32&#45;&gt;33 -->\n",
       "<g id=\"edge17\" class=\"edge\">\n",
       "<title>32&#45;&gt;33</title>\n",
       "<path fill=\"none\" stroke=\"black\" d=\"M657,-279.88C657,-271.78 657,-262.98 657,-254.47\"/>\n",
       "<polygon fill=\"black\" stroke=\"black\" points=\"660.5,-254.3 657,-244.3 653.5,-254.3 660.5,-254.3\"/>\n",
       "</g>\n",
       "<!-- 48 -->\n",
       "<g id=\"node25\" class=\"node\">\n",
       "<title>48</title>\n",
       "<path fill=\"#f1bb94\" stroke=\"black\" d=\"M953.5,-244C953.5,-244 856.5,-244 856.5,-244 850.5,-244 844.5,-238 844.5,-232 844.5,-232 844.5,-188 844.5,-188 844.5,-182 850.5,-176 856.5,-176 856.5,-176 953.5,-176 953.5,-176 959.5,-176 965.5,-182 965.5,-188 965.5,-188 965.5,-232 965.5,-232 965.5,-238 959.5,-244 953.5,-244\"/>\n",
       "<text text-anchor=\"start\" x=\"868.5\" y=\"-228.8\" font-family=\"Helvetica,sans-Serif\" font-size=\"14.00\">month ≤ 5.5</text>\n",
       "<text text-anchor=\"start\" x=\"867\" y=\"-213.8\" font-family=\"Helvetica,sans-Serif\" font-size=\"14.00\">mse = 0.007</text>\n",
       "<text text-anchor=\"start\" x=\"852.5\" y=\"-198.8\" font-family=\"Helvetica,sans-Serif\" font-size=\"14.00\">samples = 26171</text>\n",
       "<text text-anchor=\"start\" x=\"867.5\" y=\"-183.8\" font-family=\"Helvetica,sans-Serif\" font-size=\"14.00\">value = 0.01</text>\n",
       "</g>\n",
       "<!-- 32&#45;&gt;48 -->\n",
       "<g id=\"edge24\" class=\"edge\">\n",
       "<title>32&#45;&gt;48</title>\n",
       "<path fill=\"none\" stroke=\"black\" d=\"M717.67,-288.05C752.95,-273.54 797.57,-255.18 834.42,-240.03\"/>\n",
       "<polygon fill=\"black\" stroke=\"black\" points=\"836.18,-243.09 844.1,-236.05 833.52,-236.61 836.18,-243.09\"/>\n",
       "</g>\n",
       "<!-- 34 -->\n",
       "<g id=\"node19\" class=\"node\">\n",
       "<title>34</title>\n",
       "<path fill=\"#e99356\" stroke=\"black\" d=\"M660,-140C660,-140 578,-140 578,-140 572,-140 566,-134 566,-128 566,-128 566,-84 566,-84 566,-78 572,-72 578,-72 578,-72 660,-72 660,-72 666,-72 672,-78 672,-84 672,-84 672,-128 672,-128 672,-134 666,-140 660,-140\"/>\n",
       "<text text-anchor=\"start\" x=\"582.5\" y=\"-124.8\" font-family=\"Helvetica,sans-Serif\" font-size=\"14.00\">month ≤ 2.5</text>\n",
       "<text text-anchor=\"start\" x=\"581\" y=\"-109.8\" font-family=\"Helvetica,sans-Serif\" font-size=\"14.00\">mse = 0.026</text>\n",
       "<text text-anchor=\"start\" x=\"574\" y=\"-94.8\" font-family=\"Helvetica,sans-Serif\" font-size=\"14.00\">samples = 138</text>\n",
       "<text text-anchor=\"start\" x=\"578\" y=\"-79.8\" font-family=\"Helvetica,sans-Serif\" font-size=\"14.00\">value = 0.168</text>\n",
       "</g>\n",
       "<!-- 33&#45;&gt;34 -->\n",
       "<g id=\"edge18\" class=\"edge\">\n",
       "<title>33&#45;&gt;34</title>\n",
       "<path fill=\"none\" stroke=\"black\" d=\"M644.66,-175.88C641.58,-167.6 638.22,-158.6 634.99,-149.91\"/>\n",
       "<polygon fill=\"black\" stroke=\"black\" points=\"638.18,-148.45 631.41,-140.3 631.62,-150.89 638.18,-148.45\"/>\n",
       "</g>\n",
       "<!-- 41 -->\n",
       "<g id=\"node22\" class=\"node\">\n",
       "<title>41</title>\n",
       "<path fill=\"#f0b68d\" stroke=\"black\" d=\"M818,-140C818,-140 702,-140 702,-140 696,-140 690,-134 690,-128 690,-128 690,-84 690,-84 690,-78 696,-72 702,-72 702,-72 818,-72 818,-72 824,-72 830,-78 830,-84 830,-84 830,-128 830,-128 830,-134 824,-140 818,-140\"/>\n",
       "<text text-anchor=\"start\" x=\"698\" y=\"-124.8\" font-family=\"Helvetica,sans-Serif\" font-size=\"14.00\">return_12m ≤ &#45;0.049</text>\n",
       "<text text-anchor=\"start\" x=\"722\" y=\"-109.8\" font-family=\"Helvetica,sans-Serif\" font-size=\"14.00\">mse = 0.007</text>\n",
       "<text text-anchor=\"start\" x=\"711.5\" y=\"-94.8\" font-family=\"Helvetica,sans-Serif\" font-size=\"14.00\">samples = 8695</text>\n",
       "<text text-anchor=\"start\" x=\"719\" y=\"-79.8\" font-family=\"Helvetica,sans-Serif\" font-size=\"14.00\">value = 0.027</text>\n",
       "</g>\n",
       "<!-- 33&#45;&gt;41 -->\n",
       "<g id=\"edge21\" class=\"edge\">\n",
       "<title>33&#45;&gt;41</title>\n",
       "<path fill=\"none\" stroke=\"black\" d=\"M690.44,-175.88C699.62,-166.8 709.67,-156.85 719.2,-147.4\"/>\n",
       "<polygon fill=\"black\" stroke=\"black\" points=\"721.73,-149.82 726.37,-140.3 716.81,-144.85 721.73,-149.82\"/>\n",
       "</g>\n",
       "<!-- 35 -->\n",
       "<g id=\"node20\" class=\"node\">\n",
       "<title>35</title>\n",
       "<path fill=\"#c0c0c0\" stroke=\"black\" d=\"M623,-36C623,-36 593,-36 593,-36 587,-36 581,-30 581,-24 581,-24 581,-12 581,-12 581,-6 587,0 593,0 593,0 623,0 623,0 629,0 635,-6 635,-12 635,-12 635,-24 635,-24 635,-30 629,-36 623,-36\"/>\n",
       "<text text-anchor=\"middle\" x=\"608\" y=\"-14.3\" font-family=\"Helvetica,sans-Serif\" font-size=\"14.00\">(...)</text>\n",
       "</g>\n",
       "<!-- 34&#45;&gt;35 -->\n",
       "<g id=\"edge19\" class=\"edge\">\n",
       "<title>34&#45;&gt;35</title>\n",
       "<path fill=\"none\" stroke=\"black\" d=\"M614.78,-72C613.7,-63.56 612.55,-54.59 611.51,-46.47\"/>\n",
       "<polygon fill=\"black\" stroke=\"black\" points=\"614.97,-45.88 610.23,-36.4 608.02,-46.77 614.97,-45.88\"/>\n",
       "</g>\n",
       "<!-- 38 -->\n",
       "<g id=\"node21\" class=\"node\">\n",
       "<title>38</title>\n",
       "<path fill=\"#c0c0c0\" stroke=\"black\" d=\"M695,-36C695,-36 665,-36 665,-36 659,-36 653,-30 653,-24 653,-24 653,-12 653,-12 653,-6 659,0 665,0 665,0 695,0 695,0 701,0 707,-6 707,-12 707,-12 707,-24 707,-24 707,-30 701,-36 695,-36\"/>\n",
       "<text text-anchor=\"middle\" x=\"680\" y=\"-14.3\" font-family=\"Helvetica,sans-Serif\" font-size=\"14.00\">(...)</text>\n",
       "</g>\n",
       "<!-- 34&#45;&gt;38 -->\n",
       "<g id=\"edge20\" class=\"edge\">\n",
       "<title>34&#45;&gt;38</title>\n",
       "<path fill=\"none\" stroke=\"black\" d=\"M642.41,-72C648.86,-62.9 655.76,-53.18 661.86,-44.57\"/>\n",
       "<polygon fill=\"black\" stroke=\"black\" points=\"664.73,-46.58 667.66,-36.4 659.02,-42.53 664.73,-46.58\"/>\n",
       "</g>\n",
       "<!-- 42 -->\n",
       "<g id=\"node23\" class=\"node\">\n",
       "<title>42</title>\n",
       "<path fill=\"#c0c0c0\" stroke=\"black\" d=\"M767,-36C767,-36 737,-36 737,-36 731,-36 725,-30 725,-24 725,-24 725,-12 725,-12 725,-6 731,0 737,0 737,0 767,0 767,0 773,0 779,-6 779,-12 779,-12 779,-24 779,-24 779,-30 773,-36 767,-36\"/>\n",
       "<text text-anchor=\"middle\" x=\"752\" y=\"-14.3\" font-family=\"Helvetica,sans-Serif\" font-size=\"14.00\">(...)</text>\n",
       "</g>\n",
       "<!-- 41&#45;&gt;42 -->\n",
       "<g id=\"edge22\" class=\"edge\">\n",
       "<title>41&#45;&gt;42</title>\n",
       "<path fill=\"none\" stroke=\"black\" d=\"M756.93,-72C756.15,-63.56 755.31,-54.59 754.56,-46.47\"/>\n",
       "<polygon fill=\"black\" stroke=\"black\" points=\"758.03,-46.04 753.62,-36.4 751.06,-46.68 758.03,-46.04\"/>\n",
       "</g>\n",
       "<!-- 45 -->\n",
       "<g id=\"node24\" class=\"node\">\n",
       "<title>45</title>\n",
       "<path fill=\"#c0c0c0\" stroke=\"black\" d=\"M839,-36C839,-36 809,-36 809,-36 803,-36 797,-30 797,-24 797,-24 797,-12 797,-12 797,-6 803,0 809,0 809,0 839,0 839,0 845,0 851,-6 851,-12 851,-12 851,-24 851,-24 851,-30 845,-36 839,-36\"/>\n",
       "<text text-anchor=\"middle\" x=\"824\" y=\"-14.3\" font-family=\"Helvetica,sans-Serif\" font-size=\"14.00\">(...)</text>\n",
       "</g>\n",
       "<!-- 41&#45;&gt;45 -->\n",
       "<g id=\"edge23\" class=\"edge\">\n",
       "<title>41&#45;&gt;45</title>\n",
       "<path fill=\"none\" stroke=\"black\" d=\"M784.56,-72C791.33,-62.9 798.57,-53.18 804.97,-44.57\"/>\n",
       "<polygon fill=\"black\" stroke=\"black\" points=\"807.89,-46.52 811.05,-36.4 802.27,-42.34 807.89,-46.52\"/>\n",
       "</g>\n",
       "<!-- 49 -->\n",
       "<g id=\"node26\" class=\"node\">\n",
       "<title>49</title>\n",
       "<path fill=\"#f2be99\" stroke=\"black\" d=\"M949.5,-140C949.5,-140 860.5,-140 860.5,-140 854.5,-140 848.5,-134 848.5,-128 848.5,-128 848.5,-84 848.5,-84 848.5,-78 854.5,-72 860.5,-72 860.5,-72 949.5,-72 949.5,-72 955.5,-72 961.5,-78 961.5,-84 961.5,-84 961.5,-128 961.5,-128 961.5,-134 955.5,-140 949.5,-140\"/>\n",
       "<text text-anchor=\"start\" x=\"863\" y=\"-124.8\" font-family=\"Helvetica,sans-Serif\" font-size=\"14.00\">year ≤ 2012.5</text>\n",
       "<text text-anchor=\"start\" x=\"867\" y=\"-109.8\" font-family=\"Helvetica,sans-Serif\" font-size=\"14.00\">mse = 0.006</text>\n",
       "<text text-anchor=\"start\" x=\"856.5\" y=\"-94.8\" font-family=\"Helvetica,sans-Serif\" font-size=\"14.00\">samples = 5841</text>\n",
       "<text text-anchor=\"start\" x=\"861.5\" y=\"-79.8\" font-family=\"Helvetica,sans-Serif\" font-size=\"14.00\">value = &#45;0.005</text>\n",
       "</g>\n",
       "<!-- 48&#45;&gt;49 -->\n",
       "<g id=\"edge25\" class=\"edge\">\n",
       "<title>48&#45;&gt;49</title>\n",
       "<path fill=\"none\" stroke=\"black\" d=\"M905,-175.88C905,-167.78 905,-158.98 905,-150.47\"/>\n",
       "<polygon fill=\"black\" stroke=\"black\" points=\"908.5,-150.3 905,-140.3 901.5,-150.3 908.5,-150.3\"/>\n",
       "</g>\n",
       "<!-- 56 -->\n",
       "<g id=\"node29\" class=\"node\">\n",
       "<title>56</title>\n",
       "<path fill=\"#f1ba92\" stroke=\"black\" d=\"M1088.5,-140C1088.5,-140 991.5,-140 991.5,-140 985.5,-140 979.5,-134 979.5,-128 979.5,-128 979.5,-84 979.5,-84 979.5,-78 985.5,-72 991.5,-72 991.5,-72 1088.5,-72 1088.5,-72 1094.5,-72 1100.5,-78 1100.5,-84 1100.5,-84 1100.5,-128 1100.5,-128 1100.5,-134 1094.5,-140 1088.5,-140\"/>\n",
       "<text text-anchor=\"start\" x=\"998\" y=\"-124.8\" font-family=\"Helvetica,sans-Serif\" font-size=\"14.00\">year ≤ 2010.5</text>\n",
       "<text text-anchor=\"start\" x=\"1002\" y=\"-109.8\" font-family=\"Helvetica,sans-Serif\" font-size=\"14.00\">mse = 0.007</text>\n",
       "<text text-anchor=\"start\" x=\"987.5\" y=\"-94.8\" font-family=\"Helvetica,sans-Serif\" font-size=\"14.00\">samples = 20330</text>\n",
       "<text text-anchor=\"start\" x=\"999\" y=\"-79.8\" font-family=\"Helvetica,sans-Serif\" font-size=\"14.00\">value = 0.014</text>\n",
       "</g>\n",
       "<!-- 48&#45;&gt;56 -->\n",
       "<g id=\"edge28\" class=\"edge\">\n",
       "<title>48&#45;&gt;56</title>\n",
       "<path fill=\"none\" stroke=\"black\" d=\"M948.83,-175.88C961.21,-166.53 974.8,-156.26 987.63,-146.57\"/>\n",
       "<polygon fill=\"black\" stroke=\"black\" points=\"990.06,-149.12 995.93,-140.3 985.84,-143.54 990.06,-149.12\"/>\n",
       "</g>\n",
       "<!-- 50 -->\n",
       "<g id=\"node27\" class=\"node\">\n",
       "<title>50</title>\n",
       "<path fill=\"#c0c0c0\" stroke=\"black\" d=\"M911,-36C911,-36 881,-36 881,-36 875,-36 869,-30 869,-24 869,-24 869,-12 869,-12 869,-6 875,0 881,0 881,0 911,0 911,0 917,0 923,-6 923,-12 923,-12 923,-24 923,-24 923,-30 917,-36 911,-36\"/>\n",
       "<text text-anchor=\"middle\" x=\"896\" y=\"-14.3\" font-family=\"Helvetica,sans-Serif\" font-size=\"14.00\">(...)</text>\n",
       "</g>\n",
       "<!-- 49&#45;&gt;50 -->\n",
       "<g id=\"edge26\" class=\"edge\">\n",
       "<title>49&#45;&gt;50</title>\n",
       "<path fill=\"none\" stroke=\"black\" d=\"M901.55,-72C900.66,-63.56 899.72,-54.59 898.87,-46.47\"/>\n",
       "<polygon fill=\"black\" stroke=\"black\" points=\"902.34,-45.98 897.82,-36.4 895.38,-46.71 902.34,-45.98\"/>\n",
       "</g>\n",
       "<!-- 53 -->\n",
       "<g id=\"node28\" class=\"node\">\n",
       "<title>53</title>\n",
       "<path fill=\"#c0c0c0\" stroke=\"black\" d=\"M983,-36C983,-36 953,-36 953,-36 947,-36 941,-30 941,-24 941,-24 941,-12 941,-12 941,-6 947,0 953,0 953,0 983,0 983,0 989,0 995,-6 995,-12 995,-12 995,-24 995,-24 995,-30 989,-36 983,-36\"/>\n",
       "<text text-anchor=\"middle\" x=\"968\" y=\"-14.3\" font-family=\"Helvetica,sans-Serif\" font-size=\"14.00\">(...)</text>\n",
       "</g>\n",
       "<!-- 49&#45;&gt;53 -->\n",
       "<g id=\"edge27\" class=\"edge\">\n",
       "<title>49&#45;&gt;53</title>\n",
       "<path fill=\"none\" stroke=\"black\" d=\"M929.18,-72C935.84,-62.9 942.96,-53.18 949.27,-44.57\"/>\n",
       "<polygon fill=\"black\" stroke=\"black\" points=\"952.16,-46.54 955.25,-36.4 946.52,-42.4 952.16,-46.54\"/>\n",
       "</g>\n",
       "<!-- 57 -->\n",
       "<g id=\"node30\" class=\"node\">\n",
       "<title>57</title>\n",
       "<path fill=\"#c0c0c0\" stroke=\"black\" d=\"M1055,-36C1055,-36 1025,-36 1025,-36 1019,-36 1013,-30 1013,-24 1013,-24 1013,-12 1013,-12 1013,-6 1019,0 1025,0 1025,0 1055,0 1055,0 1061,0 1067,-6 1067,-12 1067,-12 1067,-24 1067,-24 1067,-30 1061,-36 1055,-36\"/>\n",
       "<text text-anchor=\"middle\" x=\"1040\" y=\"-14.3\" font-family=\"Helvetica,sans-Serif\" font-size=\"14.00\">(...)</text>\n",
       "</g>\n",
       "<!-- 56&#45;&gt;57 -->\n",
       "<g id=\"edge29\" class=\"edge\">\n",
       "<title>56&#45;&gt;57</title>\n",
       "<path fill=\"none\" stroke=\"black\" d=\"M1040,-72C1040,-63.56 1040,-54.59 1040,-46.47\"/>\n",
       "<polygon fill=\"black\" stroke=\"black\" points=\"1043.5,-46.4 1040,-36.4 1036.5,-46.4 1043.5,-46.4\"/>\n",
       "</g>\n",
       "<!-- 60 -->\n",
       "<g id=\"node31\" class=\"node\">\n",
       "<title>60</title>\n",
       "<path fill=\"#c0c0c0\" stroke=\"black\" d=\"M1127,-36C1127,-36 1097,-36 1097,-36 1091,-36 1085,-30 1085,-24 1085,-24 1085,-12 1085,-12 1085,-6 1091,0 1097,0 1097,0 1127,0 1127,0 1133,0 1139,-6 1139,-12 1139,-12 1139,-24 1139,-24 1139,-30 1133,-36 1127,-36\"/>\n",
       "<text text-anchor=\"middle\" x=\"1112\" y=\"-14.3\" font-family=\"Helvetica,sans-Serif\" font-size=\"14.00\">(...)</text>\n",
       "</g>\n",
       "<!-- 56&#45;&gt;60 -->\n",
       "<g id=\"edge30\" class=\"edge\">\n",
       "<title>56&#45;&gt;60</title>\n",
       "<path fill=\"none\" stroke=\"black\" d=\"M1067.63,-72C1075.32,-62.81 1083.56,-52.97 1090.82,-44.3\"/>\n",
       "<polygon fill=\"black\" stroke=\"black\" points=\"1093.69,-46.32 1097.43,-36.4 1088.33,-41.82 1093.69,-46.32\"/>\n",
       "</g>\n",
       "</g>\n",
       "</svg>\n"
      ],
      "text/plain": [
       "<graphviz.files.Source at 0x7f29a6f40110>"
      ]
     },
     "execution_count": 47,
     "metadata": {},
     "output_type": "execute_result"
    }
   ],
   "source": [
    "out_file = results_path / 'reg_tree.dot'\n",
    "dot_data = export_graphviz(regression_tree,\n",
    "                           out_file=out_file.as_posix(),\n",
    "                           feature_names=X_train.columns,\n",
    "                           max_depth=3,\n",
    "                           filled=True,\n",
    "                           rounded=True,\n",
    "                           special_characters=True)\n",
    "if out_file is not None:\n",
    "    dot_data = Path(out_file).read_text()\n",
    "\n",
    "graphviz.Source(dot_data)"
   ]
  },
  {
   "cell_type": "markdown",
   "metadata": {},
   "source": [
    "### Evaluate Test Set"
   ]
  },
  {
   "cell_type": "code",
   "execution_count": 48,
   "metadata": {
    "ExecuteTime": {
     "end_time": "2020-06-19T13:47:53.823483Z",
     "start_time": "2020-06-19T13:47:53.816647Z"
    }
   },
   "outputs": [],
   "source": [
    "y_pred = regression_tree.predict(X_test)"
   ]
  },
  {
   "cell_type": "code",
   "execution_count": 49,
   "metadata": {
    "ExecuteTime": {
     "end_time": "2020-06-19T13:47:53.831945Z",
     "start_time": "2020-06-19T13:47:53.824728Z"
    }
   },
   "outputs": [
    {
     "data": {
      "text/plain": [
       "0.08086872759273504"
      ]
     },
     "execution_count": 49,
     "metadata": {},
     "output_type": "execute_result"
    }
   ],
   "source": [
    "np.sqrt(mean_squared_error(y_pred=y_pred, y_true=y_test))"
   ]
  },
  {
   "cell_type": "code",
   "execution_count": 50,
   "metadata": {
    "ExecuteTime": {
     "end_time": "2020-06-19T13:47:53.842734Z",
     "start_time": "2020-06-19T13:47:53.833189Z"
    }
   },
   "outputs": [
    {
     "name": "stdout",
     "output_type": "stream",
     "text": [
      "27.73 (p-value=0.00%)\n"
     ]
    }
   ],
   "source": [
    "r, p = spearmanr(y_pred, y_test)\n",
    "print(f'{r*100:.2f} (p-value={p:.2%})')"
   ]
  },
  {
   "cell_type": "markdown",
   "metadata": {},
   "source": [
    "## Classification Tree with all Features"
   ]
  },
  {
   "cell_type": "markdown",
   "metadata": {},
   "source": [
    "We will now train, visualize, and evaluate a classification tree with up to 5 consecutive splits using 80% of the samples for training to predict the remaining 20%. We are taking a shortcut here to simplify the illustration and use the built-in train_test_split, which does not protect against lookahead bias, as our custom iterator. The tree configuration implies up to $2^5=32$ leaf nodes that, on average in the balanced case, would contain over 4,300 of the training samples."
   ]
  },
  {
   "cell_type": "markdown",
   "metadata": {},
   "source": [
    "### Train-Test Split"
   ]
  },
  {
   "cell_type": "code",
   "execution_count": 51,
   "metadata": {
    "ExecuteTime": {
     "end_time": "2020-06-19T13:47:53.851095Z",
     "start_time": "2020-06-19T13:47:53.843917Z"
    },
    "scrolled": true
   },
   "outputs": [
    {
     "data": {
      "text/plain": [
       "1    31889\n",
       "0    24867\n",
       "Name: target, dtype: int64"
      ]
     },
     "execution_count": 51,
     "metadata": {},
     "output_type": "execute_result"
    }
   ],
   "source": [
    "y_binary = (y>0).astype(int)\n",
    "y_binary.value_counts()"
   ]
  },
  {
   "cell_type": "code",
   "execution_count": 52,
   "metadata": {
    "ExecuteTime": {
     "end_time": "2020-06-19T13:47:53.868513Z",
     "start_time": "2020-06-19T13:47:53.852758Z"
    }
   },
   "outputs": [],
   "source": [
    "X_train, X_test, y_train, y_test = train_test_split(X, y_binary, test_size=0.2, random_state=42)"
   ]
  },
  {
   "cell_type": "code",
   "execution_count": 53,
   "metadata": {
    "ExecuteTime": {
     "end_time": "2020-06-19T13:47:53.871662Z",
     "start_time": "2020-06-19T13:47:53.869716Z"
    }
   },
   "outputs": [],
   "source": [
    "clf = DecisionTreeClassifier(criterion='gini',\n",
    "                             max_depth=5,\n",
    "                             random_state=42)"
   ]
  },
  {
   "cell_type": "code",
   "execution_count": 54,
   "metadata": {
    "ExecuteTime": {
     "end_time": "2020-06-19T13:47:54.362555Z",
     "start_time": "2020-06-19T13:47:53.872986Z"
    }
   },
   "outputs": [
    {
     "data": {
      "text/plain": [
       "DecisionTreeClassifier(max_depth=5, random_state=42)"
      ]
     },
     "execution_count": 54,
     "metadata": {},
     "output_type": "execute_result"
    }
   ],
   "source": [
    "clf.fit(X=X_train, y=y_train)"
   ]
  },
  {
   "cell_type": "markdown",
   "metadata": {},
   "source": [
    "### Plot Tree"
   ]
  },
  {
   "cell_type": "code",
   "execution_count": 55,
   "metadata": {
    "ExecuteTime": {
     "end_time": "2020-06-19T13:47:54.401755Z",
     "start_time": "2020-06-19T13:47:54.363801Z"
    },
    "scrolled": false
   },
   "outputs": [
    {
     "data": {
      "image/svg+xml": [
       "<?xml version=\"1.0\" encoding=\"UTF-8\" standalone=\"no\"?>\n",
       "<!DOCTYPE svg PUBLIC \"-//W3C//DTD SVG 1.1//EN\"\n",
       " \"http://www.w3.org/Graphics/SVG/1.1/DTD/svg11.dtd\">\n",
       "<!-- Generated by graphviz version 2.42.3 (20191010.1750)\n",
       " -->\n",
       "<!-- Title: Tree Pages: 1 -->\n",
       "<svg width=\"1235pt\" height=\"520pt\"\n",
       " viewBox=\"0.00 0.00 1235.00 520.00\" xmlns=\"http://www.w3.org/2000/svg\" xmlns:xlink=\"http://www.w3.org/1999/xlink\">\n",
       "<g id=\"graph0\" class=\"graph\" transform=\"scale(1 1) rotate(0) translate(4 516)\">\n",
       "<title>Tree</title>\n",
       "<polygon fill=\"white\" stroke=\"transparent\" points=\"-4,4 -4,-516 1231,-516 1231,4 -4,4\"/>\n",
       "<!-- 0 -->\n",
       "<g id=\"node1\" class=\"node\">\n",
       "<title>0</title>\n",
       "<path fill=\"#d3e9f9\" stroke=\"black\" d=\"M672.5,-512C672.5,-512 541.5,-512 541.5,-512 535.5,-512 529.5,-506 529.5,-500 529.5,-500 529.5,-441 529.5,-441 529.5,-435 535.5,-429 541.5,-429 541.5,-429 672.5,-429 672.5,-429 678.5,-429 684.5,-435 684.5,-441 684.5,-441 684.5,-500 684.5,-500 684.5,-506 678.5,-512 672.5,-512\"/>\n",
       "<text text-anchor=\"start\" x=\"570.5\" y=\"-496.8\" font-family=\"Helvetica,sans-Serif\" font-size=\"14.00\">month ≤ 3.5</text>\n",
       "<text text-anchor=\"start\" x=\"571.5\" y=\"-481.8\" font-family=\"Helvetica,sans-Serif\" font-size=\"14.00\">gini = 0.492</text>\n",
       "<text text-anchor=\"start\" x=\"554.5\" y=\"-466.8\" font-family=\"Helvetica,sans-Serif\" font-size=\"14.00\">samples = 45404</text>\n",
       "<text text-anchor=\"start\" x=\"537.5\" y=\"-451.8\" font-family=\"Helvetica,sans-Serif\" font-size=\"14.00\">value = [19828, 25576]</text>\n",
       "<text text-anchor=\"start\" x=\"575\" y=\"-436.8\" font-family=\"Helvetica,sans-Serif\" font-size=\"14.00\">class = Up</text>\n",
       "</g>\n",
       "<!-- 1 -->\n",
       "<g id=\"node2\" class=\"node\">\n",
       "<title>1</title>\n",
       "<path fill=\"#a9d4f4\" stroke=\"black\" d=\"M511,-393C511,-393 395,-393 395,-393 389,-393 383,-387 383,-381 383,-381 383,-322 383,-322 383,-316 389,-310 395,-310 395,-310 511,-310 511,-310 517,-310 523,-316 523,-322 523,-322 523,-381 523,-381 523,-387 517,-393 511,-393\"/>\n",
       "<text text-anchor=\"start\" x=\"411\" y=\"-377.8\" font-family=\"Helvetica,sans-Serif\" font-size=\"14.00\">year ≤ 2008.5</text>\n",
       "<text text-anchor=\"start\" x=\"417.5\" y=\"-362.8\" font-family=\"Helvetica,sans-Serif\" font-size=\"14.00\">gini = 0.461</text>\n",
       "<text text-anchor=\"start\" x=\"400.5\" y=\"-347.8\" font-family=\"Helvetica,sans-Serif\" font-size=\"14.00\">samples = 11416</text>\n",
       "<text text-anchor=\"start\" x=\"391\" y=\"-332.8\" font-family=\"Helvetica,sans-Serif\" font-size=\"14.00\">value = [4115, 7301]</text>\n",
       "<text text-anchor=\"start\" x=\"421\" y=\"-317.8\" font-family=\"Helvetica,sans-Serif\" font-size=\"14.00\">class = Up</text>\n",
       "</g>\n",
       "<!-- 0&#45;&gt;1 -->\n",
       "<g id=\"edge1\" class=\"edge\">\n",
       "<title>0&#45;&gt;1</title>\n",
       "<path fill=\"none\" stroke=\"black\" d=\"M553.57,-428.91C540.91,-419.29 527.31,-408.95 514.32,-399.09\"/>\n",
       "<polygon fill=\"black\" stroke=\"black\" points=\"516.42,-396.28 506.34,-393.02 512.18,-401.86 516.42,-396.28\"/>\n",
       "<text text-anchor=\"middle\" x=\"509.72\" y=\"-414.09\" font-family=\"Helvetica,sans-Serif\" font-size=\"14.00\">True</text>\n",
       "</g>\n",
       "<!-- 32 -->\n",
       "<g id=\"node17\" class=\"node\">\n",
       "<title>32</title>\n",
       "<path fill=\"#e3f1fb\" stroke=\"black\" d=\"M829.5,-393C829.5,-393 698.5,-393 698.5,-393 692.5,-393 686.5,-387 686.5,-381 686.5,-381 686.5,-322 686.5,-322 686.5,-316 692.5,-310 698.5,-310 698.5,-310 829.5,-310 829.5,-310 835.5,-310 841.5,-316 841.5,-322 841.5,-322 841.5,-381 841.5,-381 841.5,-387 835.5,-393 829.5,-393\"/>\n",
       "<text text-anchor=\"start\" x=\"727.5\" y=\"-377.8\" font-family=\"Helvetica,sans-Serif\" font-size=\"14.00\">natr ≤ 3.403</text>\n",
       "<text text-anchor=\"start\" x=\"728.5\" y=\"-362.8\" font-family=\"Helvetica,sans-Serif\" font-size=\"14.00\">gini = 0.497</text>\n",
       "<text text-anchor=\"start\" x=\"711.5\" y=\"-347.8\" font-family=\"Helvetica,sans-Serif\" font-size=\"14.00\">samples = 33988</text>\n",
       "<text text-anchor=\"start\" x=\"694.5\" y=\"-332.8\" font-family=\"Helvetica,sans-Serif\" font-size=\"14.00\">value = [15713, 18275]</text>\n",
       "<text text-anchor=\"start\" x=\"732\" y=\"-317.8\" font-family=\"Helvetica,sans-Serif\" font-size=\"14.00\">class = Up</text>\n",
       "</g>\n",
       "<!-- 0&#45;&gt;32 -->\n",
       "<g id=\"edge16\" class=\"edge\">\n",
       "<title>0&#45;&gt;32</title>\n",
       "<path fill=\"none\" stroke=\"black\" d=\"M661.47,-428.91C674.38,-419.29 688.25,-408.95 701.48,-399.09\"/>\n",
       "<polygon fill=\"black\" stroke=\"black\" points=\"703.7,-401.8 709.63,-393.02 699.52,-396.19 703.7,-401.8\"/>\n",
       "<text text-anchor=\"middle\" x=\"706.01\" y=\"-414.06\" font-family=\"Helvetica,sans-Serif\" font-size=\"14.00\">False</text>\n",
       "</g>\n",
       "<!-- 2 -->\n",
       "<g id=\"node3\" class=\"node\">\n",
       "<title>2</title>\n",
       "<path fill=\"#cbe5f8\" stroke=\"black\" d=\"M282,-274C282,-274 166,-274 166,-274 160,-274 154,-268 154,-262 154,-262 154,-203 154,-203 154,-197 160,-191 166,-191 166,-191 282,-191 282,-191 288,-191 294,-197 294,-203 294,-203 294,-262 294,-262 294,-268 288,-274 282,-274\"/>\n",
       "<text text-anchor=\"start\" x=\"187.5\" y=\"-258.8\" font-family=\"Helvetica,sans-Serif\" font-size=\"14.00\">month ≤ 2.5</text>\n",
       "<text text-anchor=\"start\" x=\"188.5\" y=\"-243.8\" font-family=\"Helvetica,sans-Serif\" font-size=\"14.00\">gini = 0.489</text>\n",
       "<text text-anchor=\"start\" x=\"175.5\" y=\"-228.8\" font-family=\"Helvetica,sans-Serif\" font-size=\"14.00\">samples = 2583</text>\n",
       "<text text-anchor=\"start\" x=\"162\" y=\"-213.8\" font-family=\"Helvetica,sans-Serif\" font-size=\"14.00\">value = [1098, 1485]</text>\n",
       "<text text-anchor=\"start\" x=\"192\" y=\"-198.8\" font-family=\"Helvetica,sans-Serif\" font-size=\"14.00\">class = Up</text>\n",
       "</g>\n",
       "<!-- 1&#45;&gt;2 -->\n",
       "<g id=\"edge2\" class=\"edge\">\n",
       "<title>1&#45;&gt;2</title>\n",
       "<path fill=\"none\" stroke=\"black\" d=\"M382.74,-314.6C357.57,-301.74 329.03,-287.16 303.16,-273.94\"/>\n",
       "<polygon fill=\"black\" stroke=\"black\" points=\"304.63,-270.76 294.13,-269.33 301.44,-277 304.63,-270.76\"/>\n",
       "</g>\n",
       "<!-- 17 -->\n",
       "<g id=\"node10\" class=\"node\">\n",
       "<title>17</title>\n",
       "<path fill=\"#a0d0f2\" stroke=\"black\" d=\"M511,-274C511,-274 395,-274 395,-274 389,-274 383,-268 383,-262 383,-262 383,-203 383,-203 383,-197 389,-191 395,-191 395,-191 511,-191 511,-191 517,-191 523,-197 523,-203 523,-203 523,-262 523,-262 523,-268 517,-274 511,-274\"/>\n",
       "<text text-anchor=\"start\" x=\"397\" y=\"-258.8\" font-family=\"Helvetica,sans-Serif\" font-size=\"14.00\">return_6m ≤ 0.025</text>\n",
       "<text text-anchor=\"start\" x=\"421\" y=\"-243.8\" font-family=\"Helvetica,sans-Serif\" font-size=\"14.00\">gini = 0.45</text>\n",
       "<text text-anchor=\"start\" x=\"404.5\" y=\"-228.8\" font-family=\"Helvetica,sans-Serif\" font-size=\"14.00\">samples = 8833</text>\n",
       "<text text-anchor=\"start\" x=\"391\" y=\"-213.8\" font-family=\"Helvetica,sans-Serif\" font-size=\"14.00\">value = [3017, 5816]</text>\n",
       "<text text-anchor=\"start\" x=\"421\" y=\"-198.8\" font-family=\"Helvetica,sans-Serif\" font-size=\"14.00\">class = Up</text>\n",
       "</g>\n",
       "<!-- 1&#45;&gt;17 -->\n",
       "<g id=\"edge9\" class=\"edge\">\n",
       "<title>1&#45;&gt;17</title>\n",
       "<path fill=\"none\" stroke=\"black\" d=\"M453,-309.91C453,-301.65 453,-292.86 453,-284.3\"/>\n",
       "<polygon fill=\"black\" stroke=\"black\" points=\"456.5,-284.02 453,-274.02 449.5,-284.02 456.5,-284.02\"/>\n",
       "</g>\n",
       "<!-- 3 -->\n",
       "<g id=\"node4\" class=\"node\">\n",
       "<title>3</title>\n",
       "<path fill=\"#f7fbfe\" stroke=\"black\" d=\"M131.5,-155C131.5,-155 30.5,-155 30.5,-155 24.5,-155 18.5,-149 18.5,-143 18.5,-143 18.5,-84 18.5,-84 18.5,-78 24.5,-72 30.5,-72 30.5,-72 131.5,-72 131.5,-72 137.5,-72 143.5,-78 143.5,-84 143.5,-84 143.5,-143 143.5,-143 143.5,-149 137.5,-155 131.5,-155\"/>\n",
       "<text text-anchor=\"start\" x=\"48\" y=\"-139.8\" font-family=\"Helvetica,sans-Serif\" font-size=\"14.00\">atr ≤ 0.157</text>\n",
       "<text text-anchor=\"start\" x=\"53\" y=\"-124.8\" font-family=\"Helvetica,sans-Serif\" font-size=\"14.00\">gini = 0.5</text>\n",
       "<text text-anchor=\"start\" x=\"32.5\" y=\"-109.8\" font-family=\"Helvetica,sans-Serif\" font-size=\"14.00\">samples = 1717</text>\n",
       "<text text-anchor=\"start\" x=\"26.5\" y=\"-94.8\" font-family=\"Helvetica,sans-Serif\" font-size=\"14.00\">value = [840, 877]</text>\n",
       "<text text-anchor=\"start\" x=\"49\" y=\"-79.8\" font-family=\"Helvetica,sans-Serif\" font-size=\"14.00\">class = Up</text>\n",
       "</g>\n",
       "<!-- 2&#45;&gt;3 -->\n",
       "<g id=\"edge3\" class=\"edge\">\n",
       "<title>2&#45;&gt;3</title>\n",
       "<path fill=\"none\" stroke=\"black\" d=\"M174.39,-190.91C162.74,-181.38 150.24,-171.15 138.29,-161.37\"/>\n",
       "<polygon fill=\"black\" stroke=\"black\" points=\"140.48,-158.64 130.53,-155.02 136.05,-164.06 140.48,-158.64\"/>\n",
       "</g>\n",
       "<!-- 10 -->\n",
       "<g id=\"node7\" class=\"node\">\n",
       "<title>10</title>\n",
       "<path fill=\"#8dc7f0\" stroke=\"black\" d=\"M274.5,-155C274.5,-155 173.5,-155 173.5,-155 167.5,-155 161.5,-149 161.5,-143 161.5,-143 161.5,-84 161.5,-84 161.5,-78 167.5,-72 173.5,-72 173.5,-72 274.5,-72 274.5,-72 280.5,-72 286.5,-78 286.5,-84 286.5,-84 286.5,-143 286.5,-143 286.5,-149 280.5,-155 274.5,-155\"/>\n",
       "<text text-anchor=\"start\" x=\"182\" y=\"-139.8\" font-family=\"Helvetica,sans-Serif\" font-size=\"14.00\">year ≤ 2006.5</text>\n",
       "<text text-anchor=\"start\" x=\"188.5\" y=\"-124.8\" font-family=\"Helvetica,sans-Serif\" font-size=\"14.00\">gini = 0.418</text>\n",
       "<text text-anchor=\"start\" x=\"179\" y=\"-109.8\" font-family=\"Helvetica,sans-Serif\" font-size=\"14.00\">samples = 866</text>\n",
       "<text text-anchor=\"start\" x=\"169.5\" y=\"-94.8\" font-family=\"Helvetica,sans-Serif\" font-size=\"14.00\">value = [258, 608]</text>\n",
       "<text text-anchor=\"start\" x=\"192\" y=\"-79.8\" font-family=\"Helvetica,sans-Serif\" font-size=\"14.00\">class = Up</text>\n",
       "</g>\n",
       "<!-- 2&#45;&gt;10 -->\n",
       "<g id=\"edge6\" class=\"edge\">\n",
       "<title>2&#45;&gt;10</title>\n",
       "<path fill=\"none\" stroke=\"black\" d=\"M224,-190.91C224,-182.65 224,-173.86 224,-165.3\"/>\n",
       "<polygon fill=\"black\" stroke=\"black\" points=\"227.5,-165.02 224,-155.02 220.5,-165.02 227.5,-165.02\"/>\n",
       "</g>\n",
       "<!-- 4 -->\n",
       "<g id=\"node5\" class=\"node\">\n",
       "<title>4</title>\n",
       "<path fill=\"#c0c0c0\" stroke=\"black\" d=\"M42,-36C42,-36 12,-36 12,-36 6,-36 0,-30 0,-24 0,-24 0,-12 0,-12 0,-6 6,0 12,0 12,0 42,0 42,0 48,0 54,-6 54,-12 54,-12 54,-24 54,-24 54,-30 48,-36 42,-36\"/>\n",
       "<text text-anchor=\"middle\" x=\"27\" y=\"-14.3\" font-family=\"Helvetica,sans-Serif\" font-size=\"14.00\">(...)</text>\n",
       "</g>\n",
       "<!-- 3&#45;&gt;4 -->\n",
       "<g id=\"edge4\" class=\"edge\">\n",
       "<title>3&#45;&gt;4</title>\n",
       "<path fill=\"none\" stroke=\"black\" d=\"M57.47,-71.76C52.27,-62.75 46.89,-53.44 42.13,-45.19\"/>\n",
       "<polygon fill=\"black\" stroke=\"black\" points=\"45.08,-43.31 37.05,-36.41 39.02,-46.82 45.08,-43.31\"/>\n",
       "</g>\n",
       "<!-- 7 -->\n",
       "<g id=\"node6\" class=\"node\">\n",
       "<title>7</title>\n",
       "<path fill=\"#c0c0c0\" stroke=\"black\" d=\"M114,-36C114,-36 84,-36 84,-36 78,-36 72,-30 72,-24 72,-24 72,-12 72,-12 72,-6 78,0 84,0 84,0 114,0 114,0 120,0 126,-6 126,-12 126,-12 126,-24 126,-24 126,-30 120,-36 114,-36\"/>\n",
       "<text text-anchor=\"middle\" x=\"99\" y=\"-14.3\" font-family=\"Helvetica,sans-Serif\" font-size=\"14.00\">(...)</text>\n",
       "</g>\n",
       "<!-- 3&#45;&gt;7 -->\n",
       "<g id=\"edge5\" class=\"edge\">\n",
       "<title>3&#45;&gt;7</title>\n",
       "<path fill=\"none\" stroke=\"black\" d=\"M88.84,-71.76C90.5,-63.14 92.22,-54.24 93.75,-46.26\"/>\n",
       "<polygon fill=\"black\" stroke=\"black\" points=\"97.2,-46.89 95.65,-36.41 90.32,-45.56 97.2,-46.89\"/>\n",
       "</g>\n",
       "<!-- 11 -->\n",
       "<g id=\"node8\" class=\"node\">\n",
       "<title>11</title>\n",
       "<path fill=\"#c0c0c0\" stroke=\"black\" d=\"M221,-36C221,-36 191,-36 191,-36 185,-36 179,-30 179,-24 179,-24 179,-12 179,-12 179,-6 185,0 191,0 191,0 221,0 221,0 227,0 233,-6 233,-12 233,-12 233,-24 233,-24 233,-30 227,-36 221,-36\"/>\n",
       "<text text-anchor=\"middle\" x=\"206\" y=\"-14.3\" font-family=\"Helvetica,sans-Serif\" font-size=\"14.00\">(...)</text>\n",
       "</g>\n",
       "<!-- 10&#45;&gt;11 -->\n",
       "<g id=\"edge7\" class=\"edge\">\n",
       "<title>10&#45;&gt;11</title>\n",
       "<path fill=\"none\" stroke=\"black\" d=\"M216.16,-71.76C214.5,-63.14 212.78,-54.24 211.25,-46.26\"/>\n",
       "<polygon fill=\"black\" stroke=\"black\" points=\"214.68,-45.56 209.35,-36.41 207.8,-46.89 214.68,-45.56\"/>\n",
       "</g>\n",
       "<!-- 14 -->\n",
       "<g id=\"node9\" class=\"node\">\n",
       "<title>14</title>\n",
       "<path fill=\"#c0c0c0\" stroke=\"black\" d=\"M293,-36C293,-36 263,-36 263,-36 257,-36 251,-30 251,-24 251,-24 251,-12 251,-12 251,-6 257,0 263,0 263,0 293,0 293,0 299,0 305,-6 305,-12 305,-12 305,-24 305,-24 305,-30 299,-36 293,-36\"/>\n",
       "<text text-anchor=\"middle\" x=\"278\" y=\"-14.3\" font-family=\"Helvetica,sans-Serif\" font-size=\"14.00\">(...)</text>\n",
       "</g>\n",
       "<!-- 10&#45;&gt;14 -->\n",
       "<g id=\"edge8\" class=\"edge\">\n",
       "<title>10&#45;&gt;14</title>\n",
       "<path fill=\"none\" stroke=\"black\" d=\"M247.53,-71.76C252.73,-62.75 258.11,-53.44 262.87,-45.19\"/>\n",
       "<polygon fill=\"black\" stroke=\"black\" points=\"265.98,-46.82 267.95,-36.41 259.92,-43.31 265.98,-46.82\"/>\n",
       "</g>\n",
       "<!-- 18 -->\n",
       "<g id=\"node11\" class=\"node\">\n",
       "<title>18</title>\n",
       "<path fill=\"#94caf1\" stroke=\"black\" d=\"M433,-155C433,-155 317,-155 317,-155 311,-155 305,-149 305,-143 305,-143 305,-84 305,-84 305,-78 311,-72 317,-72 317,-72 433,-72 433,-72 439,-72 445,-78 445,-84 445,-84 445,-143 445,-143 445,-149 439,-155 433,-155\"/>\n",
       "<text text-anchor=\"start\" x=\"315\" y=\"-139.8\" font-family=\"Helvetica,sans-Serif\" font-size=\"14.00\">return_12m ≤ 0.023</text>\n",
       "<text text-anchor=\"start\" x=\"339.5\" y=\"-124.8\" font-family=\"Helvetica,sans-Serif\" font-size=\"14.00\">gini = 0.432</text>\n",
       "<text text-anchor=\"start\" x=\"326.5\" y=\"-109.8\" font-family=\"Helvetica,sans-Serif\" font-size=\"14.00\">samples = 5887</text>\n",
       "<text text-anchor=\"start\" x=\"313\" y=\"-94.8\" font-family=\"Helvetica,sans-Serif\" font-size=\"14.00\">value = [1858, 4029]</text>\n",
       "<text text-anchor=\"start\" x=\"343\" y=\"-79.8\" font-family=\"Helvetica,sans-Serif\" font-size=\"14.00\">class = Up</text>\n",
       "</g>\n",
       "<!-- 17&#45;&gt;18 -->\n",
       "<g id=\"edge10\" class=\"edge\">\n",
       "<title>17&#45;&gt;18</title>\n",
       "<path fill=\"none\" stroke=\"black\" d=\"M425.94,-190.91C420.07,-182.1 413.8,-172.7 407.74,-163.61\"/>\n",
       "<polygon fill=\"black\" stroke=\"black\" points=\"410.47,-161.4 402.01,-155.02 404.65,-165.28 410.47,-161.4\"/>\n",
       "</g>\n",
       "<!-- 25 -->\n",
       "<g id=\"node14\" class=\"node\">\n",
       "<title>25</title>\n",
       "<path fill=\"#b9ddf6\" stroke=\"black\" d=\"M591,-155C591,-155 475,-155 475,-155 469,-155 463,-149 463,-143 463,-143 463,-84 463,-84 463,-78 469,-72 475,-72 475,-72 591,-72 591,-72 597,-72 603,-78 603,-84 603,-84 603,-143 603,-143 603,-149 597,-155 591,-155\"/>\n",
       "<text text-anchor=\"start\" x=\"496.5\" y=\"-139.8\" font-family=\"Helvetica,sans-Serif\" font-size=\"14.00\">month ≤ 2.5</text>\n",
       "<text text-anchor=\"start\" x=\"497.5\" y=\"-124.8\" font-family=\"Helvetica,sans-Serif\" font-size=\"14.00\">gini = 0.477</text>\n",
       "<text text-anchor=\"start\" x=\"484.5\" y=\"-109.8\" font-family=\"Helvetica,sans-Serif\" font-size=\"14.00\">samples = 2946</text>\n",
       "<text text-anchor=\"start\" x=\"471\" y=\"-94.8\" font-family=\"Helvetica,sans-Serif\" font-size=\"14.00\">value = [1159, 1787]</text>\n",
       "<text text-anchor=\"start\" x=\"501\" y=\"-79.8\" font-family=\"Helvetica,sans-Serif\" font-size=\"14.00\">class = Up</text>\n",
       "</g>\n",
       "<!-- 17&#45;&gt;25 -->\n",
       "<g id=\"edge13\" class=\"edge\">\n",
       "<title>17&#45;&gt;25</title>\n",
       "<path fill=\"none\" stroke=\"black\" d=\"M480.76,-190.91C486.84,-182.01 493.34,-172.51 499.61,-163.33\"/>\n",
       "<polygon fill=\"black\" stroke=\"black\" points=\"502.54,-165.25 505.29,-155.02 496.76,-161.3 502.54,-165.25\"/>\n",
       "</g>\n",
       "<!-- 19 -->\n",
       "<g id=\"node12\" class=\"node\">\n",
       "<title>19</title>\n",
       "<path fill=\"#c0c0c0\" stroke=\"black\" d=\"M368,-36C368,-36 338,-36 338,-36 332,-36 326,-30 326,-24 326,-24 326,-12 326,-12 326,-6 332,0 338,0 338,0 368,0 368,0 374,0 380,-6 380,-12 380,-12 380,-24 380,-24 380,-30 374,-36 368,-36\"/>\n",
       "<text text-anchor=\"middle\" x=\"353\" y=\"-14.3\" font-family=\"Helvetica,sans-Serif\" font-size=\"14.00\">(...)</text>\n",
       "</g>\n",
       "<!-- 18&#45;&gt;19 -->\n",
       "<g id=\"edge11\" class=\"edge\">\n",
       "<title>18&#45;&gt;19</title>\n",
       "<path fill=\"none\" stroke=\"black\" d=\"M365.41,-71.76C363.39,-63.14 361.29,-54.24 359.41,-46.26\"/>\n",
       "<polygon fill=\"black\" stroke=\"black\" points=\"362.79,-45.34 357.1,-36.41 355.98,-46.94 362.79,-45.34\"/>\n",
       "</g>\n",
       "<!-- 22 -->\n",
       "<g id=\"node13\" class=\"node\">\n",
       "<title>22</title>\n",
       "<path fill=\"#c0c0c0\" stroke=\"black\" d=\"M440,-36C440,-36 410,-36 410,-36 404,-36 398,-30 398,-24 398,-24 398,-12 398,-12 398,-6 404,0 410,0 410,0 440,0 440,0 446,0 452,-6 452,-12 452,-12 452,-24 452,-24 452,-30 446,-36 440,-36\"/>\n",
       "<text text-anchor=\"middle\" x=\"425\" y=\"-14.3\" font-family=\"Helvetica,sans-Serif\" font-size=\"14.00\">(...)</text>\n",
       "</g>\n",
       "<!-- 18&#45;&gt;22 -->\n",
       "<g id=\"edge12\" class=\"edge\">\n",
       "<title>18&#45;&gt;22</title>\n",
       "<path fill=\"none\" stroke=\"black\" d=\"M396.79,-71.76C401.55,-62.85 406.48,-53.64 410.85,-45.46\"/>\n",
       "<polygon fill=\"black\" stroke=\"black\" points=\"414.06,-46.87 415.69,-36.41 407.89,-43.57 414.06,-46.87\"/>\n",
       "</g>\n",
       "<!-- 26 -->\n",
       "<g id=\"node15\" class=\"node\">\n",
       "<title>26</title>\n",
       "<path fill=\"#c0c0c0\" stroke=\"black\" d=\"M521,-36C521,-36 491,-36 491,-36 485,-36 479,-30 479,-24 479,-24 479,-12 479,-12 479,-6 485,0 491,0 491,0 521,0 521,0 527,0 533,-6 533,-12 533,-12 533,-24 533,-24 533,-30 527,-36 521,-36\"/>\n",
       "<text text-anchor=\"middle\" x=\"506\" y=\"-14.3\" font-family=\"Helvetica,sans-Serif\" font-size=\"14.00\">(...)</text>\n",
       "</g>\n",
       "<!-- 25&#45;&gt;26 -->\n",
       "<g id=\"edge14\" class=\"edge\">\n",
       "<title>25&#45;&gt;26</title>\n",
       "<path fill=\"none\" stroke=\"black\" d=\"M521.24,-71.76C518.75,-63.14 516.18,-54.24 513.87,-46.26\"/>\n",
       "<polygon fill=\"black\" stroke=\"black\" points=\"517.16,-45.04 511.03,-36.41 510.44,-46.98 517.16,-45.04\"/>\n",
       "</g>\n",
       "<!-- 29 -->\n",
       "<g id=\"node16\" class=\"node\">\n",
       "<title>29</title>\n",
       "<path fill=\"#c0c0c0\" stroke=\"black\" d=\"M593,-36C593,-36 563,-36 563,-36 557,-36 551,-30 551,-24 551,-24 551,-12 551,-12 551,-6 557,0 563,0 563,0 593,0 593,0 599,0 605,-6 605,-12 605,-12 605,-24 605,-24 605,-30 599,-36 593,-36\"/>\n",
       "<text text-anchor=\"middle\" x=\"578\" y=\"-14.3\" font-family=\"Helvetica,sans-Serif\" font-size=\"14.00\">(...)</text>\n",
       "</g>\n",
       "<!-- 25&#45;&gt;29 -->\n",
       "<g id=\"edge15\" class=\"edge\">\n",
       "<title>25&#45;&gt;29</title>\n",
       "<path fill=\"none\" stroke=\"black\" d=\"M552.61,-71.76C556.9,-62.85 561.33,-53.64 565.27,-45.46\"/>\n",
       "<polygon fill=\"black\" stroke=\"black\" points=\"568.44,-46.93 569.62,-36.41 562.13,-43.9 568.44,-46.93\"/>\n",
       "</g>\n",
       "<!-- 33 -->\n",
       "<g id=\"node18\" class=\"node\">\n",
       "<title>33</title>\n",
       "<path fill=\"#d5eafa\" stroke=\"black\" d=\"M829.5,-274C829.5,-274 698.5,-274 698.5,-274 692.5,-274 686.5,-268 686.5,-262 686.5,-262 686.5,-203 686.5,-203 686.5,-197 692.5,-191 698.5,-191 698.5,-191 829.5,-191 829.5,-191 835.5,-191 841.5,-197 841.5,-203 841.5,-203 841.5,-262 841.5,-262 841.5,-268 835.5,-274 829.5,-274\"/>\n",
       "<text text-anchor=\"start\" x=\"727.5\" y=\"-258.8\" font-family=\"Helvetica,sans-Serif\" font-size=\"14.00\">month ≤ 7.5</text>\n",
       "<text text-anchor=\"start\" x=\"728.5\" y=\"-243.8\" font-family=\"Helvetica,sans-Serif\" font-size=\"14.00\">gini = 0.493</text>\n",
       "<text text-anchor=\"start\" x=\"711.5\" y=\"-228.8\" font-family=\"Helvetica,sans-Serif\" font-size=\"14.00\">samples = 26706</text>\n",
       "<text text-anchor=\"start\" x=\"694.5\" y=\"-213.8\" font-family=\"Helvetica,sans-Serif\" font-size=\"14.00\">value = [11786, 14920]</text>\n",
       "<text text-anchor=\"start\" x=\"732\" y=\"-198.8\" font-family=\"Helvetica,sans-Serif\" font-size=\"14.00\">class = Up</text>\n",
       "</g>\n",
       "<!-- 32&#45;&gt;33 -->\n",
       "<g id=\"edge17\" class=\"edge\">\n",
       "<title>32&#45;&gt;33</title>\n",
       "<path fill=\"none\" stroke=\"black\" d=\"M764,-309.91C764,-301.65 764,-292.86 764,-284.3\"/>\n",
       "<polygon fill=\"black\" stroke=\"black\" points=\"767.5,-284.02 764,-274.02 760.5,-284.02 767.5,-284.02\"/>\n",
       "</g>\n",
       "<!-- 48 -->\n",
       "<g id=\"node25\" class=\"node\">\n",
       "<title>48</title>\n",
       "<path fill=\"#fbede2\" stroke=\"black\" d=\"M1061,-274C1061,-274 945,-274 945,-274 939,-274 933,-268 933,-262 933,-262 933,-203 933,-203 933,-197 939,-191 945,-191 945,-191 1061,-191 1061,-191 1067,-191 1073,-197 1073,-203 1073,-203 1073,-262 1073,-262 1073,-268 1067,-274 1061,-274\"/>\n",
       "<text text-anchor=\"start\" x=\"961\" y=\"-258.8\" font-family=\"Helvetica,sans-Serif\" font-size=\"14.00\">year ≤ 2008.5</text>\n",
       "<text text-anchor=\"start\" x=\"967.5\" y=\"-243.8\" font-family=\"Helvetica,sans-Serif\" font-size=\"14.00\">gini = 0.497</text>\n",
       "<text text-anchor=\"start\" x=\"954.5\" y=\"-228.8\" font-family=\"Helvetica,sans-Serif\" font-size=\"14.00\">samples = 7282</text>\n",
       "<text text-anchor=\"start\" x=\"941\" y=\"-213.8\" font-family=\"Helvetica,sans-Serif\" font-size=\"14.00\">value = [3927, 3355]</text>\n",
       "<text text-anchor=\"start\" x=\"962\" y=\"-198.8\" font-family=\"Helvetica,sans-Serif\" font-size=\"14.00\">class = Down</text>\n",
       "</g>\n",
       "<!-- 32&#45;&gt;48 -->\n",
       "<g id=\"edge24\" class=\"edge\">\n",
       "<title>32&#45;&gt;48</title>\n",
       "<path fill=\"none\" stroke=\"black\" d=\"M841.6,-312.51C867.81,-299.68 897.1,-285.34 923.47,-272.43\"/>\n",
       "<polygon fill=\"black\" stroke=\"black\" points=\"925.22,-275.48 932.66,-267.93 922.14,-269.19 925.22,-275.48\"/>\n",
       "</g>\n",
       "<!-- 34 -->\n",
       "<g id=\"node19\" class=\"node\">\n",
       "<title>34</title>\n",
       "<path fill=\"#fafcfe\" stroke=\"black\" d=\"M749,-155C749,-155 633,-155 633,-155 627,-155 621,-149 621,-143 621,-143 621,-84 621,-84 621,-78 627,-72 633,-72 633,-72 749,-72 749,-72 755,-72 761,-78 761,-84 761,-84 761,-143 761,-143 761,-149 755,-155 749,-155\"/>\n",
       "<text text-anchor=\"start\" x=\"649\" y=\"-139.8\" font-family=\"Helvetica,sans-Serif\" font-size=\"14.00\">year ≤ 2011.5</text>\n",
       "<text text-anchor=\"start\" x=\"663\" y=\"-124.8\" font-family=\"Helvetica,sans-Serif\" font-size=\"14.00\">gini = 0.5</text>\n",
       "<text text-anchor=\"start\" x=\"638.5\" y=\"-109.8\" font-family=\"Helvetica,sans-Serif\" font-size=\"14.00\">samples = 12105</text>\n",
       "<text text-anchor=\"start\" x=\"629\" y=\"-94.8\" font-family=\"Helvetica,sans-Serif\" font-size=\"14.00\">value = [5969, 6136]</text>\n",
       "<text text-anchor=\"start\" x=\"659\" y=\"-79.8\" font-family=\"Helvetica,sans-Serif\" font-size=\"14.00\">class = Up</text>\n",
       "</g>\n",
       "<!-- 33&#45;&gt;34 -->\n",
       "<g id=\"edge18\" class=\"edge\">\n",
       "<title>33&#45;&gt;34</title>\n",
       "<path fill=\"none\" stroke=\"black\" d=\"M738.67,-190.91C733.18,-182.1 727.31,-172.7 721.64,-163.61\"/>\n",
       "<polygon fill=\"black\" stroke=\"black\" points=\"724.55,-161.65 716.28,-155.02 718.61,-165.36 724.55,-161.65\"/>\n",
       "</g>\n",
       "<!-- 41 -->\n",
       "<g id=\"node22\" class=\"node\">\n",
       "<title>41</title>\n",
       "<path fill=\"#bcdef6\" stroke=\"black\" d=\"M907,-155C907,-155 791,-155 791,-155 785,-155 779,-149 779,-143 779,-143 779,-84 779,-84 779,-78 785,-72 791,-72 791,-72 907,-72 907,-72 913,-72 919,-78 919,-84 919,-84 919,-143 919,-143 919,-149 913,-155 907,-155\"/>\n",
       "<text text-anchor=\"start\" x=\"808.5\" y=\"-139.8\" font-family=\"Helvetica,sans-Serif\" font-size=\"14.00\">month ≤ 11.5</text>\n",
       "<text text-anchor=\"start\" x=\"813.5\" y=\"-124.8\" font-family=\"Helvetica,sans-Serif\" font-size=\"14.00\">gini = 0.479</text>\n",
       "<text text-anchor=\"start\" x=\"796.5\" y=\"-109.8\" font-family=\"Helvetica,sans-Serif\" font-size=\"14.00\">samples = 14601</text>\n",
       "<text text-anchor=\"start\" x=\"787\" y=\"-94.8\" font-family=\"Helvetica,sans-Serif\" font-size=\"14.00\">value = [5817, 8784]</text>\n",
       "<text text-anchor=\"start\" x=\"817\" y=\"-79.8\" font-family=\"Helvetica,sans-Serif\" font-size=\"14.00\">class = Up</text>\n",
       "</g>\n",
       "<!-- 33&#45;&gt;41 -->\n",
       "<g id=\"edge21\" class=\"edge\">\n",
       "<title>33&#45;&gt;41</title>\n",
       "<path fill=\"none\" stroke=\"black\" d=\"M793.49,-190.91C799.95,-182.01 806.86,-172.51 813.52,-163.33\"/>\n",
       "<polygon fill=\"black\" stroke=\"black\" points=\"816.52,-165.17 819.56,-155.02 810.85,-161.05 816.52,-165.17\"/>\n",
       "</g>\n",
       "<!-- 35 -->\n",
       "<g id=\"node20\" class=\"node\">\n",
       "<title>35</title>\n",
       "<path fill=\"#c0c0c0\" stroke=\"black\" d=\"M676,-36C676,-36 646,-36 646,-36 640,-36 634,-30 634,-24 634,-24 634,-12 634,-12 634,-6 640,0 646,0 646,0 676,0 676,0 682,0 688,-6 688,-12 688,-12 688,-24 688,-24 688,-30 682,-36 676,-36\"/>\n",
       "<text text-anchor=\"middle\" x=\"661\" y=\"-14.3\" font-family=\"Helvetica,sans-Serif\" font-size=\"14.00\">(...)</text>\n",
       "</g>\n",
       "<!-- 34&#45;&gt;35 -->\n",
       "<g id=\"edge19\" class=\"edge\">\n",
       "<title>34&#45;&gt;35</title>\n",
       "<path fill=\"none\" stroke=\"black\" d=\"M677.93,-71.76C675.13,-63.04 672.24,-54.04 669.66,-45.99\"/>\n",
       "<polygon fill=\"black\" stroke=\"black\" points=\"672.97,-44.86 666.58,-36.41 666.31,-47 672.97,-44.86\"/>\n",
       "</g>\n",
       "<!-- 38 -->\n",
       "<g id=\"node21\" class=\"node\">\n",
       "<title>38</title>\n",
       "<path fill=\"#c0c0c0\" stroke=\"black\" d=\"M748,-36C748,-36 718,-36 718,-36 712,-36 706,-30 706,-24 706,-24 706,-12 706,-12 706,-6 712,0 718,0 718,0 748,0 748,0 754,0 760,-6 760,-12 760,-12 760,-24 760,-24 760,-30 754,-36 748,-36\"/>\n",
       "<text text-anchor=\"middle\" x=\"733\" y=\"-14.3\" font-family=\"Helvetica,sans-Serif\" font-size=\"14.00\">(...)</text>\n",
       "</g>\n",
       "<!-- 34&#45;&gt;38 -->\n",
       "<g id=\"edge20\" class=\"edge\">\n",
       "<title>34&#45;&gt;38</title>\n",
       "<path fill=\"none\" stroke=\"black\" d=\"M709.3,-71.76C713.26,-62.94 717.35,-53.84 721,-45.72\"/>\n",
       "<polygon fill=\"black\" stroke=\"black\" points=\"724.28,-46.96 725.18,-36.41 717.89,-44.09 724.28,-46.96\"/>\n",
       "</g>\n",
       "<!-- 42 -->\n",
       "<g id=\"node23\" class=\"node\">\n",
       "<title>42</title>\n",
       "<path fill=\"#c0c0c0\" stroke=\"black\" d=\"M833,-36C833,-36 803,-36 803,-36 797,-36 791,-30 791,-24 791,-24 791,-12 791,-12 791,-6 797,0 803,0 803,0 833,0 833,0 839,0 845,-6 845,-12 845,-12 845,-24 845,-24 845,-30 839,-36 833,-36\"/>\n",
       "<text text-anchor=\"middle\" x=\"818\" y=\"-14.3\" font-family=\"Helvetica,sans-Serif\" font-size=\"14.00\">(...)</text>\n",
       "</g>\n",
       "<!-- 41&#45;&gt;42 -->\n",
       "<g id=\"edge22\" class=\"edge\">\n",
       "<title>41&#45;&gt;42</title>\n",
       "<path fill=\"none\" stroke=\"black\" d=\"M835.49,-71.76C832.6,-63.04 829.62,-54.04 826.95,-45.99\"/>\n",
       "<polygon fill=\"black\" stroke=\"black\" points=\"830.24,-44.8 823.77,-36.41 823.6,-47 830.24,-44.8\"/>\n",
       "</g>\n",
       "<!-- 45 -->\n",
       "<g id=\"node24\" class=\"node\">\n",
       "<title>45</title>\n",
       "<path fill=\"#c0c0c0\" stroke=\"black\" d=\"M905,-36C905,-36 875,-36 875,-36 869,-36 863,-30 863,-24 863,-24 863,-12 863,-12 863,-6 869,0 875,0 875,0 905,0 905,0 911,0 917,-6 917,-12 917,-12 917,-24 917,-24 917,-30 911,-36 905,-36\"/>\n",
       "<text text-anchor=\"middle\" x=\"890\" y=\"-14.3\" font-family=\"Helvetica,sans-Serif\" font-size=\"14.00\">(...)</text>\n",
       "</g>\n",
       "<!-- 41&#45;&gt;45 -->\n",
       "<g id=\"edge23\" class=\"edge\">\n",
       "<title>41&#45;&gt;45</title>\n",
       "<path fill=\"none\" stroke=\"black\" d=\"M866.86,-71.76C870.73,-62.94 874.72,-53.84 878.28,-45.72\"/>\n",
       "<polygon fill=\"black\" stroke=\"black\" points=\"881.56,-46.97 882.37,-36.41 875.15,-44.16 881.56,-46.97\"/>\n",
       "</g>\n",
       "<!-- 49 -->\n",
       "<g id=\"node26\" class=\"node\">\n",
       "<title>49</title>\n",
       "<path fill=\"#f4ccae\" stroke=\"black\" d=\"M1057,-155C1057,-155 949,-155 949,-155 943,-155 937,-149 937,-143 937,-143 937,-84 937,-84 937,-78 943,-72 949,-72 949,-72 1057,-72 1057,-72 1063,-72 1069,-78 1069,-84 1069,-84 1069,-143 1069,-143 1069,-149 1063,-155 1057,-155\"/>\n",
       "<text text-anchor=\"start\" x=\"966.5\" y=\"-139.8\" font-family=\"Helvetica,sans-Serif\" font-size=\"14.00\">month ≤ 7.5</text>\n",
       "<text text-anchor=\"start\" x=\"967.5\" y=\"-124.8\" font-family=\"Helvetica,sans-Serif\" font-size=\"14.00\">gini = 0.467</text>\n",
       "<text text-anchor=\"start\" x=\"954.5\" y=\"-109.8\" font-family=\"Helvetica,sans-Serif\" font-size=\"14.00\">samples = 2568</text>\n",
       "<text text-anchor=\"start\" x=\"945\" y=\"-94.8\" font-family=\"Helvetica,sans-Serif\" font-size=\"14.00\">value = [1613, 955]</text>\n",
       "<text text-anchor=\"start\" x=\"962\" y=\"-79.8\" font-family=\"Helvetica,sans-Serif\" font-size=\"14.00\">class = Down</text>\n",
       "</g>\n",
       "<!-- 48&#45;&gt;49 -->\n",
       "<g id=\"edge25\" class=\"edge\">\n",
       "<title>48&#45;&gt;49</title>\n",
       "<path fill=\"none\" stroke=\"black\" d=\"M1003,-190.91C1003,-182.65 1003,-173.86 1003,-165.3\"/>\n",
       "<polygon fill=\"black\" stroke=\"black\" points=\"1006.5,-165.02 1003,-155.02 999.5,-165.02 1006.5,-165.02\"/>\n",
       "</g>\n",
       "<!-- 56 -->\n",
       "<g id=\"node29\" class=\"node\">\n",
       "<title>56</title>\n",
       "<path fill=\"#f8fbfe\" stroke=\"black\" d=\"M1215,-155C1215,-155 1099,-155 1099,-155 1093,-155 1087,-149 1087,-143 1087,-143 1087,-84 1087,-84 1087,-78 1093,-72 1099,-72 1099,-72 1215,-72 1215,-72 1221,-72 1227,-78 1227,-84 1227,-84 1227,-143 1227,-143 1227,-149 1221,-155 1215,-155\"/>\n",
       "<text text-anchor=\"start\" x=\"1104.5\" y=\"-139.8\" font-family=\"Helvetica,sans-Serif\" font-size=\"14.00\">bb_down ≤ 0.052</text>\n",
       "<text text-anchor=\"start\" x=\"1129\" y=\"-124.8\" font-family=\"Helvetica,sans-Serif\" font-size=\"14.00\">gini = 0.5</text>\n",
       "<text text-anchor=\"start\" x=\"1108.5\" y=\"-109.8\" font-family=\"Helvetica,sans-Serif\" font-size=\"14.00\">samples = 4714</text>\n",
       "<text text-anchor=\"start\" x=\"1095\" y=\"-94.8\" font-family=\"Helvetica,sans-Serif\" font-size=\"14.00\">value = [2314, 2400]</text>\n",
       "<text text-anchor=\"start\" x=\"1125\" y=\"-79.8\" font-family=\"Helvetica,sans-Serif\" font-size=\"14.00\">class = Up</text>\n",
       "</g>\n",
       "<!-- 48&#45;&gt;56 -->\n",
       "<g id=\"edge28\" class=\"edge\">\n",
       "<title>48&#45;&gt;56</title>\n",
       "<path fill=\"none\" stroke=\"black\" d=\"M1056.43,-190.91C1069.09,-181.29 1082.69,-170.95 1095.68,-161.09\"/>\n",
       "<polygon fill=\"black\" stroke=\"black\" points=\"1097.82,-163.86 1103.66,-155.02 1093.58,-158.28 1097.82,-163.86\"/>\n",
       "</g>\n",
       "<!-- 50 -->\n",
       "<g id=\"node27\" class=\"node\">\n",
       "<title>50</title>\n",
       "<path fill=\"#c0c0c0\" stroke=\"black\" d=\"M988,-36C988,-36 958,-36 958,-36 952,-36 946,-30 946,-24 946,-24 946,-12 946,-12 946,-6 952,0 958,0 958,0 988,0 988,0 994,0 1000,-6 1000,-12 1000,-12 1000,-24 1000,-24 1000,-30 994,-36 988,-36\"/>\n",
       "<text text-anchor=\"middle\" x=\"973\" y=\"-14.3\" font-family=\"Helvetica,sans-Serif\" font-size=\"14.00\">(...)</text>\n",
       "</g>\n",
       "<!-- 49&#45;&gt;50 -->\n",
       "<g id=\"edge26\" class=\"edge\">\n",
       "<title>49&#45;&gt;50</title>\n",
       "<path fill=\"none\" stroke=\"black\" d=\"M989.93,-71.76C987.13,-63.04 984.24,-54.04 981.66,-45.99\"/>\n",
       "<polygon fill=\"black\" stroke=\"black\" points=\"984.97,-44.86 978.58,-36.41 978.31,-47 984.97,-44.86\"/>\n",
       "</g>\n",
       "<!-- 53 -->\n",
       "<g id=\"node28\" class=\"node\">\n",
       "<title>53</title>\n",
       "<path fill=\"#c0c0c0\" stroke=\"black\" d=\"M1060,-36C1060,-36 1030,-36 1030,-36 1024,-36 1018,-30 1018,-24 1018,-24 1018,-12 1018,-12 1018,-6 1024,0 1030,0 1030,0 1060,0 1060,0 1066,0 1072,-6 1072,-12 1072,-12 1072,-24 1072,-24 1072,-30 1066,-36 1060,-36\"/>\n",
       "<text text-anchor=\"middle\" x=\"1045\" y=\"-14.3\" font-family=\"Helvetica,sans-Serif\" font-size=\"14.00\">(...)</text>\n",
       "</g>\n",
       "<!-- 49&#45;&gt;53 -->\n",
       "<g id=\"edge27\" class=\"edge\">\n",
       "<title>49&#45;&gt;53</title>\n",
       "<path fill=\"none\" stroke=\"black\" d=\"M1021.3,-71.76C1025.26,-62.94 1029.35,-53.84 1033,-45.72\"/>\n",
       "<polygon fill=\"black\" stroke=\"black\" points=\"1036.28,-46.96 1037.18,-36.41 1029.89,-44.09 1036.28,-46.96\"/>\n",
       "</g>\n",
       "<!-- 57 -->\n",
       "<g id=\"node30\" class=\"node\">\n",
       "<title>57</title>\n",
       "<path fill=\"#c0c0c0\" stroke=\"black\" d=\"M1143,-36C1143,-36 1113,-36 1113,-36 1107,-36 1101,-30 1101,-24 1101,-24 1101,-12 1101,-12 1101,-6 1107,0 1113,0 1113,0 1143,0 1143,0 1149,0 1155,-6 1155,-12 1155,-12 1155,-24 1155,-24 1155,-30 1149,-36 1143,-36\"/>\n",
       "<text text-anchor=\"middle\" x=\"1128\" y=\"-14.3\" font-family=\"Helvetica,sans-Serif\" font-size=\"14.00\">(...)</text>\n",
       "</g>\n",
       "<!-- 56&#45;&gt;57 -->\n",
       "<g id=\"edge29\" class=\"edge\">\n",
       "<title>56&#45;&gt;57</title>\n",
       "<path fill=\"none\" stroke=\"black\" d=\"M1144.36,-71.76C1141.66,-63.04 1138.87,-54.04 1136.37,-45.99\"/>\n",
       "<polygon fill=\"black\" stroke=\"black\" points=\"1139.7,-44.92 1133.4,-36.41 1133.02,-46.99 1139.7,-44.92\"/>\n",
       "</g>\n",
       "<!-- 60 -->\n",
       "<g id=\"node31\" class=\"node\">\n",
       "<title>60</title>\n",
       "<path fill=\"#c0c0c0\" stroke=\"black\" d=\"M1215,-36C1215,-36 1185,-36 1185,-36 1179,-36 1173,-30 1173,-24 1173,-24 1173,-12 1173,-12 1173,-6 1179,0 1185,0 1185,0 1215,0 1215,0 1221,0 1227,-6 1227,-12 1227,-12 1227,-24 1227,-24 1227,-30 1221,-36 1215,-36\"/>\n",
       "<text text-anchor=\"middle\" x=\"1200\" y=\"-14.3\" font-family=\"Helvetica,sans-Serif\" font-size=\"14.00\">(...)</text>\n",
       "</g>\n",
       "<!-- 56&#45;&gt;60 -->\n",
       "<g id=\"edge30\" class=\"edge\">\n",
       "<title>56&#45;&gt;60</title>\n",
       "<path fill=\"none\" stroke=\"black\" d=\"M1175.74,-71.76C1179.79,-62.94 1183.98,-53.84 1187.71,-45.72\"/>\n",
       "<polygon fill=\"black\" stroke=\"black\" points=\"1191,-46.95 1192,-36.41 1184.64,-44.03 1191,-46.95\"/>\n",
       "</g>\n",
       "</g>\n",
       "</svg>\n"
      ],
      "text/plain": [
       "<graphviz.files.Source at 0x7f29af9886d0>"
      ]
     },
     "execution_count": 55,
     "metadata": {},
     "output_type": "execute_result"
    }
   ],
   "source": [
    "out_file = results_path / 'clf_tree.dot'\n",
    "dot_data = export_graphviz(clf,\n",
    "                           out_file=out_file.as_posix(),\n",
    "                           feature_names=X.columns,\n",
    "                           class_names=['Down', 'Up'],\n",
    "                           max_depth=3,\n",
    "                           filled=True,\n",
    "                           rounded=True,\n",
    "                           special_characters=True)\n",
    "if out_file is not None:\n",
    "    dot_data = Path(out_file).read_text()\n",
    "\n",
    "graphviz.Source(dot_data)"
   ]
  },
  {
   "cell_type": "markdown",
   "metadata": {},
   "source": [
    "### Evaluate Test Set"
   ]
  },
  {
   "cell_type": "markdown",
   "metadata": {},
   "source": [
    "To evaluate the predictive accuracy of our first classification tree, we will use our test set to generate predicted class probabilities. \n",
    "\n",
    "The `.predict_proba()` method produces one probability for each class. In the binary class, these probabilities are complementary and sum to 1, so we only need the value for the positive class. "
   ]
  },
  {
   "cell_type": "code",
   "execution_count": 56,
   "metadata": {
    "ExecuteTime": {
     "end_time": "2020-06-19T13:47:54.408859Z",
     "start_time": "2020-06-19T13:47:54.403090Z"
    }
   },
   "outputs": [],
   "source": [
    "y_score = clf.predict_proba(X=X_test)[:, 1]"
   ]
  },
  {
   "cell_type": "markdown",
   "metadata": {},
   "source": [
    "To evaluate the generalization error, we will use the area under the curve based on the receiver-operating characteristic that we introduced in Chapter 6, The Machine Learning Process. The result indicates a significant improvement above and beyond the baseline value of 0.5 for a random prediction:"
   ]
  },
  {
   "cell_type": "code",
   "execution_count": 57,
   "metadata": {
    "ExecuteTime": {
     "end_time": "2020-06-19T13:47:54.418644Z",
     "start_time": "2020-06-19T13:47:54.409881Z"
    }
   },
   "outputs": [
    {
     "data": {
      "text/plain": [
       "0.6314068026403399"
      ]
     },
     "execution_count": 57,
     "metadata": {},
     "output_type": "execute_result"
    }
   ],
   "source": [
    "roc_auc_score(y_score=y_score, y_true=y_test)"
   ]
  },
  {
   "cell_type": "markdown",
   "metadata": {},
   "source": [
    "### Print Decision Path"
   ]
  },
  {
   "cell_type": "markdown",
   "metadata": {},
   "source": [
    "Inspired by https://stackoverflow.com/questions/20224526/how-to-extract-the-decision-rules-from-scikit-learn-decision-tree"
   ]
  },
  {
   "cell_type": "code",
   "execution_count": 58,
   "metadata": {
    "ExecuteTime": {
     "end_time": "2020-06-19T13:47:54.426010Z",
     "start_time": "2020-06-19T13:47:54.419603Z"
    }
   },
   "outputs": [
    {
     "name": "stdout",
     "output_type": "stream",
     "text": [
      "Help on class Tree in module sklearn.tree._tree:\n",
      "\n",
      "class Tree(builtins.object)\n",
      " |  Array-based representation of a binary decision tree.\n",
      " |  \n",
      " |  The binary tree is represented as a number of parallel arrays. The i-th\n",
      " |  element of each array holds information about the node `i`. Node 0 is the\n",
      " |  tree's root. You can find a detailed description of all arrays in\n",
      " |  `_tree.pxd`. NOTE: Some of the arrays only apply to either leaves or split\n",
      " |  nodes, resp. In this case the values of nodes of the other type are\n",
      " |  arbitrary!\n",
      " |  \n",
      " |  Attributes\n",
      " |  ----------\n",
      " |  node_count : int\n",
      " |      The number of nodes (internal nodes + leaves) in the tree.\n",
      " |  \n",
      " |  capacity : int\n",
      " |      The current capacity (i.e., size) of the arrays, which is at least as\n",
      " |      great as `node_count`.\n",
      " |  \n",
      " |  max_depth : int\n",
      " |      The depth of the tree, i.e. the maximum depth of its leaves.\n",
      " |  \n",
      " |  children_left : array of int, shape [node_count]\n",
      " |      children_left[i] holds the node id of the left child of node i.\n",
      " |      For leaves, children_left[i] == TREE_LEAF. Otherwise,\n",
      " |      children_left[i] > i. This child handles the case where\n",
      " |      X[:, feature[i]] <= threshold[i].\n",
      " |  \n",
      " |  children_right : array of int, shape [node_count]\n",
      " |      children_right[i] holds the node id of the right child of node i.\n",
      " |      For leaves, children_right[i] == TREE_LEAF. Otherwise,\n",
      " |      children_right[i] > i. This child handles the case where\n",
      " |      X[:, feature[i]] > threshold[i].\n",
      " |  \n",
      " |  feature : array of int, shape [node_count]\n",
      " |      feature[i] holds the feature to split on, for the internal node i.\n",
      " |  \n",
      " |  threshold : array of double, shape [node_count]\n",
      " |      threshold[i] holds the threshold for the internal node i.\n",
      " |  \n",
      " |  value : array of double, shape [node_count, n_outputs, max_n_classes]\n",
      " |      Contains the constant prediction value of each node.\n",
      " |  \n",
      " |  impurity : array of double, shape [node_count]\n",
      " |      impurity[i] holds the impurity (i.e., the value of the splitting\n",
      " |      criterion) at node i.\n",
      " |  \n",
      " |  n_node_samples : array of int, shape [node_count]\n",
      " |      n_node_samples[i] holds the number of training samples reaching node i.\n",
      " |  \n",
      " |  weighted_n_node_samples : array of int, shape [node_count]\n",
      " |      weighted_n_node_samples[i] holds the weighted number of training samples\n",
      " |      reaching node i.\n",
      " |  \n",
      " |  Methods defined here:\n",
      " |  \n",
      " |  __getstate__(...)\n",
      " |      Getstate re-implementation, for pickling.\n",
      " |  \n",
      " |  __reduce__(...)\n",
      " |      Reduce re-implementation, for pickling.\n",
      " |  \n",
      " |  __setstate__(...)\n",
      " |      Setstate re-implementation, for unpickling.\n",
      " |  \n",
      " |  apply(...)\n",
      " |      Finds the terminal region (=leaf node) for each sample in X.\n",
      " |  \n",
      " |  compute_feature_importances(...)\n",
      " |      Computes the importance of each feature (aka variable).\n",
      " |  \n",
      " |  compute_partial_dependence(...)\n",
      " |      Partial dependence of the response on the ``target_feature`` set.\n",
      " |      \n",
      " |      For each sample in ``X`` a tree traversal is performed.\n",
      " |      Each traversal starts from the root with weight 1.0.\n",
      " |      \n",
      " |      At each non-leaf node that splits on a target feature, either\n",
      " |      the left child or the right child is visited based on the feature\n",
      " |      value of the current sample, and the weight is not modified.\n",
      " |      At each non-leaf node that splits on a complementary feature,\n",
      " |      both children are visited and the weight is multiplied by the fraction\n",
      " |      of training samples which went to each child.\n",
      " |      \n",
      " |      At each leaf, the value of the node is multiplied by the current\n",
      " |      weight (weights sum to 1 for all visited terminal nodes).\n",
      " |      \n",
      " |      Parameters\n",
      " |      ----------\n",
      " |      X : view on 2d ndarray, shape (n_samples, n_target_features)\n",
      " |          The grid points on which the partial dependence should be\n",
      " |          evaluated.\n",
      " |      target_features : view on 1d ndarray, shape (n_target_features)\n",
      " |          The set of target features for which the partial dependence\n",
      " |          should be evaluated.\n",
      " |      out : view on 1d ndarray, shape (n_samples)\n",
      " |          The value of the partial dependence function on each grid\n",
      " |          point.\n",
      " |  \n",
      " |  decision_path(...)\n",
      " |      Finds the decision path (=node) for each sample in X.\n",
      " |  \n",
      " |  predict(...)\n",
      " |      Predict target for X.\n",
      " |  \n",
      " |  ----------------------------------------------------------------------\n",
      " |  Static methods defined here:\n",
      " |  \n",
      " |  __new__(*args, **kwargs) from builtins.type\n",
      " |      Create and return a new object.  See help(type) for accurate signature.\n",
      " |  \n",
      " |  ----------------------------------------------------------------------\n",
      " |  Data descriptors defined here:\n",
      " |  \n",
      " |  capacity\n",
      " |  \n",
      " |  children_left\n",
      " |  \n",
      " |  children_right\n",
      " |  \n",
      " |  feature\n",
      " |  \n",
      " |  impurity\n",
      " |  \n",
      " |  max_depth\n",
      " |  \n",
      " |  max_n_classes\n",
      " |  \n",
      " |  n_classes\n",
      " |  \n",
      " |  n_features\n",
      " |  \n",
      " |  n_leaves\n",
      " |  \n",
      " |  n_node_samples\n",
      " |  \n",
      " |  n_outputs\n",
      " |  \n",
      " |  node_count\n",
      " |  \n",
      " |  threshold\n",
      " |  \n",
      " |  value\n",
      " |  \n",
      " |  weighted_n_node_samples\n",
      " |  \n",
      " |  ----------------------------------------------------------------------\n",
      " |  Data and other attributes defined here:\n",
      " |  \n",
      " |  __pyx_vtable__ = <capsule object NULL>\n",
      "\n"
     ]
    }
   ],
   "source": [
    "from sklearn.tree._tree import Tree\n",
    "help(Tree)"
   ]
  },
  {
   "cell_type": "code",
   "execution_count": 59,
   "metadata": {
    "ExecuteTime": {
     "end_time": "2020-06-19T13:47:54.434284Z",
     "start_time": "2020-06-19T13:47:54.427200Z"
    }
   },
   "outputs": [],
   "source": [
    "def tree_to_code(tree, feature_names):\n",
    "    if isinstance(tree, DecisionTreeClassifier):\n",
    "        model = 'clf'\n",
    "    elif isinstance(tree, DecisionTreeRegressor):\n",
    "        model = 'reg'\n",
    "    else:\n",
    "        raise ValueError('Need Regression or Classification Tree')\n",
    "        \n",
    "    tree_ = tree.tree_\n",
    "    feature_name = [\n",
    "        feature_names[i] if i != _tree.TREE_UNDEFINED else \"undefined!\"\n",
    "        for i in tree_.feature\n",
    "    ]\n",
    "    print(\"def tree({}):\".format(\", \".join(feature_names)))\n",
    "\n",
    "    def recurse(node, depth):\n",
    "        indent = \"  \" * depth\n",
    "        if tree_.feature[node] != _tree.TREE_UNDEFINED:\n",
    "            name = feature_name[node]\n",
    "            threshold = tree_.threshold[node]\n",
    "            print(indent, f'if {name} <= {threshold:.2%}')\n",
    "            recurse(tree_.children_left[node], depth + 1)\n",
    "            print(indent, f'else:  # if {name} > {threshold:.2%}')\n",
    "            recurse(tree_.children_right[node], depth + 1)\n",
    "        else:\n",
    "            pred = tree_.value[node][0]\n",
    "            val = pred[1]/sum(pred) if model == 'clf' else pred[0]\n",
    "            print(indent, f'return {val:.2%}')\n",
    "    recurse(0, 1)"
   ]
  },
  {
   "cell_type": "code",
   "execution_count": 60,
   "metadata": {
    "ExecuteTime": {
     "end_time": "2020-06-19T13:47:54.455022Z",
     "start_time": "2020-06-19T13:47:54.435375Z"
    }
   },
   "outputs": [
    {
     "name": "stdout",
     "output_type": "stream",
     "text": [
      "def tree(t-1, t-2):\n",
      "   if t-1 <= -7.44%\n",
      "     if t-1 <= -25.72%\n",
      "       return 40.94%\n",
      "     else:  # if t-1 > -25.72%\n",
      "       if t-2 <= -6.72%\n",
      "         if t-1 <= -8.81%\n",
      "           if t-1 <= -8.88%\n",
      "             return 55.26%\n",
      "           else:  # if t-1 > -8.88%\n",
      "             return 23.08%\n",
      "         else:  # if t-1 > -8.81%\n",
      "           return 64.47%\n",
      "       else:  # if t-2 > -6.72%\n",
      "         if t-1 <= -13.61%\n",
      "           if t-2 <= 4.83%\n",
      "             return 44.72%\n",
      "           else:  # if t-2 > 4.83%\n",
      "             return 50.09%\n",
      "         else:  # if t-1 > -13.61%\n",
      "           if t-2 <= 8.26%\n",
      "             return 51.19%\n",
      "           else:  # if t-2 > 8.26%\n",
      "             return 56.97%\n",
      "   else:  # if t-1 > -7.44%\n",
      "     if t-1 <= 6.76%\n",
      "       if t-2 <= -6.66%\n",
      "         if t-1 <= 6.15%\n",
      "           if t-1 <= -7.16%\n",
      "             return 72.22%\n",
      "           else:  # if t-1 > -7.16%\n",
      "             return 54.31%\n",
      "         else:  # if t-1 > 6.15%\n",
      "           return 66.46%\n",
      "       else:  # if t-2 > -6.66%\n",
      "         if t-2 <= -6.11%\n",
      "           return 68.22%\n",
      "         else:  # if t-2 > -6.11%\n",
      "           if t-2 <= 17.86%\n",
      "             return 57.84%\n",
      "           else:  # if t-2 > 17.86%\n",
      "             return 53.04%\n",
      "     else:  # if t-1 > 6.76%\n",
      "       if t-2 <= 10.66%\n",
      "         if t-2 <= -10.81%\n",
      "           if t-1 <= 28.33%\n",
      "             return 50.88%\n",
      "           else:  # if t-1 > 28.33%\n",
      "             return 62.29%\n",
      "         else:  # if t-2 > -10.81%\n",
      "           if t-2 <= 3.57%\n",
      "             return 57.25%\n",
      "           else:  # if t-2 > 3.57%\n",
      "             return 53.67%\n",
      "       else:  # if t-2 > 10.66%\n",
      "         if t-1 <= 18.83%\n",
      "           return 51.39%\n",
      "         else:  # if t-1 > 18.83%\n",
      "           return 43.17%\n"
     ]
    }
   ],
   "source": [
    "tree_to_code(clf_tree_t2, X2.columns)"
   ]
  },
  {
   "cell_type": "markdown",
   "metadata": {},
   "source": [
    "## Overfitting, Regularization & Parameter Tuning"
   ]
  },
  {
   "cell_type": "markdown",
   "metadata": {},
   "source": [
    "Decision trees have a strong tendency to overfit, especially when a dataset has a large number of features relative to the number of samples. As discussed in previous chapters, overfitting increases the prediction error because the model does not only learn the signal contained in the training data, but also the noise.\n",
    "There are several ways to address the risk of overfitting."
   ]
  },
  {
   "cell_type": "markdown",
   "metadata": {},
   "source": [
    "Decision trees provide several regularization hyperparameters to limit the growth of a tree and the associated complexity. While every split increases the number of nodes, it also reduces the number of samples available per node to support a prediction. For each additional level, twice the number of samples is needed to populate the new nodes with the same sample density. "
   ]
  },
  {
   "cell_type": "markdown",
   "metadata": {},
   "source": [
    "### Decision Tree Parameters"
   ]
  },
  {
   "cell_type": "markdown",
   "metadata": {},
   "source": [
    "The following table lists key parameters available for this purpose in the sklearn decision tree implementation. After introducing the most important parameters, we will illustrate how to use cross-validation to optimize the hyperparameter settings with respect to the bias-variance tradeoff and lower prediction errors:"
   ]
  },
  {
   "cell_type": "markdown",
   "metadata": {},
   "source": [
    "| Parameter                | Default | Options                                                                                                                                                               | Description                                                                                                                                                                                                             |\n",
    "|--------------------------|---------|-----------------------------------------------------------------------------------------------------------------------------------------------------------------------|-------------------------------------------------------------------------------------------------------------------------------------------------------------------------------------------------------------------------|\n",
    "| criterion                | gini    | Regression: MSE, MAE Classification: Gini impurity, Cross Entropy                                                                                                     | Metric to evaluate split quality.                                                                                                                                                                                       |\n",
    "| splitter                 | best    | best, random                                                                                                                                                          | How to choose the split at each node. Supported strategies are “best” to choose the best split and “random” to choose the best random split.                                                                            |\n",
    "| max_depth                | None    | int                                                                                                                                                                   | Max # of levels in tree. Split nodes until max_depth is reached or all leaves are pure or all leaves contain less than min_samples_split samples.                                                                       |\n",
    "| max_features             | None    | None: max_features=n_features; int; float (fraction): int(max_features * n_features)  auto, sqrt: max_features=sqrt(n_features). log2: max_features=log2(n_features). | # of features to consider when evaluating split                                                                                                                                                                         |\n",
    "| max_leaf_nodes           | None    | None: unlimited # of leaf nodes int                                                                                                                                   | Continue to split nodes that reduce relative impurity the most until reaching max_leaf_nodes.                                                                                                                           |\n",
    "| min_impurity_decrease    | 0       | float                                                                                                                                                                 | Split node if impurity decreases by at least this value.                                                                                                                                                                |\n",
    "| min_samples_leaf         | 1       | int; float (as percentage of N)                                                                                                                                       | Minimum # of samples to be at a leaf node. A split will only be considered if there are at least min_samples_leaf training samples in each of the left and right branches. May smoothen the model, esp. for regression. |\n",
    "| min_samples_split        | 2       | int; float (as percentage of N)                                                                                                                                       | The minimum number of samples required to split an internal node:                                                                                                                                                       |\n",
    "| min_weight_fraction_leaf | 0       | NA                                                                                                                                                                    | The minimum weighted fraction of the sum total of weights (of all the input samples) required to be at a leaf node. Samples have equal weight when sample_weight is not provided (in fit method).                       |\n",
    "| presort                  | False   | NA                                                                                                                                                                    | Sort the data to speed up the search for best splits during training. Can slow down training on 'large' datasets but may speed up training on small data or with small max_depth setting.                               |\n",
    "| class_weight             | None    | balanced: inversely proportional to class frequencies dict: {class_label: weight} list of dicts (for multi-output)                                                    | Weights associated with classes                                                                                                                                                                                         |"
   ]
  },
  {
   "cell_type": "markdown",
   "metadata": {},
   "source": [
    "The `max_depth` parameter imposes a hard limit on the number of consecutive splits and represents the most straightforward way to cap the growth of a tree.\n",
    "\n",
    "The m`in_samples_split` and `min_samples_leaf` parameters are alternative, data-driven ways to limit the growth of a tree. Rather than imposing a hard limit on the number of consecutive splits, these parameters control the minimum number of samples required to further split the data. The latter guarantees a certain number of samples per leaf, while the former can create very small leaves if a split results in a very uneven distribution. Small parameter values facilitate overfitting, while a high number may prevent the tree from learning the signal in the data. \n",
    "\n",
    "The default values are often quite low, and you should use cross-validation to explore a range of potential values. You can also use a float to indicate a percentage as opposed to an absolute number. "
   ]
  },
  {
   "cell_type": "markdown",
   "metadata": {},
   "source": [
    "### Cross-validation parameters"
   ]
  },
  {
   "cell_type": "code",
   "execution_count": 61,
   "metadata": {
    "ExecuteTime": {
     "end_time": "2020-06-19T13:47:54.458378Z",
     "start_time": "2020-06-19T13:47:54.455997Z"
    }
   },
   "outputs": [],
   "source": [
    "n_splits = 10\n",
    "train_period_length = 60\n",
    "test_period_length = 6\n",
    "lookahead = 1\n",
    "\n",
    "cv = MultipleTimeSeriesCV(n_splits=n_splits,\n",
    "                          train_period_length=train_period_length,\n",
    "                          test_period_length=test_period_length,\n",
    "                          lookahead=lookahead)"
   ]
  },
  {
   "cell_type": "code",
   "execution_count": 62,
   "metadata": {
    "ExecuteTime": {
     "end_time": "2020-06-19T13:47:54.468071Z",
     "start_time": "2020-06-19T13:47:54.459662Z"
    }
   },
   "outputs": [],
   "source": [
    "max_depths = range(1, 16)"
   ]
  },
  {
   "cell_type": "markdown",
   "metadata": {},
   "source": [
    "### Finding the best trees using GridSearchCV"
   ]
  },
  {
   "cell_type": "markdown",
   "metadata": {},
   "source": [
    "scikit-learn provides a method to define ranges of values for multiple hyperparameters. It automates the process of cross-validating the various combinations of these parameter values to identify the optimal configuration. Let's walk through the process of automatically tuning your model."
   ]
  },
  {
   "cell_type": "markdown",
   "metadata": {},
   "source": [
    "#### Define parameter grid"
   ]
  },
  {
   "cell_type": "markdown",
   "metadata": {},
   "source": [
    "The first step is to define a dictionary where the keywords name the hyperparameters, and the values list the parameter settings to be tested:"
   ]
  },
  {
   "cell_type": "code",
   "execution_count": 63,
   "metadata": {
    "ExecuteTime": {
     "end_time": "2020-06-19T13:47:54.481095Z",
     "start_time": "2020-06-19T13:47:54.469701Z"
    }
   },
   "outputs": [],
   "source": [
    "param_grid = {'max_depth': [2, 3, 4, 5, 6, 7, 8, 10, 12, 15],\n",
    "              'min_samples_leaf': [5, 25, 50, 100],\n",
    "              'max_features': ['sqrt', 'auto']}"
   ]
  },
  {
   "cell_type": "markdown",
   "metadata": {},
   "source": [
    "#### Classification Tree"
   ]
  },
  {
   "cell_type": "markdown",
   "metadata": {},
   "source": [
    "Then, we instantiate a model object:"
   ]
  },
  {
   "cell_type": "code",
   "execution_count": 64,
   "metadata": {
    "ExecuteTime": {
     "end_time": "2020-06-19T13:47:54.489079Z",
     "start_time": "2020-06-19T13:47:54.482376Z"
    }
   },
   "outputs": [],
   "source": [
    "clf = DecisionTreeClassifier(random_state=42)"
   ]
  },
  {
   "cell_type": "markdown",
   "metadata": {},
   "source": [
    "Now we instantiate the GridSearchCV object, providing the estimator object and parameter grid, as well as a scoring method and cross-validation choice to the initialization method. We'll use an object of our custom OneStepTimeSeriesSplit class, initialized to use ten folds for the cv parameter, and set the scoring to the roc_auc metric. We can parallelize the search using the n_jobs parameter and automatically obtain a trained model that uses the optimal hyperparameters by setting `refit=True`."
   ]
  },
  {
   "cell_type": "code",
   "execution_count": 65,
   "metadata": {
    "ExecuteTime": {
     "end_time": "2020-06-19T13:47:54.497143Z",
     "start_time": "2020-06-19T13:47:54.490236Z"
    }
   },
   "outputs": [],
   "source": [
    "gridsearch_clf = GridSearchCV(estimator=clf,\n",
    "                          param_grid=param_grid,\n",
    "                          scoring='roc_auc',\n",
    "                          n_jobs=-1,\n",
    "                          cv=cv,\n",
    "                          refit=True,\n",
    "                          return_train_score=True)"
   ]
  },
  {
   "cell_type": "markdown",
   "metadata": {},
   "source": [
    "With all settings in place, we can fit GridSearchCV just like any other model:"
   ]
  },
  {
   "cell_type": "code",
   "execution_count": 66,
   "metadata": {
    "ExecuteTime": {
     "end_time": "2020-06-19T13:48:09.355265Z",
     "start_time": "2020-06-19T13:47:54.498338Z"
    }
   },
   "outputs": [
    {
     "data": {
      "text/plain": [
       "GridSearchCV(cv=<utils.MultipleTimeSeriesCV object at 0x7f29a82a6cd0>,\n",
       "             estimator=DecisionTreeClassifier(random_state=42), n_jobs=-1,\n",
       "             param_grid={'max_depth': [2, 3, 4, 5, 6, 7, 8, 10, 12, 15],\n",
       "                         'max_features': ['sqrt', 'auto'],\n",
       "                         'min_samples_leaf': [5, 25, 50, 100]},\n",
       "             return_train_score=True, scoring='roc_auc')"
      ]
     },
     "execution_count": 66,
     "metadata": {},
     "output_type": "execute_result"
    }
   ],
   "source": [
    "gridsearch_clf.fit(X=X, y=y_binary)"
   ]
  },
  {
   "cell_type": "markdown",
   "metadata": {},
   "source": [
    "The training process produces some new attributes for our GridSearchCV object, most importantly the information about the optimal settings and the best cross-validation score (now using the proper setup that avoids lookahead bias).\n",
    "\n",
    "Setting `max_depth` to 10, `min_samples_leaf` to 750, and randomly selecting only a number corresponding to the square root of the total number of features when deciding on a split, produces the best results, with an AUC of 0.532:"
   ]
  },
  {
   "cell_type": "code",
   "execution_count": 67,
   "metadata": {
    "ExecuteTime": {
     "end_time": "2020-06-19T13:48:09.364278Z",
     "start_time": "2020-06-19T13:48:09.360495Z"
    }
   },
   "outputs": [
    {
     "data": {
      "text/plain": [
       "{'max_depth': 12, 'max_features': 'sqrt', 'min_samples_leaf': 5}"
      ]
     },
     "execution_count": 67,
     "metadata": {},
     "output_type": "execute_result"
    }
   ],
   "source": [
    "gridsearch_clf.best_params_"
   ]
  },
  {
   "cell_type": "code",
   "execution_count": 68,
   "metadata": {
    "ExecuteTime": {
     "end_time": "2020-06-19T13:48:09.386219Z",
     "start_time": "2020-06-19T13:48:09.365809Z"
    }
   },
   "outputs": [
    {
     "data": {
      "text/plain": [
       "0.5268077435930824"
      ]
     },
     "execution_count": 68,
     "metadata": {},
     "output_type": "execute_result"
    }
   ],
   "source": [
    "gridsearch_clf.best_score_"
   ]
  },
  {
   "cell_type": "markdown",
   "metadata": {},
   "source": [
    "#### Define Custom IC score"
   ]
  },
  {
   "cell_type": "code",
   "execution_count": 69,
   "metadata": {
    "ExecuteTime": {
     "end_time": "2020-06-19T13:48:09.398755Z",
     "start_time": "2020-06-19T13:48:09.387476Z"
    }
   },
   "outputs": [],
   "source": [
    "def rank_correl(y, y_pred):\n",
    "    return spearmanr(y, y_pred)[0]\n",
    "ic = make_scorer(rank_correl)"
   ]
  },
  {
   "cell_type": "markdown",
   "metadata": {},
   "source": [
    "#### Regression Tree"
   ]
  },
  {
   "cell_type": "code",
   "execution_count": 70,
   "metadata": {
    "ExecuteTime": {
     "end_time": "2020-06-19T13:48:09.406313Z",
     "start_time": "2020-06-19T13:48:09.400130Z"
    }
   },
   "outputs": [],
   "source": [
    "reg_tree = DecisionTreeRegressor(random_state=42)"
   ]
  },
  {
   "cell_type": "code",
   "execution_count": 71,
   "metadata": {
    "ExecuteTime": {
     "end_time": "2020-06-19T13:48:09.419006Z",
     "start_time": "2020-06-19T13:48:09.407663Z"
    }
   },
   "outputs": [],
   "source": [
    "gridsearch_reg = GridSearchCV(estimator=reg_tree,\n",
    "                              param_grid=param_grid,\n",
    "                              scoring=ic,\n",
    "                              n_jobs=-1,\n",
    "                              cv=cv,\n",
    "                              refit=True,\n",
    "                              return_train_score=True)"
   ]
  },
  {
   "cell_type": "code",
   "execution_count": 72,
   "metadata": {
    "ExecuteTime": {
     "end_time": "2020-06-19T13:48:41.407893Z",
     "start_time": "2020-06-19T13:48:09.419897Z"
    }
   },
   "outputs": [
    {
     "data": {
      "text/plain": [
       "GridSearchCV(cv=<utils.MultipleTimeSeriesCV object at 0x7f29a82a6cd0>,\n",
       "             estimator=DecisionTreeRegressor(random_state=42), n_jobs=-1,\n",
       "             param_grid={'max_depth': [2, 3, 4, 5, 6, 7, 8, 10, 12, 15],\n",
       "                         'max_features': ['sqrt', 'auto'],\n",
       "                         'min_samples_leaf': [5, 25, 50, 100]},\n",
       "             return_train_score=True, scoring=make_scorer(rank_correl))"
      ]
     },
     "execution_count": 72,
     "metadata": {},
     "output_type": "execute_result"
    }
   ],
   "source": [
    "gridsearch_reg.fit(X=X, y=y)"
   ]
  },
  {
   "cell_type": "code",
   "execution_count": 73,
   "metadata": {
    "ExecuteTime": {
     "end_time": "2020-06-19T13:48:41.411159Z",
     "start_time": "2020-06-19T13:48:41.408822Z"
    }
   },
   "outputs": [
    {
     "data": {
      "text/plain": [
       "{'max_depth': 6, 'max_features': 'sqrt', 'min_samples_leaf': 50}"
      ]
     },
     "execution_count": 73,
     "metadata": {},
     "output_type": "execute_result"
    }
   ],
   "source": [
    "gridsearch_reg.best_params_"
   ]
  },
  {
   "cell_type": "code",
   "execution_count": 74,
   "metadata": {
    "ExecuteTime": {
     "end_time": "2020-06-19T13:48:41.426325Z",
     "start_time": "2020-06-19T13:48:41.411950Z"
    }
   },
   "outputs": [
    {
     "data": {
      "text/plain": [
       "0.08415538441512119"
      ]
     },
     "execution_count": 74,
     "metadata": {},
     "output_type": "execute_result"
    }
   ],
   "source": [
    "gridsearch_reg.best_score_"
   ]
  },
  {
   "cell_type": "code",
   "execution_count": 75,
   "metadata": {
    "ExecuteTime": {
     "end_time": "2020-06-19T13:48:41.438658Z",
     "start_time": "2020-06-19T13:48:41.427178Z"
    }
   },
   "outputs": [
    {
     "data": {
      "text/html": [
       "<div>\n",
       "<style scoped>\n",
       "    .dataframe tbody tr th:only-of-type {\n",
       "        vertical-align: middle;\n",
       "    }\n",
       "\n",
       "    .dataframe tbody tr th {\n",
       "        vertical-align: top;\n",
       "    }\n",
       "\n",
       "    .dataframe thead th {\n",
       "        text-align: right;\n",
       "    }\n",
       "</style>\n",
       "<table border=\"1\" class=\"dataframe\">\n",
       "  <thead>\n",
       "    <tr style=\"text-align: right;\">\n",
       "      <th></th>\n",
       "      <th>Regression</th>\n",
       "      <th>Classification</th>\n",
       "    </tr>\n",
       "  </thead>\n",
       "  <tbody>\n",
       "    <tr>\n",
       "      <th>max_depth</th>\n",
       "      <td>6</td>\n",
       "      <td>12</td>\n",
       "    </tr>\n",
       "    <tr>\n",
       "      <th>max_features</th>\n",
       "      <td>sqrt</td>\n",
       "      <td>sqrt</td>\n",
       "    </tr>\n",
       "    <tr>\n",
       "      <th>min_samples_leaf</th>\n",
       "      <td>50</td>\n",
       "      <td>5</td>\n",
       "    </tr>\n",
       "  </tbody>\n",
       "</table>\n",
       "</div>"
      ],
      "text/plain": [
       "                 Regression Classification\n",
       "max_depth                 6             12\n",
       "max_features           sqrt           sqrt\n",
       "min_samples_leaf         50              5"
      ]
     },
     "execution_count": 75,
     "metadata": {},
     "output_type": "execute_result"
    }
   ],
   "source": [
    "pd.DataFrame({'Regression': pd.Series(gridsearch_reg.best_params_),\n",
    "              'Classification': pd.Series(gridsearch_clf.best_params_)})"
   ]
  },
  {
   "cell_type": "markdown",
   "metadata": {},
   "source": [
    "### Classifier Cross-Validation"
   ]
  },
  {
   "cell_type": "markdown",
   "metadata": {},
   "source": [
    "Cross-validation is the most important tool to obtain an unbiased estimate of the generalization error, which in turn permits an informed choice among the various configuration options. sklearn offers several tools to facilitate the process of cross-validating numerous parameter settings, namely the GridSearchCV convenience class that we will illustrate in the next section. "
   ]
  },
  {
   "cell_type": "markdown",
   "metadata": {},
   "source": [
    "The following code illustrates how to run cross-validation more manually to obtain custom tree attributes, such as the total number of nodes or leaf nodes associated with certain hyperparameter settings. \n",
    "\n",
    "The following function accesses the internal `.tree_` attribute to retrieve information about the total node count, and how many of these nodes are leaf nodes:"
   ]
  },
  {
   "cell_type": "code",
   "execution_count": 76,
   "metadata": {
    "ExecuteTime": {
     "end_time": "2020-06-19T13:48:41.445100Z",
     "start_time": "2020-06-19T13:48:41.439520Z"
    }
   },
   "outputs": [],
   "source": [
    "def get_leaves_count(tree):\n",
    "    t = tree.tree_\n",
    "    n = t.node_count\n",
    "    leaves = len([i for i in range(t.node_count) if t.children_left[i]== -1])\n",
    "    return leaves"
   ]
  },
  {
   "cell_type": "markdown",
   "metadata": {},
   "source": [
    "We can combine this information with the train and test scores to gain detailed knowledge about the model behavior throughout the cross-validation process, as follows:"
   ]
  },
  {
   "cell_type": "code",
   "execution_count": 77,
   "metadata": {
    "ExecuteTime": {
     "end_time": "2020-06-19T13:48:52.492224Z",
     "start_time": "2020-06-19T13:48:41.446130Z"
    },
    "scrolled": true
   },
   "outputs": [
    {
     "name": "stdout",
     "output_type": "stream",
     "text": [
      "1 2 3 4 5 6 7 8 9 10 11 12 13 14 15 "
     ]
    }
   ],
   "source": [
    "train_scores, val_scores, leaves = {}, {}, {}\n",
    "for max_depth in max_depths:\n",
    "    print(max_depth, end=' ', flush=True)\n",
    "    clf = DecisionTreeClassifier(criterion='gini', \n",
    "                                 max_depth=max_depth,\n",
    "                                 min_samples_leaf=5,\n",
    "                                 max_features='sqrt',\n",
    "                                 random_state=42)\n",
    "    train_scores[max_depth], val_scores[max_depth], leaves[max_depth] = [], [], []\n",
    "    for train_idx, test_idx in cv.split(X):\n",
    "        X_train, y_train,  = X.iloc[train_idx], y_binary.iloc[train_idx]\n",
    "        X_test, y_test = X.iloc[test_idx], y_binary.iloc[test_idx]\n",
    "        clf.fit(X=X_train, y=y_train)\n",
    "\n",
    "        train_pred = clf.predict_proba(X=X_train)[:, 1]\n",
    "        train_score = roc_auc_score(y_score=train_pred, y_true=y_train)\n",
    "        train_scores[max_depth].append(train_score)\n",
    "\n",
    "        test_pred = clf.predict_proba(X=X_test)[:, 1]\n",
    "        val_score = roc_auc_score(y_score=test_pred, y_true=y_test)\n",
    "        val_scores[max_depth].append(val_score)    \n",
    "        leaves[max_depth].append(get_leaves_count(clf))\n",
    "        \n",
    "clf_train_scores = pd.DataFrame(train_scores)\n",
    "clf_valid_scores = pd.DataFrame(val_scores)\n",
    "clf_leaves = pd.DataFrame(leaves)"
   ]
  },
  {
   "cell_type": "code",
   "execution_count": 78,
   "metadata": {
    "ExecuteTime": {
     "end_time": "2020-06-19T13:48:52.499652Z",
     "start_time": "2020-06-19T13:48:52.493113Z"
    }
   },
   "outputs": [],
   "source": [
    "clf_cv_data = pd.concat([pd.melt(clf_train_scores,\n",
    "                                 var_name='Max. Depth',\n",
    "                                 value_name='ROC AUC').assign(Data='Train'),\n",
    "                         pd.melt(clf_valid_scores,\n",
    "                                 var_name='Max. Depth',\n",
    "                                 value_name='ROC AUC').assign(Data='Valid')])"
   ]
  },
  {
   "cell_type": "markdown",
   "metadata": {},
   "source": [
    "### Regression tree cross-validation"
   ]
  },
  {
   "cell_type": "markdown",
   "metadata": {},
   "source": [
    "#### Run cross-validation"
   ]
  },
  {
   "cell_type": "code",
   "execution_count": 79,
   "metadata": {
    "ExecuteTime": {
     "end_time": "2020-06-19T13:49:02.463065Z",
     "start_time": "2020-06-19T13:48:52.500615Z"
    }
   },
   "outputs": [
    {
     "name": "stdout",
     "output_type": "stream",
     "text": [
      "1 2 3 4 5 6 7 8 9 10 11 12 13 14 15 "
     ]
    }
   ],
   "source": [
    "train_scores, val_scores, leaves = {}, {}, {}\n",
    "for max_depth in max_depths:\n",
    "    print(max_depth, end=' ', flush=True)\n",
    "    reg_tree = DecisionTreeRegressor(max_depth=max_depth,\n",
    "                                     min_samples_leaf=50,\n",
    "                                     max_features= 'sqrt',\n",
    "                                     random_state=42)\n",
    "    train_scores[max_depth], val_scores[max_depth], leaves[max_depth] = [], [], []\n",
    "    for train_idx, test_idx in cv.split(X):\n",
    "        X_train, y_train,  = X.iloc[train_idx], y.iloc[train_idx]\n",
    "        X_test, y_test = X.iloc[test_idx], y.iloc[test_idx]\n",
    "        reg_tree.fit(X=X_train, y=y_train)\n",
    "\n",
    "        train_pred = reg_tree.predict(X=X_train)\n",
    "        train_score = spearmanr(train_pred, y_train)[0]\n",
    "        train_scores[max_depth].append(train_score)\n",
    "\n",
    "        test_pred = reg_tree.predict(X=X_test)\n",
    "        val_score = spearmanr(test_pred, y_test)[0]\n",
    "        val_scores[max_depth].append(val_score)\n",
    "        leaves[max_depth].append(get_leaves_count(reg_tree))\n",
    "\n",
    "reg_train_scores = pd.DataFrame(train_scores)\n",
    "reg_valid_scores = pd.DataFrame(val_scores)\n",
    "reg_leaves = pd.DataFrame(leaves)"
   ]
  },
  {
   "cell_type": "code",
   "execution_count": 80,
   "metadata": {
    "ExecuteTime": {
     "end_time": "2020-06-19T13:49:02.474505Z",
     "start_time": "2020-06-19T13:49:02.463985Z"
    }
   },
   "outputs": [],
   "source": [
    "reg_cv_data = (pd.melt(reg_train_scores, var_name='Max. Depth',\n",
    "                         value_name='IC').assign(Data='Train').append(\n",
    "    pd.melt(reg_valid_scores,\n",
    "            var_name='Max. Depth',\n",
    "            value_name='IC').assign(Data='Valid')))"
   ]
  },
  {
   "cell_type": "markdown",
   "metadata": {},
   "source": [
    "### Compare CV Results"
   ]
  },
  {
   "cell_type": "code",
   "execution_count": 81,
   "metadata": {
    "ExecuteTime": {
     "end_time": "2020-06-19T13:49:03.716611Z",
     "start_time": "2020-06-19T13:49:02.475976Z"
    },
    "scrolled": true
   },
   "outputs": [
    {
     "data": {
      "image/png": "[encoded data removed]",
      "text/plain": [
       "<Figure size 1008x360 with 2 Axes>"
      ]
     },
     "metadata": {},
     "output_type": "display_data"
    }
   ],
   "source": [
    "fig, axes = plt.subplots(ncols=2, figsize=(14, 5))\n",
    "\n",
    "sns.lineplot(data=reg_cv_data,\n",
    "             x='Max. Depth', y='IC',\n",
    "             hue='Data', ci=95,\n",
    "             ax=axes[0], lw=2)\n",
    "\n",
    "axes[0].set_title('Regression Tree')\n",
    "axes[0].axvline(x=reg_valid_scores.mean().idxmax(), ls='--', c='k', lw=1)\n",
    "axes[0].axhline(y=0, ls='--', c='k', lw=1)\n",
    "\n",
    "sns.lineplot(data=clf_cv_data,\n",
    "             x='Max. Depth', y='ROC AUC',\n",
    "             hue='Data', ci=95,\n",
    "             ax=axes[1], lw=2)\n",
    "\n",
    "axes[1].set_title('Classification Tree')\n",
    "axes[1].axvline(x=clf_valid_scores.mean().idxmax(), ls='--', c='k', lw=1)\n",
    "axes[1].axhline(y=.5, ls='--', c='k', lw=1)\n",
    "for ax in axes:\n",
    "    ax.set_xlim(min(param_grid['max_depth']),\n",
    "                max(param_grid['max_depth']))\n",
    "\n",
    "fig.suptitle(f'Train-Validation Scores', fontsize=14)\n",
    "sns.despine()\n",
    "fig.tight_layout()\n",
    "fig.subplots_adjust(top=.91)"
   ]
  },
  {
   "cell_type": "markdown",
   "metadata": {},
   "source": [
    "### Learning Curves for best models"
   ]
  },
  {
   "cell_type": "markdown",
   "metadata": {},
   "source": [
    "A learning curve is a useful tool that displays how the validation and training score evolve as the number of training samples evolves.\n",
    "\n",
    "The purpose of the learning curve is to find out whether and how much the model would benefit from using more data during training. It is also useful to diagnose whether the model's generalization error is more likely driven by bias or variance.\n",
    "\n",
    "If, for example, both the validation score and the training score converge to a similarly low value despite an increasing training set size, the error is more likely due to bias, and additional training data is unlikely to help."
   ]
  },
  {
   "cell_type": "markdown",
   "metadata": {},
   "source": [
    "#### Classifier"
   ]
  },
  {
   "cell_type": "code",
   "execution_count": 82,
   "metadata": {
    "ExecuteTime": {
     "end_time": "2020-06-19T13:49:03.719985Z",
     "start_time": "2020-06-19T13:49:03.717763Z"
    }
   },
   "outputs": [],
   "source": [
    "sizes = np.arange(.1, 1.01, .1)"
   ]
  },
  {
   "cell_type": "code",
   "execution_count": 83,
   "metadata": {
    "ExecuteTime": {
     "end_time": "2020-06-19T13:49:05.481870Z",
     "start_time": "2020-06-19T13:49:03.720912Z"
    }
   },
   "outputs": [],
   "source": [
    "train_sizes, train_scores, valid_scores = learning_curve(gridsearch_clf.best_estimator_,\n",
    "                                                         X,\n",
    "                                                         y_binary,\n",
    "                                                         train_sizes=sizes,\n",
    "                                                         cv=cv,\n",
    "                                                         scoring='roc_auc',\n",
    "                                                         n_jobs=-1,\n",
    "                                                         shuffle=True,\n",
    "                                                         random_state=42)"
   ]
  },
  {
   "cell_type": "code",
   "execution_count": 84,
   "metadata": {
    "ExecuteTime": {
     "end_time": "2020-06-19T13:49:05.492547Z",
     "start_time": "2020-06-19T13:49:05.482789Z"
    }
   },
   "outputs": [
    {
     "name": "stdout",
     "output_type": "stream",
     "text": [
      "<class 'pandas.core.frame.DataFrame'>\n",
      "Int64Index: 200 entries, 0 to 99\n",
      "Data columns (total 3 columns):\n",
      " #   Column      Non-Null Count  Dtype  \n",
      "---  ------      --------------  -----  \n",
      " 0   Train Size  200 non-null    int64  \n",
      " 1   ROC AUC     200 non-null    float64\n",
      " 2   Data        200 non-null    object \n",
      "dtypes: float64(1), int64(1), object(1)\n",
      "memory usage: 6.2+ KB\n"
     ]
    }
   ],
   "source": [
    "clf_lc_data = pd.concat([\n",
    "    pd.melt(pd.DataFrame(train_scores.T, columns=train_sizes),\n",
    "            var_name='Train Size',\n",
    "            value_name='ROC AUC').assign(Data='Train'),\n",
    "    pd.melt(pd.DataFrame(valid_scores.T, columns=train_sizes),\n",
    "            var_name='Train Size',\n",
    "            value_name='ROC AUC').assign(Data='Valid')])\n",
    "clf_lc_data.info()"
   ]
  },
  {
   "cell_type": "markdown",
   "metadata": {},
   "source": [
    "#### Regression Tree"
   ]
  },
  {
   "cell_type": "code",
   "execution_count": 85,
   "metadata": {
    "ExecuteTime": {
     "end_time": "2020-06-19T13:49:06.725933Z",
     "start_time": "2020-06-19T13:49:05.493737Z"
    }
   },
   "outputs": [],
   "source": [
    "train_sizes, train_scores, valid_scores = learning_curve(gridsearch_reg.best_estimator_,\n",
    "                                                         X, y,\n",
    "                                                         train_sizes=sizes,\n",
    "                                                         cv=cv,\n",
    "                                                         scoring=ic,\n",
    "                                                         n_jobs=-1,\n",
    "                                                         shuffle=True,\n",
    "                                                         random_state=42)"
   ]
  },
  {
   "cell_type": "code",
   "execution_count": 86,
   "metadata": {
    "ExecuteTime": {
     "end_time": "2020-06-19T13:49:06.737139Z",
     "start_time": "2020-06-19T13:49:06.727092Z"
    }
   },
   "outputs": [
    {
     "name": "stdout",
     "output_type": "stream",
     "text": [
      "<class 'pandas.core.frame.DataFrame'>\n",
      "Int64Index: 200 entries, 0 to 99\n",
      "Data columns (total 3 columns):\n",
      " #   Column      Non-Null Count  Dtype  \n",
      "---  ------      --------------  -----  \n",
      " 0   Train Size  200 non-null    int64  \n",
      " 1   IC          200 non-null    float64\n",
      " 2   Data        200 non-null    object \n",
      "dtypes: float64(1), int64(1), object(1)\n",
      "memory usage: 6.2+ KB\n"
     ]
    }
   ],
   "source": [
    "reg_lc_data = pd.concat([\n",
    "    pd.melt(pd.DataFrame(train_scores.T,\n",
    "                         columns=train_sizes),\n",
    "            var_name='Train Size',\n",
    "            value_name='IC').assign(Data='Train'),\n",
    "    pd.melt(pd.DataFrame(valid_scores.T,\n",
    "                         columns=train_sizes),\n",
    "            var_name='Train Size',\n",
    "            value_name='IC').assign(Data='Valid')])\n",
    "reg_lc_data.info()"
   ]
  },
  {
   "cell_type": "markdown",
   "metadata": {},
   "source": [
    "#### Compare Learning Curves"
   ]
  },
  {
   "cell_type": "code",
   "execution_count": 87,
   "metadata": {
    "ExecuteTime": {
     "end_time": "2020-06-19T13:49:07.687409Z",
     "start_time": "2020-06-19T13:49:06.738241Z"
    }
   },
   "outputs": [
    {
     "data": {
      "image/png": "[encoded data removed]",
      "text/plain": [
       "<Figure size 1008x360 with 2 Axes>"
      ]
     },
     "metadata": {},
     "output_type": "display_data"
    }
   ],
   "source": [
    "fig, axes = plt.subplots(ncols=2, figsize=(14, 5))\n",
    "xmin, xmax = reg_lc_data['Train Size'].min(), reg_lc_data['Train Size'].max()\n",
    "\n",
    "sns.lineplot(data=reg_lc_data,\n",
    "             x='Train Size', y='IC',\n",
    "             hue='Data', ci=95,  ax=axes[0], lw=2)\n",
    "axes[0].set_title('Best Regression Tree')\n",
    "axes[0].set_ylabel('IC')\n",
    "\n",
    "axes[0].xaxis.set_major_formatter(\n",
    "    FuncFormatter(lambda x, _: '{:,.0f}'.format(x)))\n",
    "\n",
    "sns.lineplot(data=clf_lc_data,\n",
    "             x='Train Size',\n",
    "             y='ROC AUC',\n",
    "             hue='Data',\n",
    "             ci=95,\n",
    "             ax=axes[1],\n",
    "             lw=2)\n",
    "axes[1].set_title('Best Classification Tree')\n",
    "axes[1].set_ylabel('ROC AUC')\n",
    "axes[1].xaxis.set_major_formatter(\n",
    "    FuncFormatter(lambda x, _: '{:,.0f}'.format(x)))\n",
    "\n",
    "for i in [0, 1]:\n",
    "    axes[i].tick_params(axis='both', which='major', labelsize=10)\n",
    "    axes[i].tick_params(axis='both', which='minor', labelsize=8)\n",
    "    axes[i].set_xlim(xmin, xmax)\n",
    "\n",
    "fig.suptitle('Learning Curves', fontsize=14)\n",
    "sns.despine()\n",
    "fig.tight_layout()\n",
    "fig.subplots_adjust(top=.9)"
   ]
  },
  {
   "cell_type": "markdown",
   "metadata": {},
   "source": [
    "### Feature Importance"
   ]
  },
  {
   "cell_type": "markdown",
   "metadata": {},
   "source": [
    "Decision trees can not only be visualized to inspect the decision path for a given feature, but also provide a summary measure of the contribution of each feature to the model fit to the training data. \n",
    "\n",
    "The feature importance captures how much the splits produced by the feature helped to optimize the model's metric used to evaluate the split quality, which in our case is the Gini Impurity index. \n",
    "\n",
    "A feature's importance is computed as the (normalized) total reduction of this metric and takes into account the number of samples affected by a split. Hence, features used earlier in the tree where the nodes tend to contain more samples typically are considered of higher importance."
   ]
  },
  {
   "cell_type": "code",
   "execution_count": 88,
   "metadata": {
    "ExecuteTime": {
     "end_time": "2020-06-19T13:49:07.692911Z",
     "start_time": "2020-06-19T13:49:07.688456Z"
    }
   },
   "outputs": [],
   "source": [
    "top_n = 15\n",
    "labels = X.columns.str.replace('_', ' ').str.upper()\n",
    "fi_clf = (pd.Series(gridsearch_clf.best_estimator_.feature_importances_, \n",
    "                    index=labels).sort_values(ascending=False).iloc[:top_n])\n",
    "fi_reg = (pd.Series(gridsearch_reg.best_estimator_.feature_importances_, \n",
    "                    index=labels).sort_values(ascending=False).iloc[:top_n])"
   ]
  },
  {
   "cell_type": "code",
   "execution_count": 89,
   "metadata": {
    "ExecuteTime": {
     "end_time": "2020-06-19T13:49:08.104787Z",
     "start_time": "2020-06-19T13:49:07.693889Z"
    }
   },
   "outputs": [
    {
     "data": {
      "image/png": "[encoded data removed]",
      "text/plain": [
       "<Figure size 864x288 with 2 Axes>"
      ]
     },
     "metadata": {},
     "output_type": "display_data"
    }
   ],
   "source": [
    "fig, axes= plt.subplots(ncols=2, figsize=(12,4), sharex=True)\n",
    "color = cm.Blues(np.linspace(.4,.9, top_n))\n",
    "fi_clf.sort_values().plot.barh(ax=axes[1], title='Classification Tree', color=color)\n",
    "fi_reg.sort_values().plot.barh(ax=axes[0], title='Regression Tree', color=color)\n",
    "axes[0].set_xlabel('Feature Importance')\n",
    "axes[1].set_xlabel('Feature Importance')\n",
    "fig.suptitle(f'Top {top_n} Features', fontsize=14)\n",
    "sns.despine()\n",
    "fig.tight_layout()\n",
    "fig.subplots_adjust(top=.9);"
   ]
  }
 ],
 "metadata": {
  "kernelspec": {
   "display_name": "Python 3",
   "language": "python",
   "name": "python3"
  },
  "language_info": {
   "codemirror_mode": {
    "name": "ipython",
    "version": 3
   },
   "file_extension": ".py",
   "mimetype": "text/x-python",
   "name": "python",
   "nbconvert_exporter": "python",
   "pygments_lexer": "ipython3",
   "version": "3.7.7"
  },
  "toc": {
   "base_numbering": 1,
   "nav_menu": {},
   "number_sections": true,
   "sideBar": true,
   "skip_h1_title": true,
   "title_cell": "Table of Contents",
   "title_sidebar": "Contents",
   "toc_cell": false,
   "toc_position": {
    "height": "calc(100% - 180px)",
    "left": "10px",
    "top": "150px",
    "width": "343.837px"
   },
   "toc_section_display": true,
   "toc_window_display": true
  }
 },
 "nbformat": 4,
 "nbformat_minor": 2
}
