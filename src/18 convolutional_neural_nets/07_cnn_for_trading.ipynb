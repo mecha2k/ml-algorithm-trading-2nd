{
 "cells": [
  {
   "cell_type": "markdown",
   "metadata": {},
   "source": [
    "# CNN for Trading"
   ]
  },
  {
   "cell_type": "markdown",
   "metadata": {},
   "source": [
    "Fast-forward to 2012, and we move on to the deeper and more modern AlexNet architecture. We will use the CIFAR10 dataset that uses 60,000 ImageNet samples, compressed to 32x32 pixel resolution (from the original 224x224), but still with three color channels. There are only 10 of the original 1,000 classes. See the notebook cifar10_image_classification for implementation details; we will skip here over some repetitive steps. "
   ]
  },
  {
   "cell_type": "markdown",
   "metadata": {},
   "source": [
    "## Imports"
   ]
  },
  {
   "cell_type": "code",
   "execution_count": 1,
   "metadata": {
    "ExecuteTime": {
     "end_time": "2020-06-21T21:56:11.384791Z",
     "start_time": "2020-06-21T21:56:11.382806Z"
    }
   },
   "outputs": [],
   "source": [
    "import warnings\n",
    "warnings.filterwarnings('ignore')"
   ]
  },
  {
   "cell_type": "code",
   "execution_count": 2,
   "metadata": {
    "ExecuteTime": {
     "end_time": "2020-06-21T21:56:12.898543Z",
     "start_time": "2020-06-21T21:56:11.386738Z"
    }
   },
   "outputs": [],
   "source": [
    "%matplotlib inline\n",
    "\n",
    "from time import time\n",
    "from pathlib import Path\n",
    "import sys, os\n",
    "\n",
    "import numpy as np\n",
    "import pandas as pd\n",
    "\n",
    "from sklearn.preprocessing import MinMaxScaler\n",
    "from scipy.stats import spearmanr\n",
    "\n",
    "import tensorflow as tf\n",
    "from tensorflow.keras.models import Sequential\n",
    "from tensorflow.keras.layers import Dense, Dropout, Flatten, Conv2D, MaxPooling2D\n",
    "\n",
    "import matplotlib.pyplot as plt\n",
    "import seaborn as sns"
   ]
  },
  {
   "cell_type": "code",
   "execution_count": 3,
   "metadata": {
    "ExecuteTime": {
     "end_time": "2020-06-21T21:56:12.923140Z",
     "start_time": "2020-06-21T21:56:12.899690Z"
    }
   },
   "outputs": [
    {
     "name": "stdout",
     "output_type": "stream",
     "text": [
      "Using GPU\n"
     ]
    }
   ],
   "source": [
    "gpu_devices = tf.config.experimental.list_physical_devices('GPU')\n",
    "if gpu_devices:\n",
    "    print('Using GPU')\n",
    "    tf.config.experimental.set_memory_growth(gpu_devices[0], True)\n",
    "else:\n",
    "    print('Using CPU')"
   ]
  },
  {
   "cell_type": "code",
   "execution_count": 4,
   "metadata": {
    "ExecuteTime": {
     "end_time": "2020-06-21T21:56:12.935522Z",
     "start_time": "2020-06-21T21:56:12.923971Z"
    }
   },
   "outputs": [],
   "source": [
    "sys.path.insert(1, os.path.join(sys.path[0], '..'))\n",
    "from utils import MultipleTimeSeriesCV, format_time"
   ]
  },
  {
   "cell_type": "code",
   "execution_count": 5,
   "metadata": {
    "ExecuteTime": {
     "end_time": "2020-06-21T21:56:12.944023Z",
     "start_time": "2020-06-21T21:56:12.936467Z"
    }
   },
   "outputs": [],
   "source": [
    "sns.set_style('whitegrid')\n",
    "np.random.seed(42)"
   ]
  },
  {
   "cell_type": "code",
   "execution_count": 6,
   "metadata": {
    "ExecuteTime": {
     "end_time": "2020-06-21T21:56:12.952404Z",
     "start_time": "2020-06-21T21:56:12.945117Z"
    }
   },
   "outputs": [],
   "source": [
    "size = 15\n",
    "lookahead = 1"
   ]
  },
  {
   "cell_type": "code",
   "execution_count": 7,
   "metadata": {
    "ExecuteTime": {
     "end_time": "2020-06-21T21:56:12.960719Z",
     "start_time": "2020-06-21T21:56:12.954930Z"
    }
   },
   "outputs": [],
   "source": [
    "results_path = Path('results', 'cnn_for_trading')\n",
    "if not results_path.exists():\n",
    "    results_path.mkdir(parents=True)"
   ]
  },
  {
   "cell_type": "markdown",
   "metadata": {},
   "source": [
    "## Load Model Data"
   ]
  },
  {
   "cell_type": "code",
   "execution_count": 8,
   "metadata": {
    "ExecuteTime": {
     "end_time": "2020-06-21T21:56:17.188921Z",
     "start_time": "2020-06-21T21:56:12.962174Z"
    }
   },
   "outputs": [],
   "source": [
    "with pd.HDFStore('data.h5') as store:\n",
    "    features = store['img_data']\n",
    "    targets = store['targets']"
   ]
  },
  {
   "cell_type": "code",
   "execution_count": 9,
   "metadata": {
    "ExecuteTime": {
     "end_time": "2020-06-21T21:56:17.237508Z",
     "start_time": "2020-06-21T21:56:17.189932Z"
    }
   },
   "outputs": [
    {
     "name": "stdout",
     "output_type": "stream",
     "text": [
      "<class 'pandas.core.frame.DataFrame'>\n",
      "MultiIndex: 2378283 entries, ('A', Timestamp('2001-01-02 00:00:00')) to ('ZTS', Timestamp('2017-12-28 00:00:00'))\n",
      "Columns: 225 entries, 01_CMO to 11_WMA\n",
      "dtypes: float32(225)\n",
      "memory usage: 2.0+ GB\n"
     ]
    }
   ],
   "source": [
    "features.info()"
   ]
  },
  {
   "cell_type": "code",
   "execution_count": 10,
   "metadata": {
    "ExecuteTime": {
     "end_time": "2020-06-21T21:56:17.276586Z",
     "start_time": "2020-06-21T21:56:17.238550Z"
    }
   },
   "outputs": [
    {
     "name": "stdout",
     "output_type": "stream",
     "text": [
      "<class 'pandas.core.frame.DataFrame'>\n",
      "MultiIndex: 2378283 entries, ('A', Timestamp('2001-01-02 00:00:00')) to ('ZTS', Timestamp('2017-12-28 00:00:00'))\n",
      "Data columns (total 4 columns):\n",
      " #   Column      Dtype  \n",
      "---  ------      -----  \n",
      " 0   r01_fwd     float64\n",
      " 1   r01dec_fwd  float64\n",
      " 2   r05_fwd     float64\n",
      " 3   r05dec_fwd  float64\n",
      "dtypes: float64(4)\n",
      "memory usage: 81.9+ MB\n"
     ]
    }
   ],
   "source": [
    "targets.info()"
   ]
  },
  {
   "cell_type": "code",
   "execution_count": 11,
   "metadata": {
    "ExecuteTime": {
     "end_time": "2020-06-21T21:56:19.977591Z",
     "start_time": "2020-06-21T21:56:17.277603Z"
    }
   },
   "outputs": [],
   "source": [
    "outcome = f'r{lookahead:02}_fwd'\n",
    "features = features.join(targets[[outcome]]).dropna()\n",
    "target = features[outcome]\n",
    "features = features.drop(outcome, axis=1)"
   ]
  },
  {
   "cell_type": "markdown",
   "metadata": {},
   "source": [
    "## Convolutional Neural Network"
   ]
  },
  {
   "cell_type": "markdown",
   "metadata": {},
   "source": [
    "### Model Architecture"
   ]
  },
  {
   "cell_type": "code",
   "execution_count": 12,
   "metadata": {
    "ExecuteTime": {
     "end_time": "2020-06-21T21:56:19.984084Z",
     "start_time": "2020-06-21T21:56:19.978519Z"
    }
   },
   "outputs": [],
   "source": [
    "def make_model(filter1=16, act1='relu', filter2=32, act2='relu', do1=.25, do2=.5, dense=32):\n",
    "    input_shape = (size, size, 1)\n",
    "    cnn = Sequential([\n",
    "        Conv2D(filters=filter1,\n",
    "               kernel_size=3,\n",
    "               padding='same',\n",
    "               activation=act1,\n",
    "               input_shape=input_shape,\n",
    "               name='CONV1'),\n",
    "        Conv2D(filters=filter2,        \n",
    "               kernel_size=3,  \n",
    "               padding='same',\n",
    "               activation=act2,\n",
    "               name='CONV2'),\n",
    "        MaxPooling2D(pool_size=2, name='POOL2'),\n",
    "        Dropout(do1, name='DROP1'),\n",
    "        Flatten(name='FLAT1'),\n",
    "        Dense(dense, activation='relu', name='FC1'),\n",
    "        Dropout(do2, name='DROP2'),\n",
    "        Dense(1, activation='linear', name='FC2')\n",
    "    ])\n",
    "    cnn.compile(loss='mse',\n",
    "                optimizer=tf.keras.optimizers.SGD(learning_rate=0.01, \n",
    "                                                  momentum=0.9, \n",
    "                                                  nesterov=False, \n",
    "                                                  name='SGD'),\n",
    "                metrics=[tf.keras.metrics.RootMeanSquaredError(name='rmse')])\n",
    "    return cnn"
   ]
  },
  {
   "cell_type": "code",
   "execution_count": 13,
   "metadata": {
    "ExecuteTime": {
     "end_time": "2020-06-21T21:56:20.975582Z",
     "start_time": "2020-06-21T21:56:19.985417Z"
    }
   },
   "outputs": [
    {
     "name": "stdout",
     "output_type": "stream",
     "text": [
      "Model: \"sequential\"\n",
      "_________________________________________________________________\n",
      "Layer (type)                 Output Shape              Param #   \n",
      "=================================================================\n",
      "CONV1 (Conv2D)               (None, 15, 15, 16)        160       \n",
      "_________________________________________________________________\n",
      "CONV2 (Conv2D)               (None, 15, 15, 32)        4640      \n",
      "_________________________________________________________________\n",
      "POOL2 (MaxPooling2D)         (None, 7, 7, 32)          0         \n",
      "_________________________________________________________________\n",
      "DROP1 (Dropout)              (None, 7, 7, 32)          0         \n",
      "_________________________________________________________________\n",
      "FLAT1 (Flatten)              (None, 1568)              0         \n",
      "_________________________________________________________________\n",
      "FC1 (Dense)                  (None, 32)                50208     \n",
      "_________________________________________________________________\n",
      "DROP2 (Dropout)              (None, 32)                0         \n",
      "_________________________________________________________________\n",
      "FC2 (Dense)                  (None, 1)                 33        \n",
      "=================================================================\n",
      "Total params: 55,041\n",
      "Trainable params: 55,041\n",
      "Non-trainable params: 0\n",
      "_________________________________________________________________\n"
     ]
    }
   ],
   "source": [
    "cnn = make_model()\n",
    "cnn.summary()"
   ]
  },
  {
   "cell_type": "markdown",
   "metadata": {},
   "source": [
    "### Train the Model"
   ]
  },
  {
   "cell_type": "code",
   "execution_count": 14,
   "metadata": {
    "ExecuteTime": {
     "end_time": "2020-06-21T21:56:20.978637Z",
     "start_time": "2020-06-21T21:56:20.976703Z"
    }
   },
   "outputs": [],
   "source": [
    "train_period_length = 5 * 12 * 21\n",
    "test_period_length = 5 * 21\n",
    "n_splits = 16"
   ]
  },
  {
   "cell_type": "code",
   "execution_count": 15,
   "metadata": {
    "ExecuteTime": {
     "end_time": "2020-06-21T21:56:20.989278Z",
     "start_time": "2020-06-21T21:56:20.979694Z"
    }
   },
   "outputs": [],
   "source": [
    "cv = MultipleTimeSeriesCV(n_splits=n_splits,\n",
    "                          train_period_length=train_period_length,\n",
    "                          test_period_length=test_period_length,\n",
    "                          lookahead=lookahead)"
   ]
  },
  {
   "cell_type": "code",
   "execution_count": 16,
   "metadata": {
    "ExecuteTime": {
     "end_time": "2020-06-21T21:56:20.998775Z",
     "start_time": "2020-06-21T21:56:20.990710Z"
    }
   },
   "outputs": [],
   "source": [
    "def get_train_valid_data(X, y, train_idx, test_idx):\n",
    "    x_train, y_train = X.iloc[train_idx, :], y.iloc[train_idx]\n",
    "    x_val, y_val = X.iloc[test_idx, :], y.iloc[test_idx]\n",
    "    scaler = MinMaxScaler(feature_range=(-1, 1))\n",
    "    x_train = scaler.fit_transform(x_train)\n",
    "    x_val = scaler.transform(x_val)\n",
    "    return (x_train.reshape(-1, size, size, 1), y_train,\n",
    "            x_val.reshape(-1, size, size, 1), y_val)"
   ]
  },
  {
   "cell_type": "code",
   "execution_count": 17,
   "metadata": {
    "ExecuteTime": {
     "end_time": "2020-06-21T21:56:21.009730Z",
     "start_time": "2020-06-21T21:56:20.999983Z"
    }
   },
   "outputs": [],
   "source": [
    "batch_size = 64"
   ]
  },
  {
   "cell_type": "code",
   "execution_count": 18,
   "metadata": {
    "ExecuteTime": {
     "end_time": "2020-06-21T21:56:21.019183Z",
     "start_time": "2020-06-21T21:56:21.010627Z"
    }
   },
   "outputs": [],
   "source": [
    "checkpoint_path = results_path / f'lookahead_{lookahead:02d}'\n",
    "if not checkpoint_path.exists():\n",
    "    checkpoint_path.mkdir(parents=True, exist_ok=True)"
   ]
  },
  {
   "cell_type": "code",
   "execution_count": 19,
   "metadata": {
    "ExecuteTime": {
     "end_time": "2020-06-22T00:10:02.313870Z",
     "start_time": "2020-06-21T21:56:21.020417Z"
    }
   },
   "outputs": [
    {
     "name": "stdout",
     "output_type": "stream",
     "text": [
      "00:00:31 01 | 01 |  0.0086 |  0.0232\n",
      "00:00:56 01 | 02 | -0.0117 | -0.0006\n",
      "00:01:25 01 | 03 |  0.0133 |  0.0006\n",
      "00:01:53 01 | 04 | -0.0072 | -0.0043\n",
      "00:02:22 01 | 05 |  0.0136 |  0.0082\n",
      "00:02:50 01 | 06 | -0.0026 | -0.0197\n",
      "00:03:17 01 | 07 |  0.0020 |  0.0095\n",
      "00:03:45 01 | 08 | -0.0108 | -0.0095\n",
      "00:04:13 01 | 09 | -0.0103 | -0.0076\n",
      "00:04:42 01 | 10 | -0.0125 | -0.0047\n",
      "00:05:10 01 | 11 |  0.0136 | -0.0003\n",
      "00:05:38 01 | 12 |  0.0137 |  0.0014\n",
      "00:06:06 01 | 13 | -0.0053 | -0.0195\n",
      "00:06:34 01 | 14 |  0.0095 |  0.0111\n",
      "00:07:03 01 | 15 | -0.0111 | -0.0102\n",
      "00:07:32 01 | 16 | -0.0058 | -0.0297\n",
      "00:08:00 01 | 17 | -0.0132 | -0.0062\n",
      "00:08:29 01 | 18 |  0.0038 |  0.0234\n",
      "00:08:57 01 | 19 | -0.0055 | -0.0238\n",
      "00:09:26 01 | 20 |  0.0129 |  0.0066\n",
      "00:09:54 01 | 21 |  0.0050 |  0.0226\n",
      "00:10:23 01 | 22 | -0.0023 | -0.0127\n",
      "00:10:52 01 | 23 | -0.0133 | -0.0099\n",
      "00:11:21 01 | 24 | -0.0121 | -0.0095\n",
      "00:11:50 01 | 25 | -0.0106 | -0.0152\n",
      "00:12:21 02 | 01 | -0.0057 | -0.0116\n",
      "00:12:47 02 | 02 | -0.0059 | -0.0083\n",
      "00:13:16 02 | 03 | -0.0027 | -0.0017\n",
      "00:13:44 02 | 04 | -0.0053 | -0.0013\n",
      "00:14:13 02 | 05 | -0.0019 |  0.0040\n",
      "00:14:40 02 | 06 | -0.0068 | -0.0162\n",
      "00:15:08 02 | 07 | -0.0069 | -0.0117\n",
      "00:15:37 02 | 08 | -0.0073 | -0.0117\n",
      "00:16:15 02 | 09 | -0.0060 | -0.0117\n",
      "00:16:50 02 | 10 | -0.0077 | -0.0139\n",
      "00:17:20 02 | 11 | -0.0062 | -0.0060\n",
      "00:17:48 02 | 12 | -0.0070 | -0.0111\n",
      "00:18:17 02 | 13 | -0.0027 | -0.0104\n",
      "00:18:47 02 | 14 | -0.0055 | -0.0054\n",
      "00:19:16 02 | 15 | -0.0082 | -0.0091\n",
      "00:19:44 02 | 16 | -0.0103 | -0.0098\n",
      "00:20:13 02 | 17 | -0.0006 | -0.0000\n",
      "00:20:42 02 | 18 | -0.0075 | -0.0013\n",
      "00:21:12 02 | 19 | -0.0062 | -0.0006\n",
      "00:21:41 02 | 20 | -0.0057 | -0.0107\n",
      "00:22:10 02 | 21 | -0.0077 | -0.0104\n",
      "00:22:39 02 | 22 | -0.0023 | -0.0085\n",
      "00:23:09 02 | 23 | -0.0015 | -0.0106\n",
      "00:23:38 02 | 24 | -0.0011 | -0.0081\n",
      "00:24:07 02 | 25 |  0.0048 |  0.0058\n",
      "00:24:26 03 | 01 |  0.0118 | -0.0136\n",
      "00:24:45 03 | 02 |  0.0205 | -0.0037\n",
      "00:25:03 03 | 03 |  0.0176 |  0.0066\n",
      "00:25:21 03 | 04 |  0.0072 | -0.0034\n",
      "00:25:39 03 | 05 |  0.0122 | -0.0130\n",
      "00:25:56 03 | 06 |  0.0120 | -0.0009\n",
      "00:26:14 03 | 07 |  0.0130 | -0.0015\n",
      "00:26:32 03 | 08 |  0.0123 | -0.0059\n",
      "00:26:50 03 | 09 |  0.0154 | -0.0053\n",
      "00:27:09 03 | 10 |  0.0184 |  0.0052\n",
      "00:27:27 03 | 11 |  0.0166 |  0.0124\n",
      "00:27:44 03 | 12 |  0.0191 |  0.0020\n",
      "00:28:02 03 | 13 |  0.0115 |  0.0026\n",
      "00:28:20 03 | 14 |  0.0060 | -0.0123\n",
      "00:28:38 03 | 15 |  0.0173 |  0.0058\n",
      "00:28:55 03 | 16 |  0.0156 |  0.0121\n",
      "00:29:14 03 | 17 |  0.0144 |  0.0093\n",
      "00:29:32 03 | 18 |  0.0180 |  0.0031\n",
      "00:29:50 03 | 19 |  0.0183 |  0.0026\n",
      "00:30:07 03 | 20 |  0.0159 |  0.0065\n",
      "00:30:25 03 | 21 |  0.0090 | -0.0051\n",
      "00:30:43 03 | 22 |  0.0136 |  0.0105\n",
      "00:31:00 03 | 23 |  0.0167 |  0.0024\n",
      "00:31:19 03 | 24 |  0.0178 | -0.0017\n",
      "00:31:37 03 | 25 |  0.0137 |  0.0140\n",
      "00:32:08 04 | 01 | -0.0104 | -0.0113\n",
      "00:32:38 04 | 02 | -0.0057 | -0.0064\n",
      "00:33:08 04 | 03 |  0.0086 |  0.0076\n",
      "00:33:37 04 | 04 |  0.0070 |  0.0170\n",
      "00:34:07 04 | 05 |  0.0090 |  0.0084\n",
      "00:34:36 04 | 06 |  0.0076 |  0.0122\n",
      "00:35:07 04 | 07 |  0.0088 |  0.0110\n",
      "00:35:37 04 | 08 |  0.0073 |  0.0105\n",
      "00:36:06 04 | 09 |  0.0062 |  0.0025\n",
      "00:36:36 04 | 10 |  0.0059 |  0.0030\n",
      "00:37:05 04 | 11 |  0.0060 | -0.0025\n",
      "00:37:35 04 | 12 |  0.0090 |  0.0016\n",
      "00:38:05 04 | 13 |  0.0074 | -0.0027\n",
      "00:38:23 04 | 14 |  0.0072 | -0.0009\n",
      "00:38:39 04 | 15 |  0.0076 |  0.0030\n",
      "00:38:55 04 | 16 |  0.0051 |  0.0016\n",
      "00:39:09 04 | 17 |  0.0071 |  0.0091\n",
      "00:39:24 04 | 18 |  0.0061 | -0.0030\n",
      "00:39:39 04 | 19 |  0.0043 | -0.0045\n",
      "00:39:54 04 | 20 |  0.0083 |  0.0031\n",
      "00:40:11 04 | 21 |  0.0116 |  0.0002\n",
      "00:40:29 04 | 22 |  0.0073 | -0.0066\n",
      "00:40:46 04 | 23 |  0.0105 | -0.0083\n",
      "00:41:03 04 | 24 |  0.0112 | -0.0050\n",
      "00:41:22 04 | 25 |  0.0109 | -0.0013\n",
      "00:41:40 05 | 01 |  0.0078 |  0.0108\n",
      "00:41:58 05 | 02 |  0.0056 |  0.0065\n",
      "00:42:15 05 | 03 |  0.0079 |  0.0103\n",
      "00:42:33 05 | 04 |  0.0089 |  0.0295\n",
      "00:42:51 05 | 05 |  0.0127 |  0.0343\n",
      "00:43:08 05 | 06 |  0.0153 |  0.0399\n",
      "00:43:24 05 | 07 |  0.0129 |  0.0374\n",
      "00:43:42 05 | 08 |  0.0157 |  0.0389\n",
      "00:43:60 05 | 09 |  0.0152 |  0.0389\n",
      "00:44:19 05 | 10 |  0.0166 |  0.0399\n",
      "00:44:36 05 | 11 |  0.0175 |  0.0431\n",
      "00:44:53 05 | 12 |  0.0159 |  0.0379\n",
      "00:45:08 05 | 13 |  0.0160 |  0.0379\n",
      "00:45:24 05 | 14 |  0.0165 |  0.0165\n",
      "00:45:40 05 | 15 |  0.0151 |  0.0209\n",
      "00:45:56 05 | 16 |  0.0139 |  0.0164\n",
      "00:46:12 05 | 17 |  0.0151 |  0.0164\n",
      "00:46:27 05 | 18 |  0.0155 |  0.0137\n",
      "00:46:43 05 | 19 |  0.0147 |  0.0164\n",
      "00:46:58 05 | 20 |  0.0138 |  0.0168\n",
      "00:47:13 05 | 21 |  0.0144 |  0.0164\n",
      "00:47:29 05 | 22 |  0.0140 |  0.0168\n",
      "00:47:47 05 | 23 |  0.0111 |  0.0248\n",
      "00:48:03 05 | 24 |  0.0080 |  0.0208\n",
      "00:48:18 05 | 25 |  0.0111 |  0.0257\n",
      "00:48:35 06 | 01 |  0.0368 |  0.0532\n",
      "00:48:50 06 | 02 | -0.0328 | -0.0443\n",
      "00:49:06 06 | 03 |  0.0376 |  0.0643\n",
      "00:49:21 06 | 04 | -0.0410 | -0.0566\n",
      "00:49:37 06 | 05 | -0.0018 | -0.0057\n",
      "00:49:53 06 | 06 | -0.0281 | -0.0381\n",
      "00:50:08 06 | 07 | -0.0172 | -0.0147\n",
      "00:50:24 06 | 08 | -0.0404 | -0.0655\n",
      "00:50:47 06 | 09 | -0.0400 | -0.0718\n",
      "00:51:03 06 | 10 | -0.0370 | -0.0701\n",
      "00:51:23 06 | 11 | -0.0358 | -0.0385\n",
      "00:52:03 06 | 12 |  0.0387 |  0.0630\n",
      "00:52:45 06 | 13 | -0.0113 |  0.0012\n",
      "00:53:26 06 | 14 | -0.0268 | -0.0362\n",
      "00:54:11 06 | 15 | -0.0387 | -0.0555\n",
      "00:54:58 06 | 16 | -0.0130 |  0.0043\n",
      "00:55:43 06 | 17 | -0.0367 | -0.0502\n",
      "00:56:29 06 | 18 | -0.0205 | -0.0061\n",
      "00:57:15 06 | 19 | -0.0374 | -0.0775\n",
      "00:58:01 06 | 20 | -0.0355 | -0.0545\n",
      "00:58:46 06 | 21 | -0.0396 | -0.0652\n",
      "00:59:32 06 | 22 | -0.0391 | -0.0683\n",
      "01:00:17 06 | 23 | -0.0268 | -0.0544\n",
      "01:00:60 06 | 24 |  0.0311 |  0.0622\n",
      "01:01:43 06 | 25 | -0.0312 | -0.0360\n",
      "01:02:28 07 | 01 |  0.0166 |  0.0258\n",
      "01:03:12 07 | 02 |  0.0183 |  0.0096\n",
      "01:03:55 07 | 03 |  0.0184 |  0.0020\n",
      "01:04:39 07 | 04 |  0.0163 |  0.0178\n",
      "01:05:25 07 | 05 |  0.0176 |  0.0035\n",
      "01:06:09 07 | 06 |  0.0175 |  0.0053\n",
      "01:06:53 07 | 07 |  0.0171 |  0.0007\n",
      "01:07:37 07 | 08 |  0.0166 |  0.0091\n",
      "01:08:21 07 | 09 |  0.0182 |  0.0008\n",
      "01:09:01 07 | 10 |  0.0173 | -0.0088\n",
      "01:09:18 07 | 11 |  0.0165 |  0.0006\n",
      "01:09:34 07 | 12 |  0.0169 |  0.0098\n",
      "01:09:51 07 | 13 |  0.0172 | -0.0009\n",
      "01:10:08 07 | 14 |  0.0173 | -0.0013\n",
      "01:10:25 07 | 15 |  0.0174 |  0.0004\n",
      "01:10:45 07 | 16 |  0.0166 | -0.0089\n",
      "01:11:05 07 | 17 |  0.0163 | -0.0043\n",
      "01:11:21 07 | 18 |  0.0163 | -0.0076\n",
      "01:11:38 07 | 19 |  0.0162 | -0.0120\n",
      "01:11:56 07 | 20 |  0.0153 | -0.0138\n",
      "01:12:14 07 | 21 |  0.0154 | -0.0140\n",
      "01:12:33 07 | 22 |  0.0152 | -0.0116\n",
      "01:12:50 07 | 23 |  0.0156 |  0.0024\n",
      "01:13:07 07 | 24 |  0.0148 | -0.0146\n",
      "01:13:25 07 | 25 |  0.0150 | -0.0064\n",
      "01:13:44 08 | 01 | -0.0282 | -0.0496\n",
      "01:14:05 08 | 02 | -0.0278 | -0.0351\n",
      "01:14:25 08 | 03 | -0.0253 | -0.0328\n",
      "01:14:46 08 | 04 | -0.0260 | -0.0395\n",
      "01:15:05 08 | 05 |  0.0238 |  0.0348\n",
      "01:15:24 08 | 06 | -0.0270 | -0.0395\n",
      "01:15:42 08 | 07 |  0.0196 |  0.0148\n",
      "01:16:02 08 | 08 |  0.0225 |  0.0160\n",
      "01:16:21 08 | 09 |  0.0220 |  0.0073\n",
      "01:16:40 08 | 10 | -0.0255 | -0.0292\n",
      "01:16:57 08 | 11 |  0.0199 |  0.0230\n",
      "01:17:14 08 | 12 |  0.0197 |  0.0244\n",
      "01:17:31 08 | 13 |  0.0195 |  0.0249\n",
      "01:17:47 08 | 14 |  0.0176 |  0.0276\n",
      "01:18:04 08 | 15 | -0.0256 | -0.0178\n",
      "01:18:20 08 | 16 |  0.0166 |  0.0187\n",
      "01:18:37 08 | 17 | -0.0240 | -0.0253\n",
      "01:18:54 08 | 18 |  0.0151 |  0.0113\n",
      "01:19:10 08 | 19 | -0.0222 | -0.0216\n",
      "01:19:27 08 | 20 | -0.0223 | -0.0225\n",
      "01:19:43 08 | 21 |  0.0135 |  0.0103\n",
      "01:20:00 08 | 22 | -0.0213 | -0.0172\n",
      "01:20:16 08 | 23 |  0.0118 |  0.0134\n",
      "01:20:31 08 | 24 | -0.0206 | -0.0120\n",
      "01:20:47 08 | 25 | -0.0205 | -0.0132\n",
      "01:21:03 09 | 01 |  0.0191 |  0.0063\n",
      "01:21:19 09 | 02 |  0.0206 |  0.0043\n",
      "01:21:34 09 | 03 |  0.0209 |  0.0073\n",
      "01:21:50 09 | 04 |  0.0208 |  0.0121\n",
      "01:22:05 09 | 05 |  0.0215 |  0.0119\n",
      "01:22:20 09 | 06 |  0.0208 |  0.0208\n",
      "01:22:36 09 | 07 |  0.0223 |  0.0161\n",
      "01:22:51 09 | 08 |  0.0217 |  0.0140\n",
      "01:23:07 09 | 09 |  0.0214 |  0.0176\n",
      "01:23:23 09 | 10 |  0.0219 |  0.0162\n",
      "01:23:38 09 | 11 |  0.0215 |  0.0136\n",
      "01:23:53 09 | 12 |  0.0218 |  0.0110\n",
      "01:24:09 09 | 13 |  0.0220 |  0.0163\n",
      "01:24:24 09 | 14 |  0.0220 |  0.0150\n",
      "01:24:39 09 | 15 |  0.0214 |  0.0161\n",
      "01:24:55 09 | 16 |  0.0217 |  0.0188\n",
      "01:25:10 09 | 17 |  0.0233 |  0.0160\n",
      "01:25:25 09 | 18 |  0.0224 |  0.0137\n",
      "01:25:41 09 | 19 |  0.0215 |  0.0160\n",
      "01:25:56 09 | 20 |  0.0214 |  0.0174\n",
      "01:26:11 09 | 21 |  0.0218 |  0.0157\n",
      "01:26:27 09 | 22 |  0.0218 |  0.0159\n"
     ]
    },
    {
     "name": "stdout",
     "output_type": "stream",
     "text": [
      "01:26:42 09 | 23 |  0.0218 |  0.0164\n",
      "01:26:57 09 | 24 |  0.0213 |  0.0051\n",
      "01:27:13 09 | 25 |  0.0223 |  0.0076\n",
      "01:27:29 10 | 01 |  0.0089 |  0.0016\n",
      "01:27:45 10 | 02 | -0.0070 | -0.0001\n",
      "01:27:60 10 | 03 | -0.0059 |  0.0016\n",
      "01:28:16 10 | 04 | -0.0051 |  0.0005\n",
      "01:28:31 10 | 05 | -0.0044 |  0.0033\n",
      "01:28:46 10 | 06 | -0.0032 | -0.0014\n",
      "01:29:02 10 | 07 | -0.0024 |  0.0004\n",
      "01:29:17 10 | 08 | -0.0008 | -0.0013\n",
      "01:29:32 10 | 09 | -0.0016 | -0.0021\n",
      "01:29:48 10 | 10 | -0.0019 | -0.0017\n",
      "01:30:03 10 | 11 | -0.0006 | -0.0005\n",
      "01:30:19 10 | 12 |  0.0014 |  0.0026\n",
      "01:30:34 10 | 13 |  0.0048 |  0.0141\n",
      "01:30:49 10 | 14 |  0.0050 |  0.0007\n",
      "01:31:05 10 | 15 |  0.0055 |  0.0010\n",
      "01:31:20 10 | 16 |  0.0047 |  0.0129\n",
      "01:31:36 10 | 17 |  0.0057 | -0.0032\n",
      "01:31:51 10 | 18 |  0.0047 | -0.0050\n",
      "01:32:06 10 | 19 |  0.0038 |  0.0029\n",
      "01:32:22 10 | 20 |  0.0017 | -0.0004\n",
      "01:32:37 10 | 21 |  0.0045 |  0.0060\n",
      "01:32:53 10 | 22 |  0.0041 |  0.0026\n",
      "01:33:08 10 | 23 |  0.0054 |  0.0071\n",
      "01:33:24 10 | 24 |  0.0049 |  0.0072\n",
      "01:33:39 10 | 25 |  0.0044 |  0.0005\n",
      "01:33:56 11 | 01 |  0.0033 |  0.0025\n",
      "01:34:11 11 | 02 | -0.0007 |  0.0106\n",
      "01:34:27 11 | 03 |  0.0191 |  0.0160\n",
      "01:34:42 11 | 04 |  0.0185 |  0.0149\n",
      "01:34:58 11 | 05 |  0.0172 |  0.0160\n",
      "01:35:13 11 | 06 |  0.0229 |  0.0175\n",
      "01:35:29 11 | 07 |  0.0133 |  0.0095\n",
      "01:35:44 11 | 08 |  0.0165 |  0.0101\n",
      "01:35:60 11 | 09 |  0.0203 |  0.0061\n",
      "01:36:15 11 | 10 |  0.0197 |  0.0043\n",
      "01:36:31 11 | 11 |  0.0195 |  0.0091\n",
      "01:36:46 11 | 12 |  0.0196 |  0.0168\n",
      "01:37:02 11 | 13 |  0.0154 |  0.0098\n",
      "01:37:17 11 | 14 |  0.0163 |  0.0130\n",
      "01:37:33 11 | 15 |  0.0164 |  0.0099\n",
      "01:37:48 11 | 16 |  0.0150 |  0.0121\n",
      "01:38:04 11 | 17 |  0.0197 |  0.0109\n",
      "01:38:19 11 | 18 |  0.0194 |  0.0123\n",
      "01:38:35 11 | 19 |  0.0156 |  0.0145\n",
      "01:38:50 11 | 20 |  0.0193 |  0.0104\n",
      "01:39:05 11 | 21 |  0.0157 |  0.0131\n",
      "01:39:21 11 | 22 |  0.0188 |  0.0092\n",
      "01:39:36 11 | 23 |  0.0167 |  0.0121\n",
      "01:39:52 11 | 24 |  0.0226 |  0.0162\n",
      "01:40:07 11 | 25 |  0.0228 |  0.0216\n",
      "01:40:25 12 | 01 |  0.0032 |  0.0018\n",
      "01:40:40 12 | 02 |  0.0012 | -0.0024\n",
      "01:40:56 12 | 03 |  0.0017 | -0.0028\n",
      "01:41:11 12 | 04 |  0.0004 | -0.0047\n",
      "01:41:27 12 | 05 |  0.0008 |  0.0034\n",
      "01:41:43 12 | 06 |  0.0029 | -0.0014\n",
      "01:41:58 12 | 07 | -0.0009 | -0.0043\n",
      "01:42:14 12 | 08 | -0.0005 |  0.0001\n",
      "01:42:29 12 | 09 |  0.0014 |  0.0033\n",
      "01:42:45 12 | 10 |  0.0019 |  0.0145\n",
      "01:43:00 12 | 11 |  0.0019 |  0.0083\n",
      "01:43:16 12 | 12 |  0.0029 |  0.0055\n",
      "01:43:32 12 | 13 | -0.0020 |  0.0090\n",
      "01:43:47 12 | 14 |  0.0023 |  0.0108\n",
      "01:44:03 12 | 15 |  0.0014 |  0.0137\n",
      "01:44:19 12 | 16 |  0.0024 |  0.0149\n",
      "01:44:34 12 | 17 | -0.0005 |  0.0071\n",
      "01:44:50 12 | 18 |  0.0008 | -0.0041\n",
      "01:45:05 12 | 19 |  0.0060 |  0.0079\n",
      "01:45:21 12 | 20 |  0.0046 |  0.0063\n",
      "01:45:36 12 | 21 |  0.0047 |  0.0003\n",
      "01:45:52 12 | 22 |  0.0048 |  0.0067\n",
      "01:46:08 12 | 23 |  0.0104 |  0.0112\n",
      "01:46:23 12 | 24 |  0.0092 |  0.0106\n",
      "01:46:39 12 | 25 |  0.0061 |  0.0083\n",
      "01:46:56 13 | 01 |  0.0028 | -0.0013\n",
      "01:47:11 13 | 02 | -0.0043 | -0.0047\n",
      "01:47:27 13 | 03 | -0.0055 | -0.0003\n",
      "01:47:43 13 | 04 |  0.0089 |  0.0030\n",
      "01:47:58 13 | 05 | -0.0005 |  0.0017\n",
      "01:48:14 13 | 06 |  0.0059 |  0.0003\n",
      "01:48:29 13 | 07 |  0.0032 | -0.0009\n",
      "01:48:45 13 | 08 |  0.0052 |  0.0043\n",
      "01:49:00 13 | 09 |  0.0024 | -0.0055\n",
      "01:49:16 13 | 10 |  0.0042 | -0.0021\n",
      "01:49:32 13 | 11 |  0.0065 | -0.0014\n",
      "01:49:47 13 | 12 |  0.0076 |  0.0019\n",
      "01:50:03 13 | 13 |  0.0038 |  0.0028\n",
      "01:50:18 13 | 14 |  0.0089 |  0.0142\n",
      "01:50:34 13 | 15 |  0.0041 |  0.0150\n",
      "01:50:50 13 | 16 |  0.0033 | -0.0000\n",
      "01:51:05 13 | 17 |  0.0092 |  0.0160\n",
      "01:51:21 13 | 18 |  0.0095 |  0.0140\n",
      "01:51:36 13 | 19 |  0.0090 |  0.0048\n",
      "01:51:52 13 | 20 |  0.0095 |  0.0117\n",
      "01:52:07 13 | 21 |  0.0074 | -0.0040\n",
      "01:52:23 13 | 22 |  0.0089 |  0.0071\n",
      "01:52:39 13 | 23 |  0.0117 |  0.0107\n",
      "01:52:54 13 | 24 |  0.0086 |  0.0102\n",
      "01:53:10 13 | 25 |  0.0093 |  0.0136\n",
      "01:53:27 14 | 01 | -0.0091 | -0.0015\n",
      "01:53:42 14 | 02 |  0.0021 |  0.0094\n",
      "01:53:58 14 | 03 |  0.0038 |  0.0078\n",
      "01:54:14 14 | 04 | -0.0007 | -0.0015\n",
      "01:54:30 14 | 05 |  0.0028 | -0.0039\n",
      "01:54:46 14 | 06 |  0.0003 | -0.0152\n",
      "01:55:01 14 | 07 | -0.0011 | -0.0002\n",
      "01:55:17 14 | 08 |  0.0191 |  0.0185\n",
      "01:55:33 14 | 09 |  0.0222 |  0.0209\n",
      "01:55:48 14 | 10 |  0.0200 |  0.0234\n",
      "01:56:04 14 | 11 |  0.0217 |  0.0298\n",
      "01:56:20 14 | 12 |  0.0205 |  0.0182\n",
      "01:56:36 14 | 13 |  0.0205 |  0.0198\n",
      "01:56:52 14 | 14 |  0.0173 |  0.0172\n",
      "01:57:07 14 | 15 |  0.0141 |  0.0079\n",
      "01:57:23 14 | 16 |  0.0042 | -0.0048\n",
      "01:57:38 14 | 17 |  0.0059 | -0.0006\n",
      "01:57:55 14 | 18 |  0.0051 | -0.0025\n",
      "01:58:11 14 | 19 |  0.0030 | -0.0032\n",
      "01:58:26 14 | 20 |  0.0052 | -0.0074\n",
      "01:58:42 14 | 21 |  0.0055 |  0.0001\n",
      "01:58:58 14 | 22 |  0.0089 |  0.0003\n",
      "01:59:13 14 | 23 |  0.0083 |  0.0034\n",
      "01:59:29 14 | 24 |  0.0071 | -0.0024\n",
      "01:59:45 14 | 25 |  0.0058 | -0.0044\n",
      "02:00:02 15 | 01 |  0.0247 |  0.0271\n",
      "02:00:18 15 | 02 |  0.0268 |  0.0286\n",
      "02:00:34 15 | 03 |  0.0331 |  0.0284\n",
      "02:00:49 15 | 04 |  0.0324 |  0.0265\n",
      "02:01:05 15 | 05 |  0.0337 |  0.0447\n",
      "02:01:21 15 | 06 |  0.0295 |  0.0335\n",
      "02:01:36 15 | 07 |  0.0286 |  0.0257\n",
      "02:01:52 15 | 08 |  0.0349 |  0.0440\n",
      "02:02:08 15 | 09 |  0.0327 |  0.0358\n",
      "02:02:24 15 | 10 |  0.0326 |  0.0412\n",
      "02:02:39 15 | 11 |  0.0323 |  0.0394\n",
      "02:02:55 15 | 12 |  0.0312 |  0.0396\n",
      "02:03:11 15 | 13 |  0.0326 |  0.0325\n",
      "02:03:26 15 | 14 |  0.0320 |  0.0280\n",
      "02:03:42 15 | 15 |  0.0288 |  0.0339\n",
      "02:03:58 15 | 16 |  0.0321 |  0.0263\n",
      "02:04:14 15 | 17 |  0.0320 |  0.0293\n",
      "02:04:29 15 | 18 |  0.0320 |  0.0331\n",
      "02:04:45 15 | 19 |  0.0305 |  0.0259\n",
      "02:05:01 15 | 20 |  0.0303 |  0.0275\n",
      "02:05:16 15 | 21 |  0.0330 |  0.0291\n",
      "02:05:32 15 | 22 |  0.0224 |  0.0262\n",
      "02:05:48 15 | 23 |  0.0310 |  0.0321\n",
      "02:06:03 15 | 24 |  0.0318 |  0.0412\n",
      "02:06:20 15 | 25 |  0.0240 |  0.0405\n",
      "02:06:39 16 | 01 |  0.0104 |  0.0103\n",
      "02:06:57 16 | 02 |  0.0111 |  0.0128\n",
      "02:07:15 16 | 03 |  0.0045 |  0.0103\n",
      "02:07:32 16 | 04 |  0.0043 |  0.0062\n",
      "02:07:49 16 | 05 |  0.0098 |  0.0115\n",
      "02:08:06 16 | 06 |  0.0072 |  0.0053\n",
      "02:08:24 16 | 07 |  0.0032 |  0.0024\n",
      "02:08:41 16 | 08 | -0.0021 |  0.0047\n",
      "02:08:59 16 | 09 | -0.0033 |  0.0016\n",
      "02:09:17 16 | 10 | -0.0039 |  0.0061\n",
      "02:09:36 16 | 11 | -0.0046 | -0.0009\n",
      "02:09:53 16 | 12 | -0.0034 |  0.0021\n",
      "02:10:11 16 | 13 | -0.0039 | -0.0042\n",
      "02:10:28 16 | 14 | -0.0085 | -0.0027\n",
      "02:10:45 16 | 15 | -0.0044 | -0.0058\n",
      "02:11:04 16 | 16 |  0.0036 |  0.0019\n",
      "02:11:21 16 | 17 |  0.0270 |  0.0306\n",
      "02:11:39 16 | 18 | -0.0191 | -0.0265\n",
      "02:11:56 16 | 19 |  0.0214 |  0.0231\n",
      "02:12:14 16 | 20 |  0.0252 |  0.0248\n",
      "02:12:31 16 | 21 | -0.0201 | -0.0245\n",
      "02:12:49 16 | 22 | -0.0191 | -0.0085\n",
      "02:13:06 16 | 23 | -0.0124 | -0.0103\n",
      "02:13:23 16 | 24 | -0.0069 | -0.0005\n",
      "02:13:41 16 | 25 | -0.0121 | -0.0155\n"
     ]
    }
   ],
   "source": [
    "start = time()\n",
    "ic  = []\n",
    "for fold, (train_idx, test_idx) in enumerate(cv.split(features)):\n",
    "    X_train, y_train, X_val, y_val = get_train_valid_data(features, target, train_idx, test_idx)\n",
    "    preds = y_val.to_frame('actual')\n",
    "    r = pd.DataFrame(index=y_val.index.unique(level='date')).sort_index()\n",
    "    model = make_model(filter1=16, act1='relu', filter2=32, \n",
    "                       act2='relu', do1=.25, do2=.5, dense=32)\n",
    "    best_mean = best_median = -np.inf\n",
    "    for epoch in range(25):         \n",
    "        model.fit(X_train, y_train,\n",
    "                  batch_size=batch_size,\n",
    "                  validation_data=(X_val, y_val),\n",
    "                  epochs=epoch + 1,\n",
    "                  initial_epoch=epoch,\n",
    "                  verbose=0, shuffle=True)\n",
    "        model.save_weights((checkpoint_path / f'ckpt_{fold}_{epoch}').as_posix())\n",
    "        preds[epoch] = model.predict(X_val).squeeze()\n",
    "        r[epoch] = preds.groupby(level='date').apply(lambda x: spearmanr(x.actual, x[epoch])[0]).to_frame(epoch)\n",
    "        print(f'{format_time(time()-start)} {fold + 1:02d} | {epoch + 1:02d} | {r[epoch].mean():7.4f} | {r[epoch].median():7.4f}')\n",
    "    ic.append(r.assign(fold=fold))\n",
    "ic = pd.concat(ic)\n",
    "ic.to_csv(checkpoint_path / 'ic.csv')"
   ]
  },
  {
   "cell_type": "markdown",
   "metadata": {},
   "source": [
    "### Evaluate results"
   ]
  },
  {
   "cell_type": "code",
   "execution_count": 20,
   "metadata": {
    "ExecuteTime": {
     "end_time": "2020-06-22T00:10:03.252876Z",
     "start_time": "2020-06-22T00:10:02.315181Z"
    }
   },
   "outputs": [
    {
     "data": {
      "image/png": "[encoded data removed]",
      "text/plain": [
       "<Figure size 432x288 with 1 Axes>"
      ]
     },
     "metadata": {},
     "output_type": "display_data"
    }
   ],
   "source": [
    "ic.groupby('fold').mean().boxplot();"
   ]
  },
  {
   "cell_type": "code",
   "execution_count": 21,
   "metadata": {
    "ExecuteTime": {
     "end_time": "2020-06-22T00:10:03.480748Z",
     "start_time": "2020-06-22T00:10:03.254115Z"
    }
   },
   "outputs": [
    {
     "data": {
      "image/png": "[encoded data removed]",
      "text/plain": [
       "<Figure size 432x288 with 1 Axes>"
      ]
     },
     "metadata": {},
     "output_type": "display_data"
    }
   ],
   "source": [
    "ic.groupby('fold').mean().mean().sort_index().plot.bar(rot=0);"
   ]
  },
  {
   "cell_type": "code",
   "execution_count": 22,
   "metadata": {
    "ExecuteTime": {
     "end_time": "2020-06-22T00:10:04.662582Z",
     "start_time": "2020-06-22T00:10:03.482556Z"
    }
   },
   "outputs": [
    {
     "data": {
      "image/png": "[encoded data removed]",
      "text/plain": [
       "<Figure size 1008x432 with 2 Axes>"
      ]
     },
     "metadata": {},
     "output_type": "display_data"
    }
   ],
   "source": [
    "cmap = sns.diverging_palette(h_neg=20, h_pos=210)\n",
    "fig, ax = plt.subplots(figsize=(14, 6))\n",
    "sns.heatmap(ic.groupby('fold').mean().mul(100), ax=ax, center=0, cmap=cmap, annot=True, fmt='.1f')\n",
    "fig.tight_layout()"
   ]
  },
  {
   "cell_type": "markdown",
   "metadata": {},
   "source": [
    "## Make Predictions"
   ]
  },
  {
   "cell_type": "code",
   "execution_count": 23,
   "metadata": {
    "ExecuteTime": {
     "end_time": "2020-06-22T00:10:04.669663Z",
     "start_time": "2020-06-22T00:10:04.664068Z"
    }
   },
   "outputs": [],
   "source": [
    "def generate_predictions(epoch):\n",
    "    predictions = []\n",
    "    for fold, (train_idx, test_idx) in enumerate(cv.split(features)):\n",
    "        X_train, y_train, X_val, y_val = get_train_valid_data(features, target, train_idx, test_idx)\n",
    "        preds = y_val.to_frame('actual')\n",
    "        model = make_model(filter1=16, act1='relu', filter2=32, \n",
    "                       act2='relu', do1=.25, do2=.5, dense=32)\n",
    "        status = model.load_weights((checkpoint_path / f'ckpt_{fold}_{epoch}').as_posix())\n",
    "        status.expect_partial()\n",
    "        predictions.append(pd.Series(model.predict(X_val).squeeze(), index=y_val.index))\n",
    "    return pd.concat(predictions)        "
   ]
  },
  {
   "cell_type": "code",
   "execution_count": 24,
   "metadata": {
    "ExecuteTime": {
     "end_time": "2020-06-22T00:12:56.107624Z",
     "start_time": "2020-06-22T00:10:04.670819Z"
    }
   },
   "outputs": [],
   "source": [
    "preds = {}\n",
    "for i, epoch in enumerate(ic.drop('fold', axis=1).mean().nlargest(5).index):\n",
    "    preds[i] = generate_predictions(epoch)"
   ]
  },
  {
   "cell_type": "code",
   "execution_count": 25,
   "metadata": {
    "ExecuteTime": {
     "end_time": "2020-06-22T00:12:56.689444Z",
     "start_time": "2020-06-22T00:12:56.108756Z"
    }
   },
   "outputs": [],
   "source": [
    "with pd.HDFStore(results_path / 'predictions.h5') as store:\n",
    "    store.put('predictions', pd.DataFrame(preds).sort_index())"
   ]
  }
 ],
 "metadata": {
  "kernelspec": {
   "display_name": "Python 3",
   "language": "python",
   "name": "python3"
  },
  "language_info": {
   "codemirror_mode": {
    "name": "ipython",
    "version": 3
   },
   "file_extension": ".py",
   "mimetype": "text/x-python",
   "name": "python",
   "nbconvert_exporter": "python",
   "pygments_lexer": "ipython3",
   "version": "3.7.7"
  },
  "toc": {
   "base_numbering": 1,
   "nav_menu": {},
   "number_sections": true,
   "sideBar": true,
   "skip_h1_title": true,
   "title_cell": "Table of Contents",
   "title_sidebar": "Contents",
   "toc_cell": false,
   "toc_position": {},
   "toc_section_display": true,
   "toc_window_display": true
  }
 },
 "nbformat": 4,
 "nbformat_minor": 4
}
