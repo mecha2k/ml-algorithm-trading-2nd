{
 "cells": [
  {
   "cell_type": "markdown",
   "metadata": {},
   "source": [
    "# Engineer features and convert time series data to images"
   ]
  },
  {
   "cell_type": "markdown",
   "metadata": {},
   "source": [
    "## Imports & Settings"
   ]
  },
  {
   "cell_type": "markdown",
   "metadata": {},
   "source": [
    "To install `talib` with Python 3.7 follow [these](https://medium.com/@joelzhang/install-ta-lib-in-python-3-7-51219acacafb) instructions."
   ]
  },
  {
   "cell_type": "code",
   "execution_count": 1,
   "metadata": {
    "ExecuteTime": {
     "end_time": "2020-06-21T21:21:57.052353Z",
     "start_time": "2020-06-21T21:21:57.049485Z"
    }
   },
   "outputs": [],
   "source": [
    "import warnings\n",
    "warnings.filterwarnings('ignore')"
   ]
  },
  {
   "cell_type": "code",
   "execution_count": 2,
   "metadata": {
    "ExecuteTime": {
     "end_time": "2020-06-21T21:21:57.855651Z",
     "start_time": "2020-06-21T21:21:57.054734Z"
    }
   },
   "outputs": [],
   "source": [
    "%matplotlib inline\n",
    "import pandas as pd\n",
    "\n",
    "from scipy.spatial.distance import pdist\n",
    "from scipy.cluster.hierarchy import dendrogram, linkage, cophenet\n",
    "\n",
    "from sklearn.preprocessing import StandardScaler\n",
    "from sklearn.feature_selection import mutual_info_regression\n",
    "\n",
    "import matplotlib.pyplot as plt\n",
    "import seaborn as sns"
   ]
  },
  {
   "cell_type": "code",
   "execution_count": 3,
   "metadata": {
    "ExecuteTime": {
     "end_time": "2020-06-21T21:21:57.860367Z",
     "start_time": "2020-06-21T21:21:57.856833Z"
    }
   },
   "outputs": [],
   "source": [
    "MONTH = 21\n",
    "YEAR = 12 * MONTH"
   ]
  },
  {
   "cell_type": "code",
   "execution_count": 4,
   "metadata": {
    "ExecuteTime": {
     "end_time": "2020-06-21T21:21:57.867940Z",
     "start_time": "2020-06-21T21:21:57.861361Z"
    }
   },
   "outputs": [],
   "source": [
    "START = '2001-01-01'\n",
    "END = '2017-12-31'"
   ]
  },
  {
   "cell_type": "code",
   "execution_count": 5,
   "metadata": {
    "ExecuteTime": {
     "end_time": "2020-06-21T21:21:57.876846Z",
     "start_time": "2020-06-21T21:21:57.868892Z"
    }
   },
   "outputs": [],
   "source": [
    "sns.set_style('white')\n",
    "idx = pd.IndexSlice"
   ]
  },
  {
   "cell_type": "code",
   "execution_count": null,
   "metadata": {},
   "outputs": [],
   "source": [
    "results_path = Path('results', 'cnn_for_trading')\n",
    "if not results_path.exists():\n",
    "    results_path.mkdir(parents=True)"
   ]
  },
  {
   "cell_type": "markdown",
   "metadata": {},
   "source": [
    "## Load Model Data"
   ]
  },
  {
   "cell_type": "code",
   "execution_count": 6,
   "metadata": {
    "ExecuteTime": {
     "end_time": "2020-06-21T21:22:06.006063Z",
     "start_time": "2020-06-21T21:21:57.878061Z"
    }
   },
   "outputs": [],
   "source": [
    "with pd.HDFStore('data.h5') as store:\n",
    "    features = store.get('features')\n",
    "    targets = store.get('targets')"
   ]
  },
  {
   "cell_type": "code",
   "execution_count": 7,
   "metadata": {
    "ExecuteTime": {
     "end_time": "2020-06-21T21:22:06.060274Z",
     "start_time": "2020-06-21T21:22:06.008665Z"
    },
    "scrolled": false
   },
   "outputs": [
    {
     "name": "stdout",
     "output_type": "stream",
     "text": [
      "<class 'pandas.core.frame.DataFrame'>\n",
      "MultiIndex: 2378283 entries, ('A', Timestamp('2001-01-02 00:00:00')) to ('ZTS', Timestamp('2017-12-28 00:00:00'))\n",
      "Columns: 300 entries, 06_RSI to 85_CMA\n",
      "dtypes: float64(300)\n",
      "memory usage: 5.3+ GB\n"
     ]
    }
   ],
   "source": [
    "features.info()"
   ]
  },
  {
   "cell_type": "code",
   "execution_count": 8,
   "metadata": {
    "ExecuteTime": {
     "end_time": "2020-06-21T21:22:06.098347Z",
     "start_time": "2020-06-21T21:22:06.062001Z"
    }
   },
   "outputs": [
    {
     "name": "stdout",
     "output_type": "stream",
     "text": [
      "<class 'pandas.core.frame.DataFrame'>\n",
      "MultiIndex: 2378283 entries, ('A', Timestamp('2001-01-02 00:00:00')) to ('ZTS', Timestamp('2017-12-28 00:00:00'))\n",
      "Data columns (total 4 columns):\n",
      " #   Column      Dtype  \n",
      "---  ------      -----  \n",
      " 0   r01_fwd     float64\n",
      " 1   r01dec_fwd  float64\n",
      " 2   r05_fwd     float64\n",
      " 3   r05dec_fwd  float64\n",
      "dtypes: float64(4)\n",
      "memory usage: 81.9+ MB\n"
     ]
    }
   ],
   "source": [
    "targets.info()"
   ]
  },
  {
   "cell_type": "markdown",
   "metadata": {},
   "source": [
    "## Select Features using Mutual Information"
   ]
  },
  {
   "cell_type": "code",
   "execution_count": 9,
   "metadata": {
    "ExecuteTime": {
     "end_time": "2020-06-21T21:45:29.246534Z",
     "start_time": "2020-06-21T21:22:06.099687Z"
    }
   },
   "outputs": [],
   "source": [
    "mi = {}\n",
    "for t in [1, 5]:\n",
    "    target = f'r{t:02}_fwd'\n",
    "    df = features.join(targets[target]).dropna().sample(n=100000)\n",
    "    X = df.drop(target, axis=1)\n",
    "    y = df[target]\n",
    "    mi[t] = pd.Series(mutual_info_regression(X=X, y=y),\n",
    "                      index=X.columns).sort_values(ascending=False)"
   ]
  },
  {
   "cell_type": "code",
   "execution_count": 10,
   "metadata": {
    "ExecuteTime": {
     "end_time": "2020-06-21T21:45:29.267351Z",
     "start_time": "2020-06-21T21:45:29.247482Z"
    }
   },
   "outputs": [],
   "source": [
    "mutual_info = pd.DataFrame(mi)\n",
    "mutual_info.to_hdf('data.h5', 'mutual_info')"
   ]
  },
  {
   "cell_type": "code",
   "execution_count": 11,
   "metadata": {
    "ExecuteTime": {
     "end_time": "2020-06-21T21:45:29.277173Z",
     "start_time": "2020-06-21T21:45:29.268683Z"
    }
   },
   "outputs": [],
   "source": [
    "mutual_info = pd.read_hdf('data.h5', 'mutual_info')"
   ]
  },
  {
   "cell_type": "code",
   "execution_count": 12,
   "metadata": {
    "ExecuteTime": {
     "end_time": "2020-06-21T21:45:29.286708Z",
     "start_time": "2020-06-21T21:45:29.278447Z"
    }
   },
   "outputs": [],
   "source": [
    "mi_by_indicator = (mutual_info.groupby(mutual_info.\n",
    "                                       index.to_series()\n",
    "                                       .str.split('_').str[-1])\n",
    "                   .mean()\n",
    "                   .rank(ascending=False)\n",
    "                   .sort_values(by=1))"
   ]
  },
  {
   "cell_type": "code",
   "execution_count": 13,
   "metadata": {
    "ExecuteTime": {
     "end_time": "2020-06-21T21:45:29.431052Z",
     "start_time": "2020-06-21T21:45:29.287560Z"
    },
    "scrolled": true
   },
   "outputs": [
    {
     "data": {
      "image/png": "[encoded data removed]",
      "text/plain": [
       "<Figure size 432x288 with 1 Axes>"
      ]
     },
     "metadata": {},
     "output_type": "display_data"
    }
   ],
   "source": [
    "mutual_info.boxplot()\n",
    "sns.despine();"
   ]
  },
  {
   "cell_type": "code",
   "execution_count": 14,
   "metadata": {
    "ExecuteTime": {
     "end_time": "2020-06-21T21:45:29.844543Z",
     "start_time": "2020-06-21T21:45:29.432316Z"
    }
   },
   "outputs": [
    {
     "data": {
      "image/png": "[encoded data removed]",
      "text/plain": [
       "<Figure size 432x288 with 1 Axes>"
      ]
     },
     "metadata": {},
     "output_type": "display_data"
    }
   ],
   "source": [
    "(mutual_info.groupby(mutual_info.index.to_series().str.split('_').str[-1])[1]\n",
    " .mean()\n",
    " .sort_values().plot.barh(title='Mutual Information with 1-Day Forward Returns'))\n",
    "sns.despine()\n",
    "plt.tight_layout()\n",
    "plt.savefig(results_path / 'mutual_info_cnn_features', dpi=300)"
   ]
  },
  {
   "cell_type": "code",
   "execution_count": 15,
   "metadata": {
    "ExecuteTime": {
     "end_time": "2020-06-21T21:45:29.847815Z",
     "start_time": "2020-06-21T21:45:29.845620Z"
    }
   },
   "outputs": [],
   "source": [
    "best_features = mi_by_indicator.head(15).index"
   ]
  },
  {
   "cell_type": "code",
   "execution_count": 16,
   "metadata": {
    "ExecuteTime": {
     "end_time": "2020-06-21T21:45:29.857701Z",
     "start_time": "2020-06-21T21:45:29.848932Z"
    }
   },
   "outputs": [],
   "source": [
    "size = len(best_features)"
   ]
  },
  {
   "cell_type": "markdown",
   "metadata": {},
   "source": [
    "## Hierarchical Feature Clustering"
   ]
  },
  {
   "cell_type": "code",
   "execution_count": 17,
   "metadata": {
    "ExecuteTime": {
     "end_time": "2020-06-21T21:45:30.858863Z",
     "start_time": "2020-06-21T21:45:29.858980Z"
    }
   },
   "outputs": [],
   "source": [
    "features = pd.concat([features.filter(like=f'_{f}') for f in best_features], axis=1)"
   ]
  },
  {
   "cell_type": "code",
   "execution_count": 18,
   "metadata": {
    "ExecuteTime": {
     "end_time": "2020-06-21T21:45:34.065461Z",
     "start_time": "2020-06-21T21:45:30.860027Z"
    }
   },
   "outputs": [],
   "source": [
    "new_cols = {}\n",
    "for feature in best_features:\n",
    "    fnames = sorted(features.filter(like=f'_{feature}').columns.tolist())\n",
    "    renamed = [f'{i:02}_{feature}' for i in range(1, len(fnames)+ 1)]\n",
    "    new_cols.update(dict(zip(fnames, renamed)))\n",
    "features = features.rename(columns=new_cols).sort_index(1)"
   ]
  },
  {
   "cell_type": "code",
   "execution_count": 19,
   "metadata": {
    "ExecuteTime": {
     "end_time": "2020-06-21T21:45:34.109152Z",
     "start_time": "2020-06-21T21:45:34.066673Z"
    }
   },
   "outputs": [
    {
     "name": "stdout",
     "output_type": "stream",
     "text": [
      "<class 'pandas.core.frame.DataFrame'>\n",
      "MultiIndex: 2378283 entries, ('A', Timestamp('2001-01-02 00:00:00')) to ('ZTS', Timestamp('2017-12-28 00:00:00'))\n",
      "Columns: 225 entries, 01_BBH to 15_WMA\n",
      "dtypes: float64(225)\n",
      "memory usage: 4.0+ GB\n"
     ]
    }
   ],
   "source": [
    "features.info()"
   ]
  },
  {
   "cell_type": "markdown",
   "metadata": {},
   "source": [
    "## Hierarchical Clustering"
   ]
  },
  {
   "cell_type": "code",
   "execution_count": 20,
   "metadata": {
    "ExecuteTime": {
     "end_time": "2020-06-21T21:45:34.114848Z",
     "start_time": "2020-06-21T21:45:34.110566Z"
    }
   },
   "outputs": [],
   "source": [
    "def cluster_features(data, labels, ax, title):\n",
    "    data = StandardScaler().fit_transform(data)\n",
    "    pairwise_distance = pdist(data)\n",
    "    Z = linkage(data, 'ward')\n",
    "    c, coph_dists = cophenet(Z, pairwise_distance)\n",
    "    dend = dendrogram(Z,\n",
    "                      labels=labels,\n",
    "                      orientation='top',\n",
    "                      leaf_rotation=0.,\n",
    "                      leaf_font_size=8.,\n",
    "                      ax=ax)\n",
    "    ax.set_title(title)\n",
    "    return dend['ivl']"
   ]
  },
  {
   "cell_type": "code",
   "execution_count": 21,
   "metadata": {
    "ExecuteTime": {
     "end_time": "2020-06-21T21:46:29.635173Z",
     "start_time": "2020-06-21T21:45:34.115905Z"
    }
   },
   "outputs": [
    {
     "data": {
      "image/png": "[encoded data removed]",
      "text/plain": [
       "<Figure size 1080x288 with 2 Axes>"
      ]
     },
     "metadata": {},
     "output_type": "display_data"
    }
   ],
   "source": [
    "fig, axes = plt.subplots(figsize=(15, 4), ncols=2)\n",
    "\n",
    "labels = sorted(best_features)\n",
    "title = 'Column Features: Indicators'\n",
    "col_order = cluster_features(features.dropna().values.reshape(-1, 15).T,\n",
    "                             labels,\n",
    "                             axes[0],\n",
    "                             title)\n",
    "\n",
    "labels = list(range(1, 16))\n",
    "title = 'Row Features: Indicator Parameters'\n",
    "row_order = cluster_features(\n",
    "    features.dropna().values.reshape(-1, 15, 15).transpose((0, 2, 1)).reshape(-1, 15).T,\n",
    "    labels, axes[1], title)\n",
    "axes[0].set_xlabel('Indicators')\n",
    "axes[1].set_xlabel('Parameters')\n",
    "sns.despine()\n",
    "fig.tight_layout()\n",
    "fig.savefig(results_path / 'cnn_clustering', dpi=300)"
   ]
  },
  {
   "cell_type": "code",
   "execution_count": 22,
   "metadata": {
    "ExecuteTime": {
     "end_time": "2020-06-21T21:46:29.638912Z",
     "start_time": "2020-06-21T21:46:29.636916Z"
    }
   },
   "outputs": [],
   "source": [
    "feature_order = [f'{i:02}_{j}' for i in row_order for j in col_order]"
   ]
  },
  {
   "cell_type": "code",
   "execution_count": 23,
   "metadata": {
    "ExecuteTime": {
     "end_time": "2020-06-21T21:46:30.353888Z",
     "start_time": "2020-06-21T21:46:29.640540Z"
    }
   },
   "outputs": [],
   "source": [
    "features = features.loc[:, feature_order]"
   ]
  },
  {
   "cell_type": "code",
   "execution_count": 24,
   "metadata": {
    "ExecuteTime": {
     "end_time": "2020-06-21T21:46:31.026810Z",
     "start_time": "2020-06-21T21:46:30.354914Z"
    }
   },
   "outputs": [],
   "source": [
    "features = features.apply(pd.to_numeric, downcast='float')"
   ]
  },
  {
   "cell_type": "code",
   "execution_count": 25,
   "metadata": {
    "ExecuteTime": {
     "end_time": "2020-06-21T21:46:31.035967Z",
     "start_time": "2020-06-21T21:46:31.027859Z"
    }
   },
   "outputs": [
    {
     "name": "stdout",
     "output_type": "stream",
     "text": [
      "<class 'pandas.core.frame.DataFrame'>\n",
      "MultiIndex: 2378283 entries, ('A', Timestamp('2001-01-02 00:00:00')) to ('ZTS', Timestamp('2017-12-28 00:00:00'))\n",
      "Columns: 225 entries, 01_CMO to 11_WMA\n",
      "dtypes: float32(225)\n",
      "memory usage: 2.0+ GB\n"
     ]
    }
   ],
   "source": [
    "features.info()"
   ]
  },
  {
   "cell_type": "code",
   "execution_count": 26,
   "metadata": {
    "ExecuteTime": {
     "end_time": "2020-06-21T21:46:33.630478Z",
     "start_time": "2020-06-21T21:46:31.037114Z"
    }
   },
   "outputs": [],
   "source": [
    "features.to_hdf('data.h5', 'img_data')"
   ]
  }
 ],
 "metadata": {
  "kernelspec": {
   "display_name": "Python 3",
   "language": "python",
   "name": "python3"
  },
  "language_info": {
   "codemirror_mode": {
    "name": "ipython",
    "version": 3
   },
   "file_extension": ".py",
   "mimetype": "text/x-python",
   "name": "python",
   "nbconvert_exporter": "python",
   "pygments_lexer": "ipython3",
   "version": "3.7.7"
  },
  "toc": {
   "base_numbering": 1,
   "nav_menu": {},
   "number_sections": true,
   "sideBar": true,
   "skip_h1_title": true,
   "title_cell": "Table of Contents",
   "title_sidebar": "Contents",
   "toc_cell": false,
   "toc_position": {},
   "toc_section_display": true,
   "toc_window_display": true
  }
 },
 "nbformat": 4,
 "nbformat_minor": 2
}
