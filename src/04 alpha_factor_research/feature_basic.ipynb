{
 "cells": [
  {
   "cell_type": "code",
   "execution_count": 25,
   "id": "e927ff2d",
   "metadata": {},
   "outputs": [
    {
     "ename": "ValueError",
     "evalue": "numpy.ndarray size changed, may indicate binary incompatibility. Expected 88 from C header, got 80 from PyObject",
     "output_type": "error",
     "traceback": [
      "\u001b[1;31m---------------------------------------------------------------------------\u001b[0m",
      "\u001b[1;31mValueError\u001b[0m                                Traceback (most recent call last)",
      "\u001b[1;32m~\\AppData\\Local\\Temp/ipykernel_30344/3743099960.py\u001b[0m in \u001b[0;36m<module>\u001b[1;34m\u001b[0m\n\u001b[0;32m      2\u001b[0m \u001b[1;32mimport\u001b[0m \u001b[0mseaborn\u001b[0m \u001b[1;32mas\u001b[0m \u001b[0msns\u001b[0m\u001b[1;33m\u001b[0m\u001b[1;33m\u001b[0m\u001b[0m\n\u001b[0;32m      3\u001b[0m \u001b[1;32mimport\u001b[0m \u001b[0mmatplotlib\u001b[0m\u001b[1;33m.\u001b[0m\u001b[0mpyplot\u001b[0m \u001b[1;32mas\u001b[0m \u001b[0mplt\u001b[0m\u001b[1;33m\u001b[0m\u001b[1;33m\u001b[0m\u001b[0m\n\u001b[1;32m----> 4\u001b[1;33m \u001b[1;32mimport\u001b[0m \u001b[0mtalib\u001b[0m\u001b[1;33m\u001b[0m\u001b[1;33m\u001b[0m\u001b[0m\n\u001b[0m",
      "\u001b[1;32mc:\\program files\\python37\\lib\\site-packages\\talib\\__init__.py\u001b[0m in \u001b[0;36m<module>\u001b[1;34m\u001b[0m\n\u001b[0;32m     50\u001b[0m         \u001b[1;32mreturn\u001b[0m \u001b[0mwrapper\u001b[0m\u001b[1;33m\u001b[0m\u001b[1;33m\u001b[0m\u001b[0m\n\u001b[0;32m     51\u001b[0m \u001b[1;33m\u001b[0m\u001b[0m\n\u001b[1;32m---> 52\u001b[1;33m from ._ta_lib import (\n\u001b[0m\u001b[0;32m     53\u001b[0m     \u001b[0m_ta_initialize\u001b[0m\u001b[1;33m,\u001b[0m \u001b[0m_ta_shutdown\u001b[0m\u001b[1;33m,\u001b[0m \u001b[0mMA_Type\u001b[0m\u001b[1;33m,\u001b[0m \u001b[0m__ta_version__\u001b[0m\u001b[1;33m,\u001b[0m\u001b[1;33m\u001b[0m\u001b[1;33m\u001b[0m\u001b[0m\n\u001b[0;32m     54\u001b[0m     \u001b[0m_ta_set_unstable_period\u001b[0m \u001b[1;32mas\u001b[0m \u001b[0mset_unstable_period\u001b[0m\u001b[1;33m,\u001b[0m\u001b[1;33m\u001b[0m\u001b[1;33m\u001b[0m\u001b[0m\n",
      "\u001b[1;32mtalib\\_ta_lib.pyx\u001b[0m in \u001b[0;36minit talib._ta_lib\u001b[1;34m()\u001b[0m\n",
      "\u001b[1;31mValueError\u001b[0m: numpy.ndarray size changed, may indicate binary incompatibility. Expected 88 from C header, got 80 from PyObject"
     ]
    }
   ],
   "source": [
    "import pandas as pd\n",
    "import seaborn as sns\n",
    "import matplotlib.pyplot as plt\n",
    "import talib"
   ]
  },
  {
   "cell_type": "code",
   "execution_count": null,
   "id": "7ea40db5",
   "metadata": {},
   "outputs": [],
   "source": [
    "# import warnings\n",
    "# import matplotlib.pyplot as plt\n",
    "# import seaborn as sns\n",
    "# import pandas as pd\n",
    "# import talib\n",
    "\n",
    "# warnings.filterwarnings(\"ignore\")\n",
    "# sns.set_style(\"whitegrid\")\n",
    "# idx = pd.IndexSlice\n",
    "\n",
    "# if __name__ == \"__main__\":\n",
    "#     DATA_STORE = \"../data/assets1.h5\"\n",
    "\n",
    "#     with pd.HDFStore(DATA_STORE) as store:\n",
    "#         data = (\n",
    "#             store[\"quandl/wiki/prices\"]\n",
    "#             .loc[\n",
    "#                 idx[\"2007\":\"2010\", \"AAPL\"],\n",
    "#                 [\"adj_open\", \"adj_high\", \"adj_low\", \"adj_close\", \"adj_volume\"],\n",
    "#             ]\n",
    "#             .unstack(\"ticker\")\n",
    "#             .swaplevel(axis=1)\n",
    "#             .loc[:, \"AAPL\"]\n",
    "#             .rename(columns=lambda x: x.replace(\"adj_\", \"\"))\n",
    "#         )\n",
    "#     data.info()\n",
    "\n",
    "#     up, mid, low = talib.BBANDS(data.close, timeperiod=21, nbdevup=2, nbdevdn=2, matype=0)\n",
    "#     rsi = talib.RSI(data.close, timeperiod=14)\n",
    "#     macd, macdsignal, macdhist = talib.MACD(\n",
    "#         data.close, fastperiod=12, slowperiod=26, signalperiod=9\n",
    "#     )\n",
    "#     macd_data = pd.DataFrame(\n",
    "#         {\"AAPL\": data.close, \"MACD\": macd, \"MACD Signal\": macdsignal, \"MACD History\": macdhist}\n",
    "#     )\n",
    "\n",
    "#     fig, axes = plt.subplots(nrows=2, figsize=(15, 8))\n",
    "#     macd_data.AAPL.plot(ax=axes[0])\n",
    "#     macd_data.drop(\"AAPL\", axis=1).plot(ax=axes[1])\n",
    "#     fig.tight_layout()\n",
    "#     sns.despine()\n",
    "\n",
    "#     data = pd.DataFrame(\n",
    "#         {\"AAPL\": data.close, \"BB Up\": up, \"BB Mid\": mid, \"BB down\": low, \"RSI\": rsi, \"MACD\": macd}\n",
    "#     )\n",
    "\n",
    "#     fig, axes = plt.subplots(nrows=3, figsize=(15, 10), sharex=True)\n",
    "#     data.drop([\"RSI\", \"MACD\"], axis=1).plot(ax=axes[0], lw=1, title=\"Bollinger Bands\")\n",
    "#     data[\"RSI\"].plot(ax=axes[1], lw=1, title=\"Relative Strength Index\")\n",
    "#     axes[1].axhline(70, lw=1, ls=\"--\", c=\"k\")\n",
    "#     axes[1].axhline(30, lw=1, ls=\"--\", c=\"k\")\n",
    "#     data.MACD.plot(ax=axes[2], lw=1, title=\"Moving Average Convergence/Divergence\", rot=0)\n",
    "#     axes[2].set_xlabel(\"\")\n",
    "#     fig.tight_layout()\n",
    "#     sns.despine()\n",
    "#     plt.show()\n"
   ]
  }
 ],
 "metadata": {
  "kernelspec": {
   "display_name": "Python 3 (ipykernel)",
   "language": "python",
   "name": "python3"
  },
  "language_info": {
   "codemirror_mode": {
    "name": "ipython",
    "version": 3
   },
   "file_extension": ".py",
   "mimetype": "text/x-python",
   "name": "python",
   "nbconvert_exporter": "python",
   "pygments_lexer": "ipython3",
   "version": "3.7.9"
  }
 },
 "nbformat": 4,
 "nbformat_minor": 5
}
