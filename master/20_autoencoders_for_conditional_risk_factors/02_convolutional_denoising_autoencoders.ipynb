{
 "cells": [
  {
   "cell_type": "markdown",
   "metadata": {},
   "source": [
    "# Convolutional & Denoising Autoencoders"
   ]
  },
  {
   "cell_type": "markdown",
   "metadata": {},
   "source": [
    "The insights from Chapter 17, Convolutional Neural Networks, suggest we incorporate convolutional layers into the autoencoder to extract information characteristic of the grid-like structure of image data."
   ]
  },
  {
   "cell_type": "markdown",
   "metadata": {},
   "source": [
    "Source: https://blog.keras.io/building-autoencoders-in-keras.html"
   ]
  },
  {
   "cell_type": "markdown",
   "metadata": {},
   "source": [
    "## Imports & Settings"
   ]
  },
  {
   "cell_type": "code",
   "execution_count": 1,
   "metadata": {
    "ExecuteTime": {
     "end_time": "2020-06-22T02:47:48.651866Z",
     "start_time": "2020-06-22T02:47:46.795252Z"
    },
    "slideshow": {
     "slide_type": "skip"
    }
   },
   "outputs": [],
   "source": [
    "%matplotlib inline\n",
    "\n",
    "from pathlib import Path\n",
    "import pandas as pd\n",
    "import numpy as np\n",
    "from numpy.random import choice\n",
    "\n",
    "import tensorflow as tf\n",
    "from tensorflow.keras.layers import Input, Conv2D, MaxPooling2D, UpSampling2D\n",
    "from tensorflow.keras.models import Model\n",
    "from tensorflow.keras.callbacks import EarlyStopping, ModelCheckpoint\n",
    "from tensorflow.keras.datasets import fashion_mnist\n",
    "\n",
    "import matplotlib.pyplot as plt\n",
    "import seaborn as sns"
   ]
  },
  {
   "cell_type": "code",
   "execution_count": 2,
   "metadata": {
    "ExecuteTime": {
     "end_time": "2020-06-22T02:47:48.685268Z",
     "start_time": "2020-06-22T02:47:48.653592Z"
    }
   },
   "outputs": [
    {
     "name": "stdout",
     "output_type": "stream",
     "text": [
      "Using GPU\n"
     ]
    }
   ],
   "source": [
    "gpu_devices = tf.config.experimental.list_physical_devices('GPU')\n",
    "if gpu_devices:\n",
    "    print('Using GPU')\n",
    "    tf.config.experimental.set_memory_growth(gpu_devices[0], True)\n",
    "else:\n",
    "    print('Using CPU')"
   ]
  },
  {
   "cell_type": "code",
   "execution_count": 3,
   "metadata": {
    "ExecuteTime": {
     "end_time": "2020-06-22T02:47:48.709819Z",
     "start_time": "2020-06-22T02:47:48.686817Z"
    }
   },
   "outputs": [],
   "source": [
    "n_classes = 10 # all examples have 10 classes"
   ]
  },
  {
   "cell_type": "code",
   "execution_count": 4,
   "metadata": {
    "ExecuteTime": {
     "end_time": "2020-06-22T02:47:48.718815Z",
     "start_time": "2020-06-22T02:47:48.711084Z"
    }
   },
   "outputs": [],
   "source": [
    "sns.set_style('white')\n",
    "cmap = sns.color_palette('Paired', n_classes)"
   ]
  },
  {
   "cell_type": "code",
   "execution_count": 5,
   "metadata": {
    "ExecuteTime": {
     "end_time": "2020-06-22T02:47:48.726776Z",
     "start_time": "2020-06-22T02:47:48.720302Z"
    }
   },
   "outputs": [],
   "source": [
    "results_path = Path('results', 'fashion_mnist')\n",
    "if not results_path.exists():\n",
    "    results_path.mkdir(parents=True)"
   ]
  },
  {
   "cell_type": "markdown",
   "metadata": {
    "slideshow": {
     "slide_type": "slide"
    }
   },
   "source": [
    "## Fashion MNIST Data"
   ]
  },
  {
   "cell_type": "code",
   "execution_count": 6,
   "metadata": {
    "ExecuteTime": {
     "end_time": "2020-06-22T02:47:49.089272Z",
     "start_time": "2020-06-22T02:47:48.730364Z"
    }
   },
   "outputs": [],
   "source": [
    "(X_train, y_train), (X_test, y_test) = fashion_mnist.load_data()"
   ]
  },
  {
   "cell_type": "code",
   "execution_count": 7,
   "metadata": {
    "ExecuteTime": {
     "end_time": "2020-06-22T02:47:49.098871Z",
     "start_time": "2020-06-22T02:47:49.092813Z"
    }
   },
   "outputs": [
    {
     "data": {
      "text/plain": [
       "((60000, 28, 28), (10000, 28, 28))"
      ]
     },
     "execution_count": 7,
     "metadata": {},
     "output_type": "execute_result"
    }
   ],
   "source": [
    "X_train.shape, X_test.shape"
   ]
  },
  {
   "cell_type": "code",
   "execution_count": 8,
   "metadata": {
    "ExecuteTime": {
     "end_time": "2020-06-22T02:47:49.109197Z",
     "start_time": "2020-06-22T02:47:49.100666Z"
    }
   },
   "outputs": [],
   "source": [
    "class_dict = {0: 'T-shirt/top',\n",
    "              1: 'Trouser',\n",
    "              2: 'Pullover',\n",
    "              3: 'Dress',\n",
    "              4: 'Coat',\n",
    "              5: 'Sandal',\n",
    "              6: 'Shirt',\n",
    "              7: 'Sneaker',\n",
    "              8: 'Bag',\n",
    "              9: 'Ankle boot'}\n",
    "classes = list(class_dict.keys())"
   ]
  },
  {
   "cell_type": "markdown",
   "metadata": {
    "slideshow": {
     "slide_type": "subslide"
    }
   },
   "source": [
    "## Reshape & normalize Fashion MNIST data"
   ]
  },
  {
   "cell_type": "code",
   "execution_count": 9,
   "metadata": {
    "ExecuteTime": {
     "end_time": "2020-06-22T02:47:49.117191Z",
     "start_time": "2020-06-22T02:47:49.110944Z"
    }
   },
   "outputs": [],
   "source": [
    "image_size = 28"
   ]
  },
  {
   "cell_type": "code",
   "execution_count": 10,
   "metadata": {
    "ExecuteTime": {
     "end_time": "2020-06-22T02:47:49.128063Z",
     "start_time": "2020-06-22T02:47:49.118571Z"
    }
   },
   "outputs": [],
   "source": [
    "def data_prep_conv(x, size=image_size):\n",
    "    return x.reshape(-1, size, size, 1).astype('float32')/255"
   ]
  },
  {
   "cell_type": "code",
   "execution_count": 11,
   "metadata": {
    "ExecuteTime": {
     "end_time": "2020-06-22T02:47:49.193558Z",
     "start_time": "2020-06-22T02:47:49.130346Z"
    }
   },
   "outputs": [],
   "source": [
    "X_train_scaled = data_prep_conv(X_train)\n",
    "X_test_scaled = data_prep_conv(X_test)"
   ]
  },
  {
   "cell_type": "code",
   "execution_count": 12,
   "metadata": {
    "ExecuteTime": {
     "end_time": "2020-06-22T02:47:49.198434Z",
     "start_time": "2020-06-22T02:47:49.195133Z"
    }
   },
   "outputs": [
    {
     "data": {
      "text/plain": [
       "((60000, 28, 28, 1), (10000, 28, 28, 1))"
      ]
     },
     "execution_count": 12,
     "metadata": {},
     "output_type": "execute_result"
    }
   ],
   "source": [
    "X_train_scaled.shape, X_test_scaled.shape"
   ]
  },
  {
   "cell_type": "markdown",
   "metadata": {},
   "source": [
    "## Combine training steps into function"
   ]
  },
  {
   "cell_type": "code",
   "execution_count": 13,
   "metadata": {
    "ExecuteTime": {
     "end_time": "2020-06-22T02:47:49.210170Z",
     "start_time": "2020-06-22T02:47:49.199635Z"
    }
   },
   "outputs": [],
   "source": [
    "def train_autoencoder(path, model, x_train=X_train_scaled, x_test=X_test_scaled):\n",
    "    callbacks = [EarlyStopping(patience=5, restore_best_weights=True),\n",
    "                 ModelCheckpoint(filepath=path, save_best_only=True, save_weights_only=True)]\n",
    "    model.fit(x=x_train, y=x_train, epochs=100, validation_split=.1, callbacks=callbacks)\n",
    "    model.load_weights(path)\n",
    "    mse = model.evaluate(x=x_test, y=x_test)\n",
    "    return model, mse"
   ]
  },
  {
   "cell_type": "markdown",
   "metadata": {},
   "source": [
    "## Convolutional Autoencoder"
   ]
  },
  {
   "cell_type": "markdown",
   "metadata": {},
   "source": [
    "We define a three-layer encoder that uses 2D convolutions with 32, 16, and 8 filters, respectively, ReLU activations, and 'same' padding to maintain the input size. The resulting encoding size at the third layer is 4 x 4 x 8 = 128, higher than for the preceding examples:"
   ]
  },
  {
   "cell_type": "markdown",
   "metadata": {},
   "source": [
    "### 3-dim input"
   ]
  },
  {
   "cell_type": "code",
   "execution_count": 14,
   "metadata": {
    "ExecuteTime": {
     "end_time": "2020-06-22T02:47:49.224451Z",
     "start_time": "2020-06-22T02:47:49.212694Z"
    }
   },
   "outputs": [],
   "source": [
    "input_ = Input(shape=(28, 28, 1), name='Input_3D')"
   ]
  },
  {
   "cell_type": "markdown",
   "metadata": {},
   "source": [
    "### Encoding Layers"
   ]
  },
  {
   "cell_type": "code",
   "execution_count": 15,
   "metadata": {
    "ExecuteTime": {
     "end_time": "2020-06-22T02:47:49.866966Z",
     "start_time": "2020-06-22T02:47:49.225968Z"
    }
   },
   "outputs": [],
   "source": [
    "x = Conv2D(filters=32,\n",
    "           kernel_size=(3, 3),\n",
    "           activation='relu',\n",
    "           padding='same',\n",
    "           name='Encoding_Conv_1')(input_)\n",
    "x = MaxPooling2D(pool_size=(2, 2), padding='same', name='Encoding_Max_1')(x)\n",
    "x = Conv2D(filters=16,\n",
    "           kernel_size=(3, 3),\n",
    "           activation='relu',\n",
    "           padding='same',\n",
    "           name='Encoding_Conv_2')(x)\n",
    "x = MaxPooling2D(pool_size=(2, 2), padding='same', name='Encoding_Max_2')(x)\n",
    "x = Conv2D(filters=8,\n",
    "           kernel_size=(3, 3),\n",
    "           activation='relu',\n",
    "           padding='same',\n",
    "           name='Encoding_Conv_3')(x)\n",
    "encoded_conv = MaxPooling2D(pool_size=(2, 2),\n",
    "                            padding='same',\n",
    "                            name='Encoding_Max_3')(x)"
   ]
  },
  {
   "cell_type": "markdown",
   "metadata": {},
   "source": [
    "We also define a matching decoder that reverses the number of filters and uses 2D upsampling instead of max pooling to reverse the reduction of the filter sizes. The three-layer autoencoder has 12,785 parameters, a little more than 5% of the capacity of the preceding deep autoencoder."
   ]
  },
  {
   "cell_type": "code",
   "execution_count": 16,
   "metadata": {
    "ExecuteTime": {
     "end_time": "2020-06-22T02:47:49.927036Z",
     "start_time": "2020-06-22T02:47:49.868339Z"
    }
   },
   "outputs": [],
   "source": [
    "x = Conv2D(filters=8,\n",
    "           kernel_size=(3, 3),\n",
    "           activation='relu',\n",
    "           padding='same',\n",
    "           name='Decoding_Conv_1')(encoded_conv)\n",
    "x = UpSampling2D(size=(2, 2), name='Decoding_Upsample_1')(x)\n",
    "x = Conv2D(filters=16,\n",
    "           kernel_size=(3, 3),\n",
    "           activation='relu',\n",
    "           padding='same',\n",
    "           name='Decoding_Conv_2')(x)\n",
    "x = UpSampling2D(size=(2, 2), name='Decoding_Upsample_2')(x)\n",
    "x = Conv2D(filters=32,\n",
    "           kernel_size=(3, 3),\n",
    "           activation='relu',\n",
    "           name='Decoding_Conv_3')(x)\n",
    "x = UpSampling2D(size=(2, 2), name='Decoding_Upsample_3')(x)\n",
    "decoded_conv = Conv2D(filters=1,\n",
    "                      kernel_size=(3, 3),\n",
    "                      activation='sigmoid',\n",
    "                      padding='same',\n",
    "                      name='Decoding_Conv_4')(x)"
   ]
  },
  {
   "cell_type": "code",
   "execution_count": 17,
   "metadata": {
    "ExecuteTime": {
     "end_time": "2020-06-22T02:47:49.941728Z",
     "start_time": "2020-06-22T02:47:49.928361Z"
    }
   },
   "outputs": [],
   "source": [
    "autoencoder_conv = Model(input_, decoded_conv)\n",
    "autoencoder_conv.compile(optimizer='adam', loss='mse')"
   ]
  },
  {
   "cell_type": "code",
   "execution_count": 18,
   "metadata": {
    "ExecuteTime": {
     "end_time": "2020-06-22T02:47:49.957370Z",
     "start_time": "2020-06-22T02:47:49.946722Z"
    }
   },
   "outputs": [
    {
     "name": "stdout",
     "output_type": "stream",
     "text": [
      "Model: \"model\"\n",
      "_________________________________________________________________\n",
      "Layer (type)                 Output Shape              Param #   \n",
      "=================================================================\n",
      "Input_3D (InputLayer)        [(None, 28, 28, 1)]       0         \n",
      "_________________________________________________________________\n",
      "Encoding_Conv_1 (Conv2D)     (None, 28, 28, 32)        320       \n",
      "_________________________________________________________________\n",
      "Encoding_Max_1 (MaxPooling2D (None, 14, 14, 32)        0         \n",
      "_________________________________________________________________\n",
      "Encoding_Conv_2 (Conv2D)     (None, 14, 14, 16)        4624      \n",
      "_________________________________________________________________\n",
      "Encoding_Max_2 (MaxPooling2D (None, 7, 7, 16)          0         \n",
      "_________________________________________________________________\n",
      "Encoding_Conv_3 (Conv2D)     (None, 7, 7, 8)           1160      \n",
      "_________________________________________________________________\n",
      "Encoding_Max_3 (MaxPooling2D (None, 4, 4, 8)           0         \n",
      "_________________________________________________________________\n",
      "Decoding_Conv_1 (Conv2D)     (None, 4, 4, 8)           584       \n",
      "_________________________________________________________________\n",
      "Decoding_Upsample_1 (UpSampl (None, 8, 8, 8)           0         \n",
      "_________________________________________________________________\n",
      "Decoding_Conv_2 (Conv2D)     (None, 8, 8, 16)          1168      \n",
      "_________________________________________________________________\n",
      "Decoding_Upsample_2 (UpSampl (None, 16, 16, 16)        0         \n",
      "_________________________________________________________________\n",
      "Decoding_Conv_3 (Conv2D)     (None, 14, 14, 32)        4640      \n",
      "_________________________________________________________________\n",
      "Decoding_Upsample_3 (UpSampl (None, 28, 28, 32)        0         \n",
      "_________________________________________________________________\n",
      "Decoding_Conv_4 (Conv2D)     (None, 28, 28, 1)         289       \n",
      "=================================================================\n",
      "Total params: 12,785\n",
      "Trainable params: 12,785\n",
      "Non-trainable params: 0\n",
      "_________________________________________________________________\n"
     ]
    }
   ],
   "source": [
    "autoencoder_conv.summary()"
   ]
  },
  {
   "cell_type": "code",
   "execution_count": 19,
   "metadata": {
    "ExecuteTime": {
     "end_time": "2020-06-22T02:47:49.961870Z",
     "start_time": "2020-06-22T02:47:49.959474Z"
    }
   },
   "outputs": [],
   "source": [
    "path = (results_path / 'autencoder_conv.32.weights.hdf5').as_posix()"
   ]
  },
  {
   "cell_type": "code",
   "execution_count": 20,
   "metadata": {
    "ExecuteTime": {
     "end_time": "2020-06-22T02:57:29.447140Z",
     "start_time": "2020-06-22T02:47:49.963455Z"
    }
   },
   "outputs": [
    {
     "name": "stdout",
     "output_type": "stream",
     "text": [
      "Epoch 1/100\n",
      "1688/1688 [==============================] - 8s 5ms/step - loss: 0.0230 - val_loss: 0.0177\n",
      "Epoch 2/100\n",
      "1688/1688 [==============================] - 8s 5ms/step - loss: 0.0156 - val_loss: 0.0146\n",
      "Epoch 3/100\n",
      "1688/1688 [==============================] - 8s 5ms/step - loss: 0.0140 - val_loss: 0.0135\n",
      "Epoch 4/100\n",
      "1688/1688 [==============================] - 8s 5ms/step - loss: 0.0131 - val_loss: 0.0126\n",
      "Epoch 5/100\n",
      "1688/1688 [==============================] - 7s 4ms/step - loss: 0.0124 - val_loss: 0.0124\n",
      "Epoch 6/100\n",
      "1688/1688 [==============================] - 7s 4ms/step - loss: 0.0119 - val_loss: 0.0115\n",
      "Epoch 7/100\n",
      "1688/1688 [==============================] - 8s 5ms/step - loss: 0.0115 - val_loss: 0.0113\n",
      "Epoch 8/100\n",
      "1688/1688 [==============================] - 9s 5ms/step - loss: 0.0112 - val_loss: 0.0111\n",
      "Epoch 9/100\n",
      "1688/1688 [==============================] - 8s 4ms/step - loss: 0.0110 - val_loss: 0.0109\n",
      "Epoch 10/100\n",
      "1688/1688 [==============================] - 7s 4ms/step - loss: 0.0107 - val_loss: 0.0109\n",
      "Epoch 11/100\n",
      "1688/1688 [==============================] - 7s 4ms/step - loss: 0.0106 - val_loss: 0.0105\n",
      "Epoch 12/100\n",
      "1688/1688 [==============================] - 7s 4ms/step - loss: 0.0104 - val_loss: 0.0105\n",
      "Epoch 13/100\n",
      "1688/1688 [==============================] - 8s 5ms/step - loss: 0.0103 - val_loss: 0.0104\n",
      "Epoch 14/100\n",
      "1688/1688 [==============================] - 7s 4ms/step - loss: 0.0102 - val_loss: 0.0101\n",
      "Epoch 15/100\n",
      "1688/1688 [==============================] - 7s 4ms/step - loss: 0.0101 - val_loss: 0.0100\n",
      "Epoch 16/100\n",
      "1688/1688 [==============================] - 8s 5ms/step - loss: 0.0099 - val_loss: 0.0102\n",
      "Epoch 17/100\n",
      "1688/1688 [==============================] - 7s 4ms/step - loss: 0.0099 - val_loss: 0.0102\n",
      "Epoch 18/100\n",
      "1688/1688 [==============================] - 7s 4ms/step - loss: 0.0098 - val_loss: 0.0097\n",
      "Epoch 19/100\n",
      "1688/1688 [==============================] - 8s 5ms/step - loss: 0.0097 - val_loss: 0.0096\n",
      "Epoch 20/100\n",
      "1688/1688 [==============================] - 7s 4ms/step - loss: 0.0096 - val_loss: 0.0096\n",
      "Epoch 21/100\n",
      "1688/1688 [==============================] - 7s 4ms/step - loss: 0.0095 - val_loss: 0.0095\n",
      "Epoch 22/100\n",
      "1688/1688 [==============================] - 7s 4ms/step - loss: 0.0095 - val_loss: 0.0095\n",
      "Epoch 23/100\n",
      "1688/1688 [==============================] - 7s 4ms/step - loss: 0.0094 - val_loss: 0.0097\n",
      "Epoch 24/100\n",
      "1688/1688 [==============================] - 7s 4ms/step - loss: 0.0094 - val_loss: 0.0093\n",
      "Epoch 25/100\n",
      "1688/1688 [==============================] - 7s 4ms/step - loss: 0.0093 - val_loss: 0.0094\n",
      "Epoch 26/100\n",
      "1688/1688 [==============================] - 7s 4ms/step - loss: 0.0092 - val_loss: 0.0093\n",
      "Epoch 27/100\n",
      "1688/1688 [==============================] - 7s 4ms/step - loss: 0.0092 - val_loss: 0.0091\n",
      "Epoch 28/100\n",
      "1688/1688 [==============================] - 8s 5ms/step - loss: 0.0091 - val_loss: 0.0091\n",
      "Epoch 29/100\n",
      "1688/1688 [==============================] - 8s 5ms/step - loss: 0.0091 - val_loss: 0.0091\n",
      "Epoch 30/100\n",
      "1688/1688 [==============================] - 7s 4ms/step - loss: 0.0090 - val_loss: 0.0092\n",
      "Epoch 31/100\n",
      "1688/1688 [==============================] - 7s 4ms/step - loss: 0.0090 - val_loss: 0.0090\n",
      "Epoch 32/100\n",
      "1688/1688 [==============================] - 8s 5ms/step - loss: 0.0090 - val_loss: 0.0090\n",
      "Epoch 33/100\n",
      "1688/1688 [==============================] - 9s 5ms/step - loss: 0.0089 - val_loss: 0.0090\n",
      "Epoch 34/100\n",
      "1688/1688 [==============================] - 9s 5ms/step - loss: 0.0089 - val_loss: 0.0089\n",
      "Epoch 35/100\n",
      "1688/1688 [==============================] - 8s 5ms/step - loss: 0.0089 - val_loss: 0.0088\n",
      "Epoch 36/100\n",
      "1688/1688 [==============================] - 8s 5ms/step - loss: 0.0088 - val_loss: 0.0089\n",
      "Epoch 37/100\n",
      "1688/1688 [==============================] - 8s 5ms/step - loss: 0.0088 - val_loss: 0.0089\n",
      "Epoch 38/100\n",
      "1688/1688 [==============================] - 9s 5ms/step - loss: 0.0088 - val_loss: 0.0087\n",
      "Epoch 39/100\n",
      "1688/1688 [==============================] - 8s 5ms/step - loss: 0.0087 - val_loss: 0.0090\n",
      "Epoch 40/100\n",
      "1688/1688 [==============================] - 8s 5ms/step - loss: 0.0087 - val_loss: 0.0091\n",
      "Epoch 41/100\n",
      "1688/1688 [==============================] - 8s 5ms/step - loss: 0.0087 - val_loss: 0.0089\n",
      "Epoch 42/100\n",
      "1688/1688 [==============================] - 8s 5ms/step - loss: 0.0087 - val_loss: 0.0088\n",
      "Epoch 43/100\n",
      "1688/1688 [==============================] - 8s 5ms/step - loss: 0.0086 - val_loss: 0.0086\n",
      "Epoch 44/100\n",
      "1688/1688 [==============================] - 8s 5ms/step - loss: 0.0086 - val_loss: 0.0088\n",
      "Epoch 45/100\n",
      "1688/1688 [==============================] - 8s 5ms/step - loss: 0.0086 - val_loss: 0.0087\n",
      "Epoch 46/100\n",
      "1688/1688 [==============================] - 8s 5ms/step - loss: 0.0086 - val_loss: 0.0086\n",
      "Epoch 47/100\n",
      "1688/1688 [==============================] - 7s 4ms/step - loss: 0.0086 - val_loss: 0.0085\n",
      "Epoch 48/100\n",
      "1688/1688 [==============================] - 7s 4ms/step - loss: 0.0085 - val_loss: 0.0086\n",
      "Epoch 49/100\n",
      "1688/1688 [==============================] - 7s 4ms/step - loss: 0.0085 - val_loss: 0.0088\n",
      "Epoch 50/100\n",
      "1688/1688 [==============================] - 7s 4ms/step - loss: 0.0085 - val_loss: 0.0087\n",
      "Epoch 51/100\n",
      "1688/1688 [==============================] - 7s 4ms/step - loss: 0.0085 - val_loss: 0.0085\n",
      "Epoch 52/100\n",
      "1688/1688 [==============================] - 8s 4ms/step - loss: 0.0085 - val_loss: 0.0085\n",
      "Epoch 53/100\n",
      "1688/1688 [==============================] - 8s 5ms/step - loss: 0.0084 - val_loss: 0.0085\n",
      "Epoch 54/100\n",
      "1688/1688 [==============================] - 8s 5ms/step - loss: 0.0084 - val_loss: 0.0085\n",
      "Epoch 55/100\n",
      "1688/1688 [==============================] - 8s 5ms/step - loss: 0.0084 - val_loss: 0.0086\n",
      "Epoch 56/100\n",
      "1688/1688 [==============================] - 7s 4ms/step - loss: 0.0084 - val_loss: 0.0085\n",
      "Epoch 57/100\n",
      "1688/1688 [==============================] - 7s 4ms/step - loss: 0.0084 - val_loss: 0.0084\n",
      "Epoch 58/100\n",
      "1688/1688 [==============================] - 8s 5ms/step - loss: 0.0084 - val_loss: 0.0084\n",
      "Epoch 59/100\n",
      "1688/1688 [==============================] - 9s 5ms/step - loss: 0.0083 - val_loss: 0.0084\n",
      "Epoch 60/100\n",
      "1688/1688 [==============================] - 7s 4ms/step - loss: 0.0083 - val_loss: 0.0087\n",
      "Epoch 61/100\n",
      "1688/1688 [==============================] - 7s 4ms/step - loss: 0.0083 - val_loss: 0.0088\n",
      "Epoch 62/100\n",
      "1688/1688 [==============================] - 7s 4ms/step - loss: 0.0083 - val_loss: 0.0088\n",
      "Epoch 63/100\n",
      "1688/1688 [==============================] - 7s 4ms/step - loss: 0.0083 - val_loss: 0.0084\n",
      "Epoch 64/100\n",
      "1688/1688 [==============================] - 7s 4ms/step - loss: 0.0083 - val_loss: 0.0083\n",
      "Epoch 65/100\n",
      "1688/1688 [==============================] - 7s 4ms/step - loss: 0.0083 - val_loss: 0.0082\n",
      "Epoch 66/100\n",
      "1688/1688 [==============================] - 8s 5ms/step - loss: 0.0082 - val_loss: 0.0083\n",
      "Epoch 67/100\n",
      "1688/1688 [==============================] - 7s 4ms/step - loss: 0.0082 - val_loss: 0.0082\n",
      "Epoch 68/100\n",
      "1688/1688 [==============================] - 7s 4ms/step - loss: 0.0082 - val_loss: 0.0083\n",
      "Epoch 69/100\n",
      "1688/1688 [==============================] - 7s 4ms/step - loss: 0.0082 - val_loss: 0.0083\n",
      "Epoch 70/100\n",
      "1688/1688 [==============================] - 8s 5ms/step - loss: 0.0082 - val_loss: 0.0082\n",
      "Epoch 71/100\n",
      "1688/1688 [==============================] - 8s 5ms/step - loss: 0.0082 - val_loss: 0.0082\n",
      "Epoch 72/100\n",
      "1688/1688 [==============================] - 7s 4ms/step - loss: 0.0082 - val_loss: 0.0086\n",
      "Epoch 73/100\n",
      "1688/1688 [==============================] - 7s 4ms/step - loss: 0.0082 - val_loss: 0.0082\n",
      "Epoch 74/100\n",
      "1688/1688 [==============================] - 7s 4ms/step - loss: 0.0082 - val_loss: 0.0082\n",
      "Epoch 75/100\n",
      "1688/1688 [==============================] - 8s 4ms/step - loss: 0.0081 - val_loss: 0.0083\n",
      "313/313 [==============================] - 1s 2ms/step - loss: 0.0082\n"
     ]
    }
   ],
   "source": [
    "autoencoder_deep, mse = train_autoencoder(path, \n",
    "                                          autoencoder_conv, \n",
    "                                          x_train=X_train_scaled, \n",
    "                                          x_test=X_test_scaled)"
   ]
  },
  {
   "cell_type": "markdown",
   "metadata": {},
   "source": [
    "Training stops after 75 epochs and results in a further 9% reduction of the test RMSE, due to a combination of the ability of convolutional filters to learn more efficiently from image data and the larger encoding size."
   ]
  },
  {
   "cell_type": "code",
   "execution_count": 21,
   "metadata": {
    "ExecuteTime": {
     "end_time": "2020-06-22T02:57:29.463299Z",
     "start_time": "2020-06-22T02:57:29.452721Z"
    }
   },
   "outputs": [
    {
     "data": {
      "text/plain": [
       "'MSE: 0.0082 | RMSE 0.0905'"
      ]
     },
     "execution_count": 21,
     "metadata": {},
     "output_type": "execute_result"
    }
   ],
   "source": [
    "f'MSE: {mse:.4f} | RMSE {mse**.5:.4f}'"
   ]
  },
  {
   "cell_type": "code",
   "execution_count": 22,
   "metadata": {
    "ExecuteTime": {
     "end_time": "2020-06-22T02:57:29.491041Z",
     "start_time": "2020-06-22T02:57:29.468776Z"
    }
   },
   "outputs": [],
   "source": [
    "autoencoder_conv.load_weights(path)"
   ]
  },
  {
   "cell_type": "code",
   "execution_count": 23,
   "metadata": {
    "ExecuteTime": {
     "end_time": "2020-06-22T02:57:30.008107Z",
     "start_time": "2020-06-22T02:57:29.492777Z"
    }
   },
   "outputs": [
    {
     "data": {
      "text/plain": [
       "(10000, 28, 28, 1)"
      ]
     },
     "execution_count": 23,
     "metadata": {},
     "output_type": "execute_result"
    }
   ],
   "source": [
    "reconstructed_images = autoencoder_deep.predict(X_test_scaled)\n",
    "reconstructed_images.shape"
   ]
  },
  {
   "cell_type": "code",
   "execution_count": 24,
   "metadata": {
    "ExecuteTime": {
     "end_time": "2020-06-22T02:57:32.423988Z",
     "start_time": "2020-06-22T02:57:30.010508Z"
    }
   },
   "outputs": [
    {
     "data": {
      "image/png": "[encoded data removed]",
      "text/plain": [
       "<Figure size 1440x288 with 20 Axes>"
      ]
     },
     "metadata": {},
     "output_type": "display_data"
    }
   ],
   "source": [
    "fig, axes = plt.subplots(ncols=n_classes, nrows=2, figsize=(20, 4))\n",
    "for i in range(n_classes):\n",
    "    \n",
    "    axes[0, i].imshow(X_test_scaled[i].reshape(image_size, image_size), cmap='gray')\n",
    "    axes[0, i].axis('off')\n",
    "\n",
    "    axes[1, i].imshow(reconstructed_images[i].reshape(image_size, image_size) , cmap='gray')\n",
    "    axes[1, i].axis('off')"
   ]
  },
  {
   "cell_type": "markdown",
   "metadata": {},
   "source": [
    "## Denoising Autoencoder"
   ]
  },
  {
   "cell_type": "markdown",
   "metadata": {},
   "source": [
    "The application of an autoencoder to a denoising task only affects the training stage. In this example, we add noise to the Fashion MNIST data from a standard normal distribution while maintaining the pixel values in the range of [0, 1], as follows:"
   ]
  },
  {
   "cell_type": "code",
   "execution_count": 25,
   "metadata": {
    "ExecuteTime": {
     "end_time": "2020-06-22T02:57:32.428120Z",
     "start_time": "2020-06-22T02:57:32.425511Z"
    }
   },
   "outputs": [],
   "source": [
    "def add_noise(x, noise_factor=.3):\n",
    "    return np.clip(x  + noise_factor * np.random.normal(size=x.shape), 0, 1)"
   ]
  },
  {
   "cell_type": "code",
   "execution_count": 26,
   "metadata": {
    "ExecuteTime": {
     "end_time": "2020-06-22T02:57:34.595748Z",
     "start_time": "2020-06-22T02:57:32.429551Z"
    }
   },
   "outputs": [],
   "source": [
    "X_train_noisy = add_noise(X_train_scaled)\n",
    "X_test_noisy = add_noise(X_test_scaled)"
   ]
  },
  {
   "cell_type": "code",
   "execution_count": 27,
   "metadata": {
    "ExecuteTime": {
     "end_time": "2020-06-22T02:57:36.041600Z",
     "start_time": "2020-06-22T02:57:34.599138Z"
    }
   },
   "outputs": [
    {
     "data": {
      "image/png": "[encoded data removed]",
      "text/plain": [
       "<Figure size 1440x288 with 10 Axes>"
      ]
     },
     "metadata": {},
     "output_type": "display_data"
    }
   ],
   "source": [
    "fig, axes = plt.subplots(nrows=2, ncols=5, figsize=(20, 4))\n",
    "axes = axes.flatten()\n",
    "for i, ax in enumerate(axes):\n",
    "    ax.imshow(X_test_noisy[i].reshape(28, 28), cmap='gray')\n",
    "    ax.axis('off')"
   ]
  },
  {
   "cell_type": "code",
   "execution_count": 28,
   "metadata": {
    "ExecuteTime": {
     "end_time": "2020-06-22T02:57:36.073794Z",
     "start_time": "2020-06-22T02:57:36.043445Z"
    }
   },
   "outputs": [],
   "source": [
    "x = Conv2D(filters=32, kernel_size=(3, 3), activation='relu', padding='same', name='Encoding_Conv_1')(input_)\n",
    "x = MaxPooling2D(pool_size=(2, 2), padding='same', name='Encoding_Max_1')(x)\n",
    "x = Conv2D(filters=32, kernel_size=(3, 3), activation='relu', padding='same', name='Encoding_Conv_2')(x)\n",
    "encoded_conv = MaxPooling2D(pool_size=(2, 2), padding='same', name='Encoding_Max_3')(x)"
   ]
  },
  {
   "cell_type": "code",
   "execution_count": 29,
   "metadata": {
    "ExecuteTime": {
     "end_time": "2020-06-22T02:57:36.126251Z",
     "start_time": "2020-06-22T02:57:36.075267Z"
    }
   },
   "outputs": [],
   "source": [
    "x = Conv2D(filters=32, kernel_size=(3, 3), activation='relu', padding='same', name='Decoding_Conv_1')(encoded_conv)\n",
    "x = UpSampling2D(size=(2, 2), name='Decoding_Upsample_1')(x)\n",
    "x = Conv2D(filters=32, kernel_size=(3, 3), activation='relu', padding='same', name='Decoding_Conv_2')(x)\n",
    "x = UpSampling2D(size=(2, 2), name='Decoding_Upsample_2')(x)\n",
    "decoded_conv = Conv2D(filters=1, kernel_size=(3, 3), activation='sigmoid', padding='same', name='Decoding_Conv_4')(x)"
   ]
  },
  {
   "cell_type": "code",
   "execution_count": 30,
   "metadata": {
    "ExecuteTime": {
     "end_time": "2020-06-22T02:57:36.142916Z",
     "start_time": "2020-06-22T02:57:36.128228Z"
    }
   },
   "outputs": [],
   "source": [
    "autoencoder_denoise = Model(input_, decoded_conv)\n",
    "autoencoder_denoise.compile(optimizer='adam', loss='mse')"
   ]
  },
  {
   "cell_type": "code",
   "execution_count": 35,
   "metadata": {
    "ExecuteTime": {
     "end_time": "2020-06-22T02:58:38.907400Z",
     "start_time": "2020-06-22T02:58:38.905536Z"
    }
   },
   "outputs": [],
   "source": [
    "path = (results_path / 'autencoder_denoise.32.weights.hdf5').as_posix()"
   ]
  },
  {
   "cell_type": "code",
   "execution_count": 36,
   "metadata": {
    "ExecuteTime": {
     "end_time": "2020-06-22T02:58:39.227529Z",
     "start_time": "2020-06-22T02:58:39.225034Z"
    }
   },
   "outputs": [],
   "source": [
    "callbacks = [EarlyStopping(patience=5,\n",
    "                           restore_best_weights=True),\n",
    "             ModelCheckpoint(filepath=path,\n",
    "                             save_best_only=True,\n",
    "                             save_weights_only=True)]"
   ]
  },
  {
   "cell_type": "markdown",
   "metadata": {},
   "source": [
    "We then proceed to train the convolutional autoencoder on noisy input with the objective to learn how to generate the uncorrupted originals:"
   ]
  },
  {
   "cell_type": "code",
   "execution_count": 37,
   "metadata": {
    "ExecuteTime": {
     "end_time": "2020-06-22T03:01:25.286960Z",
     "start_time": "2020-06-22T02:58:39.957845Z"
    }
   },
   "outputs": [
    {
     "name": "stdout",
     "output_type": "stream",
     "text": [
      "Epoch 1/100\n",
      "422/422 [==============================] - 2s 6ms/step - loss: 0.0095 - val_loss: 0.0094\n",
      "Epoch 2/100\n",
      "422/422 [==============================] - 2s 6ms/step - loss: 0.0094 - val_loss: 0.0095\n",
      "Epoch 3/100\n",
      "422/422 [==============================] - 2s 6ms/step - loss: 0.0093 - val_loss: 0.0093\n",
      "Epoch 4/100\n",
      "422/422 [==============================] - 2s 6ms/step - loss: 0.0093 - val_loss: 0.0092\n",
      "Epoch 5/100\n",
      "422/422 [==============================] - 2s 6ms/step - loss: 0.0092 - val_loss: 0.0092\n",
      "Epoch 6/100\n",
      "422/422 [==============================] - 2s 6ms/step - loss: 0.0092 - val_loss: 0.0093\n",
      "Epoch 7/100\n",
      "422/422 [==============================] - 2s 6ms/step - loss: 0.0091 - val_loss: 0.0091\n",
      "Epoch 8/100\n",
      "422/422 [==============================] - 2s 6ms/step - loss: 0.0091 - val_loss: 0.0091\n",
      "Epoch 9/100\n",
      "422/422 [==============================] - 2s 6ms/step - loss: 0.0090 - val_loss: 0.0090\n",
      "Epoch 10/100\n",
      "422/422 [==============================] - 2s 6ms/step - loss: 0.0090 - val_loss: 0.0090\n",
      "Epoch 11/100\n",
      "422/422 [==============================] - 2s 6ms/step - loss: 0.0090 - val_loss: 0.0090\n",
      "Epoch 12/100\n",
      "422/422 [==============================] - 2s 6ms/step - loss: 0.0089 - val_loss: 0.0090\n",
      "Epoch 13/100\n",
      "422/422 [==============================] - 2s 6ms/step - loss: 0.0089 - val_loss: 0.0089\n",
      "Epoch 14/100\n",
      "422/422 [==============================] - 2s 6ms/step - loss: 0.0089 - val_loss: 0.0090\n",
      "Epoch 15/100\n",
      "422/422 [==============================] - 2s 6ms/step - loss: 0.0088 - val_loss: 0.0089\n",
      "Epoch 16/100\n",
      "422/422 [==============================] - 2s 6ms/step - loss: 0.0088 - val_loss: 0.0089\n",
      "Epoch 17/100\n",
      "422/422 [==============================] - 2s 6ms/step - loss: 0.0088 - val_loss: 0.0089\n",
      "Epoch 18/100\n",
      "422/422 [==============================] - 2s 6ms/step - loss: 0.0088 - val_loss: 0.0088\n",
      "Epoch 19/100\n",
      "422/422 [==============================] - 2s 6ms/step - loss: 0.0088 - val_loss: 0.0088\n",
      "Epoch 20/100\n",
      "422/422 [==============================] - 2s 6ms/step - loss: 0.0087 - val_loss: 0.0089\n",
      "Epoch 21/100\n",
      "422/422 [==============================] - 2s 6ms/step - loss: 0.0087 - val_loss: 0.0087\n",
      "Epoch 22/100\n",
      "422/422 [==============================] - 2s 6ms/step - loss: 0.0087 - val_loss: 0.0088\n",
      "Epoch 23/100\n",
      "422/422 [==============================] - 2s 6ms/step - loss: 0.0087 - val_loss: 0.0087\n",
      "Epoch 24/100\n",
      "422/422 [==============================] - 2s 6ms/step - loss: 0.0087 - val_loss: 0.0087\n",
      "Epoch 25/100\n",
      "422/422 [==============================] - 2s 6ms/step - loss: 0.0087 - val_loss: 0.0087\n",
      "Epoch 26/100\n",
      "422/422 [==============================] - 2s 6ms/step - loss: 0.0087 - val_loss: 0.0087\n",
      "Epoch 27/100\n",
      "422/422 [==============================] - 2s 6ms/step - loss: 0.0086 - val_loss: 0.0087\n",
      "Epoch 28/100\n",
      "422/422 [==============================] - 2s 6ms/step - loss: 0.0086 - val_loss: 0.0088\n",
      "Epoch 29/100\n",
      "422/422 [==============================] - 2s 6ms/step - loss: 0.0086 - val_loss: 0.0088\n",
      "Epoch 30/100\n",
      "422/422 [==============================] - 2s 6ms/step - loss: 0.0086 - val_loss: 0.0087\n",
      "Epoch 31/100\n",
      "422/422 [==============================] - 2s 6ms/step - loss: 0.0086 - val_loss: 0.0087\n",
      "Epoch 32/100\n",
      "422/422 [==============================] - 2s 6ms/step - loss: 0.0086 - val_loss: 0.0086\n",
      "Epoch 33/100\n",
      "422/422 [==============================] - 2s 6ms/step - loss: 0.0086 - val_loss: 0.0086\n",
      "Epoch 34/100\n",
      "422/422 [==============================] - 2s 6ms/step - loss: 0.0086 - val_loss: 0.0086\n",
      "Epoch 35/100\n",
      "422/422 [==============================] - 2s 6ms/step - loss: 0.0086 - val_loss: 0.0086\n",
      "Epoch 36/100\n",
      "422/422 [==============================] - 2s 6ms/step - loss: 0.0085 - val_loss: 0.0087\n",
      "Epoch 37/100\n",
      "422/422 [==============================] - 2s 6ms/step - loss: 0.0085 - val_loss: 0.0087\n",
      "Epoch 38/100\n",
      "422/422 [==============================] - 2s 6ms/step - loss: 0.0085 - val_loss: 0.0086\n",
      "Epoch 39/100\n",
      "422/422 [==============================] - 2s 6ms/step - loss: 0.0085 - val_loss: 0.0086\n",
      "Epoch 40/100\n",
      "422/422 [==============================] - 2s 6ms/step - loss: 0.0085 - val_loss: 0.0087\n",
      "Epoch 41/100\n",
      "422/422 [==============================] - 2s 6ms/step - loss: 0.0085 - val_loss: 0.0086\n",
      "Epoch 42/100\n",
      "422/422 [==============================] - 2s 6ms/step - loss: 0.0085 - val_loss: 0.0085\n",
      "Epoch 43/100\n",
      "422/422 [==============================] - 2s 6ms/step - loss: 0.0085 - val_loss: 0.0086\n",
      "Epoch 44/100\n",
      "422/422 [==============================] - 2s 6ms/step - loss: 0.0085 - val_loss: 0.0085\n",
      "Epoch 45/100\n",
      "422/422 [==============================] - 2s 6ms/step - loss: 0.0085 - val_loss: 0.0086\n",
      "Epoch 46/100\n",
      "422/422 [==============================] - 2s 6ms/step - loss: 0.0085 - val_loss: 0.0085\n",
      "Epoch 47/100\n",
      "422/422 [==============================] - 2s 6ms/step - loss: 0.0085 - val_loss: 0.0086\n",
      "Epoch 48/100\n",
      "422/422 [==============================] - 2s 6ms/step - loss: 0.0085 - val_loss: 0.0085\n",
      "Epoch 49/100\n",
      "422/422 [==============================] - 2s 6ms/step - loss: 0.0085 - val_loss: 0.0085\n",
      "Epoch 50/100\n",
      "422/422 [==============================] - 2s 6ms/step - loss: 0.0085 - val_loss: 0.0085\n",
      "Epoch 51/100\n",
      "422/422 [==============================] - 2s 6ms/step - loss: 0.0085 - val_loss: 0.0085\n",
      "Epoch 52/100\n",
      "422/422 [==============================] - 2s 6ms/step - loss: 0.0084 - val_loss: 0.0085\n",
      "Epoch 53/100\n",
      "422/422 [==============================] - 2s 6ms/step - loss: 0.0084 - val_loss: 0.0085\n",
      "Epoch 54/100\n",
      "422/422 [==============================] - 3s 6ms/step - loss: 0.0084 - val_loss: 0.0087\n",
      "Epoch 55/100\n",
      "422/422 [==============================] - 2s 6ms/step - loss: 0.0084 - val_loss: 0.0085\n",
      "Epoch 56/100\n",
      "422/422 [==============================] - 2s 6ms/step - loss: 0.0084 - val_loss: 0.0085\n",
      "Epoch 57/100\n",
      "422/422 [==============================] - 2s 6ms/step - loss: 0.0084 - val_loss: 0.0085\n",
      "Epoch 58/100\n",
      "422/422 [==============================] - 2s 6ms/step - loss: 0.0084 - val_loss: 0.0085\n",
      "Epoch 59/100\n",
      "422/422 [==============================] - 2s 6ms/step - loss: 0.0084 - val_loss: 0.0085\n",
      "Epoch 60/100\n",
      "422/422 [==============================] - 3s 6ms/step - loss: 0.0084 - val_loss: 0.0085\n",
      "Epoch 61/100\n",
      "422/422 [==============================] - 3s 6ms/step - loss: 0.0084 - val_loss: 0.0085\n",
      "Epoch 62/100\n",
      "422/422 [==============================] - 2s 6ms/step - loss: 0.0084 - val_loss: 0.0084\n",
      "Epoch 63/100\n",
      "422/422 [==============================] - 2s 6ms/step - loss: 0.0084 - val_loss: 0.0086\n",
      "Epoch 64/100\n",
      "422/422 [==============================] - 2s 6ms/step - loss: 0.0084 - val_loss: 0.0085\n",
      "Epoch 65/100\n",
      "422/422 [==============================] - 2s 6ms/step - loss: 0.0084 - val_loss: 0.0085\n",
      "Epoch 66/100\n",
      "422/422 [==============================] - 2s 6ms/step - loss: 0.0084 - val_loss: 0.0085\n",
      "Epoch 67/100\n",
      "422/422 [==============================] - 2s 6ms/step - loss: 0.0084 - val_loss: 0.0084\n"
     ]
    },
    {
     "data": {
      "text/plain": [
       "<tensorflow.python.keras.callbacks.History at 0x7f2b70074910>"
      ]
     },
     "execution_count": 37,
     "metadata": {},
     "output_type": "execute_result"
    }
   ],
   "source": [
    "autoencoder_denoise.fit(x=X_train_noisy,\n",
    "                        y=X_train_scaled,\n",
    "                        epochs=100,\n",
    "                        batch_size=128,\n",
    "                        shuffle=True,\n",
    "                        validation_split=.1,\n",
    "                        callbacks=callbacks)"
   ]
  },
  {
   "cell_type": "code",
   "execution_count": 38,
   "metadata": {
    "ExecuteTime": {
     "end_time": "2020-06-22T03:01:35.470518Z",
     "start_time": "2020-06-22T03:01:35.453553Z"
    }
   },
   "outputs": [],
   "source": [
    "autoencoder_denoise.load_weights(path)"
   ]
  },
  {
   "cell_type": "code",
   "execution_count": 39,
   "metadata": {
    "ExecuteTime": {
     "end_time": "2020-06-22T03:01:36.600617Z",
     "start_time": "2020-06-22T03:01:35.823029Z"
    }
   },
   "outputs": [
    {
     "name": "stdout",
     "output_type": "stream",
     "text": [
      "313/313 [==============================] - 1s 2ms/step - loss: 0.0085\n"
     ]
    },
    {
     "data": {
      "text/plain": [
       "'MSE: 0.0085 | RMSE 0.0921'"
      ]
     },
     "execution_count": 39,
     "metadata": {},
     "output_type": "execute_result"
    }
   ],
   "source": [
    "mse = autoencoder_denoise.evaluate(x=X_test_noisy, y=X_test_scaled)\n",
    "f'MSE: {mse:.4f} | RMSE {mse**.5:.4f}'"
   ]
  },
  {
   "cell_type": "markdown",
   "metadata": {},
   "source": [
    "## Visualize Reconstructed Images"
   ]
  },
  {
   "cell_type": "markdown",
   "metadata": {},
   "source": [
    "The following figure shows, from top to bottom, the original images as well as the noisy and denoised versions. It illustrates that the autoencoder is successful in producing compressed encodings from the noisy images that are quite similar to those produced from the original images:"
   ]
  },
  {
   "cell_type": "code",
   "execution_count": 40,
   "metadata": {
    "ExecuteTime": {
     "end_time": "2020-06-22T03:01:39.086642Z",
     "start_time": "2020-06-22T03:01:38.769902Z"
    }
   },
   "outputs": [
    {
     "data": {
      "text/plain": [
       "(10000, 28, 28, 1)"
      ]
     },
     "execution_count": 40,
     "metadata": {},
     "output_type": "execute_result"
    }
   ],
   "source": [
    "reconstructed_images = autoencoder_denoise.predict(X_test_noisy)\n",
    "reconstructed_images.shape"
   ]
  },
  {
   "cell_type": "code",
   "execution_count": 41,
   "metadata": {
    "ExecuteTime": {
     "end_time": "2020-06-22T03:01:44.687016Z",
     "start_time": "2020-06-22T03:01:39.131108Z"
    }
   },
   "outputs": [
    {
     "data": {
      "image/png": "[encoded data removed]",
      "text/plain": [
       "<Figure size 1440x432 with 30 Axes>"
      ]
     },
     "metadata": {},
     "output_type": "display_data"
    }
   ],
   "source": [
    "fig, axes = plt.subplots(ncols=n_classes, nrows=3, figsize=(20, 6))\n",
    "for i in range(n_classes):\n",
    "    axes[0, i].imshow(X_test[i].reshape(image_size, image_size), cmap='gray')\n",
    "    axes[0, i].axis('off')\n",
    "    \n",
    "    axes[1, i].imshow(X_test_noisy[i].reshape(image_size, image_size), cmap='gray')\n",
    "    axes[1, i].axis('off')\n",
    "\n",
    "    axes[2, i].imshow(reconstructed_images[i].reshape(image_size, image_size) , cmap='gray')\n",
    "    axes[2, i].axis('off')\n",
    "fig.suptitle('Originals, Corrupted and Reconstructed Images', fontsize=20)\n",
    "fig.tight_layout()\n",
    "fig.subplots_adjust(top=.9)\n",
    "fig.savefig(results_path / 'autoencoder_denoising', dpi=300)"
   ]
  }
 ],
 "metadata": {
  "kernelspec": {
   "display_name": "Python [conda env:ml4t-dl]",
   "language": "python",
   "name": "conda-env-ml4t-dl-py"
  },
  "language_info": {
   "codemirror_mode": {
    "name": "ipython",
    "version": 3
   },
   "file_extension": ".py",
   "mimetype": "text/x-python",
   "name": "python",
   "nbconvert_exporter": "python",
   "pygments_lexer": "ipython3",
   "version": "3.7.7"
  },
  "toc": {
   "base_numbering": 1,
   "nav_menu": {},
   "number_sections": true,
   "sideBar": true,
   "skip_h1_title": true,
   "title_cell": "Table of Contents",
   "title_sidebar": "Contents",
   "toc_cell": false,
   "toc_position": {},
   "toc_section_display": true,
   "toc_window_display": true
  }
 },
 "nbformat": 4,
 "nbformat_minor": 4
}
