{
 "cells": [
  {
   "cell_type": "markdown",
   "metadata": {},
   "source": [
    "# Conditional Autoencoder for Asset Pricing - Data Preparation"
   ]
  },
  {
   "cell_type": "code",
   "execution_count": 1,
   "metadata": {
    "ExecuteTime": {
     "end_time": "2020-06-22T14:15:28.261069Z",
     "start_time": "2020-06-22T14:15:27.707077Z"
    }
   },
   "outputs": [],
   "source": [
    "from pathlib import Path\n",
    "\n",
    "import numpy as np\n",
    "import pandas as pd\n",
    "\n",
    "from statsmodels.regression.rolling import RollingOLS\n",
    "import statsmodels.api as sm\n",
    "import matplotlib.pyplot as plt\n",
    "import seaborn as sns\n"
   ]
  },
  {
   "cell_type": "code",
   "execution_count": 2,
   "metadata": {
    "ExecuteTime": {
     "end_time": "2020-06-22T14:15:28.263990Z",
     "start_time": "2020-06-22T14:15:28.262126Z"
    }
   },
   "outputs": [],
   "source": [
    "idx = pd.IndexSlice\n",
    "sns.set_style('whitegrid')"
   ]
  },
  {
   "cell_type": "code",
   "execution_count": 3,
   "metadata": {
    "ExecuteTime": {
     "end_time": "2020-06-22T14:15:28.278110Z",
     "start_time": "2020-06-22T14:15:28.265032Z"
    }
   },
   "outputs": [],
   "source": [
    "results_path = Path('results', 'asset_pricing')\n",
    "if not results_path.exists():\n",
    "    results_path.mkdir(parents=True)"
   ]
  },
  {
   "cell_type": "markdown",
   "metadata": {},
   "source": [
    "## Load Data"
   ]
  },
  {
   "cell_type": "markdown",
   "metadata": {},
   "source": [
    "### Prices"
   ]
  },
  {
   "cell_type": "code",
   "execution_count": 4,
   "metadata": {
    "ExecuteTime": {
     "end_time": "2020-06-22T14:15:28.701443Z",
     "start_time": "2020-06-22T14:15:28.278914Z"
    }
   },
   "outputs": [],
   "source": [
    "prices = pd.read_hdf(results_path / 'data.h5', 'stocks/prices/adjusted')"
   ]
  },
  {
   "cell_type": "code",
   "execution_count": 5,
   "metadata": {
    "ExecuteTime": {
     "end_time": "2020-06-22T14:15:29.022795Z",
     "start_time": "2020-06-22T14:15:28.702378Z"
    }
   },
   "outputs": [
    {
     "name": "stdout",
     "output_type": "stream",
     "text": [
      "<class 'pandas.core.frame.DataFrame'>\n",
      "MultiIndex: 18229815 entries, ('A', Timestamp('1999-11-18 00:00:00')) to ('ZYXI', Timestamp('2019-12-31 00:00:00'))\n",
      "Data columns (total 5 columns):\n",
      " #   Column  Non-Null Count     Dtype  \n",
      "---  ------  --------------     -----  \n",
      " 0   close   18229815 non-null  float64\n",
      " 1   high    18229815 non-null  float64\n",
      " 2   low     18229815 non-null  float64\n",
      " 3   open    18229815 non-null  float64\n",
      " 4   volume  18229815 non-null  float64\n",
      "dtypes: float64(5)\n",
      "memory usage: 765.9+ MB\n"
     ]
    }
   ],
   "source": [
    "prices.info(null_counts=True)"
   ]
  },
  {
   "cell_type": "markdown",
   "metadata": {},
   "source": [
    "### Metadata"
   ]
  },
  {
   "cell_type": "code",
   "execution_count": 6,
   "metadata": {
    "ExecuteTime": {
     "end_time": "2020-06-22T14:15:29.108821Z",
     "start_time": "2020-06-22T14:15:29.023650Z"
    }
   },
   "outputs": [],
   "source": [
    "metadata = pd.read_hdf(results_path / 'data.h5', 'stocks/info').rename(columns=str.lower)"
   ]
  },
  {
   "cell_type": "code",
   "execution_count": 7,
   "metadata": {
    "ExecuteTime": {
     "end_time": "2020-06-22T14:15:29.115258Z",
     "start_time": "2020-06-22T14:15:29.110250Z"
    }
   },
   "outputs": [
    {
     "name": "stdout",
     "output_type": "stream",
     "text": [
      "<class 'pandas.core.frame.DataFrame'>\n",
      "Index: 4288 entries, A to ZYNE\n",
      "Columns: 105 entries, zip to underlyingsymbol\n",
      "dtypes: bool(2), float64(68), int64(7), object(28)\n",
      "memory usage: 3.4+ MB\n"
     ]
    }
   ],
   "source": [
    "metadata.info()"
   ]
  },
  {
   "cell_type": "markdown",
   "metadata": {},
   "source": [
    "### Select tickers with metadata"
   ]
  },
  {
   "cell_type": "code",
   "execution_count": 8,
   "metadata": {
    "ExecuteTime": {
     "end_time": "2020-06-22T14:15:29.126507Z",
     "start_time": "2020-06-22T14:15:29.116392Z"
    }
   },
   "outputs": [],
   "source": [
    "sectors = (metadata.sector.value_counts() > 50).index"
   ]
  },
  {
   "cell_type": "code",
   "execution_count": 9,
   "metadata": {
    "ExecuteTime": {
     "end_time": "2020-06-22T14:15:29.135209Z",
     "start_time": "2020-06-22T14:15:29.127429Z"
    }
   },
   "outputs": [],
   "source": [
    "tickers_with_errors = ['FTAI', 'AIRT', 'CYBR', 'GRAF', 'KTB']"
   ]
  },
  {
   "cell_type": "code",
   "execution_count": 10,
   "metadata": {
    "ExecuteTime": {
     "end_time": "2020-06-22T14:15:29.148401Z",
     "start_time": "2020-06-22T14:15:29.136071Z"
    }
   },
   "outputs": [],
   "source": [
    "tickers_with_metadata = metadata[metadata.sector.isin(sectors) & \n",
    "                                 metadata.marketcap.notnull() &\n",
    "                                 metadata.sharesoutstanding.notnull() & \n",
    "                                (metadata.sharesoutstanding > 0)].index.drop(tickers_with_errors)"
   ]
  },
  {
   "cell_type": "code",
   "execution_count": 11,
   "metadata": {
    "ExecuteTime": {
     "end_time": "2020-06-22T14:15:29.157084Z",
     "start_time": "2020-06-22T14:15:29.149620Z"
    }
   },
   "outputs": [],
   "source": [
    "metadata = metadata.loc[tickers_with_metadata, ['sector', 'sharesoutstanding', 'marketcap']]\n",
    "metadata.index.name = 'ticker'"
   ]
  },
  {
   "cell_type": "code",
   "execution_count": 12,
   "metadata": {
    "ExecuteTime": {
     "end_time": "2020-06-22T14:20:57.486909Z",
     "start_time": "2020-06-22T14:15:29.158103Z"
    }
   },
   "outputs": [],
   "source": [
    "prices = prices.loc[idx[tickers_with_metadata, :], :]"
   ]
  },
  {
   "cell_type": "code",
   "execution_count": 13,
   "metadata": {
    "ExecuteTime": {
     "end_time": "2020-06-22T14:20:57.763560Z",
     "start_time": "2020-06-22T14:20:57.488134Z"
    }
   },
   "outputs": [
    {
     "name": "stdout",
     "output_type": "stream",
     "text": [
      "<class 'pandas.core.frame.DataFrame'>\n",
      "MultiIndex: 13563058 entries, ('A', Timestamp('1999-11-18 00:00:00')) to ('ZYME', Timestamp('2019-12-31 00:00:00'))\n",
      "Data columns (total 5 columns):\n",
      " #   Column  Non-Null Count     Dtype  \n",
      "---  ------  --------------     -----  \n",
      " 0   close   13563058 non-null  float64\n",
      " 1   high    13563058 non-null  float64\n",
      " 2   low     13563058 non-null  float64\n",
      " 3   open    13563058 non-null  float64\n",
      " 4   volume  13563058 non-null  float64\n",
      "dtypes: float64(5)\n",
      "memory usage: 569.3+ MB\n"
     ]
    }
   ],
   "source": [
    "prices.info(null_counts=True)"
   ]
  },
  {
   "cell_type": "code",
   "execution_count": 14,
   "metadata": {
    "ExecuteTime": {
     "end_time": "2020-06-22T14:20:57.770493Z",
     "start_time": "2020-06-22T14:20:57.765974Z"
    }
   },
   "outputs": [
    {
     "name": "stdout",
     "output_type": "stream",
     "text": [
      "<class 'pandas.core.frame.DataFrame'>\n",
      "Index: 4063 entries, A to ZYNE\n",
      "Data columns (total 3 columns):\n",
      " #   Column             Non-Null Count  Dtype  \n",
      "---  ------             --------------  -----  \n",
      " 0   sector             4063 non-null   object \n",
      " 1   sharesoutstanding  4063 non-null   float64\n",
      " 2   marketcap          4063 non-null   float64\n",
      "dtypes: float64(2), object(1)\n",
      "memory usage: 127.0+ KB\n"
     ]
    }
   ],
   "source": [
    "metadata.info()"
   ]
  },
  {
   "cell_type": "code",
   "execution_count": 15,
   "metadata": {
    "ExecuteTime": {
     "end_time": "2020-06-22T14:21:02.322478Z",
     "start_time": "2020-06-22T14:20:57.771412Z"
    }
   },
   "outputs": [
    {
     "name": "stdout",
     "output_type": "stream",
     "text": [
      "<class 'pandas.core.frame.DataFrame'>\n",
      "DatetimeIndex: 7559 entries, 1990-01-02 to 2019-12-31\n",
      "Columns: 3742 entries, A to ZYME\n",
      "dtypes: float64(3742)\n",
      "memory usage: 215.9 MB\n"
     ]
    }
   ],
   "source": [
    "close = prices.close.unstack('ticker').sort_index()\n",
    "close.info()"
   ]
  },
  {
   "cell_type": "code",
   "execution_count": 16,
   "metadata": {
    "ExecuteTime": {
     "end_time": "2020-06-22T14:21:06.890724Z",
     "start_time": "2020-06-22T14:21:02.323471Z"
    }
   },
   "outputs": [
    {
     "name": "stdout",
     "output_type": "stream",
     "text": [
      "<class 'pandas.core.frame.DataFrame'>\n",
      "DatetimeIndex: 7559 entries, 1990-01-02 to 2019-12-31\n",
      "Columns: 3742 entries, A to ZYME\n",
      "dtypes: float64(3742)\n",
      "memory usage: 215.9 MB\n"
     ]
    }
   ],
   "source": [
    "volume = prices.volume.unstack('ticker').sort_index()\n",
    "volume.info()"
   ]
  },
  {
   "cell_type": "markdown",
   "metadata": {},
   "source": [
    "### Create weekly returns"
   ]
  },
  {
   "cell_type": "code",
   "execution_count": 17,
   "metadata": {
    "ExecuteTime": {
     "end_time": "2020-06-22T14:21:11.776060Z",
     "start_time": "2020-06-22T14:21:06.891688Z"
    }
   },
   "outputs": [
    {
     "name": "stdout",
     "output_type": "stream",
     "text": [
      "<class 'pandas.core.frame.DataFrame'>\n",
      "DatetimeIndex: 1565 entries, 1990-01-12 to 2020-01-03\n",
      "Freq: W-FRI\n",
      "Columns: 3742 entries, A to ZYME\n",
      "dtypes: float64(3742)\n",
      "memory usage: 44.7 MB\n"
     ]
    }
   ],
   "source": [
    "returns = (prices.close\n",
    "           .unstack('ticker')\n",
    "           .resample('W-FRI').last()\n",
    "           .sort_index().pct_change().iloc[1:])\n",
    "returns.info()"
   ]
  },
  {
   "cell_type": "code",
   "execution_count": 18,
   "metadata": {
    "ExecuteTime": {
     "end_time": "2020-06-22T14:21:11.779581Z",
     "start_time": "2020-06-22T14:21:11.777434Z"
    }
   },
   "outputs": [],
   "source": [
    "dates = returns.index"
   ]
  },
  {
   "cell_type": "code",
   "execution_count": 19,
   "metadata": {
    "ExecuteTime": {
     "end_time": "2020-06-22T14:21:12.030307Z",
     "start_time": "2020-06-22T14:21:11.780857Z"
    }
   },
   "outputs": [
    {
     "data": {
      "image/png": "[encoded data removed]",
      "text/plain": [
       "<Figure size 432x288 with 1 Axes>"
      ]
     },
     "metadata": {},
     "output_type": "display_data"
    }
   ],
   "source": [
    "sns.distplot(returns.count(1), kde=False);"
   ]
  },
  {
   "cell_type": "code",
   "execution_count": 20,
   "metadata": {
    "ExecuteTime": {
     "end_time": "2020-06-22T14:21:12.218377Z",
     "start_time": "2020-06-22T14:21:12.031529Z"
    }
   },
   "outputs": [],
   "source": [
    "with pd.HDFStore(results_path / 'autoencoder.h5') as store:\n",
    "    store.put('close', close)\n",
    "    store.put('volume', volume)\n",
    "    store.put('returns', returns)\n",
    "    store.put('metadata', metadata)"
   ]
  },
  {
   "cell_type": "markdown",
   "metadata": {},
   "source": [
    "## Factor Engineering"
   ]
  },
  {
   "cell_type": "code",
   "execution_count": 21,
   "metadata": {
    "ExecuteTime": {
     "end_time": "2020-06-22T14:21:12.222809Z",
     "start_time": "2020-06-22T14:21:12.219417Z"
    }
   },
   "outputs": [],
   "source": [
    "MONTH = 21"
   ]
  },
  {
   "cell_type": "markdown",
   "metadata": {},
   "source": [
    "### Price Trend"
   ]
  },
  {
   "cell_type": "markdown",
   "metadata": {},
   "source": [
    "#### Short-Term Reversal"
   ]
  },
  {
   "cell_type": "markdown",
   "metadata": {},
   "source": [
    "1-month cumulative return"
   ]
  },
  {
   "cell_type": "code",
   "execution_count": 22,
   "metadata": {
    "ExecuteTime": {
     "end_time": "2020-06-22T14:21:12.232878Z",
     "start_time": "2020-06-22T14:21:12.225202Z"
    }
   },
   "outputs": [
    {
     "data": {
      "text/plain": [
       "DatetimeIndex(['1990-01-12', '1990-01-19', '1990-01-26', '1990-02-02',\n",
       "               '1990-02-09'],\n",
       "              dtype='datetime64[ns]', name='date', freq='W-FRI')"
      ]
     },
     "execution_count": 22,
     "metadata": {},
     "output_type": "execute_result"
    }
   ],
   "source": [
    "dates[:5]"
   ]
  },
  {
   "cell_type": "code",
   "execution_count": 23,
   "metadata": {
    "ExecuteTime": {
     "end_time": "2020-06-22T14:21:12.807146Z",
     "start_time": "2020-06-22T14:21:12.235147Z"
    }
   },
   "outputs": [
    {
     "name": "stdout",
     "output_type": "stream",
     "text": [
      "<class 'pandas.core.frame.DataFrame'>\n",
      "MultiIndex: 2804201 entries, (Timestamp('1990-02-02 00:00:00', freq='W-FRI'), 'AA') to (Timestamp('2020-01-03 00:00:00', freq='W-FRI'), 'ZYME')\n",
      "Data columns (total 1 columns):\n",
      " #   Column  Dtype  \n",
      "---  ------  -----  \n",
      " 0   mom1m   float64\n",
      "dtypes: float64(1)\n",
      "memory usage: 32.1+ MB\n"
     ]
    }
   ],
   "source": [
    "mom1m = close.pct_change(periods=MONTH).resample('W-FRI').last().stack().to_frame('mom1m')\n",
    "mom1m.info()"
   ]
  },
  {
   "cell_type": "code",
   "execution_count": 24,
   "metadata": {
    "ExecuteTime": {
     "end_time": "2020-06-22T14:21:12.827450Z",
     "start_time": "2020-06-22T14:21:12.808341Z"
    }
   },
   "outputs": [],
   "source": [
    "mom1m.squeeze().to_hdf(results_path / 'autoencoder.h5', 'factor/mom1m')"
   ]
  },
  {
   "cell_type": "markdown",
   "metadata": {},
   "source": [
    "#### Stock Momentum"
   ]
  },
  {
   "cell_type": "markdown",
   "metadata": {},
   "source": [
    "11-month cumulative returns ending 1-month before month end"
   ]
  },
  {
   "cell_type": "code",
   "execution_count": 25,
   "metadata": {
    "ExecuteTime": {
     "end_time": "2020-06-22T14:21:13.379746Z",
     "start_time": "2020-06-22T14:21:12.828908Z"
    }
   },
   "outputs": [],
   "source": [
    "mom12m = (close\n",
    "            .pct_change(periods=11 * MONTH)\n",
    "            .shift(MONTH)\n",
    "            .resample('W-FRI')\n",
    "            .last()\n",
    "            .stack()\n",
    "            .to_frame('mom12m'))"
   ]
  },
  {
   "cell_type": "code",
   "execution_count": 26,
   "metadata": {
    "ExecuteTime": {
     "end_time": "2020-06-22T14:21:13.422771Z",
     "start_time": "2020-06-22T14:21:13.380673Z"
    }
   },
   "outputs": [
    {
     "name": "stdout",
     "output_type": "stream",
     "text": [
      "<class 'pandas.core.frame.DataFrame'>\n",
      "MultiIndex: 2631702 entries, (Timestamp('1991-01-04 00:00:00', freq='W-FRI'), 'AA') to (Timestamp('2020-01-03 00:00:00', freq='W-FRI'), 'ZYME')\n",
      "Data columns (total 1 columns):\n",
      " #   Column  Non-Null Count    Dtype  \n",
      "---  ------  --------------    -----  \n",
      " 0   mom12m  2631702 non-null  float64\n",
      "dtypes: float64(1)\n",
      "memory usage: 30.2+ MB\n"
     ]
    }
   ],
   "source": [
    "mom12m.info(null_counts=True)"
   ]
  },
  {
   "cell_type": "code",
   "execution_count": 27,
   "metadata": {
    "ExecuteTime": {
     "end_time": "2020-06-22T14:21:13.476247Z",
     "start_time": "2020-06-22T14:21:13.423954Z"
    }
   },
   "outputs": [],
   "source": [
    "mom12m.to_hdf(results_path / 'autoencoder.h5', 'factor/mom12m')"
   ]
  },
  {
   "cell_type": "markdown",
   "metadata": {},
   "source": [
    "#### Momentum Change"
   ]
  },
  {
   "cell_type": "markdown",
   "metadata": {},
   "source": [
    "Cumulative return from months t-6 to t-1 minus months t-12 to t-7."
   ]
  },
  {
   "cell_type": "code",
   "execution_count": 28,
   "metadata": {
    "ExecuteTime": {
     "end_time": "2020-06-22T14:21:14.285458Z",
     "start_time": "2020-06-22T14:21:13.477233Z"
    }
   },
   "outputs": [],
   "source": [
    "chmom = (close\n",
    "         .pct_change(periods=6 * MONTH)\n",
    "         .sub(close.pct_change(periods=6 * MONTH).shift(6 * MONTH))\n",
    "         .resample('W-FRI')\n",
    "         .last()\n",
    "         .stack()\n",
    "         .to_frame('chmom'))"
   ]
  },
  {
   "cell_type": "code",
   "execution_count": 29,
   "metadata": {
    "ExecuteTime": {
     "end_time": "2020-06-22T14:21:14.329782Z",
     "start_time": "2020-06-22T14:21:14.286622Z"
    }
   },
   "outputs": [
    {
     "name": "stdout",
     "output_type": "stream",
     "text": [
      "<class 'pandas.core.frame.DataFrame'>\n",
      "MultiIndex: 2631702 entries, (Timestamp('1991-01-04 00:00:00', freq='W-FRI'), 'AA') to (Timestamp('2020-01-03 00:00:00', freq='W-FRI'), 'ZYME')\n",
      "Data columns (total 1 columns):\n",
      " #   Column  Non-Null Count    Dtype  \n",
      "---  ------  --------------    -----  \n",
      " 0   chmom   2631702 non-null  float64\n",
      "dtypes: float64(1)\n",
      "memory usage: 30.2+ MB\n"
     ]
    }
   ],
   "source": [
    "chmom.info(null_counts=True)"
   ]
  },
  {
   "cell_type": "code",
   "execution_count": 30,
   "metadata": {
    "ExecuteTime": {
     "end_time": "2020-06-22T14:21:14.350382Z",
     "start_time": "2020-06-22T14:21:14.330740Z"
    }
   },
   "outputs": [],
   "source": [
    "chmom.to_hdf(results_path / 'autoencoder.h5', 'factor/chmom')"
   ]
  },
  {
   "cell_type": "markdown",
   "metadata": {},
   "source": [
    "#### Industry Momentum"
   ]
  },
  {
   "cell_type": "markdown",
   "metadata": {},
   "source": [
    "Equal-weighted avg. industry 12-month returns"
   ]
  },
  {
   "cell_type": "code",
   "execution_count": 31,
   "metadata": {
    "ExecuteTime": {
     "end_time": "2020-06-22T14:21:15.184318Z",
     "start_time": "2020-06-22T14:21:14.351381Z"
    }
   },
   "outputs": [],
   "source": [
    "indmom = (close.pct_change(12*MONTH)\n",
    "          .resample('W-FRI')\n",
    "          .last()\n",
    "          .stack()\n",
    "          .to_frame('close')\n",
    "          .join(metadata[['sector']]).groupby(['date', 'sector'])\n",
    "          .close.mean()\n",
    "          .to_frame('indmom')\n",
    "          .reset_index())"
   ]
  },
  {
   "cell_type": "code",
   "execution_count": 32,
   "metadata": {
    "ExecuteTime": {
     "end_time": "2020-06-22T14:21:15.191212Z",
     "start_time": "2020-06-22T14:21:15.185168Z"
    }
   },
   "outputs": [
    {
     "name": "stdout",
     "output_type": "stream",
     "text": [
      "<class 'pandas.core.frame.DataFrame'>\n",
      "RangeIndex: 18204 entries, 0 to 18203\n",
      "Data columns (total 3 columns):\n",
      " #   Column  Non-Null Count  Dtype         \n",
      "---  ------  --------------  -----         \n",
      " 0   date    18204 non-null  datetime64[ns]\n",
      " 1   sector  18204 non-null  object        \n",
      " 2   indmom  18204 non-null  float64       \n",
      "dtypes: datetime64[ns](1), float64(1), object(1)\n",
      "memory usage: 426.8+ KB\n"
     ]
    }
   ],
   "source": [
    "indmom.info(null_counts=True)"
   ]
  },
  {
   "cell_type": "code",
   "execution_count": 33,
   "metadata": {
    "ExecuteTime": {
     "end_time": "2020-06-22T14:21:16.040903Z",
     "start_time": "2020-06-22T14:21:15.192557Z"
    }
   },
   "outputs": [],
   "source": [
    "indmom = (returns\n",
    "          .stack()\n",
    "          .to_frame('ret')\n",
    "          .join(metadata[['sector']])\n",
    "          .reset_index()\n",
    "          .merge(indmom)\n",
    "          .set_index(['date', 'ticker'])\n",
    "          .loc[:, ['indmom']])"
   ]
  },
  {
   "cell_type": "code",
   "execution_count": 34,
   "metadata": {
    "ExecuteTime": {
     "end_time": "2020-06-22T14:21:16.049584Z",
     "start_time": "2020-06-22T14:21:16.041835Z"
    }
   },
   "outputs": [
    {
     "name": "stdout",
     "output_type": "stream",
     "text": [
      "<class 'pandas.core.frame.DataFrame'>\n",
      "MultiIndex: 2783776 entries, (Timestamp('1991-01-04 00:00:00'), 'AA') to (Timestamp('2020-01-03 00:00:00'), 'IIM')\n",
      "Data columns (total 1 columns):\n",
      " #   Column  Non-Null Count    Dtype  \n",
      "---  ------  --------------    -----  \n",
      " 0   indmom  2783776 non-null  float64\n",
      "dtypes: float64(1)\n",
      "memory usage: 31.9+ MB\n"
     ]
    }
   ],
   "source": [
    "indmom.info(null_counts=True)"
   ]
  },
  {
   "cell_type": "code",
   "execution_count": 35,
   "metadata": {
    "ExecuteTime": {
     "end_time": "2020-06-22T14:21:16.079787Z",
     "start_time": "2020-06-22T14:21:16.050892Z"
    }
   },
   "outputs": [],
   "source": [
    "indmom.to_hdf(results_path / 'autoencoder.h5', 'factor/indmom')"
   ]
  },
  {
   "cell_type": "markdown",
   "metadata": {},
   "source": [
    "#### Recent Max Return"
   ]
  },
  {
   "cell_type": "markdown",
   "metadata": {},
   "source": [
    "Max daily returns from calendar month t-1"
   ]
  },
  {
   "cell_type": "code",
   "execution_count": 36,
   "metadata": {
    "ExecuteTime": {
     "end_time": "2020-06-22T14:21:17.054646Z",
     "start_time": "2020-06-22T14:21:16.080742Z"
    }
   },
   "outputs": [],
   "source": [
    "maxret = (close\n",
    "           .pct_change(periods=MONTH)\n",
    "           .rolling(21)\n",
    "           .max()\n",
    "           .resample('W-FRI')\n",
    "           .last()\n",
    "           .stack()\n",
    "           .to_frame('maxret'))"
   ]
  },
  {
   "cell_type": "code",
   "execution_count": 37,
   "metadata": {
    "ExecuteTime": {
     "end_time": "2020-06-22T14:21:17.102330Z",
     "start_time": "2020-06-22T14:21:17.055840Z"
    }
   },
   "outputs": [
    {
     "name": "stdout",
     "output_type": "stream",
     "text": [
      "<class 'pandas.core.frame.DataFrame'>\n",
      "MultiIndex: 2788745 entries, (Timestamp('1990-03-02 00:00:00', freq='W-FRI'), 'AA') to (Timestamp('2020-01-03 00:00:00', freq='W-FRI'), 'ZYME')\n",
      "Data columns (total 1 columns):\n",
      " #   Column  Non-Null Count    Dtype  \n",
      "---  ------  --------------    -----  \n",
      " 0   maxret  2788745 non-null  float64\n",
      "dtypes: float64(1)\n",
      "memory usage: 32.0+ MB\n"
     ]
    }
   ],
   "source": [
    "maxret.info(null_counts=True)"
   ]
  },
  {
   "cell_type": "code",
   "execution_count": 38,
   "metadata": {
    "ExecuteTime": {
     "end_time": "2020-06-22T14:21:17.124433Z",
     "start_time": "2020-06-22T14:21:17.103463Z"
    }
   },
   "outputs": [],
   "source": [
    "maxret.to_hdf(results_path / 'autoencoder.h5', 'factor/maxret')"
   ]
  },
  {
   "cell_type": "markdown",
   "metadata": {},
   "source": [
    "#### Long-Term Reversal"
   ]
  },
  {
   "cell_type": "markdown",
   "metadata": {},
   "source": [
    "Cumulative returns months t-36 to t-13."
   ]
  },
  {
   "cell_type": "code",
   "execution_count": 39,
   "metadata": {
    "ExecuteTime": {
     "end_time": "2020-06-22T14:21:17.645632Z",
     "start_time": "2020-06-22T14:21:17.126322Z"
    }
   },
   "outputs": [],
   "source": [
    "mom36m = (close\n",
    "           .pct_change(periods=24*MONTH)\n",
    "           .shift(12*MONTH)\n",
    "           .resample('W-FRI')\n",
    "           .last()\n",
    "           .stack()\n",
    "           .to_frame('mom36m'))"
   ]
  },
  {
   "cell_type": "code",
   "execution_count": 40,
   "metadata": {
    "ExecuteTime": {
     "end_time": "2020-06-22T14:21:17.679992Z",
     "start_time": "2020-06-22T14:21:17.646409Z"
    }
   },
   "outputs": [
    {
     "name": "stdout",
     "output_type": "stream",
     "text": [
      "<class 'pandas.core.frame.DataFrame'>\n",
      "MultiIndex: 2295974 entries, (Timestamp('1993-01-01 00:00:00', freq='W-FRI'), 'AA') to (Timestamp('2020-01-03 00:00:00', freq='W-FRI'), 'ZUMZ')\n",
      "Data columns (total 1 columns):\n",
      " #   Column  Non-Null Count    Dtype  \n",
      "---  ------  --------------    -----  \n",
      " 0   mom36m  2295974 non-null  float64\n",
      "dtypes: float64(1)\n",
      "memory usage: 26.3+ MB\n"
     ]
    }
   ],
   "source": [
    "mom36m.info(null_counts=True)"
   ]
  },
  {
   "cell_type": "code",
   "execution_count": 41,
   "metadata": {
    "ExecuteTime": {
     "end_time": "2020-06-22T14:21:17.699815Z",
     "start_time": "2020-06-22T14:21:17.681878Z"
    }
   },
   "outputs": [],
   "source": [
    "mom36m.to_hdf(results_path / 'autoencoder.h5', 'factor/mom36m')"
   ]
  },
  {
   "cell_type": "markdown",
   "metadata": {},
   "source": [
    "### Liquidity Metrics"
   ]
  },
  {
   "cell_type": "markdown",
   "metadata": {},
   "source": [
    "#### Turnover"
   ]
  },
  {
   "cell_type": "markdown",
   "metadata": {},
   "source": [
    "Avg. monthly trading volume for most recent three months scaled by number of shares; we are using the most recent no of shares from yahoo finance"
   ]
  },
  {
   "cell_type": "code",
   "execution_count": 42,
   "metadata": {
    "ExecuteTime": {
     "end_time": "2020-06-22T14:21:19.195222Z",
     "start_time": "2020-06-22T14:21:17.701013Z"
    }
   },
   "outputs": [],
   "source": [
    "turn = (volume\n",
    "        .rolling(3*MONTH)\n",
    "        .mean()\n",
    "        .resample('W-FRI')\n",
    "        .last()\n",
    "        .div(metadata.sharesoutstanding)\n",
    "        .stack('ticker')\n",
    "        .to_frame('turn'))"
   ]
  },
  {
   "cell_type": "code",
   "execution_count": 43,
   "metadata": {
    "ExecuteTime": {
     "end_time": "2020-06-22T14:21:19.240604Z",
     "start_time": "2020-06-22T14:21:19.196062Z"
    }
   },
   "outputs": [
    {
     "name": "stdout",
     "output_type": "stream",
     "text": [
      "<class 'pandas.core.frame.DataFrame'>\n",
      "MultiIndex: 2746275 entries, (Timestamp('1990-03-30 00:00:00', freq='W-FRI'), 'AA') to (Timestamp('2020-01-03 00:00:00', freq='W-FRI'), 'ZYME')\n",
      "Data columns (total 1 columns):\n",
      " #   Column  Non-Null Count    Dtype  \n",
      "---  ------  --------------    -----  \n",
      " 0   turn    2746275 non-null  float64\n",
      "dtypes: float64(1)\n",
      "memory usage: 31.5+ MB\n"
     ]
    }
   ],
   "source": [
    "turn.info(null_counts=True)"
   ]
  },
  {
   "cell_type": "code",
   "execution_count": 44,
   "metadata": {
    "ExecuteTime": {
     "end_time": "2020-06-22T14:21:19.265393Z",
     "start_time": "2020-06-22T14:21:19.242428Z"
    }
   },
   "outputs": [],
   "source": [
    "turn.to_hdf(results_path / 'autoencoder.h5', 'factor/turn')"
   ]
  },
  {
   "cell_type": "markdown",
   "metadata": {},
   "source": [
    "#### Turnover Volatility"
   ]
  },
  {
   "cell_type": "markdown",
   "metadata": {},
   "source": [
    "Monthly std dev of daily share turnover"
   ]
  },
  {
   "cell_type": "code",
   "execution_count": 45,
   "metadata": {
    "ExecuteTime": {
     "end_time": "2020-06-22T14:21:25.649100Z",
     "start_time": "2020-06-22T14:21:19.266679Z"
    }
   },
   "outputs": [],
   "source": [
    "turn_std = (prices\n",
    "            .volume\n",
    "            .unstack('ticker')\n",
    "            .div(metadata.sharesoutstanding)\n",
    "            .rolling(MONTH)\n",
    "            .std()\n",
    "            .resample('W-FRI')\n",
    "            .last()\n",
    "            .stack('ticker')\n",
    "            .to_frame('turn_std'))"
   ]
  },
  {
   "cell_type": "code",
   "execution_count": 46,
   "metadata": {
    "ExecuteTime": {
     "end_time": "2020-06-22T14:21:25.671667Z",
     "start_time": "2020-06-22T14:21:25.649999Z"
    }
   },
   "outputs": [],
   "source": [
    "turn_std.to_hdf(results_path / 'autoencoder.h5', 'factor/turn_std')"
   ]
  },
  {
   "cell_type": "markdown",
   "metadata": {},
   "source": [
    "#### Log Market Equity"
   ]
  },
  {
   "cell_type": "markdown",
   "metadata": {},
   "source": [
    "Natural log of market cap at end of month t-1"
   ]
  },
  {
   "cell_type": "code",
   "execution_count": 47,
   "metadata": {
    "ExecuteTime": {
     "end_time": "2020-06-22T14:21:27.915418Z",
     "start_time": "2020-06-22T14:21:25.672801Z"
    }
   },
   "outputs": [],
   "source": [
    "last_price = close.ffill()\n",
    "factor = close.div(last_price.iloc[-1])\n",
    "mvel = np.log1p(factor.mul(metadata.marketcap).resample('W-FRI').last()).stack().to_frame('mvel')"
   ]
  },
  {
   "cell_type": "code",
   "execution_count": 48,
   "metadata": {
    "ExecuteTime": {
     "end_time": "2020-06-22T14:21:27.961823Z",
     "start_time": "2020-06-22T14:21:27.916244Z"
    }
   },
   "outputs": [
    {
     "name": "stdout",
     "output_type": "stream",
     "text": [
      "<class 'pandas.core.frame.DataFrame'>\n",
      "MultiIndex: 2819247 entries, (Timestamp('1990-01-05 00:00:00', freq='W-FRI'), 'AA') to (Timestamp('2020-01-03 00:00:00', freq='W-FRI'), 'ZYME')\n",
      "Data columns (total 1 columns):\n",
      " #   Column  Non-Null Count    Dtype  \n",
      "---  ------  --------------    -----  \n",
      " 0   mvel    2819247 non-null  float64\n",
      "dtypes: float64(1)\n",
      "memory usage: 32.3+ MB\n"
     ]
    }
   ],
   "source": [
    "mvel.info(null_counts=True)"
   ]
  },
  {
   "cell_type": "code",
   "execution_count": 49,
   "metadata": {
    "ExecuteTime": {
     "end_time": "2020-06-22T14:21:27.986448Z",
     "start_time": "2020-06-22T14:21:27.963757Z"
    }
   },
   "outputs": [],
   "source": [
    "mvel.to_hdf(results_path / 'autoencoder.h5', 'factor/mvel')"
   ]
  },
  {
   "cell_type": "markdown",
   "metadata": {},
   "source": [
    "#### Dollar Volume"
   ]
  },
  {
   "cell_type": "markdown",
   "metadata": {},
   "source": [
    "Natural log of trading volume time price per share from month t-2"
   ]
  },
  {
   "cell_type": "code",
   "execution_count": 50,
   "metadata": {
    "ExecuteTime": {
     "end_time": "2020-06-22T14:21:28.044030Z",
     "start_time": "2020-06-22T14:21:27.987955Z"
    }
   },
   "outputs": [],
   "source": [
    "dv = close.mul(volume)"
   ]
  },
  {
   "cell_type": "code",
   "execution_count": 51,
   "metadata": {
    "ExecuteTime": {
     "end_time": "2020-06-22T14:21:28.842238Z",
     "start_time": "2020-06-22T14:21:28.045390Z"
    }
   },
   "outputs": [],
   "source": [
    "dolvol = (np.log1p(dv.rolling(21)\n",
    "                  .mean()\n",
    "                  .shift(21)\n",
    "                  .resample('W-FRI')\n",
    "                  .last())\n",
    "          .stack()\n",
    "          .to_frame('dolvol'))"
   ]
  },
  {
   "cell_type": "code",
   "execution_count": 52,
   "metadata": {
    "ExecuteTime": {
     "end_time": "2020-06-22T14:21:28.866377Z",
     "start_time": "2020-06-22T14:21:28.843332Z"
    }
   },
   "outputs": [],
   "source": [
    "dolvol.to_hdf(results_path / 'autoencoder.h5', 'factor/dolvol')"
   ]
  },
  {
   "cell_type": "markdown",
   "metadata": {},
   "source": [
    "#### Amihud Illiquidity"
   ]
  },
  {
   "cell_type": "markdown",
   "metadata": {},
   "source": [
    "Average of daily (absolute return / dollar volume)"
   ]
  },
  {
   "cell_type": "code",
   "execution_count": 53,
   "metadata": {
    "ExecuteTime": {
     "end_time": "2020-06-22T14:21:29.989756Z",
     "start_time": "2020-06-22T14:21:28.867523Z"
    }
   },
   "outputs": [],
   "source": [
    "ill = (close.pct_change().abs()\n",
    "       .div(dv)\n",
    "       .rolling(21)\n",
    "       .mean()\n",
    "       .resample('W-FRI').last()\n",
    "       .stack()\n",
    "       .to_frame('ill'))"
   ]
  },
  {
   "cell_type": "code",
   "execution_count": 54,
   "metadata": {
    "ExecuteTime": {
     "end_time": "2020-06-22T14:21:30.033205Z",
     "start_time": "2020-06-22T14:21:29.990692Z"
    }
   },
   "outputs": [
    {
     "name": "stdout",
     "output_type": "stream",
     "text": [
      "<class 'pandas.core.frame.DataFrame'>\n",
      "MultiIndex: 2526364 entries, (Timestamp('1990-02-02 00:00:00', freq='W-FRI'), 'AA') to (Timestamp('2020-01-03 00:00:00', freq='W-FRI'), 'ZYME')\n",
      "Data columns (total 1 columns):\n",
      " #   Column  Non-Null Count    Dtype  \n",
      "---  ------  --------------    -----  \n",
      " 0   ill     2526364 non-null  float64\n",
      "dtypes: float64(1)\n",
      "memory usage: 29.0+ MB\n"
     ]
    }
   ],
   "source": [
    "ill.info(null_counts=True)"
   ]
  },
  {
   "cell_type": "code",
   "execution_count": 55,
   "metadata": {
    "ExecuteTime": {
     "end_time": "2020-06-22T14:21:30.053118Z",
     "start_time": "2020-06-22T14:21:30.034220Z"
    }
   },
   "outputs": [],
   "source": [
    "ill.to_hdf(results_path / 'autoencoder.h5', 'factor/ill')"
   ]
  },
  {
   "cell_type": "markdown",
   "metadata": {},
   "source": [
    "### Risk Measures"
   ]
  },
  {
   "cell_type": "markdown",
   "metadata": {},
   "source": [
    "#### Return Volatility"
   ]
  },
  {
   "cell_type": "markdown",
   "metadata": {},
   "source": [
    "Standard dev of daily returns from month t-1."
   ]
  },
  {
   "cell_type": "code",
   "execution_count": 56,
   "metadata": {
    "ExecuteTime": {
     "end_time": "2020-06-22T14:21:31.057105Z",
     "start_time": "2020-06-22T14:21:30.054097Z"
    }
   },
   "outputs": [],
   "source": [
    "retvol = (close.pct_change()\n",
    "          .rolling(21)\n",
    "          .std()\n",
    "          .resample('W-FRI')\n",
    "          .last()\n",
    "          .stack()\n",
    "          .to_frame('retvol'))"
   ]
  },
  {
   "cell_type": "code",
   "execution_count": 57,
   "metadata": {
    "ExecuteTime": {
     "end_time": "2020-06-22T14:21:31.102247Z",
     "start_time": "2020-06-22T14:21:31.058136Z"
    }
   },
   "outputs": [
    {
     "name": "stdout",
     "output_type": "stream",
     "text": [
      "<class 'pandas.core.frame.DataFrame'>\n",
      "MultiIndex: 2804201 entries, (Timestamp('1990-02-02 00:00:00', freq='W-FRI'), 'AA') to (Timestamp('2020-01-03 00:00:00', freq='W-FRI'), 'ZYME')\n",
      "Data columns (total 1 columns):\n",
      " #   Column  Non-Null Count    Dtype  \n",
      "---  ------  --------------    -----  \n",
      " 0   retvol  2804201 non-null  float64\n",
      "dtypes: float64(1)\n",
      "memory usage: 32.1+ MB\n"
     ]
    }
   ],
   "source": [
    "retvol.info(null_counts=True)"
   ]
  },
  {
   "cell_type": "code",
   "execution_count": 58,
   "metadata": {
    "ExecuteTime": {
     "end_time": "2020-06-22T14:21:31.122100Z",
     "start_time": "2020-06-22T14:21:31.103433Z"
    }
   },
   "outputs": [],
   "source": [
    "retvol.to_hdf(results_path / 'autoencoder.h5', 'factor/retvol')"
   ]
  },
  {
   "cell_type": "markdown",
   "metadata": {},
   "source": [
    "#### Market Beta"
   ]
  },
  {
   "cell_type": "markdown",
   "metadata": {},
   "source": [
    "Estimated market beta from weekly returns and equal weighted market returns for 3 years ending month t-1 with at least 52 weeks of returns."
   ]
  },
  {
   "cell_type": "code",
   "execution_count": 59,
   "metadata": {
    "ExecuteTime": {
     "end_time": "2020-06-22T14:21:31.360093Z",
     "start_time": "2020-06-22T14:21:31.123130Z"
    }
   },
   "outputs": [],
   "source": [
    "index = close.resample('W-FRI').last().pct_change().mean(1).to_frame('x')"
   ]
  },
  {
   "cell_type": "code",
   "execution_count": 60,
   "metadata": {
    "ExecuteTime": {
     "end_time": "2020-06-22T14:21:31.364227Z",
     "start_time": "2020-06-22T14:21:31.361050Z"
    }
   },
   "outputs": [],
   "source": [
    "def get_market_beta(y, x=index):\n",
    "    df = x.join(y.to_frame('y')).dropna()\n",
    "    model = RollingOLS(endog=df.y, \n",
    "                       exog=sm.add_constant(df[['x']]),\n",
    "                      window=3*52)\n",
    "\n",
    "    return model.fit(params_only=True).params['x']"
   ]
  },
  {
   "cell_type": "code",
   "execution_count": 61,
   "metadata": {
    "ExecuteTime": {
     "end_time": "2020-06-22T14:22:26.558186Z",
     "start_time": "2020-06-22T14:21:31.365415Z"
    }
   },
   "outputs": [],
   "source": [
    "beta = (returns.dropna(thresh=3*52, axis=1)\n",
    "        .apply(get_market_beta).stack().to_frame('beta'))"
   ]
  },
  {
   "cell_type": "code",
   "execution_count": 62,
   "metadata": {
    "ExecuteTime": {
     "end_time": "2020-06-22T14:22:26.592183Z",
     "start_time": "2020-06-22T14:22:26.559169Z"
    }
   },
   "outputs": [
    {
     "name": "stdout",
     "output_type": "stream",
     "text": [
      "<class 'pandas.core.frame.DataFrame'>\n",
      "MultiIndex: 2297672 entries, (Timestamp('1993-01-01 00:00:00', freq='W-FRI'), 'AA') to (Timestamp('2020-01-03 00:00:00', freq='W-FRI'), 'ZUMZ')\n",
      "Data columns (total 1 columns):\n",
      " #   Column  Non-Null Count    Dtype  \n",
      "---  ------  --------------    -----  \n",
      " 0   beta    2297672 non-null  float64\n",
      "dtypes: float64(1)\n",
      "memory usage: 26.3+ MB\n"
     ]
    }
   ],
   "source": [
    "beta.info(null_counts=True)"
   ]
  },
  {
   "cell_type": "code",
   "execution_count": 63,
   "metadata": {
    "ExecuteTime": {
     "end_time": "2020-06-22T14:22:26.610834Z",
     "start_time": "2020-06-22T14:22:26.593125Z"
    }
   },
   "outputs": [],
   "source": [
    "beta.to_hdf(results_path / 'autoencoder.h5', 'factor/beta')"
   ]
  },
  {
   "cell_type": "markdown",
   "metadata": {},
   "source": [
    "#### Beta Squared"
   ]
  },
  {
   "cell_type": "markdown",
   "metadata": {},
   "source": [
    "Market beta squared"
   ]
  },
  {
   "cell_type": "code",
   "execution_count": 64,
   "metadata": {
    "ExecuteTime": {
     "end_time": "2020-06-22T14:22:26.621369Z",
     "start_time": "2020-06-22T14:22:26.611785Z"
    }
   },
   "outputs": [],
   "source": [
    "betasq = beta.beta.pow(2).to_frame('betasq')"
   ]
  },
  {
   "cell_type": "code",
   "execution_count": 65,
   "metadata": {
    "ExecuteTime": {
     "end_time": "2020-06-22T14:22:26.629120Z",
     "start_time": "2020-06-22T14:22:26.622393Z"
    }
   },
   "outputs": [
    {
     "name": "stdout",
     "output_type": "stream",
     "text": [
      "<class 'pandas.core.frame.DataFrame'>\n",
      "MultiIndex: 2297672 entries, (Timestamp('1993-01-01 00:00:00', freq='W-FRI'), 'AA') to (Timestamp('2020-01-03 00:00:00', freq='W-FRI'), 'ZUMZ')\n",
      "Data columns (total 1 columns):\n",
      " #   Column  Non-Null Count    Dtype  \n",
      "---  ------  --------------    -----  \n",
      " 0   betasq  2297672 non-null  float64\n",
      "dtypes: float64(1)\n",
      "memory usage: 26.3+ MB\n"
     ]
    }
   ],
   "source": [
    "betasq.info(null_counts=True)"
   ]
  },
  {
   "cell_type": "code",
   "execution_count": 66,
   "metadata": {
    "ExecuteTime": {
     "end_time": "2020-06-22T14:22:26.647655Z",
     "start_time": "2020-06-22T14:22:26.630021Z"
    }
   },
   "outputs": [],
   "source": [
    "betasq.to_hdf(results_path / 'autoencoder.h5', 'factor/betasq')"
   ]
  },
  {
   "cell_type": "markdown",
   "metadata": {},
   "source": [
    "#### Idiosyncratic return volatility"
   ]
  },
  {
   "cell_type": "markdown",
   "metadata": {},
   "source": [
    "Standard dev of a regression of residuals of weekly returns on the returns of an equal weighted market index returns for the prior three years."
   ]
  },
  {
   "cell_type": "markdown",
   "metadata": {},
   "source": [
    "This takes a while!"
   ]
  },
  {
   "cell_type": "code",
   "execution_count": 67,
   "metadata": {
    "ExecuteTime": {
     "end_time": "2020-06-22T14:22:26.658305Z",
     "start_time": "2020-06-22T14:22:26.650268Z"
    }
   },
   "outputs": [],
   "source": [
    "def get_ols_residuals(y, x=index):\n",
    "    df = x.join(y.to_frame('y')).dropna()\n",
    "    model = sm.OLS(endog=df.y, exog=sm.add_constant(df[['x']]))\n",
    "    result = model.fit()\n",
    "    return result.resid.std()"
   ]
  },
  {
   "cell_type": "code",
   "execution_count": 68,
   "metadata": {
    "ExecuteTime": {
     "end_time": "2020-06-22T17:07:16.084427Z",
     "start_time": "2020-06-22T14:22:26.659182Z"
    }
   },
   "outputs": [],
   "source": [
    "idiovol = (returns.apply(lambda x: x.rolling(3 * 52)\n",
    "                         .apply(get_ols_residuals)))"
   ]
  },
  {
   "cell_type": "code",
   "execution_count": 69,
   "metadata": {
    "ExecuteTime": {
     "end_time": "2020-06-22T17:07:16.210096Z",
     "start_time": "2020-06-22T17:07:16.085430Z"
    }
   },
   "outputs": [],
   "source": [
    "idiovol = idiovol.stack().to_frame('idiovol')"
   ]
  },
  {
   "cell_type": "code",
   "execution_count": 70,
   "metadata": {
    "ExecuteTime": {
     "end_time": "2020-06-22T17:07:16.247578Z",
     "start_time": "2020-06-22T17:07:16.211084Z"
    }
   },
   "outputs": [
    {
     "name": "stdout",
     "output_type": "stream",
     "text": [
      "<class 'pandas.core.frame.DataFrame'>\n",
      "MultiIndex: 2297672 entries, (Timestamp('1993-01-01 00:00:00', freq='W-FRI'), 'AA') to (Timestamp('2020-01-03 00:00:00', freq='W-FRI'), 'ZUMZ')\n",
      "Data columns (total 1 columns):\n",
      " #   Column   Non-Null Count    Dtype  \n",
      "---  ------   --------------    -----  \n",
      " 0   idiovol  2297672 non-null  float64\n",
      "dtypes: float64(1)\n",
      "memory usage: 26.3+ MB\n"
     ]
    }
   ],
   "source": [
    "idiovol.info(null_counts=True)"
   ]
  },
  {
   "cell_type": "code",
   "execution_count": 71,
   "metadata": {
    "ExecuteTime": {
     "end_time": "2020-06-22T17:07:16.273176Z",
     "start_time": "2020-06-22T17:07:16.248483Z"
    }
   },
   "outputs": [],
   "source": [
    "idiovol.to_hdf(results_path / 'autoencoder.h5', 'factor/idiovol')"
   ]
  }
 ],
 "metadata": {
  "kernelspec": {
   "display_name": "Python [conda env:ml4t-dl]",
   "language": "python",
   "name": "conda-env-ml4t-dl-py"
  },
  "language_info": {
   "codemirror_mode": {
    "name": "ipython",
    "version": 3
   },
   "file_extension": ".py",
   "mimetype": "text/x-python",
   "name": "python",
   "nbconvert_exporter": "python",
   "pygments_lexer": "ipython3",
   "version": "3.7.7"
  },
  "toc": {
   "base_numbering": 1,
   "nav_menu": {},
   "number_sections": true,
   "sideBar": true,
   "skip_h1_title": true,
   "title_cell": "Table of Contents",
   "title_sidebar": "Contents",
   "toc_cell": false,
   "toc_position": {},
   "toc_section_display": true,
   "toc_window_display": true
  }
 },
 "nbformat": 4,
 "nbformat_minor": 4
}
