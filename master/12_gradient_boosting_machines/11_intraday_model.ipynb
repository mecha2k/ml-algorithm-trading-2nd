{
 "cells": [
  {
   "cell_type": "markdown",
   "metadata": {},
   "source": [
    "# Generating intra-day trading signals"
   ]
  },
  {
   "cell_type": "markdown",
   "metadata": {},
   "source": [
    "## Imports & Settings"
   ]
  },
  {
   "cell_type": "code",
   "execution_count": null,
   "metadata": {},
   "outputs": [],
   "source": [
    "import warnings\n",
    "warnings.filterwarnings('ignore')"
   ]
  },
  {
   "cell_type": "code",
   "execution_count": 1,
   "metadata": {
    "ExecuteTime": {
     "end_time": "2020-05-08T13:07:34.258072Z",
     "start_time": "2020-05-08T13:07:33.409307Z"
    }
   },
   "outputs": [
    {
     "name": "stderr",
     "output_type": "stream",
     "text": [
      "/home/stefan/.pyenv/versions/miniconda3-latest/envs/ml4t/lib/python3.7/site-packages/pandas_datareader/compat/__init__.py:7: FutureWarning: pandas.util.testing is deprecated. Use the functions in the public API at pandas.testing instead.\n",
      "  from pandas.util.testing import assert_frame_equal\n"
     ]
    }
   ],
   "source": [
    "%matplotlib inline\n",
    "\n",
    "import sys, os\n",
    "from time import time\n",
    "\n",
    "import numpy as np\n",
    "import pandas as pd\n",
    "\n",
    "from scipy.stats import spearmanr\n",
    "import lightgbm as lgb\n",
    "\n",
    "import matplotlib.pyplot as plt\n",
    "from matplotlib.ticker import FuncFormatter\n",
    "import seaborn as sns"
   ]
  },
  {
   "cell_type": "code",
   "execution_count": 2,
   "metadata": {
    "ExecuteTime": {
     "end_time": "2020-05-08T13:07:34.263270Z",
     "start_time": "2020-05-08T13:07:34.259471Z"
    }
   },
   "outputs": [],
   "source": [
    "sys.path.insert(1, os.path.join(sys.path[0], '..'))\n",
    "from utils import format_time"
   ]
  },
  {
   "cell_type": "code",
   "execution_count": 3,
   "metadata": {
    "ExecuteTime": {
     "end_time": "2020-05-08T13:07:34.277747Z",
     "start_time": "2020-05-08T13:07:34.264763Z"
    }
   },
   "outputs": [],
   "source": [
    "sns.set_style('whitegrid')\n",
    "idx = pd.IndexSlice"
   ]
  },
  {
   "cell_type": "markdown",
   "metadata": {},
   "source": [
    "## Load Model Data"
   ]
  },
  {
   "cell_type": "code",
   "execution_count": 4,
   "metadata": {
    "ExecuteTime": {
     "end_time": "2020-05-06T22:55:39.183326Z",
     "start_time": "2020-05-06T22:55:29.217367Z"
    }
   },
   "outputs": [],
   "source": [
    "data = pd.read_hdf('hf_data.h5', 'model_data')"
   ]
  },
  {
   "cell_type": "code",
   "execution_count": 5,
   "metadata": {
    "ExecuteTime": {
     "end_time": "2020-05-06T22:56:28.905862Z",
     "start_time": "2020-05-06T22:55:39.184367Z"
    }
   },
   "outputs": [],
   "source": [
    "dates = data.index.get_level_values('date_time').date\n",
    "for i in range(1, 11):\n",
    "    data[f'ret{i}min'] = data.groupby(['ticker', dates])[f'ret{i}min'].shift()"
   ]
  },
  {
   "cell_type": "code",
   "execution_count": 6,
   "metadata": {
    "ExecuteTime": {
     "end_time": "2020-05-06T22:56:31.368777Z",
     "start_time": "2020-05-06T22:56:28.906930Z"
    }
   },
   "outputs": [],
   "source": [
    "data = data.dropna(subset=['fwd1min'])"
   ]
  },
  {
   "cell_type": "code",
   "execution_count": 7,
   "metadata": {
    "ExecuteTime": {
     "end_time": "2020-05-06T22:56:33.547934Z",
     "start_time": "2020-05-06T22:56:31.369738Z"
    }
   },
   "outputs": [
    {
     "name": "stdout",
     "output_type": "stream",
     "text": [
      "<class 'pandas.core.frame.DataFrame'>\n",
      "MultiIndex: 47691042 entries, ('AAL', Timestamp('2014-12-22 09:30:00')) to ('YHOO', Timestamp('2017-06-16 15:59:00'))\n",
      "Data columns (total 21 columns):\n",
      " #   Column          Non-Null Count     Dtype  \n",
      "---  ------          --------------     -----  \n",
      " 0   minute          47691042 non-null  int64  \n",
      " 1   ret1min         45195496 non-null  float64\n",
      " 2   ret2min         45055629 non-null  float64\n",
      " 3   ret3min         44933477 non-null  float64\n",
      " 4   ret4min         44810314 non-null  float64\n",
      " 5   ret5min         44684180 non-null  float64\n",
      " 6   ret6min         44554887 non-null  float64\n",
      " 7   ret7min         44428726 non-null  float64\n",
      " 8   ret8min         44308529 non-null  float64\n",
      " 9   ret9min         44181609 non-null  float64\n",
      " 10  ret10min        44056812 non-null  float64\n",
      " 11  fwd1min         47691042 non-null  float64\n",
      " 12  price           47691042 non-null  float64\n",
      " 13  rup             46587774 non-null  float64\n",
      " 14  rdown           46554610 non-null  float64\n",
      " 15  BOP             47690893 non-null  float64\n",
      " 16  CCI             47688959 non-null  float64\n",
      " 17  MFI             47688806 non-null  float64\n",
      " 18  STOCHRSI        47686528 non-null  float64\n",
      " 19  STOCH           47687960 non-null  float64\n",
      " 20  trades_bid_ask  46363775 non-null  float64\n",
      "dtypes: float64(20), int64(1)\n",
      "memory usage: 7.7+ GB\n"
     ]
    }
   ],
   "source": [
    "data.info(null_counts=True)"
   ]
  },
  {
   "cell_type": "code",
   "execution_count": 8,
   "metadata": {
    "ExecuteTime": {
     "end_time": "2020-05-06T22:56:42.742272Z",
     "start_time": "2020-05-06T22:56:33.548948Z"
    }
   },
   "outputs": [],
   "source": [
    "data.to_hdf('hf_data.h5', 'model_data')"
   ]
  },
  {
   "cell_type": "markdown",
   "metadata": {},
   "source": [
    "## Model Training"
   ]
  },
  {
   "cell_type": "code",
   "execution_count": 9,
   "metadata": {
    "ExecuteTime": {
     "end_time": "2020-05-06T22:56:47.020505Z",
     "start_time": "2020-05-06T22:56:47.008926Z"
    }
   },
   "outputs": [],
   "source": [
    "class MultipleTimeSeriesCV:\n",
    "    \"\"\"Generates tuples of train_idx, test_idx pairs\n",
    "    Assumes the MultiIndex contains levels 'symbol' and 'date'\n",
    "    purges overlapping outcomes\"\"\"\n",
    "\n",
    "    def __init__(self,\n",
    "                 n_splits=3,\n",
    "                 train_period_length=126,\n",
    "                 test_period_length=21,\n",
    "                 lookahead=None,\n",
    "                 date_idx='date',\n",
    "                 shuffle=False):\n",
    "        self.n_splits = n_splits\n",
    "        self.lookahead = lookahead\n",
    "        self.test_length = test_period_length\n",
    "        self.train_length = train_period_length\n",
    "        self.shuffle = shuffle\n",
    "        self.date_idx = date_idx\n",
    "\n",
    "    def split(self, X, y=None, groups=None):\n",
    "        unique_dates = X.index.get_level_values(self.date_idx).unique()\n",
    "        days = sorted(unique_dates, reverse=True)\n",
    "        split_idx = []\n",
    "        for i in range(self.n_splits):\n",
    "            test_end_idx = i * self.test_length\n",
    "            test_start_idx = test_end_idx + self.test_length\n",
    "            train_end_idx = test_start_idx + self.lookahead - 1\n",
    "            train_start_idx = train_end_idx + self.train_length + self.lookahead - 1\n",
    "            split_idx.append([train_start_idx, train_end_idx,\n",
    "                              test_start_idx, test_end_idx])\n",
    "\n",
    "        dates = X.reset_index()[[self.date_idx]]\n",
    "        for train_start, train_end, test_start, test_end in split_idx:\n",
    "\n",
    "            train_idx = dates[(dates[self.date_idx] > days[train_start])\n",
    "                              & (dates[self.date_idx] <= days[train_end])].index\n",
    "            test_idx = dates[(dates[self.date_idx] > days[test_start])\n",
    "                             & (dates[self.date_idx] <= days[test_end])].index\n",
    "            if self.shuffle:\n",
    "                np.random.shuffle(list(train_idx))\n",
    "            yield train_idx.to_numpy(), test_idx.to_numpy()\n",
    "\n",
    "    def get_n_splits(self, X, y, groups=None):\n",
    "        return self.n_splits\n"
   ]
  },
  {
   "cell_type": "code",
   "execution_count": 10,
   "metadata": {
    "ExecuteTime": {
     "end_time": "2020-05-06T22:56:47.179693Z",
     "start_time": "2020-05-06T22:56:47.173716Z"
    }
   },
   "outputs": [],
   "source": [
    "def get_fi(model):\n",
    "    fi = model.feature_importance(importance_type='gain')\n",
    "    return (pd.Series(fi / fi.sum(),\n",
    "                      index=model.feature_name()))"
   ]
  },
  {
   "cell_type": "markdown",
   "metadata": {},
   "source": [
    "### Categorical Variables"
   ]
  },
  {
   "cell_type": "code",
   "execution_count": 11,
   "metadata": {
    "ExecuteTime": {
     "end_time": "2020-05-06T22:56:53.789985Z",
     "start_time": "2020-05-06T22:56:51.881539Z"
    }
   },
   "outputs": [],
   "source": [
    "data['stock_id'] = pd.factorize(data.index.get_level_values('ticker'), sort=True)[0]"
   ]
  },
  {
   "cell_type": "code",
   "execution_count": 12,
   "metadata": {
    "ExecuteTime": {
     "end_time": "2020-05-06T22:56:53.792532Z",
     "start_time": "2020-05-06T22:56:53.790883Z"
    }
   },
   "outputs": [],
   "source": [
    "categoricals = ['minute', 'stock_id']"
   ]
  },
  {
   "cell_type": "markdown",
   "metadata": {},
   "source": [
    "### Custom Metric"
   ]
  },
  {
   "cell_type": "code",
   "execution_count": 13,
   "metadata": {
    "ExecuteTime": {
     "end_time": "2020-05-06T22:56:56.997707Z",
     "start_time": "2020-05-06T22:56:56.995470Z"
    }
   },
   "outputs": [],
   "source": [
    "def ic_lgbm(preds, train_data):\n",
    "    \"\"\"Custom IC eval metric for lightgbm\"\"\"\n",
    "    is_higher_better = True\n",
    "    return 'ic', spearmanr(preds, train_data.get_label())[0], is_higher_better"
   ]
  },
  {
   "cell_type": "code",
   "execution_count": 14,
   "metadata": {
    "ExecuteTime": {
     "end_time": "2020-05-06T22:56:57.692556Z",
     "start_time": "2020-05-06T22:56:57.146376Z"
    }
   },
   "outputs": [],
   "source": [
    "label = sorted(data.filter(like='fwd').columns)\n",
    "features = data.columns.difference(label).tolist()\n",
    "label = label[0]"
   ]
  },
  {
   "cell_type": "code",
   "execution_count": 15,
   "metadata": {
    "ExecuteTime": {
     "end_time": "2020-05-06T22:56:57.695439Z",
     "start_time": "2020-05-06T22:56:57.693568Z"
    }
   },
   "outputs": [],
   "source": [
    "params = dict(boosting='gbdt',\n",
    "              objective='regression',\n",
    "              metric='None',\n",
    "              verbose=-1)"
   ]
  },
  {
   "cell_type": "code",
   "execution_count": 16,
   "metadata": {
    "ExecuteTime": {
     "end_time": "2020-05-06T22:57:00.979485Z",
     "start_time": "2020-05-06T22:57:00.973346Z"
    }
   },
   "outputs": [],
   "source": [
    "num_boost_round = 250"
   ]
  },
  {
   "cell_type": "code",
   "execution_count": 17,
   "metadata": {
    "ExecuteTime": {
     "end_time": "2020-05-06T22:57:01.550700Z",
     "start_time": "2020-05-06T22:57:01.547303Z"
    }
   },
   "outputs": [],
   "source": [
    "DAY = 390   # minuts; 6.5 hrs (9:30 - 15:59)\n",
    "MONTH = 21  # trading days"
   ]
  },
  {
   "cell_type": "code",
   "execution_count": 18,
   "metadata": {
    "ExecuteTime": {
     "end_time": "2020-05-06T22:57:01.986188Z",
     "start_time": "2020-05-06T22:57:01.983234Z"
    }
   },
   "outputs": [],
   "source": [
    "n_splits = 24\n",
    "\n",
    "cv = MultipleTimeSeriesCV(n_splits=n_splits,\n",
    "                          lookahead=1,\n",
    "                          test_period_length=MONTH * DAY,\n",
    "                          train_period_length=12 * MONTH * DAY,\n",
    "                          date_idx='date_time')"
   ]
  },
  {
   "cell_type": "code",
   "execution_count": 19,
   "metadata": {
    "ExecuteTime": {
     "end_time": "2020-05-06T22:57:04.459365Z",
     "start_time": "2020-05-06T22:57:04.455360Z"
    }
   },
   "outputs": [],
   "source": [
    "store='hf_model.h5'"
   ]
  },
  {
   "cell_type": "code",
   "execution_count": null,
   "metadata": {
    "ExecuteTime": {
     "end_time": "2020-05-07T15:20:17.510334Z",
     "start_time": "2020-05-07T15:20:17.458713Z"
    }
   },
   "outputs": [],
   "source": [
    "for i, (train_idx, test_idx) in enumerate(cv.split(X=data)):\n",
    "    train_dates = data.iloc[train_idx].index.unique('date_time')\n",
    "    test_dates = data.iloc[test_idx].index.unique('date_time')\n",
    "    print(train_dates.min(), train_dates.max(), test_dates.min(), test_dates.max())"
   ]
  },
  {
   "cell_type": "code",
   "execution_count": 20,
   "metadata": {
    "ExecuteTime": {
     "end_time": "2020-05-06T22:57:07.088003Z",
     "start_time": "2020-05-06T22:57:05.896818Z"
    }
   },
   "outputs": [],
   "source": [
    "lgb_data = lgb.Dataset(data=data.drop(label, axis=1),\n",
    "                       label=data[label],\n",
    "                       categorical_feature=categoricals,\n",
    "                       free_raw_data=False)"
   ]
  },
  {
   "cell_type": "code",
   "execution_count": 35,
   "metadata": {
    "ExecuteTime": {
     "end_time": "2020-05-07T00:21:39.662849Z",
     "start_time": "2020-05-07T00:21:39.661067Z"
    }
   },
   "outputs": [],
   "source": [
    "cv_preds = [cv_preds]"
   ]
  },
  {
   "cell_type": "code",
   "execution_count": null,
   "metadata": {
    "ExecuteTime": {
     "end_time": "2020-05-07T05:32:28.540573Z",
     "start_time": "2020-05-07T00:21:48.507587Z"
    },
    "scrolled": false
   },
   "outputs": [],
   "source": [
    "T = 0\n",
    "cv_preds = []\n",
    "for i, (train_idx, test_idx) in enumerate(cv.split(X=data)):\n",
    "    start = time()\n",
    "    if i < 5: continue\n",
    "    t = time() - start\n",
    "    lgb_train = lgb_data.subset(train_idx.tolist()).construct()\n",
    "    lgb_test = lgb_data.subset(test_idx.tolist()).construct()\n",
    "    model = lgb.train(params=params,\n",
    "                      train_set=lgb_train,\n",
    "                      valid_sets=[lgb_train, lgb_test],\n",
    "                      feval=ic_lgbm,\n",
    "                      num_boost_round=num_boost_round,\n",
    "                      early_stopping_rounds=50,\n",
    "                      verbose_eval=50)\n",
    "    if i == 0:\n",
    "        fi = get_fi(model).to_frame()\n",
    "    else:\n",
    "        fi[i] = get_fi(model)\n",
    "    print(fi[i].nlargest(5))\n",
    "\n",
    "    test_set = data.iloc[test_idx, :]\n",
    "    X_test = test_set.loc[:, model.feature_name()]\n",
    "    y_test = test_set.loc[:, label]\n",
    "    y_pred = model.predict(X_test)\n",
    "    \n",
    "    cv_preds.append(y_test\n",
    "                    .to_frame('y_test')\n",
    "                    .assign(y_pred=y_pred).assign(i=i))\n",
    "    \n",
    "cv_preds = pd.concat(cv_preds)\n",
    "\n",
    "ic_by_day.to_hdf(store, 'daily_ic')\n",
    "fi.to_hdf(store, 'fi')\n",
    "cv_preds.to_hdf(store, 'predictions')"
   ]
  },
  {
   "cell_type": "markdown",
   "metadata": {},
   "source": [
    "## Signal Evaluation"
   ]
  },
  {
   "cell_type": "code",
   "execution_count": 24,
   "metadata": {
    "ExecuteTime": {
     "end_time": "2020-05-07T00:04:10.244723Z",
     "start_time": "2020-05-07T00:04:10.165510Z"
    }
   },
   "outputs": [
    {
     "name": "stdout",
     "output_type": "stream",
     "text": [
      "<class 'pandas.core.frame.DataFrame'>\n",
      "MultiIndex: 3227082 entries, ('AAL', Timestamp('2017-11-30 09:30:00')) to ('XRAY', Timestamp('2017-09-29 15:19:00'))\n",
      "Data columns (total 3 columns):\n",
      " #   Column  Non-Null Count    Dtype  \n",
      "---  ------  --------------    -----  \n",
      " 0   y_test  3227082 non-null  float64\n",
      " 1   y_pred  3227082 non-null  float64\n",
      " 2   i       3227082 non-null  int64  \n",
      "dtypes: float64(2), int64(1)\n",
      "memory usage: 83.3+ MB\n"
     ]
    }
   ],
   "source": [
    "cv_preds.info(null_counts=True)"
   ]
  },
  {
   "cell_type": "markdown",
   "metadata": {},
   "source": [
    "### Information Coefficient"
   ]
  },
  {
   "cell_type": "code",
   "execution_count": 77,
   "metadata": {
    "ExecuteTime": {
     "end_time": "2020-05-07T12:51:44.257363Z",
     "start_time": "2020-05-07T12:51:28.306108Z"
    }
   },
   "outputs": [
    {
     "name": "stdout",
     "output_type": "stream",
     "text": [
      "\n",
      " 1.90% |  1.98% |  1.91%\n"
     ]
    }
   ],
   "source": [
    "by_day = cv_preds.groupby(cv_preds.index.get_level_values('date_time').date)\n",
    "ic_by_day = by_day.apply(lambda x: spearmanr(x.y_test, x.y_pred)[0])\n",
    "\n",
    "daily_ic_mean = ic_by_day.mean()\n",
    "daily_ic_median = ic_by_day.median()\n",
    "\n",
    "ic = spearmanr(cv_preds.y_test, cv_preds.y_pred)[0]\n",
    "\n",
    "print(f'\\n{ic:6.2%} | {daily_ic_mean: 6.2%} | {daily_ic_median: 6.2%}')"
   ]
  },
  {
   "cell_type": "markdown",
   "metadata": {},
   "source": [
    "### Compute signal quantiles"
   ]
  },
  {
   "cell_type": "code",
   "execution_count": null,
   "metadata": {},
   "outputs": [],
   "source": [
    "dates = cv_preds.index.get_level_values('date_time').date"
   ]
  },
  {
   "cell_type": "code",
   "execution_count": 38,
   "metadata": {
    "ExecuteTime": {
     "end_time": "2020-05-07T11:34:56.084203Z",
     "start_time": "2020-05-07T11:33:45.910879Z"
    }
   },
   "outputs": [],
   "source": [
    "cv_preds['decile'] = (cv_preds.groupby(dates, group_keys=False)\n",
    "                      .apply(lambda x: pd.qcut(x.y_pred, q=10, labels=list(range(1, 11)))))"
   ]
  },
  {
   "cell_type": "code",
   "execution_count": 39,
   "metadata": {
    "ExecuteTime": {
     "end_time": "2020-05-07T11:35:16.119245Z",
     "start_time": "2020-05-07T11:34:56.085156Z"
    }
   },
   "outputs": [],
   "source": [
    "cv_preds['quintile'] = (cv_preds.groupby(dates, group_keys=False)\n",
    "                      .apply(lambda x: pd.qcut(x.y_pred, q=5, labels=list(range(1, 6)))))"
   ]
  },
  {
   "cell_type": "markdown",
   "metadata": {},
   "source": [
    "### Return Statistics by Quantile"
   ]
  },
  {
   "cell_type": "code",
   "execution_count": 48,
   "metadata": {
    "ExecuteTime": {
     "end_time": "2020-05-07T12:34:15.629019Z",
     "start_time": "2020-05-07T12:33:32.814660Z"
    }
   },
   "outputs": [
    {
     "data": {
      "text/html": [
       "<div>\n",
       "<style scoped>\n",
       "    .dataframe tbody tr th:only-of-type {\n",
       "        vertical-align: middle;\n",
       "    }\n",
       "\n",
       "    .dataframe tbody tr th {\n",
       "        vertical-align: top;\n",
       "    }\n",
       "\n",
       "    .dataframe thead th {\n",
       "        text-align: right;\n",
       "    }\n",
       "</style>\n",
       "<table border=\"1\" class=\"dataframe\">\n",
       "  <thead>\n",
       "    <tr style=\"text-align: right;\">\n",
       "      <th></th>\n",
       "      <th>count</th>\n",
       "      <th>mean</th>\n",
       "      <th>std</th>\n",
       "      <th>min</th>\n",
       "      <th>25%</th>\n",
       "      <th>50%</th>\n",
       "      <th>75%</th>\n",
       "      <th>max</th>\n",
       "    </tr>\n",
       "    <tr>\n",
       "      <th>quintile</th>\n",
       "      <th></th>\n",
       "      <th></th>\n",
       "      <th></th>\n",
       "      <th></th>\n",
       "      <th></th>\n",
       "      <th></th>\n",
       "      <th></th>\n",
       "      <th></th>\n",
       "    </tr>\n",
       "  </thead>\n",
       "  <tbody>\n",
       "    <tr>\n",
       "      <th>1</th>\n",
       "      <td>3789631.0</td>\n",
       "      <td>-1.393970e-05</td>\n",
       "      <td>0.000849</td>\n",
       "      <td>-0.062436</td>\n",
       "      <td>-0.000319</td>\n",
       "      <td>-0.000005</td>\n",
       "      <td>0.000293</td>\n",
       "      <td>0.069966</td>\n",
       "    </tr>\n",
       "    <tr>\n",
       "      <th>2</th>\n",
       "      <td>3789344.0</td>\n",
       "      <td>-3.759795e-06</td>\n",
       "      <td>0.000549</td>\n",
       "      <td>-0.045871</td>\n",
       "      <td>-0.000245</td>\n",
       "      <td>0.000000</td>\n",
       "      <td>0.000236</td>\n",
       "      <td>0.032385</td>\n",
       "    </tr>\n",
       "    <tr>\n",
       "      <th>3</th>\n",
       "      <td>3789345.0</td>\n",
       "      <td>-5.394314e-07</td>\n",
       "      <td>0.000523</td>\n",
       "      <td>-0.034013</td>\n",
       "      <td>-0.000234</td>\n",
       "      <td>0.000000</td>\n",
       "      <td>0.000231</td>\n",
       "      <td>0.031783</td>\n",
       "    </tr>\n",
       "    <tr>\n",
       "      <th>4</th>\n",
       "      <td>3789344.0</td>\n",
       "      <td>4.271292e-06</td>\n",
       "      <td>0.000545</td>\n",
       "      <td>-0.032158</td>\n",
       "      <td>-0.000235</td>\n",
       "      <td>0.000000</td>\n",
       "      <td>0.000242</td>\n",
       "      <td>0.067023</td>\n",
       "    </tr>\n",
       "    <tr>\n",
       "      <th>5</th>\n",
       "      <td>3789536.0</td>\n",
       "      <td>1.758100e-05</td>\n",
       "      <td>0.000801</td>\n",
       "      <td>-0.074215</td>\n",
       "      <td>-0.000280</td>\n",
       "      <td>0.000009</td>\n",
       "      <td>0.000311</td>\n",
       "      <td>0.045520</td>\n",
       "    </tr>\n",
       "  </tbody>\n",
       "</table>\n",
       "</div>"
      ],
      "text/plain": [
       "              count          mean       std       min       25%       50%  \\\n",
       "quintile                                                                    \n",
       "1         3789631.0 -1.393970e-05  0.000849 -0.062436 -0.000319 -0.000005   \n",
       "2         3789344.0 -3.759795e-06  0.000549 -0.045871 -0.000245  0.000000   \n",
       "3         3789345.0 -5.394314e-07  0.000523 -0.034013 -0.000234  0.000000   \n",
       "4         3789344.0  4.271292e-06  0.000545 -0.032158 -0.000235  0.000000   \n",
       "5         3789536.0  1.758100e-05  0.000801 -0.074215 -0.000280  0.000009   \n",
       "\n",
       "               75%       max  \n",
       "quintile                      \n",
       "1         0.000293  0.069966  \n",
       "2         0.000236  0.032385  \n",
       "3         0.000231  0.031783  \n",
       "4         0.000242  0.067023  \n",
       "5         0.000311  0.045520  "
      ]
     },
     "execution_count": 48,
     "metadata": {},
     "output_type": "execute_result"
    }
   ],
   "source": [
    "ret_stats_5 = cv_preds.groupby('quintile').y_test.describe()\n",
    "ret_stats_5"
   ]
  },
  {
   "cell_type": "code",
   "execution_count": 49,
   "metadata": {
    "ExecuteTime": {
     "end_time": "2020-05-07T12:34:15.639158Z",
     "start_time": "2020-05-07T12:34:15.630362Z"
    }
   },
   "outputs": [
    {
     "data": {
      "text/html": [
       "<div>\n",
       "<style scoped>\n",
       "    .dataframe tbody tr th:only-of-type {\n",
       "        vertical-align: middle;\n",
       "    }\n",
       "\n",
       "    .dataframe tbody tr th {\n",
       "        vertical-align: top;\n",
       "    }\n",
       "\n",
       "    .dataframe thead th {\n",
       "        text-align: right;\n",
       "    }\n",
       "</style>\n",
       "<table border=\"1\" class=\"dataframe\">\n",
       "  <thead>\n",
       "    <tr style=\"text-align: right;\">\n",
       "      <th></th>\n",
       "      <th>count</th>\n",
       "      <th>mean</th>\n",
       "      <th>std</th>\n",
       "      <th>min</th>\n",
       "      <th>25%</th>\n",
       "      <th>50%</th>\n",
       "      <th>75%</th>\n",
       "      <th>max</th>\n",
       "    </tr>\n",
       "    <tr>\n",
       "      <th>decile</th>\n",
       "      <th></th>\n",
       "      <th></th>\n",
       "      <th></th>\n",
       "      <th></th>\n",
       "      <th></th>\n",
       "      <th></th>\n",
       "      <th></th>\n",
       "      <th></th>\n",
       "    </tr>\n",
       "  </thead>\n",
       "  <tbody>\n",
       "    <tr>\n",
       "      <th>1</th>\n",
       "      <td>1894940.0</td>\n",
       "      <td>-1.995343e-05</td>\n",
       "      <td>0.001027</td>\n",
       "      <td>-0.062436</td>\n",
       "      <td>-0.000380</td>\n",
       "      <td>-9.469758e-06</td>\n",
       "      <td>0.000345</td>\n",
       "      <td>0.069966</td>\n",
       "    </tr>\n",
       "    <tr>\n",
       "      <th>2</th>\n",
       "      <td>1894691.0</td>\n",
       "      <td>-7.925179e-06</td>\n",
       "      <td>0.000621</td>\n",
       "      <td>-0.027180</td>\n",
       "      <td>-0.000270</td>\n",
       "      <td>-1.317809e-06</td>\n",
       "      <td>0.000253</td>\n",
       "      <td>0.067651</td>\n",
       "    </tr>\n",
       "    <tr>\n",
       "      <th>3</th>\n",
       "      <td>1894658.0</td>\n",
       "      <td>-4.578574e-06</td>\n",
       "      <td>0.000561</td>\n",
       "      <td>-0.045871</td>\n",
       "      <td>-0.000250</td>\n",
       "      <td>0.000000e+00</td>\n",
       "      <td>0.000239</td>\n",
       "      <td>0.029765</td>\n",
       "    </tr>\n",
       "    <tr>\n",
       "      <th>4</th>\n",
       "      <td>1894686.0</td>\n",
       "      <td>-2.941027e-06</td>\n",
       "      <td>0.000536</td>\n",
       "      <td>-0.035570</td>\n",
       "      <td>-0.000240</td>\n",
       "      <td>0.000000e+00</td>\n",
       "      <td>0.000233</td>\n",
       "      <td>0.032385</td>\n",
       "    </tr>\n",
       "    <tr>\n",
       "      <th>5</th>\n",
       "      <td>1894741.0</td>\n",
       "      <td>-1.129222e-06</td>\n",
       "      <td>0.000524</td>\n",
       "      <td>-0.022760</td>\n",
       "      <td>-0.000235</td>\n",
       "      <td>0.000000e+00</td>\n",
       "      <td>0.000231</td>\n",
       "      <td>0.031783</td>\n",
       "    </tr>\n",
       "    <tr>\n",
       "      <th>6</th>\n",
       "      <td>1894604.0</td>\n",
       "      <td>5.040185e-08</td>\n",
       "      <td>0.000522</td>\n",
       "      <td>-0.034013</td>\n",
       "      <td>-0.000233</td>\n",
       "      <td>0.000000e+00</td>\n",
       "      <td>0.000232</td>\n",
       "      <td>0.031527</td>\n",
       "    </tr>\n",
       "    <tr>\n",
       "      <th>7</th>\n",
       "      <td>1894642.0</td>\n",
       "      <td>2.915731e-06</td>\n",
       "      <td>0.000535</td>\n",
       "      <td>-0.020600</td>\n",
       "      <td>-0.000233</td>\n",
       "      <td>0.000000e+00</td>\n",
       "      <td>0.000238</td>\n",
       "      <td>0.067023</td>\n",
       "    </tr>\n",
       "    <tr>\n",
       "      <th>8</th>\n",
       "      <td>1894702.0</td>\n",
       "      <td>5.626810e-06</td>\n",
       "      <td>0.000555</td>\n",
       "      <td>-0.032158</td>\n",
       "      <td>-0.000237</td>\n",
       "      <td>9.249586e-07</td>\n",
       "      <td>0.000247</td>\n",
       "      <td>0.053167</td>\n",
       "    </tr>\n",
       "    <tr>\n",
       "      <th>9</th>\n",
       "      <td>1894649.0</td>\n",
       "      <td>9.261194e-06</td>\n",
       "      <td>0.000601</td>\n",
       "      <td>-0.025329</td>\n",
       "      <td>-0.000249</td>\n",
       "      <td>4.010937e-06</td>\n",
       "      <td>0.000265</td>\n",
       "      <td>0.036626</td>\n",
       "    </tr>\n",
       "    <tr>\n",
       "      <th>10</th>\n",
       "      <td>1894887.0</td>\n",
       "      <td>2.589977e-05</td>\n",
       "      <td>0.000961</td>\n",
       "      <td>-0.074215</td>\n",
       "      <td>-0.000320</td>\n",
       "      <td>1.621483e-05</td>\n",
       "      <td>0.000367</td>\n",
       "      <td>0.045520</td>\n",
       "    </tr>\n",
       "  </tbody>\n",
       "</table>\n",
       "</div>"
      ],
      "text/plain": [
       "            count          mean       std       min       25%           50%  \\\n",
       "decile                                                                        \n",
       "1       1894940.0 -1.995343e-05  0.001027 -0.062436 -0.000380 -9.469758e-06   \n",
       "2       1894691.0 -7.925179e-06  0.000621 -0.027180 -0.000270 -1.317809e-06   \n",
       "3       1894658.0 -4.578574e-06  0.000561 -0.045871 -0.000250  0.000000e+00   \n",
       "4       1894686.0 -2.941027e-06  0.000536 -0.035570 -0.000240  0.000000e+00   \n",
       "5       1894741.0 -1.129222e-06  0.000524 -0.022760 -0.000235  0.000000e+00   \n",
       "6       1894604.0  5.040185e-08  0.000522 -0.034013 -0.000233  0.000000e+00   \n",
       "7       1894642.0  2.915731e-06  0.000535 -0.020600 -0.000233  0.000000e+00   \n",
       "8       1894702.0  5.626810e-06  0.000555 -0.032158 -0.000237  9.249586e-07   \n",
       "9       1894649.0  9.261194e-06  0.000601 -0.025329 -0.000249  4.010937e-06   \n",
       "10      1894887.0  2.589977e-05  0.000961 -0.074215 -0.000320  1.621483e-05   \n",
       "\n",
       "             75%       max  \n",
       "decile                      \n",
       "1       0.000345  0.069966  \n",
       "2       0.000253  0.067651  \n",
       "3       0.000239  0.029765  \n",
       "4       0.000233  0.032385  \n",
       "5       0.000231  0.031783  \n",
       "6       0.000232  0.031527  \n",
       "7       0.000238  0.067023  \n",
       "8       0.000247  0.053167  \n",
       "9       0.000265  0.036626  \n",
       "10      0.000367  0.045520  "
      ]
     },
     "execution_count": 49,
     "metadata": {},
     "output_type": "execute_result"
    }
   ],
   "source": [
    "ret_stats_10 = cv_preds.groupby('decile').y_test.describe()\n",
    "ret_stats_10"
   ]
  },
  {
   "cell_type": "markdown",
   "metadata": {},
   "source": [
    "### Plot Performance by Decile"
   ]
  },
  {
   "cell_type": "code",
   "execution_count": 4,
   "metadata": {
    "ExecuteTime": {
     "end_time": "2020-05-08T13:07:56.280730Z",
     "start_time": "2020-05-08T13:07:54.716530Z"
    }
   },
   "outputs": [],
   "source": [
    "cv_preds= pd.read_hdf('hf_model.h5', 'predictions')"
   ]
  },
  {
   "cell_type": "code",
   "execution_count": 5,
   "metadata": {
    "ExecuteTime": {
     "end_time": "2020-05-08T13:07:58.650661Z",
     "start_time": "2020-05-08T13:07:57.040507Z"
    }
   },
   "outputs": [],
   "source": [
    "dates = cv_preds.index.get_level_values('date_time')\n",
    "min_ret_by_decile = cv_preds.groupby(['date_time', 'decile']).y_test.mean()\n",
    "cumulative_ret_by_decile = (min_ret_by_decile\n",
    "                            .unstack('decile')\n",
    "                            .add(1)\n",
    "                            .cumprod()\n",
    "                            .sub(1))"
   ]
  },
  {
   "cell_type": "code",
   "execution_count": 6,
   "metadata": {
    "ExecuteTime": {
     "end_time": "2020-05-08T13:08:25.630781Z",
     "start_time": "2020-05-08T13:08:05.498647Z"
    }
   },
   "outputs": [
    {
     "data": {
      "image/png": "[encoded data removed]",
      "text/plain": [
       "<Figure size 1008x288 with 2 Axes>"
      ]
     },
     "metadata": {},
     "output_type": "display_data"
    }
   ],
   "source": [
    "fig, axes = plt.subplots(figsize=(14, 4), ncols=2)\n",
    "\n",
    "sns.barplot(y='y_test', \n",
    "            x='decile', \n",
    "            data=cv_preds.assign(y_test=cv_preds.y_test.mul(10000)), \n",
    "            ax=axes[0])\n",
    "axes[0].set_title('Avg. 1-min Return by Signal Decile')\n",
    "axes[0].set_ylabel('Return (bps)')\n",
    "axes[0].set_xlabel('Decile')\n",
    "\n",
    "(min_ret_by_decile\n",
    " .unstack('decile')\n",
    " .add(1)\n",
    " .cumprod()\n",
    " .sub(1)\n",
    " .resample('D')\n",
    " .last()\n",
    " .dropna()\n",
    " .sort_index()\n",
    " .plot(ax=axes[1], title='Cumulative Return by Decile'))\n",
    "axes[1].yaxis.set_major_formatter(\n",
    "    FuncFormatter(lambda y, _: '{:.0%}'.format(y)))\n",
    "axes[1].set_xlabel('')\n",
    "axes[1].set_ylabel('Return')\n",
    "fig.tight_layout()\n",
    "fig.savefig('figures/hft_deciles', dpi=300)"
   ]
  }
 ],
 "metadata": {
  "kernelspec": {
   "display_name": "Python 3",
   "language": "python",
   "name": "python3"
  },
  "language_info": {
   "codemirror_mode": {
    "name": "ipython",
    "version": 3
   },
   "file_extension": ".py",
   "mimetype": "text/x-python",
   "name": "python",
   "nbconvert_exporter": "python",
   "pygments_lexer": "ipython3",
   "version": "3.7.7"
  },
  "toc": {
   "base_numbering": 1,
   "nav_menu": {},
   "number_sections": true,
   "sideBar": true,
   "skip_h1_title": true,
   "title_cell": "Table of Contents",
   "title_sidebar": "Contents",
   "toc_cell": false,
   "toc_position": {},
   "toc_section_display": true,
   "toc_window_display": true
  }
 },
 "nbformat": 4,
 "nbformat_minor": 2
}
