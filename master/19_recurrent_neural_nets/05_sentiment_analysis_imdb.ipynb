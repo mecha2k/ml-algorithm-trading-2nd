{
 "cells": [
  {
   "cell_type": "markdown",
   "metadata": {},
   "source": [
    "# LSTM & Word Embeddings for Sentiment Classification"
   ]
  },
  {
   "cell_type": "markdown",
   "metadata": {},
   "source": [
    "RNNs are commonly applied to various natural language processing tasks. We've already encountered sentiment analysis using text data in part three of this book.\n",
    "\n",
    "We are now going to illustrate how to apply an RNN model to text data to detect positive or negative sentiment (which can easily be extended to a finer-grained sentiment scale). We are going to use word embeddings to represent the tokens in the documents. We covered word embeddings in Chapter 15, Word Embeddings. They are an excellent technique to convert text into a continuous vector representation such that the relative location of words in the latent space encodes useful semantic aspects based on the words' usage in context.\n",
    "\n",
    "We saw in the previous RNN example that Keras has a built-in embedding layer that allows us to train vector representations specific to the task at hand. Alternatively, we can use pretrained vectors."
   ]
  },
  {
   "cell_type": "markdown",
   "metadata": {},
   "source": [
    "## Imports & Settings"
   ]
  },
  {
   "cell_type": "code",
   "execution_count": 1,
   "metadata": {
    "ExecuteTime": {
     "end_time": "2020-06-22T00:56:17.846968Z",
     "start_time": "2020-06-22T00:56:16.226960Z"
    }
   },
   "outputs": [],
   "source": [
    "%matplotlib inline\n",
    "\n",
    "from pathlib import Path\n",
    "\n",
    "import numpy as np\n",
    "import pandas as pd\n",
    "from sklearn.metrics import roc_auc_score\n",
    "\n",
    "import tensorflow as tf\n",
    "from tensorflow.keras.callbacks import ModelCheckpoint, EarlyStopping\n",
    "from tensorflow.keras.datasets import imdb\n",
    "from tensorflow.keras.models import Sequential\n",
    "from tensorflow.keras.layers import Dense, GRU, Embedding\n",
    "from tensorflow.keras.preprocessing.sequence import pad_sequences\n",
    "import tensorflow.keras.backend as K\n",
    "\n",
    "import matplotlib.pyplot as plt\n",
    "import seaborn as sns"
   ]
  },
  {
   "cell_type": "code",
   "execution_count": 2,
   "metadata": {
    "ExecuteTime": {
     "end_time": "2020-06-22T00:56:17.880723Z",
     "start_time": "2020-06-22T00:56:17.848466Z"
    }
   },
   "outputs": [
    {
     "name": "stdout",
     "output_type": "stream",
     "text": [
      "Using GPU\n"
     ]
    }
   ],
   "source": [
    "gpu_devices = tf.config.experimental.list_physical_devices('GPU')\n",
    "if gpu_devices:\n",
    "    print('Using GPU')\n",
    "    tf.config.experimental.set_memory_growth(gpu_devices[0], True)\n",
    "else:\n",
    "    print('Using CPU')"
   ]
  },
  {
   "cell_type": "code",
   "execution_count": 3,
   "metadata": {
    "ExecuteTime": {
     "end_time": "2020-06-22T00:56:17.897259Z",
     "start_time": "2020-06-22T00:56:17.883059Z"
    }
   },
   "outputs": [],
   "source": [
    "sns.set_style('whitegrid')\n",
    "np.random.seed(42)"
   ]
  },
  {
   "cell_type": "code",
   "execution_count": 4,
   "metadata": {
    "ExecuteTime": {
     "end_time": "2020-06-22T00:56:17.907985Z",
     "start_time": "2020-06-22T00:56:17.898465Z"
    }
   },
   "outputs": [],
   "source": [
    "results_path = Path('results', 'sentiment_imdb')\n",
    "if not results_path.exists():\n",
    "    results_path.mkdir(parents=True)"
   ]
  },
  {
   "cell_type": "markdown",
   "metadata": {},
   "source": [
    "## Load Reviews"
   ]
  },
  {
   "cell_type": "markdown",
   "metadata": {},
   "source": [
    "To keep the data manageable, we will illustrate this use case with the IMDB reviews dataset, which contains 50,000 positive and negative movie reviews evenly split into a train and a test set, and with balanced labels in each dataset. The vocabulary consists of 88,586 tokens.\n",
    "\n",
    "The dataset is bundled into Keras and can be loaded so that each review is represented as an integer-encoded sequence. We can limit the vocabulary to num_words while filtering out frequent and likely less informative words using skip_top, as well as sentences longer than maxlen. We can also choose oov_char, which represents tokens we chose to exclude from the vocabulary on frequency grounds, as follows:"
   ]
  },
  {
   "cell_type": "code",
   "execution_count": 5,
   "metadata": {
    "ExecuteTime": {
     "end_time": "2020-06-22T00:56:17.922921Z",
     "start_time": "2020-06-22T00:56:17.910357Z"
    }
   },
   "outputs": [],
   "source": [
    "vocab_size = 20000"
   ]
  },
  {
   "cell_type": "code",
   "execution_count": 6,
   "metadata": {
    "ExecuteTime": {
     "end_time": "2020-06-22T00:56:21.726976Z",
     "start_time": "2020-06-22T00:56:17.925579Z"
    }
   },
   "outputs": [],
   "source": [
    "(X_train, y_train), (X_test, y_test) = imdb.load_data(seed=42, \n",
    "                                                      skip_top=0,\n",
    "                                                      maxlen=None, \n",
    "                                                      oov_char=2, \n",
    "                                                      index_from=3,\n",
    "                                                      num_words=vocab_size)"
   ]
  },
  {
   "cell_type": "code",
   "execution_count": 7,
   "metadata": {
    "ExecuteTime": {
     "end_time": "2020-06-22T00:56:22.627584Z",
     "start_time": "2020-06-22T00:56:21.728546Z"
    },
    "scrolled": true
   },
   "outputs": [
    {
     "data": {
      "image/png": "[encoded data removed]",
      "text/plain": [
       "<Figure size 432x288 with 1 Axes>"
      ]
     },
     "metadata": {},
     "output_type": "display_data"
    }
   ],
   "source": [
    "ax = sns.distplot([len(review) for review in X_train])\n",
    "ax.set(xscale='log');"
   ]
  },
  {
   "cell_type": "markdown",
   "metadata": {},
   "source": [
    "## Prepare Data"
   ]
  },
  {
   "cell_type": "markdown",
   "metadata": {},
   "source": [
    "In the second step, convert the lists of integers into fixed-size arrays that we can stack and provide as input to our RNN. The pad_sequence function produces arrays of equal length, truncated, and padded to conform to maxlen, as follows:"
   ]
  },
  {
   "cell_type": "code",
   "execution_count": 8,
   "metadata": {
    "ExecuteTime": {
     "end_time": "2020-06-22T00:56:22.631479Z",
     "start_time": "2020-06-22T00:56:22.629298Z"
    }
   },
   "outputs": [],
   "source": [
    "maxlen = 100"
   ]
  },
  {
   "cell_type": "code",
   "execution_count": 9,
   "metadata": {
    "ExecuteTime": {
     "end_time": "2020-06-22T00:56:23.122747Z",
     "start_time": "2020-06-22T00:56:22.632757Z"
    }
   },
   "outputs": [],
   "source": [
    "X_train_padded = pad_sequences(X_train, \n",
    "                        truncating='pre', \n",
    "                        padding='pre', \n",
    "                        maxlen=maxlen)\n",
    "\n",
    "X_test_padded = pad_sequences(X_test, \n",
    "                       truncating='pre', \n",
    "                       padding='pre', \n",
    "                       maxlen=maxlen)"
   ]
  },
  {
   "cell_type": "code",
   "execution_count": 10,
   "metadata": {
    "ExecuteTime": {
     "end_time": "2020-06-22T00:56:23.127132Z",
     "start_time": "2020-06-22T00:56:23.123708Z"
    }
   },
   "outputs": [
    {
     "data": {
      "text/plain": [
       "((25000, 100), (25000, 100))"
      ]
     },
     "execution_count": 10,
     "metadata": {},
     "output_type": "execute_result"
    }
   ],
   "source": [
    "X_train_padded.shape, X_test_padded.shape"
   ]
  },
  {
   "cell_type": "markdown",
   "metadata": {},
   "source": [
    "## Define Model Architecture"
   ]
  },
  {
   "cell_type": "markdown",
   "metadata": {},
   "source": [
    "Now we can define our RNN architecture. The first layer learns the word embeddings. We define the embedding dimension as previously using the input_dim keyword to set the number of tokens that we need to embed, the output_dim keyword, which defines the size of each embedding, and how long each input sequence is going to be."
   ]
  },
  {
   "cell_type": "code",
   "execution_count": 11,
   "metadata": {
    "ExecuteTime": {
     "end_time": "2020-06-22T00:56:23.138436Z",
     "start_time": "2020-06-22T00:56:23.129179Z"
    }
   },
   "outputs": [],
   "source": [
    "K.clear_session()"
   ]
  },
  {
   "cell_type": "markdown",
   "metadata": {},
   "source": [
    "### Custom Loss Metric"
   ]
  },
  {
   "cell_type": "code",
   "execution_count": 12,
   "metadata": {
    "ExecuteTime": {
     "end_time": "2020-06-22T00:56:23.145022Z",
     "start_time": "2020-06-22T00:56:23.139827Z"
    }
   },
   "outputs": [],
   "source": [
    "embedding_size = 100"
   ]
  },
  {
   "cell_type": "markdown",
   "metadata": {},
   "source": [
    "Note that we are using GRUs this time, which train faster and perform better on smaller data. We are also using dropout for regularization, as follows:"
   ]
  },
  {
   "cell_type": "code",
   "execution_count": 13,
   "metadata": {
    "ExecuteTime": {
     "end_time": "2020-06-22T00:56:24.321967Z",
     "start_time": "2020-06-22T00:56:23.146967Z"
    }
   },
   "outputs": [
    {
     "name": "stdout",
     "output_type": "stream",
     "text": [
      "WARNING:tensorflow:Layer gru will not use cuDNN kernel since it doesn't meet the cuDNN kernel criteria. It will use generic GPU kernel as fallback when running on GPU\n",
      "Model: \"sequential\"\n",
      "_________________________________________________________________\n",
      "Layer (type)                 Output Shape              Param #   \n",
      "=================================================================\n",
      "embedding (Embedding)        (None, 100, 100)          2000000   \n",
      "_________________________________________________________________\n",
      "gru (GRU)                    (None, 32)                12864     \n",
      "_________________________________________________________________\n",
      "dense (Dense)                (None, 1)                 33        \n",
      "=================================================================\n",
      "Total params: 2,012,897\n",
      "Trainable params: 2,012,897\n",
      "Non-trainable params: 0\n",
      "_________________________________________________________________\n"
     ]
    }
   ],
   "source": [
    "rnn = Sequential([\n",
    "    Embedding(input_dim=vocab_size, \n",
    "              output_dim= embedding_size, \n",
    "              input_length=maxlen),\n",
    "    GRU(units=32,  \n",
    "        dropout=0.2, # comment out to use optimized GPU implementation\n",
    "        recurrent_dropout=0.2),\n",
    "    Dense(1, activation='sigmoid')\n",
    "])\n",
    "rnn.summary()"
   ]
  },
  {
   "cell_type": "markdown",
   "metadata": {},
   "source": [
    "The resulting model has over 2 million parameters."
   ]
  },
  {
   "cell_type": "markdown",
   "metadata": {},
   "source": [
    "We compile the model to use our custom AUC metric, which we introduced previously, and train with early stopping:"
   ]
  },
  {
   "cell_type": "code",
   "execution_count": 14,
   "metadata": {
    "ExecuteTime": {
     "end_time": "2020-06-22T00:56:24.357020Z",
     "start_time": "2020-06-22T00:56:24.323139Z"
    }
   },
   "outputs": [],
   "source": [
    "rnn.compile(loss='binary_crossentropy', \n",
    "            optimizer='RMSProp', \n",
    "            metrics=['accuracy', \n",
    "                     tf.keras.metrics.AUC(name='AUC')])"
   ]
  },
  {
   "cell_type": "code",
   "execution_count": 15,
   "metadata": {
    "ExecuteTime": {
     "end_time": "2020-06-22T00:56:24.361309Z",
     "start_time": "2020-06-22T00:56:24.358612Z"
    }
   },
   "outputs": [],
   "source": [
    "rnn_path = (results_path / 'lstm.h5').as_posix()\n",
    "\n",
    "checkpointer = ModelCheckpoint(filepath=rnn_path,\n",
    "                               verbose=1,\n",
    "                               monitor='val_AUC',\n",
    "                               mode='max',\n",
    "                               save_best_only=True)"
   ]
  },
  {
   "cell_type": "code",
   "execution_count": 16,
   "metadata": {
    "ExecuteTime": {
     "end_time": "2020-06-22T00:56:24.369867Z",
     "start_time": "2020-06-22T00:56:24.362390Z"
    }
   },
   "outputs": [],
   "source": [
    "early_stopping = EarlyStopping(monitor='val_AUC', \n",
    "                               mode='max',\n",
    "                              patience=5,\n",
    "                              restore_best_weights=True)"
   ]
  },
  {
   "cell_type": "markdown",
   "metadata": {},
   "source": [
    "Training stops after eight epochs and we recover the weights for the best models to find a high test AUC of 0.9346:"
   ]
  },
  {
   "cell_type": "code",
   "execution_count": 17,
   "metadata": {
    "ExecuteTime": {
     "end_time": "2020-06-22T01:37:03.531798Z",
     "start_time": "2020-06-22T00:56:24.373220Z"
    }
   },
   "outputs": [
    {
     "name": "stdout",
     "output_type": "stream",
     "text": [
      "Epoch 1/100\n",
      "782/782 [==============================] - ETA: 0s - loss: 0.4405 - accuracy: 0.7858 - AUC: 0.8756\n",
      "Epoch 00001: val_AUC improved from -inf to 0.92333, saving model to results/sentiment_imdb/lstm.h5\n",
      "782/782 [==============================] - 423s 541ms/step - loss: 0.4405 - accuracy: 0.7858 - AUC: 0.8756 - val_loss: 0.3949 - val_accuracy: 0.8205 - val_AUC: 0.9233\n",
      "Epoch 2/100\n",
      "782/782 [==============================] - ETA: 0s - loss: 0.2879 - accuracy: 0.8835 - AUC: 0.9492\n",
      "Epoch 00002: val_AUC improved from 0.92333 to 0.93434, saving model to results/sentiment_imdb/lstm.h5\n",
      "782/782 [==============================] - 361s 461ms/step - loss: 0.2879 - accuracy: 0.8835 - AUC: 0.9492 - val_loss: 0.4025 - val_accuracy: 0.8404 - val_AUC: 0.9343\n",
      "Epoch 3/100\n",
      "782/782 [==============================] - ETA: 0s - loss: 0.2407 - accuracy: 0.9039 - AUC: 0.9644\n",
      "Epoch 00003: val_AUC improved from 0.93434 to 0.93923, saving model to results/sentiment_imdb/lstm.h5\n",
      "782/782 [==============================] - 353s 451ms/step - loss: 0.2407 - accuracy: 0.9039 - AUC: 0.9644 - val_loss: 0.3568 - val_accuracy: 0.8499 - val_AUC: 0.9392\n",
      "Epoch 4/100\n",
      "782/782 [==============================] - ETA: 0s - loss: 0.2098 - accuracy: 0.9177 - AUC: 0.9728\n",
      "Epoch 00004: val_AUC improved from 0.93923 to 0.94101, saving model to results/sentiment_imdb/lstm.h5\n",
      "782/782 [==============================] - 271s 346ms/step - loss: 0.2098 - accuracy: 0.9177 - AUC: 0.9728 - val_loss: 0.3557 - val_accuracy: 0.8515 - val_AUC: 0.9410\n",
      "Epoch 5/100\n",
      "782/782 [==============================] - ETA: 0s - loss: 0.1830 - accuracy: 0.9298 - AUC: 0.9789\n",
      "Epoch 00005: val_AUC did not improve from 0.94101\n",
      "782/782 [==============================] - 201s 258ms/step - loss: 0.1830 - accuracy: 0.9298 - AUC: 0.9789 - val_loss: 0.3691 - val_accuracy: 0.8495 - val_AUC: 0.9392\n",
      "Epoch 6/100\n",
      "782/782 [==============================] - ETA: 0s - loss: 0.1625 - accuracy: 0.9382 - AUC: 0.9832\n",
      "Epoch 00006: val_AUC did not improve from 0.94101\n",
      "782/782 [==============================] - 204s 261ms/step - loss: 0.1625 - accuracy: 0.9382 - AUC: 0.9832 - val_loss: 0.3621 - val_accuracy: 0.8562 - val_AUC: 0.9367\n",
      "Epoch 7/100\n",
      "782/782 [==============================] - ETA: 0s - loss: 0.1459 - accuracy: 0.9453 - AUC: 0.9864\n",
      "Epoch 00007: val_AUC did not improve from 0.94101\n",
      "782/782 [==============================] - 211s 269ms/step - loss: 0.1459 - accuracy: 0.9453 - AUC: 0.9864 - val_loss: 0.3970 - val_accuracy: 0.8546 - val_AUC: 0.9327\n",
      "Epoch 8/100\n",
      "782/782 [==============================] - ETA: 0s - loss: 0.1300 - accuracy: 0.9530 - AUC: 0.9889\n",
      "Epoch 00008: val_AUC did not improve from 0.94101\n",
      "782/782 [==============================] - 206s 264ms/step - loss: 0.1300 - accuracy: 0.9530 - AUC: 0.9889 - val_loss: 0.3789 - val_accuracy: 0.8561 - val_AUC: 0.9347\n",
      "Epoch 9/100\n",
      "782/782 [==============================] - ETA: 0s - loss: 0.1165 - accuracy: 0.9575 - AUC: 0.9911\n",
      "Epoch 00009: val_AUC did not improve from 0.94101\n",
      "782/782 [==============================] - 203s 260ms/step - loss: 0.1165 - accuracy: 0.9575 - AUC: 0.9911 - val_loss: 0.3858 - val_accuracy: 0.8509 - val_AUC: 0.9309\n"
     ]
    }
   ],
   "source": [
    "training = rnn.fit(X_train_padded,\n",
    "                   y_train,\n",
    "                   batch_size=32,\n",
    "                   epochs=100,\n",
    "                   validation_data=(X_test_padded, y_test),\n",
    "                   callbacks=[early_stopping, checkpointer],\n",
    "                   verbose=1)"
   ]
  },
  {
   "cell_type": "markdown",
   "metadata": {},
   "source": [
    "## Evaluate Results"
   ]
  },
  {
   "cell_type": "code",
   "execution_count": 18,
   "metadata": {
    "ExecuteTime": {
     "end_time": "2020-06-22T01:37:03.545028Z",
     "start_time": "2020-06-22T01:37:03.533317Z"
    }
   },
   "outputs": [],
   "source": [
    "history = pd.DataFrame(training.history)\n",
    "history.index += 1"
   ]
  },
  {
   "cell_type": "code",
   "execution_count": 20,
   "metadata": {
    "ExecuteTime": {
     "end_time": "2020-06-22T01:37:04.464141Z",
     "start_time": "2020-06-22T01:37:03.561700Z"
    }
   },
   "outputs": [
    {
     "data": {
      "image/png": "[encoded data removed]",
      "text/plain": [
       "<Figure size 1008x288 with 2 Axes>"
      ]
     },
     "metadata": {},
     "output_type": "display_data"
    }
   ],
   "source": [
    "fig, axes = plt.subplots(ncols=2, figsize=(14, 4))\n",
    "df1 = (history[['accuracy', 'val_accuracy']]\n",
    "       .rename(columns={'accuracy': 'Training',\n",
    "                        'val_accuracy': 'Validation'}))\n",
    "df1.plot(ax=axes[0], title='Accuracy', xlim=(1, len(history)))\n",
    "\n",
    "axes[0].axvline(df.val_accuracy.idxmax(), ls='--', lw=1, c='k')\n",
    "\n",
    "df2 = (history[['AUC', 'val_AUC']]\n",
    "       .rename(columns={'AUC': 'Training',\n",
    "                        'val_AUC': 'Validation'}))\n",
    "df2.plot(ax=axes[1], title='Area under the ROC Curve', xlim=(1, len(history)))\n",
    "\n",
    "axes[1].axvline(df.val_AUC.idxmax(), ls='--', lw=1, c='k')\n",
    "\n",
    "for i in [0, 1]:\n",
    "    axes[i].set_xlabel('Epoch')\n",
    "\n",
    "sns.despine()\n",
    "fig.tight_layout()\n",
    "fig.savefig(results_path / 'rnn_imdb_cv', dpi=300)"
   ]
  },
  {
   "cell_type": "code",
   "execution_count": 21,
   "metadata": {
    "ExecuteTime": {
     "end_time": "2020-06-22T01:37:18.344545Z",
     "start_time": "2020-06-22T01:37:04.465577Z"
    }
   },
   "outputs": [
    {
     "data": {
      "text/plain": [
       "(25000, 1)"
      ]
     },
     "execution_count": 21,
     "metadata": {},
     "output_type": "execute_result"
    }
   ],
   "source": [
    "y_score = rnn.predict(X_test_padded)\n",
    "y_score.shape"
   ]
  },
  {
   "cell_type": "code",
   "execution_count": 22,
   "metadata": {
    "ExecuteTime": {
     "end_time": "2020-06-22T01:37:18.362454Z",
     "start_time": "2020-06-22T01:37:18.347568Z"
    }
   },
   "outputs": [
    {
     "data": {
      "text/plain": [
       "0.9410918336"
      ]
     },
     "execution_count": 22,
     "metadata": {},
     "output_type": "execute_result"
    }
   ],
   "source": [
    "roc_auc_score(y_score=y_score.squeeze(), y_true=y_test)"
   ]
  }
 ],
 "metadata": {
  "kernelspec": {
   "display_name": "Python [conda env:ml4t-dl]",
   "language": "python",
   "name": "conda-env-ml4t-dl-py"
  },
  "language_info": {
   "codemirror_mode": {
    "name": "ipython",
    "version": 3
   },
   "file_extension": ".py",
   "mimetype": "text/x-python",
   "name": "python",
   "nbconvert_exporter": "python",
   "pygments_lexer": "ipython3",
   "version": "3.7.7"
  },
  "toc": {
   "base_numbering": 1,
   "nav_menu": {},
   "number_sections": true,
   "sideBar": true,
   "skip_h1_title": true,
   "title_cell": "Table of Contents",
   "title_sidebar": "Contents",
   "toc_cell": false,
   "toc_position": {},
   "toc_section_display": true,
   "toc_window_display": true
  }
 },
 "nbformat": 4,
 "nbformat_minor": 4
}
