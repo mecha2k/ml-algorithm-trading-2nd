{
 "cells": [
  {
   "cell_type": "markdown",
   "metadata": {},
   "source": [
    "# Stacked LSTMs for Time Series Classification with TensorFlow"
   ]
  },
  {
   "cell_type": "markdown",
   "metadata": {},
   "source": [
    "We'll now build a slightly deeper model by stacking two LSTM layers using the Quandl stock price data. Furthermore, we will include features that are not sequential in nature, namely indicator variables for identifying the equity and the month."
   ]
  },
  {
   "cell_type": "markdown",
   "metadata": {},
   "source": [
    "## Imports"
   ]
  },
  {
   "cell_type": "code",
   "execution_count": 1,
   "metadata": {
    "ExecuteTime": {
     "end_time": "2020-06-22T00:40:11.940486Z",
     "start_time": "2020-06-22T00:40:11.937588Z"
    }
   },
   "outputs": [],
   "source": [
    "import warnings\n",
    "warnings.filterwarnings('ignore')"
   ]
  },
  {
   "cell_type": "code",
   "execution_count": 2,
   "metadata": {
    "ExecuteTime": {
     "end_time": "2020-06-22T00:40:13.584330Z",
     "start_time": "2020-06-22T00:40:11.944065Z"
    }
   },
   "outputs": [],
   "source": [
    "%matplotlib inline\n",
    "\n",
    "from pathlib import Path\n",
    "import numpy as np\n",
    "import pandas as pd\n",
    "from scipy.stats import spearmanr\n",
    "from sklearn.metrics import roc_auc_score\n",
    "\n",
    "import tensorflow as tf\n",
    "from tensorflow.keras.callbacks import ModelCheckpoint, EarlyStopping\n",
    "from tensorflow.keras.models import Model\n",
    "from tensorflow.keras.layers import Dense, LSTM, Input, concatenate, Embedding, Reshape, BatchNormalization\n",
    "import tensorflow.keras.backend as K\n",
    "\n",
    "import matplotlib.pyplot as plt\n",
    "import seaborn as sns"
   ]
  },
  {
   "cell_type": "code",
   "execution_count": 3,
   "metadata": {
    "ExecuteTime": {
     "end_time": "2020-06-22T00:40:13.614311Z",
     "start_time": "2020-06-22T00:40:13.585837Z"
    }
   },
   "outputs": [
    {
     "name": "stdout",
     "output_type": "stream",
     "text": [
      "Using GPU\n"
     ]
    }
   ],
   "source": [
    "gpu_devices = tf.config.experimental.list_physical_devices('GPU')\n",
    "if gpu_devices:\n",
    "    print('Using GPU')\n",
    "    tf.config.experimental.set_memory_growth(gpu_devices[0], True)\n",
    "else:\n",
    "    print('Using CPU')"
   ]
  },
  {
   "cell_type": "code",
   "execution_count": 4,
   "metadata": {
    "ExecuteTime": {
     "end_time": "2020-06-22T00:40:13.629790Z",
     "start_time": "2020-06-22T00:40:13.615656Z"
    }
   },
   "outputs": [],
   "source": [
    "idx = pd.IndexSlice\n",
    "sns.set_style('whitegrid')\n",
    "np.random.seed(42)"
   ]
  },
  {
   "cell_type": "code",
   "execution_count": 5,
   "metadata": {
    "ExecuteTime": {
     "end_time": "2020-06-22T00:40:13.659339Z",
     "start_time": "2020-06-22T00:40:13.631071Z"
    }
   },
   "outputs": [],
   "source": [
    "results_path = Path('results', 'lstm_embeddings')\n",
    "if not results_path.exists():\n",
    "    results_path.mkdir(parents=True)"
   ]
  },
  {
   "cell_type": "markdown",
   "metadata": {},
   "source": [
    "## Data"
   ]
  },
  {
   "cell_type": "markdown",
   "metadata": {},
   "source": [
    "Data produced by the notebook [build_dataset](00_build_dataset.ipynb)."
   ]
  },
  {
   "cell_type": "code",
   "execution_count": 6,
   "metadata": {
    "ExecuteTime": {
     "end_time": "2020-06-22T00:40:14.303606Z",
     "start_time": "2020-06-22T00:40:13.661226Z"
    }
   },
   "outputs": [],
   "source": [
    "data = pd.read_hdf('data.h5', 'returns_weekly')"
   ]
  },
  {
   "cell_type": "code",
   "execution_count": 7,
   "metadata": {
    "ExecuteTime": {
     "end_time": "2020-06-22T00:40:14.359654Z",
     "start_time": "2020-06-22T00:40:14.305436Z"
    }
   },
   "outputs": [],
   "source": [
    "data['ticker'] = pd.factorize(data.index.get_level_values('ticker'))[0]"
   ]
  },
  {
   "cell_type": "code",
   "execution_count": 8,
   "metadata": {
    "ExecuteTime": {
     "end_time": "2020-06-22T00:40:14.673691Z",
     "start_time": "2020-06-22T00:40:14.361521Z"
    }
   },
   "outputs": [],
   "source": [
    "data['month'] = data.index.get_level_values('date').month\n",
    "data = pd.get_dummies(data, columns=['month'], prefix='month')"
   ]
  },
  {
   "cell_type": "code",
   "execution_count": 9,
   "metadata": {
    "ExecuteTime": {
     "end_time": "2020-06-22T00:40:14.850346Z",
     "start_time": "2020-06-22T00:40:14.674875Z"
    }
   },
   "outputs": [
    {
     "name": "stdout",
     "output_type": "stream",
     "text": [
      "<class 'pandas.core.frame.DataFrame'>\n",
      "MultiIndex: 1167341 entries, ('A', Timestamp('2009-01-11 00:00:00')) to ('ZUMZ', Timestamp('2017-12-31 00:00:00'))\n",
      "Data columns (total 67 columns):\n",
      " #   Column       Non-Null Count    Dtype  \n",
      "---  ------       --------------    -----  \n",
      " 0   fwd_returns  1167341 non-null  float64\n",
      " 1   1            1167341 non-null  float64\n",
      " 2   2            1167341 non-null  float64\n",
      " 3   3            1167341 non-null  float64\n",
      " 4   4            1167341 non-null  float64\n",
      " 5   5            1167341 non-null  float64\n",
      " 6   6            1167341 non-null  float64\n",
      " 7   7            1167341 non-null  float64\n",
      " 8   8            1167341 non-null  float64\n",
      " 9   9            1167341 non-null  float64\n",
      " 10  10           1167341 non-null  float64\n",
      " 11  11           1167341 non-null  float64\n",
      " 12  12           1167341 non-null  float64\n",
      " 13  13           1167341 non-null  float64\n",
      " 14  14           1167341 non-null  float64\n",
      " 15  15           1167341 non-null  float64\n",
      " 16  16           1167341 non-null  float64\n",
      " 17  17           1167341 non-null  float64\n",
      " 18  18           1167341 non-null  float64\n",
      " 19  19           1167341 non-null  float64\n",
      " 20  20           1167341 non-null  float64\n",
      " 21  21           1167341 non-null  float64\n",
      " 22  22           1167341 non-null  float64\n",
      " 23  23           1167341 non-null  float64\n",
      " 24  24           1167341 non-null  float64\n",
      " 25  25           1167341 non-null  float64\n",
      " 26  26           1167341 non-null  float64\n",
      " 27  27           1167341 non-null  float64\n",
      " 28  28           1167341 non-null  float64\n",
      " 29  29           1167341 non-null  float64\n",
      " 30  30           1167341 non-null  float64\n",
      " 31  31           1167341 non-null  float64\n",
      " 32  32           1167341 non-null  float64\n",
      " 33  33           1167341 non-null  float64\n",
      " 34  34           1167341 non-null  float64\n",
      " 35  35           1167341 non-null  float64\n",
      " 36  36           1167341 non-null  float64\n",
      " 37  37           1167341 non-null  float64\n",
      " 38  38           1167341 non-null  float64\n",
      " 39  39           1167341 non-null  float64\n",
      " 40  40           1167341 non-null  float64\n",
      " 41  41           1167341 non-null  float64\n",
      " 42  42           1167341 non-null  float64\n",
      " 43  43           1167341 non-null  float64\n",
      " 44  44           1167341 non-null  float64\n",
      " 45  45           1167341 non-null  float64\n",
      " 46  46           1167341 non-null  float64\n",
      " 47  47           1167341 non-null  float64\n",
      " 48  48           1167341 non-null  float64\n",
      " 49  49           1167341 non-null  float64\n",
      " 50  50           1167341 non-null  float64\n",
      " 51  51           1167341 non-null  float64\n",
      " 52  52           1167341 non-null  float64\n",
      " 53  label        1167341 non-null  int64  \n",
      " 54  ticker       1167341 non-null  int64  \n",
      " 55  month_1      1167341 non-null  uint8  \n",
      " 56  month_2      1167341 non-null  uint8  \n",
      " 57  month_3      1167341 non-null  uint8  \n",
      " 58  month_4      1167341 non-null  uint8  \n",
      " 59  month_5      1167341 non-null  uint8  \n",
      " 60  month_6      1167341 non-null  uint8  \n",
      " 61  month_7      1167341 non-null  uint8  \n",
      " 62  month_8      1167341 non-null  uint8  \n",
      " 63  month_9      1167341 non-null  uint8  \n",
      " 64  month_10     1167341 non-null  uint8  \n",
      " 65  month_11     1167341 non-null  uint8  \n",
      " 66  month_12     1167341 non-null  uint8  \n",
      "dtypes: float64(53), int64(2), uint8(12)\n",
      "memory usage: 507.8+ MB\n"
     ]
    }
   ],
   "source": [
    "data.info()"
   ]
  },
  {
   "cell_type": "markdown",
   "metadata": {},
   "source": [
    "## Train-test split\n",
    "\n",
    "To respect the time series nature of the data, we set aside the data at the end of the sample as hold-out or test set. More specifically, we'll use the data for 2017."
   ]
  },
  {
   "cell_type": "code",
   "execution_count": 10,
   "metadata": {
    "ExecuteTime": {
     "end_time": "2020-06-22T00:40:14.860010Z",
     "start_time": "2020-06-22T00:40:14.851760Z"
    }
   },
   "outputs": [],
   "source": [
    "window_size=52\n",
    "sequence = list(range(1, window_size+1))\n",
    "ticker = 1\n",
    "months = 12\n",
    "n_tickers = data.ticker.nunique()"
   ]
  },
  {
   "cell_type": "code",
   "execution_count": 11,
   "metadata": {
    "ExecuteTime": {
     "end_time": "2020-06-22T00:40:15.416748Z",
     "start_time": "2020-06-22T00:40:14.861151Z"
    }
   },
   "outputs": [],
   "source": [
    "train_data = data.drop('fwd_returns', axis=1).loc[idx[:, :'2016'], :]\n",
    "test_data = data.drop('fwd_returns', axis=1).loc[idx[:, '2017'],:]"
   ]
  },
  {
   "cell_type": "markdown",
   "metadata": {},
   "source": [
    "For each train and test dataset, we generate a list with three input arrays containing the return series, the stock ticker (converted to integer values), and the month (as an integer), as shown here:"
   ]
  },
  {
   "cell_type": "code",
   "execution_count": 12,
   "metadata": {
    "ExecuteTime": {
     "end_time": "2020-06-22T00:40:15.516894Z",
     "start_time": "2020-06-22T00:40:15.418584Z"
    }
   },
   "outputs": [
    {
     "data": {
      "text/plain": [
       "([(1035424, 52, 1), (1035424,), (1035424, 12)], (1035424,))"
      ]
     },
     "execution_count": 12,
     "metadata": {},
     "output_type": "execute_result"
    }
   ],
   "source": [
    "X_train = [\n",
    "    train_data.loc[:, sequence].values.reshape(-1, window_size , 1),\n",
    "    train_data.ticker,\n",
    "    train_data.filter(like='month')\n",
    "]\n",
    "y_train = train_data.label\n",
    "[x.shape for x in X_train], y_train.shape"
   ]
  },
  {
   "cell_type": "code",
   "execution_count": 13,
   "metadata": {
    "ExecuteTime": {
     "end_time": "2020-06-22T00:40:15.549577Z",
     "start_time": "2020-06-22T00:40:15.518439Z"
    }
   },
   "outputs": [
    {
     "data": {
      "text/plain": [
       "([(131917, 52, 1), (131917,), (131917, 12)], (131917,))"
      ]
     },
     "execution_count": 13,
     "metadata": {},
     "output_type": "execute_result"
    }
   ],
   "source": [
    "# keep the last year for testing\n",
    "X_test = [\n",
    "    test_data.loc[:, list(range(1, window_size+1))].values.reshape(-1, window_size , 1),\n",
    "    test_data.ticker,\n",
    "    test_data.filter(like='month')\n",
    "]\n",
    "y_test = test_data.label\n",
    "[x.shape for x in X_test], y_test.shape"
   ]
  },
  {
   "cell_type": "markdown",
   "metadata": {},
   "source": [
    "##  Define the Model Architecture"
   ]
  },
  {
   "cell_type": "markdown",
   "metadata": {},
   "source": [
    "The functional API of Keras makes it easy to design architectures with multiple inputs and outputs. This example illustrates a network with three inputs, as follows:\n",
    "\n",
    "- A two stacked LSTM layers with 25 and 10 units respectively\n",
    "- An embedding layer that learns a 10-dimensional real-valued representation of the equities\n",
    "- A one-hot encoded representation of the month\n",
    "\n",
    "This can be constructed using just a few lines - see e.g., \n",
    "- the [general Keras documentation](https://keras.io/getting-started/sequential-model-guide/), \n",
    "- the [LSTM documentation](https://keras.io/layers/recurrent/).\n",
    "\n",
    "Make sure you are initializing your optimizer given the [keras-recommended approach for RNNs](https://keras.io/optimizers/) \n",
    "\n",
    "We begin by defining the three inputs with their respective shapes, as described here:"
   ]
  },
  {
   "cell_type": "code",
   "execution_count": 14,
   "metadata": {
    "ExecuteTime": {
     "end_time": "2020-06-22T00:40:15.556498Z",
     "start_time": "2020-06-22T00:40:15.551052Z"
    }
   },
   "outputs": [],
   "source": [
    "K.clear_session()"
   ]
  },
  {
   "cell_type": "code",
   "execution_count": 15,
   "metadata": {
    "ExecuteTime": {
     "end_time": "2020-06-22T00:40:15.563338Z",
     "start_time": "2020-06-22T00:40:15.557726Z"
    }
   },
   "outputs": [],
   "source": [
    "n_features = 1"
   ]
  },
  {
   "cell_type": "code",
   "execution_count": 16,
   "metadata": {
    "ExecuteTime": {
     "end_time": "2020-06-22T00:40:15.577847Z",
     "start_time": "2020-06-22T00:40:15.564510Z"
    }
   },
   "outputs": [],
   "source": [
    "returns = Input(shape=(window_size, n_features),\n",
    "                name='Returns')\n",
    "\n",
    "tickers = Input(shape=(1,),\n",
    "                name='Tickers')\n",
    "\n",
    "months = Input(shape=(12,),\n",
    "               name='Months')"
   ]
  },
  {
   "cell_type": "markdown",
   "metadata": {},
   "source": [
    "### LSTM Layers"
   ]
  },
  {
   "cell_type": "markdown",
   "metadata": {},
   "source": [
    "To define stacked LSTM layers, we set the `return_sequences` keyword to `True`. This ensures that the first layer produces an output that conforms to the expected three-dimensional input format. Note that we also use dropout regularization and how the functional API passes the tensor outputs from one layer to the subsequent layer:"
   ]
  },
  {
   "cell_type": "code",
   "execution_count": 17,
   "metadata": {
    "ExecuteTime": {
     "end_time": "2020-06-22T00:40:15.585322Z",
     "start_time": "2020-06-22T00:40:15.583391Z"
    }
   },
   "outputs": [],
   "source": [
    "lstm1_units = 25\n",
    "lstm2_units = 10"
   ]
  },
  {
   "cell_type": "code",
   "execution_count": 18,
   "metadata": {
    "ExecuteTime": {
     "end_time": "2020-06-22T00:40:16.585607Z",
     "start_time": "2020-06-22T00:40:15.587252Z"
    }
   },
   "outputs": [],
   "source": [
    "lstm1 = LSTM(units=lstm1_units, \n",
    "             input_shape=(window_size, \n",
    "                          n_features), \n",
    "             name='LSTM1', \n",
    "             dropout=.2,\n",
    "             return_sequences=True)(returns)\n",
    "\n",
    "lstm_model = LSTM(units=lstm2_units, \n",
    "             dropout=.2,\n",
    "             name='LSTM2')(lstm1)"
   ]
  },
  {
   "cell_type": "markdown",
   "metadata": {},
   "source": [
    "### Embedding Layer"
   ]
  },
  {
   "cell_type": "markdown",
   "metadata": {},
   "source": [
    "The embedding layer requires the `input_dim` keyword, which defines how many embeddings the layer will learn, the `output_dim` keyword, which defines the size of the embedding, and the `input_length` keyword to set the number of elements passed to the layer (here only one ticker per sample). \n",
    "\n",
    "To combine the embedding layer with the LSTM layer and the months input, we need to reshape (or flatten) it, as follows:"
   ]
  },
  {
   "cell_type": "code",
   "execution_count": 19,
   "metadata": {
    "ExecuteTime": {
     "end_time": "2020-06-22T00:40:16.600589Z",
     "start_time": "2020-06-22T00:40:16.586685Z"
    }
   },
   "outputs": [],
   "source": [
    "ticker_embedding = Embedding(input_dim=n_tickers, \n",
    "                             output_dim=5, \n",
    "                             input_length=1)(tickers)\n",
    "ticker_embedding = Reshape(target_shape=(5,))(ticker_embedding)"
   ]
  },
  {
   "cell_type": "markdown",
   "metadata": {},
   "source": [
    "### Concatenate Model components"
   ]
  },
  {
   "cell_type": "markdown",
   "metadata": {},
   "source": [
    "Now we can concatenate the three tensors and add fully-connected layers to learn a mapping from these learned time series, ticker, and month indicators to the outcome, a positive or negative return in the following week, as shown here:"
   ]
  },
  {
   "cell_type": "code",
   "execution_count": 20,
   "metadata": {
    "ExecuteTime": {
     "end_time": "2020-06-22T00:40:16.650654Z",
     "start_time": "2020-06-22T00:40:16.601839Z"
    }
   },
   "outputs": [],
   "source": [
    "merged = concatenate([lstm_model, \n",
    "                      ticker_embedding, \n",
    "                      months], name='Merged')\n",
    "\n",
    "bn = BatchNormalization()(merged)\n",
    "hidden_dense = Dense(10, name='FC1')(bn)\n",
    "\n",
    "output = Dense(1, name='Output', activation='sigmoid')(hidden_dense)\n",
    "\n",
    "rnn = Model(inputs=[returns, tickers, months], outputs=output)"
   ]
  },
  {
   "cell_type": "markdown",
   "metadata": {},
   "source": [
    "The summary lays out this slightly more sophisticated architecture with 29,371 parameters, as follows:"
   ]
  },
  {
   "cell_type": "code",
   "execution_count": 21,
   "metadata": {
    "ExecuteTime": {
     "end_time": "2020-06-22T00:40:16.658294Z",
     "start_time": "2020-06-22T00:40:16.652110Z"
    }
   },
   "outputs": [
    {
     "name": "stdout",
     "output_type": "stream",
     "text": [
      "Model: \"model\"\n",
      "__________________________________________________________________________________________________\n",
      "Layer (type)                    Output Shape         Param #     Connected to                     \n",
      "==================================================================================================\n",
      "Returns (InputLayer)            [(None, 52, 1)]      0                                            \n",
      "__________________________________________________________________________________________________\n",
      "Tickers (InputLayer)            [(None, 1)]          0                                            \n",
      "__________________________________________________________________________________________________\n",
      "LSTM1 (LSTM)                    (None, 52, 25)       2700        Returns[0][0]                    \n",
      "__________________________________________________________________________________________________\n",
      "embedding (Embedding)           (None, 1, 5)         12445       Tickers[0][0]                    \n",
      "__________________________________________________________________________________________________\n",
      "LSTM2 (LSTM)                    (None, 10)           1440        LSTM1[0][0]                      \n",
      "__________________________________________________________________________________________________\n",
      "reshape (Reshape)               (None, 5)            0           embedding[0][0]                  \n",
      "__________________________________________________________________________________________________\n",
      "Months (InputLayer)             [(None, 12)]         0                                            \n",
      "__________________________________________________________________________________________________\n",
      "Merged (Concatenate)            (None, 27)           0           LSTM2[0][0]                      \n",
      "                                                                 reshape[0][0]                    \n",
      "                                                                 Months[0][0]                     \n",
      "__________________________________________________________________________________________________\n",
      "batch_normalization (BatchNorma (None, 27)           108         Merged[0][0]                     \n",
      "__________________________________________________________________________________________________\n",
      "FC1 (Dense)                     (None, 10)           280         batch_normalization[0][0]        \n",
      "__________________________________________________________________________________________________\n",
      "Output (Dense)                  (None, 1)            11          FC1[0][0]                        \n",
      "==================================================================================================\n",
      "Total params: 16,984\n",
      "Trainable params: 16,930\n",
      "Non-trainable params: 54\n",
      "__________________________________________________________________________________________________\n"
     ]
    }
   ],
   "source": [
    "rnn.summary()"
   ]
  },
  {
   "cell_type": "markdown",
   "metadata": {},
   "source": [
    "## Train the Model"
   ]
  },
  {
   "cell_type": "markdown",
   "metadata": {},
   "source": [
    "We compile the model to compute a custom auc metric as follows:"
   ]
  },
  {
   "cell_type": "code",
   "execution_count": 22,
   "metadata": {
    "ExecuteTime": {
     "end_time": "2020-06-22T00:40:16.669910Z",
     "start_time": "2020-06-22T00:40:16.660490Z"
    }
   },
   "outputs": [],
   "source": [
    "optimizer = tf.keras.optimizers.RMSprop(lr=0.001,\n",
    "                                        rho=0.9,\n",
    "                                        epsilon=1e-08,\n",
    "                                        decay=0.0)"
   ]
  },
  {
   "cell_type": "code",
   "execution_count": 23,
   "metadata": {
    "ExecuteTime": {
     "end_time": "2020-06-22T00:40:16.700431Z",
     "start_time": "2020-06-22T00:40:16.671322Z"
    }
   },
   "outputs": [],
   "source": [
    "rnn.compile(loss='binary_crossentropy',\n",
    "            optimizer=optimizer,\n",
    "            metrics=['accuracy', \n",
    "                     tf.keras.metrics.AUC(name='AUC')])"
   ]
  },
  {
   "cell_type": "code",
   "execution_count": 24,
   "metadata": {
    "ExecuteTime": {
     "end_time": "2020-06-22T00:40:16.705569Z",
     "start_time": "2020-06-22T00:40:16.702025Z"
    }
   },
   "outputs": [],
   "source": [
    "lstm_path = (results_path / 'lstm.classification.h5').as_posix()\n",
    "\n",
    "checkpointer = ModelCheckpoint(filepath=lstm_path,\n",
    "                               verbose=1,\n",
    "                               monitor='val_AUC',\n",
    "                               mode='max',\n",
    "                               save_best_only=True)"
   ]
  },
  {
   "cell_type": "code",
   "execution_count": 25,
   "metadata": {
    "ExecuteTime": {
     "end_time": "2020-06-22T00:40:16.713989Z",
     "start_time": "2020-06-22T00:40:16.706996Z"
    }
   },
   "outputs": [],
   "source": [
    "early_stopping = EarlyStopping(monitor='val_AUC', \n",
    "                              patience=5,\n",
    "                              restore_best_weights=True,\n",
    "                              mode='max')"
   ]
  },
  {
   "cell_type": "code",
   "execution_count": 26,
   "metadata": {
    "ExecuteTime": {
     "end_time": "2020-06-22T01:43:51.374173Z",
     "start_time": "2020-06-22T00:40:16.715537Z"
    }
   },
   "outputs": [
    {
     "name": "stdout",
     "output_type": "stream",
     "text": [
      "Epoch 1/50\n",
      "32350/32357 [============================>.] - ETA: 0s - loss: 0.6893 - accuracy: 0.5368 - AUC: 0.5498\n",
      "Epoch 00001: val_AUC improved from -inf to 0.61844, saving model to results/lstm_embeddings/lstm.classification.h5\n",
      "32357/32357 [==============================] - 211s 7ms/step - loss: 0.6893 - accuracy: 0.5368 - AUC: 0.5499 - val_loss: 0.6765 - val_accuracy: 0.5771 - val_AUC: 0.6184\n",
      "Epoch 2/50\n",
      "32356/32357 [============================>.] - ETA: 0s - loss: 0.6857 - accuracy: 0.5491 - AUC: 0.5675\n",
      "Epoch 00002: val_AUC did not improve from 0.61844\n",
      "32357/32357 [==============================] - 399s 12ms/step - loss: 0.6857 - accuracy: 0.5491 - AUC: 0.5675 - val_loss: 0.6779 - val_accuracy: 0.5762 - val_AUC: 0.6167\n",
      "Epoch 3/50\n",
      "32356/32357 [============================>.] - ETA: 0s - loss: 0.6834 - accuracy: 0.5505 - AUC: 0.5708\n",
      "Epoch 00003: val_AUC did not improve from 0.61844\n",
      "32357/32357 [==============================] - 458s 14ms/step - loss: 0.6834 - accuracy: 0.5505 - AUC: 0.5708 - val_loss: 0.6895 - val_accuracy: 0.5479 - val_AUC: 0.5400\n",
      "Epoch 4/50\n",
      "32356/32357 [============================>.] - ETA: 0s - loss: 0.6814 - accuracy: 0.5473 - AUC: 0.5660\n",
      "Epoch 00004: val_AUC improved from 0.61844 to 0.67451, saving model to results/lstm_embeddings/lstm.classification.h5\n",
      "32357/32357 [==============================] - 332s 10ms/step - loss: 0.6814 - accuracy: 0.5473 - AUC: 0.5660 - val_loss: 0.5822 - val_accuracy: 0.6128 - val_AUC: 0.6745\n",
      "Epoch 5/50\n",
      "32352/32357 [============================>.] - ETA: 0s - loss: 0.6777 - accuracy: 0.5487 - AUC: 0.5688\n",
      "Epoch 00005: val_AUC improved from 0.67451 to 0.67761, saving model to results/lstm_embeddings/lstm.classification.h5\n",
      "32357/32357 [==============================] - 316s 10ms/step - loss: 0.6777 - accuracy: 0.5487 - AUC: 0.5688 - val_loss: 0.5727 - val_accuracy: 0.6160 - val_AUC: 0.6776\n",
      "Epoch 6/50\n",
      "32357/32357 [==============================] - ETA: 0s - loss: 0.6755 - accuracy: 0.5523 - AUC: 0.5742\n",
      "Epoch 00006: val_AUC improved from 0.67761 to 0.68097, saving model to results/lstm_embeddings/lstm.classification.h5\n",
      "32357/32357 [==============================] - 301s 9ms/step - loss: 0.6755 - accuracy: 0.5523 - AUC: 0.5742 - val_loss: 0.5699 - val_accuracy: 0.6166 - val_AUC: 0.6810\n",
      "Epoch 7/50\n",
      "32350/32357 [============================>.] - ETA: 0s - loss: 0.6740 - accuracy: 0.5544 - AUC: 0.5777\n",
      "Epoch 00007: val_AUC improved from 0.68097 to 0.68129, saving model to results/lstm_embeddings/lstm.classification.h5\n",
      "32357/32357 [==============================] - 286s 9ms/step - loss: 0.6740 - accuracy: 0.5544 - AUC: 0.5777 - val_loss: 0.5721 - val_accuracy: 0.6199 - val_AUC: 0.6813\n",
      "Epoch 8/50\n",
      "32351/32357 [============================>.] - ETA: 0s - loss: 0.6726 - accuracy: 0.5571 - AUC: 0.5824\n",
      "Epoch 00008: val_AUC improved from 0.68129 to 0.68414, saving model to results/lstm_embeddings/lstm.classification.h5\n",
      "32357/32357 [==============================] - 216s 7ms/step - loss: 0.6726 - accuracy: 0.5571 - AUC: 0.5824 - val_loss: 0.5696 - val_accuracy: 0.6177 - val_AUC: 0.6841\n",
      "Epoch 9/50\n",
      "32357/32357 [==============================] - ETA: 0s - loss: 0.6718 - accuracy: 0.5607 - AUC: 0.5872\n",
      "Epoch 00009: val_AUC improved from 0.68414 to 0.68560, saving model to results/lstm_embeddings/lstm.classification.h5\n",
      "32357/32357 [==============================] - 239s 7ms/step - loss: 0.6718 - accuracy: 0.5607 - AUC: 0.5872 - val_loss: 0.5735 - val_accuracy: 0.6219 - val_AUC: 0.6856\n",
      "Epoch 10/50\n",
      "32357/32357 [==============================] - ETA: 0s - loss: 0.6698 - accuracy: 0.5625 - AUC: 0.5910\n",
      "Epoch 00010: val_AUC did not improve from 0.68560\n",
      "32357/32357 [==============================] - 235s 7ms/step - loss: 0.6698 - accuracy: 0.5625 - AUC: 0.5910 - val_loss: 0.5831 - val_accuracy: 0.6199 - val_AUC: 0.6840\n",
      "Epoch 11/50\n",
      "32352/32357 [============================>.] - ETA: 0s - loss: 0.6728 - accuracy: 0.5618 - AUC: 0.5900\n",
      "Epoch 00011: val_AUC did not improve from 0.68560\n",
      "32357/32357 [==============================] - 226s 7ms/step - loss: 0.6728 - accuracy: 0.5618 - AUC: 0.5900 - val_loss: 0.5750 - val_accuracy: 0.6158 - val_AUC: 0.6770\n",
      "Epoch 12/50\n",
      "32355/32357 [============================>.] - ETA: 0s - loss: 0.6718 - accuracy: 0.5637 - AUC: 0.5932\n",
      "Epoch 00012: val_AUC did not improve from 0.68560\n",
      "32357/32357 [==============================] - 220s 7ms/step - loss: 0.6718 - accuracy: 0.5637 - AUC: 0.5932 - val_loss: 0.5729 - val_accuracy: 0.6207 - val_AUC: 0.6826\n",
      "Epoch 13/50\n",
      "32348/32357 [============================>.] - ETA: 0s - loss: 0.6716 - accuracy: 0.5647 - AUC: 0.5949\n",
      "Epoch 00013: val_AUC did not improve from 0.68560\n",
      "32357/32357 [==============================] - 185s 6ms/step - loss: 0.6716 - accuracy: 0.5647 - AUC: 0.5949 - val_loss: 0.5725 - val_accuracy: 0.6191 - val_AUC: 0.6826\n",
      "Epoch 14/50\n",
      "32357/32357 [==============================] - ETA: 0s - loss: 0.6730 - accuracy: 0.5645 - AUC: 0.5943\n",
      "Epoch 00014: val_AUC did not improve from 0.68560\n",
      "32357/32357 [==============================] - 187s 6ms/step - loss: 0.6730 - accuracy: 0.5645 - AUC: 0.5943 - val_loss: 0.5928 - val_accuracy: 0.6109 - val_AUC: 0.6739\n"
     ]
    }
   ],
   "source": [
    "training = rnn.fit(X_train,\n",
    "                   y_train,\n",
    "                   epochs=50,\n",
    "                   batch_size=32,\n",
    "                   validation_data=(X_test, y_test),\n",
    "                   callbacks=[early_stopping, checkpointer],\n",
    "                   verbose=1)"
   ]
  },
  {
   "cell_type": "markdown",
   "metadata": {},
   "source": [
    "Training stops after 18 epochs, producing a test area under the curve (AUC) of 0.63 for the best model with 13 rounds of training (each of which takes around three minutes on a single GPU)."
   ]
  },
  {
   "cell_type": "code",
   "execution_count": 27,
   "metadata": {
    "ExecuteTime": {
     "end_time": "2020-06-22T01:43:51.379877Z",
     "start_time": "2020-06-22T01:43:51.375669Z"
    }
   },
   "outputs": [],
   "source": [
    "loss_history = pd.DataFrame(training.history)"
   ]
  },
  {
   "cell_type": "code",
   "execution_count": 28,
   "metadata": {
    "ExecuteTime": {
     "end_time": "2020-06-22T01:43:51.391347Z",
     "start_time": "2020-06-22T01:43:51.380804Z"
    }
   },
   "outputs": [],
   "source": [
    "def which_metric(m):\n",
    "    return m.split('_')[-1]"
   ]
  },
  {
   "cell_type": "code",
   "execution_count": 29,
   "metadata": {
    "ExecuteTime": {
     "end_time": "2020-06-22T01:43:52.501314Z",
     "start_time": "2020-06-22T01:43:51.393570Z"
    }
   },
   "outputs": [
    {
     "data": {
      "image/png": "[encoded data removed]",
      "text/plain": [
       "<Figure size 1296x288 with 3 Axes>"
      ]
     },
     "metadata": {},
     "output_type": "display_data"
    }
   ],
   "source": [
    "fig, axes = plt.subplots(ncols=3, figsize=(18,4))\n",
    "for i, (metric, hist) in enumerate(loss_history.groupby(which_metric, axis=1)):\n",
    "    hist.plot(ax=axes[i], title=metric)\n",
    "    axes[i].legend(['Training', 'Validation'])\n",
    "\n",
    "sns.despine()\n",
    "fig.tight_layout()\n",
    "fig.savefig(results_path / 'lstm_stacked_classification', dpi=300);"
   ]
  },
  {
   "cell_type": "markdown",
   "metadata": {},
   "source": [
    "## Evaluate model performance"
   ]
  },
  {
   "cell_type": "code",
   "execution_count": 30,
   "metadata": {
    "ExecuteTime": {
     "end_time": "2020-06-22T01:44:00.226293Z",
     "start_time": "2020-06-22T01:43:52.502443Z"
    }
   },
   "outputs": [],
   "source": [
    "test_predict = pd.Series(rnn.predict(X_test).squeeze(), index=y_test.index)"
   ]
  },
  {
   "cell_type": "code",
   "execution_count": 31,
   "metadata": {
    "ExecuteTime": {
     "end_time": "2020-06-22T01:44:00.261060Z",
     "start_time": "2020-06-22T01:44:00.227327Z"
    }
   },
   "outputs": [
    {
     "data": {
      "text/plain": [
       "0.6856058141098694"
      ]
     },
     "execution_count": 31,
     "metadata": {},
     "output_type": "execute_result"
    }
   ],
   "source": [
    "roc_auc_score(y_score=test_predict, y_true=y_test)"
   ]
  },
  {
   "cell_type": "code",
   "execution_count": 32,
   "metadata": {
    "ExecuteTime": {
     "end_time": "2020-06-22T01:44:00.266609Z",
     "start_time": "2020-06-22T01:44:00.262143Z"
    }
   },
   "outputs": [
    {
     "data": {
      "text/plain": [
       "0.6218607154498662"
      ]
     },
     "execution_count": 32,
     "metadata": {},
     "output_type": "execute_result"
    }
   ],
   "source": [
    "((test_predict>.5) == y_test).astype(int).mean()"
   ]
  },
  {
   "cell_type": "code",
   "execution_count": 33,
   "metadata": {
    "ExecuteTime": {
     "end_time": "2020-06-22T01:44:00.294320Z",
     "start_time": "2020-06-22T01:44:00.267693Z"
    }
   },
   "outputs": [
    {
     "data": {
      "text/plain": [
       "0.31755979041009647"
      ]
     },
     "execution_count": 33,
     "metadata": {},
     "output_type": "execute_result"
    }
   ],
   "source": [
    "spearmanr(test_predict, y_test)[0]"
   ]
  }
 ],
 "metadata": {
  "anaconda-cloud": {},
  "kernelspec": {
   "display_name": "Python [conda env:ml4t-dl]",
   "language": "python",
   "name": "conda-env-ml4t-dl-py"
  },
  "language_info": {
   "codemirror_mode": {
    "name": "ipython",
    "version": 3
   },
   "file_extension": ".py",
   "mimetype": "text/x-python",
   "name": "python",
   "nbconvert_exporter": "python",
   "pygments_lexer": "ipython3",
   "version": "3.7.7"
  },
  "toc": {
   "base_numbering": 1,
   "nav_menu": {},
   "number_sections": true,
   "sideBar": true,
   "skip_h1_title": true,
   "title_cell": "Table of Contents",
   "title_sidebar": "Contents",
   "toc_cell": false,
   "toc_position": {},
   "toc_section_display": true,
   "toc_window_display": true
  }
 },
 "nbformat": 4,
 "nbformat_minor": 4
}
