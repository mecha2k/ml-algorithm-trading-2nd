{
 "cells": [
  {
   "cell_type": "markdown",
   "metadata": {
    "pycharm": {}
   },
   "source": [
    "# Recurrent Neural Networks"
   ]
  },
  {
   "cell_type": "markdown",
   "metadata": {
    "pycharm": {}
   },
   "source": [
    "## Univariate Time Series Regression"
   ]
  },
  {
   "cell_type": "markdown",
   "metadata": {
    "pycharm": {}
   },
   "source": [
    "This notebook demonstrates how to forecast the S&P 500 index using a Recurrent Neural Network."
   ]
  },
  {
   "cell_type": "markdown",
   "metadata": {
    "pycharm": {}
   },
   "source": [
    "## Imports & Settings"
   ]
  },
  {
   "cell_type": "code",
   "execution_count": 1,
   "metadata": {
    "ExecuteTime": {
     "end_time": "2020-06-22T00:28:57.949725Z",
     "start_time": "2020-06-22T00:28:57.945864Z"
    }
   },
   "outputs": [],
   "source": [
    "import warnings\n",
    "warnings.filterwarnings('ignore')"
   ]
  },
  {
   "cell_type": "code",
   "execution_count": 2,
   "metadata": {
    "ExecuteTime": {
     "end_time": "2020-06-22T00:28:59.456463Z",
     "start_time": "2020-06-22T00:28:57.952170Z"
    },
    "pycharm": {}
   },
   "outputs": [],
   "source": [
    "%matplotlib inline\n",
    "\n",
    "from pathlib import Path\n",
    "\n",
    "import numpy as np\n",
    "import pandas as pd\n",
    "import pandas_datareader.data as web\n",
    "from scipy.stats import spearmanr\n",
    "\n",
    "from sklearn.metrics import mean_squared_error\n",
    "from sklearn.preprocessing import MinMaxScaler\n",
    "\n",
    "import tensorflow as tf\n",
    "from tensorflow.keras.callbacks import ModelCheckpoint, EarlyStopping\n",
    "from tensorflow.keras.models import Sequential\n",
    "from tensorflow.keras.layers import Dense, LSTM\n",
    "from tensorflow import keras\n",
    "\n",
    "import matplotlib.pyplot as plt\n",
    "import seaborn as sns"
   ]
  },
  {
   "cell_type": "code",
   "execution_count": 3,
   "metadata": {
    "ExecuteTime": {
     "end_time": "2020-06-22T00:28:59.484771Z",
     "start_time": "2020-06-22T00:28:59.457669Z"
    }
   },
   "outputs": [
    {
     "name": "stdout",
     "output_type": "stream",
     "text": [
      "Using GPU\n"
     ]
    }
   ],
   "source": [
    "gpu_devices = tf.config.experimental.list_physical_devices('GPU')\n",
    "if gpu_devices:\n",
    "    print('Using GPU')\n",
    "    tf.config.experimental.set_memory_growth(gpu_devices[0], True)\n",
    "else:\n",
    "    print('Using CPU')"
   ]
  },
  {
   "cell_type": "code",
   "execution_count": 4,
   "metadata": {
    "ExecuteTime": {
     "end_time": "2020-06-22T00:28:59.501661Z",
     "start_time": "2020-06-22T00:28:59.486012Z"
    },
    "pycharm": {}
   },
   "outputs": [],
   "source": [
    "sns.set_style('whitegrid')\n",
    "np.random.seed(42)"
   ]
  },
  {
   "cell_type": "code",
   "execution_count": 5,
   "metadata": {
    "ExecuteTime": {
     "end_time": "2020-06-22T00:28:59.509800Z",
     "start_time": "2020-06-22T00:28:59.502837Z"
    }
   },
   "outputs": [],
   "source": [
    "results_path = Path('results', 'univariate_time_series')\n",
    "if not results_path.exists():\n",
    "    results_path.mkdir(parents=True)"
   ]
  },
  {
   "cell_type": "markdown",
   "metadata": {
    "pycharm": {}
   },
   "source": [
    "## Get Data"
   ]
  },
  {
   "cell_type": "markdown",
   "metadata": {
    "pycharm": {}
   },
   "source": [
    "We obtain data for 2010-2018 from the Federal Reserve Bank’s Data Service [FRED](https://fred.stlouisfed.org/) using the [pandas_datareader](https://pandas-datareader.readthedocs.io/) library in introduced in [Chapter 2 on Market and Fundamental Data](../02_market_and_fundamental_data)."
   ]
  },
  {
   "cell_type": "code",
   "execution_count": 6,
   "metadata": {
    "ExecuteTime": {
     "end_time": "2020-06-22T00:28:59.857059Z",
     "start_time": "2020-06-22T00:28:59.510988Z"
    },
    "pycharm": {}
   },
   "outputs": [
    {
     "data": {
      "image/png": "[encoded data removed]",
      "text/plain": [
       "<Figure size 1008x288 with 1 Axes>"
      ]
     },
     "metadata": {},
     "output_type": "display_data"
    }
   ],
   "source": [
    "sp500 = web.DataReader('SP500', 'fred', start='2010', end='2020').dropna()\n",
    "ax = sp500.plot(title='S&P 500',\n",
    "           legend=False,\n",
    "           figsize=(14, 4),\n",
    "           rot=0)\n",
    "ax.set_xlabel('')\n",
    "sns.despine()"
   ]
  },
  {
   "cell_type": "markdown",
   "metadata": {
    "pycharm": {}
   },
   "source": [
    "## Preprocessing"
   ]
  },
  {
   "cell_type": "code",
   "execution_count": 7,
   "metadata": {
    "ExecuteTime": {
     "end_time": "2020-06-22T00:28:59.861337Z",
     "start_time": "2020-06-22T00:28:59.859273Z"
    }
   },
   "outputs": [],
   "source": [
    "scaler = MinMaxScaler()"
   ]
  },
  {
   "cell_type": "code",
   "execution_count": 8,
   "metadata": {
    "ExecuteTime": {
     "end_time": "2020-06-22T00:28:59.878288Z",
     "start_time": "2020-06-22T00:28:59.862997Z"
    },
    "pycharm": {}
   },
   "outputs": [
    {
     "data": {
      "text/plain": [
       "count    2400.000000\n",
       "mean        0.442010\n",
       "std         0.258512\n",
       "min         0.000000\n",
       "25%         0.183086\n",
       "50%         0.448873\n",
       "75%         0.650368\n",
       "max         1.000000\n",
       "dtype: float64"
      ]
     },
     "execution_count": 8,
     "metadata": {},
     "output_type": "execute_result"
    }
   ],
   "source": [
    "sp500_scaled = pd.Series(scaler.fit_transform(sp500).squeeze(), \n",
    "                         index=sp500.index)\n",
    "sp500_scaled.describe()"
   ]
  },
  {
   "cell_type": "markdown",
   "metadata": {
    "pycharm": {}
   },
   "source": [
    "## Generating recurrent sequences from our time series\n",
    "\n",
    "Our time series is a sequence of numbers indexed by time:\n",
    "\n",
    "$$x_{0},x_{1},x_{2},...,x_{T}$$\n",
    "\n",
    "where $\\{x_t\\}$ is the numerical value in period $t$ and  $T$ is the total length of the series. \n",
    "\n",
    "To apply a RNN for regression of classification, we use a sliding window to construct a rolling set of input/output pairs for our model to learn from as animated below.\n",
    "\n",
    "<img src=\"../assets/timeseries_windowing.gif\" width=600 height=600/>"
   ]
  },
  {
   "cell_type": "markdown",
   "metadata": {
    "pycharm": {}
   },
   "source": [
    "We will generate sequences of 63 trading days, approximately three months, and use a single LSTM layer with 20 hidden units to predict the index value one timestep ahead. \n",
    "The input to every LSTM layer must have three dimensions, namely:\n",
    "- **Samples**: One sequence is one sample. A batch contains one or more samples.\n",
    "- **Time Steps**: One time step is one point of observation in the sample.\n",
    "- **Features**: One feature is one observation at a time step.\n",
    "\n",
    "Our S&P 500 sample has 2,264 observations or time steps. We will create overlapping sequences using a window of 63 observations each.\n",
    "For a simpler window of size T = 5, we obtain input-output pairs as shown in the following table:"
   ]
  },
  {
   "cell_type": "markdown",
   "metadata": {
    "pycharm": {}
   },
   "source": [
    "$$\\begin{array}{c|c}\n",
    "\\text{Input} & \\text{Output}\\\\\n",
    "\\hline  {\\langle x_1,x_2,x_3,x_4,x_5\\rangle} & { x_6} \\\\\n",
    "\\ {\\langle x_{2},x_{3},x_{4},x_{5},x_{6} \\rangle } & {x_{7} } \\\\\n",
    "  {\\vdots} & {\\vdots}\\\\\n",
    " { \\langle x_{T-5},x_{T-4},x_{T-3},x_{T-2},x_{T-1} \\rangle } &  {x_{T}}\n",
    "\\end{array}$$"
   ]
  },
  {
   "cell_type": "markdown",
   "metadata": {
    "pycharm": {}
   },
   "source": [
    "Generally speaking, for window size S, the relationship takes the form \n",
    "\n",
    "$$x_t = f( x_{t-1}, x_{t-2}, ..., x_{t-S}) \\quad\\forall t=S, S+1, ..., T$$\n",
    "\n",
    "Each of the $T-S$ lagged input sequence or vector is of length S with a corresponding scalar output."
   ]
  },
  {
   "cell_type": "markdown",
   "metadata": {
    "pycharm": {}
   },
   "source": [
    "We can use the function create_univariate_rnn_data() to stack sequences selected using a rolling windows:"
   ]
  },
  {
   "cell_type": "code",
   "execution_count": 9,
   "metadata": {
    "ExecuteTime": {
     "end_time": "2020-06-22T00:28:59.884845Z",
     "start_time": "2020-06-22T00:28:59.880387Z"
    },
    "pycharm": {}
   },
   "outputs": [],
   "source": [
    "def create_univariate_rnn_data(data, window_size):\n",
    "    n = len(data)\n",
    "    y = data[window_size:]\n",
    "    data = data.values.reshape(-1, 1) # make 2D\n",
    "    X = np.hstack(tuple([data[i: n-j, :] for i, j in enumerate(range(window_size, 0, -1))]))\n",
    "    return pd.DataFrame(X, index=y.index), y"
   ]
  },
  {
   "cell_type": "markdown",
   "metadata": {
    "pycharm": {}
   },
   "source": [
    "We apply this function to the rescaled stock index for a window_size=63 to obtain a two-dimensional dataset of shape number of samples x number of timesteps:"
   ]
  },
  {
   "cell_type": "code",
   "execution_count": 10,
   "metadata": {
    "ExecuteTime": {
     "end_time": "2020-06-22T00:28:59.892803Z",
     "start_time": "2020-06-22T00:28:59.886117Z"
    },
    "pycharm": {}
   },
   "outputs": [],
   "source": [
    "window_size = 63"
   ]
  },
  {
   "cell_type": "code",
   "execution_count": 11,
   "metadata": {
    "ExecuteTime": {
     "end_time": "2020-06-22T00:28:59.902311Z",
     "start_time": "2020-06-22T00:28:59.893749Z"
    },
    "pycharm": {}
   },
   "outputs": [],
   "source": [
    "X, y = create_univariate_rnn_data(sp500_scaled, window_size=window_size)"
   ]
  },
  {
   "cell_type": "code",
   "execution_count": 12,
   "metadata": {
    "ExecuteTime": {
     "end_time": "2020-06-22T00:28:59.931676Z",
     "start_time": "2020-06-22T00:28:59.903298Z"
    },
    "pycharm": {}
   },
   "outputs": [
    {
     "data": {
      "text/html": [
       "<div>\n",
       "<style scoped>\n",
       "    .dataframe tbody tr th:only-of-type {\n",
       "        vertical-align: middle;\n",
       "    }\n",
       "\n",
       "    .dataframe tbody tr th {\n",
       "        vertical-align: top;\n",
       "    }\n",
       "\n",
       "    .dataframe thead th {\n",
       "        text-align: right;\n",
       "    }\n",
       "</style>\n",
       "<table border=\"1\" class=\"dataframe\">\n",
       "  <thead>\n",
       "    <tr style=\"text-align: right;\">\n",
       "      <th></th>\n",
       "      <th>0</th>\n",
       "      <th>1</th>\n",
       "      <th>2</th>\n",
       "      <th>3</th>\n",
       "      <th>4</th>\n",
       "      <th>5</th>\n",
       "      <th>6</th>\n",
       "      <th>7</th>\n",
       "      <th>8</th>\n",
       "      <th>9</th>\n",
       "      <th>...</th>\n",
       "      <th>53</th>\n",
       "      <th>54</th>\n",
       "      <th>55</th>\n",
       "      <th>56</th>\n",
       "      <th>57</th>\n",
       "      <th>58</th>\n",
       "      <th>59</th>\n",
       "      <th>60</th>\n",
       "      <th>61</th>\n",
       "      <th>62</th>\n",
       "    </tr>\n",
       "    <tr>\n",
       "      <th>DATE</th>\n",
       "      <th></th>\n",
       "      <th></th>\n",
       "      <th></th>\n",
       "      <th></th>\n",
       "      <th></th>\n",
       "      <th></th>\n",
       "      <th></th>\n",
       "      <th></th>\n",
       "      <th></th>\n",
       "      <th></th>\n",
       "      <th></th>\n",
       "      <th></th>\n",
       "      <th></th>\n",
       "      <th></th>\n",
       "      <th></th>\n",
       "      <th></th>\n",
       "      <th></th>\n",
       "      <th></th>\n",
       "      <th></th>\n",
       "      <th></th>\n",
       "      <th></th>\n",
       "    </tr>\n",
       "  </thead>\n",
       "  <tbody>\n",
       "    <tr>\n",
       "      <th>2010-09-20</th>\n",
       "      <td>0.040867</td>\n",
       "      <td>0.032799</td>\n",
       "      <td>0.031324</td>\n",
       "      <td>0.023049</td>\n",
       "      <td>0.024434</td>\n",
       "      <td>0.023446</td>\n",
       "      <td>0.008415</td>\n",
       "      <td>0.003666</td>\n",
       "      <td>0.002160</td>\n",
       "      <td>0.000000</td>\n",
       "      <td>...</td>\n",
       "      <td>0.036948</td>\n",
       "      <td>0.031234</td>\n",
       "      <td>0.034405</td>\n",
       "      <td>0.036799</td>\n",
       "      <td>0.039221</td>\n",
       "      <td>0.044790</td>\n",
       "      <td>0.044430</td>\n",
       "      <td>0.046220</td>\n",
       "      <td>0.046035</td>\n",
       "      <td>0.046454</td>\n",
       "    </tr>\n",
       "    <tr>\n",
       "      <th>2010-09-21</th>\n",
       "      <td>0.032799</td>\n",
       "      <td>0.031324</td>\n",
       "      <td>0.023049</td>\n",
       "      <td>0.024434</td>\n",
       "      <td>0.023446</td>\n",
       "      <td>0.008415</td>\n",
       "      <td>0.003666</td>\n",
       "      <td>0.002160</td>\n",
       "      <td>0.000000</td>\n",
       "      <td>0.002471</td>\n",
       "      <td>...</td>\n",
       "      <td>0.031234</td>\n",
       "      <td>0.034405</td>\n",
       "      <td>0.036799</td>\n",
       "      <td>0.039221</td>\n",
       "      <td>0.044790</td>\n",
       "      <td>0.044430</td>\n",
       "      <td>0.046220</td>\n",
       "      <td>0.046035</td>\n",
       "      <td>0.046454</td>\n",
       "      <td>0.054175</td>\n",
       "    </tr>\n",
       "    <tr>\n",
       "      <th>2010-09-22</th>\n",
       "      <td>0.031324</td>\n",
       "      <td>0.023049</td>\n",
       "      <td>0.024434</td>\n",
       "      <td>0.023446</td>\n",
       "      <td>0.008415</td>\n",
       "      <td>0.003666</td>\n",
       "      <td>0.002160</td>\n",
       "      <td>0.000000</td>\n",
       "      <td>0.002471</td>\n",
       "      <td>0.016997</td>\n",
       "      <td>...</td>\n",
       "      <td>0.034405</td>\n",
       "      <td>0.036799</td>\n",
       "      <td>0.039221</td>\n",
       "      <td>0.044790</td>\n",
       "      <td>0.044430</td>\n",
       "      <td>0.046220</td>\n",
       "      <td>0.046035</td>\n",
       "      <td>0.046454</td>\n",
       "      <td>0.054175</td>\n",
       "      <td>0.052854</td>\n",
       "    </tr>\n",
       "    <tr>\n",
       "      <th>2010-09-23</th>\n",
       "      <td>0.023049</td>\n",
       "      <td>0.024434</td>\n",
       "      <td>0.023446</td>\n",
       "      <td>0.008415</td>\n",
       "      <td>0.003666</td>\n",
       "      <td>0.002160</td>\n",
       "      <td>0.000000</td>\n",
       "      <td>0.002471</td>\n",
       "      <td>0.016997</td>\n",
       "      <td>0.021498</td>\n",
       "      <td>...</td>\n",
       "      <td>0.036799</td>\n",
       "      <td>0.039221</td>\n",
       "      <td>0.044790</td>\n",
       "      <td>0.044430</td>\n",
       "      <td>0.046220</td>\n",
       "      <td>0.046035</td>\n",
       "      <td>0.046454</td>\n",
       "      <td>0.054175</td>\n",
       "      <td>0.052854</td>\n",
       "      <td>0.050373</td>\n",
       "    </tr>\n",
       "    <tr>\n",
       "      <th>2010-09-24</th>\n",
       "      <td>0.024434</td>\n",
       "      <td>0.023446</td>\n",
       "      <td>0.008415</td>\n",
       "      <td>0.003666</td>\n",
       "      <td>0.002160</td>\n",
       "      <td>0.000000</td>\n",
       "      <td>0.002471</td>\n",
       "      <td>0.016997</td>\n",
       "      <td>0.021498</td>\n",
       "      <td>0.024975</td>\n",
       "      <td>...</td>\n",
       "      <td>0.039221</td>\n",
       "      <td>0.044790</td>\n",
       "      <td>0.044430</td>\n",
       "      <td>0.046220</td>\n",
       "      <td>0.046035</td>\n",
       "      <td>0.046454</td>\n",
       "      <td>0.054175</td>\n",
       "      <td>0.052854</td>\n",
       "      <td>0.050373</td>\n",
       "      <td>0.046112</td>\n",
       "    </tr>\n",
       "  </tbody>\n",
       "</table>\n",
       "<p>5 rows × 63 columns</p>\n",
       "</div>"
      ],
      "text/plain": [
       "                  0         1         2         3         4         5   \\\n",
       "DATE                                                                     \n",
       "2010-09-20  0.040867  0.032799  0.031324  0.023049  0.024434  0.023446   \n",
       "2010-09-21  0.032799  0.031324  0.023049  0.024434  0.023446  0.008415   \n",
       "2010-09-22  0.031324  0.023049  0.024434  0.023446  0.008415  0.003666   \n",
       "2010-09-23  0.023049  0.024434  0.023446  0.008415  0.003666  0.002160   \n",
       "2010-09-24  0.024434  0.023446  0.008415  0.003666  0.002160  0.000000   \n",
       "\n",
       "                  6         7         8         9   ...        53        54  \\\n",
       "DATE                                                ...                       \n",
       "2010-09-20  0.008415  0.003666  0.002160  0.000000  ...  0.036948  0.031234   \n",
       "2010-09-21  0.003666  0.002160  0.000000  0.002471  ...  0.031234  0.034405   \n",
       "2010-09-22  0.002160  0.000000  0.002471  0.016997  ...  0.034405  0.036799   \n",
       "2010-09-23  0.000000  0.002471  0.016997  0.021498  ...  0.036799  0.039221   \n",
       "2010-09-24  0.002471  0.016997  0.021498  0.024975  ...  0.039221  0.044790   \n",
       "\n",
       "                  55        56        57        58        59        60  \\\n",
       "DATE                                                                     \n",
       "2010-09-20  0.034405  0.036799  0.039221  0.044790  0.044430  0.046220   \n",
       "2010-09-21  0.036799  0.039221  0.044790  0.044430  0.046220  0.046035   \n",
       "2010-09-22  0.039221  0.044790  0.044430  0.046220  0.046035  0.046454   \n",
       "2010-09-23  0.044790  0.044430  0.046220  0.046035  0.046454  0.054175   \n",
       "2010-09-24  0.044430  0.046220  0.046035  0.046454  0.054175  0.052854   \n",
       "\n",
       "                  61        62  \n",
       "DATE                            \n",
       "2010-09-20  0.046035  0.046454  \n",
       "2010-09-21  0.046454  0.054175  \n",
       "2010-09-22  0.054175  0.052854  \n",
       "2010-09-23  0.052854  0.050373  \n",
       "2010-09-24  0.050373  0.046112  \n",
       "\n",
       "[5 rows x 63 columns]"
      ]
     },
     "execution_count": 12,
     "metadata": {},
     "output_type": "execute_result"
    }
   ],
   "source": [
    "X.head()"
   ]
  },
  {
   "cell_type": "code",
   "execution_count": 13,
   "metadata": {
    "ExecuteTime": {
     "end_time": "2020-06-22T00:28:59.937856Z",
     "start_time": "2020-06-22T00:28:59.933306Z"
    },
    "pycharm": {}
   },
   "outputs": [
    {
     "data": {
      "text/plain": [
       "DATE\n",
       "2010-09-20    0.054175\n",
       "2010-09-21    0.052854\n",
       "2010-09-22    0.050373\n",
       "2010-09-23    0.046112\n",
       "2010-09-24    0.056863\n",
       "dtype: float64"
      ]
     },
     "execution_count": 13,
     "metadata": {},
     "output_type": "execute_result"
    }
   ],
   "source": [
    "y.head()"
   ]
  },
  {
   "cell_type": "code",
   "execution_count": 14,
   "metadata": {
    "ExecuteTime": {
     "end_time": "2020-06-22T00:28:59.945542Z",
     "start_time": "2020-06-22T00:28:59.939167Z"
    },
    "pycharm": {}
   },
   "outputs": [
    {
     "data": {
      "text/plain": [
       "(2337, 63)"
      ]
     },
     "execution_count": 14,
     "metadata": {},
     "output_type": "execute_result"
    }
   ],
   "source": [
    "X.shape"
   ]
  },
  {
   "cell_type": "markdown",
   "metadata": {
    "pycharm": {}
   },
   "source": [
    "## Train-test split\n",
    "\n",
    "To respect the time series nature of the data, we set aside the data at the end of the sample as hold-out or test set. More specifically, we'll use the data for 2018."
   ]
  },
  {
   "cell_type": "code",
   "execution_count": 15,
   "metadata": {
    "ExecuteTime": {
     "end_time": "2020-06-22T00:29:00.135973Z",
     "start_time": "2020-06-22T00:28:59.947796Z"
    },
    "pycharm": {}
   },
   "outputs": [
    {
     "data": {
      "image/png": "[encoded data removed]",
      "text/plain": [
       "<Figure size 1008x288 with 1 Axes>"
      ]
     },
     "metadata": {},
     "output_type": "display_data"
    }
   ],
   "source": [
    "ax = sp500_scaled.plot(lw=2, figsize=(14, 4), rot=0)\n",
    "ax.set_xlabel('')\n",
    "sns.despine()"
   ]
  },
  {
   "cell_type": "code",
   "execution_count": 16,
   "metadata": {
    "ExecuteTime": {
     "end_time": "2020-06-22T00:29:00.141874Z",
     "start_time": "2020-06-22T00:29:00.137146Z"
    },
    "pycharm": {}
   },
   "outputs": [],
   "source": [
    "X_train = X[:'2018'].values.reshape(-1, window_size, 1)\n",
    "y_train = y[:'2018']\n",
    "\n",
    "# keep the last year for testing\n",
    "X_test = X['2019'].values.reshape(-1, window_size, 1)\n",
    "y_test = y['2019']"
   ]
  },
  {
   "cell_type": "code",
   "execution_count": 17,
   "metadata": {
    "ExecuteTime": {
     "end_time": "2020-06-22T00:29:00.150161Z",
     "start_time": "2020-06-22T00:29:00.142895Z"
    },
    "pycharm": {}
   },
   "outputs": [],
   "source": [
    "n_obs, window_size, n_features = X_train.shape"
   ]
  },
  {
   "cell_type": "code",
   "execution_count": 18,
   "metadata": {
    "ExecuteTime": {
     "end_time": "2020-06-22T00:29:00.159411Z",
     "start_time": "2020-06-22T00:29:00.151354Z"
    },
    "pycharm": {}
   },
   "outputs": [
    {
     "data": {
      "text/plain": [
       "(2085,)"
      ]
     },
     "execution_count": 18,
     "metadata": {},
     "output_type": "execute_result"
    }
   ],
   "source": [
    "y_train.shape"
   ]
  },
  {
   "cell_type": "markdown",
   "metadata": {
    "pycharm": {}
   },
   "source": [
    "## Keras LSTM Layer"
   ]
  },
  {
   "cell_type": "markdown",
   "metadata": {
    "pycharm": {}
   },
   "source": [
    "Keras has several built-in RNN layers with various configuration options described in detail in the [documentation](https://keras.io/layers/recurrent/)."
   ]
  },
  {
   "cell_type": "markdown",
   "metadata": {
    "ExecuteTime": {
     "end_time": "2020-03-23T18:41:32.906454Z",
     "start_time": "2020-03-23T18:41:32.655189Z"
    },
    "pycharm": {}
   },
   "source": [
    "```\n",
    "LSTM(units,\n",
    "     activation='tanh',\n",
    "     recurrent_activation='hard_sigmoid',\n",
    "     use_bias=True,\n",
    "     kernel_initializer='glorot_uniform',\n",
    "     recurrent_initializer='orthogonal',\n",
    "     bias_initializer='zeros',\n",
    "     unit_forget_bias=True,\n",
    "     kernel_regularizer=None,\n",
    "     recurrent_regularizer=None,\n",
    "     bias_regularizer=None,\n",
    "     activity_regularizer=None,\n",
    "     kernel_constraint=None,\n",
    "     recurrent_constraint=None,\n",
    "     bias_constraint=None,\n",
    "     dropout=0.0,\n",
    "     recurrent_dropout=0.0,\n",
    "     implementation=1,\n",
    "     return_sequences=False,\n",
    "     return_state=False,\n",
    "     go_backwards=False,\n",
    "     stateful=False,\n",
    "     unroll=False)\n",
    " ```"
   ]
  },
  {
   "cell_type": "markdown",
   "metadata": {
    "pycharm": {}
   },
   "source": [
    "##  Define the Model Architecture\n",
    "\n",
    "Having created input/output pairs out of our time series and cut this into training/testing sets, we can now begin setting up our RNN.  We use Keras to quickly build a two hidden layer RNN of the following specifications\n",
    "\n",
    "- layer 1 uses an LSTM module with 20 hidden units (note here the input_shape = (window_size,1))\n",
    "- layer 2 uses a fully connected module with one unit\n",
    "- the 'mean_squared_error' loss should be used (remember: we are performing regression here)\n",
    "\n",
    "This can be constructed using just a few lines - see e.g., the [general Keras documentation](https://keras.io/getting-started/sequential-model-guide/) and the [LSTM documentation in particular](https://keras.io/layers/recurrent/) for examples of how to quickly use Keras to build neural network models.  Make sure you are initializing your optimizer given the [keras-recommended approach for RNNs](https://keras.io/optimizers/) "
   ]
  },
  {
   "cell_type": "code",
   "execution_count": 19,
   "metadata": {
    "ExecuteTime": {
     "end_time": "2020-06-22T00:29:00.801124Z",
     "start_time": "2020-06-22T00:29:00.160761Z"
    },
    "pycharm": {}
   },
   "outputs": [],
   "source": [
    "rnn = Sequential([\n",
    "    LSTM(units=10, \n",
    "         input_shape=(window_size, n_features), name='LSTM'),\n",
    "    Dense(1, name='Output')\n",
    "])"
   ]
  },
  {
   "cell_type": "markdown",
   "metadata": {
    "pycharm": {}
   },
   "source": [
    "The summary shows that the model has 1,781 parameters:"
   ]
  },
  {
   "cell_type": "code",
   "execution_count": 20,
   "metadata": {
    "ExecuteTime": {
     "end_time": "2020-06-22T00:29:00.807139Z",
     "start_time": "2020-06-22T00:29:00.802281Z"
    },
    "pycharm": {},
    "scrolled": true
   },
   "outputs": [
    {
     "name": "stdout",
     "output_type": "stream",
     "text": [
      "Model: \"sequential\"\n",
      "_________________________________________________________________\n",
      "Layer (type)                 Output Shape              Param #   \n",
      "=================================================================\n",
      "LSTM (LSTM)                  (None, 10)                480       \n",
      "_________________________________________________________________\n",
      "Output (Dense)               (None, 1)                 11        \n",
      "=================================================================\n",
      "Total params: 491\n",
      "Trainable params: 491\n",
      "Non-trainable params: 0\n",
      "_________________________________________________________________\n"
     ]
    }
   ],
   "source": [
    "rnn.summary()"
   ]
  },
  {
   "cell_type": "markdown",
   "metadata": {
    "pycharm": {}
   },
   "source": [
    "## Train the Model"
   ]
  },
  {
   "cell_type": "markdown",
   "metadata": {
    "pycharm": {}
   },
   "source": [
    "We train the model using the RMSProp optimizer recommended for RNN with default settings and compile the model with mean squared error for this regression problem:"
   ]
  },
  {
   "cell_type": "code",
   "execution_count": 21,
   "metadata": {
    "ExecuteTime": {
     "end_time": "2020-06-22T00:29:00.824619Z",
     "start_time": "2020-06-22T00:29:00.808444Z"
    },
    "pycharm": {}
   },
   "outputs": [],
   "source": [
    "optimizer = keras.optimizers.RMSprop(lr=0.001,\n",
    "                                     rho=0.9,\n",
    "                                     epsilon=1e-08,\n",
    "                                     decay=0.0)"
   ]
  },
  {
   "cell_type": "code",
   "execution_count": 22,
   "metadata": {
    "ExecuteTime": {
     "end_time": "2020-06-22T00:29:00.838920Z",
     "start_time": "2020-06-22T00:29:00.826528Z"
    },
    "pycharm": {}
   },
   "outputs": [],
   "source": [
    "rnn.compile(loss='mean_squared_error', \n",
    "            optimizer=optimizer)"
   ]
  },
  {
   "cell_type": "markdown",
   "metadata": {
    "pycharm": {}
   },
   "source": [
    "We define an EarlyStopping callback and train the model for up to 100 episodes. "
   ]
  },
  {
   "cell_type": "code",
   "execution_count": 23,
   "metadata": {
    "ExecuteTime": {
     "end_time": "2020-06-22T00:29:00.849248Z",
     "start_time": "2020-06-22T00:29:00.840141Z"
    }
   },
   "outputs": [],
   "source": [
    "rnn_path = (results_path / 'rnn.h5').as_posix()\n",
    "checkpointer = ModelCheckpoint(filepath=rnn_path,\n",
    "                               verbose=1,\n",
    "                               monitor='val_loss',\n",
    "                               save_best_only=True)"
   ]
  },
  {
   "cell_type": "code",
   "execution_count": 24,
   "metadata": {
    "ExecuteTime": {
     "end_time": "2020-06-22T00:29:00.857400Z",
     "start_time": "2020-06-22T00:29:00.850417Z"
    },
    "pycharm": {}
   },
   "outputs": [],
   "source": [
    "early_stopping = EarlyStopping(monitor='val_loss', \n",
    "                              patience=20,\n",
    "                              restore_best_weights=True)"
   ]
  },
  {
   "cell_type": "code",
   "execution_count": 25,
   "metadata": {
    "ExecuteTime": {
     "end_time": "2020-06-22T00:29:53.329264Z",
     "start_time": "2020-06-22T00:29:00.858560Z"
    },
    "pycharm": {},
    "scrolled": false
   },
   "outputs": [
    {
     "name": "stdout",
     "output_type": "stream",
     "text": [
      "Epoch 1/150\n",
      " 97/105 [==========================>...] - ETA: 0s - loss: 0.0455\n",
      "Epoch 00001: val_loss improved from inf to 0.00588, saving model to results/univariate_time_series/rnn.h5\n",
      "105/105 [==============================] - 1s 6ms/step - loss: 0.0424 - val_loss: 0.0059\n",
      "Epoch 2/150\n",
      " 99/105 [===========================>..] - ETA: 0s - loss: 7.4839e-04\n",
      "Epoch 00002: val_loss improved from 0.00588 to 0.00370, saving model to results/univariate_time_series/rnn.h5\n",
      "105/105 [==============================] - 0s 4ms/step - loss: 7.5517e-04 - val_loss: 0.0037\n",
      "Epoch 3/150\n",
      " 98/105 [===========================>..] - ETA: 0s - loss: 5.4455e-04\n",
      "Epoch 00003: val_loss improved from 0.00370 to 0.00101, saving model to results/univariate_time_series/rnn.h5\n",
      "105/105 [==============================] - 0s 4ms/step - loss: 5.3073e-04 - val_loss: 0.0010\n",
      "Epoch 4/150\n",
      "102/105 [============================>.] - ETA: 0s - loss: 4.6911e-04\n",
      "Epoch 00004: val_loss improved from 0.00101 to 0.00081, saving model to results/univariate_time_series/rnn.h5\n",
      "105/105 [==============================] - 0s 4ms/step - loss: 4.6534e-04 - val_loss: 8.1109e-04\n",
      "Epoch 5/150\n",
      " 91/105 [=========================>....] - ETA: 0s - loss: 4.3238e-04\n",
      "Epoch 00005: val_loss did not improve from 0.00081\n",
      "105/105 [==============================] - 0s 4ms/step - loss: 4.1375e-04 - val_loss: 0.0067\n",
      "Epoch 6/150\n",
      " 94/105 [=========================>....] - ETA: 0s - loss: 4.1304e-04\n",
      "Epoch 00006: val_loss did not improve from 0.00081\n",
      "105/105 [==============================] - 0s 4ms/step - loss: 3.9875e-04 - val_loss: 0.0012\n",
      "Epoch 7/150\n",
      "104/105 [============================>.] - ETA: 0s - loss: 3.6246e-04\n",
      "Epoch 00007: val_loss did not improve from 0.00081\n",
      "105/105 [==============================] - 0s 4ms/step - loss: 3.6212e-04 - val_loss: 0.0021\n",
      "Epoch 8/150\n",
      "101/105 [===========================>..] - ETA: 0s - loss: 3.3048e-04\n",
      "Epoch 00008: val_loss improved from 0.00081 to 0.00048, saving model to results/univariate_time_series/rnn.h5\n",
      "105/105 [==============================] - 0s 4ms/step - loss: 3.3291e-04 - val_loss: 4.7580e-04\n",
      "Epoch 9/150\n",
      " 99/105 [===========================>..] - ETA: 0s - loss: 2.9856e-04\n",
      "Epoch 00009: val_loss did not improve from 0.00048\n",
      "105/105 [==============================] - 0s 4ms/step - loss: 3.0256e-04 - val_loss: 0.0048\n",
      "Epoch 10/150\n",
      "105/105 [==============================] - ETA: 0s - loss: 3.2092e-04\n",
      "Epoch 00010: val_loss did not improve from 0.00048\n",
      "105/105 [==============================] - 0s 3ms/step - loss: 3.2092e-04 - val_loss: 0.0018\n",
      "Epoch 11/150\n",
      " 91/105 [=========================>....] - ETA: 0s - loss: 2.6870e-04\n",
      "Epoch 00011: val_loss did not improve from 0.00048\n",
      "105/105 [==============================] - 0s 3ms/step - loss: 2.7843e-04 - val_loss: 8.5474e-04\n",
      "Epoch 12/150\n",
      " 88/105 [========================>.....] - ETA: 0s - loss: 2.7523e-04\n",
      "Epoch 00012: val_loss improved from 0.00048 to 0.00037, saving model to results/univariate_time_series/rnn.h5\n",
      "105/105 [==============================] - 0s 3ms/step - loss: 2.7296e-04 - val_loss: 3.7270e-04\n",
      "Epoch 13/150\n",
      "102/105 [============================>.] - ETA: 0s - loss: 2.5604e-04\n",
      "Epoch 00013: val_loss did not improve from 0.00037\n",
      "105/105 [==============================] - 0s 3ms/step - loss: 2.5562e-04 - val_loss: 0.0052\n",
      "Epoch 14/150\n",
      " 90/105 [========================>.....] - ETA: 0s - loss: 2.5715e-04\n",
      "Epoch 00014: val_loss did not improve from 0.00037\n",
      "105/105 [==============================] - 0s 3ms/step - loss: 2.6218e-04 - val_loss: 5.6475e-04\n",
      "Epoch 15/150\n",
      "100/105 [===========================>..] - ETA: 0s - loss: 2.3664e-04\n",
      "Epoch 00015: val_loss did not improve from 0.00037\n",
      "105/105 [==============================] - 0s 4ms/step - loss: 2.3309e-04 - val_loss: 4.0825e-04\n",
      "Epoch 16/150\n",
      " 97/105 [==========================>...] - ETA: 0s - loss: 2.4202e-04\n",
      "Epoch 00016: val_loss did not improve from 0.00037\n",
      "105/105 [==============================] - 0s 4ms/step - loss: 2.3695e-04 - val_loss: 0.0029\n",
      "Epoch 17/150\n",
      " 93/105 [=========================>....] - ETA: 0s - loss: 2.2748e-04\n",
      "Epoch 00017: val_loss did not improve from 0.00037\n",
      "105/105 [==============================] - 0s 4ms/step - loss: 2.2826e-04 - val_loss: 6.3046e-04\n",
      "Epoch 18/150\n",
      " 98/105 [===========================>..] - ETA: 0s - loss: 2.1649e-04\n",
      "Epoch 00018: val_loss did not improve from 0.00037\n",
      "105/105 [==============================] - 0s 4ms/step - loss: 2.1443e-04 - val_loss: 0.0027\n",
      "Epoch 19/150\n",
      "102/105 [============================>.] - ETA: 0s - loss: 2.1383e-04\n",
      "Epoch 00019: val_loss did not improve from 0.00037\n",
      "105/105 [==============================] - 0s 3ms/step - loss: 2.1266e-04 - val_loss: 0.0019\n",
      "Epoch 20/150\n",
      " 98/105 [===========================>..] - ETA: 0s - loss: 2.1381e-04\n",
      "Epoch 00020: val_loss did not improve from 0.00037\n",
      "105/105 [==============================] - 0s 4ms/step - loss: 2.1244e-04 - val_loss: 0.0016\n",
      "Epoch 21/150\n",
      " 99/105 [===========================>..] - ETA: 0s - loss: 1.9860e-04\n",
      "Epoch 00021: val_loss did not improve from 0.00037\n",
      "105/105 [==============================] - 0s 4ms/step - loss: 1.9741e-04 - val_loss: 0.0021\n",
      "Epoch 22/150\n",
      "103/105 [============================>.] - ETA: 0s - loss: 1.9845e-04\n",
      "Epoch 00022: val_loss improved from 0.00037 to 0.00024, saving model to results/univariate_time_series/rnn.h5\n",
      "105/105 [==============================] - 0s 4ms/step - loss: 1.9679e-04 - val_loss: 2.3693e-04\n",
      "Epoch 23/150\n",
      " 95/105 [==========================>...] - ETA: 0s - loss: 1.9235e-04\n",
      "Epoch 00023: val_loss did not improve from 0.00024\n",
      "105/105 [==============================] - 0s 4ms/step - loss: 1.9857e-04 - val_loss: 0.0013\n",
      "Epoch 24/150\n",
      " 97/105 [==========================>...] - ETA: 0s - loss: 1.8702e-04\n",
      "Epoch 00024: val_loss did not improve from 0.00024\n",
      "105/105 [==============================] - 0s 4ms/step - loss: 1.8670e-04 - val_loss: 2.7561e-04\n",
      "Epoch 25/150\n",
      "101/105 [===========================>..] - ETA: 0s - loss: 1.8370e-04\n",
      "Epoch 00025: val_loss improved from 0.00024 to 0.00022, saving model to results/univariate_time_series/rnn.h5\n",
      "105/105 [==============================] - 0s 4ms/step - loss: 1.8232e-04 - val_loss: 2.2487e-04\n",
      "Epoch 26/150\n",
      "102/105 [============================>.] - ETA: 0s - loss: 1.7777e-04\n",
      "Epoch 00026: val_loss did not improve from 0.00022\n",
      "105/105 [==============================] - 0s 3ms/step - loss: 1.7741e-04 - val_loss: 5.8497e-04\n",
      "Epoch 27/150\n",
      "105/105 [==============================] - ETA: 0s - loss: 1.7498e-04\n",
      "Epoch 00027: val_loss improved from 0.00022 to 0.00021, saving model to results/univariate_time_series/rnn.h5\n",
      "105/105 [==============================] - 0s 3ms/step - loss: 1.7498e-04 - val_loss: 2.1277e-04\n",
      "Epoch 28/150\n",
      " 90/105 [========================>.....] - ETA: 0s - loss: 1.7488e-04\n",
      "Epoch 00028: val_loss improved from 0.00021 to 0.00020, saving model to results/univariate_time_series/rnn.h5\n",
      "105/105 [==============================] - 0s 3ms/step - loss: 1.6993e-04 - val_loss: 2.0426e-04\n",
      "Epoch 29/150\n",
      " 92/105 [=========================>....] - ETA: 0s - loss: 1.7015e-04\n",
      "Epoch 00029: val_loss did not improve from 0.00020\n",
      "105/105 [==============================] - 0s 4ms/step - loss: 1.7114e-04 - val_loss: 2.6052e-04\n",
      "Epoch 30/150\n",
      " 99/105 [===========================>..] - ETA: 0s - loss: 1.5653e-04\n",
      "Epoch 00030: val_loss did not improve from 0.00020\n",
      "105/105 [==============================] - 0s 4ms/step - loss: 1.5374e-04 - val_loss: 6.9099e-04\n",
      "Epoch 31/150\n",
      " 95/105 [==========================>...] - ETA: 0s - loss: 1.5530e-04\n",
      "Epoch 00031: val_loss improved from 0.00020 to 0.00020, saving model to results/univariate_time_series/rnn.h5\n",
      "105/105 [==============================] - 0s 5ms/step - loss: 1.5989e-04 - val_loss: 2.0041e-04\n",
      "Epoch 32/150\n",
      "104/105 [============================>.] - ETA: 0s - loss: 1.5473e-04\n",
      "Epoch 00032: val_loss did not improve from 0.00020\n",
      "105/105 [==============================] - 0s 4ms/step - loss: 1.5453e-04 - val_loss: 2.2005e-04\n",
      "Epoch 33/150\n",
      " 93/105 [=========================>....] - ETA: 0s - loss: 1.5410e-04\n",
      "Epoch 00033: val_loss did not improve from 0.00020\n",
      "105/105 [==============================] - 0s 4ms/step - loss: 1.5941e-04 - val_loss: 0.0010\n",
      "Epoch 34/150\n"
     ]
    },
    {
     "name": "stdout",
     "output_type": "stream",
     "text": [
      " 96/105 [==========================>...] - ETA: 0s - loss: 1.4961e-04\n",
      "Epoch 00034: val_loss did not improve from 0.00020\n",
      "105/105 [==============================] - 0s 4ms/step - loss: 1.5522e-04 - val_loss: 4.4414e-04\n",
      "Epoch 35/150\n",
      " 92/105 [=========================>....] - ETA: 0s - loss: 1.3921e-04\n",
      "Epoch 00035: val_loss did not improve from 0.00020\n",
      "105/105 [==============================] - 0s 4ms/step - loss: 1.5118e-04 - val_loss: 2.8947e-04\n",
      "Epoch 36/150\n",
      " 96/105 [==========================>...] - ETA: 0s - loss: 1.4667e-04\n",
      "Epoch 00036: val_loss did not improve from 0.00020\n",
      "105/105 [==============================] - 0s 4ms/step - loss: 1.4657e-04 - val_loss: 3.4191e-04\n",
      "Epoch 37/150\n",
      "104/105 [============================>.] - ETA: 0s - loss: 1.3847e-04\n",
      "Epoch 00037: val_loss did not improve from 0.00020\n",
      "105/105 [==============================] - 0s 4ms/step - loss: 1.3888e-04 - val_loss: 3.3352e-04\n",
      "Epoch 38/150\n",
      " 96/105 [==========================>...] - ETA: 0s - loss: 1.4425e-04\n",
      "Epoch 00038: val_loss did not improve from 0.00020\n",
      "105/105 [==============================] - 0s 4ms/step - loss: 1.4214e-04 - val_loss: 2.3517e-04\n",
      "Epoch 39/150\n",
      " 95/105 [==========================>...] - ETA: 0s - loss: 1.4257e-04\n",
      "Epoch 00039: val_loss did not improve from 0.00020\n",
      "105/105 [==============================] - 0s 4ms/step - loss: 1.4230e-04 - val_loss: 3.3486e-04\n",
      "Epoch 40/150\n",
      " 98/105 [===========================>..] - ETA: 0s - loss: 1.3776e-04\n",
      "Epoch 00040: val_loss improved from 0.00020 to 0.00019, saving model to results/univariate_time_series/rnn.h5\n",
      "105/105 [==============================] - 0s 4ms/step - loss: 1.3653e-04 - val_loss: 1.8989e-04\n",
      "Epoch 41/150\n",
      " 98/105 [===========================>..] - ETA: 0s - loss: 1.3520e-04\n",
      "Epoch 00041: val_loss did not improve from 0.00019\n",
      "105/105 [==============================] - 0s 4ms/step - loss: 1.3421e-04 - val_loss: 3.8536e-04\n",
      "Epoch 42/150\n",
      " 96/105 [==========================>...] - ETA: 0s - loss: 1.3602e-04\n",
      "Epoch 00042: val_loss did not improve from 0.00019\n",
      "105/105 [==============================] - 0s 4ms/step - loss: 1.3599e-04 - val_loss: 3.6122e-04\n",
      "Epoch 43/150\n",
      " 96/105 [==========================>...] - ETA: 0s - loss: 1.3551e-04\n",
      "Epoch 00043: val_loss improved from 0.00019 to 0.00019, saving model to results/univariate_time_series/rnn.h5\n",
      "105/105 [==============================] - 0s 4ms/step - loss: 1.3558e-04 - val_loss: 1.8888e-04\n",
      "Epoch 44/150\n",
      " 98/105 [===========================>..] - ETA: 0s - loss: 1.3360e-04\n",
      "Epoch 00044: val_loss improved from 0.00019 to 0.00015, saving model to results/univariate_time_series/rnn.h5\n",
      "105/105 [==============================] - 0s 4ms/step - loss: 1.3052e-04 - val_loss: 1.5386e-04\n",
      "Epoch 45/150\n",
      "103/105 [============================>.] - ETA: 0s - loss: 1.3164e-04\n",
      "Epoch 00045: val_loss improved from 0.00015 to 0.00015, saving model to results/univariate_time_series/rnn.h5\n",
      "105/105 [==============================] - 0s 5ms/step - loss: 1.3128e-04 - val_loss: 1.5201e-04\n",
      "Epoch 46/150\n",
      " 97/105 [==========================>...] - ETA: 0s - loss: 1.2780e-04\n",
      "Epoch 00046: val_loss improved from 0.00015 to 0.00015, saving model to results/univariate_time_series/rnn.h5\n",
      "105/105 [==============================] - 0s 4ms/step - loss: 1.2776e-04 - val_loss: 1.4998e-04\n",
      "Epoch 47/150\n",
      "104/105 [============================>.] - ETA: 0s - loss: 1.2544e-04\n",
      "Epoch 00047: val_loss did not improve from 0.00015\n",
      "105/105 [==============================] - 0s 5ms/step - loss: 1.2585e-04 - val_loss: 1.6848e-04\n",
      "Epoch 48/150\n",
      " 92/105 [=========================>....] - ETA: 0s - loss: 1.2098e-04\n",
      "Epoch 00048: val_loss did not improve from 0.00015\n",
      "105/105 [==============================] - 0s 4ms/step - loss: 1.2118e-04 - val_loss: 6.6547e-04\n",
      "Epoch 49/150\n",
      "105/105 [==============================] - ETA: 0s - loss: 1.1773e-04\n",
      "Epoch 00049: val_loss did not improve from 0.00015\n",
      "105/105 [==============================] - 0s 4ms/step - loss: 1.1773e-04 - val_loss: 2.9632e-04\n",
      "Epoch 50/150\n",
      " 96/105 [==========================>...] - ETA: 0s - loss: 1.2376e-04\n",
      "Epoch 00050: val_loss did not improve from 0.00015\n",
      "105/105 [==============================] - 0s 4ms/step - loss: 1.1954e-04 - val_loss: 1.7150e-04\n",
      "Epoch 51/150\n",
      " 97/105 [==========================>...] - ETA: 0s - loss: 1.2153e-04\n",
      "Epoch 00051: val_loss improved from 0.00015 to 0.00014, saving model to results/univariate_time_series/rnn.h5\n",
      "105/105 [==============================] - 0s 4ms/step - loss: 1.2246e-04 - val_loss: 1.4085e-04\n",
      "Epoch 52/150\n",
      "103/105 [============================>.] - ETA: 0s - loss: 1.1763e-04\n",
      "Epoch 00052: val_loss improved from 0.00014 to 0.00013, saving model to results/univariate_time_series/rnn.h5\n",
      "105/105 [==============================] - 0s 5ms/step - loss: 1.1731e-04 - val_loss: 1.3242e-04\n",
      "Epoch 53/150\n",
      " 95/105 [==========================>...] - ETA: 0s - loss: 1.1601e-04\n",
      "Epoch 00053: val_loss did not improve from 0.00013\n",
      "105/105 [==============================] - 0s 4ms/step - loss: 1.1352e-04 - val_loss: 2.6827e-04\n",
      "Epoch 54/150\n",
      " 94/105 [=========================>....] - ETA: 0s - loss: 1.1810e-04\n",
      "Epoch 00054: val_loss did not improve from 0.00013\n",
      "105/105 [==============================] - 0s 4ms/step - loss: 1.1646e-04 - val_loss: 1.9691e-04\n",
      "Epoch 55/150\n",
      " 93/105 [=========================>....] - ETA: 0s - loss: 1.1767e-04\n",
      "Epoch 00055: val_loss did not improve from 0.00013\n",
      "105/105 [==============================] - 0s 4ms/step - loss: 1.1812e-04 - val_loss: 1.7322e-04\n",
      "Epoch 56/150\n",
      " 95/105 [==========================>...] - ETA: 0s - loss: 1.0758e-04\n",
      "Epoch 00056: val_loss did not improve from 0.00013\n",
      "105/105 [==============================] - 0s 4ms/step - loss: 1.0872e-04 - val_loss: 4.5929e-04\n",
      "Epoch 57/150\n",
      " 97/105 [==========================>...] - ETA: 0s - loss: 1.0988e-04\n",
      "Epoch 00057: val_loss did not improve from 0.00013\n",
      "105/105 [==============================] - 1s 5ms/step - loss: 1.0741e-04 - val_loss: 8.5061e-04\n",
      "Epoch 58/150\n",
      " 98/105 [===========================>..] - ETA: 0s - loss: 1.0860e-04\n",
      "Epoch 00058: val_loss did not improve from 0.00013\n",
      "105/105 [==============================] - 0s 5ms/step - loss: 1.0776e-04 - val_loss: 2.2994e-04\n",
      "Epoch 59/150\n",
      "105/105 [==============================] - ETA: 0s - loss: 1.0534e-04\n",
      "Epoch 00059: val_loss improved from 0.00013 to 0.00013, saving model to results/univariate_time_series/rnn.h5\n",
      "105/105 [==============================] - 0s 5ms/step - loss: 1.0534e-04 - val_loss: 1.3215e-04\n",
      "Epoch 60/150\n",
      " 95/105 [==========================>...] - ETA: 0s - loss: 1.0339e-04\n",
      "Epoch 00060: val_loss did not improve from 0.00013\n",
      "105/105 [==============================] - 0s 4ms/step - loss: 1.0099e-04 - val_loss: 3.4269e-04\n",
      "Epoch 61/150\n",
      "100/105 [===========================>..] - ETA: 0s - loss: 1.0588e-04\n",
      "Epoch 00061: val_loss did not improve from 0.00013\n",
      "105/105 [==============================] - 0s 4ms/step - loss: 1.0419e-04 - val_loss: 2.0045e-04\n",
      "Epoch 62/150\n",
      "100/105 [===========================>..] - ETA: 0s - loss: 1.0441e-04\n",
      "Epoch 00062: val_loss did not improve from 0.00013\n",
      "105/105 [==============================] - 0s 4ms/step - loss: 1.0456e-04 - val_loss: 1.6793e-04\n",
      "Epoch 63/150\n",
      " 94/105 [=========================>....] - ETA: 0s - loss: 9.7536e-05\n",
      "Epoch 00063: val_loss improved from 0.00013 to 0.00012, saving model to results/univariate_time_series/rnn.h5\n",
      "105/105 [==============================] - 0s 4ms/step - loss: 1.0206e-04 - val_loss: 1.2493e-04\n",
      "Epoch 64/150\n",
      "103/105 [============================>.] - ETA: 0s - loss: 1.0073e-04\n",
      "Epoch 00064: val_loss did not improve from 0.00012\n",
      "105/105 [==============================] - 0s 5ms/step - loss: 1.0049e-04 - val_loss: 2.2024e-04\n",
      "Epoch 65/150\n",
      "105/105 [==============================] - ETA: 0s - loss: 9.8972e-05\n",
      "Epoch 00065: val_loss did not improve from 0.00012\n",
      "105/105 [==============================] - 0s 4ms/step - loss: 9.8972e-05 - val_loss: 1.6205e-04\n",
      "Epoch 66/150\n",
      " 93/105 [=========================>....] - ETA: 0s - loss: 9.4836e-05\n",
      "Epoch 00066: val_loss did not improve from 0.00012\n",
      "105/105 [==============================] - 0s 4ms/step - loss: 9.4601e-05 - val_loss: 1.4862e-04\n",
      "Epoch 67/150\n",
      " 96/105 [==========================>...] - ETA: 0s - loss: 9.6572e-05\n",
      "Epoch 00067: val_loss did not improve from 0.00012\n",
      "105/105 [==============================] - 0s 4ms/step - loss: 9.6922e-05 - val_loss: 1.4283e-04\n",
      "Epoch 68/150\n",
      " 98/105 [===========================>..] - ETA: 0s - loss: 9.6640e-05\n",
      "Epoch 00068: val_loss did not improve from 0.00012\n",
      "105/105 [==============================] - 0s 4ms/step - loss: 9.9077e-05 - val_loss: 0.0010\n",
      "Epoch 69/150\n",
      " 96/105 [==========================>...] - ETA: 0s - loss: 9.2175e-05\n",
      "Epoch 00069: val_loss did not improve from 0.00012\n",
      "105/105 [==============================] - 0s 4ms/step - loss: 9.7885e-05 - val_loss: 1.4946e-04\n",
      "Epoch 70/150\n",
      " 98/105 [===========================>..] - ETA: 0s - loss: 9.2284e-05\n",
      "Epoch 00070: val_loss did not improve from 0.00012\n",
      "105/105 [==============================] - 0s 4ms/step - loss: 9.4562e-05 - val_loss: 5.8100e-04\n",
      "Epoch 71/150\n",
      " 97/105 [==========================>...] - ETA: 0s - loss: 9.4112e-05\n",
      "Epoch 00071: val_loss did not improve from 0.00012\n",
      "105/105 [==============================] - 0s 4ms/step - loss: 9.6479e-05 - val_loss: 2.7146e-04\n",
      "Epoch 72/150\n",
      "102/105 [============================>.] - ETA: 0s - loss: 8.8487e-05\n",
      "Epoch 00072: val_loss did not improve from 0.00012\n",
      "105/105 [==============================] - 0s 5ms/step - loss: 8.7818e-05 - val_loss: 1.9897e-04\n",
      "Epoch 73/150\n",
      " 98/105 [===========================>..] - ETA: 0s - loss: 9.2066e-05\n",
      "Epoch 00073: val_loss did not improve from 0.00012\n",
      "105/105 [==============================] - 0s 4ms/step - loss: 9.2195e-05 - val_loss: 2.8640e-04\n",
      "Epoch 74/150\n",
      " 95/105 [==========================>...] - ETA: 0s - loss: 9.1824e-05\n",
      "Epoch 00074: val_loss improved from 0.00012 to 0.00012, saving model to results/univariate_time_series/rnn.h5\n",
      "105/105 [==============================] - 0s 4ms/step - loss: 9.3017e-05 - val_loss: 1.1837e-04\n",
      "Epoch 75/150\n",
      " 96/105 [==========================>...] - ETA: 0s - loss: 8.7867e-05\n",
      "Epoch 00075: val_loss did not improve from 0.00012\n",
      "105/105 [==============================] - 0s 4ms/step - loss: 8.6160e-05 - val_loss: 2.4053e-04\n",
      "Epoch 76/150\n",
      " 94/105 [=========================>....] - ETA: 0s - loss: 9.4892e-05\n",
      "Epoch 00076: val_loss did not improve from 0.00012\n",
      "105/105 [==============================] - 0s 4ms/step - loss: 9.3350e-05 - val_loss: 2.8772e-04\n",
      "Epoch 77/150\n",
      " 97/105 [==========================>...] - ETA: 0s - loss: 9.1303e-05\n",
      "Epoch 00077: val_loss did not improve from 0.00012\n",
      "105/105 [==============================] - 0s 5ms/step - loss: 9.2387e-05 - val_loss: 3.8830e-04\n",
      "Epoch 78/150\n",
      " 97/105 [==========================>...] - ETA: 0s - loss: 9.0950e-05\n",
      "Epoch 00078: val_loss improved from 0.00012 to 0.00012, saving model to results/univariate_time_series/rnn.h5\n",
      "105/105 [==============================] - 1s 5ms/step - loss: 9.1622e-05 - val_loss: 1.1557e-04\n",
      "Epoch 79/150\n",
      "103/105 [============================>.] - ETA: 0s - loss: 8.7621e-05\n",
      "Epoch 00079: val_loss did not improve from 0.00012\n",
      "105/105 [==============================] - 0s 4ms/step - loss: 8.7556e-05 - val_loss: 4.3934e-04\n",
      "Epoch 80/150\n",
      " 95/105 [==========================>...] - ETA: 0s - loss: 9.2171e-05\n",
      "Epoch 00080: val_loss did not improve from 0.00012\n",
      "105/105 [==============================] - 0s 4ms/step - loss: 9.0514e-05 - val_loss: 3.1937e-04\n",
      "Epoch 81/150\n",
      " 98/105 [===========================>..] - ETA: 0s - loss: 8.8238e-05\n",
      "Epoch 00081: val_loss did not improve from 0.00012\n",
      "105/105 [==============================] - 0s 4ms/step - loss: 8.8945e-05 - val_loss: 1.7648e-04\n",
      "Epoch 82/150\n",
      " 96/105 [==========================>...] - ETA: 0s - loss: 8.5748e-05\n",
      "Epoch 00082: val_loss did not improve from 0.00012\n",
      "105/105 [==============================] - 0s 4ms/step - loss: 8.6501e-05 - val_loss: 3.8351e-04\n",
      "Epoch 83/150\n",
      " 94/105 [=========================>....] - ETA: 0s - loss: 8.9720e-05\n",
      "Epoch 00083: val_loss did not improve from 0.00012\n",
      "105/105 [==============================] - 0s 4ms/step - loss: 8.9592e-05 - val_loss: 5.0158e-04\n",
      "Epoch 84/150\n",
      " 97/105 [==========================>...] - ETA: 0s - loss: 8.7144e-05\n",
      "Epoch 00084: val_loss did not improve from 0.00012\n",
      "105/105 [==============================] - 0s 5ms/step - loss: 8.6327e-05 - val_loss: 1.8081e-04\n",
      "Epoch 85/150\n",
      " 92/105 [=========================>....] - ETA: 0s - loss: 8.5838e-05\n",
      "Epoch 00085: val_loss did not improve from 0.00012\n",
      "105/105 [==============================] - 0s 4ms/step - loss: 8.7534e-05 - val_loss: 1.2058e-04\n",
      "Epoch 86/150\n",
      " 91/105 [=========================>....] - ETA: 0s - loss: 8.6152e-05\n",
      "Epoch 00086: val_loss improved from 0.00012 to 0.00012, saving model to results/univariate_time_series/rnn.h5\n",
      "105/105 [==============================] - 0s 4ms/step - loss: 8.7850e-05 - val_loss: 1.1557e-04\n",
      "Epoch 87/150\n",
      " 94/105 [=========================>....] - ETA: 0s - loss: 8.3088e-05\n",
      "Epoch 00087: val_loss did not improve from 0.00012\n",
      "105/105 [==============================] - 0s 4ms/step - loss: 8.1317e-05 - val_loss: 4.4360e-04\n",
      "Epoch 88/150\n",
      " 96/105 [==========================>...] - ETA: 0s - loss: 9.1450e-05\n",
      "Epoch 00088: val_loss did not improve from 0.00012\n",
      "105/105 [==============================] - 0s 4ms/step - loss: 8.9604e-05 - val_loss: 1.5574e-04\n",
      "Epoch 89/150\n",
      " 94/105 [=========================>....] - ETA: 0s - loss: 8.9934e-05\n",
      "Epoch 00089: val_loss did not improve from 0.00012\n",
      "105/105 [==============================] - 0s 4ms/step - loss: 8.6522e-05 - val_loss: 1.6182e-04\n",
      "Epoch 90/150\n",
      " 94/105 [=========================>....] - ETA: 0s - loss: 8.4549e-05\n",
      "Epoch 00090: val_loss did not improve from 0.00012\n",
      "105/105 [==============================] - 0s 4ms/step - loss: 8.5106e-05 - val_loss: 2.0097e-04\n",
      "Epoch 91/150\n",
      " 95/105 [==========================>...] - ETA: 0s - loss: 8.4895e-05\n",
      "Epoch 00091: val_loss improved from 0.00012 to 0.00011, saving model to results/univariate_time_series/rnn.h5\n",
      "105/105 [==============================] - 0s 5ms/step - loss: 8.4314e-05 - val_loss: 1.1120e-04\n",
      "Epoch 92/150\n",
      "105/105 [==============================] - ETA: 0s - loss: 8.1497e-05\n",
      "Epoch 00092: val_loss did not improve from 0.00011\n",
      "105/105 [==============================] - 0s 4ms/step - loss: 8.1497e-05 - val_loss: 2.3953e-04\n",
      "Epoch 93/150\n",
      " 94/105 [=========================>....] - ETA: 0s - loss: 8.2354e-05\n",
      "Epoch 00093: val_loss did not improve from 0.00011\n",
      "105/105 [==============================] - 0s 4ms/step - loss: 8.3321e-05 - val_loss: 1.9601e-04\n",
      "Epoch 94/150\n",
      "103/105 [============================>.] - ETA: 0s - loss: 8.2039e-05\n",
      "Epoch 00094: val_loss did not improve from 0.00011\n",
      "105/105 [==============================] - 0s 5ms/step - loss: 8.3233e-05 - val_loss: 1.3773e-04\n",
      "Epoch 95/150\n",
      "103/105 [============================>.] - ETA: 0s - loss: 8.3019e-05\n",
      "Epoch 00095: val_loss improved from 0.00011 to 0.00011, saving model to results/univariate_time_series/rnn.h5\n",
      "105/105 [==============================] - 0s 5ms/step - loss: 8.3459e-05 - val_loss: 1.1017e-04\n",
      "Epoch 96/150\n",
      "105/105 [==============================] - ETA: 0s - loss: 7.9638e-05\n",
      "Epoch 00096: val_loss did not improve from 0.00011\n",
      "105/105 [==============================] - 0s 5ms/step - loss: 7.9638e-05 - val_loss: 1.7005e-04\n",
      "Epoch 97/150\n",
      " 93/105 [=========================>....] - ETA: 0s - loss: 8.3635e-05\n",
      "Epoch 00097: val_loss did not improve from 0.00011\n",
      "105/105 [==============================] - 0s 4ms/step - loss: 8.2208e-05 - val_loss: 1.6028e-04\n",
      "Epoch 98/150\n",
      " 93/105 [=========================>....] - ETA: 0s - loss: 8.5393e-05\n",
      "Epoch 00098: val_loss did not improve from 0.00011\n",
      "105/105 [==============================] - 0s 4ms/step - loss: 8.3840e-05 - val_loss: 1.4668e-04\n",
      "Epoch 99/150\n",
      " 93/105 [=========================>....] - ETA: 0s - loss: 7.8794e-05\n",
      "Epoch 00099: val_loss did not improve from 0.00011\n",
      "105/105 [==============================] - 0s 4ms/step - loss: 8.2892e-05 - val_loss: 1.8632e-04\n",
      "Epoch 100/150\n",
      "102/105 [============================>.] - ETA: 0s - loss: 8.1542e-05\n",
      "Epoch 00100: val_loss did not improve from 0.00011\n",
      "105/105 [==============================] - 0s 5ms/step - loss: 8.0606e-05 - val_loss: 1.2358e-04\n",
      "Epoch 101/150\n"
     ]
    },
    {
     "name": "stdout",
     "output_type": "stream",
     "text": [
      " 97/105 [==========================>...] - ETA: 0s - loss: 7.7119e-05\n",
      "Epoch 00101: val_loss did not improve from 0.00011\n",
      "105/105 [==============================] - 0s 4ms/step - loss: 8.1989e-05 - val_loss: 1.8658e-04\n",
      "Epoch 102/150\n",
      "100/105 [===========================>..] - ETA: 0s - loss: 8.1358e-05\n",
      "Epoch 00102: val_loss did not improve from 0.00011\n",
      "105/105 [==============================] - 0s 4ms/step - loss: 8.1238e-05 - val_loss: 2.7674e-04\n",
      "Epoch 103/150\n",
      " 98/105 [===========================>..] - ETA: 0s - loss: 8.1740e-05\n",
      "Epoch 00103: val_loss did not improve from 0.00011\n",
      "105/105 [==============================] - 0s 4ms/step - loss: 8.2156e-05 - val_loss: 1.7315e-04\n",
      "Epoch 104/150\n",
      "101/105 [===========================>..] - ETA: 0s - loss: 7.9254e-05\n",
      "Epoch 00104: val_loss did not improve from 0.00011\n",
      "105/105 [==============================] - 1s 6ms/step - loss: 7.8230e-05 - val_loss: 1.7475e-04\n",
      "Epoch 105/150\n",
      " 97/105 [==========================>...] - ETA: 0s - loss: 7.7495e-05\n",
      "Epoch 00105: val_loss did not improve from 0.00011\n",
      "105/105 [==============================] - 0s 4ms/step - loss: 8.0735e-05 - val_loss: 1.2008e-04\n",
      "Epoch 106/150\n",
      "105/105 [==============================] - ETA: 0s - loss: 7.9774e-05\n",
      "Epoch 00106: val_loss did not improve from 0.00011\n",
      "105/105 [==============================] - 1s 5ms/step - loss: 7.9774e-05 - val_loss: 2.0882e-04\n",
      "Epoch 107/150\n",
      " 94/105 [=========================>....] - ETA: 0s - loss: 7.9619e-05\n",
      "Epoch 00107: val_loss did not improve from 0.00011\n",
      "105/105 [==============================] - 0s 4ms/step - loss: 7.8319e-05 - val_loss: 1.1090e-04\n",
      "Epoch 108/150\n",
      " 96/105 [==========================>...] - ETA: 0s - loss: 7.8002e-05\n",
      "Epoch 00108: val_loss did not improve from 0.00011\n",
      "105/105 [==============================] - 0s 4ms/step - loss: 7.6599e-05 - val_loss: 1.1376e-04\n",
      "Epoch 109/150\n",
      " 98/105 [===========================>..] - ETA: 0s - loss: 7.9034e-05\n",
      "Epoch 00109: val_loss did not improve from 0.00011\n",
      "105/105 [==============================] - 0s 4ms/step - loss: 7.9297e-05 - val_loss: 1.9875e-04\n",
      "Epoch 110/150\n",
      " 99/105 [===========================>..] - ETA: 0s - loss: 7.9004e-05\n",
      "Epoch 00110: val_loss did not improve from 0.00011\n",
      "105/105 [==============================] - 0s 4ms/step - loss: 7.8386e-05 - val_loss: 1.4368e-04\n",
      "Epoch 111/150\n",
      " 96/105 [==========================>...] - ETA: 0s - loss: 7.8792e-05\n",
      "Epoch 00111: val_loss did not improve from 0.00011\n",
      "105/105 [==============================] - 0s 5ms/step - loss: 8.0153e-05 - val_loss: 1.4246e-04\n",
      "Epoch 112/150\n",
      " 95/105 [==========================>...] - ETA: 0s - loss: 7.4504e-05\n",
      "Epoch 00112: val_loss did not improve from 0.00011\n",
      "105/105 [==============================] - 0s 4ms/step - loss: 7.5496e-05 - val_loss: 1.5546e-04\n",
      "Epoch 113/150\n",
      " 95/105 [==========================>...] - ETA: 0s - loss: 7.3491e-05\n",
      "Epoch 00113: val_loss did not improve from 0.00011\n",
      "105/105 [==============================] - 0s 4ms/step - loss: 7.3699e-05 - val_loss: 1.9959e-04\n",
      "Epoch 114/150\n",
      " 96/105 [==========================>...] - ETA: 0s - loss: 7.8553e-05\n",
      "Epoch 00114: val_loss did not improve from 0.00011\n",
      "105/105 [==============================] - 0s 4ms/step - loss: 7.8310e-05 - val_loss: 1.3067e-04\n",
      "Epoch 115/150\n",
      " 98/105 [===========================>..] - ETA: 0s - loss: 7.9453e-05\n",
      "Epoch 00115: val_loss did not improve from 0.00011\n",
      "105/105 [==============================] - 1s 5ms/step - loss: 7.8639e-05 - val_loss: 1.3925e-04\n"
     ]
    }
   ],
   "source": [
    "lstm_training = rnn.fit(X_train,\n",
    "                        y_train,\n",
    "                        epochs=150,\n",
    "                        batch_size=20,\n",
    "                        shuffle=True,\n",
    "                        validation_data=(X_test, y_test),\n",
    "                        callbacks=[early_stopping, checkpointer],\n",
    "                        verbose=1)"
   ]
  },
  {
   "cell_type": "markdown",
   "metadata": {
    "pycharm": {}
   },
   "source": [
    "Training stops after 51 epochs; the `early_stopping` callback restores the weights for the best model (after 41 epochs)"
   ]
  },
  {
   "cell_type": "markdown",
   "metadata": {
    "pycharm": {}
   },
   "source": [
    "## Evaluate model performance"
   ]
  },
  {
   "cell_type": "code",
   "execution_count": 26,
   "metadata": {
    "ExecuteTime": {
     "end_time": "2020-06-22T00:29:54.342099Z",
     "start_time": "2020-06-22T00:29:53.330943Z"
    },
    "pycharm": {}
   },
   "outputs": [
    {
     "data": {
      "image/png": "[encoded data removed]",
      "text/plain": [
       "<Figure size 864x288 with 1 Axes>"
      ]
     },
     "metadata": {},
     "output_type": "display_data"
    }
   ],
   "source": [
    "fig, ax = plt.subplots(figsize=(12, 4))\n",
    "\n",
    "loss_history = pd.DataFrame(lstm_training.history).pow(.5)\n",
    "loss_history.index += 1\n",
    "best_rmse = loss_history.val_loss.min()\n",
    "\n",
    "best_epoch = loss_history.val_loss.idxmin()\n",
    "\n",
    "title = f'5-Epoch Rolling RMSE (Best Validation RMSE: {best_rmse:.4%})'\n",
    "loss_history.columns=['Training RMSE', 'Validation RMSE']\n",
    "loss_history.rolling(5).mean().plot(logy=True, lw=2, title=title, ax=ax)\n",
    "\n",
    "ax.axvline(best_epoch, ls='--', lw=1, c='k')\n",
    "\n",
    "sns.despine()\n",
    "fig.tight_layout()\n",
    "fig.savefig(results_path / 'rnn_sp500_error', dpi=300);"
   ]
  },
  {
   "cell_type": "code",
   "execution_count": 27,
   "metadata": {
    "ExecuteTime": {
     "end_time": "2020-06-22T00:29:54.521055Z",
     "start_time": "2020-06-22T00:29:54.343457Z"
    },
    "pycharm": {}
   },
   "outputs": [
    {
     "name": "stdout",
     "output_type": "stream",
     "text": [
      "Train RMSE: 0.0084 | Test RMSE: 0.0105\n"
     ]
    }
   ],
   "source": [
    "train_rmse_scaled = np.sqrt(rnn.evaluate(X_train, y_train, verbose=0))\n",
    "test_rmse_scaled = np.sqrt(rnn.evaluate(X_test, y_test, verbose=0))\n",
    "print(f'Train RMSE: {train_rmse_scaled:.4f} | Test RMSE: {test_rmse_scaled:.4f}')"
   ]
  },
  {
   "cell_type": "code",
   "execution_count": 28,
   "metadata": {
    "ExecuteTime": {
     "end_time": "2020-06-22T00:29:54.960000Z",
     "start_time": "2020-06-22T00:29:54.522405Z"
    }
   },
   "outputs": [],
   "source": [
    "train_predict_scaled = rnn.predict(X_train)\n",
    "test_predict_scaled = rnn.predict(X_test)"
   ]
  },
  {
   "cell_type": "code",
   "execution_count": 29,
   "metadata": {
    "ExecuteTime": {
     "end_time": "2020-06-22T00:29:54.966976Z",
     "start_time": "2020-06-22T00:29:54.961305Z"
    }
   },
   "outputs": [
    {
     "name": "stdout",
     "output_type": "stream",
     "text": [
      "Train IC: 0.9987 | Test IC: 0.9804\n"
     ]
    }
   ],
   "source": [
    "train_ic = spearmanr(y_train, train_predict_scaled)[0]\n",
    "test_ic = spearmanr(y_test, test_predict_scaled)[0]\n",
    "print(f'Train IC: {train_ic:.4f} | Test IC: {test_ic:.4f}')"
   ]
  },
  {
   "cell_type": "markdown",
   "metadata": {},
   "source": [
    "### Rescale predictions"
   ]
  },
  {
   "cell_type": "code",
   "execution_count": 30,
   "metadata": {
    "ExecuteTime": {
     "end_time": "2020-06-22T00:29:54.976340Z",
     "start_time": "2020-06-22T00:29:54.969442Z"
    }
   },
   "outputs": [],
   "source": [
    "train_predict = pd.Series(scaler.inverse_transform(train_predict_scaled).squeeze(), index=y_train.index)\n",
    "test_predict = (pd.Series(scaler.inverse_transform(test_predict_scaled)\n",
    "                          .squeeze(), \n",
    "                          index=y_test.index))"
   ]
  },
  {
   "cell_type": "code",
   "execution_count": 31,
   "metadata": {
    "ExecuteTime": {
     "end_time": "2020-06-22T00:29:54.989063Z",
     "start_time": "2020-06-22T00:29:54.977634Z"
    }
   },
   "outputs": [],
   "source": [
    "y_train_rescaled = scaler.inverse_transform(y_train.to_frame()).squeeze()\n",
    "y_test_rescaled = scaler.inverse_transform(y_test.to_frame()).squeeze()"
   ]
  },
  {
   "cell_type": "code",
   "execution_count": 32,
   "metadata": {
    "ExecuteTime": {
     "end_time": "2020-06-22T00:29:54.999339Z",
     "start_time": "2020-06-22T00:29:54.991039Z"
    }
   },
   "outputs": [
    {
     "data": {
      "text/plain": [
       "'Train RMSE: 18.61 | Test RMSE: 23.27'"
      ]
     },
     "execution_count": 32,
     "metadata": {},
     "output_type": "execute_result"
    }
   ],
   "source": [
    "train_rmse = np.sqrt(mean_squared_error(train_predict, y_train_rescaled))\n",
    "test_rmse = np.sqrt(mean_squared_error(test_predict, y_test_rescaled))\n",
    "f'Train RMSE: {train_rmse:.2f} | Test RMSE: {test_rmse:.2f}'"
   ]
  },
  {
   "cell_type": "code",
   "execution_count": 33,
   "metadata": {
    "ExecuteTime": {
     "end_time": "2020-06-22T00:29:55.021617Z",
     "start_time": "2020-06-22T00:29:55.000866Z"
    }
   },
   "outputs": [],
   "source": [
    "sp500['Train Predictions'] = train_predict\n",
    "sp500['Test Predictions'] = test_predict\n",
    "sp500 = sp500.join(train_predict.to_frame('predictions').assign(data='Train')\n",
    "                        .append(test_predict.to_frame('predictions').assign(data='Test')))"
   ]
  },
  {
   "cell_type": "markdown",
   "metadata": {},
   "source": [
    "### Plot Results"
   ]
  },
  {
   "cell_type": "code",
   "execution_count": 37,
   "metadata": {
    "ExecuteTime": {
     "end_time": "2020-06-22T00:32:17.188271Z",
     "start_time": "2020-06-22T00:32:15.398586Z"
    },
    "pycharm": {},
    "scrolled": false
   },
   "outputs": [
    {
     "data": {
      "image/png": "[encoded data removed]",
      "text/plain": [
       "<Figure size 1008x504 with 4 Axes>"
      ]
     },
     "metadata": {},
     "output_type": "display_data"
    }
   ],
   "source": [
    "fig=plt.figure(figsize=(14,7))\n",
    "ax1 = plt.subplot(221)\n",
    "\n",
    "sp500.loc['2015':, 'SP500'].plot(lw=4, ax=ax1, c='k')\n",
    "sp500.loc['2015':, ['Test Predictions', 'Train Predictions']].plot(lw=1, ax=ax1, ls='--')\n",
    "ax1.set_title('In- and Out-of-sample Predictions')\n",
    "\n",
    "\n",
    "with sns.axes_style(\"white\"):\n",
    "    ax3 = plt.subplot(223)\n",
    "    sns.scatterplot(x='SP500', y='predictions', data=sp500, hue='data', ax=ax3)\n",
    "    ax3.text(x=.02, y=.95, s=f'Test IC ={test_ic:.2%}', transform=ax3.transAxes)\n",
    "    ax3.text(x=.02, y=.87, s=f'Train IC={train_ic:.2%}', transform=ax3.transAxes)\n",
    "    ax3.set_title('Correlation')\n",
    "    ax3.legend(loc='lower right')\n",
    "    \n",
    "    ax2 = plt.subplot(222)\n",
    "    ax4 = plt.subplot(224, sharex = ax2, sharey=ax2)\n",
    "    sns.distplot(train_predict.squeeze()- y_train_rescaled, ax=ax2)\n",
    "    ax2.set_title('Train Error')\n",
    "    ax2.text(x=.03, y=.92, s=f'Train RMSE ={train_rmse:.4f}', transform=ax2.transAxes)\n",
    "    sns.distplot(test_predict.squeeze()-y_test_rescaled, ax=ax4)\n",
    "    ax4.set_title('Test Error')\n",
    "    ax4.text(x=.03, y=.92, s=f'Test RMSE ={test_rmse:.4f}', transform=ax4.transAxes)\n",
    "\n",
    "sns.despine()\n",
    "fig.tight_layout()\n",
    "fig.savefig(results_path / 'rnn_sp500_regression', dpi=300);"
   ]
  },
  {
   "cell_type": "code",
   "execution_count": null,
   "metadata": {},
   "outputs": [],
   "source": []
  }
 ],
 "metadata": {
  "anaconda-cloud": {},
  "kernelspec": {
   "display_name": "Python [conda env:ml4t-dl]",
   "language": "python",
   "name": "conda-env-ml4t-dl-py"
  },
  "language_info": {
   "codemirror_mode": {
    "name": "ipython",
    "version": 3
   },
   "file_extension": ".py",
   "mimetype": "text/x-python",
   "name": "python",
   "nbconvert_exporter": "python",
   "pygments_lexer": "ipython3",
   "version": "3.7.7"
  },
  "toc": {
   "base_numbering": 1,
   "nav_menu": {},
   "number_sections": true,
   "sideBar": true,
   "skip_h1_title": true,
   "title_cell": "Table of Contents",
   "title_sidebar": "Contents",
   "toc_cell": false,
   "toc_position": {
    "height": "calc(100% - 180px)",
    "left": "10px",
    "top": "150px",
    "width": "318.55px"
   },
   "toc_section_display": true,
   "toc_window_display": true
  }
 },
 "nbformat": 4,
 "nbformat_minor": 4
}
