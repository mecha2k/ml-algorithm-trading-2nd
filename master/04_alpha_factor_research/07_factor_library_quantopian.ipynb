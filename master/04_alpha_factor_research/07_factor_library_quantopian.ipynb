{
 "cells": [
  {
   "cell_type": "markdown",
   "metadata": {},
   "source": [
    "# Quantopian Alpha Factor Library"
   ]
  },
  {
   "cell_type": "markdown",
   "metadata": {},
   "source": [
    "This notebook contains a mumber of alpha factor candidates that we can use as features in ML models on the Quantopian platform."
   ]
  },
  {
   "cell_type": "code",
   "execution_count": 1,
   "metadata": {},
   "outputs": [
    {
     "ename": "ModuleNotFoundError",
     "evalue": "No module named 'quantopian'",
     "output_type": "error",
     "traceback": [
      "\u001b[1;31m---------------------------------------------------------------------------\u001b[0m",
      "\u001b[1;31mModuleNotFoundError\u001b[0m                       Traceback (most recent call last)",
      "\u001b[1;32m~\\AppData\\Local\\Temp/ipykernel_22732/3990660833.py\u001b[0m in \u001b[0;36m<module>\u001b[1;34m\u001b[0m\n\u001b[0;32m     10\u001b[0m \u001b[1;32mfrom\u001b[0m \u001b[0msklearn\u001b[0m\u001b[1;33m.\u001b[0m\u001b[0mpreprocessing\u001b[0m \u001b[1;32mimport\u001b[0m \u001b[0mStandardScaler\u001b[0m\u001b[1;33m\u001b[0m\u001b[1;33m\u001b[0m\u001b[0m\n\u001b[0;32m     11\u001b[0m \u001b[1;33m\u001b[0m\u001b[0m\n\u001b[1;32m---> 12\u001b[1;33m \u001b[1;32mfrom\u001b[0m \u001b[0mquantopian\u001b[0m\u001b[1;33m.\u001b[0m\u001b[0mresearch\u001b[0m \u001b[1;32mimport\u001b[0m \u001b[0mrun_pipeline\u001b[0m\u001b[1;33m\u001b[0m\u001b[1;33m\u001b[0m\u001b[0m\n\u001b[0m\u001b[0;32m     13\u001b[0m \u001b[1;32mfrom\u001b[0m \u001b[0mquantopian\u001b[0m\u001b[1;33m.\u001b[0m\u001b[0mpipeline\u001b[0m \u001b[1;32mimport\u001b[0m \u001b[0mPipeline\u001b[0m\u001b[1;33m,\u001b[0m \u001b[0mfactors\u001b[0m\u001b[1;33m,\u001b[0m \u001b[0mfilters\u001b[0m\u001b[1;33m,\u001b[0m \u001b[0mclassifiers\u001b[0m\u001b[1;33m\u001b[0m\u001b[1;33m\u001b[0m\u001b[0m\n\u001b[0;32m     14\u001b[0m \u001b[1;32mfrom\u001b[0m \u001b[0mquantopian\u001b[0m\u001b[1;33m.\u001b[0m\u001b[0mpipeline\u001b[0m\u001b[1;33m.\u001b[0m\u001b[0mdata\u001b[0m\u001b[1;33m.\u001b[0m\u001b[0mbuiltin\u001b[0m \u001b[1;32mimport\u001b[0m \u001b[0mUSEquityPricing\u001b[0m\u001b[1;33m\u001b[0m\u001b[1;33m\u001b[0m\u001b[0m\n",
      "\u001b[1;31mModuleNotFoundError\u001b[0m: No module named 'quantopian'"
     ]
    }
   ],
   "source": [
    "import pandas as pd\n",
    "import numpy as np\n",
    "from time import time\n",
    "import talib\n",
    "import re\n",
    "from statsmodels.api import OLS\n",
    "from sklearn.metrics import mean_squared_error\n",
    "from scipy.stats import spearmanr\n",
    "from sklearn.linear_model import LinearRegression, Ridge, RidgeCV, Lasso, LassoCV, LogisticRegression\n",
    "from sklearn.preprocessing import StandardScaler\n",
    "\n",
    "from quantopian.research import run_pipeline\n",
    "from quantopian.pipeline import Pipeline, factors, filters, classifiers\n",
    "from quantopian.pipeline.data.builtin import USEquityPricing\n",
    "from quantopian.pipeline.factors import (Latest, \n",
    "                                         Returns, \n",
    "                                         AverageDollarVolume, \n",
    "                                         SimpleMovingAverage,\n",
    "                                         EWMA,\n",
    "                                         BollingerBands,\n",
    "                                         CustomFactor,\n",
    "                                         MarketCap,\n",
    "                                        SimpleBeta)\n",
    "from quantopian.pipeline.filters import QTradableStocksUS, StaticAssets\n",
    "from quantopian.pipeline.data.quandl import fred_usdontd156n as libor\n",
    "from empyrical import max_drawdown, sortino_ratio\n",
    "\n",
    "import seaborn as sns\n",
    "import matplotlib.pyplot as plt"
   ]
  },
  {
   "cell_type": "markdown",
   "metadata": {},
   "source": [
    "## Data Sources"
   ]
  },
  {
   "cell_type": "code",
   "execution_count": 3,
   "metadata": {},
   "outputs": [],
   "source": [
    "################\n",
    "# Fundamentals #\n",
    "################\n",
    "\n",
    "# Morningstar fundamentals (2002 - Ongoing)\n",
    "# https://www.quantopian.com/help/fundamentals\n",
    "from quantopian.pipeline.data import Fundamentals\n",
    "\n",
    "#####################\n",
    "# Analyst Estimates #\n",
    "#####################\n",
    "\n",
    "# Earnings Surprises - Zacks (27 May 2006 - Ongoing)\n",
    "# https://www.quantopian.com/data/zacks/earnings_surprises\n",
    "from quantopian.pipeline.data.zacks import EarningsSurprises\n",
    "from quantopian.pipeline.factors.zacks import BusinessDaysSinceEarningsSurprisesAnnouncement\n",
    "\n",
    "##########\n",
    "# Events #\n",
    "##########\n",
    "\n",
    "# Buyback Announcements - EventVestor (01 Jun 2007 - Ongoing)\n",
    "# https://www.quantopian.com/data/eventvestor/buyback_auth\n",
    "from quantopian.pipeline.data.eventvestor import BuybackAuthorizations\n",
    "from quantopian.pipeline.factors.eventvestor import BusinessDaysSinceBuybackAuth\n",
    "\n",
    "# CEO Changes - EventVestor (01 Jan 2007 - Ongoing)\n",
    "# https://www.quantopian.com/data/eventvestor/ceo_change\n",
    "from quantopian.pipeline.data.eventvestor import CEOChangeAnnouncements\n",
    "\n",
    "# Dividends - EventVestor (01 Jan 2007 - Ongoing)\n",
    "# https://www.quantopian.com/data/eventvestor/dividends\n",
    "from quantopian.pipeline.data.eventvestor import (\n",
    "    DividendsByExDate,\n",
    "    DividendsByPayDate,\n",
    "    DividendsByAnnouncementDate,\n",
    ")\n",
    "from quantopian.pipeline.factors.eventvestor import (\n",
    "    BusinessDaysSincePreviousExDate,\n",
    "    BusinessDaysUntilNextExDate,\n",
    "    BusinessDaysSinceDividendAnnouncement,\n",
    ")\n",
    "\n",
    "# Earnings Calendar - EventVestor (01 Jan 2007 - Ongoing)\n",
    "# https://www.quantopian.com/data/eventvestor/earnings_calendar\n",
    "from quantopian.pipeline.data.eventvestor import EarningsCalendar\n",
    "from quantopian.pipeline.factors.eventvestor import (\n",
    "    BusinessDaysUntilNextEarnings,\n",
    "    BusinessDaysSincePreviousEarnings\n",
    ")\n",
    "\n",
    "# 13D Filings - EventVestor (01 Jan 2007 - Ongoing)\n",
    "# https://www.quantopian.com/data/eventvestor/_13d_filings\n",
    "from quantopian.pipeline.data.eventvestor import _13DFilings\n",
    "from quantopian.pipeline.factors.eventvestor import BusinessDaysSince13DFilingsDate\n",
    "\n",
    "#############\n",
    "# Sentiment #\n",
    "#############\n",
    "\n",
    "# News Sentiment - Sentdex Sentiment Analysis (15 Oct 2012 - Ongoing)\n",
    "# https://www.quantopian.com/data/sentdex/sentiment\n",
    "from quantopian.pipeline.data.sentdex import sentiment"
   ]
  },
  {
   "cell_type": "markdown",
   "metadata": {},
   "source": [
    "### Parameters"
   ]
  },
  {
   "cell_type": "code",
   "execution_count": 4,
   "metadata": {
    "collapsed": true
   },
   "outputs": [],
   "source": [
    "# trading days per period\n",
    "MONTH = 21\n",
    "YEAR = 12 * MONTH"
   ]
  },
  {
   "cell_type": "code",
   "execution_count": 5,
   "metadata": {
    "collapsed": true
   },
   "outputs": [],
   "source": [
    "START = '2014-01-01'\n",
    "END = '2015-12-31'"
   ]
  },
  {
   "cell_type": "markdown",
   "metadata": {},
   "source": [
    "## Universe"
   ]
  },
  {
   "cell_type": "code",
   "execution_count": 6,
   "metadata": {
    "collapsed": true
   },
   "outputs": [],
   "source": [
    "def Q100US():\n",
    "    return filters.make_us_equity_universe(\n",
    "        target_size=100,\n",
    "        rankby=factors.AverageDollarVolume(window_length=200),\n",
    "        mask=filters.default_us_equity_universe_mask(),\n",
    "        groupby=classifiers.fundamentals.Sector(),\n",
    "        max_group_weight=0.3,\n",
    "        smoothing_func=lambda f: f.downsample('month_start'),\n",
    "    )"
   ]
  },
  {
   "cell_type": "code",
   "execution_count": 7,
   "metadata": {},
   "outputs": [],
   "source": [
    "# UNIVERSE = StaticAssets(symbols(['MSFT', 'AAPL']))\n",
    "UNIVERSE = Q100US()"
   ]
  },
  {
   "cell_type": "markdown",
   "metadata": {},
   "source": [
    "## Helper Functions"
   ]
  },
  {
   "cell_type": "code",
   "execution_count": 8,
   "metadata": {},
   "outputs": [],
   "source": [
    "class AnnualizedData(CustomFactor):\n",
    "    # Get the sum of the last 4 reported values\n",
    "    window_length = 260\n",
    "\n",
    "    def compute(self, today, assets, out, asof_date, values):\n",
    "        for asset in range(len(assets)):\n",
    "            # unique asof dates indicate availability of new figures\n",
    "            _, filing_dates = np.unique(asof_date[:, asset], return_index=True)\n",
    "            quarterly_values = values[filing_dates[-4:], asset]\n",
    "            # ignore annual windows with <4 quarterly data points\n",
    "            if len(~np.isnan(quarterly_values)) != 4:    \n",
    "                out[asset] = np.nan\n",
    "            else:\n",
    "                out[asset] = np.sum(quarterly_values)"
   ]
  },
  {
   "cell_type": "code",
   "execution_count": 9,
   "metadata": {
    "collapsed": true
   },
   "outputs": [],
   "source": [
    "class AnnualAvg(CustomFactor):\n",
    "    window_length = 252\n",
    "    \n",
    "    def compute(self, today, assets, out, values):\n",
    "        out[:] = (values[0] + values[-1])/2"
   ]
  },
  {
   "cell_type": "code",
   "execution_count": 10,
   "metadata": {
    "collapsed": true
   },
   "outputs": [],
   "source": [
    "def factor_pipeline(factors):\n",
    "    start = time()\n",
    "    pipe = Pipeline({k: v(mask=UNIVERSE).rank() for k, v in factors.items()},\n",
    "                    screen=UNIVERSE)\n",
    "    result = run_pipeline(pipe, start_date=START, end_date=END)\n",
    "    return result, time() - start"
   ]
  },
  {
   "cell_type": "markdown",
   "metadata": {},
   "source": [
    "## Alpha Factors"
   ]
  },
  {
   "cell_type": "markdown",
   "metadata": {},
   "source": [
    "### Value Factors"
   ]
  },
  {
   "cell_type": "code",
   "execution_count": 11,
   "metadata": {},
   "outputs": [],
   "source": [
    "class ValueFactors:\n",
    "    \"\"\"Definitions of factors for cross-sectional trading algorithms\"\"\"\n",
    "    \n",
    "    @staticmethod\n",
    "    def PriceToSalesTTM(**kwargs):\n",
    "        \"\"\"Last closing price divided by sales per share\"\"\"        \n",
    "        return Fundamentals.ps_ratio.latest\n",
    "\n",
    "    @staticmethod\n",
    "    def PriceToEarningsTTM(**kwargs):\n",
    "        \"\"\"Closing price divided by earnings per share (EPS)\"\"\"\n",
    "        return Fundamentals.pe_ratio.latest\n",
    " \n",
    "    @staticmethod\n",
    "    def PriceToDilutedEarningsTTM(mask):\n",
    "        \"\"\"Closing price divided by diluted EPS\"\"\"\n",
    "        last_close = USEquityPricing.close.latest\n",
    "        diluted_eps = AnnualizedData(inputs = [Fundamentals.diluted_eps_earnings_reports_asof_date,\n",
    "                                               Fundamentals.diluted_eps_earnings_reports],\n",
    "                                     mask=mask)\n",
    "        return last_close / diluted_eps\n",
    "\n",
    "    @staticmethod\n",
    "    def PriceToForwardEarnings(**kwargs):\n",
    "        \"\"\"Price to Forward Earnings\"\"\"\n",
    "        return Fundamentals.forward_pe_ratio.latest\n",
    "    \n",
    "    @staticmethod\n",
    "    def DividendYield(**kwargs):\n",
    "        \"\"\"Dividends per share divided by closing price\"\"\"\n",
    "        return Fundamentals.trailing_dividend_yield.latest\n",
    "\n",
    "    @staticmethod\n",
    "    def PriceToFCF(mask):\n",
    "        \"\"\"Price to Free Cash Flow\"\"\"\n",
    "        last_close = USEquityPricing.close.latest\n",
    "        fcf_share = AnnualizedData(inputs = [Fundamentals.fcf_per_share_asof_date,\n",
    "                                             Fundamentals.fcf_per_share],\n",
    "                                   mask=mask)\n",
    "        return last_close / fcf_share\n",
    "\n",
    "    @staticmethod\n",
    "    def PriceToOperatingCashflow(mask):\n",
    "        \"\"\"Last Close divided by Operating Cash Flows\"\"\"\n",
    "        last_close = USEquityPricing.close.latest\n",
    "        cfo_per_share = AnnualizedData(inputs = [Fundamentals.cfo_per_share_asof_date,\n",
    "                                                 Fundamentals.cfo_per_share],\n",
    "                                       mask=mask)        \n",
    "        return last_close / cfo_per_share\n",
    "\n",
    "    @staticmethod\n",
    "    def PriceToBook(mask):\n",
    "        \"\"\"Closing price divided by book value\"\"\"\n",
    "        last_close = USEquityPricing.close.latest\n",
    "        book_value_per_share = AnnualizedData(inputs = [Fundamentals.book_value_per_share_asof_date,\n",
    "                                              Fundamentals.book_value_per_share],\n",
    "                                             mask=mask)        \n",
    "        return last_close / book_value_per_share\n",
    "\n",
    "\n",
    "    @staticmethod\n",
    "    def EVToFCF(mask):\n",
    "        \"\"\"Enterprise Value divided by Free Cash Flows\"\"\"\n",
    "        fcf = AnnualizedData(inputs = [Fundamentals.free_cash_flow_asof_date,\n",
    "                                       Fundamentals.free_cash_flow],\n",
    "                             mask=mask)\n",
    "        return Fundamentals.enterprise_value.latest / fcf\n",
    "\n",
    "    @staticmethod\n",
    "    def EVToEBITDA(mask):\n",
    "        \"\"\"Enterprise Value to Earnings Before Interest, Taxes, Deprecation and Amortization (EBITDA)\"\"\"\n",
    "        ebitda = AnnualizedData(inputs = [Fundamentals.ebitda_asof_date,\n",
    "                                          Fundamentals.ebitda],\n",
    "                                mask=mask)\n",
    "\n",
    "        return Fundamentals.enterprise_value.latest / ebitda\n",
    "\n",
    "    @staticmethod\n",
    "    def EBITDAYield(mask):\n",
    "        \"\"\"EBITDA divided by latest close\"\"\"\n",
    "        ebitda = AnnualizedData(inputs = [Fundamentals.ebitda_asof_date,\n",
    "                                          Fundamentals.ebitda],\n",
    "                                mask=mask)\n",
    "        return USEquityPricing.close.latest / ebitda"
   ]
  },
  {
   "cell_type": "code",
   "execution_count": 12,
   "metadata": {},
   "outputs": [],
   "source": [
    "VALUE_FACTORS = {\n",
    "    'DividendYield'            : ValueFactors.DividendYield,\n",
    "    'EBITDAYield'              : ValueFactors.EBITDAYield,\n",
    "    'EVToEBITDA'               : ValueFactors.EVToEBITDA,\n",
    "    'EVToFCF'                  : ValueFactors.EVToFCF,\n",
    "    'PriceToBook'              : ValueFactors.PriceToBook,\n",
    "    'PriceToDilutedEarningsTTM': ValueFactors.PriceToDilutedEarningsTTM,\n",
    "    'PriceToEarningsTTM'       : ValueFactors.PriceToEarningsTTM,\n",
    "    'PriceToFCF'               : ValueFactors.PriceToFCF,\n",
    "    'PriceToForwardEarnings'   : ValueFactors.PriceToForwardEarnings,\n",
    "    'PriceToOperatingCashflow' : ValueFactors.PriceToOperatingCashflow,\n",
    "    'PriceToSalesTTM'          : ValueFactors.PriceToSalesTTM,\n",
    "}"
   ]
  },
  {
   "cell_type": "code",
   "execution_count": 13,
   "metadata": {},
   "outputs": [
    {
     "name": "stderr",
     "output_type": "stream",
     "text": [
      "/usr/local/lib/python2.7/dist-packages/numpy/lib/arraysetops.py:200: FutureWarning: In the future, NAT != NAT will be True rather than False.\n",
      "  flag = np.concatenate(([True], aux[1:] != aux[:-1]))\n"
     ]
    },
    {
     "name": "stdout",
     "output_type": "stream",
     "text": [
      "Pipeline run time 91.12 secs\n",
      "<class 'pandas.core.frame.DataFrame'>\n",
      "MultiIndex: 50362 entries, (2014-01-02 00:00:00+00:00, Equity(24 [AAPL])) to (2015-12-31 00:00:00+00:00, Equity(47208 [GPRO]))\n",
      "Data columns (total 11 columns):\n",
      "DividendYield                40772 non-null float64\n",
      "EBITDAYield                  49823 non-null float64\n",
      "EVToEBITDA                   49823 non-null float64\n",
      "EVToFCF                      46400 non-null float64\n",
      "PriceToBook                  50343 non-null float64\n",
      "PriceToDilutedEarningsTTM    50215 non-null float64\n",
      "PriceToEarningsTTM           48956 non-null float64\n",
      "PriceToFCF                   49133 non-null float64\n",
      "PriceToForwardEarnings       39607 non-null float64\n",
      "PriceToOperatingCashflow     50343 non-null float64\n",
      "PriceToSalesTTM              50362 non-null float64\n",
      "dtypes: float64(11)\n",
      "memory usage: 4.6+ MB\n"
     ]
    }
   ],
   "source": [
    "value_result, t = factor_pipeline(VALUE_FACTORS)\n",
    "print('Pipeline run time {:.2f} secs'.format(t))\n",
    "value_result.info()"
   ]
  },
  {
   "cell_type": "markdown",
   "metadata": {},
   "source": [
    "### Momentum"
   ]
  },
  {
   "cell_type": "code",
   "execution_count": 14,
   "metadata": {},
   "outputs": [],
   "source": [
    "class MomentumFactors:\n",
    "    \"\"\"Custom Momentum Factors\"\"\"\n",
    "    class PercentAboveLow(CustomFactor):\n",
    "        \"\"\"Percentage of current close above low \n",
    "        in lookback window of window_length days\n",
    "        \"\"\"\n",
    "        inputs = [USEquityPricing.close]\n",
    "        window_length = 252\n",
    "\n",
    "        def compute(self, today, assets, out, close):\n",
    "            out[:] = close[-1] / np.min(close, axis=0) - 1\n",
    "\n",
    "    class PercentBelowHigh(CustomFactor):\n",
    "        \"\"\"Percentage of current close below high \n",
    "        in lookback window of window_length days\n",
    "        \"\"\"\n",
    "        \n",
    "        inputs = [USEquityPricing.close]\n",
    "        window_length = 252\n",
    "            \n",
    "        def compute(self, today, assets, out, close):\n",
    "            out[:] = close[-1] / np.max(close, axis=0) - 1\n",
    "\n",
    "    @staticmethod\n",
    "    def make_dx(timeperiod=14):\n",
    "        class DX(CustomFactor):\n",
    "            \"\"\"Directional Movement Index\"\"\"\n",
    "            inputs = [USEquityPricing.high, \n",
    "                      USEquityPricing.low, \n",
    "                      USEquityPricing.close]\n",
    "            window_length = timeperiod + 1\n",
    "            \n",
    "            def compute(self, today, assets, out, high, low, close):\n",
    "                out[:] = [talib.DX(high[:, i], \n",
    "                                   low[:, i], \n",
    "                                   close[:, i], \n",
    "                                   timeperiod=timeperiod)[-1] \n",
    "                          for i in range(len(assets))]\n",
    "        return DX  \n",
    "\n",
    "    @staticmethod\n",
    "    def make_mfi(timeperiod=14):\n",
    "        class MFI(CustomFactor):\n",
    "            \"\"\"Money Flow Index\"\"\"\n",
    "            inputs = [USEquityPricing.high, \n",
    "                      USEquityPricing.low, \n",
    "                      USEquityPricing.close,\n",
    "                      USEquityPricing.volume]\n",
    "            window_length = timeperiod + 1\n",
    "            \n",
    "            def compute(self, today, assets, out, high, low, close, vol):\n",
    "                out[:] = [talib.MFI(high[:, i], \n",
    "                                    low[:, i], \n",
    "                                    close[:, i],\n",
    "                                    vol[:, i],\n",
    "                                    timeperiod=timeperiod)[-1] \n",
    "                          for i in range(len(assets))]\n",
    "        return MFI           \n",
    "\n",
    "    @staticmethod\n",
    "    def make_oscillator(fastperiod=12, slowperiod=26, matype=0):\n",
    "        class PPO(CustomFactor):\n",
    "            \"\"\"12/26-Day Percent Price Oscillator\"\"\"\n",
    "            inputs = [USEquityPricing.close]\n",
    "            window_length = slowperiod\n",
    "\n",
    "            def compute(self, today, assets, out, close_prices):\n",
    "                out[:] = [talib.PPO(close,\n",
    "                                    fastperiod=fastperiod,\n",
    "                                    slowperiod=slowperiod, \n",
    "                                    matype=matype)[-1]\n",
    "                         for close in close_prices.T]\n",
    "        return PPO\n",
    "\n",
    "    @staticmethod\n",
    "    def make_stochastic_oscillator(fastk_period=5, slowk_period=3, slowd_period=3, \n",
    "                                   slowk_matype=0, slowd_matype=0):                \n",
    "        class StochasticOscillator(CustomFactor):\n",
    "            \"\"\"20-day Stochastic Oscillator \"\"\"\n",
    "            inputs = [USEquityPricing.high, \n",
    "                      USEquityPricing.low, \n",
    "                      USEquityPricing.close]\n",
    "            outputs = ['slowk', 'slowd']\n",
    "            window_length = fastk_period * 2\n",
    "            \n",
    "            def compute(self, today, assets, out, high, low, close):\n",
    "                slowk, slowd = [talib.STOCH(high[:, i],\n",
    "                                            low[:, i],\n",
    "                                            close[:, i], \n",
    "                                            fastk_period=fastk_period,\n",
    "                                            slowk_period=slowk_period, \n",
    "                                            slowk_matype=slowk_matype, \n",
    "                                            slowd_period=slowd_period, \n",
    "                                            slowd_matype=slowd_matype)[-1] \n",
    "                                for i in range(len(assets))]\n",
    "\n",
    "                out.slowk[:], out.slowd[:] = slowk[-1], slowd[-1]\n",
    "        return StochasticOscillator\n",
    "    \n",
    "    @staticmethod\n",
    "    def make_trendline(timeperiod=252):                \n",
    "        class Trendline(CustomFactor):\n",
    "            inputs = [USEquityPricing.close]\n",
    "            \"\"\"52-Week Trendline\"\"\"\n",
    "            window_length = timeperiod\n",
    "\n",
    "            def compute(self, today, assets, out, close_prices):\n",
    "                out[:] = [talib.LINEARREG_SLOPE(close, \n",
    "                                   timeperiod=timeperiod)[-1] \n",
    "                          for close in close_prices.T]\n",
    "        return Trendline"
   ]
  },
  {
   "cell_type": "code",
   "execution_count": 15,
   "metadata": {
    "collapsed": true
   },
   "outputs": [],
   "source": [
    "MOMENTUM_FACTORS = {\n",
    "    'Percent Above Low'            : MomentumFactors.PercentAboveLow,\n",
    "    'Percent Below High'           : MomentumFactors.PercentBelowHigh,\n",
    "    'Price Oscillator'             : MomentumFactors.make_oscillator(),\n",
    "    'Money Flow Index'             : MomentumFactors.make_mfi(),\n",
    "    'Directional Movement Index'   : MomentumFactors.make_dx(),\n",
    "    'Trendline'                    : MomentumFactors.make_trendline()\n",
    "}"
   ]
  },
  {
   "cell_type": "code",
   "execution_count": 16,
   "metadata": {},
   "outputs": [
    {
     "name": "stdout",
     "output_type": "stream",
     "text": [
      "Pipeline run time 20.53 secs\n",
      "<class 'pandas.core.frame.DataFrame'>\n",
      "MultiIndex: 50362 entries, (2014-01-02 00:00:00+00:00, Equity(24 [AAPL])) to (2015-12-31 00:00:00+00:00, Equity(47208 [GPRO]))\n",
      "Data columns (total 6 columns):\n",
      "Directional Movement Index    50362 non-null float64\n",
      "Money Flow Index              50362 non-null float64\n",
      "Percent Above Low             49536 non-null float64\n",
      "Percent Below High            49536 non-null float64\n",
      "Price Oscillator              50355 non-null float64\n",
      "Trendline                     49536 non-null float64\n",
      "dtypes: float64(6)\n",
      "memory usage: 2.7+ MB\n"
     ]
    }
   ],
   "source": [
    "momentum_result, t = factor_pipeline(MOMENTUM_FACTORS)\n",
    "print('Pipeline run time {:.2f} secs'.format(t))\n",
    "momentum_result.info()"
   ]
  },
  {
   "cell_type": "markdown",
   "metadata": {},
   "source": [
    "### Efficiency"
   ]
  },
  {
   "cell_type": "code",
   "execution_count": 17,
   "metadata": {
    "collapsed": true
   },
   "outputs": [],
   "source": [
    "class EfficiencyFactors:\n",
    "\n",
    "    @staticmethod\n",
    "    def CapexToAssets(mask):\n",
    "        \"\"\"Capital Expenditure divided by Total Assets\"\"\"\n",
    "        capex = AnnualizedData(inputs = [Fundamentals.capital_expenditure_asof_date,\n",
    "                                         Fundamentals.capital_expenditure],\n",
    "                                     mask=mask)   \n",
    "        assets = Fundamentals.total_assets.latest\n",
    "        return - capex / assets\n",
    "\n",
    "    @staticmethod\n",
    "    def CapexToSales(mask):\n",
    "        \"\"\"Capital Expenditure divided by Total Revenue\"\"\"\n",
    "        capex = AnnualizedData(inputs = [Fundamentals.capital_expenditure_asof_date,\n",
    "                                         Fundamentals.capital_expenditure],\n",
    "                                     mask=mask)   \n",
    "        revenue = AnnualizedData(inputs = [Fundamentals.total_revenue_asof_date,\n",
    "                                         Fundamentals.total_revenue],\n",
    "                                     mask=mask)         \n",
    "        return - capex / revenue\n",
    "  \n",
    "    @staticmethod\n",
    "    def CapexToFCF(mask):\n",
    "        \"\"\"Capital Expenditure divided by Free Cash Flows\"\"\"\n",
    "        capex = AnnualizedData(inputs = [Fundamentals.capital_expenditure_asof_date,\n",
    "                                         Fundamentals.capital_expenditure],\n",
    "                                     mask=mask)   \n",
    "        free_cash_flow = AnnualizedData(inputs = [Fundamentals.free_cash_flow_asof_date,\n",
    "                                         Fundamentals.free_cash_flow],\n",
    "                                     mask=mask)         \n",
    "        return - capex / free_cash_flow\n",
    "\n",
    "    @staticmethod\n",
    "    def EBITToAssets(mask):\n",
    "        \"\"\"Earnings Before Interest and Taxes (EBIT) divided by Total Assets\"\"\"\n",
    "        ebit = AnnualizedData(inputs = [Fundamentals.ebit_asof_date,\n",
    "                                         Fundamentals.ebit],\n",
    "                                     mask=mask)   \n",
    "        assets = Fundamentals.total_assets.latest\n",
    "        return ebit / assets\n",
    "    \n",
    "    @staticmethod\n",
    "    def CFOToAssets(mask):\n",
    "        \"\"\"Operating Cash Flows divided by Total Assets\"\"\"\n",
    "        cfo = AnnualizedData(inputs = [Fundamentals.operating_cash_flow_asof_date,\n",
    "                                         Fundamentals.operating_cash_flow],\n",
    "                                     mask=mask)   \n",
    "        assets = Fundamentals.total_assets.latest\n",
    "        return cfo / assets \n",
    "    \n",
    "    @staticmethod\n",
    "    def RetainedEarningsToAssets(mask):\n",
    "        \"\"\"Retained Earnings divided by Total Assets\"\"\"\n",
    "        retained_earnings = AnnualizedData(inputs = [Fundamentals.retained_earnings_asof_date,\n",
    "                                         Fundamentals.retained_earnings],\n",
    "                                     mask=mask)   \n",
    "        assets = Fundamentals.total_assets.latest\n",
    "        return retained_earnings / assets"
   ]
  },
  {
   "cell_type": "code",
   "execution_count": 18,
   "metadata": {},
   "outputs": [],
   "source": [
    "EFFICIENCY_FACTORS = {\n",
    "    'CFO To Assets' :EfficiencyFactors.CFOToAssets,\n",
    "    'Capex To Assets' :EfficiencyFactors.CapexToAssets,\n",
    "    'Capex To FCF' :EfficiencyFactors.CapexToFCF,\n",
    "    'Capex To Sales' :EfficiencyFactors.CapexToSales,\n",
    "    'EBIT To Assets' :EfficiencyFactors.EBITToAssets,\n",
    "    'Retained Earnings To Assets' :EfficiencyFactors.RetainedEarningsToAssets\n",
    "    }"
   ]
  },
  {
   "cell_type": "code",
   "execution_count": 19,
   "metadata": {},
   "outputs": [
    {
     "name": "stdout",
     "output_type": "stream",
     "text": [
      "Pipeline run time 35.88 secs\n",
      "<class 'pandas.core.frame.DataFrame'>\n",
      "MultiIndex: 50362 entries, (2014-01-02 00:00:00+00:00, Equity(24 [AAPL])) to (2015-12-31 00:00:00+00:00, Equity(47208 [GPRO]))\n",
      "Data columns (total 6 columns):\n",
      "CFO To Assets                  50351 non-null float64\n",
      "Capex To Assets                46997 non-null float64\n",
      "Capex To FCF                   45799 non-null float64\n",
      "Capex To Sales                 46997 non-null float64\n",
      "EBIT To Assets                 46635 non-null float64\n",
      "Retained Earnings To Assets    50349 non-null float64\n",
      "dtypes: float64(6)\n",
      "memory usage: 2.7+ MB\n"
     ]
    }
   ],
   "source": [
    "efficiency_result, t = factor_pipeline(EFFICIENCY_FACTORS)\n",
    "print('Pipeline run time {:.2f} secs'.format(t))\n",
    "efficiency_result.info()"
   ]
  },
  {
   "cell_type": "markdown",
   "metadata": {},
   "source": [
    "### Risk"
   ]
  },
  {
   "cell_type": "code",
   "execution_count": 20,
   "metadata": {},
   "outputs": [],
   "source": [
    "class RiskFactors:\n",
    "\n",
    "    @staticmethod\n",
    "    def LogMarketCap(mask):\n",
    "        \"\"\"Log of Market Capitalization log(Close Price * Shares Outstanding)\"\"\"\n",
    "        return np.log(MarketCap(mask=mask))\n",
    " \n",
    "    class DownsideRisk(CustomFactor):\n",
    "        \"\"\"Mean returns divided by std of 1yr daily losses (Sortino Ratio)\"\"\"\n",
    "        inputs = [USEquityPricing.close]\n",
    "        window_length = 252\n",
    "\n",
    "        def compute(self, today, assets, out, close):\n",
    "            ret = pd.DataFrame(close).pct_change()\n",
    "            out[:] = ret.mean().div(ret.where(ret<0).std())\n",
    "\n",
    "    @staticmethod\n",
    "    def MarketBeta(**kwargs):\n",
    "        \"\"\"Slope of 1-yr regression of price returns against index returns\"\"\"\n",
    "        return SimpleBeta(target=symbols('SPY'), regression_length=252) \n",
    "\n",
    "    class DownsideBeta(CustomFactor):\n",
    "        \"\"\"Slope of 1yr regression of returns on negative index returns\"\"\"\n",
    "        inputs = [USEquityPricing.close]\n",
    "        window_length = 252\n",
    "\n",
    "        def compute(self, today, assets, out, close):\n",
    "            t = len(close)\n",
    "            assets = pd.DataFrame(close).pct_change()\n",
    "            \n",
    "            start_date = (today - pd.DateOffset(years=1)).strftime('%Y-%m-%d')\n",
    "            spy = get_pricing('SPY', \n",
    "                              start_date=start_date, \n",
    "                              end_date=today.strftime('%Y-%m-%d')).reset_index(drop=True)\n",
    "            spy_neg_ret = (spy\n",
    "                           .close_price\n",
    "                           .iloc[-t:]\n",
    "                           .pct_change()\n",
    "                           .pipe(lambda x: x.where(x<0)))\n",
    "    \n",
    "            out[:] = assets.apply(lambda x: x.cov(spy_neg_ret)).div(spy_neg_ret.var())         \n",
    "\n",
    "    class Vol3M(CustomFactor):\n",
    "        \"\"\"3-month Volatility: Standard deviation of returns over 3 months\"\"\"\n",
    "\n",
    "        inputs = [USEquityPricing.close]\n",
    "        window_length = 63\n",
    "\n",
    "        def compute(self, today, assets, out, close):\n",
    "            out[:] = np.log1p(pd.DataFrame(close).pct_change()).std()"
   ]
  },
  {
   "cell_type": "code",
   "execution_count": 21,
   "metadata": {},
   "outputs": [],
   "source": [
    "RISK_FACTORS = {\n",
    "    'Log Market Cap' : RiskFactors.LogMarketCap,\n",
    "    'Downside Risk'  : RiskFactors.DownsideRisk,\n",
    "    'Index Beta'     : RiskFactors.MarketBeta,\n",
    "#     'Downside Beta'  : RiskFactors.DownsideBeta,    \n",
    "    'Volatility 3M'  : RiskFactors.Vol3M,    \n",
    "}"
   ]
  },
  {
   "cell_type": "code",
   "execution_count": 22,
   "metadata": {},
   "outputs": [
    {
     "name": "stdout",
     "output_type": "stream",
     "text": [
      "Pipeline run time 46.10 secs\n",
      "<class 'pandas.core.frame.DataFrame'>\n",
      "MultiIndex: 50362 entries, (2014-01-02 00:00:00+00:00, Equity(24 [AAPL])) to (2015-12-31 00:00:00+00:00, Equity(47208 [GPRO]))\n",
      "Data columns (total 4 columns):\n",
      "Downside Risk     50362 non-null float64\n",
      "Index Beta        50079 non-null float64\n",
      "Log Market Cap    50362 non-null float64\n",
      "Volatility 3M     50362 non-null float64\n",
      "dtypes: float64(4)\n",
      "memory usage: 1.9+ MB\n"
     ]
    }
   ],
   "source": [
    "risk_result, t = factor_pipeline(RISK_FACTORS)\n",
    "print('Pipeline run time {:.2f} secs'.format(t))\n",
    "risk_result.info()"
   ]
  },
  {
   "cell_type": "markdown",
   "metadata": {},
   "source": [
    "### Growth"
   ]
  },
  {
   "cell_type": "code",
   "execution_count": 23,
   "metadata": {},
   "outputs": [],
   "source": [
    "def growth_pipeline():\n",
    "    revenue = AnnualizedData(inputs = [Fundamentals.total_revenue_asof_date,\n",
    "                                       Fundamentals.total_revenue],\n",
    "                             mask=UNIVERSE)\n",
    "    eps = AnnualizedData(inputs = [Fundamentals.diluted_eps_earnings_reports_asof_date,\n",
    "                                       Fundamentals.diluted_eps_earnings_reports],\n",
    "                             mask=UNIVERSE)    \n",
    "\n",
    "    return Pipeline({'Sales': revenue,\n",
    "                     'EPS': eps,\n",
    "                     'Total Assets': Fundamentals.total_assets.latest,\n",
    "                     'Net Debt': Fundamentals.net_debt.latest},\n",
    "                    screen=UNIVERSE)"
   ]
  },
  {
   "cell_type": "code",
   "execution_count": 24,
   "metadata": {},
   "outputs": [
    {
     "name": "stdout",
     "output_type": "stream",
     "text": [
      "Pipeline run time 22.21 secs\n",
      "<class 'pandas.core.frame.DataFrame'>\n",
      "MultiIndex: 50362 entries, (2014-01-02 00:00:00+00:00, Equity(24 [AAPL])) to (2015-12-31 00:00:00+00:00, Equity(47208 [GPRO]))\n",
      "Data columns (total 12 columns):\n",
      "EPS                        50215 non-null float64\n",
      "Net Debt                   47413 non-null float64\n",
      "Sales                      50351 non-null float64\n",
      "Total Assets               50362 non-null float64\n",
      "EPS Growth 3M              50152 non-null float64\n",
      "EPS Growth 12M             49963 non-null float64\n",
      "Net Debt Growth 3M         47350 non-null float64\n",
      "Net Debt Growth 12M        47171 non-null float64\n",
      "Sales Growth 3M            50288 non-null float64\n",
      "Sales Growth 12M           50099 non-null float64\n",
      "Total Assets Growth 3M     50299 non-null float64\n",
      "Total Assets Growth 12M    50110 non-null float64\n",
      "dtypes: float64(12)\n",
      "memory usage: 5.0+ MB\n"
     ]
    }
   ],
   "source": [
    "start_timer = time()\n",
    "growth_result = run_pipeline(growth_pipeline(), start_date=START, end_date=END)\n",
    "\n",
    "for col in growth_result.columns:\n",
    "    for month in [3, 12]:\n",
    "        new_col = col + ' Growth {}M'.format(month)\n",
    "        kwargs = {new_col: growth_result[col].pct_change(month*MONTH).groupby(level=1).rank()}        \n",
    "        growth_result = growth_result.assign(**kwargs)\n",
    "print('Pipeline run time {:.2f} secs'.format(time() - start_timer))\n",
    "growth_result.info()"
   ]
  },
  {
   "cell_type": "markdown",
   "metadata": {},
   "source": [
    "### Quality"
   ]
  },
  {
   "cell_type": "code",
   "execution_count": 25,
   "metadata": {},
   "outputs": [],
   "source": [
    "class QualityFactors:\n",
    "    \n",
    "    @staticmethod\n",
    "    def AssetTurnover(mask):\n",
    "        \"\"\"Sales divided by average of year beginning and year end assets\"\"\"\n",
    "\n",
    "        assets = AnnualAvg(inputs=[Fundamentals.total_assets],\n",
    "                           mask=mask)\n",
    "        sales = AnnualizedData([Fundamentals.total_revenue_asof_date,\n",
    "                                Fundamentals.total_revenue], mask=mask)\n",
    "        return sales / assets\n",
    "  \n",
    "    @staticmethod\n",
    "    def CurrentRatio(mask):\n",
    "        \"\"\"Total current assets divided by total current liabilities\"\"\"\n",
    "\n",
    "        assets = Fundamentals.current_assets.latest\n",
    "        liabilities = Fundamentals.current_liabilities.latest\n",
    "        return assets / liabilities\n",
    "    \n",
    "    @staticmethod\n",
    "    def AssetToEquityRatio(mask):\n",
    "        \"\"\"Total current assets divided by common equity\"\"\"\n",
    "\n",
    "        assets = Fundamentals.current_assets.latest\n",
    "        equity = Fundamentals.common_stock.latest\n",
    "        return assets / equity    \n",
    "\n",
    "    \n",
    "    @staticmethod\n",
    "    def InterestCoverage(mask):\n",
    "        \"\"\"EBIT divided by interest expense\"\"\"\n",
    "\n",
    "        ebit = AnnualizedData(inputs = [Fundamentals.ebit_asof_date,\n",
    "                                        Fundamentals.ebit], mask=mask)  \n",
    "        \n",
    "        interest_expense = AnnualizedData(inputs = [Fundamentals.interest_expense_asof_date,\n",
    "                                        Fundamentals.interest_expense], mask=mask)\n",
    "        return ebit / interest_expense\n",
    "\n",
    "    @staticmethod\n",
    "    def DebtToAssetRatio(mask):\n",
    "        \"\"\"Total Debts divided by Total Assets\"\"\"\n",
    "\n",
    "        debt = Fundamentals.total_debt.latest\n",
    "        assets = Fundamentals.total_assets.latest\n",
    "        return debt / assets\n",
    "    \n",
    "    @staticmethod\n",
    "    def DebtToEquityRatio(mask):\n",
    "        \"\"\"Total Debts divided by Common Stock Equity\"\"\"\n",
    "\n",
    "        debt = Fundamentals.total_debt.latest\n",
    "        equity = Fundamentals.common_stock.latest\n",
    "        return debt / equity    \n",
    "\n",
    "    @staticmethod\n",
    "    def WorkingCapitalToAssets(mask):\n",
    "        \"\"\"Current Assets less Current liabilities (Working Capital) divided by Assets\"\"\"\n",
    "\n",
    "        working_capital = Fundamentals.working_capital.latest\n",
    "        assets = Fundamentals.total_assets.latest\n",
    "        return working_capital / assets\n",
    " \n",
    "    @staticmethod\n",
    "    def WorkingCapitalToSales(mask):\n",
    "        \"\"\"Current Assets less Current liabilities (Working Capital), divided by Sales\"\"\"\n",
    "\n",
    "        working_capital = Fundamentals.working_capital.latest\n",
    "        sales = AnnualizedData([Fundamentals.total_revenue_asof_date,\n",
    "                                Fundamentals.total_revenue], mask=mask)        \n",
    "        return working_capital / sales          \n",
    "       \n",
    "        \n",
    "    class MertonsDD(CustomFactor):\n",
    "        \"\"\"Merton's Distance to Default \"\"\"\n",
    "        \n",
    "        inputs = [Fundamentals.total_assets,\n",
    "                  Fundamentals.total_liabilities, \n",
    "                  libor.value, \n",
    "                  USEquityPricing.close]\n",
    "        window_length = 252\n",
    "\n",
    "        def compute(self, today, assets, out, tot_assets, tot_liabilities, r, close):\n",
    "            mertons = []\n",
    "\n",
    "            for col_assets, col_liabilities, col_r, col_close in zip(tot_assets.T, tot_liabilities.T,\n",
    "                                                                     r.T, close.T):\n",
    "                vol_1y = np.nanstd(col_close)\n",
    "                numerator = np.log(\n",
    "                        col_assets[-1] / col_liabilities[-1]) + ((252 * col_r[-1]) - ((vol_1y ** 2) / 2))\n",
    "                mertons.append(numerator / vol_1y)\n",
    "\n",
    "            out[:] = mertons            "
   ]
  },
  {
   "cell_type": "code",
   "execution_count": 26,
   "metadata": {
    "scrolled": true
   },
   "outputs": [],
   "source": [
    "QUALITY_FACTORS = {\n",
    "    'AssetToEquityRatio'    : QualityFactors.AssetToEquityRatio,\n",
    "    'AssetTurnover'         : QualityFactors.AssetTurnover,\n",
    "    'CurrentRatio'          : QualityFactors.CurrentRatio,\n",
    "    'DebtToAssetRatio'      : QualityFactors.DebtToAssetRatio,\n",
    "    'DebtToEquityRatio'     : QualityFactors.DebtToEquityRatio,\n",
    "    'InterestCoverage'      : QualityFactors.InterestCoverage,\n",
    "    'MertonsDD'             : QualityFactors.MertonsDD,\n",
    "    'WorkingCapitalToAssets': QualityFactors.WorkingCapitalToAssets,\n",
    "    'WorkingCapitalToSales' : QualityFactors.WorkingCapitalToSales,\n",
    "}\n",
    "    "
   ]
  },
  {
   "cell_type": "code",
   "execution_count": 27,
   "metadata": {},
   "outputs": [
    {
     "name": "stdout",
     "output_type": "stream",
     "text": [
      "Pipeline run time 34.41 secs\n",
      "<class 'pandas.core.frame.DataFrame'>\n",
      "MultiIndex: 50362 entries, (2014-01-02 00:00:00+00:00, Equity(24 [AAPL])) to (2015-12-31 00:00:00+00:00, Equity(47208 [GPRO]))\n",
      "Data columns (total 9 columns):\n",
      "AssetToEquityRatio        45176 non-null float64\n",
      "AssetTurnover             50314 non-null float64\n",
      "CurrentRatio              45680 non-null float64\n",
      "DebtToAssetRatio          50080 non-null float64\n",
      "DebtToEquityRatio         48492 non-null float64\n",
      "InterestCoverage          35250 non-null float64\n",
      "MertonsDD                 50362 non-null float64\n",
      "WorkingCapitalToAssets    45680 non-null float64\n",
      "WorkingCapitalToSales     45669 non-null float64\n",
      "dtypes: float64(9)\n",
      "memory usage: 3.8+ MB\n"
     ]
    }
   ],
   "source": [
    "quality_result, t = factor_pipeline(QUALITY_FACTORS)\n",
    "print('Pipeline run time {:.2f} secs'.format(t))\n",
    "quality_result.info()"
   ]
  },
  {
   "cell_type": "markdown",
   "metadata": {},
   "source": [
    "### Payout"
   ]
  },
  {
   "cell_type": "code",
   "execution_count": 28,
   "metadata": {},
   "outputs": [],
   "source": [
    "class PayoutFactors:\n",
    "\n",
    "    @staticmethod\n",
    "    def DividendPayoutRatio(mask):\n",
    "        \"\"\"Dividends Per Share divided by Earnings Per Share\"\"\"\n",
    "\n",
    "        dps = AnnualizedData(inputs = [Fundamentals.dividend_per_share_earnings_reports_asof_date,\n",
    "                                        Fundamentals.dividend_per_share_earnings_reports], mask=mask)  \n",
    "        \n",
    "        eps = AnnualizedData(inputs = [Fundamentals.basic_eps_earnings_reports_asof_date,\n",
    "                                        Fundamentals.basic_eps_earnings_reports], mask=mask)\n",
    "        return dps / eps\n",
    "    \n",
    "    @staticmethod\n",
    "    def DividendGrowth(**kwargs):\n",
    "        \"\"\"Annualized percentage DPS change\"\"\"        \n",
    "        return Fundamentals.dps_growth.latest    "
   ]
  },
  {
   "cell_type": "code",
   "execution_count": 29,
   "metadata": {},
   "outputs": [],
   "source": [
    "PAYOUT_FACTORS = {\n",
    "    'Dividend Payout Ratio': PayoutFactors.DividendPayoutRatio,\n",
    "    'Dividend Growth': PayoutFactors.DividendGrowth\n",
    "}"
   ]
  },
  {
   "cell_type": "code",
   "execution_count": 30,
   "metadata": {},
   "outputs": [
    {
     "name": "stdout",
     "output_type": "stream",
     "text": [
      "Pipeline run time 21.85 secs\n",
      "<class 'pandas.core.frame.DataFrame'>\n",
      "MultiIndex: 50362 entries, (2014-01-02 00:00:00+00:00, Equity(24 [AAPL])) to (2015-12-31 00:00:00+00:00, Equity(47208 [GPRO]))\n",
      "Data columns (total 2 columns):\n",
      "Dividend Growth          40517 non-null float64\n",
      "Dividend Payout Ratio    39947 non-null float64\n",
      "dtypes: float64(2)\n",
      "memory usage: 1.2+ MB\n"
     ]
    }
   ],
   "source": [
    "payout_result, t = factor_pipeline(PAYOUT_FACTORS)\n",
    "print('Pipeline run time {:.2f} secs'.format(t))\n",
    "payout_result.info()"
   ]
  },
  {
   "cell_type": "markdown",
   "metadata": {},
   "source": [
    "### Profitability"
   ]
  },
  {
   "cell_type": "code",
   "execution_count": 31,
   "metadata": {},
   "outputs": [],
   "source": [
    "class ProfitabilityFactors:\n",
    "    \n",
    "    @staticmethod\n",
    "    def GrossProfitMargin(mask):\n",
    "        \"\"\"Gross Profit divided by Net Sales\"\"\"\n",
    "\n",
    "        gross_profit = AnnualizedData([Fundamentals.gross_profit_asof_date,\n",
    "                              Fundamentals.gross_profit], mask=mask)  \n",
    "        sales = AnnualizedData([Fundamentals.total_revenue_asof_date,\n",
    "                                Fundamentals.total_revenue], mask=mask)\n",
    "        return gross_profit / sales   \n",
    "    \n",
    "    @staticmethod\n",
    "    def NetIncomeMargin(mask):\n",
    "        \"\"\"Net income divided by Net Sales\"\"\"\n",
    "\n",
    "        net_income = AnnualizedData([Fundamentals.net_income_income_statement_asof_date,\n",
    "                              Fundamentals.net_income_income_statement], mask=mask)  \n",
    "        sales = AnnualizedData([Fundamentals.total_revenue_asof_date,\n",
    "                                Fundamentals.total_revenue], mask=mask)\n",
    "        return net_income / sales   "
   ]
  },
  {
   "cell_type": "code",
   "execution_count": 32,
   "metadata": {
    "collapsed": true
   },
   "outputs": [],
   "source": [
    "PROFITABIILTY_FACTORS = {\n",
    "    'Gross Profit Margin': ProfitabilityFactors.GrossProfitMargin,\n",
    "    'Net Income Margin': ProfitabilityFactors.NetIncomeMargin,\n",
    "    'Return on Equity': Fundamentals.roe.latest,\n",
    "    'Return on Assets': Fundamentals.roa.latest,\n",
    "    'Return on Invested Capital': Fundamentals.roic.latest\n",
    "}"
   ]
  },
  {
   "cell_type": "code",
   "execution_count": 33,
   "metadata": {},
   "outputs": [
    {
     "name": "stdout",
     "output_type": "stream",
     "text": [
      "Pipeline run time 21.65 secs\n",
      "<class 'pandas.core.frame.DataFrame'>\n",
      "MultiIndex: 50362 entries, (2014-01-02 00:00:00+00:00, Equity(24 [AAPL])) to (2015-12-31 00:00:00+00:00, Equity(47208 [GPRO]))\n",
      "Data columns (total 2 columns):\n",
      "Dividend Growth          40517 non-null float64\n",
      "Dividend Payout Ratio    39947 non-null float64\n",
      "dtypes: float64(2)\n",
      "memory usage: 1.2+ MB\n"
     ]
    }
   ],
   "source": [
    "profitability_result, t = factor_pipeline(PAYOUT_FACTORS)\n",
    "print('Pipeline run time {:.2f} secs'.format(t))\n",
    "payout_result.info()"
   ]
  },
  {
   "cell_type": "code",
   "execution_count": 34,
   "metadata": {},
   "outputs": [],
   "source": [
    "# profitability_pipeline().show_graph(format='png')"
   ]
  },
  {
   "cell_type": "markdown",
   "metadata": {},
   "source": [
    "## Build Dataset"
   ]
  },
  {
   "cell_type": "markdown",
   "metadata": {},
   "source": [
    "### Get Returns"
   ]
  },
  {
   "cell_type": "code",
   "execution_count": null,
   "metadata": {},
   "outputs": [],
   "source": [
    "lookahead = [1, 5, 10, 20]\n",
    "returns = run_pipeline(Pipeline({'Returns{}D'.format(i): Returns(inputs=[USEquityPricing.close], \n",
    "                                          window_length=i+1, mask=UNIVERSE) for i in lookahead},\n",
    "                                screen=UNIVERSE),\n",
    "                       start_date=START, \n",
    "                       end_date=END)\n",
    "return_cols = ['Returns{}D'.format(i) for i in lookahead]\n",
    "returns.info()"
   ]
  },
  {
   "cell_type": "code",
   "execution_count": 166,
   "metadata": {},
   "outputs": [],
   "source": [
    "data = pd.concat([returns,\n",
    "                 value_result,\n",
    "                 momentum_result,\n",
    "                 quality_result,\n",
    "                 payout_result,\n",
    "                 growth_result,\n",
    "                 efficiency_result,\n",
    "                 risk_result], axis=1).sortlevel()\n",
    "data.index.names = ['date', 'asset']"
   ]
  },
  {
   "cell_type": "code",
   "execution_count": 167,
   "metadata": {},
   "outputs": [],
   "source": [
    "data['stock'] = data.index.get_level_values('asset').map(lambda x: x.asset_name)"
   ]
  },
  {
   "cell_type": "markdown",
   "metadata": {},
   "source": [
    "### Remove columns and rows with less than 80% of data availability"
   ]
  },
  {
   "cell_type": "code",
   "execution_count": 168,
   "metadata": {},
   "outputs": [
    {
     "name": "stdout",
     "output_type": "stream",
     "text": [
      "2,985 rows and 3 columns dropped\n"
     ]
    }
   ],
   "source": [
    "rows_before, cols_before = data.shape\n",
    "data = (data\n",
    "        .dropna(axis=1, thresh=int(len(data)*.8))\n",
    "        .dropna(thresh=int(len(data.columns) * .8)))\n",
    "data = data.fillna(data.median())\n",
    "rows_after, cols_after = data.shape\n",
    "print('{:,d} rows and {:,d} columns dropped'.format(rows_before-rows_after, cols_before-cols_after))"
   ]
  },
  {
   "cell_type": "code",
   "execution_count": 169,
   "metadata": {},
   "outputs": [
    {
     "name": "stdout",
     "output_type": "stream",
     "text": [
      "<class 'pandas.core.frame.DataFrame'>\n",
      "MultiIndex: 47377 entries, (2014-01-02 00:00:00+00:00, Equity(24 [AAPL])) to (2015-12-31 00:00:00+00:00, Equity(47208 [GPRO]))\n",
      "Data columns (total 52 columns):\n",
      "AssetToEquityRatio             47377 non-null float64\n",
      "AssetTurnover                  47377 non-null float64\n",
      "CFO To Assets                  47377 non-null float64\n",
      "Capex To Assets                47377 non-null float64\n",
      "Capex To FCF                   47377 non-null float64\n",
      "Capex To Sales                 47377 non-null float64\n",
      "CurrentRatio                   47377 non-null float64\n",
      "DebtToAssetRatio               47377 non-null float64\n",
      "DebtToEquityRatio              47377 non-null float64\n",
      "Directional Movement Index     47377 non-null float64\n",
      "Dividend Growth                47377 non-null float64\n",
      "DividendYield                  47377 non-null float64\n",
      "Downside Risk                  47377 non-null float64\n",
      "EBIT To Assets                 47377 non-null float64\n",
      "EBITDAYield                    47377 non-null float64\n",
      "EPS                            47377 non-null float64\n",
      "EPS Growth 12M                 47377 non-null float64\n",
      "EPS Growth 3M                  47377 non-null float64\n",
      "EVToEBITDA                     47377 non-null float64\n",
      "EVToFCF                        47377 non-null float64\n",
      "Index Beta                     47377 non-null float64\n",
      "Log Market Cap                 47377 non-null float64\n",
      "MertonsDD                      47377 non-null float64\n",
      "Money Flow Index               47377 non-null float64\n",
      "Net Debt                       47377 non-null float64\n",
      "Net Debt Growth 12M            47377 non-null float64\n",
      "Net Debt Growth 3M             47377 non-null float64\n",
      "Percent Above Low              47377 non-null float64\n",
      "Percent Below High             47377 non-null float64\n",
      "Price Oscillator               47377 non-null float64\n",
      "PriceToBook                    47377 non-null float64\n",
      "PriceToDilutedEarningsTTM      47377 non-null float64\n",
      "PriceToEarningsTTM             47377 non-null float64\n",
      "PriceToFCF                     47377 non-null float64\n",
      "PriceToOperatingCashflow       47377 non-null float64\n",
      "PriceToSalesTTM                47377 non-null float64\n",
      "Retained Earnings To Assets    47377 non-null float64\n",
      "Returns10D                     47377 non-null float64\n",
      "Returns1D                      47377 non-null float64\n",
      "Returns20D                     47377 non-null float64\n",
      "Returns5D                      47377 non-null float64\n",
      "Sales                          47377 non-null float64\n",
      "Sales Growth 12M               47377 non-null float64\n",
      "Sales Growth 3M                47377 non-null float64\n",
      "Total Assets                   47377 non-null float64\n",
      "Total Assets Growth 12M        47377 non-null float64\n",
      "Total Assets Growth 3M         47377 non-null float64\n",
      "Trendline                      47377 non-null float64\n",
      "Volatility 3M                  47377 non-null float64\n",
      "WorkingCapitalToAssets         47377 non-null float64\n",
      "WorkingCapitalToSales          47377 non-null float64\n",
      "stock                          47377 non-null object\n",
      "dtypes: float64(51), object(1)\n",
      "memory usage: 19.2+ MB\n"
     ]
    }
   ],
   "source": [
    "data.sort_index(1).info()"
   ]
  },
  {
   "cell_type": "code",
   "execution_count": 170,
   "metadata": {},
   "outputs": [
    {
     "data": {
      "image/png": "[encoded data removed]",
      "text/plain": [
       "<matplotlib.figure.Figure at 0x7f241dc5ad10>"
      ]
     },
     "metadata": {},
     "output_type": "display_data"
    }
   ],
   "source": [
    "g = sns.clustermap(data.drop(['stock'] + return_cols, axis=1).corr())\n",
    "plt.gcf().set_size_inches((14,14));"
   ]
  },
  {
   "cell_type": "markdown",
   "metadata": {},
   "source": [
    "### Prepare Features"
   ]
  },
  {
   "cell_type": "code",
   "execution_count": 171,
   "metadata": {},
   "outputs": [
    {
     "name": "stdout",
     "output_type": "stream",
     "text": [
      "<class 'pandas.core.frame.DataFrame'>\n",
      "MultiIndex: 47377 entries, (2014-01-02 00:00:00+00:00, Equity(24 [AAPL])) to (2015-12-31 00:00:00+00:00, Equity(47208 [GPRO]))\n",
      "Columns: 182 entries, DividendYield to stock_YELP INC\n",
      "dtypes: float64(182)\n",
      "memory usage: 66.1+ MB\n"
     ]
    }
   ],
   "source": [
    "X = pd.get_dummies(data.drop(return_cols, axis=1), drop_first=True)\n",
    "X.info()"
   ]
  },
  {
   "cell_type": "markdown",
   "metadata": {},
   "source": [
    "### Shifted Returns"
   ]
  },
  {
   "cell_type": "code",
   "execution_count": 172,
   "metadata": {
    "scrolled": true
   },
   "outputs": [
    {
     "name": "stdout",
     "output_type": "stream",
     "text": [
      "<class 'pandas.core.frame.DataFrame'>\n",
      "MultiIndex: 47377 entries, (2014-01-02 00:00:00+00:00, Equity(24 [AAPL])) to (2015-12-31 00:00:00+00:00, Equity(47208 [GPRO]))\n",
      "Data columns (total 4 columns):\n",
      "Returns1D     47242 non-null float64\n",
      "Returns5D     46706 non-null float64\n",
      "Returns10D    46036 non-null float64\n",
      "Returns20D    44696 non-null float64\n",
      "dtypes: float64(4)\n",
      "memory usage: 1.8+ MB\n"
     ]
    }
   ],
   "source": [
    "y = data.loc[:, return_cols]\n",
    "shifted_y = []\n",
    "for col in y.columns:\n",
    "    t = int(re.search(r'\\d+', col).group(0))\n",
    "    shifted_y.append(y.groupby(level='asset')['Returns{}D'.format(t)].shift(-t).to_frame(col))\n",
    "y = pd.concat(shifted_y, axis=1)\n",
    "y.info()"
   ]
  },
  {
   "cell_type": "code",
   "execution_count": 175,
   "metadata": {
    "scrolled": true
   },
   "outputs": [
    {
     "data": {
      "image/png": "[encoded data removed]",
      "text/plain": [
       "<matplotlib.figure.Figure at 0x7f241d338590>"
      ]
     },
     "metadata": {},
     "output_type": "display_data"
    }
   ],
   "source": [
    "ax = sns.boxplot(y[return_cols])\n",
    "ax.set_title('Return Distriubtions');"
   ]
  },
  {
   "cell_type": "markdown",
   "metadata": {},
   "source": [
    "## TA-Lib"
   ]
  },
  {
   "cell_type": "code",
   "execution_count": null,
   "metadata": {},
   "outputs": [],
   "source": [
    "class Technical:\n",
    "    @staticmethod\n",
    "    def make_bbands(timeperiod=5, nbdevup=2, nbdevdn=2, matype=0):\n",
    "        class BBANDS(CustomFactor):\n",
    "            \"\"\"Lower, middle, and upper Bollinger Bands\"\"\"\n",
    "\n",
    "            inputs = [USEquityPricing.close]\n",
    "            outputs = ['upper', 'middle', 'lower']\n",
    "            window_length = timeperiod\n",
    "\n",
    "            def compute(self, today, assets, out, close_prices):\n",
    "                bb = []\n",
    "                for close in close_prices.T:\n",
    "                    u, m, l = talib.BBANDS(close, timeperiod=timeperiod, \n",
    "                                nbdevup=nbdevup, nbdevdn=nbdevdn, \n",
    "                                matype=matype)\n",
    "                    bb.append((u[-1], m[-1], l[-1]))\n",
    "                out.upper[:], out.middle[:], out.lower[:] = list(zip(*bb))\n",
    "        return BBANDS\n",
    "    \n",
    "    @staticmethod\n",
    "    def make_ema(timeperiod=30):\n",
    "        class EMA(CustomFactor):\n",
    "            \"\"\"Double Exponential Moving Average\"\"\"\n",
    "            inputs = [USEquityPricing.close]\n",
    "            window_length = timeperiod\n",
    "            \n",
    "            def compute(self, today, assets, out, close_prices):\n",
    "                out[:] = [talib.EMA(p, timeperiod=timeperiod)[-1] for p in close_prices.T]\n",
    "        return EMA \n",
    "    \n",
    "    @staticmethod\n",
    "    def make_dx(timeperiod=14):\n",
    "        class DX(CustomFactor):\n",
    "            \"\"\"Directional Movement Index\"\"\"\n",
    "            inputs = [USEquityPricing.high, \n",
    "                      USEquityPricing.low, \n",
    "                      USEquityPricing.close]\n",
    "            window_length = timeperiod + 1\n",
    "            \n",
    "            def compute(self, today, assets, out, high, low, close):\n",
    "                out[:] = [talib.DX(high[:, i], \n",
    "                                   low[:, i], \n",
    "                                   close[:, i], \n",
    "                                   timeperiod=timeperiod)[-1] \n",
    "                          for i in range(len(assets))]\n",
    "        return DX  \n",
    "    \n",
    "    \n",
    "    @staticmethod\n",
    "    def make_mfi(timeperiod=14):\n",
    "        class MFI(CustomFactor):\n",
    "            \"\"\"Money Flow Index\"\"\"\n",
    "            inputs = [USEquityPricing.high, \n",
    "                      USEquityPricing.low, \n",
    "                      USEquityPricing.close,\n",
    "                      USEquityPricing.volume]\n",
    "            window_length = timeperiod + 1\n",
    "            \n",
    "            def compute(self, today, assets, out, high, low, close, vol):\n",
    "                out[:] = [talib.MFI(high[:, i], \n",
    "                                    low[:, i], \n",
    "                                    close[:, i],\n",
    "                                    vol[:, i],\n",
    "                                    timeperiod=timeperiod)[-1] \n",
    "                          for i in range(len(assets))]\n",
    "        return MFI"
   ]
  },
  {
   "cell_type": "code",
   "execution_count": null,
   "metadata": {},
   "outputs": [],
   "source": [
    "def test_pipeline():\n",
    "    stocks = StaticAssets(symbols(['MSFT', 'AAPL']))\n",
    "#     DX = Technical.make_dx()\n",
    "    MFI = Technical.make_mfi()\n",
    "    \n",
    "    ewma = EWMA(inputs=[USEquityPricing.high],\n",
    "                        window_length=30, \n",
    "                        decay_rate=.2,\n",
    "                        mask=stocks)\n",
    "    bb = BollingerBands(window_length=30, k=2, mask=stocks)\n",
    "    return Pipeline({'adx': Technical.make_dx()(mask=stocks),\n",
    "                     'mfi': MFI(mask=stocks),\n",
    "                     'ewma': ewma,\n",
    "                     'lower': bb.lower,\n",
    "                     'mid': bb.middle,\n",
    "                     'up': bb.upper},\n",
    "                    screen=stocks)"
   ]
  },
  {
   "cell_type": "code",
   "execution_count": null,
   "metadata": {},
   "outputs": [],
   "source": [
    "start_timer = time()\n",
    "result = run_pipeline(test_pipeline(), \n",
    "                      start_date='2018-05-01',\n",
    "                      end_date='2018-07-31')\n",
    "print('Pipeline run time {:.2f} secs'.format(time() - start_timer))\n",
    "result.tail(10)"
   ]
  }
 ],
 "metadata": {
  "kernelspec": {
   "display_name": "Python 3 (ipykernel)",
   "language": "python",
   "name": "python3"
  },
  "language_info": {
   "codemirror_mode": {
    "name": "ipython",
    "version": 3
   },
   "file_extension": ".py",
   "mimetype": "text/x-python",
   "name": "python",
   "nbconvert_exporter": "python",
   "pygments_lexer": "ipython3",
   "version": "3.7.9"
  },
  "toc": {
   "base_numbering": 1,
   "nav_menu": {},
   "number_sections": true,
   "sideBar": true,
   "skip_h1_title": true,
   "title_cell": "Table of Contents",
   "title_sidebar": "Contents",
   "toc_cell": false,
   "toc_position": {
    "height": "calc(100% - 180px)",
    "left": "10px",
    "top": "150px",
    "width": "254.391px"
   },
   "toc_section_display": true,
   "toc_window_display": true
  }
 },
 "nbformat": 4,
 "nbformat_minor": 2
}
