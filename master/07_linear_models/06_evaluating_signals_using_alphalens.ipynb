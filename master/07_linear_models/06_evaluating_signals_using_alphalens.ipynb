{
 "cells": [
  {
   "cell_type": "markdown",
   "metadata": {},
   "source": [
    "# Alphalens Analysis"
   ]
  },
  {
   "cell_type": "code",
   "execution_count": 1,
   "metadata": {
    "ExecuteTime": {
     "end_time": "2020-06-17T19:32:54.713256Z",
     "start_time": "2020-06-17T19:32:54.710356Z"
    }
   },
   "outputs": [],
   "source": [
    "import warnings\n",
    "warnings.filterwarnings('ignore')"
   ]
  },
  {
   "cell_type": "code",
   "execution_count": 2,
   "metadata": {
    "ExecuteTime": {
     "end_time": "2020-06-17T19:32:55.903518Z",
     "start_time": "2020-06-17T19:32:54.716213Z"
    }
   },
   "outputs": [],
   "source": [
    "from pathlib import Path\n",
    "import pandas as pd\n",
    "from alphalens.tears import create_summary_tear_sheet\n",
    "from alphalens.utils import get_clean_factor_and_forward_returns"
   ]
  },
  {
   "cell_type": "code",
   "execution_count": 3,
   "metadata": {
    "ExecuteTime": {
     "end_time": "2020-06-17T19:32:55.912413Z",
     "start_time": "2020-06-17T19:32:55.908685Z"
    }
   },
   "outputs": [],
   "source": [
    "idx = pd.IndexSlice"
   ]
  },
  {
   "cell_type": "markdown",
   "metadata": {},
   "source": [
    "## Load Data"
   ]
  },
  {
   "cell_type": "code",
   "execution_count": 4,
   "metadata": {
    "ExecuteTime": {
     "end_time": "2020-06-17T19:32:56.164642Z",
     "start_time": "2020-06-17T19:32:55.919064Z"
    }
   },
   "outputs": [],
   "source": [
    "with pd.HDFStore('data.h5') as store:\n",
    "    lr_predictions = store['lr/predictions']\n",
    "    lasso_predictions = store['lasso/predictions']\n",
    "    lasso_scores = store['lasso/scores']\n",
    "    ridge_predictions = store['ridge/predictions']\n",
    "    ridge_scores = store['ridge/scores']"
   ]
  },
  {
   "cell_type": "code",
   "execution_count": 5,
   "metadata": {
    "ExecuteTime": {
     "end_time": "2020-06-17T19:32:56.170797Z",
     "start_time": "2020-06-17T19:32:56.167335Z"
    }
   },
   "outputs": [],
   "source": [
    "DATA_STORE = Path('..', 'data', 'assets.h5')"
   ]
  },
  {
   "cell_type": "code",
   "execution_count": 6,
   "metadata": {
    "ExecuteTime": {
     "end_time": "2020-06-17T19:32:56.180509Z",
     "start_time": "2020-06-17T19:32:56.172341Z"
    }
   },
   "outputs": [],
   "source": [
    "def get_trade_prices(tickers, start, stop):\n",
    "    prices = (pd.read_hdf(DATA_STORE, 'quandl/wiki/prices').swaplevel().sort_index())\n",
    "    prices.index.names = ['symbol', 'date']\n",
    "    prices = prices.loc[idx[tickers, str(start):str(stop)], 'adj_open']\n",
    "    return (prices\n",
    "            .unstack('symbol')\n",
    "            .sort_index()\n",
    "            .shift(-1)\n",
    "            .tz_localize('UTC'))"
   ]
  },
  {
   "cell_type": "code",
   "execution_count": 7,
   "metadata": {
    "ExecuteTime": {
     "end_time": "2020-06-17T19:32:56.188828Z",
     "start_time": "2020-06-17T19:32:56.182608Z"
    }
   },
   "outputs": [],
   "source": [
    "def get_best_alpha(scores):\n",
    "    return scores.groupby('alpha').ic.mean().idxmax()"
   ]
  },
  {
   "cell_type": "code",
   "execution_count": 8,
   "metadata": {
    "ExecuteTime": {
     "end_time": "2020-06-17T19:32:56.201156Z",
     "start_time": "2020-06-17T19:32:56.191362Z"
    }
   },
   "outputs": [],
   "source": [
    "def get_factor(predictions):\n",
    "    return (predictions.unstack('symbol')\n",
    "            .dropna(how='all')\n",
    "            .stack()\n",
    "            .tz_localize('UTC', level='date')\n",
    "            .sort_index())    "
   ]
  },
  {
   "cell_type": "markdown",
   "metadata": {},
   "source": [
    "## Linear Regression"
   ]
  },
  {
   "cell_type": "code",
   "execution_count": 9,
   "metadata": {
    "ExecuteTime": {
     "end_time": "2020-06-17T19:32:56.264394Z",
     "start_time": "2020-06-17T19:32:56.202640Z"
    }
   },
   "outputs": [
    {
     "data": {
      "text/plain": [
       "date                       symbol\n",
       "2014-12-09 00:00:00+00:00  AAL       0.001839\n",
       "                           AAPL     -0.001534\n",
       "                           ABBV      0.001316\n",
       "                           AGN       0.002175\n",
       "                           AIG      -0.000336\n",
       "dtype: float64"
      ]
     },
     "execution_count": 9,
     "metadata": {},
     "output_type": "execute_result"
    }
   ],
   "source": [
    "lr_factor = get_factor(lr_predictions.predicted.swaplevel())\n",
    "lr_factor.head()"
   ]
  },
  {
   "cell_type": "code",
   "execution_count": 10,
   "metadata": {
    "ExecuteTime": {
     "end_time": "2020-06-17T19:32:56.276852Z",
     "start_time": "2020-06-17T19:32:56.269022Z"
    }
   },
   "outputs": [],
   "source": [
    "tickers = lr_factor.index.get_level_values('symbol').unique()"
   ]
  },
  {
   "cell_type": "code",
   "execution_count": 11,
   "metadata": {
    "ExecuteTime": {
     "end_time": "2020-06-17T19:33:26.037231Z",
     "start_time": "2020-06-17T19:32:56.283251Z"
    }
   },
   "outputs": [
    {
     "name": "stdout",
     "output_type": "stream",
     "text": [
      "<class 'pandas.core.frame.DataFrame'>\n",
      "DatetimeIndex: 1007 entries, 2014-01-02 00:00:00+00:00 to 2017-12-29 00:00:00+00:00\n",
      "Columns: 257 entries, AAL to YUM\n",
      "dtypes: float64(257)\n",
      "memory usage: 2.0 MB\n"
     ]
    }
   ],
   "source": [
    "trade_prices = get_trade_prices(tickers, 2014, 2017)\n",
    "trade_prices.info()"
   ]
  },
  {
   "cell_type": "code",
   "execution_count": 12,
   "metadata": {
    "ExecuteTime": {
     "end_time": "2020-06-17T19:33:29.084779Z",
     "start_time": "2020-06-17T19:33:26.038341Z"
    },
    "scrolled": false
   },
   "outputs": [
    {
     "name": "stdout",
     "output_type": "stream",
     "text": [
      "Dropped 0.0% entries from factor data: 0.0% in forward returns computation and 0.0% in binning phase (set max_loss=0 to see potentially suppressed Exceptions).\n",
      "max_loss is 35.0%, not exceeded: OK!\n",
      "<class 'pandas.core.frame.DataFrame'>\n",
      "MultiIndex: 74054 entries, (Timestamp('2014-12-09 00:00:00+0000', tz='UTC'), 'AAL') to (Timestamp('2017-11-29 00:00:00+0000', tz='UTC'), 'XOM')\n",
      "Data columns (total 6 columns):\n",
      " #   Column           Non-Null Count  Dtype  \n",
      "---  ------           --------------  -----  \n",
      " 0   1D               74054 non-null  float64\n",
      " 1   5D               74054 non-null  float64\n",
      " 2   10D              74054 non-null  float64\n",
      " 3   21D              74054 non-null  float64\n",
      " 4   factor           74054 non-null  float64\n",
      " 5   factor_quantile  74054 non-null  int64  \n",
      "dtypes: float64(5), int64(1)\n",
      "memory usage: 3.7+ MB\n"
     ]
    }
   ],
   "source": [
    "lr_factor_data = get_clean_factor_and_forward_returns(factor=lr_factor,\n",
    "                                                      prices=trade_prices,\n",
    "                                                      quantiles=5,\n",
    "                                                      periods=(1, 5, 10, 21))\n",
    "lr_factor_data.info()"
   ]
  },
  {
   "cell_type": "code",
   "execution_count": 13,
   "metadata": {
    "ExecuteTime": {
     "end_time": "2020-06-17T19:33:45.881571Z",
     "start_time": "2020-06-17T19:33:29.089016Z"
    },
    "scrolled": false
   },
   "outputs": [
    {
     "name": "stdout",
     "output_type": "stream",
     "text": [
      "Quantiles Statistics\n"
     ]
    },
    {
     "data": {
      "text/html": [
       "<div>\n",
       "<style scoped>\n",
       "    .dataframe tbody tr th:only-of-type {\n",
       "        vertical-align: middle;\n",
       "    }\n",
       "\n",
       "    .dataframe tbody tr th {\n",
       "        vertical-align: top;\n",
       "    }\n",
       "\n",
       "    .dataframe thead th {\n",
       "        text-align: right;\n",
       "    }\n",
       "</style>\n",
       "<table border=\"1\" class=\"dataframe\">\n",
       "  <thead>\n",
       "    <tr style=\"text-align: right;\">\n",
       "      <th></th>\n",
       "      <th>min</th>\n",
       "      <th>max</th>\n",
       "      <th>mean</th>\n",
       "      <th>std</th>\n",
       "      <th>count</th>\n",
       "      <th>count %</th>\n",
       "    </tr>\n",
       "    <tr>\n",
       "      <th>factor_quantile</th>\n",
       "      <th></th>\n",
       "      <th></th>\n",
       "      <th></th>\n",
       "      <th></th>\n",
       "      <th></th>\n",
       "      <th></th>\n",
       "    </tr>\n",
       "  </thead>\n",
       "  <tbody>\n",
       "    <tr>\n",
       "      <th>1</th>\n",
       "      <td>-0.046824</td>\n",
       "      <td>0.008700</td>\n",
       "      <td>-0.003150</td>\n",
       "      <td>0.004048</td>\n",
       "      <td>14982</td>\n",
       "      <td>20.231183</td>\n",
       "    </tr>\n",
       "    <tr>\n",
       "      <th>2</th>\n",
       "      <td>-0.015561</td>\n",
       "      <td>0.010754</td>\n",
       "      <td>-0.000985</td>\n",
       "      <td>0.003357</td>\n",
       "      <td>14877</td>\n",
       "      <td>20.089394</td>\n",
       "    </tr>\n",
       "    <tr>\n",
       "      <th>3</th>\n",
       "      <td>-0.013413</td>\n",
       "      <td>0.012631</td>\n",
       "      <td>0.000134</td>\n",
       "      <td>0.003347</td>\n",
       "      <td>14336</td>\n",
       "      <td>19.358846</td>\n",
       "    </tr>\n",
       "    <tr>\n",
       "      <th>4</th>\n",
       "      <td>-0.011913</td>\n",
       "      <td>0.014850</td>\n",
       "      <td>0.001203</td>\n",
       "      <td>0.003457</td>\n",
       "      <td>14877</td>\n",
       "      <td>20.089394</td>\n",
       "    </tr>\n",
       "    <tr>\n",
       "      <th>5</th>\n",
       "      <td>-0.010072</td>\n",
       "      <td>0.038540</td>\n",
       "      <td>0.003289</td>\n",
       "      <td>0.004285</td>\n",
       "      <td>14982</td>\n",
       "      <td>20.231183</td>\n",
       "    </tr>\n",
       "  </tbody>\n",
       "</table>\n",
       "</div>"
      ],
      "text/plain": [
       "                      min       max      mean       std  count    count %\n",
       "factor_quantile                                                          \n",
       "1               -0.046824  0.008700 -0.003150  0.004048  14982  20.231183\n",
       "2               -0.015561  0.010754 -0.000985  0.003357  14877  20.089394\n",
       "3               -0.013413  0.012631  0.000134  0.003347  14336  19.358846\n",
       "4               -0.011913  0.014850  0.001203  0.003457  14877  20.089394\n",
       "5               -0.010072  0.038540  0.003289  0.004285  14982  20.231183"
      ]
     },
     "metadata": {},
     "output_type": "display_data"
    },
    {
     "name": "stdout",
     "output_type": "stream",
     "text": [
      "Returns Analysis\n"
     ]
    },
    {
     "data": {
      "text/html": [
       "<div>\n",
       "<style scoped>\n",
       "    .dataframe tbody tr th:only-of-type {\n",
       "        vertical-align: middle;\n",
       "    }\n",
       "\n",
       "    .dataframe tbody tr th {\n",
       "        vertical-align: top;\n",
       "    }\n",
       "\n",
       "    .dataframe thead th {\n",
       "        text-align: right;\n",
       "    }\n",
       "</style>\n",
       "<table border=\"1\" class=\"dataframe\">\n",
       "  <thead>\n",
       "    <tr style=\"text-align: right;\">\n",
       "      <th></th>\n",
       "      <th>1D</th>\n",
       "      <th>5D</th>\n",
       "      <th>10D</th>\n",
       "      <th>21D</th>\n",
       "    </tr>\n",
       "  </thead>\n",
       "  <tbody>\n",
       "    <tr>\n",
       "      <th>Ann. alpha</th>\n",
       "      <td>0.033</td>\n",
       "      <td>0.020</td>\n",
       "      <td>0.009</td>\n",
       "      <td>0.005</td>\n",
       "    </tr>\n",
       "    <tr>\n",
       "      <th>beta</th>\n",
       "      <td>-0.012</td>\n",
       "      <td>-0.080</td>\n",
       "      <td>-0.058</td>\n",
       "      <td>0.019</td>\n",
       "    </tr>\n",
       "    <tr>\n",
       "      <th>Mean Period Wise Return Top Quantile (bps)</th>\n",
       "      <td>1.540</td>\n",
       "      <td>0.698</td>\n",
       "      <td>-0.073</td>\n",
       "      <td>0.209</td>\n",
       "    </tr>\n",
       "    <tr>\n",
       "      <th>Mean Period Wise Return Bottom Quantile (bps)</th>\n",
       "      <td>-2.804</td>\n",
       "      <td>-0.755</td>\n",
       "      <td>-0.532</td>\n",
       "      <td>-0.678</td>\n",
       "    </tr>\n",
       "    <tr>\n",
       "      <th>Mean Period Wise Spread (bps)</th>\n",
       "      <td>4.344</td>\n",
       "      <td>1.481</td>\n",
       "      <td>0.477</td>\n",
       "      <td>0.877</td>\n",
       "    </tr>\n",
       "  </tbody>\n",
       "</table>\n",
       "</div>"
      ],
      "text/plain": [
       "                                                  1D     5D    10D    21D\n",
       "Ann. alpha                                     0.033  0.020  0.009  0.005\n",
       "beta                                          -0.012 -0.080 -0.058  0.019\n",
       "Mean Period Wise Return Top Quantile (bps)     1.540  0.698 -0.073  0.209\n",
       "Mean Period Wise Return Bottom Quantile (bps) -2.804 -0.755 -0.532 -0.678\n",
       "Mean Period Wise Spread (bps)                  4.344  1.481  0.477  0.877"
      ]
     },
     "metadata": {},
     "output_type": "display_data"
    },
    {
     "name": "stdout",
     "output_type": "stream",
     "text": [
      "Information Analysis\n"
     ]
    },
    {
     "data": {
      "text/html": [
       "<div>\n",
       "<style scoped>\n",
       "    .dataframe tbody tr th:only-of-type {\n",
       "        vertical-align: middle;\n",
       "    }\n",
       "\n",
       "    .dataframe tbody tr th {\n",
       "        vertical-align: top;\n",
       "    }\n",
       "\n",
       "    .dataframe thead th {\n",
       "        text-align: right;\n",
       "    }\n",
       "</style>\n",
       "<table border=\"1\" class=\"dataframe\">\n",
       "  <thead>\n",
       "    <tr style=\"text-align: right;\">\n",
       "      <th></th>\n",
       "      <th>1D</th>\n",
       "      <th>5D</th>\n",
       "      <th>10D</th>\n",
       "      <th>21D</th>\n",
       "    </tr>\n",
       "  </thead>\n",
       "  <tbody>\n",
       "    <tr>\n",
       "      <th>IC Mean</th>\n",
       "      <td>0.020</td>\n",
       "      <td>0.014</td>\n",
       "      <td>0.013</td>\n",
       "      <td>0.016</td>\n",
       "    </tr>\n",
       "    <tr>\n",
       "      <th>IC Std.</th>\n",
       "      <td>0.181</td>\n",
       "      <td>0.168</td>\n",
       "      <td>0.169</td>\n",
       "      <td>0.157</td>\n",
       "    </tr>\n",
       "    <tr>\n",
       "      <th>Risk-Adjusted IC</th>\n",
       "      <td>0.112</td>\n",
       "      <td>0.085</td>\n",
       "      <td>0.079</td>\n",
       "      <td>0.101</td>\n",
       "    </tr>\n",
       "    <tr>\n",
       "      <th>t-stat(IC)</th>\n",
       "      <td>3.064</td>\n",
       "      <td>2.325</td>\n",
       "      <td>2.161</td>\n",
       "      <td>2.752</td>\n",
       "    </tr>\n",
       "    <tr>\n",
       "      <th>p-value(IC)</th>\n",
       "      <td>0.002</td>\n",
       "      <td>0.020</td>\n",
       "      <td>0.031</td>\n",
       "      <td>0.006</td>\n",
       "    </tr>\n",
       "    <tr>\n",
       "      <th>IC Skew</th>\n",
       "      <td>0.015</td>\n",
       "      <td>-0.025</td>\n",
       "      <td>-0.050</td>\n",
       "      <td>-0.062</td>\n",
       "    </tr>\n",
       "    <tr>\n",
       "      <th>IC Kurtosis</th>\n",
       "      <td>-0.138</td>\n",
       "      <td>-0.182</td>\n",
       "      <td>-0.143</td>\n",
       "      <td>-0.278</td>\n",
       "    </tr>\n",
       "  </tbody>\n",
       "</table>\n",
       "</div>"
      ],
      "text/plain": [
       "                     1D     5D    10D    21D\n",
       "IC Mean           0.020  0.014  0.013  0.016\n",
       "IC Std.           0.181  0.168  0.169  0.157\n",
       "Risk-Adjusted IC  0.112  0.085  0.079  0.101\n",
       "t-stat(IC)        3.064  2.325  2.161  2.752\n",
       "p-value(IC)       0.002  0.020  0.031  0.006\n",
       "IC Skew           0.015 -0.025 -0.050 -0.062\n",
       "IC Kurtosis      -0.138 -0.182 -0.143 -0.278"
      ]
     },
     "metadata": {},
     "output_type": "display_data"
    },
    {
     "name": "stdout",
     "output_type": "stream",
     "text": [
      "Turnover Analysis\n"
     ]
    },
    {
     "data": {
      "text/html": [
       "<div>\n",
       "<style scoped>\n",
       "    .dataframe tbody tr th:only-of-type {\n",
       "        vertical-align: middle;\n",
       "    }\n",
       "\n",
       "    .dataframe tbody tr th {\n",
       "        vertical-align: top;\n",
       "    }\n",
       "\n",
       "    .dataframe thead th {\n",
       "        text-align: right;\n",
       "    }\n",
       "</style>\n",
       "<table border=\"1\" class=\"dataframe\">\n",
       "  <thead>\n",
       "    <tr style=\"text-align: right;\">\n",
       "      <th></th>\n",
       "      <th>1D</th>\n",
       "      <th>5D</th>\n",
       "      <th>10D</th>\n",
       "      <th>21D</th>\n",
       "    </tr>\n",
       "  </thead>\n",
       "  <tbody>\n",
       "    <tr>\n",
       "      <th>Quantile 1 Mean Turnover</th>\n",
       "      <td>0.297</td>\n",
       "      <td>0.520</td>\n",
       "      <td>0.621</td>\n",
       "      <td>0.728</td>\n",
       "    </tr>\n",
       "    <tr>\n",
       "      <th>Quantile 2 Mean Turnover</th>\n",
       "      <td>0.517</td>\n",
       "      <td>0.707</td>\n",
       "      <td>0.761</td>\n",
       "      <td>0.788</td>\n",
       "    </tr>\n",
       "    <tr>\n",
       "      <th>Quantile 3 Mean Turnover</th>\n",
       "      <td>0.570</td>\n",
       "      <td>0.738</td>\n",
       "      <td>0.779</td>\n",
       "      <td>0.808</td>\n",
       "    </tr>\n",
       "    <tr>\n",
       "      <th>Quantile 4 Mean Turnover</th>\n",
       "      <td>0.515</td>\n",
       "      <td>0.705</td>\n",
       "      <td>0.755</td>\n",
       "      <td>0.783</td>\n",
       "    </tr>\n",
       "    <tr>\n",
       "      <th>Quantile 5 Mean Turnover</th>\n",
       "      <td>0.302</td>\n",
       "      <td>0.536</td>\n",
       "      <td>0.645</td>\n",
       "      <td>0.745</td>\n",
       "    </tr>\n",
       "  </tbody>\n",
       "</table>\n",
       "</div>"
      ],
      "text/plain": [
       "                              1D     5D    10D    21D\n",
       "Quantile 1 Mean Turnover   0.297  0.520  0.621  0.728\n",
       "Quantile 2 Mean Turnover   0.517  0.707  0.761  0.788\n",
       "Quantile 3 Mean Turnover   0.570  0.738  0.779  0.808\n",
       "Quantile 4 Mean Turnover   0.515  0.705  0.755  0.783\n",
       "Quantile 5 Mean Turnover   0.302  0.536  0.645  0.745"
      ]
     },
     "metadata": {},
     "output_type": "display_data"
    },
    {
     "data": {
      "text/html": [
       "<div>\n",
       "<style scoped>\n",
       "    .dataframe tbody tr th:only-of-type {\n",
       "        vertical-align: middle;\n",
       "    }\n",
       "\n",
       "    .dataframe tbody tr th {\n",
       "        vertical-align: top;\n",
       "    }\n",
       "\n",
       "    .dataframe thead th {\n",
       "        text-align: right;\n",
       "    }\n",
       "</style>\n",
       "<table border=\"1\" class=\"dataframe\">\n",
       "  <thead>\n",
       "    <tr style=\"text-align: right;\">\n",
       "      <th></th>\n",
       "      <th>1D</th>\n",
       "      <th>5D</th>\n",
       "      <th>10D</th>\n",
       "      <th>21D</th>\n",
       "    </tr>\n",
       "  </thead>\n",
       "  <tbody>\n",
       "    <tr>\n",
       "      <th>Mean Factor Rank Autocorrelation</th>\n",
       "      <td>0.818</td>\n",
       "      <td>0.542</td>\n",
       "      <td>0.386</td>\n",
       "      <td>0.238</td>\n",
       "    </tr>\n",
       "  </tbody>\n",
       "</table>\n",
       "</div>"
      ],
      "text/plain": [
       "                                     1D     5D    10D    21D\n",
       "Mean Factor Rank Autocorrelation  0.818  0.542  0.386  0.238"
      ]
     },
     "metadata": {},
     "output_type": "display_data"
    },
    {
     "data": {
      "text/plain": [
       "<Figure size 432x288 with 0 Axes>"
      ]
     },
     "metadata": {},
     "output_type": "display_data"
    },
    {
     "data": {
      "image/png": "[encoded data removed]",
      "text/plain": [
       "<Figure size 1008x7056 with 1 Axes>"
      ]
     },
     "metadata": {},
     "output_type": "display_data"
    }
   ],
   "source": [
    "create_summary_tear_sheet(lr_factor_data);"
   ]
  },
  {
   "cell_type": "markdown",
   "metadata": {},
   "source": [
    "## Ridge Regression"
   ]
  },
  {
   "cell_type": "code",
   "execution_count": 14,
   "metadata": {
    "ExecuteTime": {
     "end_time": "2020-06-17T19:33:45.900704Z",
     "start_time": "2020-06-17T19:33:45.885848Z"
    }
   },
   "outputs": [],
   "source": [
    "best_ridge_alpha = get_best_alpha(ridge_scores)\n",
    "ridge_predictions = ridge_predictions[ridge_predictions.alpha==best_ridge_alpha].drop('alpha', axis=1)"
   ]
  },
  {
   "cell_type": "code",
   "execution_count": 15,
   "metadata": {
    "ExecuteTime": {
     "end_time": "2020-06-17T19:33:45.948082Z",
     "start_time": "2020-06-17T19:33:45.904678Z"
    }
   },
   "outputs": [
    {
     "data": {
      "text/plain": [
       "date                       symbol\n",
       "2014-12-09 00:00:00+00:00  AAL       0.001948\n",
       "                           AAPL     -0.001526\n",
       "                           ABBV      0.001099\n",
       "                           AGN       0.001914\n",
       "                           AIG      -0.000462\n",
       "dtype: float64"
      ]
     },
     "execution_count": 15,
     "metadata": {},
     "output_type": "execute_result"
    }
   ],
   "source": [
    "ridge_factor = get_factor(ridge_predictions.predicted.swaplevel())\n",
    "ridge_factor.head()"
   ]
  },
  {
   "cell_type": "code",
   "execution_count": 16,
   "metadata": {
    "ExecuteTime": {
     "end_time": "2020-06-17T19:33:48.580227Z",
     "start_time": "2020-06-17T19:33:45.951520Z"
    }
   },
   "outputs": [
    {
     "name": "stdout",
     "output_type": "stream",
     "text": [
      "Dropped 0.0% entries from factor data: 0.0% in forward returns computation and 0.0% in binning phase (set max_loss=0 to see potentially suppressed Exceptions).\n",
      "max_loss is 35.0%, not exceeded: OK!\n",
      "<class 'pandas.core.frame.DataFrame'>\n",
      "MultiIndex: 74054 entries, (Timestamp('2014-12-09 00:00:00+0000', tz='UTC'), 'AAL') to (Timestamp('2017-11-29 00:00:00+0000', tz='UTC'), 'XOM')\n",
      "Data columns (total 6 columns):\n",
      " #   Column           Non-Null Count  Dtype  \n",
      "---  ------           --------------  -----  \n",
      " 0   1D               74054 non-null  float64\n",
      " 1   5D               74054 non-null  float64\n",
      " 2   10D              74054 non-null  float64\n",
      " 3   21D              74054 non-null  float64\n",
      " 4   factor           74054 non-null  float64\n",
      " 5   factor_quantile  74054 non-null  int64  \n",
      "dtypes: float64(5), int64(1)\n",
      "memory usage: 3.7+ MB\n"
     ]
    }
   ],
   "source": [
    "ridge_factor_data = get_clean_factor_and_forward_returns(factor=ridge_factor,\n",
    "                                                         prices=trade_prices,\n",
    "                                                         quantiles=5,\n",
    "                                                         periods=(1, 5, 10, 21))\n",
    "ridge_factor_data.info()"
   ]
  },
  {
   "cell_type": "code",
   "execution_count": 17,
   "metadata": {
    "ExecuteTime": {
     "end_time": "2020-06-17T19:34:05.722286Z",
     "start_time": "2020-06-17T19:33:48.584177Z"
    },
    "scrolled": false
   },
   "outputs": [
    {
     "name": "stdout",
     "output_type": "stream",
     "text": [
      "Quantiles Statistics\n"
     ]
    },
    {
     "data": {
      "text/html": [
       "<div>\n",
       "<style scoped>\n",
       "    .dataframe tbody tr th:only-of-type {\n",
       "        vertical-align: middle;\n",
       "    }\n",
       "\n",
       "    .dataframe tbody tr th {\n",
       "        vertical-align: top;\n",
       "    }\n",
       "\n",
       "    .dataframe thead th {\n",
       "        text-align: right;\n",
       "    }\n",
       "</style>\n",
       "<table border=\"1\" class=\"dataframe\">\n",
       "  <thead>\n",
       "    <tr style=\"text-align: right;\">\n",
       "      <th></th>\n",
       "      <th>min</th>\n",
       "      <th>max</th>\n",
       "      <th>mean</th>\n",
       "      <th>std</th>\n",
       "      <th>count</th>\n",
       "      <th>count %</th>\n",
       "    </tr>\n",
       "    <tr>\n",
       "      <th>factor_quantile</th>\n",
       "      <th></th>\n",
       "      <th></th>\n",
       "      <th></th>\n",
       "      <th></th>\n",
       "      <th></th>\n",
       "      <th></th>\n",
       "    </tr>\n",
       "  </thead>\n",
       "  <tbody>\n",
       "    <tr>\n",
       "      <th>1</th>\n",
       "      <td>-0.035996</td>\n",
       "      <td>0.009161</td>\n",
       "      <td>-0.003350</td>\n",
       "      <td>0.003619</td>\n",
       "      <td>14982</td>\n",
       "      <td>20.231183</td>\n",
       "    </tr>\n",
       "    <tr>\n",
       "      <th>2</th>\n",
       "      <td>-0.013073</td>\n",
       "      <td>0.011246</td>\n",
       "      <td>-0.001328</td>\n",
       "      <td>0.003059</td>\n",
       "      <td>14877</td>\n",
       "      <td>20.089394</td>\n",
       "    </tr>\n",
       "    <tr>\n",
       "      <th>3</th>\n",
       "      <td>-0.010553</td>\n",
       "      <td>0.012706</td>\n",
       "      <td>-0.000268</td>\n",
       "      <td>0.003090</td>\n",
       "      <td>14336</td>\n",
       "      <td>19.358846</td>\n",
       "    </tr>\n",
       "    <tr>\n",
       "      <th>4</th>\n",
       "      <td>-0.009280</td>\n",
       "      <td>0.015166</td>\n",
       "      <td>0.000742</td>\n",
       "      <td>0.003224</td>\n",
       "      <td>14877</td>\n",
       "      <td>20.089394</td>\n",
       "    </tr>\n",
       "    <tr>\n",
       "      <th>5</th>\n",
       "      <td>-0.007696</td>\n",
       "      <td>0.038573</td>\n",
       "      <td>0.002683</td>\n",
       "      <td>0.004058</td>\n",
       "      <td>14982</td>\n",
       "      <td>20.231183</td>\n",
       "    </tr>\n",
       "  </tbody>\n",
       "</table>\n",
       "</div>"
      ],
      "text/plain": [
       "                      min       max      mean       std  count    count %\n",
       "factor_quantile                                                          \n",
       "1               -0.035996  0.009161 -0.003350  0.003619  14982  20.231183\n",
       "2               -0.013073  0.011246 -0.001328  0.003059  14877  20.089394\n",
       "3               -0.010553  0.012706 -0.000268  0.003090  14336  19.358846\n",
       "4               -0.009280  0.015166  0.000742  0.003224  14877  20.089394\n",
       "5               -0.007696  0.038573  0.002683  0.004058  14982  20.231183"
      ]
     },
     "metadata": {},
     "output_type": "display_data"
    },
    {
     "name": "stdout",
     "output_type": "stream",
     "text": [
      "Returns Analysis\n"
     ]
    },
    {
     "data": {
      "text/html": [
       "<div>\n",
       "<style scoped>\n",
       "    .dataframe tbody tr th:only-of-type {\n",
       "        vertical-align: middle;\n",
       "    }\n",
       "\n",
       "    .dataframe tbody tr th {\n",
       "        vertical-align: top;\n",
       "    }\n",
       "\n",
       "    .dataframe thead th {\n",
       "        text-align: right;\n",
       "    }\n",
       "</style>\n",
       "<table border=\"1\" class=\"dataframe\">\n",
       "  <thead>\n",
       "    <tr style=\"text-align: right;\">\n",
       "      <th></th>\n",
       "      <th>1D</th>\n",
       "      <th>5D</th>\n",
       "      <th>10D</th>\n",
       "      <th>21D</th>\n",
       "    </tr>\n",
       "  </thead>\n",
       "  <tbody>\n",
       "    <tr>\n",
       "      <th>Ann. alpha</th>\n",
       "      <td>0.033</td>\n",
       "      <td>0.023</td>\n",
       "      <td>0.013</td>\n",
       "      <td>0.009</td>\n",
       "    </tr>\n",
       "    <tr>\n",
       "      <th>beta</th>\n",
       "      <td>-0.010</td>\n",
       "      <td>-0.082</td>\n",
       "      <td>-0.059</td>\n",
       "      <td>0.022</td>\n",
       "    </tr>\n",
       "    <tr>\n",
       "      <th>Mean Period Wise Return Top Quantile (bps)</th>\n",
       "      <td>1.391</td>\n",
       "      <td>0.474</td>\n",
       "      <td>-0.177</td>\n",
       "      <td>0.101</td>\n",
       "    </tr>\n",
       "    <tr>\n",
       "      <th>Mean Period Wise Return Bottom Quantile (bps)</th>\n",
       "      <td>-2.657</td>\n",
       "      <td>-1.361</td>\n",
       "      <td>-0.954</td>\n",
       "      <td>-1.062</td>\n",
       "    </tr>\n",
       "    <tr>\n",
       "      <th>Mean Period Wise Spread (bps)</th>\n",
       "      <td>4.048</td>\n",
       "      <td>1.861</td>\n",
       "      <td>0.795</td>\n",
       "      <td>1.151</td>\n",
       "    </tr>\n",
       "  </tbody>\n",
       "</table>\n",
       "</div>"
      ],
      "text/plain": [
       "                                                  1D     5D    10D    21D\n",
       "Ann. alpha                                     0.033  0.023  0.013  0.009\n",
       "beta                                          -0.010 -0.082 -0.059  0.022\n",
       "Mean Period Wise Return Top Quantile (bps)     1.391  0.474 -0.177  0.101\n",
       "Mean Period Wise Return Bottom Quantile (bps) -2.657 -1.361 -0.954 -1.062\n",
       "Mean Period Wise Spread (bps)                  4.048  1.861  0.795  1.151"
      ]
     },
     "metadata": {},
     "output_type": "display_data"
    },
    {
     "name": "stdout",
     "output_type": "stream",
     "text": [
      "Information Analysis\n"
     ]
    },
    {
     "data": {
      "text/html": [
       "<div>\n",
       "<style scoped>\n",
       "    .dataframe tbody tr th:only-of-type {\n",
       "        vertical-align: middle;\n",
       "    }\n",
       "\n",
       "    .dataframe tbody tr th {\n",
       "        vertical-align: top;\n",
       "    }\n",
       "\n",
       "    .dataframe thead th {\n",
       "        text-align: right;\n",
       "    }\n",
       "</style>\n",
       "<table border=\"1\" class=\"dataframe\">\n",
       "  <thead>\n",
       "    <tr style=\"text-align: right;\">\n",
       "      <th></th>\n",
       "      <th>1D</th>\n",
       "      <th>5D</th>\n",
       "      <th>10D</th>\n",
       "      <th>21D</th>\n",
       "    </tr>\n",
       "  </thead>\n",
       "  <tbody>\n",
       "    <tr>\n",
       "      <th>IC Mean</th>\n",
       "      <td>0.020</td>\n",
       "      <td>0.015</td>\n",
       "      <td>0.014</td>\n",
       "      <td>0.015</td>\n",
       "    </tr>\n",
       "    <tr>\n",
       "      <th>IC Std.</th>\n",
       "      <td>0.181</td>\n",
       "      <td>0.170</td>\n",
       "      <td>0.171</td>\n",
       "      <td>0.158</td>\n",
       "    </tr>\n",
       "    <tr>\n",
       "      <th>Risk-Adjusted IC</th>\n",
       "      <td>0.113</td>\n",
       "      <td>0.088</td>\n",
       "      <td>0.081</td>\n",
       "      <td>0.096</td>\n",
       "    </tr>\n",
       "    <tr>\n",
       "      <th>t-stat(IC)</th>\n",
       "      <td>3.085</td>\n",
       "      <td>2.418</td>\n",
       "      <td>2.224</td>\n",
       "      <td>2.634</td>\n",
       "    </tr>\n",
       "    <tr>\n",
       "      <th>p-value(IC)</th>\n",
       "      <td>0.002</td>\n",
       "      <td>0.016</td>\n",
       "      <td>0.026</td>\n",
       "      <td>0.009</td>\n",
       "    </tr>\n",
       "    <tr>\n",
       "      <th>IC Skew</th>\n",
       "      <td>0.008</td>\n",
       "      <td>-0.022</td>\n",
       "      <td>-0.062</td>\n",
       "      <td>-0.063</td>\n",
       "    </tr>\n",
       "    <tr>\n",
       "      <th>IC Kurtosis</th>\n",
       "      <td>-0.138</td>\n",
       "      <td>-0.172</td>\n",
       "      <td>-0.126</td>\n",
       "      <td>-0.268</td>\n",
       "    </tr>\n",
       "  </tbody>\n",
       "</table>\n",
       "</div>"
      ],
      "text/plain": [
       "                     1D     5D    10D    21D\n",
       "IC Mean           0.020  0.015  0.014  0.015\n",
       "IC Std.           0.181  0.170  0.171  0.158\n",
       "Risk-Adjusted IC  0.113  0.088  0.081  0.096\n",
       "t-stat(IC)        3.085  2.418  2.224  2.634\n",
       "p-value(IC)       0.002  0.016  0.026  0.009\n",
       "IC Skew           0.008 -0.022 -0.062 -0.063\n",
       "IC Kurtosis      -0.138 -0.172 -0.126 -0.268"
      ]
     },
     "metadata": {},
     "output_type": "display_data"
    },
    {
     "name": "stdout",
     "output_type": "stream",
     "text": [
      "Turnover Analysis\n"
     ]
    },
    {
     "data": {
      "text/html": [
       "<div>\n",
       "<style scoped>\n",
       "    .dataframe tbody tr th:only-of-type {\n",
       "        vertical-align: middle;\n",
       "    }\n",
       "\n",
       "    .dataframe tbody tr th {\n",
       "        vertical-align: top;\n",
       "    }\n",
       "\n",
       "    .dataframe thead th {\n",
       "        text-align: right;\n",
       "    }\n",
       "</style>\n",
       "<table border=\"1\" class=\"dataframe\">\n",
       "  <thead>\n",
       "    <tr style=\"text-align: right;\">\n",
       "      <th></th>\n",
       "      <th>1D</th>\n",
       "      <th>5D</th>\n",
       "      <th>10D</th>\n",
       "      <th>21D</th>\n",
       "    </tr>\n",
       "  </thead>\n",
       "  <tbody>\n",
       "    <tr>\n",
       "      <th>Quantile 1 Mean Turnover</th>\n",
       "      <td>0.294</td>\n",
       "      <td>0.513</td>\n",
       "      <td>0.617</td>\n",
       "      <td>0.723</td>\n",
       "    </tr>\n",
       "    <tr>\n",
       "      <th>Quantile 2 Mean Turnover</th>\n",
       "      <td>0.507</td>\n",
       "      <td>0.699</td>\n",
       "      <td>0.756</td>\n",
       "      <td>0.788</td>\n",
       "    </tr>\n",
       "    <tr>\n",
       "      <th>Quantile 3 Mean Turnover</th>\n",
       "      <td>0.563</td>\n",
       "      <td>0.734</td>\n",
       "      <td>0.777</td>\n",
       "      <td>0.805</td>\n",
       "    </tr>\n",
       "    <tr>\n",
       "      <th>Quantile 4 Mean Turnover</th>\n",
       "      <td>0.511</td>\n",
       "      <td>0.698</td>\n",
       "      <td>0.751</td>\n",
       "      <td>0.785</td>\n",
       "    </tr>\n",
       "    <tr>\n",
       "      <th>Quantile 5 Mean Turnover</th>\n",
       "      <td>0.300</td>\n",
       "      <td>0.529</td>\n",
       "      <td>0.640</td>\n",
       "      <td>0.743</td>\n",
       "    </tr>\n",
       "  </tbody>\n",
       "</table>\n",
       "</div>"
      ],
      "text/plain": [
       "                              1D     5D    10D    21D\n",
       "Quantile 1 Mean Turnover   0.294  0.513  0.617  0.723\n",
       "Quantile 2 Mean Turnover   0.507  0.699  0.756  0.788\n",
       "Quantile 3 Mean Turnover   0.563  0.734  0.777  0.805\n",
       "Quantile 4 Mean Turnover   0.511  0.698  0.751  0.785\n",
       "Quantile 5 Mean Turnover   0.300  0.529  0.640  0.743"
      ]
     },
     "metadata": {},
     "output_type": "display_data"
    },
    {
     "data": {
      "text/html": [
       "<div>\n",
       "<style scoped>\n",
       "    .dataframe tbody tr th:only-of-type {\n",
       "        vertical-align: middle;\n",
       "    }\n",
       "\n",
       "    .dataframe tbody tr th {\n",
       "        vertical-align: top;\n",
       "    }\n",
       "\n",
       "    .dataframe thead th {\n",
       "        text-align: right;\n",
       "    }\n",
       "</style>\n",
       "<table border=\"1\" class=\"dataframe\">\n",
       "  <thead>\n",
       "    <tr style=\"text-align: right;\">\n",
       "      <th></th>\n",
       "      <th>1D</th>\n",
       "      <th>5D</th>\n",
       "      <th>10D</th>\n",
       "      <th>21D</th>\n",
       "    </tr>\n",
       "  </thead>\n",
       "  <tbody>\n",
       "    <tr>\n",
       "      <th>Mean Factor Rank Autocorrelation</th>\n",
       "      <td>0.822</td>\n",
       "      <td>0.56</td>\n",
       "      <td>0.401</td>\n",
       "      <td>0.247</td>\n",
       "    </tr>\n",
       "  </tbody>\n",
       "</table>\n",
       "</div>"
      ],
      "text/plain": [
       "                                     1D    5D    10D    21D\n",
       "Mean Factor Rank Autocorrelation  0.822  0.56  0.401  0.247"
      ]
     },
     "metadata": {},
     "output_type": "display_data"
    },
    {
     "data": {
      "text/plain": [
       "<Figure size 432x288 with 0 Axes>"
      ]
     },
     "metadata": {},
     "output_type": "display_data"
    },
    {
     "data": {
      "image/png": "[encoded data removed]",
      "text/plain": [
       "<Figure size 1008x7056 with 1 Axes>"
      ]
     },
     "metadata": {},
     "output_type": "display_data"
    }
   ],
   "source": [
    "create_summary_tear_sheet(ridge_factor_data);"
   ]
  },
  {
   "cell_type": "markdown",
   "metadata": {},
   "source": [
    "## Lasso Regression"
   ]
  },
  {
   "cell_type": "code",
   "execution_count": 18,
   "metadata": {
    "ExecuteTime": {
     "end_time": "2020-06-17T19:34:05.734737Z",
     "start_time": "2020-06-17T19:34:05.723573Z"
    }
   },
   "outputs": [],
   "source": [
    "best_lasso_alpha = get_best_alpha(lasso_scores)\n",
    "lasso_predictions = lasso_predictions[lasso_predictions.alpha==best_lasso_alpha].drop('alpha', axis=1)"
   ]
  },
  {
   "cell_type": "code",
   "execution_count": 19,
   "metadata": {
    "ExecuteTime": {
     "end_time": "2020-06-17T19:34:05.803106Z",
     "start_time": "2020-06-17T19:34:05.736100Z"
    }
   },
   "outputs": [
    {
     "data": {
      "text/plain": [
       "date                       symbol\n",
       "2014-12-09 00:00:00+00:00  AAL       0.001875\n",
       "                           AAPL     -0.001646\n",
       "                           ABBV      0.001164\n",
       "                           AGN       0.001919\n",
       "                           AIG      -0.000529\n",
       "dtype: float64"
      ]
     },
     "execution_count": 19,
     "metadata": {},
     "output_type": "execute_result"
    }
   ],
   "source": [
    "lasso_factor = get_factor(lasso_predictions.predicted.swaplevel())\n",
    "lasso_factor.head()"
   ]
  },
  {
   "cell_type": "code",
   "execution_count": 20,
   "metadata": {
    "ExecuteTime": {
     "end_time": "2020-06-17T19:34:08.719997Z",
     "start_time": "2020-06-17T19:34:05.805777Z"
    }
   },
   "outputs": [
    {
     "name": "stdout",
     "output_type": "stream",
     "text": [
      "Dropped 0.0% entries from factor data: 0.0% in forward returns computation and 0.0% in binning phase (set max_loss=0 to see potentially suppressed Exceptions).\n",
      "max_loss is 35.0%, not exceeded: OK!\n",
      "<class 'pandas.core.frame.DataFrame'>\n",
      "MultiIndex: 74054 entries, (Timestamp('2014-12-09 00:00:00+0000', tz='UTC'), 'AAL') to (Timestamp('2017-11-29 00:00:00+0000', tz='UTC'), 'XOM')\n",
      "Data columns (total 6 columns):\n",
      " #   Column           Non-Null Count  Dtype  \n",
      "---  ------           --------------  -----  \n",
      " 0   1D               74054 non-null  float64\n",
      " 1   5D               74054 non-null  float64\n",
      " 2   10D              74054 non-null  float64\n",
      " 3   21D              74054 non-null  float64\n",
      " 4   factor           74054 non-null  float64\n",
      " 5   factor_quantile  74054 non-null  int64  \n",
      "dtypes: float64(5), int64(1)\n",
      "memory usage: 3.7+ MB\n"
     ]
    }
   ],
   "source": [
    "lasso_factor_data = get_clean_factor_and_forward_returns(factor=lasso_factor,\n",
    "                                                      prices=trade_prices,\n",
    "                                                      quantiles=5,\n",
    "                                                      periods=(1, 5, 10, 21))\n",
    "lasso_factor_data.info()"
   ]
  },
  {
   "cell_type": "code",
   "execution_count": 21,
   "metadata": {
    "ExecuteTime": {
     "end_time": "2020-06-17T19:34:24.592868Z",
     "start_time": "2020-06-17T19:34:08.721255Z"
    },
    "scrolled": false
   },
   "outputs": [
    {
     "name": "stdout",
     "output_type": "stream",
     "text": [
      "Quantiles Statistics\n"
     ]
    },
    {
     "data": {
      "text/html": [
       "<div>\n",
       "<style scoped>\n",
       "    .dataframe tbody tr th:only-of-type {\n",
       "        vertical-align: middle;\n",
       "    }\n",
       "\n",
       "    .dataframe tbody tr th {\n",
       "        vertical-align: top;\n",
       "    }\n",
       "\n",
       "    .dataframe thead th {\n",
       "        text-align: right;\n",
       "    }\n",
       "</style>\n",
       "<table border=\"1\" class=\"dataframe\">\n",
       "  <thead>\n",
       "    <tr style=\"text-align: right;\">\n",
       "      <th></th>\n",
       "      <th>min</th>\n",
       "      <th>max</th>\n",
       "      <th>mean</th>\n",
       "      <th>std</th>\n",
       "      <th>count</th>\n",
       "      <th>count %</th>\n",
       "    </tr>\n",
       "    <tr>\n",
       "      <th>factor_quantile</th>\n",
       "      <th></th>\n",
       "      <th></th>\n",
       "      <th></th>\n",
       "      <th></th>\n",
       "      <th></th>\n",
       "      <th></th>\n",
       "    </tr>\n",
       "  </thead>\n",
       "  <tbody>\n",
       "    <tr>\n",
       "      <th>1</th>\n",
       "      <td>-0.044249</td>\n",
       "      <td>0.009401</td>\n",
       "      <td>-0.003446</td>\n",
       "      <td>0.003807</td>\n",
       "      <td>14982</td>\n",
       "      <td>20.231183</td>\n",
       "    </tr>\n",
       "    <tr>\n",
       "      <th>2</th>\n",
       "      <td>-0.013901</td>\n",
       "      <td>0.011329</td>\n",
       "      <td>-0.001354</td>\n",
       "      <td>0.003222</td>\n",
       "      <td>14877</td>\n",
       "      <td>20.089394</td>\n",
       "    </tr>\n",
       "    <tr>\n",
       "      <th>3</th>\n",
       "      <td>-0.012216</td>\n",
       "      <td>0.013095</td>\n",
       "      <td>-0.000262</td>\n",
       "      <td>0.003277</td>\n",
       "      <td>14336</td>\n",
       "      <td>19.358846</td>\n",
       "    </tr>\n",
       "    <tr>\n",
       "      <th>4</th>\n",
       "      <td>-0.010771</td>\n",
       "      <td>0.015355</td>\n",
       "      <td>0.000777</td>\n",
       "      <td>0.003429</td>\n",
       "      <td>14877</td>\n",
       "      <td>20.089394</td>\n",
       "    </tr>\n",
       "    <tr>\n",
       "      <th>5</th>\n",
       "      <td>-0.008964</td>\n",
       "      <td>0.038336</td>\n",
       "      <td>0.002798</td>\n",
       "      <td>0.004332</td>\n",
       "      <td>14982</td>\n",
       "      <td>20.231183</td>\n",
       "    </tr>\n",
       "  </tbody>\n",
       "</table>\n",
       "</div>"
      ],
      "text/plain": [
       "                      min       max      mean       std  count    count %\n",
       "factor_quantile                                                          \n",
       "1               -0.044249  0.009401 -0.003446  0.003807  14982  20.231183\n",
       "2               -0.013901  0.011329 -0.001354  0.003222  14877  20.089394\n",
       "3               -0.012216  0.013095 -0.000262  0.003277  14336  19.358846\n",
       "4               -0.010771  0.015355  0.000777  0.003429  14877  20.089394\n",
       "5               -0.008964  0.038336  0.002798  0.004332  14982  20.231183"
      ]
     },
     "metadata": {},
     "output_type": "display_data"
    },
    {
     "name": "stdout",
     "output_type": "stream",
     "text": [
      "Returns Analysis\n"
     ]
    },
    {
     "data": {
      "text/html": [
       "<div>\n",
       "<style scoped>\n",
       "    .dataframe tbody tr th:only-of-type {\n",
       "        vertical-align: middle;\n",
       "    }\n",
       "\n",
       "    .dataframe tbody tr th {\n",
       "        vertical-align: top;\n",
       "    }\n",
       "\n",
       "    .dataframe thead th {\n",
       "        text-align: right;\n",
       "    }\n",
       "</style>\n",
       "<table border=\"1\" class=\"dataframe\">\n",
       "  <thead>\n",
       "    <tr style=\"text-align: right;\">\n",
       "      <th></th>\n",
       "      <th>1D</th>\n",
       "      <th>5D</th>\n",
       "      <th>10D</th>\n",
       "      <th>21D</th>\n",
       "    </tr>\n",
       "  </thead>\n",
       "  <tbody>\n",
       "    <tr>\n",
       "      <th>Ann. alpha</th>\n",
       "      <td>0.034</td>\n",
       "      <td>0.022</td>\n",
       "      <td>0.011</td>\n",
       "      <td>0.007</td>\n",
       "    </tr>\n",
       "    <tr>\n",
       "      <th>beta</th>\n",
       "      <td>-0.012</td>\n",
       "      <td>-0.080</td>\n",
       "      <td>-0.056</td>\n",
       "      <td>0.021</td>\n",
       "    </tr>\n",
       "    <tr>\n",
       "      <th>Mean Period Wise Return Top Quantile (bps)</th>\n",
       "      <td>1.912</td>\n",
       "      <td>0.684</td>\n",
       "      <td>-0.084</td>\n",
       "      <td>0.199</td>\n",
       "    </tr>\n",
       "    <tr>\n",
       "      <th>Mean Period Wise Return Bottom Quantile (bps)</th>\n",
       "      <td>-2.733</td>\n",
       "      <td>-0.906</td>\n",
       "      <td>-0.729</td>\n",
       "      <td>-0.904</td>\n",
       "    </tr>\n",
       "    <tr>\n",
       "      <th>Mean Period Wise Spread (bps)</th>\n",
       "      <td>4.645</td>\n",
       "      <td>1.618</td>\n",
       "      <td>0.659</td>\n",
       "      <td>1.090</td>\n",
       "    </tr>\n",
       "  </tbody>\n",
       "</table>\n",
       "</div>"
      ],
      "text/plain": [
       "                                                  1D     5D    10D    21D\n",
       "Ann. alpha                                     0.034  0.022  0.011  0.007\n",
       "beta                                          -0.012 -0.080 -0.056  0.021\n",
       "Mean Period Wise Return Top Quantile (bps)     1.912  0.684 -0.084  0.199\n",
       "Mean Period Wise Return Bottom Quantile (bps) -2.733 -0.906 -0.729 -0.904\n",
       "Mean Period Wise Spread (bps)                  4.645  1.618  0.659  1.090"
      ]
     },
     "metadata": {},
     "output_type": "display_data"
    },
    {
     "name": "stdout",
     "output_type": "stream",
     "text": [
      "Information Analysis\n"
     ]
    },
    {
     "data": {
      "text/html": [
       "<div>\n",
       "<style scoped>\n",
       "    .dataframe tbody tr th:only-of-type {\n",
       "        vertical-align: middle;\n",
       "    }\n",
       "\n",
       "    .dataframe tbody tr th {\n",
       "        vertical-align: top;\n",
       "    }\n",
       "\n",
       "    .dataframe thead th {\n",
       "        text-align: right;\n",
       "    }\n",
       "</style>\n",
       "<table border=\"1\" class=\"dataframe\">\n",
       "  <thead>\n",
       "    <tr style=\"text-align: right;\">\n",
       "      <th></th>\n",
       "      <th>1D</th>\n",
       "      <th>5D</th>\n",
       "      <th>10D</th>\n",
       "      <th>21D</th>\n",
       "    </tr>\n",
       "  </thead>\n",
       "  <tbody>\n",
       "    <tr>\n",
       "      <th>IC Mean</th>\n",
       "      <td>0.021</td>\n",
       "      <td>0.015</td>\n",
       "      <td>0.013</td>\n",
       "      <td>0.016</td>\n",
       "    </tr>\n",
       "    <tr>\n",
       "      <th>IC Std.</th>\n",
       "      <td>0.182</td>\n",
       "      <td>0.169</td>\n",
       "      <td>0.171</td>\n",
       "      <td>0.157</td>\n",
       "    </tr>\n",
       "    <tr>\n",
       "      <th>Risk-Adjusted IC</th>\n",
       "      <td>0.113</td>\n",
       "      <td>0.086</td>\n",
       "      <td>0.077</td>\n",
       "      <td>0.100</td>\n",
       "    </tr>\n",
       "    <tr>\n",
       "      <th>t-stat(IC)</th>\n",
       "      <td>3.092</td>\n",
       "      <td>2.351</td>\n",
       "      <td>2.106</td>\n",
       "      <td>2.739</td>\n",
       "    </tr>\n",
       "    <tr>\n",
       "      <th>p-value(IC)</th>\n",
       "      <td>0.002</td>\n",
       "      <td>0.019</td>\n",
       "      <td>0.036</td>\n",
       "      <td>0.006</td>\n",
       "    </tr>\n",
       "    <tr>\n",
       "      <th>IC Skew</th>\n",
       "      <td>0.011</td>\n",
       "      <td>-0.017</td>\n",
       "      <td>-0.052</td>\n",
       "      <td>-0.057</td>\n",
       "    </tr>\n",
       "    <tr>\n",
       "      <th>IC Kurtosis</th>\n",
       "      <td>-0.152</td>\n",
       "      <td>-0.187</td>\n",
       "      <td>-0.150</td>\n",
       "      <td>-0.300</td>\n",
       "    </tr>\n",
       "  </tbody>\n",
       "</table>\n",
       "</div>"
      ],
      "text/plain": [
       "                     1D     5D    10D    21D\n",
       "IC Mean           0.021  0.015  0.013  0.016\n",
       "IC Std.           0.182  0.169  0.171  0.157\n",
       "Risk-Adjusted IC  0.113  0.086  0.077  0.100\n",
       "t-stat(IC)        3.092  2.351  2.106  2.739\n",
       "p-value(IC)       0.002  0.019  0.036  0.006\n",
       "IC Skew           0.011 -0.017 -0.052 -0.057\n",
       "IC Kurtosis      -0.152 -0.187 -0.150 -0.300"
      ]
     },
     "metadata": {},
     "output_type": "display_data"
    },
    {
     "name": "stdout",
     "output_type": "stream",
     "text": [
      "Turnover Analysis\n"
     ]
    },
    {
     "data": {
      "text/html": [
       "<div>\n",
       "<style scoped>\n",
       "    .dataframe tbody tr th:only-of-type {\n",
       "        vertical-align: middle;\n",
       "    }\n",
       "\n",
       "    .dataframe tbody tr th {\n",
       "        vertical-align: top;\n",
       "    }\n",
       "\n",
       "    .dataframe thead th {\n",
       "        text-align: right;\n",
       "    }\n",
       "</style>\n",
       "<table border=\"1\" class=\"dataframe\">\n",
       "  <thead>\n",
       "    <tr style=\"text-align: right;\">\n",
       "      <th></th>\n",
       "      <th>1D</th>\n",
       "      <th>5D</th>\n",
       "      <th>10D</th>\n",
       "      <th>21D</th>\n",
       "    </tr>\n",
       "  </thead>\n",
       "  <tbody>\n",
       "    <tr>\n",
       "      <th>Quantile 1 Mean Turnover</th>\n",
       "      <td>0.296</td>\n",
       "      <td>0.519</td>\n",
       "      <td>0.619</td>\n",
       "      <td>0.727</td>\n",
       "    </tr>\n",
       "    <tr>\n",
       "      <th>Quantile 2 Mean Turnover</th>\n",
       "      <td>0.512</td>\n",
       "      <td>0.703</td>\n",
       "      <td>0.757</td>\n",
       "      <td>0.791</td>\n",
       "    </tr>\n",
       "    <tr>\n",
       "      <th>Quantile 3 Mean Turnover</th>\n",
       "      <td>0.566</td>\n",
       "      <td>0.734</td>\n",
       "      <td>0.781</td>\n",
       "      <td>0.806</td>\n",
       "    </tr>\n",
       "    <tr>\n",
       "      <th>Quantile 4 Mean Turnover</th>\n",
       "      <td>0.509</td>\n",
       "      <td>0.698</td>\n",
       "      <td>0.753</td>\n",
       "      <td>0.783</td>\n",
       "    </tr>\n",
       "    <tr>\n",
       "      <th>Quantile 5 Mean Turnover</th>\n",
       "      <td>0.301</td>\n",
       "      <td>0.534</td>\n",
       "      <td>0.643</td>\n",
       "      <td>0.745</td>\n",
       "    </tr>\n",
       "  </tbody>\n",
       "</table>\n",
       "</div>"
      ],
      "text/plain": [
       "                              1D     5D    10D    21D\n",
       "Quantile 1 Mean Turnover   0.296  0.519  0.619  0.727\n",
       "Quantile 2 Mean Turnover   0.512  0.703  0.757  0.791\n",
       "Quantile 3 Mean Turnover   0.566  0.734  0.781  0.806\n",
       "Quantile 4 Mean Turnover   0.509  0.698  0.753  0.783\n",
       "Quantile 5 Mean Turnover   0.301  0.534  0.643  0.745"
      ]
     },
     "metadata": {},
     "output_type": "display_data"
    },
    {
     "data": {
      "text/html": [
       "<div>\n",
       "<style scoped>\n",
       "    .dataframe tbody tr th:only-of-type {\n",
       "        vertical-align: middle;\n",
       "    }\n",
       "\n",
       "    .dataframe tbody tr th {\n",
       "        vertical-align: top;\n",
       "    }\n",
       "\n",
       "    .dataframe thead th {\n",
       "        text-align: right;\n",
       "    }\n",
       "</style>\n",
       "<table border=\"1\" class=\"dataframe\">\n",
       "  <thead>\n",
       "    <tr style=\"text-align: right;\">\n",
       "      <th></th>\n",
       "      <th>1D</th>\n",
       "      <th>5D</th>\n",
       "      <th>10D</th>\n",
       "      <th>21D</th>\n",
       "    </tr>\n",
       "  </thead>\n",
       "  <tbody>\n",
       "    <tr>\n",
       "      <th>Mean Factor Rank Autocorrelation</th>\n",
       "      <td>0.82</td>\n",
       "      <td>0.548</td>\n",
       "      <td>0.392</td>\n",
       "      <td>0.239</td>\n",
       "    </tr>\n",
       "  </tbody>\n",
       "</table>\n",
       "</div>"
      ],
      "text/plain": [
       "                                    1D     5D    10D    21D\n",
       "Mean Factor Rank Autocorrelation  0.82  0.548  0.392  0.239"
      ]
     },
     "metadata": {},
     "output_type": "display_data"
    },
    {
     "data": {
      "text/plain": [
       "<Figure size 432x288 with 0 Axes>"
      ]
     },
     "metadata": {},
     "output_type": "display_data"
    },
    {
     "data": {
      "image/png": "[encoded data removed]",
      "text/plain": [
       "<Figure size 1008x7056 with 1 Axes>"
      ]
     },
     "metadata": {},
     "output_type": "display_data"
    }
   ],
   "source": [
    "create_summary_tear_sheet(lasso_factor_data);"
   ]
  }
 ],
 "metadata": {
  "kernelspec": {
   "display_name": "Python 3",
   "language": "python",
   "name": "python3"
  },
  "language_info": {
   "codemirror_mode": {
    "name": "ipython",
    "version": 3
   },
   "file_extension": ".py",
   "mimetype": "text/x-python",
   "name": "python",
   "nbconvert_exporter": "python",
   "pygments_lexer": "ipython3",
   "version": "3.7.7"
  },
  "toc": {
   "base_numbering": 1,
   "nav_menu": {},
   "number_sections": true,
   "sideBar": true,
   "skip_h1_title": false,
   "title_cell": "Table of Contents",
   "title_sidebar": "Contents",
   "toc_cell": false,
   "toc_position": {},
   "toc_section_display": true,
   "toc_window_display": false
  }
 },
 "nbformat": 4,
 "nbformat_minor": 4
}
