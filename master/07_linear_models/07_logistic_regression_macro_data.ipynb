{
 "cells": [
  {
   "cell_type": "markdown",
   "metadata": {},
   "source": [
    "# Logistic Regression with Macro Data"
   ]
  },
  {
   "cell_type": "code",
   "execution_count": 1,
   "metadata": {
    "ExecuteTime": {
     "end_time": "2020-06-17T19:35:26.477791Z",
     "start_time": "2020-06-17T19:35:25.922084Z"
    }
   },
   "outputs": [],
   "source": [
    "%matplotlib inline\n",
    "import pandas as pd\n",
    "import statsmodels.api as sm\n",
    "import matplotlib.pyplot as plt\n",
    "import seaborn as sns"
   ]
  },
  {
   "cell_type": "code",
   "execution_count": 2,
   "metadata": {
    "ExecuteTime": {
     "end_time": "2020-06-17T19:35:26.481546Z",
     "start_time": "2020-06-17T19:35:26.479309Z"
    }
   },
   "outputs": [],
   "source": [
    "sns.set_style('whitegrid')"
   ]
  },
  {
   "cell_type": "markdown",
   "metadata": {},
   "source": [
    "## Data Set"
   ]
  },
  {
   "cell_type": "markdown",
   "metadata": {},
   "source": [
    "| Variable   | Description                                  | Transformation     |\n",
    "|------------|----------------------------------------------|--------------------|\n",
    "| realgdp    | Real gross domestic product                  | Annual Growth Rate |\n",
    "| realcons   | Real personal consumption expenditures       | Annual Growth Rate |\n",
    "| realinv    | Real gross private domestic investment       | Annual Growth Rate |\n",
    "| realgovt   | Real federal expenditures & gross investment | Annual Growth Rate |\n",
    "| realdpi    | Real private disposable income               | Annual Growth Rate |\n",
    "| m1         | M1 nominal money stock                       | Annual Growth Rate |\n",
    "| tbilrate   | Monthly treasury bill rate                 | Level              |\n",
    "| unemp      | Seasonally adjusted unemployment rate (%)    | Level              |\n",
    "| infl       | Inflation rate                               | Level              |\n",
    "| realint    |  Real interest rate                          | Level              |"
   ]
  },
  {
   "cell_type": "code",
   "execution_count": 3,
   "metadata": {
    "ExecuteTime": {
     "end_time": "2020-06-17T19:35:26.502189Z",
     "start_time": "2020-06-17T19:35:26.482604Z"
    }
   },
   "outputs": [
    {
     "name": "stdout",
     "output_type": "stream",
     "text": [
      "<class 'pandas.core.frame.DataFrame'>\n",
      "RangeIndex: 203 entries, 0 to 202\n",
      "Data columns (total 14 columns):\n",
      " #   Column    Non-Null Count  Dtype  \n",
      "---  ------    --------------  -----  \n",
      " 0   year      203 non-null    float64\n",
      " 1   quarter   203 non-null    float64\n",
      " 2   realgdp   203 non-null    float64\n",
      " 3   realcons  203 non-null    float64\n",
      " 4   realinv   203 non-null    float64\n",
      " 5   realgovt  203 non-null    float64\n",
      " 6   realdpi   203 non-null    float64\n",
      " 7   cpi       203 non-null    float64\n",
      " 8   m1        203 non-null    float64\n",
      " 9   tbilrate  203 non-null    float64\n",
      " 10  unemp     203 non-null    float64\n",
      " 11  pop       203 non-null    float64\n",
      " 12  infl      203 non-null    float64\n",
      " 13  realint   203 non-null    float64\n",
      "dtypes: float64(14)\n",
      "memory usage: 22.3 KB\n"
     ]
    }
   ],
   "source": [
    "data = pd.DataFrame(sm.datasets.macrodata.load().data)\n",
    "data.info()"
   ]
  },
  {
   "cell_type": "code",
   "execution_count": 4,
   "metadata": {
    "ExecuteTime": {
     "end_time": "2020-06-17T19:35:26.514418Z",
     "start_time": "2020-06-17T19:35:26.503024Z"
    }
   },
   "outputs": [
    {
     "data": {
      "text/html": [
       "<div>\n",
       "<style scoped>\n",
       "    .dataframe tbody tr th:only-of-type {\n",
       "        vertical-align: middle;\n",
       "    }\n",
       "\n",
       "    .dataframe tbody tr th {\n",
       "        vertical-align: top;\n",
       "    }\n",
       "\n",
       "    .dataframe thead th {\n",
       "        text-align: right;\n",
       "    }\n",
       "</style>\n",
       "<table border=\"1\" class=\"dataframe\">\n",
       "  <thead>\n",
       "    <tr style=\"text-align: right;\">\n",
       "      <th></th>\n",
       "      <th>year</th>\n",
       "      <th>quarter</th>\n",
       "      <th>realgdp</th>\n",
       "      <th>realcons</th>\n",
       "      <th>realinv</th>\n",
       "      <th>realgovt</th>\n",
       "      <th>realdpi</th>\n",
       "      <th>cpi</th>\n",
       "      <th>m1</th>\n",
       "      <th>tbilrate</th>\n",
       "      <th>unemp</th>\n",
       "      <th>pop</th>\n",
       "      <th>infl</th>\n",
       "      <th>realint</th>\n",
       "    </tr>\n",
       "  </thead>\n",
       "  <tbody>\n",
       "    <tr>\n",
       "      <th>0</th>\n",
       "      <td>1959.0</td>\n",
       "      <td>1.0</td>\n",
       "      <td>2710.349</td>\n",
       "      <td>1707.4</td>\n",
       "      <td>286.898</td>\n",
       "      <td>470.045</td>\n",
       "      <td>1886.9</td>\n",
       "      <td>28.98</td>\n",
       "      <td>139.7</td>\n",
       "      <td>2.82</td>\n",
       "      <td>5.8</td>\n",
       "      <td>177.146</td>\n",
       "      <td>0.00</td>\n",
       "      <td>0.00</td>\n",
       "    </tr>\n",
       "    <tr>\n",
       "      <th>1</th>\n",
       "      <td>1959.0</td>\n",
       "      <td>2.0</td>\n",
       "      <td>2778.801</td>\n",
       "      <td>1733.7</td>\n",
       "      <td>310.859</td>\n",
       "      <td>481.301</td>\n",
       "      <td>1919.7</td>\n",
       "      <td>29.15</td>\n",
       "      <td>141.7</td>\n",
       "      <td>3.08</td>\n",
       "      <td>5.1</td>\n",
       "      <td>177.830</td>\n",
       "      <td>2.34</td>\n",
       "      <td>0.74</td>\n",
       "    </tr>\n",
       "    <tr>\n",
       "      <th>2</th>\n",
       "      <td>1959.0</td>\n",
       "      <td>3.0</td>\n",
       "      <td>2775.488</td>\n",
       "      <td>1751.8</td>\n",
       "      <td>289.226</td>\n",
       "      <td>491.260</td>\n",
       "      <td>1916.4</td>\n",
       "      <td>29.35</td>\n",
       "      <td>140.5</td>\n",
       "      <td>3.82</td>\n",
       "      <td>5.3</td>\n",
       "      <td>178.657</td>\n",
       "      <td>2.74</td>\n",
       "      <td>1.09</td>\n",
       "    </tr>\n",
       "    <tr>\n",
       "      <th>3</th>\n",
       "      <td>1959.0</td>\n",
       "      <td>4.0</td>\n",
       "      <td>2785.204</td>\n",
       "      <td>1753.7</td>\n",
       "      <td>299.356</td>\n",
       "      <td>484.052</td>\n",
       "      <td>1931.3</td>\n",
       "      <td>29.37</td>\n",
       "      <td>140.0</td>\n",
       "      <td>4.33</td>\n",
       "      <td>5.6</td>\n",
       "      <td>179.386</td>\n",
       "      <td>0.27</td>\n",
       "      <td>4.06</td>\n",
       "    </tr>\n",
       "    <tr>\n",
       "      <th>4</th>\n",
       "      <td>1960.0</td>\n",
       "      <td>1.0</td>\n",
       "      <td>2847.699</td>\n",
       "      <td>1770.5</td>\n",
       "      <td>331.722</td>\n",
       "      <td>462.199</td>\n",
       "      <td>1955.5</td>\n",
       "      <td>29.54</td>\n",
       "      <td>139.6</td>\n",
       "      <td>3.50</td>\n",
       "      <td>5.2</td>\n",
       "      <td>180.007</td>\n",
       "      <td>2.31</td>\n",
       "      <td>1.19</td>\n",
       "    </tr>\n",
       "  </tbody>\n",
       "</table>\n",
       "</div>"
      ],
      "text/plain": [
       "     year  quarter   realgdp  realcons  realinv  realgovt  realdpi    cpi  \\\n",
       "0  1959.0      1.0  2710.349    1707.4  286.898   470.045   1886.9  28.98   \n",
       "1  1959.0      2.0  2778.801    1733.7  310.859   481.301   1919.7  29.15   \n",
       "2  1959.0      3.0  2775.488    1751.8  289.226   491.260   1916.4  29.35   \n",
       "3  1959.0      4.0  2785.204    1753.7  299.356   484.052   1931.3  29.37   \n",
       "4  1960.0      1.0  2847.699    1770.5  331.722   462.199   1955.5  29.54   \n",
       "\n",
       "      m1  tbilrate  unemp      pop  infl  realint  \n",
       "0  139.7      2.82    5.8  177.146  0.00     0.00  \n",
       "1  141.7      3.08    5.1  177.830  2.34     0.74  \n",
       "2  140.5      3.82    5.3  178.657  2.74     1.09  \n",
       "3  140.0      4.33    5.6  179.386  0.27     4.06  \n",
       "4  139.6      3.50    5.2  180.007  2.31     1.19  "
      ]
     },
     "execution_count": 4,
     "metadata": {},
     "output_type": "execute_result"
    }
   ],
   "source": [
    "data.head()"
   ]
  },
  {
   "cell_type": "markdown",
   "metadata": {},
   "source": [
    "## Data Prep"
   ]
  },
  {
   "cell_type": "markdown",
   "metadata": {},
   "source": [
    "To obtain a binary target variable, we compute the 20-quarter rolling average of the annual growth rate of quarterly real GDP. We then assign 1 if current growth exceeds the moving average and 0 otherwise. Finally, we shift the indicator variables to align next quarter's outcome with the current quarter."
   ]
  },
  {
   "cell_type": "code",
   "execution_count": 5,
   "metadata": {
    "ExecuteTime": {
     "end_time": "2020-06-17T19:35:26.526503Z",
     "start_time": "2020-06-17T19:35:26.515329Z"
    }
   },
   "outputs": [],
   "source": [
    "data['growth_rate'] = data.realgdp.pct_change(4)\n",
    "data['target'] = (data.growth_rate > data.growth_rate.rolling(20).mean()).astype(int).shift(-1)\n",
    "data.quarter = data.quarter.astype(int)"
   ]
  },
  {
   "cell_type": "code",
   "execution_count": 6,
   "metadata": {
    "ExecuteTime": {
     "end_time": "2020-06-17T19:35:26.532744Z",
     "start_time": "2020-06-17T19:35:26.527666Z"
    }
   },
   "outputs": [
    {
     "data": {
      "text/plain": [
       "0.0    112\n",
       "1.0     90\n",
       "Name: target, dtype: int64"
      ]
     },
     "execution_count": 6,
     "metadata": {},
     "output_type": "execute_result"
    }
   ],
   "source": [
    "data.target.value_counts()"
   ]
  },
  {
   "cell_type": "code",
   "execution_count": 7,
   "metadata": {
    "ExecuteTime": {
     "end_time": "2020-06-17T19:35:26.549027Z",
     "start_time": "2020-06-17T19:35:26.534887Z"
    }
   },
   "outputs": [
    {
     "data": {
      "text/html": [
       "<div>\n",
       "<style scoped>\n",
       "    .dataframe tbody tr th:only-of-type {\n",
       "        vertical-align: middle;\n",
       "    }\n",
       "\n",
       "    .dataframe tbody tr th {\n",
       "        vertical-align: top;\n",
       "    }\n",
       "\n",
       "    .dataframe thead th {\n",
       "        text-align: right;\n",
       "    }\n",
       "</style>\n",
       "<table border=\"1\" class=\"dataframe\">\n",
       "  <thead>\n",
       "    <tr style=\"text-align: right;\">\n",
       "      <th></th>\n",
       "      <th>year</th>\n",
       "      <th>quarter</th>\n",
       "      <th>realgdp</th>\n",
       "      <th>realcons</th>\n",
       "      <th>realinv</th>\n",
       "      <th>realgovt</th>\n",
       "      <th>realdpi</th>\n",
       "      <th>cpi</th>\n",
       "      <th>m1</th>\n",
       "      <th>tbilrate</th>\n",
       "      <th>unemp</th>\n",
       "      <th>pop</th>\n",
       "      <th>infl</th>\n",
       "      <th>realint</th>\n",
       "      <th>growth_rate</th>\n",
       "      <th>target</th>\n",
       "    </tr>\n",
       "  </thead>\n",
       "  <tbody>\n",
       "    <tr>\n",
       "      <th>198</th>\n",
       "      <td>2008.0</td>\n",
       "      <td>3</td>\n",
       "      <td>13324.600</td>\n",
       "      <td>9267.7</td>\n",
       "      <td>1990.693</td>\n",
       "      <td>991.551</td>\n",
       "      <td>9838.3</td>\n",
       "      <td>216.889</td>\n",
       "      <td>1474.7</td>\n",
       "      <td>1.17</td>\n",
       "      <td>6.0</td>\n",
       "      <td>305.270</td>\n",
       "      <td>-3.16</td>\n",
       "      <td>4.33</td>\n",
       "      <td>0.000262</td>\n",
       "      <td>0.0</td>\n",
       "    </tr>\n",
       "    <tr>\n",
       "      <th>199</th>\n",
       "      <td>2008.0</td>\n",
       "      <td>4</td>\n",
       "      <td>13141.920</td>\n",
       "      <td>9195.3</td>\n",
       "      <td>1857.661</td>\n",
       "      <td>1007.273</td>\n",
       "      <td>9920.4</td>\n",
       "      <td>212.174</td>\n",
       "      <td>1576.5</td>\n",
       "      <td>0.12</td>\n",
       "      <td>6.9</td>\n",
       "      <td>305.952</td>\n",
       "      <td>-8.79</td>\n",
       "      <td>8.91</td>\n",
       "      <td>-0.018619</td>\n",
       "      <td>0.0</td>\n",
       "    </tr>\n",
       "    <tr>\n",
       "      <th>200</th>\n",
       "      <td>2009.0</td>\n",
       "      <td>1</td>\n",
       "      <td>12925.410</td>\n",
       "      <td>9209.2</td>\n",
       "      <td>1558.494</td>\n",
       "      <td>996.287</td>\n",
       "      <td>9926.4</td>\n",
       "      <td>212.671</td>\n",
       "      <td>1592.8</td>\n",
       "      <td>0.22</td>\n",
       "      <td>8.1</td>\n",
       "      <td>306.547</td>\n",
       "      <td>0.94</td>\n",
       "      <td>-0.71</td>\n",
       "      <td>-0.033026</td>\n",
       "      <td>0.0</td>\n",
       "    </tr>\n",
       "    <tr>\n",
       "      <th>201</th>\n",
       "      <td>2009.0</td>\n",
       "      <td>2</td>\n",
       "      <td>12901.504</td>\n",
       "      <td>9189.0</td>\n",
       "      <td>1456.678</td>\n",
       "      <td>1023.528</td>\n",
       "      <td>10077.5</td>\n",
       "      <td>214.469</td>\n",
       "      <td>1653.6</td>\n",
       "      <td>0.18</td>\n",
       "      <td>9.2</td>\n",
       "      <td>307.226</td>\n",
       "      <td>3.37</td>\n",
       "      <td>-3.19</td>\n",
       "      <td>-0.038297</td>\n",
       "      <td>0.0</td>\n",
       "    </tr>\n",
       "    <tr>\n",
       "      <th>202</th>\n",
       "      <td>2009.0</td>\n",
       "      <td>3</td>\n",
       "      <td>12990.341</td>\n",
       "      <td>9256.0</td>\n",
       "      <td>1486.398</td>\n",
       "      <td>1044.088</td>\n",
       "      <td>10040.6</td>\n",
       "      <td>216.385</td>\n",
       "      <td>1673.9</td>\n",
       "      <td>0.12</td>\n",
       "      <td>9.6</td>\n",
       "      <td>308.013</td>\n",
       "      <td>3.56</td>\n",
       "      <td>-3.44</td>\n",
       "      <td>-0.025086</td>\n",
       "      <td>NaN</td>\n",
       "    </tr>\n",
       "  </tbody>\n",
       "</table>\n",
       "</div>"
      ],
      "text/plain": [
       "       year  quarter    realgdp  realcons   realinv  realgovt  realdpi  \\\n",
       "198  2008.0        3  13324.600    9267.7  1990.693   991.551   9838.3   \n",
       "199  2008.0        4  13141.920    9195.3  1857.661  1007.273   9920.4   \n",
       "200  2009.0        1  12925.410    9209.2  1558.494   996.287   9926.4   \n",
       "201  2009.0        2  12901.504    9189.0  1456.678  1023.528  10077.5   \n",
       "202  2009.0        3  12990.341    9256.0  1486.398  1044.088  10040.6   \n",
       "\n",
       "         cpi      m1  tbilrate  unemp      pop  infl  realint  growth_rate  \\\n",
       "198  216.889  1474.7      1.17    6.0  305.270 -3.16     4.33     0.000262   \n",
       "199  212.174  1576.5      0.12    6.9  305.952 -8.79     8.91    -0.018619   \n",
       "200  212.671  1592.8      0.22    8.1  306.547  0.94    -0.71    -0.033026   \n",
       "201  214.469  1653.6      0.18    9.2  307.226  3.37    -3.19    -0.038297   \n",
       "202  216.385  1673.9      0.12    9.6  308.013  3.56    -3.44    -0.025086   \n",
       "\n",
       "     target  \n",
       "198     0.0  \n",
       "199     0.0  \n",
       "200     0.0  \n",
       "201     0.0  \n",
       "202     NaN  "
      ]
     },
     "execution_count": 7,
     "metadata": {},
     "output_type": "execute_result"
    }
   ],
   "source": [
    "data.tail()"
   ]
  },
  {
   "cell_type": "code",
   "execution_count": 8,
   "metadata": {
    "ExecuteTime": {
     "end_time": "2020-06-17T19:35:26.564550Z",
     "start_time": "2020-06-17T19:35:26.549859Z"
    }
   },
   "outputs": [],
   "source": [
    "pct_cols = ['realcons', 'realinv', 'realgovt', 'realdpi', 'm1']\n",
    "drop_cols = ['year', 'realgdp', 'pop', 'cpi', 'growth_rate']\n",
    "data.loc[:, pct_cols] = data.loc[:, pct_cols].pct_change(4)"
   ]
  },
  {
   "cell_type": "code",
   "execution_count": 9,
   "metadata": {
    "ExecuteTime": {
     "end_time": "2020-06-17T19:35:26.577015Z",
     "start_time": "2020-06-17T19:35:26.565532Z"
    }
   },
   "outputs": [],
   "source": [
    "data = pd.get_dummies(data.drop(drop_cols, axis=1), columns=['quarter'], drop_first=True).dropna()"
   ]
  },
  {
   "cell_type": "code",
   "execution_count": 10,
   "metadata": {
    "ExecuteTime": {
     "end_time": "2020-06-17T19:35:26.596900Z",
     "start_time": "2020-06-17T19:35:26.578172Z"
    }
   },
   "outputs": [
    {
     "data": {
      "text/html": [
       "<div>\n",
       "<style scoped>\n",
       "    .dataframe tbody tr th:only-of-type {\n",
       "        vertical-align: middle;\n",
       "    }\n",
       "\n",
       "    .dataframe tbody tr th {\n",
       "        vertical-align: top;\n",
       "    }\n",
       "\n",
       "    .dataframe thead th {\n",
       "        text-align: right;\n",
       "    }\n",
       "</style>\n",
       "<table border=\"1\" class=\"dataframe\">\n",
       "  <thead>\n",
       "    <tr style=\"text-align: right;\">\n",
       "      <th></th>\n",
       "      <th>realcons</th>\n",
       "      <th>realinv</th>\n",
       "      <th>realgovt</th>\n",
       "      <th>realdpi</th>\n",
       "      <th>m1</th>\n",
       "      <th>tbilrate</th>\n",
       "      <th>unemp</th>\n",
       "      <th>infl</th>\n",
       "      <th>realint</th>\n",
       "      <th>target</th>\n",
       "      <th>quarter_2</th>\n",
       "      <th>quarter_3</th>\n",
       "      <th>quarter_4</th>\n",
       "    </tr>\n",
       "  </thead>\n",
       "  <tbody>\n",
       "    <tr>\n",
       "      <th>4</th>\n",
       "      <td>0.036957</td>\n",
       "      <td>0.156237</td>\n",
       "      <td>-0.016692</td>\n",
       "      <td>0.036356</td>\n",
       "      <td>-0.000716</td>\n",
       "      <td>3.50</td>\n",
       "      <td>5.2</td>\n",
       "      <td>2.31</td>\n",
       "      <td>1.19</td>\n",
       "      <td>0.0</td>\n",
       "      <td>0</td>\n",
       "      <td>0</td>\n",
       "      <td>0</td>\n",
       "    </tr>\n",
       "    <tr>\n",
       "      <th>5</th>\n",
       "      <td>0.034147</td>\n",
       "      <td>-0.040877</td>\n",
       "      <td>-0.043426</td>\n",
       "      <td>0.024170</td>\n",
       "      <td>-0.010586</td>\n",
       "      <td>2.68</td>\n",
       "      <td>5.2</td>\n",
       "      <td>0.14</td>\n",
       "      <td>2.55</td>\n",
       "      <td>0.0</td>\n",
       "      <td>1</td>\n",
       "      <td>0</td>\n",
       "      <td>0</td>\n",
       "    </tr>\n",
       "    <tr>\n",
       "      <th>6</th>\n",
       "      <td>0.019409</td>\n",
       "      <td>0.024718</td>\n",
       "      <td>-0.033758</td>\n",
       "      <td>0.026821</td>\n",
       "      <td>0.002847</td>\n",
       "      <td>2.36</td>\n",
       "      <td>5.6</td>\n",
       "      <td>2.70</td>\n",
       "      <td>-0.34</td>\n",
       "      <td>0.0</td>\n",
       "      <td>0</td>\n",
       "      <td>1</td>\n",
       "      <td>0</td>\n",
       "    </tr>\n",
       "    <tr>\n",
       "      <th>7</th>\n",
       "      <td>0.019673</td>\n",
       "      <td>-0.132257</td>\n",
       "      <td>-0.015738</td>\n",
       "      <td>0.018278</td>\n",
       "      <td>0.007857</td>\n",
       "      <td>2.29</td>\n",
       "      <td>6.3</td>\n",
       "      <td>1.21</td>\n",
       "      <td>1.08</td>\n",
       "      <td>0.0</td>\n",
       "      <td>0</td>\n",
       "      <td>0</td>\n",
       "      <td>1</td>\n",
       "    </tr>\n",
       "    <tr>\n",
       "      <th>8</th>\n",
       "      <td>0.009715</td>\n",
       "      <td>-0.196903</td>\n",
       "      <td>0.029544</td>\n",
       "      <td>0.014830</td>\n",
       "      <td>0.017908</td>\n",
       "      <td>2.37</td>\n",
       "      <td>6.8</td>\n",
       "      <td>-0.40</td>\n",
       "      <td>2.77</td>\n",
       "      <td>0.0</td>\n",
       "      <td>0</td>\n",
       "      <td>0</td>\n",
       "      <td>0</td>\n",
       "    </tr>\n",
       "  </tbody>\n",
       "</table>\n",
       "</div>"
      ],
      "text/plain": [
       "   realcons   realinv  realgovt   realdpi        m1  tbilrate  unemp  infl  \\\n",
       "4  0.036957  0.156237 -0.016692  0.036356 -0.000716      3.50    5.2  2.31   \n",
       "5  0.034147 -0.040877 -0.043426  0.024170 -0.010586      2.68    5.2  0.14   \n",
       "6  0.019409  0.024718 -0.033758  0.026821  0.002847      2.36    5.6  2.70   \n",
       "7  0.019673 -0.132257 -0.015738  0.018278  0.007857      2.29    6.3  1.21   \n",
       "8  0.009715 -0.196903  0.029544  0.014830  0.017908      2.37    6.8 -0.40   \n",
       "\n",
       "   realint  target  quarter_2  quarter_3  quarter_4  \n",
       "4     1.19     0.0          0          0          0  \n",
       "5     2.55     0.0          1          0          0  \n",
       "6    -0.34     0.0          0          1          0  \n",
       "7     1.08     0.0          0          0          1  \n",
       "8     2.77     0.0          0          0          0  "
      ]
     },
     "execution_count": 10,
     "metadata": {},
     "output_type": "execute_result"
    }
   ],
   "source": [
    "data.head()"
   ]
  },
  {
   "cell_type": "code",
   "execution_count": 11,
   "metadata": {
    "ExecuteTime": {
     "end_time": "2020-06-17T19:35:26.609222Z",
     "start_time": "2020-06-17T19:35:26.597742Z"
    }
   },
   "outputs": [
    {
     "name": "stdout",
     "output_type": "stream",
     "text": [
      "<class 'pandas.core.frame.DataFrame'>\n",
      "Int64Index: 198 entries, 4 to 201\n",
      "Data columns (total 13 columns):\n",
      " #   Column     Non-Null Count  Dtype  \n",
      "---  ------     --------------  -----  \n",
      " 0   realcons   198 non-null    float64\n",
      " 1   realinv    198 non-null    float64\n",
      " 2   realgovt   198 non-null    float64\n",
      " 3   realdpi    198 non-null    float64\n",
      " 4   m1         198 non-null    float64\n",
      " 5   tbilrate   198 non-null    float64\n",
      " 6   unemp      198 non-null    float64\n",
      " 7   infl       198 non-null    float64\n",
      " 8   realint    198 non-null    float64\n",
      " 9   target     198 non-null    float64\n",
      " 10  quarter_2  198 non-null    uint8  \n",
      " 11  quarter_3  198 non-null    uint8  \n",
      " 12  quarter_4  198 non-null    uint8  \n",
      "dtypes: float64(10), uint8(3)\n",
      "memory usage: 17.6 KB\n"
     ]
    }
   ],
   "source": [
    "data.info()"
   ]
  },
  {
   "cell_type": "markdown",
   "metadata": {},
   "source": [
    "We use an intercept and convert the quarter values to dummy variables and train the logistic regression model as follows:"
   ]
  },
  {
   "cell_type": "markdown",
   "metadata": {},
   "source": [
    "This produces the following summary for our model with 198 observations and 13 variables, including intercept:\n",
    "The summary indicates that the model has been trained using maximum likelihood and provides the maximized value of the log-likelihood function at -67.9."
   ]
  },
  {
   "cell_type": "code",
   "execution_count": 12,
   "metadata": {
    "ExecuteTime": {
     "end_time": "2020-06-17T19:35:26.686366Z",
     "start_time": "2020-06-17T19:35:26.610133Z"
    }
   },
   "outputs": [
    {
     "name": "stdout",
     "output_type": "stream",
     "text": [
      "Optimization terminated successfully.\n",
      "         Current function value: 0.342965\n",
      "         Iterations 8\n"
     ]
    },
    {
     "data": {
      "text/html": [
       "<table class=\"simpletable\">\n",
       "<caption>Logit Regression Results</caption>\n",
       "<tr>\n",
       "  <th>Dep. Variable:</th>        <td>target</td>      <th>  No. Observations:  </th>  <td>   198</td>  \n",
       "</tr>\n",
       "<tr>\n",
       "  <th>Model:</th>                 <td>Logit</td>      <th>  Df Residuals:      </th>  <td>   185</td>  \n",
       "</tr>\n",
       "<tr>\n",
       "  <th>Method:</th>                 <td>MLE</td>       <th>  Df Model:          </th>  <td>    12</td>  \n",
       "</tr>\n",
       "<tr>\n",
       "  <th>Date:</th>            <td>Wed, 17 Jun 2020</td> <th>  Pseudo R-squ.:     </th>  <td>0.5022</td>  \n",
       "</tr>\n",
       "<tr>\n",
       "  <th>Time:</th>                <td>15:35:26</td>     <th>  Log-Likelihood:    </th> <td> -67.907</td> \n",
       "</tr>\n",
       "<tr>\n",
       "  <th>converged:</th>             <td>True</td>       <th>  LL-Null:           </th> <td> -136.42</td> \n",
       "</tr>\n",
       "<tr>\n",
       "  <th>Covariance Type:</th>     <td>nonrobust</td>    <th>  LLR p-value:       </th> <td>2.375e-23</td>\n",
       "</tr>\n",
       "</table>\n",
       "<table class=\"simpletable\">\n",
       "<tr>\n",
       "      <td></td>         <th>coef</th>     <th>std err</th>      <th>z</th>      <th>P>|z|</th>  <th>[0.025</th>    <th>0.975]</th>  \n",
       "</tr>\n",
       "<tr>\n",
       "  <th>const</th>     <td>   -8.5881</td> <td>    1.908</td> <td>   -4.502</td> <td> 0.000</td> <td>  -12.327</td> <td>   -4.849</td>\n",
       "</tr>\n",
       "<tr>\n",
       "  <th>realcons</th>  <td>  130.1446</td> <td>   26.633</td> <td>    4.887</td> <td> 0.000</td> <td>   77.945</td> <td>  182.344</td>\n",
       "</tr>\n",
       "<tr>\n",
       "  <th>realinv</th>   <td>   18.8414</td> <td>    4.053</td> <td>    4.648</td> <td> 0.000</td> <td>   10.897</td> <td>   26.786</td>\n",
       "</tr>\n",
       "<tr>\n",
       "  <th>realgovt</th>  <td>  -19.0318</td> <td>    6.010</td> <td>   -3.166</td> <td> 0.002</td> <td>  -30.812</td> <td>   -7.252</td>\n",
       "</tr>\n",
       "<tr>\n",
       "  <th>realdpi</th>   <td>  -52.2473</td> <td>   19.912</td> <td>   -2.624</td> <td> 0.009</td> <td>  -91.275</td> <td>  -13.220</td>\n",
       "</tr>\n",
       "<tr>\n",
       "  <th>m1</th>        <td>   -1.3462</td> <td>    6.177</td> <td>   -0.218</td> <td> 0.827</td> <td>  -13.453</td> <td>   10.761</td>\n",
       "</tr>\n",
       "<tr>\n",
       "  <th>tbilrate</th>  <td>   60.8607</td> <td>   44.350</td> <td>    1.372</td> <td> 0.170</td> <td>  -26.063</td> <td>  147.784</td>\n",
       "</tr>\n",
       "<tr>\n",
       "  <th>unemp</th>     <td>    0.9487</td> <td>    0.249</td> <td>    3.818</td> <td> 0.000</td> <td>    0.462</td> <td>    1.436</td>\n",
       "</tr>\n",
       "<tr>\n",
       "  <th>infl</th>      <td>  -60.9647</td> <td>   44.362</td> <td>   -1.374</td> <td> 0.169</td> <td> -147.913</td> <td>   25.984</td>\n",
       "</tr>\n",
       "<tr>\n",
       "  <th>realint</th>   <td>  -61.0453</td> <td>   44.359</td> <td>   -1.376</td> <td> 0.169</td> <td> -147.987</td> <td>   25.896</td>\n",
       "</tr>\n",
       "<tr>\n",
       "  <th>quarter_2</th> <td>    0.1128</td> <td>    0.618</td> <td>    0.182</td> <td> 0.855</td> <td>   -1.099</td> <td>    1.325</td>\n",
       "</tr>\n",
       "<tr>\n",
       "  <th>quarter_3</th> <td>   -0.1991</td> <td>    0.609</td> <td>   -0.327</td> <td> 0.744</td> <td>   -1.393</td> <td>    0.995</td>\n",
       "</tr>\n",
       "<tr>\n",
       "  <th>quarter_4</th> <td>    0.0007</td> <td>    0.608</td> <td>    0.001</td> <td> 0.999</td> <td>   -1.191</td> <td>    1.192</td>\n",
       "</tr>\n",
       "</table>"
      ],
      "text/plain": [
       "<class 'statsmodels.iolib.summary.Summary'>\n",
       "\"\"\"\n",
       "                           Logit Regression Results                           \n",
       "==============================================================================\n",
       "Dep. Variable:                 target   No. Observations:                  198\n",
       "Model:                          Logit   Df Residuals:                      185\n",
       "Method:                           MLE   Df Model:                           12\n",
       "Date:                Wed, 17 Jun 2020   Pseudo R-squ.:                  0.5022\n",
       "Time:                        15:35:26   Log-Likelihood:                -67.907\n",
       "converged:                       True   LL-Null:                       -136.42\n",
       "Covariance Type:            nonrobust   LLR p-value:                 2.375e-23\n",
       "==============================================================================\n",
       "                 coef    std err          z      P>|z|      [0.025      0.975]\n",
       "------------------------------------------------------------------------------\n",
       "const         -8.5881      1.908     -4.502      0.000     -12.327      -4.849\n",
       "realcons     130.1446     26.633      4.887      0.000      77.945     182.344\n",
       "realinv       18.8414      4.053      4.648      0.000      10.897      26.786\n",
       "realgovt     -19.0318      6.010     -3.166      0.002     -30.812      -7.252\n",
       "realdpi      -52.2473     19.912     -2.624      0.009     -91.275     -13.220\n",
       "m1            -1.3462      6.177     -0.218      0.827     -13.453      10.761\n",
       "tbilrate      60.8607     44.350      1.372      0.170     -26.063     147.784\n",
       "unemp          0.9487      0.249      3.818      0.000       0.462       1.436\n",
       "infl         -60.9647     44.362     -1.374      0.169    -147.913      25.984\n",
       "realint      -61.0453     44.359     -1.376      0.169    -147.987      25.896\n",
       "quarter_2      0.1128      0.618      0.182      0.855      -1.099       1.325\n",
       "quarter_3     -0.1991      0.609     -0.327      0.744      -1.393       0.995\n",
       "quarter_4      0.0007      0.608      0.001      0.999      -1.191       1.192\n",
       "==============================================================================\n",
       "\"\"\""
      ]
     },
     "execution_count": 12,
     "metadata": {},
     "output_type": "execute_result"
    }
   ],
   "source": [
    "model = sm.Logit(data.target, sm.add_constant(data.drop('target', axis=1)))\n",
    "result = model.fit()\n",
    "result.summary()"
   ]
  },
  {
   "cell_type": "markdown",
   "metadata": {},
   "source": [
    "The LL-Null value of -136.42 is the result of the maximized log-likelihood function when only an intercept is included. It forms the basis for the pseudo-R2 statistic and the Log-Likelihood Ratio (LLR) test. \n",
    "The pseudo-R2 statistic is a substitute for the familiar R2 available under least squares. It is computed based on the ratio of the maximized log-likelihood function for the null model m0 and the full model m1 as follows:\n",
    "The values vary from 0 (when the model does not improve the likelihood) to 1 where the model fits perfectly and the log-likelihood is maximized at 0. Consequently, higher values indicate a better fit.\n"
   ]
  },
  {
   "cell_type": "code",
   "execution_count": 13,
   "metadata": {
    "ExecuteTime": {
     "end_time": "2020-06-17T19:35:27.213739Z",
     "start_time": "2020-06-17T19:35:26.687389Z"
    }
   },
   "outputs": [
    {
     "data": {
      "image/png": "[encoded data removed]",
      "text/plain": [
       "<Figure size 864x504 with 1 Axes>"
      ]
     },
     "metadata": {},
     "output_type": "display_data"
    }
   ],
   "source": [
    "plt.rc('figure', figsize=(12, 7))\n",
    "plt.text(0.01, 0.05, str(result.summary()), {'fontsize': 14}, fontproperties = 'monospace')\n",
    "plt.axis('off')\n",
    "plt.tight_layout()\n",
    "plt.subplots_adjust(left=0.2, right=0.8, top=0.8, bottom=0.1)\n",
    "plt.savefig('logistic_example.png', bbox_inches='tight', dpi=300);"
   ]
  }
 ],
 "metadata": {
  "kernelspec": {
   "display_name": "Python 3",
   "language": "python",
   "name": "python3"
  },
  "language_info": {
   "codemirror_mode": {
    "name": "ipython",
    "version": 3
   },
   "file_extension": ".py",
   "mimetype": "text/x-python",
   "name": "python",
   "nbconvert_exporter": "python",
   "pygments_lexer": "ipython3",
   "version": "3.7.7"
  },
  "toc": {
   "base_numbering": 1,
   "nav_menu": {},
   "number_sections": true,
   "sideBar": true,
   "skip_h1_title": true,
   "title_cell": "Table of Contents",
   "title_sidebar": "Contents",
   "toc_cell": false,
   "toc_position": {},
   "toc_section_display": true,
   "toc_window_display": true
  }
 },
 "nbformat": 4,
 "nbformat_minor": 2
}
