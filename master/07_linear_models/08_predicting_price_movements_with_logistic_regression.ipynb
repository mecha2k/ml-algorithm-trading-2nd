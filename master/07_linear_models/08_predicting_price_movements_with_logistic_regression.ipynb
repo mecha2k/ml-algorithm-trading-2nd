{
 "cells": [
  {
   "cell_type": "markdown",
   "metadata": {},
   "source": [
    "# Predicting stock price moves with Logistic Regression"
   ]
  },
  {
   "cell_type": "markdown",
   "metadata": {},
   "source": [
    "## Imports & Settings"
   ]
  },
  {
   "cell_type": "code",
   "execution_count": 1,
   "metadata": {
    "ExecuteTime": {
     "end_time": "2020-06-17T19:38:05.201363Z",
     "start_time": "2020-06-17T19:38:05.199559Z"
    }
   },
   "outputs": [],
   "source": [
    "import warnings\n",
    "warnings.filterwarnings('ignore')"
   ]
  },
  {
   "cell_type": "code",
   "execution_count": 2,
   "metadata": {
    "ExecuteTime": {
     "end_time": "2020-06-17T19:38:05.677348Z",
     "start_time": "2020-06-17T19:38:05.202782Z"
    }
   },
   "outputs": [],
   "source": [
    "from pathlib import Path\n",
    "import sys, os\n",
    "from time import time\n",
    "\n",
    "import pandas as pd\n",
    "import numpy as np\n",
    "\n",
    "from scipy.stats import spearmanr\n",
    "\n",
    "from sklearn.metrics import roc_auc_score\n",
    "from sklearn.linear_model import LogisticRegression\n",
    "from sklearn.pipeline import Pipeline\n",
    "from sklearn.preprocessing import StandardScaler\n",
    "\n",
    "import seaborn as sns\n",
    "import matplotlib.pyplot as plt"
   ]
  },
  {
   "cell_type": "code",
   "execution_count": 3,
   "metadata": {
    "ExecuteTime": {
     "end_time": "2020-06-17T19:38:05.681035Z",
     "start_time": "2020-06-17T19:38:05.678332Z"
    }
   },
   "outputs": [],
   "source": [
    "sys.path.insert(1, os.path.join(sys.path[0], '..'))\n",
    "from utils import MultipleTimeSeriesCV"
   ]
  },
  {
   "cell_type": "code",
   "execution_count": 4,
   "metadata": {
    "ExecuteTime": {
     "end_time": "2020-06-17T19:38:05.691199Z",
     "start_time": "2020-06-17T19:38:05.682060Z"
    }
   },
   "outputs": [],
   "source": [
    "sns.set_style('darkgrid')\n",
    "idx = pd.IndexSlice"
   ]
  },
  {
   "cell_type": "code",
   "execution_count": 5,
   "metadata": {
    "ExecuteTime": {
     "end_time": "2020-06-17T19:38:05.700829Z",
     "start_time": "2020-06-17T19:38:05.692091Z"
    }
   },
   "outputs": [],
   "source": [
    "YEAR = 252"
   ]
  },
  {
   "cell_type": "markdown",
   "metadata": {},
   "source": [
    "## Load Data"
   ]
  },
  {
   "cell_type": "code",
   "execution_count": 6,
   "metadata": {
    "ExecuteTime": {
     "end_time": "2020-06-17T19:38:07.567293Z",
     "start_time": "2020-06-17T19:38:05.701735Z"
    }
   },
   "outputs": [],
   "source": [
    "with pd.HDFStore('data.h5') as store:\n",
    "    data = (store['model_data']\n",
    "            .dropna()\n",
    "            .drop(['open', 'close', 'low', 'high'], axis=1))\n",
    "data = data.drop([c for c in data.columns if 'year' in c or 'lag' in c], axis=1)"
   ]
  },
  {
   "cell_type": "markdown",
   "metadata": {},
   "source": [
    "### Select Investment Universe"
   ]
  },
  {
   "cell_type": "code",
   "execution_count": 7,
   "metadata": {
    "ExecuteTime": {
     "end_time": "2020-06-17T19:38:07.583746Z",
     "start_time": "2020-06-17T19:38:07.568747Z"
    }
   },
   "outputs": [],
   "source": [
    "data = data[data.dollar_vol_rank<100]"
   ]
  },
  {
   "cell_type": "markdown",
   "metadata": {},
   "source": [
    "### Create Model Data"
   ]
  },
  {
   "cell_type": "code",
   "execution_count": 8,
   "metadata": {
    "ExecuteTime": {
     "end_time": "2020-06-17T19:38:07.602393Z",
     "start_time": "2020-06-17T19:38:07.585403Z"
    }
   },
   "outputs": [],
   "source": [
    "y = data.filter(like='target')\n",
    "X = data.drop(y.columns, axis=1)\n",
    "X = X.drop(['dollar_vol', 'dollar_vol_rank', 'volume', 'consumer_durables'], axis=1)"
   ]
  },
  {
   "cell_type": "markdown",
   "metadata": {},
   "source": [
    "## Logistic Regression"
   ]
  },
  {
   "cell_type": "markdown",
   "metadata": {},
   "source": [
    "### Define cross-validation parameters"
   ]
  },
  {
   "cell_type": "code",
   "execution_count": 9,
   "metadata": {
    "ExecuteTime": {
     "end_time": "2020-06-17T19:38:07.607270Z",
     "start_time": "2020-06-17T19:38:07.603877Z"
    }
   },
   "outputs": [],
   "source": [
    "train_period_length = 63\n",
    "test_period_length = 10\n",
    "lookahead =1\n",
    "n_splits = int(3 * YEAR/test_period_length)\n",
    "\n",
    "cv = MultipleTimeSeriesCV(n_splits=n_splits,\n",
    "                          test_period_length=test_period_length,\n",
    "                          lookahead=lookahead,\n",
    "                          train_period_length=train_period_length)"
   ]
  },
  {
   "cell_type": "code",
   "execution_count": 10,
   "metadata": {
    "ExecuteTime": {
     "end_time": "2020-06-17T19:38:07.615124Z",
     "start_time": "2020-06-17T19:38:07.608538Z"
    }
   },
   "outputs": [],
   "source": [
    "target = f'target_{lookahead}d'"
   ]
  },
  {
   "cell_type": "code",
   "execution_count": 11,
   "metadata": {
    "ExecuteTime": {
     "end_time": "2020-06-17T19:38:07.639650Z",
     "start_time": "2020-06-17T19:38:07.616007Z"
    }
   },
   "outputs": [
    {
     "data": {
      "text/plain": [
       "1    56486\n",
       "0    53189\n",
       "Name: label, dtype: int64"
      ]
     },
     "execution_count": 11,
     "metadata": {},
     "output_type": "execute_result"
    }
   ],
   "source": [
    "y.loc[:, 'label'] = (y[target] > 0).astype(int)\n",
    "y.label.value_counts()"
   ]
  },
  {
   "cell_type": "code",
   "execution_count": 12,
   "metadata": {
    "ExecuteTime": {
     "end_time": "2020-06-17T19:38:07.642787Z",
     "start_time": "2020-06-17T19:38:07.640677Z"
    }
   },
   "outputs": [],
   "source": [
    "Cs = np.logspace(-5, 5, 11)"
   ]
  },
  {
   "cell_type": "code",
   "execution_count": 13,
   "metadata": {
    "ExecuteTime": {
     "end_time": "2020-06-17T19:38:07.651897Z",
     "start_time": "2020-06-17T19:38:07.643550Z"
    }
   },
   "outputs": [],
   "source": [
    "cols = ['C', 'date', 'auc', 'ic', 'pval']"
   ]
  },
  {
   "cell_type": "markdown",
   "metadata": {},
   "source": [
    "### Run cross-validation"
   ]
  },
  {
   "cell_type": "code",
   "execution_count": 14,
   "metadata": {
    "ExecuteTime": {
     "end_time": "2020-06-17T19:40:08.326643Z",
     "start_time": "2020-06-17T19:38:07.653010Z"
    },
    "scrolled": false
   },
   "outputs": [
    {
     "name": "stdout",
     "output_type": "stream",
     "text": [
      "1e-05\n",
      "\t  3.4 | 010 |  -0.27% |  50.44%\n",
      "\t  4.7 | 020 |   1.96% |  51.88%\n",
      "\t  6.0 | 030 |   2.83% |  52.01%\n",
      "\t  7.3 | 040 |   3.26% |  51.98%\n",
      "\t  8.6 | 050 |   3.95% |  52.44%\n",
      "\t  9.8 | 060 |   3.95% |  52.27%\n",
      "\t 11.1 | 070 |   4.75% |  52.61%\n",
      "0.0001\n",
      "\t  1.3 | 010 |  -0.01% |  50.64%\n",
      "\t  2.5 | 020 |   2.32% |  52.07%\n",
      "\t  3.8 | 030 |   3.24% |  52.28%\n",
      "\t  5.1 | 040 |   3.36% |  52.10%\n",
      "\t  6.4 | 050 |   4.04% |  52.54%\n",
      "\t  7.7 | 060 |   4.03% |  52.34%\n",
      "\t  9.0 | 070 |   4.88% |  52.70%\n",
      "0.001\n",
      "\t  1.1 | 010 |   0.47% |  50.98%\n",
      "\t  2.4 | 020 |   2.59% |  52.18%\n",
      "\t  3.7 | 030 |   3.65% |  52.51%\n",
      "\t  5.0 | 040 |   3.21% |  52.10%\n",
      "\t  6.3 | 050 |   3.87% |  52.52%\n",
      "\t  7.6 | 060 |   4.08% |  52.37%\n",
      "\t  8.9 | 070 |   4.96% |  52.75%\n",
      "0.01\n",
      "\t  1.3 | 010 |   0.76% |  51.17%\n",
      "\t  2.7 | 020 |   2.46% |  52.02%\n",
      "\t  4.1 | 030 |   3.71% |  52.45%\n",
      "\t  5.6 | 040 |   3.17% |  51.98%\n",
      "\t  7.0 | 050 |   3.96% |  52.48%\n",
      "\t  8.4 | 060 |   4.21% |  52.34%\n",
      "\t  9.8 | 070 |   4.98% |  52.69%\n",
      "0.1\n",
      "\t  1.5 | 010 |   0.76% |  51.16%\n",
      "\t  3.0 | 020 |   2.26% |  51.86%\n",
      "\t  4.5 | 030 |   3.57% |  52.33%\n",
      "\t  6.0 | 040 |   3.00% |  51.84%\n",
      "\t  7.5 | 050 |   3.79% |  52.34%\n",
      "\t  9.0 | 060 |   3.99% |  52.19%\n",
      "\t 10.5 | 070 |   4.67% |  52.51%\n",
      "1.0\n",
      "\t  1.5 | 010 |   0.72% |  51.14%\n",
      "\t  3.0 | 020 |   2.21% |  51.83%\n",
      "\t  4.4 | 030 |   3.54% |  52.30%\n",
      "\t  6.0 | 040 |   2.96% |  51.81%\n",
      "\t  7.5 | 050 |   3.73% |  52.31%\n",
      "\t  9.0 | 060 |   3.92% |  52.15%\n",
      "\t 10.4 | 070 |   4.57% |  52.46%\n",
      "10.0\n",
      "\t  1.5 | 010 |   0.72% |  51.14%\n",
      "\t  3.0 | 020 |   2.20% |  51.82%\n",
      "\t  4.6 | 030 |   3.53% |  52.30%\n",
      "\t  6.1 | 040 |   2.95% |  51.81%\n",
      "\t  7.6 | 050 |   3.72% |  52.30%\n",
      "\t  9.2 | 060 |   3.92% |  52.15%\n",
      "\t 10.6 | 070 |   4.56% |  52.45%\n",
      "100.0\n",
      "\t  1.5 | 010 |   0.72% |  51.14%\n",
      "\t  3.0 | 020 |   2.20% |  51.82%\n",
      "\t  4.5 | 030 |   3.53% |  52.30%\n",
      "\t  6.0 | 040 |   2.95% |  51.81%\n",
      "\t  7.6 | 050 |   3.72% |  52.30%\n",
      "\t  9.1 | 060 |   3.91% |  52.15%\n",
      "\t 10.6 | 070 |   4.56% |  52.45%\n",
      "1000.0\n",
      "\t  1.5 | 010 |   0.72% |  51.14%\n",
      "\t  3.0 | 020 |   2.20% |  51.82%\n",
      "\t  4.6 | 030 |   3.53% |  52.30%\n",
      "\t  6.1 | 040 |   2.95% |  51.81%\n",
      "\t  7.6 | 050 |   3.72% |  52.30%\n",
      "\t  9.2 | 060 |   3.91% |  52.15%\n",
      "\t 10.7 | 070 |   4.56% |  52.45%\n",
      "10000.0\n",
      "\t  1.5 | 010 |   0.72% |  51.14%\n",
      "\t  3.0 | 020 |   2.20% |  51.82%\n",
      "\t  4.5 | 030 |   3.53% |  52.30%\n",
      "\t  6.1 | 040 |   2.95% |  51.81%\n",
      "\t  7.6 | 050 |   3.72% |  52.30%\n",
      "\t  9.1 | 060 |   3.91% |  52.15%\n",
      "\t 10.6 | 070 |   4.56% |  52.45%\n",
      "100000.0\n",
      "\t  1.5 | 010 |   0.72% |  51.14%\n",
      "\t  3.0 | 020 |   2.20% |  51.82%\n",
      "\t  4.5 | 030 |   3.53% |  52.30%\n",
      "\t  6.1 | 040 |   2.95% |  51.81%\n",
      "\t  7.6 | 050 |   3.72% |  52.30%\n",
      "\t  9.1 | 060 |   3.91% |  52.15%\n",
      "\t 10.6 | 070 |   4.56% |  52.45%\n",
      "CPU times: user 6min 2s, sys: 7.52 s, total: 6min 10s\n",
      "Wall time: 2min\n"
     ]
    }
   ],
   "source": [
    "%%time\n",
    "log_coeffs, log_scores, log_predictions = {}, [], []\n",
    "for C in Cs:\n",
    "    print(C)\n",
    "    model = LogisticRegression(C=C,\n",
    "                               fit_intercept=True,\n",
    "                               random_state=42,\n",
    "                               n_jobs=-1)\n",
    "\n",
    "    pipe = Pipeline([\n",
    "        ('scaler', StandardScaler()),\n",
    "        ('model', model)])\n",
    "    ics = aucs = 0\n",
    "    start = time()\n",
    "    coeffs = []\n",
    "    for i, (train_idx, test_idx) in enumerate(cv.split(X), 1):\n",
    "        X_train, y_train, = X.iloc[train_idx], y.label.iloc[train_idx]\n",
    "        pipe.fit(X=X_train, y=y_train)\n",
    "        X_test, y_test = X.iloc[test_idx], y.label.iloc[test_idx]\n",
    "        actuals = y[target].iloc[test_idx]\n",
    "        if len(y_test) < 10 or len(np.unique(y_test)) < 2:\n",
    "            continue\n",
    "        y_score = pipe.predict_proba(X_test)[:, 1]\n",
    "       \n",
    "        auc = roc_auc_score(y_score=y_score, y_true=y_test)\n",
    "        actuals = y[target].iloc[test_idx]\n",
    "        ic, pval = spearmanr(y_score, actuals)\n",
    "\n",
    "        log_predictions.append(y_test.to_frame('labels').assign(\n",
    "            predicted=y_score, C=C, actuals=actuals))\n",
    "        date = y_test.index.get_level_values('date').min()\n",
    "        log_scores.append([C, date, auc, ic * 100, pval])\n",
    "        coeffs.append(pipe.named_steps['model'].coef_)\n",
    "        ics += ic\n",
    "        aucs += auc\n",
    "        if i % 10 == 0:\n",
    "            print(f'\\t{time()-start:5.1f} | {i:03} | {ics/i:>7.2%} | {aucs/i:>7.2%}')\n",
    "\n",
    "    log_coeffs[C] = np.mean(coeffs, axis=0).squeeze()"
   ]
  },
  {
   "cell_type": "markdown",
   "metadata": {},
   "source": [
    "### Evaluate Results"
   ]
  },
  {
   "cell_type": "code",
   "execution_count": 15,
   "metadata": {
    "ExecuteTime": {
     "end_time": "2020-06-17T19:40:08.719857Z",
     "start_time": "2020-06-17T19:40:08.327809Z"
    }
   },
   "outputs": [],
   "source": [
    "log_scores = pd.DataFrame(log_scores, columns=cols)\n",
    "log_scores.to_hdf('data.h5', 'logistic/scores')\n",
    "\n",
    "log_coeffs = pd.DataFrame(log_coeffs, index=X.columns).T\n",
    "log_coeffs.to_hdf('data.h5', 'logistic/coeffs')\n",
    "\n",
    "log_predictions = pd.concat(log_predictions)\n",
    "log_predictions.to_hdf('data.h5', 'logistic/predictions')"
   ]
  },
  {
   "cell_type": "code",
   "execution_count": 16,
   "metadata": {
    "ExecuteTime": {
     "end_time": "2020-06-17T19:40:08.730573Z",
     "start_time": "2020-06-17T19:40:08.720819Z"
    }
   },
   "outputs": [],
   "source": [
    "log_scores = pd.read_hdf('data.h5', 'logistic/scores')"
   ]
  },
  {
   "cell_type": "code",
   "execution_count": 17,
   "metadata": {
    "ExecuteTime": {
     "end_time": "2020-06-17T19:40:08.744497Z",
     "start_time": "2020-06-17T19:40:08.733274Z"
    }
   },
   "outputs": [
    {
     "name": "stdout",
     "output_type": "stream",
     "text": [
      "<class 'pandas.core.frame.DataFrame'>\n",
      "Int64Index: 825 entries, 0 to 824\n",
      "Data columns (total 5 columns):\n",
      " #   Column  Non-Null Count  Dtype         \n",
      "---  ------  --------------  -----         \n",
      " 0   C       825 non-null    float64       \n",
      " 1   date    825 non-null    datetime64[ns]\n",
      " 2   auc     825 non-null    float64       \n",
      " 3   ic      825 non-null    float64       \n",
      " 4   pval    825 non-null    float64       \n",
      "dtypes: datetime64[ns](1), float64(4)\n",
      "memory usage: 38.7 KB\n"
     ]
    }
   ],
   "source": [
    "log_scores.info()"
   ]
  },
  {
   "cell_type": "code",
   "execution_count": 18,
   "metadata": {
    "ExecuteTime": {
     "end_time": "2020-06-17T19:40:08.777702Z",
     "start_time": "2020-06-17T19:40:08.745558Z"
    }
   },
   "outputs": [
    {
     "data": {
      "text/html": [
       "<div>\n",
       "<style scoped>\n",
       "    .dataframe tbody tr th:only-of-type {\n",
       "        vertical-align: middle;\n",
       "    }\n",
       "\n",
       "    .dataframe tbody tr th {\n",
       "        vertical-align: top;\n",
       "    }\n",
       "\n",
       "    .dataframe thead th {\n",
       "        text-align: right;\n",
       "    }\n",
       "</style>\n",
       "<table border=\"1\" class=\"dataframe\">\n",
       "  <thead>\n",
       "    <tr style=\"text-align: right;\">\n",
       "      <th></th>\n",
       "      <th>count</th>\n",
       "      <th>mean</th>\n",
       "      <th>std</th>\n",
       "      <th>min</th>\n",
       "      <th>25%</th>\n",
       "      <th>50%</th>\n",
       "      <th>75%</th>\n",
       "      <th>max</th>\n",
       "    </tr>\n",
       "    <tr>\n",
       "      <th>C</th>\n",
       "      <th></th>\n",
       "      <th></th>\n",
       "      <th></th>\n",
       "      <th></th>\n",
       "      <th></th>\n",
       "      <th></th>\n",
       "      <th></th>\n",
       "      <th></th>\n",
       "    </tr>\n",
       "  </thead>\n",
       "  <tbody>\n",
       "    <tr>\n",
       "      <th>0.00001</th>\n",
       "      <td>75.0</td>\n",
       "      <td>0.524515</td>\n",
       "      <td>0.036221</td>\n",
       "      <td>0.432339</td>\n",
       "      <td>0.499494</td>\n",
       "      <td>0.519330</td>\n",
       "      <td>0.545375</td>\n",
       "      <td>0.625760</td>\n",
       "    </tr>\n",
       "    <tr>\n",
       "      <th>0.00010</th>\n",
       "      <td>75.0</td>\n",
       "      <td>0.525371</td>\n",
       "      <td>0.035683</td>\n",
       "      <td>0.442983</td>\n",
       "      <td>0.501441</td>\n",
       "      <td>0.521383</td>\n",
       "      <td>0.544805</td>\n",
       "      <td>0.635539</td>\n",
       "    </tr>\n",
       "    <tr>\n",
       "      <th>0.00100</th>\n",
       "      <td>75.0</td>\n",
       "      <td>0.525972</td>\n",
       "      <td>0.036222</td>\n",
       "      <td>0.443770</td>\n",
       "      <td>0.500582</td>\n",
       "      <td>0.520711</td>\n",
       "      <td>0.543895</td>\n",
       "      <td>0.640955</td>\n",
       "    </tr>\n",
       "    <tr>\n",
       "      <th>0.01000</th>\n",
       "      <td>75.0</td>\n",
       "      <td>0.525556</td>\n",
       "      <td>0.036725</td>\n",
       "      <td>0.436599</td>\n",
       "      <td>0.500354</td>\n",
       "      <td>0.523580</td>\n",
       "      <td>0.550827</td>\n",
       "      <td>0.641932</td>\n",
       "    </tr>\n",
       "    <tr>\n",
       "      <th>0.10000</th>\n",
       "      <td>75.0</td>\n",
       "      <td>0.524029</td>\n",
       "      <td>0.036192</td>\n",
       "      <td>0.427531</td>\n",
       "      <td>0.500006</td>\n",
       "      <td>0.523716</td>\n",
       "      <td>0.549544</td>\n",
       "      <td>0.621801</td>\n",
       "    </tr>\n",
       "    <tr>\n",
       "      <th>1.00000</th>\n",
       "      <td>75.0</td>\n",
       "      <td>0.523628</td>\n",
       "      <td>0.036113</td>\n",
       "      <td>0.425647</td>\n",
       "      <td>0.498817</td>\n",
       "      <td>0.522675</td>\n",
       "      <td>0.549274</td>\n",
       "      <td>0.616470</td>\n",
       "    </tr>\n",
       "    <tr>\n",
       "      <th>10.00000</th>\n",
       "      <td>75.0</td>\n",
       "      <td>0.523586</td>\n",
       "      <td>0.036102</td>\n",
       "      <td>0.425377</td>\n",
       "      <td>0.498885</td>\n",
       "      <td>0.522475</td>\n",
       "      <td>0.549258</td>\n",
       "      <td>0.615900</td>\n",
       "    </tr>\n",
       "    <tr>\n",
       "      <th>100.00000</th>\n",
       "      <td>75.0</td>\n",
       "      <td>0.523578</td>\n",
       "      <td>0.036099</td>\n",
       "      <td>0.425353</td>\n",
       "      <td>0.498879</td>\n",
       "      <td>0.522488</td>\n",
       "      <td>0.549250</td>\n",
       "      <td>0.615823</td>\n",
       "    </tr>\n",
       "    <tr>\n",
       "      <th>1000.00000</th>\n",
       "      <td>75.0</td>\n",
       "      <td>0.523576</td>\n",
       "      <td>0.036101</td>\n",
       "      <td>0.425353</td>\n",
       "      <td>0.498877</td>\n",
       "      <td>0.522488</td>\n",
       "      <td>0.549252</td>\n",
       "      <td>0.615831</td>\n",
       "    </tr>\n",
       "    <tr>\n",
       "      <th>10000.00000</th>\n",
       "      <td>75.0</td>\n",
       "      <td>0.523576</td>\n",
       "      <td>0.036101</td>\n",
       "      <td>0.425348</td>\n",
       "      <td>0.498877</td>\n",
       "      <td>0.522488</td>\n",
       "      <td>0.549254</td>\n",
       "      <td>0.615836</td>\n",
       "    </tr>\n",
       "    <tr>\n",
       "      <th>100000.00000</th>\n",
       "      <td>75.0</td>\n",
       "      <td>0.523576</td>\n",
       "      <td>0.036101</td>\n",
       "      <td>0.425348</td>\n",
       "      <td>0.498877</td>\n",
       "      <td>0.522488</td>\n",
       "      <td>0.549254</td>\n",
       "      <td>0.615836</td>\n",
       "    </tr>\n",
       "  </tbody>\n",
       "</table>\n",
       "</div>"
      ],
      "text/plain": [
       "              count      mean       std       min       25%       50%  \\\n",
       "C                                                                       \n",
       "0.00001        75.0  0.524515  0.036221  0.432339  0.499494  0.519330   \n",
       "0.00010        75.0  0.525371  0.035683  0.442983  0.501441  0.521383   \n",
       "0.00100        75.0  0.525972  0.036222  0.443770  0.500582  0.520711   \n",
       "0.01000        75.0  0.525556  0.036725  0.436599  0.500354  0.523580   \n",
       "0.10000        75.0  0.524029  0.036192  0.427531  0.500006  0.523716   \n",
       "1.00000        75.0  0.523628  0.036113  0.425647  0.498817  0.522675   \n",
       "10.00000       75.0  0.523586  0.036102  0.425377  0.498885  0.522475   \n",
       "100.00000      75.0  0.523578  0.036099  0.425353  0.498879  0.522488   \n",
       "1000.00000     75.0  0.523576  0.036101  0.425353  0.498877  0.522488   \n",
       "10000.00000    75.0  0.523576  0.036101  0.425348  0.498877  0.522488   \n",
       "100000.00000   75.0  0.523576  0.036101  0.425348  0.498877  0.522488   \n",
       "\n",
       "                   75%       max  \n",
       "C                                 \n",
       "0.00001       0.545375  0.625760  \n",
       "0.00010       0.544805  0.635539  \n",
       "0.00100       0.543895  0.640955  \n",
       "0.01000       0.550827  0.641932  \n",
       "0.10000       0.549544  0.621801  \n",
       "1.00000       0.549274  0.616470  \n",
       "10.00000      0.549258  0.615900  \n",
       "100.00000     0.549250  0.615823  \n",
       "1000.00000    0.549252  0.615831  \n",
       "10000.00000   0.549254  0.615836  \n",
       "100000.00000  0.549254  0.615836  "
      ]
     },
     "execution_count": 18,
     "metadata": {},
     "output_type": "execute_result"
    }
   ],
   "source": [
    "log_scores.groupby('C').auc.describe()"
   ]
  },
  {
   "cell_type": "markdown",
   "metadata": {},
   "source": [
    "### Plot Validation Scores"
   ]
  },
  {
   "cell_type": "code",
   "execution_count": 19,
   "metadata": {
    "ExecuteTime": {
     "end_time": "2020-06-17T19:40:08.783177Z",
     "start_time": "2020-06-17T19:40:08.778904Z"
    }
   },
   "outputs": [],
   "source": [
    "def plot_ic_distribution(df, ax=None):\n",
    "    if ax is not None:\n",
    "        sns.distplot(df.ic, ax=ax)    \n",
    "    else:\n",
    "        ax = sns.distplot(df.ic)\n",
    "    mean, median = df.ic.mean(), df.ic.median()\n",
    "    ax.axvline(0, lw=1, ls='--', c='k')\n",
    "    ax.text(x=.05, y=.9, s=f'Mean: {mean:8.2f}\\nMedian: {median:5.2f}',\n",
    "            horizontalalignment='left',\n",
    "            verticalalignment='center',\n",
    "            transform=ax.transAxes)\n",
    "    ax.set_xlabel('Information Coefficient')\n",
    "    sns.despine()\n",
    "    plt.tight_layout()"
   ]
  },
  {
   "cell_type": "code",
   "execution_count": 21,
   "metadata": {
    "ExecuteTime": {
     "end_time": "2020-06-17T19:40:42.821245Z",
     "start_time": "2020-06-17T19:40:42.098673Z"
    }
   },
   "outputs": [
    {
     "data": {
      "image/png": "[encoded data removed]",
      "text/plain": [
       "<Figure size 1080x360 with 2 Axes>"
      ]
     },
     "metadata": {},
     "output_type": "display_data"
    }
   ],
   "source": [
    "fig, axes= plt.subplots(ncols=2, figsize=(15, 5))\n",
    "\n",
    "sns.lineplot(x='C', y='auc', data=log_scores, estimator=np.mean, label='Mean', ax=axes[0])\n",
    "by_alpha = log_scores.groupby('C').auc.agg(['mean', 'median'])\n",
    "best_auc = by_alpha['mean'].idxmax()\n",
    "by_alpha['median'].plot(logx=True, ax=axes[0], label='Median', xlim=(10e-6, 10e5))\n",
    "axes[0].axvline(best_auc, ls='--', c='k', lw=1, label='Max. Mean')\n",
    "axes[0].axvline(by_alpha['median'].idxmax(), ls='-.', c='k', lw=1, label='Max. Median')\n",
    "axes[0].legend()\n",
    "axes[0].set_ylabel('AUC')\n",
    "axes[0].set_xscale('log')\n",
    "axes[0].set_title('Area Under the Curve')\n",
    "\n",
    "plot_ic_distribution(log_scores[log_scores.C==best_auc], ax=axes[1])\n",
    "axes[1].set_title('Information Coefficient')\n",
    "\n",
    "fig.suptitle('Logistic Regression', fontsize=14)\n",
    "sns.despine()\n",
    "fig.tight_layout()\n",
    "fig.subplots_adjust(top=.9);"
   ]
  }
 ],
 "metadata": {
  "kernelspec": {
   "display_name": "Python 3",
   "language": "python",
   "name": "python3"
  },
  "language_info": {
   "codemirror_mode": {
    "name": "ipython",
    "version": 3
   },
   "file_extension": ".py",
   "mimetype": "text/x-python",
   "name": "python",
   "nbconvert_exporter": "python",
   "pygments_lexer": "ipython3",
   "version": "3.7.7"
  },
  "toc": {
   "base_numbering": 1,
   "nav_menu": {},
   "number_sections": true,
   "sideBar": true,
   "skip_h1_title": true,
   "title_cell": "Table of Contents",
   "title_sidebar": "Contents",
   "toc_cell": false,
   "toc_position": {},
   "toc_section_display": true,
   "toc_window_display": true
  }
 },
 "nbformat": 4,
 "nbformat_minor": 2
}
