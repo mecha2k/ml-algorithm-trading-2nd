{
 "cells": [
  {
   "cell_type": "markdown",
   "metadata": {},
   "source": [
    "# How to build a linear factor model"
   ]
  },
  {
   "cell_type": "markdown",
   "metadata": {},
   "source": [
    "Algorithmic trading strategies use linear factor models to quantify the relationship between the return of an asset and the sources of risk that represent the main drivers of these returns. Each factor risk carries a premium, and the total asset return can be expected to correspond to a weighted average of these risk premia."
   ]
  },
  {
   "cell_type": "markdown",
   "metadata": {},
   "source": [
    "There are several practical applications of factor models across the portfolio management process from construction and asset selection to risk management and performance evaluation. The importance of factor models continues to grow as common risk factors are now tradeable:\n",
    "\n",
    "- A summary of the returns of many assets by a much smaller number of factors reduces the amount of data required to estimate the covariance matrix when optimizing a portfolio\n",
    "- An estimate of the exposure of an asset or a portfolio to these factors allows for the management of the resultant risk, for instance by entering suitable hedges when risk factors are themselves traded\n",
    "- A factor model also permits the assessment of the incremental signal content of new alpha factors\n",
    "- A factor model can also help assess whether a manager's performance relative to a benchmark is indeed due to skill in selecting assets and timing the market, or if instead, the performance can be explained by portfolio tilts towards known return drivers that can today be replicated as low-cost, passively managed funds without incurring active management fees"
   ]
  },
  {
   "cell_type": "markdown",
   "metadata": {},
   "source": [
    "## Imports & Settings"
   ]
  },
  {
   "cell_type": "code",
   "execution_count": 1,
   "metadata": {
    "ExecuteTime": {
     "end_time": "2020-06-17T18:12:08.177079Z",
     "start_time": "2020-06-17T18:12:08.170608Z"
    }
   },
   "outputs": [],
   "source": [
    "import warnings\n",
    "warnings.filterwarnings('ignore')"
   ]
  },
  {
   "cell_type": "code",
   "execution_count": 2,
   "metadata": {
    "ExecuteTime": {
     "end_time": "2020-06-17T18:12:10.409217Z",
     "start_time": "2020-06-17T18:12:08.179878Z"
    }
   },
   "outputs": [],
   "source": [
    "import pandas as pd\n",
    "import numpy as np\n",
    "\n",
    "from statsmodels.api import OLS, add_constant\n",
    "import pandas_datareader.data as web\n",
    "\n",
    "from linearmodels.asset_pricing import LinearFactorModel\n",
    "\n",
    "import matplotlib.pyplot as plt\n",
    "import seaborn as sns"
   ]
  },
  {
   "cell_type": "code",
   "execution_count": 3,
   "metadata": {
    "ExecuteTime": {
     "end_time": "2020-06-17T18:12:10.413517Z",
     "start_time": "2020-06-17T18:12:10.411050Z"
    }
   },
   "outputs": [],
   "source": [
    "sns.set_style('whitegrid')"
   ]
  },
  {
   "cell_type": "markdown",
   "metadata": {},
   "source": [
    "## Get Data"
   ]
  },
  {
   "cell_type": "markdown",
   "metadata": {},
   "source": [
    "Fama and French make updated risk factor and research portfolio data available through their [website](http://mba.tuck.dartmouth.edu/pages/faculty/ken.french/data_library.html), and you can use the `pandas_datareader` package to obtain the data."
   ]
  },
  {
   "cell_type": "markdown",
   "metadata": {},
   "source": [
    "### Risk Factors"
   ]
  },
  {
   "cell_type": "markdown",
   "metadata": {},
   "source": [
    "In particular, we will be using the five Fama—French factors that result from sorting stocks first into three size groups and then into two for each of the remaining three firm-specific factors. \n",
    "\n",
    "Hence, the factors involve three sets of value-weighted portfolios formed as 3 x 2 sorts on size and book-to-market, size and operating profitability, and size and investment. The risk factor values computed as the average returns of the portfolios (PF) as outlined in the following table:"
   ]
  },
  {
   "cell_type": "markdown",
   "metadata": {},
   "source": [
    "| Label | Name                          | Description                                                                                                                                                                               |\n",
    "|-------|-------------------------------|-------------------------------------------------------------------------------------------------------------------------------------------------------------------------------------------|\n",
    "| SMB   | Small Minus Big               | Average return on the nine small stock portfolios minus the average return on the nine big stock portfolios                                                                               |\n",
    "| HML   | High Minus Low                | Average return on the two value portfolios minus the average return on the two growth portfolios                                                                                          |\n",
    "| RMW   | Robust minus Weak             | Average return on the two robust operating profitability portfolios minus the average return on the two weak operating profitability portfolios                                           |\n",
    "| CMA   | Conservative Minus Aggressive | Average return on the two conservative investment portfolios minus the average return on the two aggressive investment portfolios                                                         |\n",
    "| Rm-Rf | Excess return on the market   | Value-weight return of all firms incorporated in the US and listed on the NYSE, AMEX, or NASDAQ at the beginning of month t with 'good' data for t minus the one-month Treasury bill rate |"
   ]
  },
  {
   "cell_type": "markdown",
   "metadata": {},
   "source": [
    "The Fama-French 5 factors are based on the 6 value-weight portfolios formed on size and book-to-market, the 6 value-weight portfolios formed on size and operating profitability, and the 6 value-weight portfolios formed on size and investment."
   ]
  },
  {
   "cell_type": "markdown",
   "metadata": {},
   "source": [
    "We will use returns at a monthly frequency that we obtain for the period 2010 – 2017 as follows:"
   ]
  },
  {
   "cell_type": "code",
   "execution_count": 4,
   "metadata": {
    "ExecuteTime": {
     "end_time": "2020-06-17T18:12:10.553117Z",
     "start_time": "2020-06-17T18:12:10.415276Z"
    }
   },
   "outputs": [
    {
     "name": "stdout",
     "output_type": "stream",
     "text": [
      "<class 'pandas.core.frame.DataFrame'>\n",
      "PeriodIndex: 96 entries, 2010-01 to 2017-12\n",
      "Freq: M\n",
      "Data columns (total 6 columns):\n",
      " #   Column  Non-Null Count  Dtype  \n",
      "---  ------  --------------  -----  \n",
      " 0   Mkt-RF  96 non-null     float64\n",
      " 1   SMB     96 non-null     float64\n",
      " 2   HML     96 non-null     float64\n",
      " 3   RMW     96 non-null     float64\n",
      " 4   CMA     96 non-null     float64\n",
      " 5   RF      96 non-null     float64\n",
      "dtypes: float64(6)\n",
      "memory usage: 5.2 KB\n"
     ]
    }
   ],
   "source": [
    "ff_factor = 'F-F_Research_Data_5_Factors_2x3'\n",
    "ff_factor_data = web.DataReader(ff_factor, 'famafrench', start='2010', end='2017-12')[0]\n",
    "ff_factor_data.info()"
   ]
  },
  {
   "cell_type": "code",
   "execution_count": 5,
   "metadata": {
    "ExecuteTime": {
     "end_time": "2020-06-17T18:12:10.616778Z",
     "start_time": "2020-06-17T18:12:10.554498Z"
    }
   },
   "outputs": [
    {
     "data": {
      "text/html": [
       "<div>\n",
       "<style scoped>\n",
       "    .dataframe tbody tr th:only-of-type {\n",
       "        vertical-align: middle;\n",
       "    }\n",
       "\n",
       "    .dataframe tbody tr th {\n",
       "        vertical-align: top;\n",
       "    }\n",
       "\n",
       "    .dataframe thead th {\n",
       "        text-align: right;\n",
       "    }\n",
       "</style>\n",
       "<table border=\"1\" class=\"dataframe\">\n",
       "  <thead>\n",
       "    <tr style=\"text-align: right;\">\n",
       "      <th></th>\n",
       "      <th>Mkt-RF</th>\n",
       "      <th>SMB</th>\n",
       "      <th>HML</th>\n",
       "      <th>RMW</th>\n",
       "      <th>CMA</th>\n",
       "      <th>RF</th>\n",
       "    </tr>\n",
       "  </thead>\n",
       "  <tbody>\n",
       "    <tr>\n",
       "      <th>count</th>\n",
       "      <td>96.000000</td>\n",
       "      <td>96.000000</td>\n",
       "      <td>96.000000</td>\n",
       "      <td>96.000000</td>\n",
       "      <td>96.000000</td>\n",
       "      <td>96.000000</td>\n",
       "    </tr>\n",
       "    <tr>\n",
       "      <th>mean</th>\n",
       "      <td>1.158438</td>\n",
       "      <td>0.053958</td>\n",
       "      <td>-0.064896</td>\n",
       "      <td>0.147396</td>\n",
       "      <td>0.049271</td>\n",
       "      <td>0.012604</td>\n",
       "    </tr>\n",
       "    <tr>\n",
       "      <th>std</th>\n",
       "      <td>3.579997</td>\n",
       "      <td>2.296530</td>\n",
       "      <td>2.199398</td>\n",
       "      <td>1.551005</td>\n",
       "      <td>1.408406</td>\n",
       "      <td>0.022583</td>\n",
       "    </tr>\n",
       "    <tr>\n",
       "      <th>min</th>\n",
       "      <td>-7.890000</td>\n",
       "      <td>-4.550000</td>\n",
       "      <td>-4.500000</td>\n",
       "      <td>-3.990000</td>\n",
       "      <td>-3.330000</td>\n",
       "      <td>0.000000</td>\n",
       "    </tr>\n",
       "    <tr>\n",
       "      <th>25%</th>\n",
       "      <td>-0.917500</td>\n",
       "      <td>-1.600000</td>\n",
       "      <td>-1.512500</td>\n",
       "      <td>-1.032500</td>\n",
       "      <td>-0.962500</td>\n",
       "      <td>0.000000</td>\n",
       "    </tr>\n",
       "    <tr>\n",
       "      <th>50%</th>\n",
       "      <td>1.235000</td>\n",
       "      <td>0.180000</td>\n",
       "      <td>-0.295000</td>\n",
       "      <td>0.155000</td>\n",
       "      <td>-0.015000</td>\n",
       "      <td>0.000000</td>\n",
       "    </tr>\n",
       "    <tr>\n",
       "      <th>75%</th>\n",
       "      <td>3.190000</td>\n",
       "      <td>1.505000</td>\n",
       "      <td>1.140000</td>\n",
       "      <td>1.145000</td>\n",
       "      <td>0.920000</td>\n",
       "      <td>0.010000</td>\n",
       "    </tr>\n",
       "    <tr>\n",
       "      <th>max</th>\n",
       "      <td>11.350000</td>\n",
       "      <td>6.810000</td>\n",
       "      <td>8.290000</td>\n",
       "      <td>3.480000</td>\n",
       "      <td>3.700000</td>\n",
       "      <td>0.090000</td>\n",
       "    </tr>\n",
       "  </tbody>\n",
       "</table>\n",
       "</div>"
      ],
      "text/plain": [
       "          Mkt-RF        SMB        HML        RMW        CMA         RF\n",
       "count  96.000000  96.000000  96.000000  96.000000  96.000000  96.000000\n",
       "mean    1.158438   0.053958  -0.064896   0.147396   0.049271   0.012604\n",
       "std     3.579997   2.296530   2.199398   1.551005   1.408406   0.022583\n",
       "min    -7.890000  -4.550000  -4.500000  -3.990000  -3.330000   0.000000\n",
       "25%    -0.917500  -1.600000  -1.512500  -1.032500  -0.962500   0.000000\n",
       "50%     1.235000   0.180000  -0.295000   0.155000  -0.015000   0.000000\n",
       "75%     3.190000   1.505000   1.140000   1.145000   0.920000   0.010000\n",
       "max    11.350000   6.810000   8.290000   3.480000   3.700000   0.090000"
      ]
     },
     "execution_count": 5,
     "metadata": {},
     "output_type": "execute_result"
    }
   ],
   "source": [
    "ff_factor_data.describe()"
   ]
  },
  {
   "cell_type": "markdown",
   "metadata": {},
   "source": [
    "### Portfolios"
   ]
  },
  {
   "cell_type": "markdown",
   "metadata": {},
   "source": [
    "Fama and French also make available numerous portfolios that we can illustrate the estimation of the factor exposures, as well as the value of the risk premia available in the market for a given time period. We will use a panel of the 17 industry portfolios at a monthly frequency. \n",
    "\n",
    "We will subtract the risk-free rate from the returns because the factor model works with excess returns:"
   ]
  },
  {
   "cell_type": "code",
   "execution_count": 6,
   "metadata": {
    "ExecuteTime": {
     "end_time": "2020-06-17T18:12:11.129492Z",
     "start_time": "2020-06-17T18:12:10.623727Z"
    }
   },
   "outputs": [
    {
     "name": "stdout",
     "output_type": "stream",
     "text": [
      "<class 'pandas.core.frame.DataFrame'>\n",
      "PeriodIndex: 96 entries, 2010-01 to 2017-12\n",
      "Freq: M\n",
      "Data columns (total 17 columns):\n",
      " #   Column  Non-Null Count  Dtype  \n",
      "---  ------  --------------  -----  \n",
      " 0   Food    96 non-null     float64\n",
      " 1   Mines   96 non-null     float64\n",
      " 2   Oil     96 non-null     float64\n",
      " 3   Clths   96 non-null     float64\n",
      " 4   Durbl   96 non-null     float64\n",
      " 5   Chems   96 non-null     float64\n",
      " 6   Cnsum   96 non-null     float64\n",
      " 7   Cnstr   96 non-null     float64\n",
      " 8   Steel   96 non-null     float64\n",
      " 9   FabPr   96 non-null     float64\n",
      " 10  Machn   96 non-null     float64\n",
      " 11  Cars    96 non-null     float64\n",
      " 12  Trans   96 non-null     float64\n",
      " 13  Utils   96 non-null     float64\n",
      " 14  Rtail   96 non-null     float64\n",
      " 15  Finan   96 non-null     float64\n",
      " 16  Other   96 non-null     float64\n",
      "dtypes: float64(17)\n",
      "memory usage: 13.5 KB\n"
     ]
    }
   ],
   "source": [
    "ff_portfolio = '17_Industry_Portfolios'\n",
    "ff_portfolio_data = web.DataReader(ff_portfolio, 'famafrench', start='2010', end='2017-12')[0]\n",
    "ff_portfolio_data = ff_portfolio_data.sub(ff_factor_data.RF, axis=0)\n",
    "ff_portfolio_data.info()"
   ]
  },
  {
   "cell_type": "code",
   "execution_count": 7,
   "metadata": {
    "ExecuteTime": {
     "end_time": "2020-06-17T18:12:11.258222Z",
     "start_time": "2020-06-17T18:12:11.135101Z"
    }
   },
   "outputs": [
    {
     "data": {
      "text/html": [
       "<div>\n",
       "<style scoped>\n",
       "    .dataframe tbody tr th:only-of-type {\n",
       "        vertical-align: middle;\n",
       "    }\n",
       "\n",
       "    .dataframe tbody tr th {\n",
       "        vertical-align: top;\n",
       "    }\n",
       "\n",
       "    .dataframe thead th {\n",
       "        text-align: right;\n",
       "    }\n",
       "</style>\n",
       "<table border=\"1\" class=\"dataframe\">\n",
       "  <thead>\n",
       "    <tr style=\"text-align: right;\">\n",
       "      <th></th>\n",
       "      <th>Food</th>\n",
       "      <th>Mines</th>\n",
       "      <th>Oil</th>\n",
       "      <th>Clths</th>\n",
       "      <th>Durbl</th>\n",
       "      <th>Chems</th>\n",
       "      <th>Cnsum</th>\n",
       "      <th>Cnstr</th>\n",
       "      <th>Steel</th>\n",
       "      <th>FabPr</th>\n",
       "      <th>Machn</th>\n",
       "      <th>Cars</th>\n",
       "      <th>Trans</th>\n",
       "      <th>Utils</th>\n",
       "      <th>Rtail</th>\n",
       "      <th>Finan</th>\n",
       "      <th>Other</th>\n",
       "    </tr>\n",
       "  </thead>\n",
       "  <tbody>\n",
       "    <tr>\n",
       "      <th>count</th>\n",
       "      <td>96.000000</td>\n",
       "      <td>96.000000</td>\n",
       "      <td>96.000000</td>\n",
       "      <td>96.000000</td>\n",
       "      <td>96.000000</td>\n",
       "      <td>96.000000</td>\n",
       "      <td>96.000000</td>\n",
       "      <td>96.000000</td>\n",
       "      <td>96.000000</td>\n",
       "      <td>96.000000</td>\n",
       "      <td>96.000000</td>\n",
       "      <td>96.000000</td>\n",
       "      <td>96.000000</td>\n",
       "      <td>96.000000</td>\n",
       "      <td>96.000000</td>\n",
       "      <td>96.000000</td>\n",
       "      <td>96.000000</td>\n",
       "    </tr>\n",
       "    <tr>\n",
       "      <th>mean</th>\n",
       "      <td>1.045625</td>\n",
       "      <td>0.203229</td>\n",
       "      <td>0.547917</td>\n",
       "      <td>1.396979</td>\n",
       "      <td>1.154896</td>\n",
       "      <td>1.303438</td>\n",
       "      <td>1.136250</td>\n",
       "      <td>1.731250</td>\n",
       "      <td>0.555625</td>\n",
       "      <td>1.351042</td>\n",
       "      <td>1.227604</td>\n",
       "      <td>1.278854</td>\n",
       "      <td>1.465521</td>\n",
       "      <td>0.891250</td>\n",
       "      <td>1.234375</td>\n",
       "      <td>1.243646</td>\n",
       "      <td>1.281979</td>\n",
       "    </tr>\n",
       "    <tr>\n",
       "      <th>std</th>\n",
       "      <td>2.795857</td>\n",
       "      <td>7.902683</td>\n",
       "      <td>5.577552</td>\n",
       "      <td>5.025167</td>\n",
       "      <td>5.137095</td>\n",
       "      <td>5.594722</td>\n",
       "      <td>3.174283</td>\n",
       "      <td>5.246562</td>\n",
       "      <td>7.389824</td>\n",
       "      <td>4.694688</td>\n",
       "      <td>4.811242</td>\n",
       "      <td>5.718887</td>\n",
       "      <td>4.151203</td>\n",
       "      <td>3.237306</td>\n",
       "      <td>3.508655</td>\n",
       "      <td>4.808350</td>\n",
       "      <td>3.710443</td>\n",
       "    </tr>\n",
       "    <tr>\n",
       "      <th>min</th>\n",
       "      <td>-5.170000</td>\n",
       "      <td>-24.380000</td>\n",
       "      <td>-12.010000</td>\n",
       "      <td>-10.000000</td>\n",
       "      <td>-13.210000</td>\n",
       "      <td>-17.390000</td>\n",
       "      <td>-7.300000</td>\n",
       "      <td>-13.960000</td>\n",
       "      <td>-20.490000</td>\n",
       "      <td>-11.960000</td>\n",
       "      <td>-9.080000</td>\n",
       "      <td>-11.650000</td>\n",
       "      <td>-8.560000</td>\n",
       "      <td>-6.990000</td>\n",
       "      <td>-9.180000</td>\n",
       "      <td>-11.020000</td>\n",
       "      <td>-7.920000</td>\n",
       "    </tr>\n",
       "    <tr>\n",
       "      <th>25%</th>\n",
       "      <td>-0.785000</td>\n",
       "      <td>-5.832500</td>\n",
       "      <td>-3.167500</td>\n",
       "      <td>-1.865000</td>\n",
       "      <td>-2.017500</td>\n",
       "      <td>-1.445000</td>\n",
       "      <td>-0.920000</td>\n",
       "      <td>-2.462500</td>\n",
       "      <td>-4.410000</td>\n",
       "      <td>-1.447500</td>\n",
       "      <td>-2.047500</td>\n",
       "      <td>-1.245000</td>\n",
       "      <td>-0.880000</td>\n",
       "      <td>-0.745000</td>\n",
       "      <td>-0.962500</td>\n",
       "      <td>-1.447500</td>\n",
       "      <td>-1.067500</td>\n",
       "    </tr>\n",
       "    <tr>\n",
       "      <th>50%</th>\n",
       "      <td>0.930000</td>\n",
       "      <td>-0.415000</td>\n",
       "      <td>1.040000</td>\n",
       "      <td>1.160000</td>\n",
       "      <td>1.205000</td>\n",
       "      <td>1.435000</td>\n",
       "      <td>1.470000</td>\n",
       "      <td>2.190000</td>\n",
       "      <td>0.660000</td>\n",
       "      <td>1.485000</td>\n",
       "      <td>1.545000</td>\n",
       "      <td>0.645000</td>\n",
       "      <td>1.505000</td>\n",
       "      <td>1.215000</td>\n",
       "      <td>0.880000</td>\n",
       "      <td>1.940000</td>\n",
       "      <td>1.575000</td>\n",
       "    </tr>\n",
       "    <tr>\n",
       "      <th>75%</th>\n",
       "      <td>3.187500</td>\n",
       "      <td>5.707500</td>\n",
       "      <td>3.915000</td>\n",
       "      <td>3.857500</td>\n",
       "      <td>4.315000</td>\n",
       "      <td>4.442500</td>\n",
       "      <td>3.317500</td>\n",
       "      <td>5.390000</td>\n",
       "      <td>4.220000</td>\n",
       "      <td>3.875000</td>\n",
       "      <td>4.657500</td>\n",
       "      <td>4.802500</td>\n",
       "      <td>4.227500</td>\n",
       "      <td>2.965000</td>\n",
       "      <td>3.355000</td>\n",
       "      <td>4.052500</td>\n",
       "      <td>3.517500</td>\n",
       "    </tr>\n",
       "    <tr>\n",
       "      <th>max</th>\n",
       "      <td>6.670000</td>\n",
       "      <td>21.920000</td>\n",
       "      <td>16.300000</td>\n",
       "      <td>17.200000</td>\n",
       "      <td>16.580000</td>\n",
       "      <td>18.370000</td>\n",
       "      <td>8.290000</td>\n",
       "      <td>15.550000</td>\n",
       "      <td>21.350000</td>\n",
       "      <td>17.660000</td>\n",
       "      <td>14.650000</td>\n",
       "      <td>20.860000</td>\n",
       "      <td>13.160000</td>\n",
       "      <td>7.900000</td>\n",
       "      <td>12.360000</td>\n",
       "      <td>13.430000</td>\n",
       "      <td>10.790000</td>\n",
       "    </tr>\n",
       "  </tbody>\n",
       "</table>\n",
       "</div>"
      ],
      "text/plain": [
       "           Food       Mines      Oil        Clths      Durbl      Chems  \\\n",
       "count  96.000000  96.000000  96.000000  96.000000  96.000000  96.000000   \n",
       "mean    1.045625   0.203229   0.547917   1.396979   1.154896   1.303438   \n",
       "std     2.795857   7.902683   5.577552   5.025167   5.137095   5.594722   \n",
       "min    -5.170000 -24.380000 -12.010000 -10.000000 -13.210000 -17.390000   \n",
       "25%    -0.785000  -5.832500  -3.167500  -1.865000  -2.017500  -1.445000   \n",
       "50%     0.930000  -0.415000   1.040000   1.160000   1.205000   1.435000   \n",
       "75%     3.187500   5.707500   3.915000   3.857500   4.315000   4.442500   \n",
       "max     6.670000  21.920000  16.300000  17.200000  16.580000  18.370000   \n",
       "\n",
       "           Cnsum      Cnstr      Steel      FabPr      Machn      Cars   \\\n",
       "count  96.000000  96.000000  96.000000  96.000000  96.000000  96.000000   \n",
       "mean    1.136250   1.731250   0.555625   1.351042   1.227604   1.278854   \n",
       "std     3.174283   5.246562   7.389824   4.694688   4.811242   5.718887   \n",
       "min    -7.300000 -13.960000 -20.490000 -11.960000  -9.080000 -11.650000   \n",
       "25%    -0.920000  -2.462500  -4.410000  -1.447500  -2.047500  -1.245000   \n",
       "50%     1.470000   2.190000   0.660000   1.485000   1.545000   0.645000   \n",
       "75%     3.317500   5.390000   4.220000   3.875000   4.657500   4.802500   \n",
       "max     8.290000  15.550000  21.350000  17.660000  14.650000  20.860000   \n",
       "\n",
       "           Trans      Utils      Rtail      Finan      Other  \n",
       "count  96.000000  96.000000  96.000000  96.000000  96.000000  \n",
       "mean    1.465521   0.891250   1.234375   1.243646   1.281979  \n",
       "std     4.151203   3.237306   3.508655   4.808350   3.710443  \n",
       "min    -8.560000  -6.990000  -9.180000 -11.020000  -7.920000  \n",
       "25%    -0.880000  -0.745000  -0.962500  -1.447500  -1.067500  \n",
       "50%     1.505000   1.215000   0.880000   1.940000   1.575000  \n",
       "75%     4.227500   2.965000   3.355000   4.052500   3.517500  \n",
       "max    13.160000   7.900000  12.360000  13.430000  10.790000  "
      ]
     },
     "execution_count": 7,
     "metadata": {},
     "output_type": "execute_result"
    }
   ],
   "source": [
    "ff_portfolio_data.describe()"
   ]
  },
  {
   "cell_type": "markdown",
   "metadata": {},
   "source": [
    "### Equity Data"
   ]
  },
  {
   "cell_type": "code",
   "execution_count": 8,
   "metadata": {
    "ExecuteTime": {
     "end_time": "2020-06-17T18:12:19.665692Z",
     "start_time": "2020-06-17T18:12:11.263152Z"
    }
   },
   "outputs": [],
   "source": [
    "with pd.HDFStore('../data/assets.h5') as store:\n",
    "    prices = store['/quandl/wiki/prices'].adj_close.unstack().loc['2010':'2017']\n",
    "    equities = store['/us_equities/stocks'].drop_duplicates()"
   ]
  },
  {
   "cell_type": "code",
   "execution_count": 9,
   "metadata": {
    "ExecuteTime": {
     "end_time": "2020-06-17T18:12:19.777005Z",
     "start_time": "2020-06-17T18:12:19.667038Z"
    }
   },
   "outputs": [],
   "source": [
    "sectors = equities.filter(prices.columns, axis=0).sector.to_dict()\n",
    "prices = prices.filter(sectors.keys()).dropna(how='all', axis=1)"
   ]
  },
  {
   "cell_type": "code",
   "execution_count": 10,
   "metadata": {
    "ExecuteTime": {
     "end_time": "2020-06-17T18:12:19.981624Z",
     "start_time": "2020-06-17T18:12:19.783931Z"
    }
   },
   "outputs": [
    {
     "name": "stdout",
     "output_type": "stream",
     "text": [
      "<class 'pandas.core.frame.DataFrame'>\n",
      "PeriodIndex: 95 entries, 2010-02 to 2017-12\n",
      "Freq: M\n",
      "Columns: 1986 entries, A to ZUMZ\n",
      "dtypes: float64(1986)\n",
      "memory usage: 1.4 MB\n"
     ]
    }
   ],
   "source": [
    "returns = prices.resample('M').last().pct_change().mul(100).to_period('M')\n",
    "returns = returns.dropna(how='all').dropna(axis=1)\n",
    "returns.info()"
   ]
  },
  {
   "cell_type": "markdown",
   "metadata": {},
   "source": [
    "### Align data"
   ]
  },
  {
   "cell_type": "code",
   "execution_count": 11,
   "metadata": {
    "ExecuteTime": {
     "end_time": "2020-06-17T18:12:19.991602Z",
     "start_time": "2020-06-17T18:12:19.986267Z"
    }
   },
   "outputs": [],
   "source": [
    "ff_factor_data = ff_factor_data.loc[returns.index]\n",
    "ff_portfolio_data = ff_portfolio_data.loc[returns.index]"
   ]
  },
  {
   "cell_type": "code",
   "execution_count": 12,
   "metadata": {
    "ExecuteTime": {
     "end_time": "2020-06-17T18:12:20.059887Z",
     "start_time": "2020-06-17T18:12:19.996970Z"
    }
   },
   "outputs": [
    {
     "data": {
      "text/html": [
       "<div>\n",
       "<style scoped>\n",
       "    .dataframe tbody tr th:only-of-type {\n",
       "        vertical-align: middle;\n",
       "    }\n",
       "\n",
       "    .dataframe tbody tr th {\n",
       "        vertical-align: top;\n",
       "    }\n",
       "\n",
       "    .dataframe thead th {\n",
       "        text-align: right;\n",
       "    }\n",
       "</style>\n",
       "<table border=\"1\" class=\"dataframe\">\n",
       "  <thead>\n",
       "    <tr style=\"text-align: right;\">\n",
       "      <th></th>\n",
       "      <th>Mkt-RF</th>\n",
       "      <th>SMB</th>\n",
       "      <th>HML</th>\n",
       "      <th>RMW</th>\n",
       "      <th>CMA</th>\n",
       "      <th>RF</th>\n",
       "    </tr>\n",
       "  </thead>\n",
       "  <tbody>\n",
       "    <tr>\n",
       "      <th>count</th>\n",
       "      <td>95.000000</td>\n",
       "      <td>95.000000</td>\n",
       "      <td>95.000000</td>\n",
       "      <td>95.000000</td>\n",
       "      <td>95.000000</td>\n",
       "      <td>95.000000</td>\n",
       "    </tr>\n",
       "    <tr>\n",
       "      <th>mean</th>\n",
       "      <td>1.206000</td>\n",
       "      <td>0.051474</td>\n",
       "      <td>-0.068737</td>\n",
       "      <td>0.163579</td>\n",
       "      <td>0.044947</td>\n",
       "      <td>0.012737</td>\n",
       "    </tr>\n",
       "    <tr>\n",
       "      <th>std</th>\n",
       "      <td>3.568367</td>\n",
       "      <td>2.308583</td>\n",
       "      <td>2.210743</td>\n",
       "      <td>1.551063</td>\n",
       "      <td>1.415237</td>\n",
       "      <td>0.022665</td>\n",
       "    </tr>\n",
       "    <tr>\n",
       "      <th>min</th>\n",
       "      <td>-7.890000</td>\n",
       "      <td>-4.550000</td>\n",
       "      <td>-4.500000</td>\n",
       "      <td>-3.990000</td>\n",
       "      <td>-3.330000</td>\n",
       "      <td>0.000000</td>\n",
       "    </tr>\n",
       "    <tr>\n",
       "      <th>25%</th>\n",
       "      <td>-0.565000</td>\n",
       "      <td>-1.610000</td>\n",
       "      <td>-1.535000</td>\n",
       "      <td>-0.955000</td>\n",
       "      <td>-0.975000</td>\n",
       "      <td>0.000000</td>\n",
       "    </tr>\n",
       "    <tr>\n",
       "      <th>50%</th>\n",
       "      <td>1.290000</td>\n",
       "      <td>0.150000</td>\n",
       "      <td>-0.300000</td>\n",
       "      <td>0.170000</td>\n",
       "      <td>-0.020000</td>\n",
       "      <td>0.000000</td>\n",
       "    </tr>\n",
       "    <tr>\n",
       "      <th>75%</th>\n",
       "      <td>3.260000</td>\n",
       "      <td>1.550000</td>\n",
       "      <td>1.140000</td>\n",
       "      <td>1.160000</td>\n",
       "      <td>0.930000</td>\n",
       "      <td>0.010000</td>\n",
       "    </tr>\n",
       "    <tr>\n",
       "      <th>max</th>\n",
       "      <td>11.350000</td>\n",
       "      <td>6.810000</td>\n",
       "      <td>8.290000</td>\n",
       "      <td>3.480000</td>\n",
       "      <td>3.700000</td>\n",
       "      <td>0.090000</td>\n",
       "    </tr>\n",
       "  </tbody>\n",
       "</table>\n",
       "</div>"
      ],
      "text/plain": [
       "          Mkt-RF        SMB        HML        RMW        CMA         RF\n",
       "count  95.000000  95.000000  95.000000  95.000000  95.000000  95.000000\n",
       "mean    1.206000   0.051474  -0.068737   0.163579   0.044947   0.012737\n",
       "std     3.568367   2.308583   2.210743   1.551063   1.415237   0.022665\n",
       "min    -7.890000  -4.550000  -4.500000  -3.990000  -3.330000   0.000000\n",
       "25%    -0.565000  -1.610000  -1.535000  -0.955000  -0.975000   0.000000\n",
       "50%     1.290000   0.150000  -0.300000   0.170000  -0.020000   0.000000\n",
       "75%     3.260000   1.550000   1.140000   1.160000   0.930000   0.010000\n",
       "max    11.350000   6.810000   8.290000   3.480000   3.700000   0.090000"
      ]
     },
     "execution_count": 12,
     "metadata": {},
     "output_type": "execute_result"
    }
   ],
   "source": [
    "ff_factor_data.describe()"
   ]
  },
  {
   "cell_type": "markdown",
   "metadata": {},
   "source": [
    "### Compute excess Returns"
   ]
  },
  {
   "cell_type": "code",
   "execution_count": 13,
   "metadata": {
    "ExecuteTime": {
     "end_time": "2020-06-17T18:12:20.200403Z",
     "start_time": "2020-06-17T18:12:20.064500Z"
    }
   },
   "outputs": [
    {
     "name": "stdout",
     "output_type": "stream",
     "text": [
      "<class 'pandas.core.frame.DataFrame'>\n",
      "PeriodIndex: 95 entries, 2010-02 to 2017-12\n",
      "Freq: M\n",
      "Columns: 1986 entries, A to ZUMZ\n",
      "dtypes: float64(1986)\n",
      "memory usage: 1.4 MB\n"
     ]
    }
   ],
   "source": [
    "excess_returns = returns.sub(ff_factor_data.RF, axis=0)\n",
    "excess_returns.info()"
   ]
  },
  {
   "cell_type": "code",
   "execution_count": 14,
   "metadata": {
    "ExecuteTime": {
     "end_time": "2020-06-17T18:12:20.239038Z",
     "start_time": "2020-06-17T18:12:20.204947Z"
    }
   },
   "outputs": [],
   "source": [
    "excess_returns = excess_returns.clip(lower=np.percentile(excess_returns, 1),\n",
    "                                     upper=np.percentile(excess_returns, 99))"
   ]
  },
  {
   "cell_type": "markdown",
   "metadata": {},
   "source": [
    "## Fama-Macbeth Regression"
   ]
  },
  {
   "cell_type": "markdown",
   "metadata": {},
   "source": [
    "Given data on risk factors and portfolio returns, it is useful to estimate the portfolio's exposure, that is, how much the risk factors drive portfolio returns, as well as how much the exposure to a given factor is worth, that is, the what market's risk factor premium is. The risk premium then permits to estimate the return for any portfolio provided the factor exposure is known or can be assumed."
   ]
  },
  {
   "cell_type": "code",
   "execution_count": 15,
   "metadata": {
    "ExecuteTime": {
     "end_time": "2020-06-17T18:12:20.267198Z",
     "start_time": "2020-06-17T18:12:20.246337Z"
    }
   },
   "outputs": [
    {
     "name": "stdout",
     "output_type": "stream",
     "text": [
      "<class 'pandas.core.frame.DataFrame'>\n",
      "PeriodIndex: 95 entries, 2010-02 to 2017-12\n",
      "Freq: M\n",
      "Data columns (total 17 columns):\n",
      " #   Column  Non-Null Count  Dtype  \n",
      "---  ------  --------------  -----  \n",
      " 0   Food    95 non-null     float64\n",
      " 1   Mines   95 non-null     float64\n",
      " 2   Oil     95 non-null     float64\n",
      " 3   Clths   95 non-null     float64\n",
      " 4   Durbl   95 non-null     float64\n",
      " 5   Chems   95 non-null     float64\n",
      " 6   Cnsum   95 non-null     float64\n",
      " 7   Cnstr   95 non-null     float64\n",
      " 8   Steel   95 non-null     float64\n",
      " 9   FabPr   95 non-null     float64\n",
      " 10  Machn   95 non-null     float64\n",
      " 11  Cars    95 non-null     float64\n",
      " 12  Trans   95 non-null     float64\n",
      " 13  Utils   95 non-null     float64\n",
      " 14  Rtail   95 non-null     float64\n",
      " 15  Finan   95 non-null     float64\n",
      " 16  Other   95 non-null     float64\n",
      "dtypes: float64(17)\n",
      "memory usage: 13.4 KB\n"
     ]
    }
   ],
   "source": [
    "ff_portfolio_data.info()"
   ]
  },
  {
   "cell_type": "code",
   "execution_count": 16,
   "metadata": {
    "ExecuteTime": {
     "end_time": "2020-06-17T18:12:20.293304Z",
     "start_time": "2020-06-17T18:12:20.273422Z"
    }
   },
   "outputs": [
    {
     "name": "stdout",
     "output_type": "stream",
     "text": [
      "<class 'pandas.core.frame.DataFrame'>\n",
      "PeriodIndex: 95 entries, 2010-02 to 2017-12\n",
      "Freq: M\n",
      "Data columns (total 5 columns):\n",
      " #   Column  Non-Null Count  Dtype  \n",
      "---  ------  --------------  -----  \n",
      " 0   Mkt-RF  95 non-null     float64\n",
      " 1   SMB     95 non-null     float64\n",
      " 2   HML     95 non-null     float64\n",
      " 3   RMW     95 non-null     float64\n",
      " 4   CMA     95 non-null     float64\n",
      "dtypes: float64(5)\n",
      "memory usage: 4.5 KB\n"
     ]
    }
   ],
   "source": [
    "ff_factor_data = ff_factor_data.drop('RF', axis=1)\n",
    "ff_factor_data.info()"
   ]
  },
  {
   "cell_type": "markdown",
   "metadata": {},
   "source": [
    "To address the inference problem caused by the correlation of the residuals, Fama and MacBeth proposed a two-step methodology for a cross-sectional regression of returns on factors. The two-stage Fama—Macbeth regression is designed to estimate the premium rewarded for the exposure to a particular risk factor by the market. The two stages consist of:\n",
    "\n",
    "- First stage: N time-series regression, one for each asset or portfolio, of its excess returns on the factors to estimate the factor loadings.\n",
    "\n",
    "- Second stage: T cross-sectional regression, one for each time period, to estimate the risk premium.\n",
    "\n",
    "See corresponding section in Chapter 7 of [Machine Learning for Trading](https://www.amazon.com/Hands-Machine-Learning-Algorithmic-Trading-ebook/dp/B07JLFH7C5/ref=sr_1_2?ie=UTF8&qid=1548455634&sr=8-2&keywords=machine+learning+algorithmic+trading) for details."
   ]
  },
  {
   "cell_type": "markdown",
   "metadata": {},
   "source": [
    "Now we can compute the factor risk premia as the time average and get t-statistic to assess their individual significance, using the assumption that the risk premia estimates are independent over time.\n",
    "\n",
    "If we had a very large and representative data sample on traded risk factors we could use the sample mean as a risk premium estimate. However, we typically do not have a sufficiently long history to and the margin of error around the sample mean could be quite large. \n",
    "\n",
    "The Fama—Macbeth methodology leverages the covariance of the factors with other assets to determine the factor premia. The second moment of asset returns is easier to estimate than the first moment, and obtaining more granular data improves estimation considerably, which is not true of mean estimation."
   ]
  },
  {
   "cell_type": "markdown",
   "metadata": {},
   "source": [
    "### Step 1: Factor Exposures"
   ]
  },
  {
   "cell_type": "markdown",
   "metadata": {},
   "source": [
    "We can implement the first stage to obtain the 17 factor loading estimates as follows:"
   ]
  },
  {
   "cell_type": "code",
   "execution_count": 17,
   "metadata": {
    "ExecuteTime": {
     "end_time": "2020-06-17T18:12:20.550415Z",
     "start_time": "2020-06-17T18:12:20.302417Z"
    }
   },
   "outputs": [],
   "source": [
    "betas = []\n",
    "for industry in ff_portfolio_data:\n",
    "    step1 = OLS(endog=ff_portfolio_data.loc[ff_factor_data.index, industry], \n",
    "                exog=add_constant(ff_factor_data)).fit()\n",
    "    betas.append(step1.params.drop('const'))"
   ]
  },
  {
   "cell_type": "code",
   "execution_count": 18,
   "metadata": {
    "ExecuteTime": {
     "end_time": "2020-06-17T18:12:20.587754Z",
     "start_time": "2020-06-17T18:12:20.564914Z"
    }
   },
   "outputs": [
    {
     "name": "stdout",
     "output_type": "stream",
     "text": [
      "<class 'pandas.core.frame.DataFrame'>\n",
      "Index: 17 entries, Food  to Other\n",
      "Data columns (total 5 columns):\n",
      " #   Column  Non-Null Count  Dtype  \n",
      "---  ------  --------------  -----  \n",
      " 0   Mkt-RF  17 non-null     float64\n",
      " 1   SMB     17 non-null     float64\n",
      " 2   HML     17 non-null     float64\n",
      " 3   RMW     17 non-null     float64\n",
      " 4   CMA     17 non-null     float64\n",
      "dtypes: float64(5)\n",
      "memory usage: 1.4+ KB\n"
     ]
    }
   ],
   "source": [
    "betas = pd.DataFrame(betas, \n",
    "                     columns=ff_factor_data.columns, \n",
    "                     index=ff_portfolio_data.columns)\n",
    "betas.info()"
   ]
  },
  {
   "cell_type": "markdown",
   "metadata": {},
   "source": [
    "### Step 2: Risk Premia"
   ]
  },
  {
   "cell_type": "markdown",
   "metadata": {},
   "source": [
    "For the second stage, we run 96 regressions of the period returns for the cross section of portfolios on the factor loadings"
   ]
  },
  {
   "cell_type": "code",
   "execution_count": 19,
   "metadata": {
    "ExecuteTime": {
     "end_time": "2020-06-17T18:12:20.849956Z",
     "start_time": "2020-06-17T18:12:20.607394Z"
    }
   },
   "outputs": [],
   "source": [
    "lambdas = []\n",
    "for period in ff_portfolio_data.index:\n",
    "    step2 = OLS(endog=ff_portfolio_data.loc[period, betas.index], \n",
    "                exog=betas).fit()\n",
    "    lambdas.append(step2.params)"
   ]
  },
  {
   "cell_type": "code",
   "execution_count": 20,
   "metadata": {
    "ExecuteTime": {
     "end_time": "2020-06-17T18:12:20.911570Z",
     "start_time": "2020-06-17T18:12:20.851517Z"
    }
   },
   "outputs": [
    {
     "name": "stdout",
     "output_type": "stream",
     "text": [
      "<class 'pandas.core.frame.DataFrame'>\n",
      "PeriodIndex: 95 entries, 2010-02 to 2017-12\n",
      "Freq: M\n",
      "Data columns (total 5 columns):\n",
      " #   Column  Non-Null Count  Dtype  \n",
      "---  ------  --------------  -----  \n",
      " 0   Mkt-RF  95 non-null     float64\n",
      " 1   SMB     95 non-null     float64\n",
      " 2   HML     95 non-null     float64\n",
      " 3   RMW     95 non-null     float64\n",
      " 4   CMA     95 non-null     float64\n",
      "dtypes: float64(5)\n",
      "memory usage: 10.2 KB\n"
     ]
    }
   ],
   "source": [
    "lambdas = pd.DataFrame(lambdas, \n",
    "                       index=ff_portfolio_data.index,\n",
    "                       columns=betas.columns.tolist())\n",
    "lambdas.info()"
   ]
  },
  {
   "cell_type": "code",
   "execution_count": 28,
   "metadata": {
    "ExecuteTime": {
     "end_time": "2020-06-17T18:12:31.435381Z",
     "start_time": "2020-06-17T18:12:30.802096Z"
    }
   },
   "outputs": [
    {
     "data": {
      "image/png": "[encoded data removed]",
      "text/plain": [
       "<Figure size 864x288 with 1 Axes>"
      ]
     },
     "metadata": {},
     "output_type": "display_data"
    }
   ],
   "source": [
    "lambdas.mean().sort_values().plot.barh(figsize=(12, 4))\n",
    "sns.despine()\n",
    "plt.tight_layout();"
   ]
  },
  {
   "cell_type": "code",
   "execution_count": 22,
   "metadata": {
    "ExecuteTime": {
     "end_time": "2020-06-17T18:12:21.339451Z",
     "start_time": "2020-06-17T18:12:21.333568Z"
    }
   },
   "outputs": [
    {
     "data": {
      "text/plain": [
       "Mkt-RF    0.342748\n",
       "SMB      -0.011482\n",
       "HML      -0.262373\n",
       "RMW      -0.046212\n",
       "CMA      -0.175708\n",
       "dtype: float64"
      ]
     },
     "execution_count": 22,
     "metadata": {},
     "output_type": "execute_result"
    }
   ],
   "source": [
    "t = lambdas.mean().div(lambdas.std())\n",
    "t"
   ]
  },
  {
   "cell_type": "markdown",
   "metadata": {},
   "source": [
    "#### Results"
   ]
  },
  {
   "cell_type": "code",
   "execution_count": 23,
   "metadata": {
    "ExecuteTime": {
     "end_time": "2020-06-17T18:12:22.213549Z",
     "start_time": "2020-06-17T18:12:21.341315Z"
    },
    "scrolled": false
   },
   "outputs": [
    {
     "data": {
      "image/png": "[encoded data removed]",
      "text/plain": [
       "<Figure size 1008x360 with 2 Axes>"
      ]
     },
     "metadata": {},
     "output_type": "display_data"
    }
   ],
   "source": [
    "window = 24  # months\n",
    "ax1 = plt.subplot2grid((1, 3), (0, 0))\n",
    "ax2 = plt.subplot2grid((1, 3), (0, 1), colspan=2)\n",
    "lambdas.mean().sort_values().plot.barh(ax=ax1)\n",
    "lambdas.rolling(window).mean().dropna().plot(lw=1,\n",
    "                                             figsize=(14, 5),\n",
    "                                             sharey=True,\n",
    "                                             ax=ax2)\n",
    "sns.despine()\n",
    "plt.tight_layout()"
   ]
  },
  {
   "cell_type": "code",
   "execution_count": 24,
   "metadata": {
    "ExecuteTime": {
     "end_time": "2020-06-17T18:12:24.739887Z",
     "start_time": "2020-06-17T18:12:22.214983Z"
    }
   },
   "outputs": [
    {
     "data": {
      "image/png": "[encoded data removed]",
      "text/plain": [
       "<Figure size 1008x504 with 5 Axes>"
      ]
     },
     "metadata": {},
     "output_type": "display_data"
    }
   ],
   "source": [
    "window = 24  # months\n",
    "lambdas.rolling(window).mean().dropna().plot(lw=2,\n",
    "                                             figsize=(14, 7),\n",
    "                                             subplots=True,\n",
    "                                             sharey=True)\n",
    "sns.despine()\n",
    "plt.tight_layout()"
   ]
  },
  {
   "cell_type": "markdown",
   "metadata": {},
   "source": [
    "## Fama-Macbeth with the LinearModels library"
   ]
  },
  {
   "cell_type": "markdown",
   "metadata": {},
   "source": [
    "The linear_models library extends statsmodels with various models for panel data and also implements the two-stage Fama—MacBeth procedure:"
   ]
  },
  {
   "cell_type": "code",
   "execution_count": 25,
   "metadata": {
    "ExecuteTime": {
     "end_time": "2020-06-17T18:12:24.798752Z",
     "start_time": "2020-06-17T18:12:24.741596Z"
    }
   },
   "outputs": [
    {
     "name": "stdout",
     "output_type": "stream",
     "text": [
      "                      LinearFactorModel Estimation Summary                      \n",
      "================================================================================\n",
      "No. Test Portfolios:                 17   R-squared:                      0.6889\n",
      "No. Factors:                          5   J-statistic:                    17.081\n",
      "No. Observations:                    95   P-value                         0.1466\n",
      "Date:                  Wed, Jun 17 2020   Distribution:                 chi2(12)\n",
      "Time:                          14:12:24                                         \n",
      "Cov. Estimator:                  robust                                         \n",
      "                                                                                \n",
      "                            Risk Premia Estimates                             \n",
      "==============================================================================\n",
      "            Parameter  Std. Err.     T-stat    P-value    Lower CI    Upper CI\n",
      "------------------------------------------------------------------------------\n",
      "Mkt-RF         1.2294     0.4076     3.0161     0.0026      0.4305      2.0282\n",
      "SMB           -0.0452     0.8661    -0.0522     0.9584     -1.7427      1.6524\n",
      "HML           -1.0782     0.6886    -1.5658     0.1174     -2.4278      0.2714\n",
      "RMW           -0.1397     0.8304    -0.1682     0.8664     -1.7672      1.4879\n",
      "CMA           -0.6245     0.5075    -1.2305     0.2185     -1.6193      0.3702\n",
      "==============================================================================\n",
      "\n",
      "Covariance estimator:\n",
      "HeteroskedasticCovariance\n",
      "See full_summary for complete results\n"
     ]
    }
   ],
   "source": [
    "mod = LinearFactorModel(portfolios=ff_portfolio_data, \n",
    "                        factors=ff_factor_data)\n",
    "res = mod.fit()\n",
    "print(res)"
   ]
  },
  {
   "cell_type": "code",
   "execution_count": 26,
   "metadata": {
    "ExecuteTime": {
     "end_time": "2020-06-17T18:12:24.931716Z",
     "start_time": "2020-06-17T18:12:24.800766Z"
    },
    "scrolled": false
   },
   "outputs": [
    {
     "name": "stdout",
     "output_type": "stream",
     "text": [
      "                      LinearFactorModel Estimation Summary                      \n",
      "================================================================================\n",
      "No. Test Portfolios:                 17   R-squared:                      0.6889\n",
      "No. Factors:                          5   J-statistic:                    17.081\n",
      "No. Observations:                    95   P-value                         0.1466\n",
      "Date:                  Wed, Jun 17 2020   Distribution:                 chi2(12)\n",
      "Time:                          14:12:24                                         \n",
      "Cov. Estimator:                  robust                                         \n",
      "                                                                                \n",
      "                            Risk Premia Estimates                             \n",
      "==============================================================================\n",
      "            Parameter  Std. Err.     T-stat    P-value    Lower CI    Upper CI\n",
      "------------------------------------------------------------------------------\n",
      "Mkt-RF         1.2294     0.4076     3.0161     0.0026      0.4305      2.0282\n",
      "SMB           -0.0452     0.8661    -0.0522     0.9584     -1.7427      1.6524\n",
      "HML           -1.0782     0.6886    -1.5658     0.1174     -2.4278      0.2714\n",
      "RMW           -0.1397     0.8304    -0.1682     0.8664     -1.7672      1.4879\n",
      "CMA           -0.6245     0.5075    -1.2305     0.2185     -1.6193      0.3702\n",
      "\n",
      "\n",
      "                              Food  Coefficients                              \n",
      "==============================================================================\n",
      "            Parameter  Std. Err.     T-stat    P-value    Lower CI    Upper CI\n",
      "------------------------------------------------------------------------------\n",
      "alpha          0.1945     0.2465     0.7893     0.4300     -0.2885      0.6776\n",
      "Mkt-RF         0.6805     0.0465     14.640     0.0000      0.5894      0.7716\n",
      "SMB           -0.3202     0.1114    -2.8747     1.9960     -0.5385     -0.1019\n",
      "HML           -0.3637     0.1425    -2.5521     1.9893     -0.6429     -0.0844\n",
      "RMW            0.2872     0.1238     2.3206     0.0203      0.0446      0.5298\n",
      "CMA            0.5111     0.1656     3.0866     0.0020      0.1866      0.8357\n",
      "\n",
      "\n",
      "                              Mines Coefficients                              \n",
      "==============================================================================\n",
      "alpha         -0.6552     0.5410    -1.2112     1.7742     -1.7154      0.4051\n",
      "Mkt-RF         1.3028     0.1958     6.6531     0.0000      0.9190      1.6866\n",
      "SMB            0.1932     0.3387     0.5703     0.5685     -0.4707      0.8571\n",
      "HML            0.1731     0.3299     0.5248     0.5997     -0.4735      0.8197\n",
      "RMW            0.1854     0.4360     0.4251     0.6707     -0.6692      1.0400\n",
      "CMA            0.6152     0.5560     1.1065     0.2685     -0.4745      1.7048\n",
      "\n",
      "\n",
      "                              Oil   Coefficients                              \n",
      "==============================================================================\n",
      "alpha          0.1872     0.3456     0.5417     0.5880     -0.4901      0.8645\n",
      "Mkt-RF         1.0568     0.1030     10.260     0.0000      0.8549      1.2587\n",
      "SMB            0.1583     0.1959     0.8080     0.4191     -0.2256      0.5421\n",
      "HML            0.6357     0.2023     3.1421     0.0017      0.2392      1.0322\n",
      "RMW           -0.0678     0.2376    -0.2854     1.2247     -0.5335      0.3979\n",
      "CMA            0.3211     0.2877     1.1162     0.2643     -0.2427      0.8850\n",
      "\n",
      "\n",
      "                              Clths Coefficients                              \n",
      "==============================================================================\n",
      "alpha          0.1910     0.3392     0.5631     0.5734     -0.4738      0.8559\n",
      "Mkt-RF         0.9658     0.1194     8.0897     0.0000      0.7318      1.1998\n",
      "SMB            0.3483     0.1979     1.7601     0.0784     -0.0395      0.7361\n",
      "HML           -0.1947     0.2098    -0.9281     1.6466     -0.6060      0.2165\n",
      "RMW            0.6154     0.2742     2.2438     0.0248      0.0778      1.1529\n",
      "CMA            0.0613     0.3186     0.1925     0.8473     -0.5631      0.6857\n",
      "\n",
      "\n",
      "                              Durbl Coefficients                              \n",
      "==============================================================================\n",
      "alpha         -0.1379     0.3199    -0.4311     1.3336     -0.7650      0.4891\n",
      "Mkt-RF         1.1750     0.0820     14.328     0.0000      1.0143      1.3357\n",
      "SMB            0.5540     0.1164     4.7596     0.0000      0.3258      0.7821\n",
      "HML            0.0557     0.1461     0.3810     0.7032     -0.2307      0.3421\n",
      "RMW            0.5825     0.1865     3.1230     0.0018      0.2169      0.9481\n",
      "CMA           -0.1023     0.2605    -0.3926     1.3054     -0.6128      0.4082\n",
      "\n",
      "\n",
      "                              Chems Coefficients                              \n",
      "==============================================================================\n",
      "alpha         -0.2047     0.3294    -0.6215     1.4657     -0.8503      0.4409\n",
      "Mkt-RF         1.3556     0.1057     12.822     0.0000      1.1483      1.5628\n",
      "SMB            0.1854     0.1491     1.2438     0.2136     -0.1068      0.4776\n",
      "HML            0.2014     0.1458     1.3810     0.1673     -0.0844      0.4873\n",
      "RMW            0.2013     0.1962     1.0256     0.3051     -0.1834      0.5859\n",
      "CMA           -0.2493     0.2646    -0.9422     1.6539     -0.7679      0.2693\n",
      "\n",
      "\n",
      "                              Cnsum Coefficients                              \n",
      "==============================================================================\n",
      "alpha         -0.0568     0.3516    -0.1614     1.1283     -0.7460      0.6324\n",
      "Mkt-RF         0.7597     0.0595     12.758     0.0000      0.6430      0.8764\n",
      "SMB           -0.3357     0.1005    -3.3385     1.9992     -0.5327     -0.1386\n",
      "HML           -0.5766     0.1254    -4.5972     2.0000     -0.8225     -0.3308\n",
      "RMW           -0.0573     0.1311    -0.4369     1.3378     -0.3142      0.1997\n",
      "CMA            0.5912     0.2270     2.6040     0.0092      0.1462      1.0361\n",
      "\n",
      "\n",
      "                              Cnstr Coefficients                              \n",
      "==============================================================================\n",
      "alpha          0.6238     0.4056     1.5381     0.1240     -0.1711      1.4187\n",
      "Mkt-RF         1.1169     0.0810     13.783     0.0000      0.9581      1.2757\n",
      "SMB            0.4488     0.1355     3.3113     0.0009      0.1832      0.7145\n",
      "HML            0.1087     0.1922     0.5656     0.5716     -0.2680      0.4854\n",
      "RMW            0.0112     0.2269     0.0496     0.9605     -0.4335      0.4560\n",
      "CMA            0.1269     0.2446     0.5190     0.6038     -0.3525      0.6064\n",
      "\n",
      "\n",
      "                              Steel Coefficients                              \n",
      "==============================================================================\n",
      "alpha         -0.3524     0.4092    -0.8611     1.6108     -1.1543      0.4496\n",
      "Mkt-RF         1.4669     0.1377     10.653     0.0000      1.1970      1.7368\n",
      "SMB            0.4237     0.2559     1.6558     0.0978     -0.0778      0.9252\n",
      "HML            0.3869     0.2686     1.4408     0.1496     -0.1394      0.9133\n",
      "RMW            0.1577     0.3387     0.4656     0.6415     -0.5062      0.8215\n",
      "CMA            0.4894     0.4269     1.1465     0.2516     -0.3473      1.3261\n",
      "\n",
      "\n",
      "                              FabPr Coefficients                              \n",
      "==============================================================================\n",
      "alpha          0.2138     0.2937     0.7279     0.4666     -0.3619      0.7895\n",
      "Mkt-RF         1.0708     0.0726     14.744     0.0000      0.9285      1.2132\n",
      "SMB            0.4777     0.0978     4.8828     0.0000      0.2860      0.6695\n",
      "HML           -0.0413     0.1107    -0.3733     1.2911     -0.2583      0.1756\n",
      "RMW            0.2073     0.1408     1.4721     0.1410     -0.0687      0.4832\n",
      "CMA            0.2044     0.1875     1.0900     0.2757     -0.1631      0.5718\n",
      "\n",
      "\n",
      "                              Machn Coefficients                              \n",
      "==============================================================================\n",
      "alpha         -0.3277     0.2648    -1.2373     1.7840     -0.8468      0.1914\n",
      "Mkt-RF         1.1909     0.0579     20.577     0.0000      1.0774      1.3043\n",
      "SMB            0.1919     0.1075     1.7840     0.0744     -0.0189      0.4026\n",
      "HML            0.0290     0.1051     0.2761     0.7825     -0.1770      0.2350\n",
      "RMW            0.0855     0.1608     0.5317     0.5949     -0.2297      0.4006\n",
      "CMA           -0.3730     0.1762    -2.1171     1.9657     -0.7182     -0.0277\n",
      "\n",
      "\n",
      "                              Cars  Coefficients                              \n",
      "==============================================================================\n",
      "alpha         -0.0971     0.4014    -0.2419     1.1911     -0.8837      0.6896\n",
      "Mkt-RF         1.1920     0.0992     12.019     0.0000      0.9976      1.3863\n",
      "SMB            0.6099     0.1289     4.7302     0.0000      0.3572      0.8626\n",
      "HML            0.0395     0.1801     0.2195     0.8263     -0.3135      0.3925\n",
      "RMW            0.0840     0.2162     0.3885     0.6977     -0.3397      0.5076\n",
      "CMA           -0.0121     0.2990    -0.0404     1.0322     -0.5980      0.5739\n",
      "\n",
      "\n",
      "                              Trans Coefficients                              \n",
      "==============================================================================\n",
      "alpha          0.5045     0.3353     1.5045     0.1325     -0.1527      1.1617\n",
      "Mkt-RF         1.0229     0.0511     20.031     0.0000      0.9228      1.1230\n",
      "SMB            0.2560     0.1011     2.5315     0.0114      0.0578      0.4542\n",
      "HML            0.0271     0.1203     0.2255     0.8216     -0.2087      0.2630\n",
      "RMW            0.4100     0.1627     2.5195     0.0118      0.0910      0.7289\n",
      "CMA            0.2571     0.1972     1.3034     0.1924     -0.1295      0.6436\n",
      "\n",
      "\n",
      "                              Utils Coefficients                              \n",
      "==============================================================================\n",
      "alpha          0.3702     0.3098     1.1949     0.2321     -0.2370      0.9774\n",
      "Mkt-RF         0.4943     0.0898     5.5048     0.0000      0.3183      0.6703\n",
      "SMB           -0.2607     0.1556    -1.6760     1.9063     -0.5656      0.0442\n",
      "HML           -0.3138     0.1817    -1.7270     1.9158     -0.6700      0.0423\n",
      "RMW            0.1918     0.1931     0.9930     0.3207     -0.1867      0.5703\n",
      "CMA            0.5656     0.3043     1.8585     0.0631     -0.0309      1.1620\n",
      "\n",
      "\n",
      "                              Rtail Coefficients                              \n",
      "==============================================================================\n",
      "alpha         -0.0131     0.2597    -0.0504     1.0402     -0.5222      0.4960\n",
      "Mkt-RF         0.8990     0.0687     13.080     0.0000      0.7643      1.0338\n",
      "SMB            0.1193     0.1008     1.1830     0.2368     -0.0783      0.3169\n",
      "HML           -0.3969     0.1270    -3.1259     1.9982     -0.6457     -0.1480\n",
      "RMW            0.6846     0.1620     4.2270     0.0000      0.3672      1.0020\n",
      "CMA            0.2530     0.1744     1.4505     0.1469     -0.0889      0.5949\n",
      "\n",
      "\n",
      "                              Finan Coefficients                              \n",
      "==============================================================================\n",
      "alpha          0.3660     0.3752     0.9753     0.3294     -0.3695      1.1014\n",
      "Mkt-RF         1.0636     0.0431     24.663     0.0000      0.9791      1.1481\n",
      "SMB            0.0784     0.0848     0.9245     0.3552     -0.0879      0.2447\n",
      "HML            0.7566     0.0876     8.6346     0.0000      0.5848      0.9283\n",
      "RMW           -0.4360     0.1060    -4.1139     2.0000     -0.6437     -0.2283\n",
      "CMA           -0.5669     0.1145    -4.9525     2.0000     -0.7912     -0.3425\n",
      "\n",
      "\n",
      "                              Other Coefficients                              \n",
      "==============================================================================\n",
      "alpha         -0.1515     0.2289    -0.6619     1.4919     -0.6002      0.2972\n",
      "Mkt-RF         1.0410     0.0247     42.160     0.0000      0.9926      1.0894\n",
      "SMB           -0.1154     0.0397    -2.9037     1.9963     -0.1932     -0.0375\n",
      "HML           -0.1958     0.0385    -5.0838     2.0000     -0.2713     -0.1203\n",
      "RMW           -0.0669     0.0625    -1.0700     1.7154     -0.1894      0.0556\n",
      "CMA            0.0125     0.0658     0.1894     0.8498     -0.1166      0.1415\n",
      "==============================================================================\n",
      "\n",
      "Covariance estimator:\n",
      "HeteroskedasticCovariance\n",
      "See full_summary for complete results\n"
     ]
    }
   ],
   "source": [
    "print(res.full_summary)"
   ]
  },
  {
   "cell_type": "markdown",
   "metadata": {},
   "source": [
    "This provides us with the same result:"
   ]
  },
  {
   "cell_type": "code",
   "execution_count": 27,
   "metadata": {
    "ExecuteTime": {
     "end_time": "2020-06-17T18:12:24.942021Z",
     "start_time": "2020-06-17T18:12:24.933661Z"
    }
   },
   "outputs": [
    {
     "data": {
      "text/plain": [
       "Mkt-RF    1.229358\n",
       "SMB      -0.045169\n",
       "HML      -1.078180\n",
       "RMW      -0.139674\n",
       "CMA      -0.624548\n",
       "dtype: float64"
      ]
     },
     "execution_count": 27,
     "metadata": {},
     "output_type": "execute_result"
    }
   ],
   "source": [
    "lambdas.mean()"
   ]
  }
 ],
 "metadata": {
  "kernelspec": {
   "display_name": "Python 3 (ipykernel)",
   "language": "python",
   "name": "python3"
  },
  "language_info": {
   "codemirror_mode": {
    "name": "ipython",
    "version": 3
   },
   "file_extension": ".py",
   "mimetype": "text/x-python",
   "name": "python",
   "nbconvert_exporter": "python",
   "pygments_lexer": "ipython3",
   "version": "3.7.9"
  },
  "toc": {
   "base_numbering": 1,
   "nav_menu": {},
   "number_sections": true,
   "sideBar": true,
   "skip_h1_title": true,
   "title_cell": "Table of Contents",
   "title_sidebar": "Contents",
   "toc_cell": false,
   "toc_position": {},
   "toc_section_display": true,
   "toc_window_display": true
  }
 },
 "nbformat": 4,
 "nbformat_minor": 2
}
